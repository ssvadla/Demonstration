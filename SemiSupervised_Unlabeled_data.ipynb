{
  "nbformat": 4,
  "nbformat_minor": 0,
  "metadata": {
    "colab": {
      "name": "SemiSupervised_Unlabeled_data.ipynb",
      "provenance": [],
      "collapsed_sections": [],
      "include_colab_link": true
    },
    "kernelspec": {
      "name": "python3",
      "display_name": "Python 3"
    },
    "language_info": {
      "name": "python"
    }
  },
  "cells": [
    {
      "cell_type": "markdown",
      "metadata": {
        "id": "view-in-github",
        "colab_type": "text"
      },
      "source": [
        "<a href=\"https://colab.research.google.com/github/ssvadla/Demonstration/blob/main/SemiSupervised_Unlabeled_data.ipynb\" target=\"_parent\"><img src=\"https://colab.research.google.com/assets/colab-badge.svg\" alt=\"Open In Colab\"/></a>"
      ]
    },
    {
      "cell_type": "code",
      "metadata": {
        "colab": {
          "base_uri": "https://localhost:8080/",
          "height": 221
        },
        "id": "1GP6iq3sv3l7",
        "outputId": "1f459b6e-0ba9-43b9-e383-b5d074bb7216"
      },
      "source": [
        "import pandas as pd\n",
        "from google.colab import drive\n",
        "\n",
        "drive.mount('/content/drive')\n",
        "\n",
        "train = pd.read_csv('/content/drive/My Drive/Research/train_data1.csv')\n",
        "train.head()"
      ],
      "execution_count": null,
      "outputs": [
        {
          "output_type": "stream",
          "text": [
            "Drive already mounted at /content/drive; to attempt to forcibly remount, call drive.mount(\"/content/drive\", force_remount=True).\n"
          ],
          "name": "stdout"
        },
        {
          "output_type": "execute_result",
          "data": {
            "text/html": [
              "<div>\n",
              "<style scoped>\n",
              "    .dataframe tbody tr th:only-of-type {\n",
              "        vertical-align: middle;\n",
              "    }\n",
              "\n",
              "    .dataframe tbody tr th {\n",
              "        vertical-align: top;\n",
              "    }\n",
              "\n",
              "    .dataframe thead th {\n",
              "        text-align: right;\n",
              "    }\n",
              "</style>\n",
              "<table border=\"1\" class=\"dataframe\">\n",
              "  <thead>\n",
              "    <tr style=\"text-align: right;\">\n",
              "      <th></th>\n",
              "      <th>Unnamed: 0</th>\n",
              "      <th>Sentence</th>\n",
              "      <th>Target</th>\n",
              "    </tr>\n",
              "  </thead>\n",
              "  <tbody>\n",
              "    <tr>\n",
              "      <th>0</th>\n",
              "      <td>659</td>\n",
              "      <td>Appellant had stated to the officers that she ...</td>\n",
              "      <td>Invalid</td>\n",
              "    </tr>\n",
              "    <tr>\n",
              "      <th>1</th>\n",
              "      <td>3456</td>\n",
              "      <td>We shall discuss the facts more fully in conne...</td>\n",
              "      <td>Others</td>\n",
              "    </tr>\n",
              "    <tr>\n",
              "      <th>2</th>\n",
              "      <td>2043</td>\n",
              "      <td>â€œPerjury is a false statement, either writte...</td>\n",
              "      <td>Invalid</td>\n",
              "    </tr>\n",
              "    <tr>\n",
              "      <th>3</th>\n",
              "      <td>3344</td>\n",
              "      <td>The offense is felony theft by false pretext; ...</td>\n",
              "      <td>Issue</td>\n",
              "    </tr>\n",
              "    <tr>\n",
              "      <th>4</th>\n",
              "      <td>3231</td>\n",
              "      <td>Numerous contentions urging the commission of ...</td>\n",
              "      <td>Issue</td>\n",
              "    </tr>\n",
              "  </tbody>\n",
              "</table>\n",
              "</div>"
            ],
            "text/plain": [
              "   Unnamed: 0                                           Sentence   Target\n",
              "0         659  Appellant had stated to the officers that she ...  Invalid\n",
              "1        3456  We shall discuss the facts more fully in conne...   Others\n",
              "2        2043  â€œPerjury is a false statement, either writte...  Invalid\n",
              "3        3344  The offense is felony theft by false pretext; ...    Issue\n",
              "4        3231  Numerous contentions urging the commission of ...    Issue"
            ]
          },
          "metadata": {
            "tags": []
          },
          "execution_count": 1
        }
      ]
    },
    {
      "cell_type": "code",
      "metadata": {
        "id": "pf73JTmjfvE4"
      },
      "source": [
        "Threshold= 0.98"
      ],
      "execution_count": null,
      "outputs": []
    },
    {
      "cell_type": "code",
      "metadata": {
        "colab": {
          "base_uri": "https://localhost:8080/"
        },
        "id": "VP6ru-6dv8gX",
        "outputId": "72a910bd-5f8f-45be-b936-76eabd59932b"
      },
      "source": [
        "train['Target'].unique()"
      ],
      "execution_count": null,
      "outputs": [
        {
          "output_type": "execute_result",
          "data": {
            "text/plain": [
              "array(['Invalid', 'Others', 'Issue', 'Analysis', 'Facts', 'Conclusion',\n",
              "       'Rule/Law/Holding'], dtype=object)"
            ]
          },
          "metadata": {
            "tags": []
          },
          "execution_count": 2
        }
      ]
    },
    {
      "cell_type": "code",
      "metadata": {
        "colab": {
          "base_uri": "https://localhost:8080/"
        },
        "id": "EpnQfWugv-jR",
        "outputId": "746a7ac0-cd20-4afb-9ae5-2c3b74764b04"
      },
      "source": [
        "train['Target']=train['Target'].replace(['Others'],'Invalid')\n",
        "train['Target'].unique()"
      ],
      "execution_count": null,
      "outputs": [
        {
          "output_type": "execute_result",
          "data": {
            "text/plain": [
              "array(['Invalid', 'Issue', 'Analysis', 'Facts', 'Conclusion',\n",
              "       'Rule/Law/Holding'], dtype=object)"
            ]
          },
          "metadata": {
            "tags": []
          },
          "execution_count": 3
        }
      ]
    },
    {
      "cell_type": "code",
      "metadata": {
        "colab": {
          "base_uri": "https://localhost:8080/"
        },
        "id": "Ia1kya2vwAvj",
        "outputId": "430f5ab7-480a-4a0c-bcfe-6dc101f258cc"
      },
      "source": [
        "#cleaning\n",
        "import nltk\n",
        "import re\n",
        "import string\n",
        "nltk.download('stopwords')\n",
        "nltk.download('wordnet')\n",
        "stopword=nltk.corpus.stopwords.words('english')\n",
        "from nltk.stem import WordNetLemmatizer\n",
        "wl= WordNetLemmatizer()\n",
        "\n",
        "def clean_text(text):\n",
        "  text=\"\".join([word.lower() for word in text if word not in string.punctuation])\n",
        "  tokens = re.split('\\W+',text)\n",
        "  text = [wl.lemmatize(word) for word in tokens if word not in stopword]\n",
        "  return text"
      ],
      "execution_count": null,
      "outputs": [
        {
          "output_type": "stream",
          "text": [
            "[nltk_data] Downloading package stopwords to /root/nltk_data...\n",
            "[nltk_data]   Package stopwords is already up-to-date!\n",
            "[nltk_data] Downloading package wordnet to /root/nltk_data...\n",
            "[nltk_data]   Package wordnet is already up-to-date!\n"
          ],
          "name": "stdout"
        }
      ]
    },
    {
      "cell_type": "code",
      "metadata": {
        "colab": {
          "base_uri": "https://localhost:8080/"
        },
        "id": "gGIlP5e4wDJW",
        "outputId": "954935d6-0218-4b6c-a7e1-5d5e43618770"
      },
      "source": [
        "from sklearn.feature_extraction.text import TfidfVectorizer\n",
        "\n",
        "tfidf_vect = TfidfVectorizer(analyzer = clean_text)\n",
        "X_tfidf = tfidf_vect.fit_transform(train['Sentence'])\n",
        "print(X_tfidf.shape)"
      ],
      "execution_count": null,
      "outputs": [
        {
          "output_type": "stream",
          "text": [
            "(3476, 6383)\n"
          ],
          "name": "stdout"
        }
      ]
    },
    {
      "cell_type": "code",
      "metadata": {
        "id": "2C9hQTlvXD9f"
      },
      "source": [
        "test = pd.read_csv(r'/content/drive/My Drive/Research/test_data.csv')\n",
        "\n",
        "test['Target']=test['Target'].replace(['Others'],'Invalid')\n",
        "test['Sentence'] = test['Sentence'].apply(lambda x: \" \".join(x.lower() for x in str(x).split()))\n",
        "test['Sentence'] = test['Sentence'].str.replace('[^\\w\\s]','')\n",
        "from nltk.corpus import stopwords\n",
        "words = stopwords.words('english')\n",
        "test['Sentence'] = test['Sentence'].apply(lambda x: \" \".join(x for x in x.split() if x not in words))\n",
        "t_p = tfidf_vect.transform(test['Sentence'])"
      ],
      "execution_count": null,
      "outputs": []
    },
    {
      "cell_type": "code",
      "metadata": {
        "colab": {
          "base_uri": "https://localhost:8080/"
        },
        "id": "h88efrM4wO7g",
        "outputId": "862d3780-f607-45fc-d8ac-4522fdad1aed"
      },
      "source": [
        "import numpy as np\n",
        "from sklearn.datasets import make_classification\n",
        "from sklearn.ensemble import RandomForestClassifier\n",
        "from sklearn.pipeline import make_pipeline\n",
        "from sklearn.model_selection import train_test_split\n",
        "from sklearn.metrics import confusion_matrix\n",
        "from sklearn.base import BaseEstimator, ClassifierMixin\n",
        "from sklearn.metrics import accuracy_score\n",
        "from sklearn.metrics import average_precision_score\n",
        "from sklearn.metrics import precision_score\n",
        "from sklearn.metrics import recall_score\n",
        "from sklearn.metrics import f1_score\n",
        "from sklearn.metrics import cohen_kappa_score\n",
        "from sklearn.metrics import roc_auc_score\n",
        "from sklearn.metrics import confusion_matrix\n",
        "from sklearn.metrics import classification_report\n",
        "\n",
        "\n",
        "\n",
        "X, y = make_classification(random_state=1)\n",
        "\n",
        "X_train, x_val, Y_train, y_val = train_test_split(X_tfidf,train['Target'],test_size=0.26,random_state=42)\n",
        "\n",
        "classifier = RandomForestClassifier(n_estimators = 100, criterion = 'gini', random_state = 42)\n",
        "classifier.fit(X_train, Y_train)\n",
        "y_pred = classifier.predict(x_val)\n",
        "#print(np.unique(y_pred))\n",
        "#print(type(y_pred))\n",
        "\n",
        "Accuracy_score = accuracy_score(y_pred,y_val)\n",
        "\n",
        "print('Validation Accuracy_score: %f' % Accuracy_score)\n",
        "test_pred = classifier.predict(t_p)\n",
        "acc_test = accuracy_score(test_pred,test['Target'])\n",
        "print('Accuracy test data', acc_test)\n",
        "matrix = confusion_matrix(y_pred, y_val)\n",
        "print(matrix)\n"
      ],
      "execution_count": null,
      "outputs": [
        {
          "output_type": "stream",
          "text": [
            "Validation Accuracy_score: 0.664823\n",
            "Accuracy test data 0.6103646833013435\n",
            "[[ 37   5  13   2   2   5]\n",
            " [  0  20   2   1   0   0]\n",
            " [ 71  14 432  49  20  32]\n",
            " [ 15   6  34  76   6   8]\n",
            " [  3   1   2   2  21   4]\n",
            " [  0   0   2   2   2  15]]\n"
          ],
          "name": "stdout"
        }
      ]
    },
    {
      "cell_type": "code",
      "metadata": {
        "id": "VAeEUI5CVUhr"
      },
      "source": [
        ""
      ],
      "execution_count": null,
      "outputs": []
    },
    {
      "cell_type": "code",
      "metadata": {
        "colab": {
          "base_uri": "https://localhost:8080/",
          "height": 204
        },
        "id": "RvKiNdE-pev1",
        "outputId": "0c85ad5d-7487-4cf5-f2b9-d86fa5b1fe8a"
      },
      "source": [
        "\n",
        "unlabel = pd.read_csv(r'/content/drive/My Drive/Research/Unlabeled_data.csv')\n",
        "unlabel.head()\n"
      ],
      "execution_count": null,
      "outputs": [
        {
          "output_type": "execute_result",
          "data": {
            "text/html": [
              "<div>\n",
              "<style scoped>\n",
              "    .dataframe tbody tr th:only-of-type {\n",
              "        vertical-align: middle;\n",
              "    }\n",
              "\n",
              "    .dataframe tbody tr th {\n",
              "        vertical-align: top;\n",
              "    }\n",
              "\n",
              "    .dataframe thead th {\n",
              "        text-align: right;\n",
              "    }\n",
              "</style>\n",
              "<table border=\"1\" class=\"dataframe\">\n",
              "  <thead>\n",
              "    <tr style=\"text-align: right;\">\n",
              "      <th></th>\n",
              "      <th>Unnamed: 0</th>\n",
              "      <th>text</th>\n",
              "      <th>Complete</th>\n",
              "    </tr>\n",
              "  </thead>\n",
              "  <tbody>\n",
              "    <tr>\n",
              "      <th>0</th>\n",
              "      <td>0</td>\n",
              "      <td>No motion for rehearing filed.</td>\n",
              "      <td>1</td>\n",
              "    </tr>\n",
              "    <tr>\n",
              "      <th>1</th>\n",
              "      <td>1</td>\n",
              "      <td>— Relator is under accusation of killing her h...</td>\n",
              "      <td>1</td>\n",
              "    </tr>\n",
              "    <tr>\n",
              "      <th>2</th>\n",
              "      <td>2</td>\n",
              "      <td>From an order of the District Judge of the 39t...</td>\n",
              "      <td>1</td>\n",
              "    </tr>\n",
              "    <tr>\n",
              "      <th>3</th>\n",
              "      <td>3</td>\n",
              "      <td>Relator and her husband had been married for a...</td>\n",
              "      <td>1</td>\n",
              "    </tr>\n",
              "    <tr>\n",
              "      <th>4</th>\n",
              "      <td>4</td>\n",
              "      <td>The evidence indicates that their family relat...</td>\n",
              "      <td>1</td>\n",
              "    </tr>\n",
              "  </tbody>\n",
              "</table>\n",
              "</div>"
            ],
            "text/plain": [
              "   Unnamed: 0                                               text  Complete\n",
              "0           0                     No motion for rehearing filed.         1\n",
              "1           1  — Relator is under accusation of killing her h...         1\n",
              "2           2  From an order of the District Judge of the 39t...         1\n",
              "3           3  Relator and her husband had been married for a...         1\n",
              "4           4  The evidence indicates that their family relat...         1"
            ]
          },
          "metadata": {
            "tags": []
          },
          "execution_count": 8
        }
      ]
    },
    {
      "cell_type": "code",
      "metadata": {
        "id": "N8X0xt2fsUXM"
      },
      "source": [
        "del unlabel['Complete']"
      ],
      "execution_count": null,
      "outputs": []
    },
    {
      "cell_type": "code",
      "metadata": {
        "id": "lH4lcWUOsV_p"
      },
      "source": [
        "del unlabel['Unnamed: 0']"
      ],
      "execution_count": null,
      "outputs": []
    },
    {
      "cell_type": "code",
      "metadata": {
        "colab": {
          "base_uri": "https://localhost:8080/",
          "height": 204
        },
        "id": "NCbmIlH9sWHv",
        "outputId": "033f1186-490d-412a-8a5f-650a00d28b83"
      },
      "source": [
        "unlabel.head()"
      ],
      "execution_count": null,
      "outputs": [
        {
          "output_type": "execute_result",
          "data": {
            "text/html": [
              "<div>\n",
              "<style scoped>\n",
              "    .dataframe tbody tr th:only-of-type {\n",
              "        vertical-align: middle;\n",
              "    }\n",
              "\n",
              "    .dataframe tbody tr th {\n",
              "        vertical-align: top;\n",
              "    }\n",
              "\n",
              "    .dataframe thead th {\n",
              "        text-align: right;\n",
              "    }\n",
              "</style>\n",
              "<table border=\"1\" class=\"dataframe\">\n",
              "  <thead>\n",
              "    <tr style=\"text-align: right;\">\n",
              "      <th></th>\n",
              "      <th>text</th>\n",
              "    </tr>\n",
              "  </thead>\n",
              "  <tbody>\n",
              "    <tr>\n",
              "      <th>0</th>\n",
              "      <td>No motion for rehearing filed.</td>\n",
              "    </tr>\n",
              "    <tr>\n",
              "      <th>1</th>\n",
              "      <td>— Relator is under accusation of killing her h...</td>\n",
              "    </tr>\n",
              "    <tr>\n",
              "      <th>2</th>\n",
              "      <td>From an order of the District Judge of the 39t...</td>\n",
              "    </tr>\n",
              "    <tr>\n",
              "      <th>3</th>\n",
              "      <td>Relator and her husband had been married for a...</td>\n",
              "    </tr>\n",
              "    <tr>\n",
              "      <th>4</th>\n",
              "      <td>The evidence indicates that their family relat...</td>\n",
              "    </tr>\n",
              "  </tbody>\n",
              "</table>\n",
              "</div>"
            ],
            "text/plain": [
              "                                                text\n",
              "0                     No motion for rehearing filed.\n",
              "1  — Relator is under accusation of killing her h...\n",
              "2  From an order of the District Judge of the 39t...\n",
              "3  Relator and her husband had been married for a...\n",
              "4  The evidence indicates that their family relat..."
            ]
          },
          "metadata": {
            "tags": []
          },
          "execution_count": 11
        }
      ]
    },
    {
      "cell_type": "code",
      "metadata": {
        "id": "pbXAqY-bqgcN"
      },
      "source": [
        "unlabel['text'] = unlabel['text'].apply(lambda x: \" \".join(x.lower() for x in str(x).split()))\n",
        "unlabel['text'] = unlabel['text'].str.replace('[^\\w\\s]','')\n",
        "from nltk.corpus import stopwords\n",
        "words = stopwords.words('english')\n",
        "unlabel['text'] = unlabel['text'].apply(lambda x: \" \".join(x for x in x.split() if x not in words))\n"
      ],
      "execution_count": null,
      "outputs": []
    },
    {
      "cell_type": "code",
      "metadata": {
        "colab": {
          "base_uri": "https://localhost:8080/"
        },
        "id": "MYlmWHGCqvms",
        "outputId": "ee4138dc-4212-4841-933d-6dddc5e5cfbe"
      },
      "source": [
        "from textblob import TextBlob\n",
        "from textblob import Word\n",
        "nltk.download('wordnet')\n",
        "nltk.download('punkt')\n",
        "unlabel['text'] = unlabel['text'].apply(lambda x: TextBlob(x).words)\n",
        "unlabel['text'] = unlabel['text'].apply(lambda x: \" \".join([Word(word).lemmatize() for word in x]))"
      ],
      "execution_count": null,
      "outputs": [
        {
          "output_type": "stream",
          "text": [
            "[nltk_data] Downloading package wordnet to /root/nltk_data...\n",
            "[nltk_data]   Package wordnet is already up-to-date!\n",
            "[nltk_data] Downloading package punkt to /root/nltk_data...\n",
            "[nltk_data]   Package punkt is already up-to-date!\n"
          ],
          "name": "stdout"
        }
      ]
    },
    {
      "cell_type": "code",
      "metadata": {
        "colab": {
          "base_uri": "https://localhost:8080/",
          "height": 204
        },
        "id": "NqWrGLwdVxdp",
        "outputId": "e79717f7-f469-4283-bcb8-90275f47e3b5"
      },
      "source": [
        "unlabel.head()"
      ],
      "execution_count": null,
      "outputs": [
        {
          "output_type": "execute_result",
          "data": {
            "text/html": [
              "<div>\n",
              "<style scoped>\n",
              "    .dataframe tbody tr th:only-of-type {\n",
              "        vertical-align: middle;\n",
              "    }\n",
              "\n",
              "    .dataframe tbody tr th {\n",
              "        vertical-align: top;\n",
              "    }\n",
              "\n",
              "    .dataframe thead th {\n",
              "        text-align: right;\n",
              "    }\n",
              "</style>\n",
              "<table border=\"1\" class=\"dataframe\">\n",
              "  <thead>\n",
              "    <tr style=\"text-align: right;\">\n",
              "      <th></th>\n",
              "      <th>text</th>\n",
              "    </tr>\n",
              "  </thead>\n",
              "  <tbody>\n",
              "    <tr>\n",
              "      <th>0</th>\n",
              "      <td>motion rehearing filed</td>\n",
              "    </tr>\n",
              "    <tr>\n",
              "      <th>1</th>\n",
              "      <td>relator accusation killing husband virgil clark</td>\n",
              "    </tr>\n",
              "    <tr>\n",
              "      <th>2</th>\n",
              "      <td>order district judge 39th judicial district re...</td>\n",
              "    </tr>\n",
              "    <tr>\n",
              "      <th>3</th>\n",
              "      <td>relator husband married number year</td>\n",
              "    </tr>\n",
              "    <tr>\n",
              "      <th>4</th>\n",
              "      <td>evidence indicates family relation always plea...</td>\n",
              "    </tr>\n",
              "  </tbody>\n",
              "</table>\n",
              "</div>"
            ],
            "text/plain": [
              "                                                text\n",
              "0                             motion rehearing filed\n",
              "1    relator accusation killing husband virgil clark\n",
              "2  order district judge 39th judicial district re...\n",
              "3                relator husband married number year\n",
              "4  evidence indicates family relation always plea..."
            ]
          },
          "metadata": {
            "tags": []
          },
          "execution_count": 14
        }
      ]
    },
    {
      "cell_type": "code",
      "metadata": {
        "colab": {
          "base_uri": "https://localhost:8080/"
        },
        "id": "d3F6jJNts6Be",
        "outputId": "0d9d3c41-0020-41fe-c8de-5cfcdf3fe669"
      },
      "source": [
        "len(unlabel)"
      ],
      "execution_count": null,
      "outputs": [
        {
          "output_type": "execute_result",
          "data": {
            "text/plain": [
              "537703"
            ]
          },
          "metadata": {
            "tags": []
          },
          "execution_count": 15
        }
      ]
    },
    {
      "cell_type": "code",
      "metadata": {
        "colab": {
          "base_uri": "https://localhost:8080/"
        },
        "id": "Ls045zI7s6Kb",
        "outputId": "1b1be6d1-6b19-405b-c56f-8112c51fe372"
      },
      "source": [
        "unlabel_1 = unlabel.loc[:100000]\n",
        "print(\"length of unlabel_1\",len(unlabel_1))\n",
        "unlabel_2 = unlabel.loc[100001:200000]\n",
        "print(\"length of unlabel_2\",len(unlabel_2))\n",
        "unlabel_3 = unlabel.loc[200001:300000]\n",
        "print(\"length of unlabel_3\",len(unlabel_3))\n",
        "unlabel_4 = unlabel.loc[300001:400000]\n",
        "print(\"length of unlabel_4\",len(unlabel_4))\n",
        "unlabel_5 = unlabel.loc[400001:]\n",
        "print(\"length of unlabel_5\",len(unlabel_5))"
      ],
      "execution_count": null,
      "outputs": [
        {
          "output_type": "stream",
          "text": [
            "length of unlabel_1 100001\n",
            "length of unlabel_2 100000\n",
            "length of unlabel_3 100000\n",
            "length of unlabel_4 100000\n",
            "length of unlabel_5 137702\n"
          ],
          "name": "stdout"
        }
      ]
    },
    {
      "cell_type": "code",
      "metadata": {
        "colab": {
          "base_uri": "https://localhost:8080/",
          "height": 204
        },
        "id": "29BgPHk4s6PS",
        "outputId": "732b1a51-bfe9-456a-8b7a-1885a4758c15"
      },
      "source": [
        "unlabel_1.head()"
      ],
      "execution_count": null,
      "outputs": [
        {
          "output_type": "execute_result",
          "data": {
            "text/html": [
              "<div>\n",
              "<style scoped>\n",
              "    .dataframe tbody tr th:only-of-type {\n",
              "        vertical-align: middle;\n",
              "    }\n",
              "\n",
              "    .dataframe tbody tr th {\n",
              "        vertical-align: top;\n",
              "    }\n",
              "\n",
              "    .dataframe thead th {\n",
              "        text-align: right;\n",
              "    }\n",
              "</style>\n",
              "<table border=\"1\" class=\"dataframe\">\n",
              "  <thead>\n",
              "    <tr style=\"text-align: right;\">\n",
              "      <th></th>\n",
              "      <th>text</th>\n",
              "    </tr>\n",
              "  </thead>\n",
              "  <tbody>\n",
              "    <tr>\n",
              "      <th>0</th>\n",
              "      <td>motion rehearing filed</td>\n",
              "    </tr>\n",
              "    <tr>\n",
              "      <th>1</th>\n",
              "      <td>relator accusation killing husband virgil clark</td>\n",
              "    </tr>\n",
              "    <tr>\n",
              "      <th>2</th>\n",
              "      <td>order district judge 39th judicial district re...</td>\n",
              "    </tr>\n",
              "    <tr>\n",
              "      <th>3</th>\n",
              "      <td>relator husband married number year</td>\n",
              "    </tr>\n",
              "    <tr>\n",
              "      <th>4</th>\n",
              "      <td>evidence indicates family relation always plea...</td>\n",
              "    </tr>\n",
              "  </tbody>\n",
              "</table>\n",
              "</div>"
            ],
            "text/plain": [
              "                                                text\n",
              "0                             motion rehearing filed\n",
              "1    relator accusation killing husband virgil clark\n",
              "2  order district judge 39th judicial district re...\n",
              "3                relator husband married number year\n",
              "4  evidence indicates family relation always plea..."
            ]
          },
          "metadata": {
            "tags": []
          },
          "execution_count": 17
        }
      ]
    },
    {
      "cell_type": "code",
      "metadata": {
        "colab": {
          "base_uri": "https://localhost:8080/",
          "height": 204
        },
        "id": "szeMdJ6pt7fN",
        "outputId": "c6e9f398-3f07-46a6-8100-a3e625def11e"
      },
      "source": [
        "unlabel_2.reset_index(inplace=True)\n",
        "del unlabel_2['index']\n",
        "unlabel_2.head()"
      ],
      "execution_count": null,
      "outputs": [
        {
          "output_type": "execute_result",
          "data": {
            "text/html": [
              "<div>\n",
              "<style scoped>\n",
              "    .dataframe tbody tr th:only-of-type {\n",
              "        vertical-align: middle;\n",
              "    }\n",
              "\n",
              "    .dataframe tbody tr th {\n",
              "        vertical-align: top;\n",
              "    }\n",
              "\n",
              "    .dataframe thead th {\n",
              "        text-align: right;\n",
              "    }\n",
              "</style>\n",
              "<table border=\"1\" class=\"dataframe\">\n",
              "  <thead>\n",
              "    <tr style=\"text-align: right;\">\n",
              "      <th></th>\n",
              "      <th>text</th>\n",
              "    </tr>\n",
              "  </thead>\n",
              "  <tbody>\n",
              "    <tr>\n",
              "      <th>0</th>\n",
              "      <td>responding conclusion regarding evidence annou...</td>\n",
              "    </tr>\n",
              "    <tr>\n",
              "      <th>1</th>\n",
              "      <td>conviction transporting intoxicating liquor pu...</td>\n",
              "    </tr>\n",
              "    <tr>\n",
              "      <th>2</th>\n",
              "      <td>bill exception case filed late</td>\n",
              "    </tr>\n",
              "    <tr>\n",
              "      <th>3</th>\n",
              "      <td>motion new trial overruled october 22 1927 ord...</td>\n",
              "    </tr>\n",
              "    <tr>\n",
              "      <th>4</th>\n",
              "      <td>thereafter december 10th extension order made ...</td>\n",
              "    </tr>\n",
              "  </tbody>\n",
              "</table>\n",
              "</div>"
            ],
            "text/plain": [
              "                                                text\n",
              "0  responding conclusion regarding evidence annou...\n",
              "1  conviction transporting intoxicating liquor pu...\n",
              "2                     bill exception case filed late\n",
              "3  motion new trial overruled october 22 1927 ord...\n",
              "4  thereafter december 10th extension order made ..."
            ]
          },
          "metadata": {
            "tags": []
          },
          "execution_count": 18
        }
      ]
    },
    {
      "cell_type": "code",
      "metadata": {
        "colab": {
          "base_uri": "https://localhost:8080/",
          "height": 204
        },
        "id": "u6lInKYmt7pn",
        "outputId": "399f2a22-d17e-457f-fafb-717a025488b5"
      },
      "source": [
        "unlabel_3.reset_index(inplace=True)\n",
        "del unlabel_3['index']\n",
        "unlabel_3.head()"
      ],
      "execution_count": null,
      "outputs": [
        {
          "output_type": "execute_result",
          "data": {
            "text/html": [
              "<div>\n",
              "<style scoped>\n",
              "    .dataframe tbody tr th:only-of-type {\n",
              "        vertical-align: middle;\n",
              "    }\n",
              "\n",
              "    .dataframe tbody tr th {\n",
              "        vertical-align: top;\n",
              "    }\n",
              "\n",
              "    .dataframe thead th {\n",
              "        text-align: right;\n",
              "    }\n",
              "</style>\n",
              "<table border=\"1\" class=\"dataframe\">\n",
              "  <thead>\n",
              "    <tr style=\"text-align: right;\">\n",
              "      <th></th>\n",
              "      <th>text</th>\n",
              "    </tr>\n",
              "  </thead>\n",
              "  <tbody>\n",
              "    <tr>\n",
              "      <th>0</th>\n",
              "      <td>another man carrying clothes</td>\n",
              "    </tr>\n",
              "    <tr>\n",
              "      <th>1</th>\n",
              "      <td>officer testified appellant several item cloth...</td>\n",
              "    </tr>\n",
              "    <tr>\n",
              "      <th>2</th>\n",
              "      <td>investigation followed report breaking entry a...</td>\n",
              "    </tr>\n",
              "    <tr>\n",
              "      <th>3</th>\n",
              "      <td>appellant present</td>\n",
              "    </tr>\n",
              "    <tr>\n",
              "      <th>4</th>\n",
              "      <td>warrant arrest issued officer went hotel waite...</td>\n",
              "    </tr>\n",
              "  </tbody>\n",
              "</table>\n",
              "</div>"
            ],
            "text/plain": [
              "                                                text\n",
              "0                       another man carrying clothes\n",
              "1  officer testified appellant several item cloth...\n",
              "2  investigation followed report breaking entry a...\n",
              "3                                  appellant present\n",
              "4  warrant arrest issued officer went hotel waite..."
            ]
          },
          "metadata": {
            "tags": []
          },
          "execution_count": 19
        }
      ]
    },
    {
      "cell_type": "code",
      "metadata": {
        "colab": {
          "base_uri": "https://localhost:8080/",
          "height": 204
        },
        "id": "awCDdJfCt7uy",
        "outputId": "962e9793-2cfa-452e-c702-a42947587ad5"
      },
      "source": [
        "unlabel_4.reset_index(inplace=True)\n",
        "del unlabel_4['index']\n",
        "unlabel_4.head()"
      ],
      "execution_count": null,
      "outputs": [
        {
          "output_type": "execute_result",
          "data": {
            "text/html": [
              "<div>\n",
              "<style scoped>\n",
              "    .dataframe tbody tr th:only-of-type {\n",
              "        vertical-align: middle;\n",
              "    }\n",
              "\n",
              "    .dataframe tbody tr th {\n",
              "        vertical-align: top;\n",
              "    }\n",
              "\n",
              "    .dataframe thead th {\n",
              "        text-align: right;\n",
              "    }\n",
              "</style>\n",
              "<table border=\"1\" class=\"dataframe\">\n",
              "  <thead>\n",
              "    <tr style=\"text-align: right;\">\n",
              "      <th></th>\n",
              "      <th>text</th>\n",
              "    </tr>\n",
              "  </thead>\n",
              "  <tbody>\n",
              "    <tr>\n",
              "      <th>0</th>\n",
              "      <td>statute final judgment appeal court lie senten...</td>\n",
              "    </tr>\n",
              "    <tr>\n",
              "      <th>1</th>\n",
              "      <td>sentence must pronounced term court judgment r...</td>\n",
              "    </tr>\n",
              "    <tr>\n",
              "      <th>2</th>\n",
              "      <td>court sentence defendant vacation</td>\n",
              "    </tr>\n",
              "    <tr>\n",
              "      <th>3</th>\n",
              "      <td>court adjourned authority case ceased notice a...</td>\n",
              "    </tr>\n",
              "    <tr>\n",
              "      <th>4</th>\n",
              "      <td>pronouncing sentence authorized vacation autho...</td>\n",
              "    </tr>\n",
              "  </tbody>\n",
              "</table>\n",
              "</div>"
            ],
            "text/plain": [
              "                                                text\n",
              "0  statute final judgment appeal court lie senten...\n",
              "1  sentence must pronounced term court judgment r...\n",
              "2                  court sentence defendant vacation\n",
              "3  court adjourned authority case ceased notice a...\n",
              "4  pronouncing sentence authorized vacation autho..."
            ]
          },
          "metadata": {
            "tags": []
          },
          "execution_count": 20
        }
      ]
    },
    {
      "cell_type": "code",
      "metadata": {
        "colab": {
          "base_uri": "https://localhost:8080/",
          "height": 204
        },
        "id": "c1RvB50QuT77",
        "outputId": "4cff8317-9867-4f35-9ac9-6252ee576130"
      },
      "source": [
        "unlabel_5.reset_index(inplace=True)\n",
        "del unlabel_5['index']\n",
        "unlabel_5.head()"
      ],
      "execution_count": null,
      "outputs": [
        {
          "output_type": "execute_result",
          "data": {
            "text/html": [
              "<div>\n",
              "<style scoped>\n",
              "    .dataframe tbody tr th:only-of-type {\n",
              "        vertical-align: middle;\n",
              "    }\n",
              "\n",
              "    .dataframe tbody tr th {\n",
              "        vertical-align: top;\n",
              "    }\n",
              "\n",
              "    .dataframe thead th {\n",
              "        text-align: right;\n",
              "    }\n",
              "</style>\n",
              "<table border=\"1\" class=\"dataframe\">\n",
              "  <thead>\n",
              "    <tr style=\"text-align: right;\">\n",
              "      <th></th>\n",
              "      <th>text</th>\n",
              "    </tr>\n",
              "  </thead>\n",
              "  <tbody>\n",
              "    <tr>\n",
              "      <th>0</th>\n",
              "      <td>member federal reserve bank</td>\n",
              "    </tr>\n",
              "    <tr>\n",
              "      <th>1</th>\n",
              "      <td>opinion state case</td>\n",
              "    </tr>\n",
              "    <tr>\n",
              "      <th>2</th>\n",
              "      <td>conviction violating state cigarette law punis...</td>\n",
              "    </tr>\n",
              "    <tr>\n",
              "      <th>3</th>\n",
              "      <td>find record bill exception bringing forward co...</td>\n",
              "    </tr>\n",
              "    <tr>\n",
              "      <th>4</th>\n",
              "      <td>brief appellant complains lack testimony</td>\n",
              "    </tr>\n",
              "  </tbody>\n",
              "</table>\n",
              "</div>"
            ],
            "text/plain": [
              "                                                text\n",
              "0                        member federal reserve bank\n",
              "1                                 opinion state case\n",
              "2  conviction violating state cigarette law punis...\n",
              "3  find record bill exception bringing forward co...\n",
              "4           brief appellant complains lack testimony"
            ]
          },
          "metadata": {
            "tags": []
          },
          "execution_count": 21
        }
      ]
    },
    {
      "cell_type": "code",
      "metadata": {
        "colab": {
          "base_uri": "https://localhost:8080/"
        },
        "id": "wOeWob4LuXnH",
        "outputId": "5aaeff86-c3cc-46ce-d547-8f945638296c"
      },
      "source": [
        "classifier.classes_"
      ],
      "execution_count": null,
      "outputs": [
        {
          "output_type": "execute_result",
          "data": {
            "text/plain": [
              "array(['Analysis', 'Conclusion', 'Facts', 'Invalid', 'Issue',\n",
              "       'Rule/Law/Holding'], dtype=object)"
            ]
          },
          "metadata": {
            "tags": []
          },
          "execution_count": 22
        }
      ]
    },
    {
      "cell_type": "code",
      "metadata": {
        "id": "bGLz2PLyuZtF"
      },
      "source": [
        "x_un1 = tfidf_vect.transform(unlabel_1['text'])\n"
      ],
      "execution_count": null,
      "outputs": []
    },
    {
      "cell_type": "code",
      "metadata": {
        "colab": {
          "base_uri": "https://localhost:8080/"
        },
        "id": "CREaz3ZlvnWo",
        "outputId": "40c65b0e-68c8-4b9f-f283-3f19e55cce64"
      },
      "source": [
        "x_un1.shape\n",
        "pred_unlabel_1 = classifier.predict_proba(x_un1)\n",
        "pred_unlabel_1\n",
        "\n"
      ],
      "execution_count": null,
      "outputs": [
        {
          "output_type": "execute_result",
          "data": {
            "text/plain": [
              "array([[0.14416667, 0.26      , 0.28759524, 0.3082381 , 0.        ,\n",
              "        0.        ],\n",
              "       [0.04      , 0.02      , 0.36      , 0.53      , 0.05      ,\n",
              "        0.        ],\n",
              "       [0.12      , 0.01      , 0.56      , 0.17      , 0.05      ,\n",
              "        0.09      ],\n",
              "       ...,\n",
              "       [0.14      , 0.12      , 0.54      , 0.09      , 0.07      ,\n",
              "        0.04      ],\n",
              "       [0.18      , 0.        , 0.52      , 0.2       , 0.        ,\n",
              "        0.1       ],\n",
              "       [0.17      , 0.03      , 0.55      , 0.23      , 0.        ,\n",
              "        0.02      ]])"
            ]
          },
          "metadata": {
            "tags": []
          },
          "execution_count": 24
        }
      ]
    },
    {
      "cell_type": "code",
      "metadata": {
        "id": "A_eycN-qzSK5"
      },
      "source": [
        ""
      ],
      "execution_count": null,
      "outputs": []
    },
    {
      "cell_type": "code",
      "metadata": {
        "colab": {
          "base_uri": "https://localhost:8080/"
        },
        "id": "raKJnffMv2L7",
        "outputId": "bfbee72e-9fc8-4b28-f16a-dc3ad2abb511"
      },
      "source": [
        "print(len(pred_unlabel_1))\n",
        "print(np.unique(pred_unlabel_1))\n"
      ],
      "execution_count": null,
      "outputs": [
        {
          "output_type": "stream",
          "text": [
            "100001\n",
            "[0.         0.00111111 0.00166667 ... 0.986      0.99       1.        ]\n"
          ],
          "name": "stdout"
        }
      ]
    },
    {
      "cell_type": "code",
      "metadata": {
        "id": "CGFe2Iz3wMzi"
      },
      "source": [
        "Threshold= 0.98"
      ],
      "execution_count": null,
      "outputs": []
    },
    {
      "cell_type": "code",
      "metadata": {
        "colab": {
          "base_uri": "https://localhost:8080/"
        },
        "id": "YYYZpnQOwHOh",
        "outputId": "1e3fc1b6-e5e7-421a-c9d1-437c8afe0f42"
      },
      "source": [
        "import numpy as np\n",
        "pos=[]\n",
        "large=[]\n",
        "ind = []\n",
        "i=0\n",
        "for j in pred_unlabel_1:\n",
        "  if max(j)> Threshold:\n",
        "    ind.append(np.argmax(j))\n",
        "    large.append(max(j))\n",
        "    pos.append(i)\n",
        "  i+=1\n",
        "\n",
        "\n",
        "print(ind)\n",
        "print(large)\n",
        "print(pos)\n",
        "print(type(pos))\n",
        "print(len(ind))\n",
        "print(len(large))\n",
        "print(len(pos))"
      ],
      "execution_count": null,
      "outputs": [
        {
          "output_type": "stream",
          "text": [
            "[1, 1, 2, 2, 1, 2, 2, 2, 3, 2, 2, 1, 2, 2, 2, 2, 1, 2, 2, 1, 1, 2, 2, 2, 1, 2, 1, 2, 2, 2, 2, 1, 1, 2, 2, 2, 1, 2, 2, 3, 2, 1, 2, 3, 2, 2, 2, 3, 2, 2, 2, 2, 2, 2, 2, 2, 2, 2, 2, 2, 1, 2, 2, 2, 2, 2, 3, 2, 2, 2, 2, 2, 2, 2, 2, 2, 3, 2, 2, 2, 2, 2, 2, 2, 3, 2, 2, 2, 2, 2, 2, 2, 1, 3, 1, 1, 1, 2, 2, 2, 2, 1, 1, 2, 2, 2, 2, 3, 2, 2, 2, 2, 2, 2]\n",
            "[0.986, 0.986, 0.99, 0.99, 0.986, 0.99, 0.99, 0.99, 0.99, 0.99, 1.0, 0.986, 1.0, 0.99, 1.0, 0.99, 0.986, 1.0, 1.0, 0.986, 0.986, 0.99, 0.99, 1.0, 0.986, 0.99, 0.986, 1.0, 1.0, 0.99, 0.99, 0.986, 0.986, 1.0, 0.99, 0.99, 0.986, 0.99, 0.99, 0.99, 1.0, 0.986, 1.0, 1.0, 1.0, 1.0, 1.0, 0.99, 0.99, 0.99, 0.99, 1.0, 1.0, 0.99, 1.0, 0.99, 1.0, 0.99, 0.99, 0.99, 0.986, 1.0, 1.0, 0.99, 0.99, 0.99, 0.99, 1.0, 0.99, 1.0, 0.99, 1.0, 1.0, 0.99, 0.99, 0.99, 0.99, 0.99, 0.99, 1.0, 1.0, 0.99, 0.99, 0.99, 0.99, 1.0, 0.99, 1.0, 0.99, 1.0, 1.0, 0.99, 0.986, 0.99, 0.986, 0.986, 0.986, 1.0, 0.99, 1.0, 1.0, 0.986, 0.986, 1.0, 1.0, 0.99, 0.99, 1.0, 0.99, 0.99, 0.99, 1.0, 0.99, 0.99]\n",
            "[1480, 1545, 2494, 2693, 4941, 5253, 5676, 6369, 7563, 8915, 8922, 9196, 10711, 11133, 11705, 12924, 14329, 16553, 18719, 18895, 19392, 20623, 22476, 22837, 23077, 23080, 23416, 23774, 24216, 25778, 25867, 26167, 27603, 27727, 27980, 29480, 30586, 30734, 31193, 31743, 32583, 32764, 34244, 36509, 39482, 41490, 42669, 43126, 43150, 43551, 43563, 44564, 44916, 46336, 48698, 49990, 50281, 50544, 50574, 50577, 51104, 51122, 51124, 53807, 54307, 55000, 57253, 59621, 59693, 60852, 66016, 66713, 67376, 68222, 69011, 69046, 69812, 69977, 70240, 73264, 74611, 74919, 75591, 75822, 77144, 77209, 78033, 79507, 79782, 80151, 80243, 81620, 83180, 83872, 84712, 85020, 86636, 87940, 88439, 88444, 89289, 89691, 91083, 91932, 93592, 93800, 94931, 95356, 96828, 97296, 97403, 97404, 97593, 99811]\n",
            "<class 'list'>\n",
            "114\n",
            "114\n",
            "114\n"
          ],
          "name": "stdout"
        }
      ]
    },
    {
      "cell_type": "code",
      "metadata": {
        "colab": {
          "base_uri": "https://localhost:8080/",
          "height": 221
        },
        "id": "JCUhCmIVwhwB",
        "outputId": "47c3d934-d6e3-4a2f-8019-0ea3d90133a1"
      },
      "source": [
        "unlabel_1 = unlabel_1.loc[pos,:]\n",
        "print(len(unlabel_1))\n",
        "unlabel_1.head()"
      ],
      "execution_count": null,
      "outputs": [
        {
          "output_type": "stream",
          "text": [
            "114\n"
          ],
          "name": "stdout"
        },
        {
          "output_type": "execute_result",
          "data": {
            "text/html": [
              "<div>\n",
              "<style scoped>\n",
              "    .dataframe tbody tr th:only-of-type {\n",
              "        vertical-align: middle;\n",
              "    }\n",
              "\n",
              "    .dataframe tbody tr th {\n",
              "        vertical-align: top;\n",
              "    }\n",
              "\n",
              "    .dataframe thead th {\n",
              "        text-align: right;\n",
              "    }\n",
              "</style>\n",
              "<table border=\"1\" class=\"dataframe\">\n",
              "  <thead>\n",
              "    <tr style=\"text-align: right;\">\n",
              "      <th></th>\n",
              "      <th>text</th>\n",
              "    </tr>\n",
              "  </thead>\n",
              "  <tbody>\n",
              "    <tr>\n",
              "      <th>1480</th>\n",
              "      <td>error mentioned judgment reversed cause remanded</td>\n",
              "    </tr>\n",
              "    <tr>\n",
              "      <th>1545</th>\n",
              "      <td>error mentioned judgment reversed cause remanded</td>\n",
              "    </tr>\n",
              "    <tr>\n",
              "      <th>2494</th>\n",
              "      <td>witness johnnie bloodworth testified lived wie...</td>\n",
              "    </tr>\n",
              "    <tr>\n",
              "      <th>2693</th>\n",
              "      <td>said two men went burglarized house car togeth...</td>\n",
              "    </tr>\n",
              "    <tr>\n",
              "      <th>4941</th>\n",
              "      <td>error mentioned judgment reversed cause remanded</td>\n",
              "    </tr>\n",
              "  </tbody>\n",
              "</table>\n",
              "</div>"
            ],
            "text/plain": [
              "                                                   text\n",
              "1480   error mentioned judgment reversed cause remanded\n",
              "1545   error mentioned judgment reversed cause remanded\n",
              "2494  witness johnnie bloodworth testified lived wie...\n",
              "2693  said two men went burglarized house car togeth...\n",
              "4941   error mentioned judgment reversed cause remanded"
            ]
          },
          "metadata": {
            "tags": []
          },
          "execution_count": 28
        }
      ]
    },
    {
      "cell_type": "code",
      "metadata": {
        "id": "p4yqkbGwz9gq"
      },
      "source": [
        "class_x_un1 = tfidf_vect.transform(unlabel_1['text'])"
      ],
      "execution_count": null,
      "outputs": []
    },
    {
      "cell_type": "code",
      "metadata": {
        "colab": {
          "base_uri": "https://localhost:8080/"
        },
        "id": "QpCBhQef0Cgy",
        "outputId": "ad5ddcc1-0157-4bf3-8973-57439f21e8f3"
      },
      "source": [
        "class_x_un1.shape"
      ],
      "execution_count": null,
      "outputs": [
        {
          "output_type": "execute_result",
          "data": {
            "text/plain": [
              "(114, 6383)"
            ]
          },
          "metadata": {
            "tags": []
          },
          "execution_count": 30
        }
      ]
    },
    {
      "cell_type": "code",
      "metadata": {
        "colab": {
          "base_uri": "https://localhost:8080/"
        },
        "id": "GtEfiId00orr",
        "outputId": "40da4879-81be-410b-e708-93744ce53e0c"
      },
      "source": [
        "\n",
        "class_pred_unlabel_1 = classifier.predict(class_x_un1)\n",
        "class_pred_unlabel_1\n"
      ],
      "execution_count": null,
      "outputs": [
        {
          "output_type": "execute_result",
          "data": {
            "text/plain": [
              "array(['Conclusion', 'Conclusion', 'Facts', 'Facts', 'Conclusion',\n",
              "       'Facts', 'Facts', 'Facts', 'Invalid', 'Facts', 'Facts',\n",
              "       'Conclusion', 'Facts', 'Facts', 'Facts', 'Facts', 'Conclusion',\n",
              "       'Facts', 'Facts', 'Conclusion', 'Conclusion', 'Facts', 'Facts',\n",
              "       'Facts', 'Conclusion', 'Facts', 'Conclusion', 'Facts', 'Facts',\n",
              "       'Facts', 'Facts', 'Conclusion', 'Conclusion', 'Facts', 'Facts',\n",
              "       'Facts', 'Conclusion', 'Facts', 'Facts', 'Invalid', 'Facts',\n",
              "       'Conclusion', 'Facts', 'Invalid', 'Facts', 'Facts', 'Facts',\n",
              "       'Invalid', 'Facts', 'Facts', 'Facts', 'Facts', 'Facts', 'Facts',\n",
              "       'Facts', 'Facts', 'Facts', 'Facts', 'Facts', 'Facts', 'Conclusion',\n",
              "       'Facts', 'Facts', 'Facts', 'Facts', 'Facts', 'Invalid', 'Facts',\n",
              "       'Facts', 'Facts', 'Facts', 'Facts', 'Facts', 'Facts', 'Facts',\n",
              "       'Facts', 'Invalid', 'Facts', 'Facts', 'Facts', 'Facts', 'Facts',\n",
              "       'Facts', 'Facts', 'Invalid', 'Facts', 'Facts', 'Facts', 'Facts',\n",
              "       'Facts', 'Facts', 'Facts', 'Conclusion', 'Invalid', 'Conclusion',\n",
              "       'Conclusion', 'Conclusion', 'Facts', 'Facts', 'Facts', 'Facts',\n",
              "       'Conclusion', 'Conclusion', 'Facts', 'Facts', 'Facts', 'Facts',\n",
              "       'Invalid', 'Facts', 'Facts', 'Facts', 'Facts', 'Facts', 'Facts'],\n",
              "      dtype=object)"
            ]
          },
          "metadata": {
            "tags": []
          },
          "execution_count": 31
        }
      ]
    },
    {
      "cell_type": "code",
      "metadata": {
        "colab": {
          "base_uri": "https://localhost:8080/"
        },
        "id": "j6D1AN0Q08Lb",
        "outputId": "1bf429d4-9217-43af-895f-be72a9ffec47"
      },
      "source": [
        "print(len(class_pred_unlabel_1))"
      ],
      "execution_count": null,
      "outputs": [
        {
          "output_type": "stream",
          "text": [
            "114\n"
          ],
          "name": "stdout"
        }
      ]
    },
    {
      "cell_type": "code",
      "metadata": {
        "colab": {
          "base_uri": "https://localhost:8080/",
          "height": 204
        },
        "id": "tnwEL1_i1EUG",
        "outputId": "fcaae9b7-796b-4266-b747-d9ad3a5c2a1b"
      },
      "source": [
        "unlabel_1['Target']=class_pred_unlabel_1\n",
        "unlabel_1.head()"
      ],
      "execution_count": null,
      "outputs": [
        {
          "output_type": "execute_result",
          "data": {
            "text/html": [
              "<div>\n",
              "<style scoped>\n",
              "    .dataframe tbody tr th:only-of-type {\n",
              "        vertical-align: middle;\n",
              "    }\n",
              "\n",
              "    .dataframe tbody tr th {\n",
              "        vertical-align: top;\n",
              "    }\n",
              "\n",
              "    .dataframe thead th {\n",
              "        text-align: right;\n",
              "    }\n",
              "</style>\n",
              "<table border=\"1\" class=\"dataframe\">\n",
              "  <thead>\n",
              "    <tr style=\"text-align: right;\">\n",
              "      <th></th>\n",
              "      <th>text</th>\n",
              "      <th>Target</th>\n",
              "    </tr>\n",
              "  </thead>\n",
              "  <tbody>\n",
              "    <tr>\n",
              "      <th>1480</th>\n",
              "      <td>error mentioned judgment reversed cause remanded</td>\n",
              "      <td>Conclusion</td>\n",
              "    </tr>\n",
              "    <tr>\n",
              "      <th>1545</th>\n",
              "      <td>error mentioned judgment reversed cause remanded</td>\n",
              "      <td>Conclusion</td>\n",
              "    </tr>\n",
              "    <tr>\n",
              "      <th>2494</th>\n",
              "      <td>witness johnnie bloodworth testified lived wie...</td>\n",
              "      <td>Facts</td>\n",
              "    </tr>\n",
              "    <tr>\n",
              "      <th>2693</th>\n",
              "      <td>said two men went burglarized house car togeth...</td>\n",
              "      <td>Facts</td>\n",
              "    </tr>\n",
              "    <tr>\n",
              "      <th>4941</th>\n",
              "      <td>error mentioned judgment reversed cause remanded</td>\n",
              "      <td>Conclusion</td>\n",
              "    </tr>\n",
              "  </tbody>\n",
              "</table>\n",
              "</div>"
            ],
            "text/plain": [
              "                                                   text      Target\n",
              "1480   error mentioned judgment reversed cause remanded  Conclusion\n",
              "1545   error mentioned judgment reversed cause remanded  Conclusion\n",
              "2494  witness johnnie bloodworth testified lived wie...       Facts\n",
              "2693  said two men went burglarized house car togeth...       Facts\n",
              "4941   error mentioned judgment reversed cause remanded  Conclusion"
            ]
          },
          "metadata": {
            "tags": []
          },
          "execution_count": 33
        }
      ]
    },
    {
      "cell_type": "code",
      "metadata": {
        "colab": {
          "base_uri": "https://localhost:8080/",
          "height": 204
        },
        "id": "45V1Qx6g1sX1",
        "outputId": "a52efb3c-d7c3-4f20-e99d-00ccae76a6e6"
      },
      "source": [
        "train = train.rename(columns={'Sentence':'text'})\n",
        "train.head()"
      ],
      "execution_count": null,
      "outputs": [
        {
          "output_type": "execute_result",
          "data": {
            "text/html": [
              "<div>\n",
              "<style scoped>\n",
              "    .dataframe tbody tr th:only-of-type {\n",
              "        vertical-align: middle;\n",
              "    }\n",
              "\n",
              "    .dataframe tbody tr th {\n",
              "        vertical-align: top;\n",
              "    }\n",
              "\n",
              "    .dataframe thead th {\n",
              "        text-align: right;\n",
              "    }\n",
              "</style>\n",
              "<table border=\"1\" class=\"dataframe\">\n",
              "  <thead>\n",
              "    <tr style=\"text-align: right;\">\n",
              "      <th></th>\n",
              "      <th>Unnamed: 0</th>\n",
              "      <th>text</th>\n",
              "      <th>Target</th>\n",
              "    </tr>\n",
              "  </thead>\n",
              "  <tbody>\n",
              "    <tr>\n",
              "      <th>0</th>\n",
              "      <td>659</td>\n",
              "      <td>Appellant had stated to the officers that she ...</td>\n",
              "      <td>Invalid</td>\n",
              "    </tr>\n",
              "    <tr>\n",
              "      <th>1</th>\n",
              "      <td>3456</td>\n",
              "      <td>We shall discuss the facts more fully in conne...</td>\n",
              "      <td>Invalid</td>\n",
              "    </tr>\n",
              "    <tr>\n",
              "      <th>2</th>\n",
              "      <td>2043</td>\n",
              "      <td>â€œPerjury is a false statement, either writte...</td>\n",
              "      <td>Invalid</td>\n",
              "    </tr>\n",
              "    <tr>\n",
              "      <th>3</th>\n",
              "      <td>3344</td>\n",
              "      <td>The offense is felony theft by false pretext; ...</td>\n",
              "      <td>Issue</td>\n",
              "    </tr>\n",
              "    <tr>\n",
              "      <th>4</th>\n",
              "      <td>3231</td>\n",
              "      <td>Numerous contentions urging the commission of ...</td>\n",
              "      <td>Issue</td>\n",
              "    </tr>\n",
              "  </tbody>\n",
              "</table>\n",
              "</div>"
            ],
            "text/plain": [
              "   Unnamed: 0                                               text   Target\n",
              "0         659  Appellant had stated to the officers that she ...  Invalid\n",
              "1        3456  We shall discuss the facts more fully in conne...  Invalid\n",
              "2        2043  â€œPerjury is a false statement, either writte...  Invalid\n",
              "3        3344  The offense is felony theft by false pretext; ...    Issue\n",
              "4        3231  Numerous contentions urging the commission of ...    Issue"
            ]
          },
          "metadata": {
            "tags": []
          },
          "execution_count": 34
        }
      ]
    },
    {
      "cell_type": "code",
      "metadata": {
        "colab": {
          "base_uri": "https://localhost:8080/"
        },
        "id": "DDs9mes8wwys",
        "outputId": "0043b18b-d54e-4ec2-9e1a-28709effd59f"
      },
      "source": [
        "frame_1 = [train,unlabel_1]\n",
        "train_1 = pd.concat(frame_1)\n",
        "print(len(train))\n",
        "print(len(unlabel_1))\n",
        "print(len(train_1))"
      ],
      "execution_count": null,
      "outputs": [
        {
          "output_type": "stream",
          "text": [
            "3476\n",
            "114\n",
            "3590\n"
          ],
          "name": "stdout"
        }
      ]
    },
    {
      "cell_type": "code",
      "metadata": {
        "colab": {
          "base_uri": "https://localhost:8080/"
        },
        "id": "CaSHnErdxwBr",
        "outputId": "32e285bf-2338-4d69-c611-c64517a7222d"
      },
      "source": [
        "from sklearn.metrics import classification_report\n",
        "x_train_1 = tfidf_vect.transform(train_1['text'])\n",
        "x_train_1.shape\n",
        "X_train, x_val, Y_train, y_val = train_test_split(x_train_1,train_1['Target'],test_size=0.25,random_state=2)\n",
        "classifier_1 = RandomForestClassifier(n_estimators = 100, criterion = 'gini', random_state = 42)\n",
        "classifier_1.fit(X_train, Y_train)\n",
        "y_pred = classifier_1.predict(x_val)\n",
        "print(np.unique(y_pred))\n",
        "print(type(y_pred))\n",
        "\n",
        "\n",
        "Accuracy_score = accuracy_score(y_pred,y_val)\n",
        "\n",
        "print('Validation ------- Accuracy_score: %f' % Accuracy_score)\n",
        "\n",
        "test_pred = classifier_1.predict(t_p)\n",
        "acc_test = accuracy_score(test_pred,test['Target'])\n",
        "print('Test ------Accuracy score ', acc_test)\n",
        "matrix = confusion_matrix(y_pred, y_val)\n",
        "print(matrix)\n",
        "print(\"---------validation--------------\")\n",
        "print(classification_report(y_val,y_pred))\n",
        "print(\"----------test---------------------\")\n",
        "print(classification_report(test['Target'],test_pred))"
      ],
      "execution_count": null,
      "outputs": [
        {
          "output_type": "stream",
          "text": [
            "['Analysis' 'Conclusion' 'Facts' 'Invalid' 'Issue' 'Rule/Law/Holding']\n",
            "<class 'numpy.ndarray'>\n",
            "Validation ------- Accuracy_score: 0.640312\n",
            "Test ------Accuracy score  0.5988483685220729\n",
            "[[ 40   9   9   3   3   8]\n",
            " [  7  20   2   2   0   0]\n",
            " [ 84  14 405  62  31  18]\n",
            " [ 15   3  31  76   3   8]\n",
            " [  1   0   4   0  19   0]\n",
            " [  0   0   0   3   3  15]]\n",
            "---------validation--------------\n",
            "                  precision    recall  f1-score   support\n",
            "\n",
            "        Analysis       0.56      0.27      0.37       147\n",
            "      Conclusion       0.65      0.43      0.52        46\n",
            "           Facts       0.66      0.90      0.76       451\n",
            "         Invalid       0.56      0.52      0.54       146\n",
            "           Issue       0.79      0.32      0.46        59\n",
            "Rule/Law/Holding       0.71      0.31      0.43        49\n",
            "\n",
            "        accuracy                           0.64       898\n",
            "       macro avg       0.65      0.46      0.51       898\n",
            "    weighted avg       0.64      0.64      0.61       898\n",
            "\n",
            "----------test---------------------\n",
            "                  precision    recall  f1-score   support\n",
            "\n",
            "        Analysis       0.53      0.22      0.31        77\n",
            "      Conclusion       0.53      0.38      0.44        26\n",
            "           Facts       0.65      0.84      0.73       267\n",
            "         Invalid       0.43      0.49      0.46        83\n",
            "           Issue       0.88      0.21      0.33        34\n",
            "Rule/Law/Holding       0.57      0.35      0.44        34\n",
            "\n",
            "        accuracy                           0.60       521\n",
            "       macro avg       0.60      0.42      0.45       521\n",
            "    weighted avg       0.60      0.60      0.57       521\n",
            "\n"
          ],
          "name": "stdout"
        }
      ]
    },
    {
      "cell_type": "code",
      "metadata": {
        "id": "hno9JlRN-bwV"
      },
      "source": [
        ""
      ],
      "execution_count": null,
      "outputs": []
    },
    {
      "cell_type": "markdown",
      "metadata": {
        "id": "I7NBaCt--2HK"
      },
      "source": [
        "Second set of unlabeled data "
      ]
    },
    {
      "cell_type": "code",
      "metadata": {
        "id": "d8BWcEGe-1Eu"
      },
      "source": [
        "x_un2 = tfidf_vect.transform(unlabel_2['text'])\n"
      ],
      "execution_count": null,
      "outputs": []
    },
    {
      "cell_type": "code",
      "metadata": {
        "colab": {
          "base_uri": "https://localhost:8080/"
        },
        "id": "xoo80lu4Blug",
        "outputId": "96642455-d72b-498e-fcc0-42ffc6e13e3e"
      },
      "source": [
        "\n",
        "pred_unlabel_2 = classifier_1.predict_proba(x_un2)\n",
        "pred_unlabel_2"
      ],
      "execution_count": null,
      "outputs": [
        {
          "output_type": "execute_result",
          "data": {
            "text/plain": [
              "array([[0.13  , 0.35  , 0.31  , 0.15  , 0.03  , 0.03  ],\n",
              "       [0.05  , 0.0225, 0.2175, 0.03  , 0.37  , 0.31  ],\n",
              "       [0.055 , 0.05  , 0.555 , 0.28  , 0.01  , 0.05  ],\n",
              "       ...,\n",
              "       [0.05  , 0.    , 0.78  , 0.16  , 0.01  , 0.    ],\n",
              "       [0.05  , 0.02  , 0.64  , 0.25  , 0.01  , 0.03  ],\n",
              "       [0.01  , 0.01  , 0.96  , 0.02  , 0.    , 0.    ]])"
            ]
          },
          "metadata": {
            "tags": []
          },
          "execution_count": 38
        }
      ]
    },
    {
      "cell_type": "code",
      "metadata": {
        "colab": {
          "base_uri": "https://localhost:8080/"
        },
        "id": "zXnOCoCCB8hM",
        "outputId": "5fb3c23a-88bc-4023-909c-0fbcd0d4e20a"
      },
      "source": [
        "print(len(pred_unlabel_2))\n",
        "print(np.unique(pred_unlabel_2))"
      ],
      "execution_count": null,
      "outputs": [
        {
          "output_type": "stream",
          "text": [
            "100000\n",
            "[0.         0.0025     0.00333333 ... 0.99       0.99666667 1.        ]\n"
          ],
          "name": "stdout"
        }
      ]
    },
    {
      "cell_type": "code",
      "metadata": {
        "colab": {
          "base_uri": "https://localhost:8080/"
        },
        "id": "8n23pWivB8qi",
        "outputId": "de089513-e3d6-4802-bb6e-ef20442fddda"
      },
      "source": [
        "import numpy as np\n",
        "pos=[]\n",
        "large=[]\n",
        "ind = []\n",
        "i=0\n",
        "for j in pred_unlabel_2:\n",
        "  if max(j)> Threshold:\n",
        "    ind.append(np.argmax(j))\n",
        "    large.append(max(j))\n",
        "    pos.append(i)\n",
        "  i+=1\n",
        "\n",
        "\n",
        "print(ind)\n",
        "print(large)\n",
        "print(pos)\n",
        "print(type(pos))\n",
        "print(len(ind))\n",
        "print(len(large))\n",
        "print(len(pos))"
      ],
      "execution_count": null,
      "outputs": [
        {
          "output_type": "stream",
          "text": [
            "[2, 2, 2, 2, 2, 1, 1, 2, 1, 2, 1, 1, 2, 2, 1, 1, 2, 1, 1, 1, 2, 1, 2, 2, 1, 2, 2, 2, 2, 2, 2, 2, 1, 2, 2, 2, 2, 2, 1, 2, 2, 1, 2, 1, 1, 1, 1, 2, 1, 2, 2, 2, 2, 2, 2, 2, 2, 1, 2, 2, 2, 1, 2, 2, 2, 2, 1, 2, 2, 2, 2, 2, 2, 1, 2, 1, 2, 2, 2, 2, 2, 2, 2, 3, 2, 1, 2, 2, 2, 2, 2, 2, 2, 2, 1, 2, 2, 2, 2, 2, 1, 2, 2, 1, 2, 2, 1, 2, 2, 2, 2, 1, 2, 2, 1, 2, 2, 2, 2, 2, 2, 1, 2, 2, 3, 2, 1, 2, 1, 1, 2, 1, 1, 2, 2, 2, 2, 1, 1, 2, 2, 2, 2, 2, 2, 2, 2, 2, 1, 2, 2, 2, 2, 2, 2, 2, 1, 1, 2, 1, 1, 2, 2, 2, 2, 1, 2, 1, 1, 2, 1, 1, 2, 2, 2, 2, 1, 1, 2, 2, 2, 2, 1, 2, 1, 1, 2, 1, 2, 2, 2, 1, 2, 1, 2, 2, 1, 2, 2, 2, 2, 1, 2, 2, 2, 2, 2, 1, 2, 2, 2, 1, 1, 1, 1, 2, 2, 2, 2, 2, 2, 1, 2, 2, 1, 2, 1, 2, 1, 2, 2, 2, 2, 2, 1, 2, 2, 2, 2, 2, 2, 1, 1, 2, 1, 1, 2, 2, 1, 2, 2, 2, 2, 1, 2, 1, 2, 2, 1, 1, 2, 2, 2, 1, 2, 1, 2, 1, 1, 2, 2, 2, 1, 2, 1, 1, 2, 1, 2, 1, 2, 2, 1, 2, 2, 1, 2, 2, 2, 1, 2, 2, 1, 1, 2, 1, 1, 2, 2, 2, 1, 2, 2, 1, 2, 2, 2, 2, 1, 2, 2]\n",
            "[0.99, 0.99, 1.0, 0.99, 0.99, 1.0, 0.9966666666666667, 0.99, 0.9883333333333334, 0.99, 0.9883333333333334, 0.9966666666666667, 0.99, 0.99, 0.9966666666666667, 0.9966666666666667, 1.0, 0.9966666666666667, 0.9966666666666667, 0.9966666666666667, 0.99, 0.9966666666666667, 0.99, 0.99, 0.9966666666666667, 1.0, 0.99, 0.99, 0.99, 0.99, 1.0, 0.99, 0.9966666666666667, 0.99, 1.0, 0.99, 0.99, 0.99, 0.9966666666666667, 1.0, 1.0, 0.9966666666666667, 0.99, 0.9966666666666667, 0.9966666666666667, 0.9966666666666667, 0.9883333333333334, 1.0, 0.9966666666666667, 0.99, 0.99, 1.0, 0.99, 0.99, 1.0, 0.99, 1.0, 0.9966666666666667, 1.0, 1.0, 1.0, 0.9966666666666667, 0.99, 0.99, 1.0, 0.99, 0.9966666666666667, 1.0, 0.99, 0.99, 0.99, 1.0, 0.99, 0.9966666666666667, 0.99, 0.9966666666666667, 0.99, 0.99, 0.99, 1.0, 0.99, 0.99, 0.99, 0.99, 0.99, 0.9966666666666667, 1.0, 0.99, 0.99, 0.99, 1.0, 0.99, 0.99, 0.99, 0.9966666666666667, 0.99, 1.0, 1.0, 1.0, 0.99, 0.9966666666666667, 0.99, 0.99, 0.9966666666666667, 0.99, 0.99, 0.9966666666666667, 1.0, 0.99, 1.0, 0.99, 0.9966666666666667, 1.0, 1.0, 0.9883333333333334, 0.99, 0.99, 0.99, 0.99, 1.0, 1.0, 1.0, 0.99, 1.0, 1.0, 1.0, 0.9966666666666667, 0.99, 0.9966666666666667, 0.9966666666666667, 0.99, 0.9883333333333334, 0.9966666666666667, 0.99, 1.0, 0.99, 0.99, 1.0, 0.9966666666666667, 0.99, 0.99, 0.99, 1.0, 1.0, 0.99, 0.99, 0.99, 0.99, 0.9966666666666667, 0.99, 0.99, 0.99, 0.99, 1.0, 0.99, 0.99, 0.9966666666666667, 1.0, 1.0, 0.9883333333333334, 0.9966666666666667, 0.99, 1.0, 0.99, 0.99, 0.9966666666666667, 0.99, 1.0, 0.9883333333333334, 1.0, 0.9966666666666667, 0.9966666666666667, 0.99, 0.99, 0.99, 0.99, 0.9883333333333334, 0.9883333333333334, 0.99, 0.99, 1.0, 0.99, 0.9883333333333334, 1.0, 0.9883333333333334, 0.9883333333333334, 0.99, 0.9883333333333334, 1.0, 0.99, 1.0, 0.9966666666666667, 0.99, 1.0, 0.99, 0.99, 1.0, 0.99, 0.99, 0.99, 0.99, 1.0, 0.99, 1.0, 1.0, 0.99, 0.99, 1.0, 0.99, 0.99, 1.0, 0.9966666666666667, 0.9966666666666667, 0.9966666666666667, 0.9966666666666667, 1.0, 1.0, 0.99, 1.0, 1.0, 0.99, 1.0, 0.99, 1.0, 0.9966666666666667, 0.99, 0.9966666666666667, 1.0, 1.0, 0.99, 0.99, 0.99, 0.99, 0.99, 0.9966666666666667, 0.99, 0.99, 1.0, 0.99, 1.0, 0.99, 0.9966666666666667, 0.9966666666666667, 1.0, 0.9966666666666667, 0.9966666666666667, 1.0, 1.0, 0.9966666666666667, 0.99, 0.99, 1.0, 0.99, 0.9966666666666667, 1.0, 0.9966666666666667, 0.99, 0.99, 0.9966666666666667, 0.9883333333333334, 0.99, 0.99, 0.99, 1.0, 0.99, 1.0, 0.99, 0.9966666666666667, 0.9966666666666667, 0.99, 1.0, 0.99, 0.9966666666666667, 1.0, 0.9966666666666667, 0.9883333333333334, 1.0, 0.9966666666666667, 0.99, 0.9966666666666667, 1.0, 0.99, 0.9966666666666667, 1.0, 0.985, 0.9966666666666667, 0.99, 1.0, 0.99, 0.9966666666666667, 0.99, 0.99, 1.0, 0.9883333333333334, 1.0, 1.0, 0.9966666666666667, 0.99, 0.99, 0.99, 0.9966666666666667, 0.99, 0.99, 0.9966666666666667, 0.985, 1.0, 1.0, 1.0, 0.9966666666666667, 0.99, 0.99]\n",
            "[442, 609, 901, 1073, 1183, 1639, 1757, 1902, 2327, 2398, 2426, 2796, 3150, 3411, 3554, 3709, 3864, 4800, 4834, 6103, 6335, 6565, 6571, 6679, 6916, 7054, 7591, 8490, 8692, 8904, 9092, 9323, 9475, 9805, 9806, 9808, 9810, 10450, 10499, 10503, 10504, 10886, 11008, 12069, 12507, 12534, 12992, 13453, 13466, 13539, 13721, 13859, 13865, 14458, 15296, 15645, 15849, 16094, 16387, 16773, 16865, 16904, 17026, 17086, 17268, 18311, 18591, 19126, 19210, 19332, 19429, 19588, 19590, 19936, 20230, 20284, 20469, 20806, 21041, 21046, 21260, 21270, 21465, 21500, 22149, 22242, 22353, 22432, 22805, 22813, 22818, 22820, 22823, 22825, 23252, 23674, 23709, 23711, 24024, 24229, 24272, 24305, 24307, 24368, 24920, 25134, 25170, 26077, 26278, 26391, 26903, 27325, 27489, 28982, 29130, 30234, 30656, 30780, 30943, 31568, 32290, 32538, 32909, 32914, 34415, 34874, 35101, 35224, 35502, 35937, 36060, 36340, 37045, 38135, 38253, 38278, 38431, 38504, 40756, 41400, 41403, 41481, 41878, 42386, 42851, 42961, 42974, 43328, 43405, 43592, 44121, 44427, 44489, 44549, 44766, 45178, 45277, 45677, 45715, 46536, 47139, 47463, 47891, 47894, 47901, 48132, 48200, 48355, 48383, 48397, 48845, 49061, 49155, 49245, 50548, 50887, 51286, 51553, 52627, 52636, 53079, 53188, 53646, 53941, 54800, 55321, 55572, 55854, 56063, 56197, 56673, 56722, 57134, 57321, 58208, 58611, 58646, 59921, 59922, 59925, 60115, 60428, 60956, 61330, 62384, 63000, 63921, 63937, 63941, 64092, 64536, 64593, 64867, 65104, 65396, 65498, 65526, 65628, 65692, 65694, 65874, 66179, 66200, 66263, 66578, 67233, 67623, 68047, 68097, 68193, 68336, 68363, 68405, 69144, 69327, 69503, 70039, 70223, 70255, 70345, 70512, 71239, 71698, 71704, 71731, 71783, 72447, 72904, 73842, 74169, 74205, 74509, 75312, 75421, 75824, 76200, 76538, 77024, 77063, 77808, 78009, 78354, 78390, 78414, 78650, 78807, 79520, 79532, 79681, 80166, 81463, 81579, 81852, 82248, 82505, 82736, 82920, 83450, 83511, 84867, 85569, 86235, 88416, 88584, 88671, 89440, 89446, 89901, 89962, 90180, 90717, 90986, 91007, 91369, 91941, 93159, 94841, 94906, 95203, 95353, 96255, 96893, 97185, 97266, 98277, 98631, 98796, 98903, 99019, 99079, 99817]\n",
            "<class 'list'>\n",
            "311\n",
            "311\n",
            "311\n"
          ],
          "name": "stdout"
        }
      ]
    },
    {
      "cell_type": "code",
      "metadata": {
        "colab": {
          "base_uri": "https://localhost:8080/",
          "height": 221
        },
        "id": "KDxAqv3YCYzy",
        "outputId": "8423d392-c8e5-4c21-fa44-dd25ac2bae84"
      },
      "source": [
        "unlabel_2 = unlabel_2.loc[pos,:]\n",
        "print(len(unlabel_2))\n",
        "unlabel_2.head()"
      ],
      "execution_count": null,
      "outputs": [
        {
          "output_type": "stream",
          "text": [
            "311\n"
          ],
          "name": "stdout"
        },
        {
          "output_type": "execute_result",
          "data": {
            "text/html": [
              "<div>\n",
              "<style scoped>\n",
              "    .dataframe tbody tr th:only-of-type {\n",
              "        vertical-align: middle;\n",
              "    }\n",
              "\n",
              "    .dataframe tbody tr th {\n",
              "        vertical-align: top;\n",
              "    }\n",
              "\n",
              "    .dataframe thead th {\n",
              "        text-align: right;\n",
              "    }\n",
              "</style>\n",
              "<table border=\"1\" class=\"dataframe\">\n",
              "  <thead>\n",
              "    <tr style=\"text-align: right;\">\n",
              "      <th></th>\n",
              "      <th>text</th>\n",
              "    </tr>\n",
              "  </thead>\n",
              "  <tbody>\n",
              "    <tr>\n",
              "      <th>442</th>\n",
              "      <td>testified knew recognized appellant voice nigh...</td>\n",
              "    </tr>\n",
              "    <tr>\n",
              "      <th>609</th>\n",
              "      <td>papa went home got hill dorsey came backi dont...</td>\n",
              "    </tr>\n",
              "    <tr>\n",
              "      <th>901</th>\n",
              "      <td>outside saw george foreman come door say hold ...</td>\n",
              "    </tr>\n",
              "    <tr>\n",
              "      <th>1073</th>\n",
              "      <td>sheriff moore saw recognized appellant wheel c...</td>\n",
              "    </tr>\n",
              "    <tr>\n",
              "      <th>1183</th>\n",
              "      <td>constable testified went appellant home serve ...</td>\n",
              "    </tr>\n",
              "  </tbody>\n",
              "</table>\n",
              "</div>"
            ],
            "text/plain": [
              "                                                   text\n",
              "442   testified knew recognized appellant voice nigh...\n",
              "609   papa went home got hill dorsey came backi dont...\n",
              "901   outside saw george foreman come door say hold ...\n",
              "1073  sheriff moore saw recognized appellant wheel c...\n",
              "1183  constable testified went appellant home serve ..."
            ]
          },
          "metadata": {
            "tags": []
          },
          "execution_count": 41
        }
      ]
    },
    {
      "cell_type": "code",
      "metadata": {
        "id": "OX8L6__RC1Bj"
      },
      "source": [
        "class_x_un2 = tfidf_vect.transform(unlabel_2['text'])"
      ],
      "execution_count": null,
      "outputs": []
    },
    {
      "cell_type": "code",
      "metadata": {
        "colab": {
          "base_uri": "https://localhost:8080/"
        },
        "id": "6O2NyGzTC6aX",
        "outputId": "353cef1c-8dc5-4bd7-eeca-2124de5b2dd1"
      },
      "source": [
        "class_x_un1.shape"
      ],
      "execution_count": null,
      "outputs": [
        {
          "output_type": "execute_result",
          "data": {
            "text/plain": [
              "(114, 6383)"
            ]
          },
          "metadata": {
            "tags": []
          },
          "execution_count": 43
        }
      ]
    },
    {
      "cell_type": "code",
      "metadata": {
        "colab": {
          "base_uri": "https://localhost:8080/"
        },
        "id": "iw4ROFmeC_Tf",
        "outputId": "7d634bf5-f4db-4a9a-9f38-eca0b80a9083"
      },
      "source": [
        "class_pred_unlabel_2 = classifier_1.predict(class_x_un2)\n",
        "class_pred_unlabel_2"
      ],
      "execution_count": null,
      "outputs": [
        {
          "output_type": "execute_result",
          "data": {
            "text/plain": [
              "array(['Facts', 'Facts', 'Facts', 'Facts', 'Facts', 'Conclusion',\n",
              "       'Conclusion', 'Facts', 'Conclusion', 'Facts', 'Conclusion',\n",
              "       'Conclusion', 'Facts', 'Facts', 'Conclusion', 'Conclusion',\n",
              "       'Facts', 'Conclusion', 'Conclusion', 'Conclusion', 'Facts',\n",
              "       'Conclusion', 'Facts', 'Facts', 'Conclusion', 'Facts', 'Facts',\n",
              "       'Facts', 'Facts', 'Facts', 'Facts', 'Facts', 'Conclusion', 'Facts',\n",
              "       'Facts', 'Facts', 'Facts', 'Facts', 'Conclusion', 'Facts', 'Facts',\n",
              "       'Conclusion', 'Facts', 'Conclusion', 'Conclusion', 'Conclusion',\n",
              "       'Conclusion', 'Facts', 'Conclusion', 'Facts', 'Facts', 'Facts',\n",
              "       'Facts', 'Facts', 'Facts', 'Facts', 'Facts', 'Conclusion', 'Facts',\n",
              "       'Facts', 'Facts', 'Conclusion', 'Facts', 'Facts', 'Facts', 'Facts',\n",
              "       'Conclusion', 'Facts', 'Facts', 'Facts', 'Facts', 'Facts', 'Facts',\n",
              "       'Conclusion', 'Facts', 'Conclusion', 'Facts', 'Facts', 'Facts',\n",
              "       'Facts', 'Facts', 'Facts', 'Facts', 'Invalid', 'Facts',\n",
              "       'Conclusion', 'Facts', 'Facts', 'Facts', 'Facts', 'Facts', 'Facts',\n",
              "       'Facts', 'Facts', 'Conclusion', 'Facts', 'Facts', 'Facts', 'Facts',\n",
              "       'Facts', 'Conclusion', 'Facts', 'Facts', 'Conclusion', 'Facts',\n",
              "       'Facts', 'Conclusion', 'Facts', 'Facts', 'Facts', 'Facts',\n",
              "       'Conclusion', 'Facts', 'Facts', 'Conclusion', 'Facts', 'Facts',\n",
              "       'Facts', 'Facts', 'Facts', 'Facts', 'Conclusion', 'Facts', 'Facts',\n",
              "       'Invalid', 'Facts', 'Conclusion', 'Facts', 'Conclusion',\n",
              "       'Conclusion', 'Facts', 'Conclusion', 'Conclusion', 'Facts',\n",
              "       'Facts', 'Facts', 'Facts', 'Conclusion', 'Conclusion', 'Facts',\n",
              "       'Facts', 'Facts', 'Facts', 'Facts', 'Facts', 'Facts', 'Facts',\n",
              "       'Facts', 'Conclusion', 'Facts', 'Facts', 'Facts', 'Facts', 'Facts',\n",
              "       'Facts', 'Facts', 'Conclusion', 'Conclusion', 'Facts',\n",
              "       'Conclusion', 'Conclusion', 'Facts', 'Facts', 'Facts', 'Facts',\n",
              "       'Conclusion', 'Facts', 'Conclusion', 'Conclusion', 'Facts',\n",
              "       'Conclusion', 'Conclusion', 'Facts', 'Facts', 'Facts', 'Facts',\n",
              "       'Conclusion', 'Conclusion', 'Facts', 'Facts', 'Facts', 'Facts',\n",
              "       'Conclusion', 'Facts', 'Conclusion', 'Conclusion', 'Facts',\n",
              "       'Conclusion', 'Facts', 'Facts', 'Facts', 'Conclusion', 'Facts',\n",
              "       'Conclusion', 'Facts', 'Facts', 'Conclusion', 'Facts', 'Facts',\n",
              "       'Facts', 'Facts', 'Conclusion', 'Facts', 'Facts', 'Facts', 'Facts',\n",
              "       'Facts', 'Conclusion', 'Facts', 'Facts', 'Facts', 'Conclusion',\n",
              "       'Conclusion', 'Conclusion', 'Conclusion', 'Facts', 'Facts',\n",
              "       'Facts', 'Facts', 'Facts', 'Facts', 'Conclusion', 'Facts', 'Facts',\n",
              "       'Conclusion', 'Facts', 'Conclusion', 'Facts', 'Conclusion',\n",
              "       'Facts', 'Facts', 'Facts', 'Facts', 'Facts', 'Conclusion', 'Facts',\n",
              "       'Facts', 'Facts', 'Facts', 'Facts', 'Facts', 'Conclusion',\n",
              "       'Conclusion', 'Facts', 'Conclusion', 'Conclusion', 'Facts',\n",
              "       'Facts', 'Conclusion', 'Facts', 'Facts', 'Facts', 'Facts',\n",
              "       'Conclusion', 'Facts', 'Conclusion', 'Facts', 'Facts',\n",
              "       'Conclusion', 'Conclusion', 'Facts', 'Facts', 'Facts',\n",
              "       'Conclusion', 'Facts', 'Conclusion', 'Facts', 'Conclusion',\n",
              "       'Conclusion', 'Facts', 'Facts', 'Facts', 'Conclusion', 'Facts',\n",
              "       'Conclusion', 'Conclusion', 'Facts', 'Conclusion', 'Facts',\n",
              "       'Conclusion', 'Facts', 'Facts', 'Conclusion', 'Facts', 'Facts',\n",
              "       'Conclusion', 'Facts', 'Facts', 'Facts', 'Conclusion', 'Facts',\n",
              "       'Facts', 'Conclusion', 'Conclusion', 'Facts', 'Conclusion',\n",
              "       'Conclusion', 'Facts', 'Facts', 'Facts', 'Conclusion', 'Facts',\n",
              "       'Facts', 'Conclusion', 'Facts', 'Facts', 'Facts', 'Facts',\n",
              "       'Conclusion', 'Facts', 'Facts'], dtype=object)"
            ]
          },
          "metadata": {
            "tags": []
          },
          "execution_count": 44
        }
      ]
    },
    {
      "cell_type": "code",
      "metadata": {
        "colab": {
          "base_uri": "https://localhost:8080/"
        },
        "id": "-c4pzr8-DGip",
        "outputId": "2032eb42-bfe6-421f-f530-739329ca1d87"
      },
      "source": [
        "print(len(class_pred_unlabel_2))"
      ],
      "execution_count": null,
      "outputs": [
        {
          "output_type": "stream",
          "text": [
            "311\n"
          ],
          "name": "stdout"
        }
      ]
    },
    {
      "cell_type": "code",
      "metadata": {
        "colab": {
          "base_uri": "https://localhost:8080/",
          "height": 204
        },
        "id": "cwnBPztaDK6e",
        "outputId": "f2d3f7b1-2dcb-4d38-dd65-87e78d2d274d"
      },
      "source": [
        "unlabel_2['Target']=class_pred_unlabel_2\n",
        "unlabel_2.head()"
      ],
      "execution_count": null,
      "outputs": [
        {
          "output_type": "execute_result",
          "data": {
            "text/html": [
              "<div>\n",
              "<style scoped>\n",
              "    .dataframe tbody tr th:only-of-type {\n",
              "        vertical-align: middle;\n",
              "    }\n",
              "\n",
              "    .dataframe tbody tr th {\n",
              "        vertical-align: top;\n",
              "    }\n",
              "\n",
              "    .dataframe thead th {\n",
              "        text-align: right;\n",
              "    }\n",
              "</style>\n",
              "<table border=\"1\" class=\"dataframe\">\n",
              "  <thead>\n",
              "    <tr style=\"text-align: right;\">\n",
              "      <th></th>\n",
              "      <th>text</th>\n",
              "      <th>Target</th>\n",
              "    </tr>\n",
              "  </thead>\n",
              "  <tbody>\n",
              "    <tr>\n",
              "      <th>442</th>\n",
              "      <td>testified knew recognized appellant voice nigh...</td>\n",
              "      <td>Facts</td>\n",
              "    </tr>\n",
              "    <tr>\n",
              "      <th>609</th>\n",
              "      <td>papa went home got hill dorsey came backi dont...</td>\n",
              "      <td>Facts</td>\n",
              "    </tr>\n",
              "    <tr>\n",
              "      <th>901</th>\n",
              "      <td>outside saw george foreman come door say hold ...</td>\n",
              "      <td>Facts</td>\n",
              "    </tr>\n",
              "    <tr>\n",
              "      <th>1073</th>\n",
              "      <td>sheriff moore saw recognized appellant wheel c...</td>\n",
              "      <td>Facts</td>\n",
              "    </tr>\n",
              "    <tr>\n",
              "      <th>1183</th>\n",
              "      <td>constable testified went appellant home serve ...</td>\n",
              "      <td>Facts</td>\n",
              "    </tr>\n",
              "  </tbody>\n",
              "</table>\n",
              "</div>"
            ],
            "text/plain": [
              "                                                   text Target\n",
              "442   testified knew recognized appellant voice nigh...  Facts\n",
              "609   papa went home got hill dorsey came backi dont...  Facts\n",
              "901   outside saw george foreman come door say hold ...  Facts\n",
              "1073  sheriff moore saw recognized appellant wheel c...  Facts\n",
              "1183  constable testified went appellant home serve ...  Facts"
            ]
          },
          "metadata": {
            "tags": []
          },
          "execution_count": 46
        }
      ]
    },
    {
      "cell_type": "code",
      "metadata": {
        "colab": {
          "base_uri": "https://localhost:8080/",
          "height": 204
        },
        "id": "RLOEKUSkDbK9",
        "outputId": "5adbd5af-2e7d-4d0c-d44e-d0ec8a46cd65"
      },
      "source": [
        "train_1.head()"
      ],
      "execution_count": null,
      "outputs": [
        {
          "output_type": "execute_result",
          "data": {
            "text/html": [
              "<div>\n",
              "<style scoped>\n",
              "    .dataframe tbody tr th:only-of-type {\n",
              "        vertical-align: middle;\n",
              "    }\n",
              "\n",
              "    .dataframe tbody tr th {\n",
              "        vertical-align: top;\n",
              "    }\n",
              "\n",
              "    .dataframe thead th {\n",
              "        text-align: right;\n",
              "    }\n",
              "</style>\n",
              "<table border=\"1\" class=\"dataframe\">\n",
              "  <thead>\n",
              "    <tr style=\"text-align: right;\">\n",
              "      <th></th>\n",
              "      <th>Unnamed: 0</th>\n",
              "      <th>text</th>\n",
              "      <th>Target</th>\n",
              "    </tr>\n",
              "  </thead>\n",
              "  <tbody>\n",
              "    <tr>\n",
              "      <th>0</th>\n",
              "      <td>659.0</td>\n",
              "      <td>Appellant had stated to the officers that she ...</td>\n",
              "      <td>Invalid</td>\n",
              "    </tr>\n",
              "    <tr>\n",
              "      <th>1</th>\n",
              "      <td>3456.0</td>\n",
              "      <td>We shall discuss the facts more fully in conne...</td>\n",
              "      <td>Invalid</td>\n",
              "    </tr>\n",
              "    <tr>\n",
              "      <th>2</th>\n",
              "      <td>2043.0</td>\n",
              "      <td>â€œPerjury is a false statement, either writte...</td>\n",
              "      <td>Invalid</td>\n",
              "    </tr>\n",
              "    <tr>\n",
              "      <th>3</th>\n",
              "      <td>3344.0</td>\n",
              "      <td>The offense is felony theft by false pretext; ...</td>\n",
              "      <td>Issue</td>\n",
              "    </tr>\n",
              "    <tr>\n",
              "      <th>4</th>\n",
              "      <td>3231.0</td>\n",
              "      <td>Numerous contentions urging the commission of ...</td>\n",
              "      <td>Issue</td>\n",
              "    </tr>\n",
              "  </tbody>\n",
              "</table>\n",
              "</div>"
            ],
            "text/plain": [
              "   Unnamed: 0                                               text   Target\n",
              "0       659.0  Appellant had stated to the officers that she ...  Invalid\n",
              "1      3456.0  We shall discuss the facts more fully in conne...  Invalid\n",
              "2      2043.0  â€œPerjury is a false statement, either writte...  Invalid\n",
              "3      3344.0  The offense is felony theft by false pretext; ...    Issue\n",
              "4      3231.0  Numerous contentions urging the commission of ...    Issue"
            ]
          },
          "metadata": {
            "tags": []
          },
          "execution_count": 47
        }
      ]
    },
    {
      "cell_type": "code",
      "metadata": {
        "colab": {
          "base_uri": "https://localhost:8080/"
        },
        "id": "wLHnOPItD0fP",
        "outputId": "d1e33848-8dcc-45c7-a57c-f89228af5078"
      },
      "source": [
        "frame_2 = [train_1,unlabel_2]\n",
        "train_2 = pd.concat(frame_2)\n",
        "print(len(train_1))\n",
        "print(len(unlabel_2))\n",
        "print(len(train_2))"
      ],
      "execution_count": null,
      "outputs": [
        {
          "output_type": "stream",
          "text": [
            "3590\n",
            "311\n",
            "3901\n"
          ],
          "name": "stdout"
        }
      ]
    },
    {
      "cell_type": "code",
      "metadata": {
        "colab": {
          "base_uri": "https://localhost:8080/",
          "height": 419
        },
        "id": "FoOkIwhkECw6",
        "outputId": "bf673f73-38aa-4342-edea-00d4b7d49aac"
      },
      "source": [
        "train_2"
      ],
      "execution_count": null,
      "outputs": [
        {
          "output_type": "execute_result",
          "data": {
            "text/html": [
              "<div>\n",
              "<style scoped>\n",
              "    .dataframe tbody tr th:only-of-type {\n",
              "        vertical-align: middle;\n",
              "    }\n",
              "\n",
              "    .dataframe tbody tr th {\n",
              "        vertical-align: top;\n",
              "    }\n",
              "\n",
              "    .dataframe thead th {\n",
              "        text-align: right;\n",
              "    }\n",
              "</style>\n",
              "<table border=\"1\" class=\"dataframe\">\n",
              "  <thead>\n",
              "    <tr style=\"text-align: right;\">\n",
              "      <th></th>\n",
              "      <th>Unnamed: 0</th>\n",
              "      <th>text</th>\n",
              "      <th>Target</th>\n",
              "    </tr>\n",
              "  </thead>\n",
              "  <tbody>\n",
              "    <tr>\n",
              "      <th>0</th>\n",
              "      <td>659.0</td>\n",
              "      <td>Appellant had stated to the officers that she ...</td>\n",
              "      <td>Invalid</td>\n",
              "    </tr>\n",
              "    <tr>\n",
              "      <th>1</th>\n",
              "      <td>3456.0</td>\n",
              "      <td>We shall discuss the facts more fully in conne...</td>\n",
              "      <td>Invalid</td>\n",
              "    </tr>\n",
              "    <tr>\n",
              "      <th>2</th>\n",
              "      <td>2043.0</td>\n",
              "      <td>â€œPerjury is a false statement, either writte...</td>\n",
              "      <td>Invalid</td>\n",
              "    </tr>\n",
              "    <tr>\n",
              "      <th>3</th>\n",
              "      <td>3344.0</td>\n",
              "      <td>The offense is felony theft by false pretext; ...</td>\n",
              "      <td>Issue</td>\n",
              "    </tr>\n",
              "    <tr>\n",
              "      <th>4</th>\n",
              "      <td>3231.0</td>\n",
              "      <td>Numerous contentions urging the commission of ...</td>\n",
              "      <td>Issue</td>\n",
              "    </tr>\n",
              "    <tr>\n",
              "      <th>...</th>\n",
              "      <td>...</td>\n",
              "      <td>...</td>\n",
              "      <td>...</td>\n",
              "    </tr>\n",
              "    <tr>\n",
              "      <th>98796</th>\n",
              "      <td>NaN</td>\n",
              "      <td>appellant came back long box brought put car</td>\n",
              "      <td>Facts</td>\n",
              "    </tr>\n",
              "    <tr>\n",
              "      <th>98903</th>\n",
              "      <td>NaN</td>\n",
              "      <td>appellant testify offer evidence behalf</td>\n",
              "      <td>Facts</td>\n",
              "    </tr>\n",
              "    <tr>\n",
              "      <th>99019</th>\n",
              "      <td>NaN</td>\n",
              "      <td>error pointed judgment reversed cause remanded</td>\n",
              "      <td>Conclusion</td>\n",
              "    </tr>\n",
              "    <tr>\n",
              "      <th>99079</th>\n",
              "      <td>NaN</td>\n",
              "      <td>appellant witness testified saw appellant shor...</td>\n",
              "      <td>Facts</td>\n",
              "    </tr>\n",
              "    <tr>\n",
              "      <th>99817</th>\n",
              "      <td>NaN</td>\n",
              "      <td>waiting officer got started direction appellan...</td>\n",
              "      <td>Facts</td>\n",
              "    </tr>\n",
              "  </tbody>\n",
              "</table>\n",
              "<p>3901 rows × 3 columns</p>\n",
              "</div>"
            ],
            "text/plain": [
              "       Unnamed: 0  ...      Target\n",
              "0           659.0  ...     Invalid\n",
              "1          3456.0  ...     Invalid\n",
              "2          2043.0  ...     Invalid\n",
              "3          3344.0  ...       Issue\n",
              "4          3231.0  ...       Issue\n",
              "...           ...  ...         ...\n",
              "98796         NaN  ...       Facts\n",
              "98903         NaN  ...       Facts\n",
              "99019         NaN  ...  Conclusion\n",
              "99079         NaN  ...       Facts\n",
              "99817         NaN  ...       Facts\n",
              "\n",
              "[3901 rows x 3 columns]"
            ]
          },
          "metadata": {
            "tags": []
          },
          "execution_count": 49
        }
      ]
    },
    {
      "cell_type": "code",
      "metadata": {
        "colab": {
          "base_uri": "https://localhost:8080/"
        },
        "id": "IlY1RWWOEHO1",
        "outputId": "36b896f4-b962-41a4-e065-742a0ee83d1e"
      },
      "source": [
        "from sklearn.metrics import classification_report\n",
        "x_train_2 = tfidf_vect.transform(train_2['text'])\n",
        "x_train_2.shape\n",
        "X_train, x_val, Y_train, y_val = train_test_split(x_train_2,train_2['Target'],test_size=0.25,random_state=2)\n",
        "classifier_2 = RandomForestClassifier(n_estimators = 100, criterion = 'gini', random_state = 42)\n",
        "classifier_2.fit(X_train, Y_train)\n",
        "y_pred = classifier_2.predict(x_val)\n",
        "print(np.unique(y_pred))\n",
        "print(type(y_pred))\n",
        "\n",
        "\n",
        "Accuracy_score = accuracy_score(y_pred,y_val)\n",
        "\n",
        "print('Validation ------- Accuracy_score: %f' % Accuracy_score)\n",
        "\n",
        "test_pred = classifier_2.predict(t_p)\n",
        "acc_test = accuracy_score(test_pred,test['Target'])\n",
        "print('Test ------Accuracy score ', acc_test)\n",
        "matrix = confusion_matrix(y_pred, y_val)\n",
        "print(matrix)\n",
        "print(\"---------validation--------------\")\n",
        "print(classification_report(y_val,y_pred))\n",
        "print(\"----------test---------------------\")\n",
        "print(classification_report(test['Target'],test_pred))"
      ],
      "execution_count": null,
      "outputs": [
        {
          "output_type": "stream",
          "text": [
            "['Analysis' 'Conclusion' 'Facts' 'Invalid' 'Issue' 'Rule/Law/Holding']\n",
            "<class 'numpy.ndarray'>\n",
            "Validation ------- Accuracy_score: 0.671107\n",
            "Test ------Accuracy score  0.6065259117082533\n",
            "[[ 40   9  10   5   8  11]\n",
            " [  3  56   1   3   1   0]\n",
            " [ 75  14 455  50  24  18]\n",
            " [ 18   6  37  72   3  13]\n",
            " [  0   1   2   0  16   0]\n",
            " [  0   0   0   5   4  16]]\n",
            "---------validation--------------\n",
            "                  precision    recall  f1-score   support\n",
            "\n",
            "        Analysis       0.48      0.29      0.37       136\n",
            "      Conclusion       0.88      0.65      0.75        86\n",
            "           Facts       0.72      0.90      0.80       505\n",
            "         Invalid       0.48      0.53      0.51       135\n",
            "           Issue       0.84      0.29      0.43        56\n",
            "Rule/Law/Holding       0.64      0.28      0.39        58\n",
            "\n",
            "        accuracy                           0.67       976\n",
            "       macro avg       0.67      0.49      0.54       976\n",
            "    weighted avg       0.67      0.67      0.65       976\n",
            "\n",
            "----------test---------------------\n",
            "                  precision    recall  f1-score   support\n",
            "\n",
            "        Analysis       0.49      0.26      0.34        77\n",
            "      Conclusion       0.74      0.54      0.62        26\n",
            "           Facts       0.66      0.83      0.73       267\n",
            "         Invalid       0.43      0.52      0.47        83\n",
            "           Issue       0.80      0.24      0.36        34\n",
            "Rule/Law/Holding       0.59      0.29      0.39        34\n",
            "\n",
            "        accuracy                           0.61       521\n",
            "       macro avg       0.62      0.45      0.49       521\n",
            "    weighted avg       0.61      0.61      0.58       521\n",
            "\n"
          ],
          "name": "stdout"
        }
      ]
    },
    {
      "cell_type": "code",
      "metadata": {
        "id": "AKg_k1iKIBKE"
      },
      "source": [
        ""
      ],
      "execution_count": null,
      "outputs": []
    },
    {
      "cell_type": "markdown",
      "metadata": {
        "id": "dR4DnCyJIMFg"
      },
      "source": [
        "Unlabelled 3:"
      ]
    },
    {
      "cell_type": "code",
      "metadata": {
        "id": "harCGxx3IBZI"
      },
      "source": [
        "x_un3 = tfidf_vect.transform(unlabel_3['text'])\n"
      ],
      "execution_count": null,
      "outputs": []
    },
    {
      "cell_type": "code",
      "metadata": {
        "colab": {
          "base_uri": "https://localhost:8080/"
        },
        "id": "SrGPc31TIBmq",
        "outputId": "3f98f499-7825-4e33-9d36-2f835d3a08a1"
      },
      "source": [
        "\n",
        "pred_unlabel_3 = classifier_2.predict_proba(x_un3)\n",
        "pred_unlabel_3"
      ],
      "execution_count": null,
      "outputs": [
        {
          "output_type": "execute_result",
          "data": {
            "text/plain": [
              "array([[0.  , 0.  , 0.77, 0.23, 0.  , 0.  ],\n",
              "       [0.  , 0.  , 0.48, 0.52, 0.  , 0.  ],\n",
              "       [0.02, 0.  , 0.97, 0.01, 0.  , 0.  ],\n",
              "       ...,\n",
              "       [0.02, 0.01, 0.66, 0.02, 0.13, 0.16],\n",
              "       [0.12, 0.04, 0.7 , 0.06, 0.05, 0.03],\n",
              "       [0.  , 0.01, 0.25, 0.67, 0.02, 0.05]])"
            ]
          },
          "metadata": {
            "tags": []
          },
          "execution_count": 52
        }
      ]
    },
    {
      "cell_type": "code",
      "metadata": {
        "colab": {
          "base_uri": "https://localhost:8080/"
        },
        "id": "JJ9aIZNSI1TV",
        "outputId": "08fc114a-ea31-452f-b967-5985097aba1a"
      },
      "source": [
        "print(len(pred_unlabel_2))\n",
        "print(np.unique(pred_unlabel_2))"
      ],
      "execution_count": null,
      "outputs": [
        {
          "output_type": "stream",
          "text": [
            "100000\n",
            "[0.         0.0025     0.00333333 ... 0.99       0.99666667 1.        ]\n"
          ],
          "name": "stdout"
        }
      ]
    },
    {
      "cell_type": "code",
      "metadata": {
        "colab": {
          "base_uri": "https://localhost:8080/"
        },
        "id": "J5HqbTZLI7iO",
        "outputId": "b3fed966-26b4-43cf-af86-b19433d334dd"
      },
      "source": [
        "import numpy as np\n",
        "pos=[]\n",
        "large=[]\n",
        "ind = []\n",
        "i=0\n",
        "for j in pred_unlabel_3:\n",
        "  if max(j)> Threshold:\n",
        "    ind.append(np.argmax(j))\n",
        "    large.append(max(j))\n",
        "    pos.append(i)\n",
        "  i+=1\n",
        "\n",
        "\n",
        "print(ind)\n",
        "print(large)\n",
        "print(pos)\n",
        "print(type(pos))\n",
        "print(len(ind))\n",
        "print(len(large))\n",
        "print(len(pos))"
      ],
      "execution_count": null,
      "outputs": [
        {
          "output_type": "stream",
          "text": [
            "[2, 1, 2, 2, 2, 2, 2, 2, 2, 2, 2, 2, 3, 2, 2, 2, 2, 1, 1, 1, 1, 2, 2, 2, 2, 2, 2, 2, 2, 2, 2, 2, 2, 1, 1, 2, 2, 1, 2, 2, 1, 2, 1, 2, 1, 2, 1, 2, 2, 2, 2, 1, 2, 2, 2, 1, 1, 1, 2, 2, 2, 1, 1, 2, 2, 2, 1, 1, 2, 1, 1, 2, 1, 2, 2, 2, 2, 2, 1, 2, 1, 2, 1, 2, 2, 2, 1, 1, 1, 2, 2, 2, 2, 2, 2, 2, 2, 2, 2, 2, 1, 2, 1, 2, 2, 1, 2, 2, 2, 2, 1, 2, 2, 2, 2, 1, 2, 2, 1, 2, 2, 2, 2, 2, 2, 2, 2, 2, 2, 2, 1, 2, 2, 2, 1, 2, 2, 2, 2, 2, 2, 2, 2, 2, 2, 2, 2, 2, 2, 2, 1, 1, 2, 2, 1, 3, 2, 2, 2, 2, 2, 2, 2, 2, 2, 1, 2, 2, 2, 1, 2, 2, 2, 2, 2, 2, 1, 1, 1, 1, 1, 3, 2, 2, 2, 2, 2, 2, 1, 1, 2, 1, 2, 2, 2, 2, 2, 2, 3, 1, 2, 2, 2, 2, 1, 2, 2, 1, 1, 1, 1, 1, 2, 2, 2, 2, 3, 1, 2, 2, 1, 2, 2, 2, 2, 1, 2, 2, 2, 2, 2, 1, 2, 2, 2, 2, 2, 1, 2, 2, 2, 2, 2, 2, 2, 1, 2, 1, 2, 2, 2, 1, 1, 2, 2, 1, 2, 2, 1, 2, 2, 2, 2, 2, 1, 1, 2, 2, 1, 2, 1, 2, 2, 1, 2, 2, 1, 1, 2, 2, 1, 2, 2, 2, 2, 2, 2, 2, 2, 2, 2, 2, 1, 2, 2, 2, 2, 2, 2, 3, 3, 1, 1, 2, 1, 2, 2, 2, 2, 2, 2, 2, 2, 2, 2, 2, 2, 2, 2, 2, 2, 2, 2, 2, 2, 1, 2, 2, 2, 2, 1, 2, 2, 2, 2, 2, 2, 2, 1, 2, 2, 2, 2, 2, 1, 2, 2, 2, 2, 2, 1, 1, 2, 2, 2, 1, 2, 1, 2, 1, 2, 2, 1, 2, 2, 1, 2, 1, 1, 2, 2, 2, 2, 2, 2, 2, 2, 3, 2, 2, 1, 2, 2, 2, 2, 1, 2, 2, 2, 1, 1, 2, 1, 2, 1, 2, 2, 2, 2]\n",
            "[0.99, 1.0, 1.0, 0.99, 0.99, 0.99, 0.99, 1.0, 0.99, 0.99, 1.0, 0.99, 0.99, 0.99, 0.99, 0.99, 0.99, 1.0, 1.0, 1.0, 1.0, 1.0, 0.99, 0.99, 0.99, 0.99, 1.0, 0.99, 0.99, 0.99, 0.99, 1.0, 0.99, 1.0, 1.0, 1.0, 1.0, 1.0, 0.99, 0.99, 1.0, 1.0, 1.0, 0.99, 1.0, 1.0, 1.0, 0.99, 1.0, 0.99, 1.0, 1.0, 1.0, 0.99, 1.0, 1.0, 1.0, 1.0, 0.99, 1.0, 1.0, 1.0, 1.0, 0.99, 0.99, 1.0, 1.0, 1.0, 0.99, 1.0, 1.0, 1.0, 1.0, 0.99, 0.99, 0.99, 1.0, 0.99, 1.0, 0.99, 1.0, 0.99, 1.0, 0.99, 0.99, 1.0, 1.0, 1.0, 1.0, 0.99, 1.0, 0.99, 1.0, 0.99, 1.0, 0.99, 0.99, 0.99, 0.99, 0.99, 1.0, 0.99, 1.0, 0.99, 0.99, 1.0, 1.0, 1.0, 1.0, 0.99, 1.0, 1.0, 0.99, 0.99, 1.0, 1.0, 0.99, 0.99, 1.0, 0.99, 0.99, 0.99, 1.0, 0.99, 0.99, 1.0, 1.0, 1.0, 1.0, 1.0, 1.0, 0.99, 0.99, 0.99, 1.0, 0.99, 0.99, 0.99, 1.0, 0.99, 0.99, 1.0, 0.99, 1.0, 0.99, 0.99, 0.99, 0.99, 0.99, 0.99, 1.0, 1.0, 0.99, 1.0, 1.0, 0.99, 1.0, 1.0, 0.99, 0.99, 1.0, 1.0, 0.99, 0.99, 1.0, 1.0, 0.99, 1.0, 0.99, 1.0, 0.99, 1.0, 1.0, 0.99, 0.99, 0.99, 1.0, 1.0, 1.0, 1.0, 1.0, 1.0, 0.99, 0.99, 1.0, 1.0, 0.99, 0.99, 1.0, 1.0, 1.0, 1.0, 1.0, 0.99, 0.99, 0.99, 0.99, 0.99, 0.99, 1.0, 1.0, 1.0, 1.0, 0.99, 1.0, 0.99, 0.99, 1.0, 1.0, 1.0, 1.0, 1.0, 0.99, 1.0, 0.99, 0.99, 1.0, 1.0, 1.0, 0.99, 1.0, 0.99, 0.99, 0.99, 1.0, 1.0, 0.99, 0.99, 0.99, 0.99, 0.99, 1.0, 0.99, 0.99, 1.0, 1.0, 0.99, 1.0, 0.99, 1.0, 1.0, 0.99, 0.99, 0.99, 0.99, 1.0, 0.99, 1.0, 1.0, 1.0, 0.99, 1.0, 1.0, 0.99, 0.99, 1.0, 0.99, 1.0, 1.0, 0.99, 1.0, 0.99, 1.0, 0.99, 1.0, 1.0, 1.0, 0.99, 1.0, 0.99, 1.0, 0.99, 0.99, 1.0, 0.99, 1.0, 1.0, 1.0, 0.99, 0.99, 1.0, 0.99, 1.0, 1.0, 0.99, 1.0, 0.99, 0.99, 1.0, 0.99, 1.0, 0.99, 1.0, 0.99, 0.99, 0.99, 0.99, 0.99, 0.99, 0.99, 0.99, 1.0, 1.0, 0.99, 1.0, 0.99, 0.99, 0.99, 1.0, 0.99, 0.99, 0.99, 1.0, 0.99, 0.99, 1.0, 0.99, 0.99, 0.99, 1.0, 1.0, 0.99, 0.99, 1.0, 1.0, 1.0, 1.0, 0.99, 1.0, 0.99, 1.0, 0.99, 1.0, 1.0, 1.0, 0.99, 0.99, 0.99, 1.0, 0.99, 0.99, 1.0, 0.99, 0.99, 1.0, 1.0, 0.99, 0.99, 0.99, 1.0, 1.0, 1.0, 0.99, 0.99, 1.0, 1.0, 1.0, 1.0, 1.0, 1.0, 0.99, 1.0, 1.0, 0.99, 0.99, 1.0, 0.99, 1.0, 1.0, 0.99, 0.99, 0.99, 0.99, 0.99, 0.99, 1.0, 0.99, 0.99, 0.99, 0.99, 1.0, 0.99, 0.99, 0.99, 1.0, 1.0, 0.99, 0.99, 0.99, 1.0, 1.0, 0.99, 1.0, 0.99, 1.0, 1.0, 0.99, 0.99, 0.99]\n",
            "[10, 51, 378, 431, 613, 1123, 1186, 1424, 2483, 2971, 3376, 3590, 3702, 3753, 3843, 3912, 4156, 4534, 5459, 5696, 5783, 6129, 6456, 6458, 6957, 6964, 7198, 7548, 7692, 8041, 8086, 8706, 8871, 9399, 9630, 9751, 10304, 10366, 10597, 11035, 11095, 11250, 11898, 12575, 12613, 12656, 12687, 12696, 12700, 12838, 12897, 12932, 14236, 14237, 14391, 14518, 15275, 15319, 15633, 15889, 16251, 16406, 16778, 17166, 17202, 17289, 17544, 18047, 18064, 18104, 18990, 19043, 20563, 20781, 21019, 21196, 22270, 23122, 23227, 23259, 23467, 23484, 23554, 23740, 23761, 24243, 24297, 24716, 25372, 25394, 25432, 25551, 25556, 25558, 25567, 25569, 25847, 26901, 27428, 27633, 28457, 28635, 28764, 28766, 28890, 29988, 30490, 30493, 31018, 31410, 31471, 31479, 31722, 31744, 32261, 32388, 32686, 32714, 32975, 33348, 33356, 33589, 33730, 34175, 34196, 34260, 34337, 34338, 34341, 34342, 34516, 34792, 35077, 35236, 35284, 35323, 35333, 35347, 35350, 35421, 35426, 35493, 35536, 35866, 35870, 35916, 36398, 36565, 36645, 36968, 37043, 38145, 38396, 38877, 39778, 39862, 40252, 40654, 40731, 40820, 41109, 41337, 41358, 41779, 41839, 41999, 42162, 42163, 42280, 42480, 42720, 43171, 43341, 44399, 44461, 44462, 45303, 45366, 45756, 46312, 46356, 46833, 47078, 47083, 47088, 47585, 48367, 48719, 48750, 49294, 50119, 50220, 50527, 50574, 50769, 50808, 51218, 51378, 51433, 51645, 51930, 51941, 52041, 52050, 52592, 53436, 53472, 53492, 53504, 53626, 53646, 53874, 54006, 55346, 55443, 56010, 56270, 56285, 56454, 57053, 57523, 58037, 58039, 58106, 58108, 58826, 59282, 59622, 59623, 59797, 60183, 60201, 60238, 60256, 60633, 60634, 60658, 61177, 61255, 61303, 61309, 61954, 61992, 62209, 62640, 62672, 62988, 63015, 63022, 63257, 63360, 63536, 63608, 63657, 63825, 63876, 63879, 63887, 64072, 64347, 64772, 65048, 65221, 65319, 65490, 65712, 66394, 66655, 67095, 67504, 67626, 67724, 68064, 69001, 69144, 69807, 70406, 70804, 71314, 71568, 71719, 71846, 72235, 72383, 72386, 72750, 73250, 73324, 73562, 74032, 74230, 74283, 75378, 75602, 75867, 76529, 76621, 76735, 76825, 76938, 76939, 77002, 77438, 77585, 77675, 78073, 78254, 78817, 78837, 78838, 78938, 79218, 79714, 79742, 80148, 80913, 81434, 81435, 82146, 82357, 82359, 82368, 82568, 82684, 82954, 83508, 83882, 84065, 84506, 84662, 85129, 85462, 86453, 86542, 86624, 86649, 86706, 86818, 86874, 87055, 87402, 87707, 87724, 88115, 88657, 88854, 88928, 88935, 89086, 89209, 89395, 90896, 90969, 90971, 90977, 91077, 92057, 92387, 92439, 93283, 93403, 93576, 93637, 93666, 93899, 93938, 94506, 94596, 94910, 95117, 95181, 95202, 95292, 95765, 95836, 96051, 96100, 96190, 96272, 96280, 96353, 96616, 97054, 97838, 97991, 98361, 98859, 98913, 99019, 99073, 99112, 99308, 99600, 99607, 99635, 99738, 99739, 99845, 99914]\n",
            "<class 'list'>\n",
            "399\n",
            "399\n",
            "399\n"
          ],
          "name": "stdout"
        }
      ]
    },
    {
      "cell_type": "code",
      "metadata": {
        "colab": {
          "base_uri": "https://localhost:8080/",
          "height": 221
        },
        "id": "UTyzdiCSJFfg",
        "outputId": "c1b0f3f4-840a-4d3d-b746-c0d401172f20"
      },
      "source": [
        "unlabel_3 = unlabel_3.loc[pos,:]\n",
        "print(len(unlabel_3))\n",
        "unlabel_3.head()"
      ],
      "execution_count": null,
      "outputs": [
        {
          "output_type": "stream",
          "text": [
            "399\n"
          ],
          "name": "stdout"
        },
        {
          "output_type": "execute_result",
          "data": {
            "text/html": [
              "<div>\n",
              "<style scoped>\n",
              "    .dataframe tbody tr th:only-of-type {\n",
              "        vertical-align: middle;\n",
              "    }\n",
              "\n",
              "    .dataframe tbody tr th {\n",
              "        vertical-align: top;\n",
              "    }\n",
              "\n",
              "    .dataframe thead th {\n",
              "        text-align: right;\n",
              "    }\n",
              "</style>\n",
              "<table border=\"1\" class=\"dataframe\">\n",
              "  <thead>\n",
              "    <tr style=\"text-align: right;\">\n",
              "      <th></th>\n",
              "      <th>text</th>\n",
              "    </tr>\n",
              "  </thead>\n",
              "  <tbody>\n",
              "    <tr>\n",
              "      <th>10</th>\n",
              "      <td>crossexamination captain johnson testified wen...</td>\n",
              "    </tr>\n",
              "    <tr>\n",
              "      <th>51</th>\n",
              "      <td>error pointed judgment reversed cause remanded</td>\n",
              "    </tr>\n",
              "    <tr>\n",
              "      <th>378</th>\n",
              "      <td>track person wearing boot railroad rightofway ...</td>\n",
              "    </tr>\n",
              "    <tr>\n",
              "      <th>431</th>\n",
              "      <td>boot appellant fitted track window going samé ...</td>\n",
              "    </tr>\n",
              "    <tr>\n",
              "      <th>613</th>\n",
              "      <td>burnett testified saw air conditioning unit si...</td>\n",
              "    </tr>\n",
              "  </tbody>\n",
              "</table>\n",
              "</div>"
            ],
            "text/plain": [
              "                                                  text\n",
              "10   crossexamination captain johnson testified wen...\n",
              "51      error pointed judgment reversed cause remanded\n",
              "378  track person wearing boot railroad rightofway ...\n",
              "431  boot appellant fitted track window going samé ...\n",
              "613  burnett testified saw air conditioning unit si..."
            ]
          },
          "metadata": {
            "tags": []
          },
          "execution_count": 55
        }
      ]
    },
    {
      "cell_type": "code",
      "metadata": {
        "id": "MzcZdKmeJSAI"
      },
      "source": [
        "class_x_un3 = tfidf_vect.transform(unlabel_3['text'])"
      ],
      "execution_count": null,
      "outputs": []
    },
    {
      "cell_type": "code",
      "metadata": {
        "colab": {
          "base_uri": "https://localhost:8080/"
        },
        "id": "g9BIum9SJgQB",
        "outputId": "a846309b-8485-405a-f048-662b5896a1ea"
      },
      "source": [
        "class_x_un3.shape"
      ],
      "execution_count": null,
      "outputs": [
        {
          "output_type": "execute_result",
          "data": {
            "text/plain": [
              "(399, 6383)"
            ]
          },
          "metadata": {
            "tags": []
          },
          "execution_count": 57
        }
      ]
    },
    {
      "cell_type": "code",
      "metadata": {
        "colab": {
          "base_uri": "https://localhost:8080/"
        },
        "id": "-m0pFOuoJlQa",
        "outputId": "59fa096c-9449-49b2-bb5b-90f5c81bb714"
      },
      "source": [
        "class_pred_unlabel_3 = classifier_2.predict(class_x_un3)\n",
        "class_pred_unlabel_3"
      ],
      "execution_count": null,
      "outputs": [
        {
          "output_type": "execute_result",
          "data": {
            "text/plain": [
              "array(['Facts', 'Conclusion', 'Facts', 'Facts', 'Facts', 'Facts', 'Facts',\n",
              "       'Facts', 'Facts', 'Facts', 'Facts', 'Facts', 'Invalid', 'Facts',\n",
              "       'Facts', 'Facts', 'Facts', 'Conclusion', 'Conclusion',\n",
              "       'Conclusion', 'Conclusion', 'Facts', 'Facts', 'Facts', 'Facts',\n",
              "       'Facts', 'Facts', 'Facts', 'Facts', 'Facts', 'Facts', 'Facts',\n",
              "       'Facts', 'Conclusion', 'Conclusion', 'Facts', 'Facts',\n",
              "       'Conclusion', 'Facts', 'Facts', 'Conclusion', 'Facts',\n",
              "       'Conclusion', 'Facts', 'Conclusion', 'Facts', 'Conclusion',\n",
              "       'Facts', 'Facts', 'Facts', 'Facts', 'Conclusion', 'Facts', 'Facts',\n",
              "       'Facts', 'Conclusion', 'Conclusion', 'Conclusion', 'Facts',\n",
              "       'Facts', 'Facts', 'Conclusion', 'Conclusion', 'Facts', 'Facts',\n",
              "       'Facts', 'Conclusion', 'Conclusion', 'Facts', 'Conclusion',\n",
              "       'Conclusion', 'Facts', 'Conclusion', 'Facts', 'Facts', 'Facts',\n",
              "       'Facts', 'Facts', 'Conclusion', 'Facts', 'Conclusion', 'Facts',\n",
              "       'Conclusion', 'Facts', 'Facts', 'Facts', 'Conclusion',\n",
              "       'Conclusion', 'Conclusion', 'Facts', 'Facts', 'Facts', 'Facts',\n",
              "       'Facts', 'Facts', 'Facts', 'Facts', 'Facts', 'Facts', 'Facts',\n",
              "       'Conclusion', 'Facts', 'Conclusion', 'Facts', 'Facts',\n",
              "       'Conclusion', 'Facts', 'Facts', 'Facts', 'Facts', 'Conclusion',\n",
              "       'Facts', 'Facts', 'Facts', 'Facts', 'Conclusion', 'Facts', 'Facts',\n",
              "       'Conclusion', 'Facts', 'Facts', 'Facts', 'Facts', 'Facts', 'Facts',\n",
              "       'Facts', 'Facts', 'Facts', 'Facts', 'Facts', 'Conclusion', 'Facts',\n",
              "       'Facts', 'Facts', 'Conclusion', 'Facts', 'Facts', 'Facts', 'Facts',\n",
              "       'Facts', 'Facts', 'Facts', 'Facts', 'Facts', 'Facts', 'Facts',\n",
              "       'Facts', 'Facts', 'Facts', 'Facts', 'Conclusion', 'Conclusion',\n",
              "       'Facts', 'Facts', 'Conclusion', 'Invalid', 'Facts', 'Facts',\n",
              "       'Facts', 'Facts', 'Facts', 'Facts', 'Facts', 'Facts', 'Facts',\n",
              "       'Conclusion', 'Facts', 'Facts', 'Facts', 'Conclusion', 'Facts',\n",
              "       'Facts', 'Facts', 'Facts', 'Facts', 'Facts', 'Conclusion',\n",
              "       'Conclusion', 'Conclusion', 'Conclusion', 'Conclusion', 'Invalid',\n",
              "       'Facts', 'Facts', 'Facts', 'Facts', 'Facts', 'Facts', 'Conclusion',\n",
              "       'Conclusion', 'Facts', 'Conclusion', 'Facts', 'Facts', 'Facts',\n",
              "       'Facts', 'Facts', 'Facts', 'Invalid', 'Conclusion', 'Facts',\n",
              "       'Facts', 'Facts', 'Facts', 'Conclusion', 'Facts', 'Facts',\n",
              "       'Conclusion', 'Conclusion', 'Conclusion', 'Conclusion',\n",
              "       'Conclusion', 'Facts', 'Facts', 'Facts', 'Facts', 'Invalid',\n",
              "       'Conclusion', 'Facts', 'Facts', 'Conclusion', 'Facts', 'Facts',\n",
              "       'Facts', 'Facts', 'Conclusion', 'Facts', 'Facts', 'Facts', 'Facts',\n",
              "       'Facts', 'Conclusion', 'Facts', 'Facts', 'Facts', 'Facts', 'Facts',\n",
              "       'Conclusion', 'Facts', 'Facts', 'Facts', 'Facts', 'Facts', 'Facts',\n",
              "       'Facts', 'Conclusion', 'Facts', 'Conclusion', 'Facts', 'Facts',\n",
              "       'Facts', 'Conclusion', 'Conclusion', 'Facts', 'Facts',\n",
              "       'Conclusion', 'Facts', 'Facts', 'Conclusion', 'Facts', 'Facts',\n",
              "       'Facts', 'Facts', 'Facts', 'Conclusion', 'Conclusion', 'Facts',\n",
              "       'Facts', 'Conclusion', 'Facts', 'Conclusion', 'Facts', 'Facts',\n",
              "       'Conclusion', 'Facts', 'Facts', 'Conclusion', 'Conclusion',\n",
              "       'Facts', 'Facts', 'Conclusion', 'Facts', 'Facts', 'Facts', 'Facts',\n",
              "       'Facts', 'Facts', 'Facts', 'Facts', 'Facts', 'Facts', 'Facts',\n",
              "       'Conclusion', 'Facts', 'Facts', 'Facts', 'Facts', 'Facts', 'Facts',\n",
              "       'Invalid', 'Invalid', 'Conclusion', 'Conclusion', 'Facts',\n",
              "       'Conclusion', 'Facts', 'Facts', 'Facts', 'Facts', 'Facts', 'Facts',\n",
              "       'Facts', 'Facts', 'Facts', 'Facts', 'Facts', 'Facts', 'Facts',\n",
              "       'Facts', 'Facts', 'Facts', 'Facts', 'Facts', 'Facts', 'Facts',\n",
              "       'Conclusion', 'Facts', 'Facts', 'Facts', 'Facts', 'Conclusion',\n",
              "       'Facts', 'Facts', 'Facts', 'Facts', 'Facts', 'Facts', 'Facts',\n",
              "       'Conclusion', 'Facts', 'Facts', 'Facts', 'Facts', 'Facts',\n",
              "       'Conclusion', 'Facts', 'Facts', 'Facts', 'Facts', 'Facts',\n",
              "       'Conclusion', 'Conclusion', 'Facts', 'Facts', 'Facts',\n",
              "       'Conclusion', 'Facts', 'Conclusion', 'Facts', 'Conclusion',\n",
              "       'Facts', 'Facts', 'Conclusion', 'Facts', 'Facts', 'Conclusion',\n",
              "       'Facts', 'Conclusion', 'Conclusion', 'Facts', 'Facts', 'Facts',\n",
              "       'Facts', 'Facts', 'Facts', 'Facts', 'Facts', 'Invalid', 'Facts',\n",
              "       'Facts', 'Conclusion', 'Facts', 'Facts', 'Facts', 'Facts',\n",
              "       'Conclusion', 'Facts', 'Facts', 'Facts', 'Conclusion',\n",
              "       'Conclusion', 'Facts', 'Conclusion', 'Facts', 'Conclusion',\n",
              "       'Facts', 'Facts', 'Facts', 'Facts'], dtype=object)"
            ]
          },
          "metadata": {
            "tags": []
          },
          "execution_count": 58
        }
      ]
    },
    {
      "cell_type": "code",
      "metadata": {
        "colab": {
          "base_uri": "https://localhost:8080/"
        },
        "id": "AvEMKQC1Jq-T",
        "outputId": "785fa5d1-4758-4616-87c9-c135751507b8"
      },
      "source": [
        "print(len(class_pred_unlabel_3))"
      ],
      "execution_count": null,
      "outputs": [
        {
          "output_type": "stream",
          "text": [
            "399\n"
          ],
          "name": "stdout"
        }
      ]
    },
    {
      "cell_type": "code",
      "metadata": {
        "colab": {
          "base_uri": "https://localhost:8080/",
          "height": 204
        },
        "id": "s0PNx7IUJyC3",
        "outputId": "42dadbb3-e2ac-465b-e48a-a8bb85a35a40"
      },
      "source": [
        "unlabel_3['Target']=class_pred_unlabel_3\n",
        "unlabel_3.head()"
      ],
      "execution_count": null,
      "outputs": [
        {
          "output_type": "execute_result",
          "data": {
            "text/html": [
              "<div>\n",
              "<style scoped>\n",
              "    .dataframe tbody tr th:only-of-type {\n",
              "        vertical-align: middle;\n",
              "    }\n",
              "\n",
              "    .dataframe tbody tr th {\n",
              "        vertical-align: top;\n",
              "    }\n",
              "\n",
              "    .dataframe thead th {\n",
              "        text-align: right;\n",
              "    }\n",
              "</style>\n",
              "<table border=\"1\" class=\"dataframe\">\n",
              "  <thead>\n",
              "    <tr style=\"text-align: right;\">\n",
              "      <th></th>\n",
              "      <th>text</th>\n",
              "      <th>Target</th>\n",
              "    </tr>\n",
              "  </thead>\n",
              "  <tbody>\n",
              "    <tr>\n",
              "      <th>10</th>\n",
              "      <td>crossexamination captain johnson testified wen...</td>\n",
              "      <td>Facts</td>\n",
              "    </tr>\n",
              "    <tr>\n",
              "      <th>51</th>\n",
              "      <td>error pointed judgment reversed cause remanded</td>\n",
              "      <td>Conclusion</td>\n",
              "    </tr>\n",
              "    <tr>\n",
              "      <th>378</th>\n",
              "      <td>track person wearing boot railroad rightofway ...</td>\n",
              "      <td>Facts</td>\n",
              "    </tr>\n",
              "    <tr>\n",
              "      <th>431</th>\n",
              "      <td>boot appellant fitted track window going samé ...</td>\n",
              "      <td>Facts</td>\n",
              "    </tr>\n",
              "    <tr>\n",
              "      <th>613</th>\n",
              "      <td>burnett testified saw air conditioning unit si...</td>\n",
              "      <td>Facts</td>\n",
              "    </tr>\n",
              "  </tbody>\n",
              "</table>\n",
              "</div>"
            ],
            "text/plain": [
              "                                                  text      Target\n",
              "10   crossexamination captain johnson testified wen...       Facts\n",
              "51      error pointed judgment reversed cause remanded  Conclusion\n",
              "378  track person wearing boot railroad rightofway ...       Facts\n",
              "431  boot appellant fitted track window going samé ...       Facts\n",
              "613  burnett testified saw air conditioning unit si...       Facts"
            ]
          },
          "metadata": {
            "tags": []
          },
          "execution_count": 60
        }
      ]
    },
    {
      "cell_type": "code",
      "metadata": {
        "colab": {
          "base_uri": "https://localhost:8080/",
          "height": 204
        },
        "id": "mJvzcgHbJ6Fu",
        "outputId": "9030a161-b71c-423c-b50f-1fb7ef276b83"
      },
      "source": [
        "train_2.head()"
      ],
      "execution_count": null,
      "outputs": [
        {
          "output_type": "execute_result",
          "data": {
            "text/html": [
              "<div>\n",
              "<style scoped>\n",
              "    .dataframe tbody tr th:only-of-type {\n",
              "        vertical-align: middle;\n",
              "    }\n",
              "\n",
              "    .dataframe tbody tr th {\n",
              "        vertical-align: top;\n",
              "    }\n",
              "\n",
              "    .dataframe thead th {\n",
              "        text-align: right;\n",
              "    }\n",
              "</style>\n",
              "<table border=\"1\" class=\"dataframe\">\n",
              "  <thead>\n",
              "    <tr style=\"text-align: right;\">\n",
              "      <th></th>\n",
              "      <th>Unnamed: 0</th>\n",
              "      <th>text</th>\n",
              "      <th>Target</th>\n",
              "    </tr>\n",
              "  </thead>\n",
              "  <tbody>\n",
              "    <tr>\n",
              "      <th>0</th>\n",
              "      <td>659.0</td>\n",
              "      <td>Appellant had stated to the officers that she ...</td>\n",
              "      <td>Invalid</td>\n",
              "    </tr>\n",
              "    <tr>\n",
              "      <th>1</th>\n",
              "      <td>3456.0</td>\n",
              "      <td>We shall discuss the facts more fully in conne...</td>\n",
              "      <td>Invalid</td>\n",
              "    </tr>\n",
              "    <tr>\n",
              "      <th>2</th>\n",
              "      <td>2043.0</td>\n",
              "      <td>â€œPerjury is a false statement, either writte...</td>\n",
              "      <td>Invalid</td>\n",
              "    </tr>\n",
              "    <tr>\n",
              "      <th>3</th>\n",
              "      <td>3344.0</td>\n",
              "      <td>The offense is felony theft by false pretext; ...</td>\n",
              "      <td>Issue</td>\n",
              "    </tr>\n",
              "    <tr>\n",
              "      <th>4</th>\n",
              "      <td>3231.0</td>\n",
              "      <td>Numerous contentions urging the commission of ...</td>\n",
              "      <td>Issue</td>\n",
              "    </tr>\n",
              "  </tbody>\n",
              "</table>\n",
              "</div>"
            ],
            "text/plain": [
              "   Unnamed: 0                                               text   Target\n",
              "0       659.0  Appellant had stated to the officers that she ...  Invalid\n",
              "1      3456.0  We shall discuss the facts more fully in conne...  Invalid\n",
              "2      2043.0  â€œPerjury is a false statement, either writte...  Invalid\n",
              "3      3344.0  The offense is felony theft by false pretext; ...    Issue\n",
              "4      3231.0  Numerous contentions urging the commission of ...    Issue"
            ]
          },
          "metadata": {
            "tags": []
          },
          "execution_count": 61
        }
      ]
    },
    {
      "cell_type": "code",
      "metadata": {
        "colab": {
          "base_uri": "https://localhost:8080/"
        },
        "id": "f9Ah9m82J-ky",
        "outputId": "b69c1d59-204c-4af4-e45d-f6dd02701277"
      },
      "source": [
        "frame_3 = [train_2,unlabel_3]\n",
        "train_3 = pd.concat(frame_3)\n",
        "print(len(train_2))\n",
        "print(len(unlabel_3))\n",
        "print(len(train_3))"
      ],
      "execution_count": null,
      "outputs": [
        {
          "output_type": "stream",
          "text": [
            "3901\n",
            "399\n",
            "4300\n"
          ],
          "name": "stdout"
        }
      ]
    },
    {
      "cell_type": "code",
      "metadata": {
        "colab": {
          "base_uri": "https://localhost:8080/",
          "height": 419
        },
        "id": "XMpwNmkPKNkb",
        "outputId": "f53fae3a-cdd2-4be7-fd0d-8896bad7ddeb"
      },
      "source": [
        "train_3"
      ],
      "execution_count": null,
      "outputs": [
        {
          "output_type": "execute_result",
          "data": {
            "text/html": [
              "<div>\n",
              "<style scoped>\n",
              "    .dataframe tbody tr th:only-of-type {\n",
              "        vertical-align: middle;\n",
              "    }\n",
              "\n",
              "    .dataframe tbody tr th {\n",
              "        vertical-align: top;\n",
              "    }\n",
              "\n",
              "    .dataframe thead th {\n",
              "        text-align: right;\n",
              "    }\n",
              "</style>\n",
              "<table border=\"1\" class=\"dataframe\">\n",
              "  <thead>\n",
              "    <tr style=\"text-align: right;\">\n",
              "      <th></th>\n",
              "      <th>Unnamed: 0</th>\n",
              "      <th>text</th>\n",
              "      <th>Target</th>\n",
              "    </tr>\n",
              "  </thead>\n",
              "  <tbody>\n",
              "    <tr>\n",
              "      <th>0</th>\n",
              "      <td>659.0</td>\n",
              "      <td>Appellant had stated to the officers that she ...</td>\n",
              "      <td>Invalid</td>\n",
              "    </tr>\n",
              "    <tr>\n",
              "      <th>1</th>\n",
              "      <td>3456.0</td>\n",
              "      <td>We shall discuss the facts more fully in conne...</td>\n",
              "      <td>Invalid</td>\n",
              "    </tr>\n",
              "    <tr>\n",
              "      <th>2</th>\n",
              "      <td>2043.0</td>\n",
              "      <td>â€œPerjury is a false statement, either writte...</td>\n",
              "      <td>Invalid</td>\n",
              "    </tr>\n",
              "    <tr>\n",
              "      <th>3</th>\n",
              "      <td>3344.0</td>\n",
              "      <td>The offense is felony theft by false pretext; ...</td>\n",
              "      <td>Issue</td>\n",
              "    </tr>\n",
              "    <tr>\n",
              "      <th>4</th>\n",
              "      <td>3231.0</td>\n",
              "      <td>Numerous contentions urging the commission of ...</td>\n",
              "      <td>Issue</td>\n",
              "    </tr>\n",
              "    <tr>\n",
              "      <th>...</th>\n",
              "      <td>...</td>\n",
              "      <td>...</td>\n",
              "      <td>...</td>\n",
              "    </tr>\n",
              "    <tr>\n",
              "      <th>99635</th>\n",
              "      <td>NaN</td>\n",
              "      <td>error pointed judgment reversed cause remanded</td>\n",
              "      <td>Conclusion</td>\n",
              "    </tr>\n",
              "    <tr>\n",
              "      <th>99738</th>\n",
              "      <td>NaN</td>\n",
              "      <td>appellant negro company negro also waiting boa...</td>\n",
              "      <td>Facts</td>\n",
              "    </tr>\n",
              "    <tr>\n",
              "      <th>99739</th>\n",
              "      <td>NaN</td>\n",
              "      <td>upon approach car mr morris started board car ...</td>\n",
              "      <td>Facts</td>\n",
              "    </tr>\n",
              "    <tr>\n",
              "      <th>99845</th>\n",
              "      <td>NaN</td>\n",
              "      <td>front appellant car struck robert lee phillips...</td>\n",
              "      <td>Facts</td>\n",
              "    </tr>\n",
              "    <tr>\n",
              "      <th>99914</th>\n",
              "      <td>NaN</td>\n",
              "      <td>one deputy sheriff went appellant car pulled</td>\n",
              "      <td>Facts</td>\n",
              "    </tr>\n",
              "  </tbody>\n",
              "</table>\n",
              "<p>4300 rows × 3 columns</p>\n",
              "</div>"
            ],
            "text/plain": [
              "       Unnamed: 0  ...      Target\n",
              "0           659.0  ...     Invalid\n",
              "1          3456.0  ...     Invalid\n",
              "2          2043.0  ...     Invalid\n",
              "3          3344.0  ...       Issue\n",
              "4          3231.0  ...       Issue\n",
              "...           ...  ...         ...\n",
              "99635         NaN  ...  Conclusion\n",
              "99738         NaN  ...       Facts\n",
              "99739         NaN  ...       Facts\n",
              "99845         NaN  ...       Facts\n",
              "99914         NaN  ...       Facts\n",
              "\n",
              "[4300 rows x 3 columns]"
            ]
          },
          "metadata": {
            "tags": []
          },
          "execution_count": 63
        }
      ]
    },
    {
      "cell_type": "code",
      "metadata": {
        "colab": {
          "base_uri": "https://localhost:8080/"
        },
        "id": "rsYrGG-7KY_K",
        "outputId": "ac68c2ca-c5d0-4277-ccc1-5719bd3974d5"
      },
      "source": [
        "from sklearn.metrics import classification_report\n",
        "x_train_3 = tfidf_vect.transform(train_3['text'])\n",
        "x_train_3.shape\n",
        "X_train, x_val, Y_train, y_val = train_test_split(x_train_3,train_3['Target'],test_size=0.25,random_state=2)\n",
        "classifier_3 = RandomForestClassifier(n_estimators = 100, criterion = 'gini', random_state = 42)\n",
        "classifier_3.fit(X_train, Y_train)\n",
        "y_pred = classifier_3.predict(x_val)\n",
        "print(np.unique(y_pred))\n",
        "print(type(y_pred))\n",
        "\n",
        "\n",
        "Accuracy_score = accuracy_score(y_pred,y_val)\n",
        "\n",
        "print('Validation ------- Accuracy_score: %f' % Accuracy_score)\n",
        "\n",
        "test_pred = classifier_3.predict(t_p)\n",
        "acc_test = accuracy_score(test_pred,test['Target'])\n",
        "print('Test ------Accuracy score ', acc_test)\n",
        "matrix = confusion_matrix(y_pred, y_val)\n",
        "print(matrix)\n",
        "print(\"---------validation--------------\")\n",
        "print(classification_report(y_val,y_pred))\n",
        "print(\"----------test---------------------\")\n",
        "print(classification_report(test['Target'],test_pred))"
      ],
      "execution_count": null,
      "outputs": [
        {
          "output_type": "stream",
          "text": [
            "['Analysis' 'Conclusion' 'Facts' 'Invalid' 'Issue' 'Rule/Law/Holding']\n",
            "<class 'numpy.ndarray'>\n",
            "Validation ------- Accuracy_score: 0.709767\n",
            "Test ------Accuracy score  0.5911708253358925\n",
            "[[ 38   7   7   4   4   3]\n",
            " [  3  77   1   2   1   1]\n",
            " [ 78  20 517  54  27  25]\n",
            " [ 15   6  26  94   4  12]\n",
            " [  1   0   2   1  24   0]\n",
            " [  0   0   1   4   3  13]]\n",
            "---------validation--------------\n",
            "                  precision    recall  f1-score   support\n",
            "\n",
            "        Analysis       0.60      0.28      0.38       135\n",
            "      Conclusion       0.91      0.70      0.79       110\n",
            "           Facts       0.72      0.93      0.81       554\n",
            "         Invalid       0.60      0.59      0.59       159\n",
            "           Issue       0.86      0.38      0.53        63\n",
            "Rule/Law/Holding       0.62      0.24      0.35        54\n",
            "\n",
            "        accuracy                           0.71      1075\n",
            "       macro avg       0.72      0.52      0.58      1075\n",
            "    weighted avg       0.71      0.71      0.68      1075\n",
            "\n",
            "----------test---------------------\n",
            "                  precision    recall  f1-score   support\n",
            "\n",
            "        Analysis       0.48      0.17      0.25        77\n",
            "      Conclusion       0.71      0.46      0.56        26\n",
            "           Facts       0.64      0.84      0.73       267\n",
            "         Invalid       0.42      0.51      0.46        83\n",
            "           Issue       0.73      0.24      0.36        34\n",
            "Rule/Law/Holding       0.57      0.24      0.33        34\n",
            "\n",
            "        accuracy                           0.59       521\n",
            "       macro avg       0.59      0.41      0.45       521\n",
            "    weighted avg       0.59      0.59      0.56       521\n",
            "\n"
          ],
          "name": "stdout"
        }
      ]
    },
    {
      "cell_type": "code",
      "metadata": {
        "id": "_z5nQ0I-NyW-"
      },
      "source": [
        ""
      ],
      "execution_count": null,
      "outputs": []
    },
    {
      "cell_type": "markdown",
      "metadata": {
        "id": "aNiTG6h9NzEN"
      },
      "source": [
        "Unlabeled 4"
      ]
    },
    {
      "cell_type": "code",
      "metadata": {
        "id": "B929PxVuNzOK"
      },
      "source": [
        "x_un4 = tfidf_vect.transform(unlabel_4['text'])\n"
      ],
      "execution_count": null,
      "outputs": []
    },
    {
      "cell_type": "code",
      "metadata": {
        "colab": {
          "base_uri": "https://localhost:8080/"
        },
        "id": "H5LcJGGEN_28",
        "outputId": "60253117-5743-4e54-8dda-851f34222f1f"
      },
      "source": [
        "\n",
        "pred_unlabel_4 = classifier_3.predict_proba(x_un4)\n",
        "pred_unlabel_4"
      ],
      "execution_count": null,
      "outputs": [
        {
          "output_type": "execute_result",
          "data": {
            "text/plain": [
              "array([[0.26      , 0.08      , 0.25      , 0.35      , 0.        ,\n",
              "        0.06      ],\n",
              "       [0.11      , 0.09      , 0.45      , 0.25      , 0.03      ,\n",
              "        0.07      ],\n",
              "       [0.05      , 0.07      , 0.73      , 0.14      , 0.        ,\n",
              "        0.01      ],\n",
              "       ...,\n",
              "       [0.25      , 0.03      , 0.59      , 0.12      , 0.01      ,\n",
              "        0.        ],\n",
              "       [0.2875    , 0.03      , 0.4525    , 0.19      , 0.03      ,\n",
              "        0.01      ],\n",
              "       [0.27028571, 0.71971429, 0.        , 0.        , 0.01      ,\n",
              "        0.        ]])"
            ]
          },
          "metadata": {
            "tags": []
          },
          "execution_count": 66
        }
      ]
    },
    {
      "cell_type": "code",
      "metadata": {
        "colab": {
          "base_uri": "https://localhost:8080/"
        },
        "id": "KL-MuDs0OHS_",
        "outputId": "e58e1ff1-9f73-408f-9fec-058f91b30724"
      },
      "source": [
        "print(len(pred_unlabel_2))\n",
        "print(np.unique(pred_unlabel_2))"
      ],
      "execution_count": null,
      "outputs": [
        {
          "output_type": "stream",
          "text": [
            "100000\n",
            "[0.         0.0025     0.00333333 ... 0.99       0.99666667 1.        ]\n"
          ],
          "name": "stdout"
        }
      ]
    },
    {
      "cell_type": "code",
      "metadata": {
        "colab": {
          "base_uri": "https://localhost:8080/"
        },
        "id": "E2hJRNIwOJtD",
        "outputId": "2d243bfb-e4ae-492d-84c4-43cbfdbdca2e"
      },
      "source": [
        "import numpy as np\n",
        "pos=[]\n",
        "large=[]\n",
        "ind = []\n",
        "i=0\n",
        "for j in pred_unlabel_4:\n",
        "  if max(j)> Threshold:\n",
        "    ind.append(np.argmax(j))\n",
        "    large.append(max(j))\n",
        "    pos.append(i)\n",
        "  i+=1\n",
        "\n",
        "\n",
        "print(ind)\n",
        "print(large)\n",
        "print(pos)\n",
        "print(type(pos))\n",
        "print(len(ind))\n",
        "print(len(large))\n",
        "print(len(pos))"
      ],
      "execution_count": null,
      "outputs": [
        {
          "output_type": "stream",
          "text": [
            "[2, 1, 2, 2, 2, 2, 2, 2, 2, 2, 2, 2, 2, 2, 2, 2, 2, 2, 3, 1, 3, 2, 2, 2, 2, 2, 2, 1, 2, 2, 2, 2, 2, 2, 1, 2, 2, 2, 3, 2, 2, 1, 1, 1, 2, 2, 2, 2, 2, 2, 2, 2, 2, 2, 2, 2, 2, 2, 2, 2, 2, 2, 1, 2, 2, 2, 2, 2, 2, 2, 2, 2, 1, 2, 2, 2, 2, 2, 1, 2, 2, 2, 1, 2, 2, 2, 2, 2, 3, 2, 2, 2, 2, 2, 2, 2, 2, 2, 2, 2, 1, 2, 2, 2, 2, 2, 1, 1, 2, 2, 1, 2, 2, 2, 2, 2, 2, 2, 2, 2, 2, 2, 2, 2, 2, 2, 2, 2, 3, 1, 1, 2, 2, 2, 2, 2, 2, 2, 2, 2, 2, 2, 2, 1, 3, 2, 2, 1, 2, 2, 2, 2, 2, 2, 2, 2, 2, 2, 2, 1, 2, 2, 2, 2, 2, 1, 2, 2, 2, 2, 2, 2, 3, 2, 2, 2, 2, 2, 1, 2, 2, 2, 2, 2, 2, 2, 2, 2, 2, 1, 2, 1, 3, 2, 2, 1, 2, 2, 2, 2, 3, 2, 2, 2, 2, 2, 2, 2, 2, 2, 2, 2, 2, 2, 2, 2, 2, 2, 2, 2, 2, 2, 3, 1, 2, 2, 2, 2, 2, 2, 2, 1, 2, 3, 2, 1, 2, 2, 2, 2, 2, 2, 1, 1, 2, 2, 2, 2, 2, 2, 2, 2, 2, 2, 2, 1, 3, 2, 1, 2, 2, 2, 2, 2, 2, 2, 2, 2, 2, 2, 2, 2, 1, 2, 2, 2, 1, 2, 2, 2, 2, 2, 2, 1, 1, 1, 2, 2, 2, 2, 2, 2, 2, 2, 2, 1, 2, 1, 2, 2, 2, 3, 3, 2, 1, 1, 2, 2, 1, 2, 1, 2, 2, 2, 2, 1, 2, 2, 2, 2, 1, 2, 1, 2, 2, 1, 2, 2, 1, 2, 2, 1, 2, 2, 2, 2, 2, 2, 1, 2, 2, 2, 2, 2, 2, 2, 2, 2, 1, 2, 2, 2, 2, 2, 2, 2, 2, 2, 2, 2, 2, 2, 2, 2, 2, 2, 2, 2, 1, 2, 2, 1, 2, 2, 2, 2, 2, 2, 2, 2, 2, 2, 3, 2, 2, 1, 2, 1, 2, 2, 2, 2, 1, 3, 2, 2, 2, 2, 2, 2, 2, 2, 2, 2, 2, 2, 1, 2, 1, 2, 1, 3, 2, 2, 2, 1, 2, 1, 1, 3, 2, 2, 2, 2, 2, 2, 2, 2, 2, 2, 2, 2, 2, 2, 2, 2, 2, 2, 2, 2, 2, 2, 2, 2, 2, 2, 2, 2, 1, 2, 2, 2, 2, 1, 1, 1, 1, 2, 2, 2, 2, 1, 2, 2, 3, 2, 1, 2, 2, 2, 2, 2, 2, 2, 2, 2, 3, 2, 2, 2, 2, 3, 1, 2, 2, 2, 2, 2, 2, 2, 2, 2, 1, 1, 2, 2, 2, 2, 2, 2, 2, 2, 2, 1, 2, 1, 1, 2, 2, 2, 2, 1, 2, 2, 1, 3, 1, 2, 2, 2, 2, 2, 2, 1, 2, 2, 2, 2, 2, 2, 3, 2, 2, 2, 2, 2, 2, 2, 2, 2, 1, 2, 2, 1, 2, 2, 2, 2, 2, 2, 1, 2, 2, 1, 2, 2, 1, 2, 2, 2, 2, 2, 2, 2, 2, 2, 2, 3, 2, 1, 2, 2, 1, 2, 2, 2, 2, 2, 2, 2, 1, 2, 2, 2, 2, 1, 2, 1, 2, 2, 2, 2, 2, 2, 1, 2, 2, 1, 2, 2, 1, 1, 3, 2, 2, 3, 2, 2, 2, 2, 2, 2, 2, 2, 1, 2, 2, 2, 2, 2, 2, 3, 1, 1, 1, 2, 2, 2, 2, 1, 2, 2, 2, 1, 2, 2, 2, 1, 1, 2, 2, 2, 2, 2, 2, 2, 2, 2, 2, 2, 2, 2, 2, 1, 3, 1, 2, 2, 2, 2, 3, 2, 2, 2, 2, 2, 2, 2, 2, 2, 1, 2, 2, 2, 2, 2, 1, 2, 2, 2, 1, 2, 2, 2, 2, 2, 2, 2, 2, 2, 2, 2, 2, 1, 2, 2, 2, 2, 2]\n",
            "[0.99, 1.0, 0.99, 1.0, 1.0, 0.99, 1.0, 0.99, 0.99, 0.99, 0.99, 1.0, 1.0, 0.99, 1.0, 1.0, 0.99, 1.0, 1.0, 1.0, 0.99, 0.99, 1.0, 0.99, 0.99, 0.99, 1.0, 1.0, 0.99, 0.99, 1.0, 0.99, 0.99, 1.0, 1.0, 0.99, 1.0, 1.0, 0.99, 1.0, 0.99, 1.0, 0.9866666666666667, 1.0, 0.99, 0.99, 1.0, 0.99, 0.99, 0.99, 1.0, 0.99, 1.0, 0.99, 0.99, 1.0, 0.99, 1.0, 1.0, 1.0, 0.99, 0.99, 0.9866666666666667, 1.0, 0.99, 1.0, 0.99, 1.0, 0.99, 0.99, 0.99, 0.99, 1.0, 0.99, 1.0, 0.99, 0.99, 1.0, 0.9866666666666667, 1.0, 0.99, 0.99, 1.0, 0.99, 1.0, 0.99, 0.99, 0.99, 0.99, 1.0, 1.0, 0.99, 0.99, 1.0, 0.99, 0.99, 0.99, 0.99, 0.99, 0.99, 1.0, 0.99, 0.99, 0.99, 0.99, 0.99, 1.0, 1.0, 0.99, 0.99, 1.0, 0.99, 0.99, 1.0, 0.99, 1.0, 0.99, 0.99, 0.99, 0.99, 1.0, 0.99, 0.99, 0.99, 0.99, 1.0, 0.99, 0.99, 0.99, 1.0, 1.0, 0.99, 1.0, 0.99, 0.99, 1.0, 0.99, 0.99, 0.99, 1.0, 0.99, 0.99, 1.0, 0.9866666666666667, 1.0, 0.99, 0.99, 0.9866666666666667, 1.0, 1.0, 1.0, 0.99, 0.99, 0.99, 1.0, 0.99, 0.99, 0.99, 0.99, 1.0, 0.99, 1.0, 0.99, 0.99, 0.99, 1.0, 0.99, 0.99, 0.99, 0.99, 1.0, 1.0, 1.0, 0.99, 1.0, 1.0, 0.99, 1.0, 1.0, 1.0, 1.0, 0.99, 0.99, 0.99, 1.0, 1.0, 0.99, 0.99, 0.99, 1.0, 1.0, 1.0, 0.99, 0.99, 1.0, 1.0, 1.0, 0.99, 1.0, 0.99, 1.0, 0.99, 0.99, 1.0, 0.99, 1.0, 1.0, 1.0, 1.0, 0.99, 0.99, 0.99, 0.99, 0.99, 1.0, 1.0, 1.0, 1.0, 1.0, 1.0, 1.0, 0.99, 1.0, 1.0, 1.0, 0.99, 0.99, 0.99, 0.99, 0.99, 0.99, 1.0, 0.99, 0.99, 0.99, 1.0, 0.99, 0.99, 1.0, 1.0, 0.99, 1.0, 1.0, 1.0, 1.0, 0.99, 0.99, 0.99, 1.0, 1.0, 0.99, 0.99, 0.99, 0.99, 0.99, 0.9866666666666667, 1.0, 1.0, 0.9866666666666667, 1.0, 0.99, 0.99, 0.99, 0.99, 0.99, 0.99, 0.99, 0.99, 0.99, 0.99, 1.0, 1.0, 1.0, 1.0, 0.99, 0.99, 1.0, 0.99, 1.0, 1.0, 0.99, 1.0, 0.99, 1.0, 0.9866666666666667, 0.9866666666666667, 0.99, 1.0, 1.0, 0.99, 1.0, 0.99, 1.0, 0.99, 1.0, 1.0, 1.0, 1.0, 0.99, 1.0, 1.0, 1.0, 1.0, 1.0, 1.0, 1.0, 1.0, 1.0, 0.9866666666666667, 1.0, 1.0, 0.99, 1.0, 1.0, 1.0, 0.9866666666666667, 1.0, 0.99, 0.99, 1.0, 1.0, 0.99, 1.0, 1.0, 0.99, 1.0, 0.99, 1.0, 1.0, 1.0, 1.0, 1.0, 0.99, 0.99, 0.99, 1.0, 0.99, 0.99, 1.0, 0.99, 0.99, 1.0, 0.99, 0.99, 0.99, 0.99, 1.0, 1.0, 1.0, 1.0, 0.99, 1.0, 1.0, 1.0, 1.0, 1.0, 0.99, 1.0, 0.99, 1.0, 0.99, 0.99, 0.99, 1.0, 1.0, 1.0, 0.99, 1.0, 1.0, 0.99, 0.99, 1.0, 0.99, 1.0, 0.99, 0.99, 1.0, 0.99, 1.0, 1.0, 0.99, 0.99, 0.99, 0.99, 0.99, 1.0, 1.0, 0.9866666666666667, 0.99, 0.99, 0.99, 1.0, 1.0, 1.0, 1.0, 0.99, 1.0, 0.99, 0.99, 1.0, 1.0, 0.99, 0.99, 0.99, 1.0, 1.0, 0.9866666666666667, 1.0, 1.0, 1.0, 1.0, 0.99, 1.0, 0.99, 0.99, 1.0, 0.99, 1.0, 1.0, 0.99, 0.99, 0.99, 1.0, 1.0, 1.0, 1.0, 0.99, 0.99, 0.99, 0.99, 1.0, 1.0, 0.99, 0.99, 1.0, 0.99, 1.0, 0.99, 0.99, 0.99, 0.99, 0.99, 0.99, 0.99, 0.99, 0.99, 0.99, 0.99, 1.0, 1.0, 0.99, 1.0, 0.99, 0.9866666666666667, 1.0, 0.9866666666666667, 1.0, 1.0, 1.0, 1.0, 0.99, 1.0, 1.0, 0.99, 1.0, 1.0, 1.0, 1.0, 1.0, 0.99, 1.0, 0.99, 0.99, 0.99, 0.99, 0.99, 1.0, 0.99, 1.0, 1.0, 0.99, 0.99, 0.9866666666666667, 0.99, 0.99, 1.0, 0.99, 1.0, 0.99, 1.0, 1.0, 0.99, 1.0, 1.0, 0.99, 0.99, 1.0, 0.99, 0.99, 1.0, 0.99, 1.0, 0.99, 1.0, 0.99, 1.0, 1.0, 0.99, 0.99, 0.99, 0.99, 0.9866666666666667, 0.99, 1.0, 0.9866666666666667, 0.99, 1.0, 1.0, 0.99, 0.99, 1.0, 0.99, 0.99, 0.9866666666666667, 0.99, 0.99, 0.99, 0.99, 0.99, 0.99, 1.0, 1.0, 0.99, 1.0, 1.0, 1.0, 1.0, 1.0, 1.0, 1.0, 1.0, 1.0, 1.0, 1.0, 1.0, 0.99, 0.99, 0.99, 0.99, 0.99, 0.9866666666666667, 0.99, 0.99, 1.0, 1.0, 0.99, 1.0, 1.0, 1.0, 1.0, 1.0, 0.99, 1.0, 0.99, 0.99, 0.99, 0.99, 1.0, 0.99, 1.0, 0.99, 0.99, 0.9866666666666667, 1.0, 1.0, 0.99, 1.0, 0.99, 0.99, 0.99, 1.0, 0.985, 0.99, 0.99, 0.99, 1.0, 1.0, 0.9866666666666667, 1.0, 0.99, 0.99, 0.99, 1.0, 0.99, 1.0, 1.0, 0.99, 1.0, 0.99, 0.99, 1.0, 1.0, 1.0, 1.0, 0.99, 0.99, 0.99, 0.99, 1.0, 1.0, 0.99, 0.99, 1.0, 0.99, 1.0, 1.0, 0.99, 0.99, 0.99, 1.0, 1.0, 0.99, 1.0, 1.0, 1.0, 0.99, 0.99, 0.99, 1.0, 1.0, 1.0, 1.0, 0.99, 1.0, 1.0, 0.99, 1.0, 1.0, 1.0, 0.99, 0.99, 1.0, 1.0, 0.99, 0.99, 0.99, 1.0, 1.0, 0.99, 1.0, 1.0, 1.0, 0.99, 1.0, 1.0, 1.0, 1.0, 1.0, 1.0, 0.99, 1.0, 0.99, 0.99, 0.99, 0.99, 0.99, 0.99, 0.99, 1.0, 0.99, 1.0, 1.0, 1.0, 0.99, 1.0, 0.99, 1.0, 1.0, 0.99, 1.0, 0.9866666666666667, 0.99, 0.99, 0.99, 0.99, 0.99, 0.99, 1.0, 0.99, 0.99, 1.0, 1.0, 0.99, 1.0, 1.0, 0.99, 1.0, 1.0, 1.0]\n",
            "[56, 76, 169, 189, 199, 341, 393, 536, 696, 702, 703, 709, 724, 784, 1404, 1708, 1943, 1994, 2345, 2394, 2519, 2620, 2855, 2995, 2996, 3110, 3313, 3496, 3551, 3571, 3585, 3780, 3849, 3888, 4001, 4016, 4020, 4262, 4264, 4310, 4392, 4608, 4884, 5010, 5170, 5171, 5547, 5866, 5925, 6041, 6321, 6322, 6358, 6366, 6581, 6634, 6903, 7597, 7774, 7851, 8046, 8097, 8146, 8213, 8214, 8217, 8226, 8228, 8237, 8566, 8694, 8964, 9138, 9260, 9288, 9607, 9908, 10007, 10673, 10890, 11389, 11414, 11461, 11468, 11734, 11784, 11864, 11993, 12106, 12425, 12658, 12664, 12665, 13041, 13142, 13676, 13796, 13997, 14153, 14356, 14452, 15081, 15083, 15288, 15344, 15347, 15382, 15410, 15439, 15494, 15631, 15674, 15847, 15893, 15913, 16145, 16153, 16198, 16212, 16278, 16376, 16767, 16953, 17335, 17468, 17539, 17569, 17730, 17798, 18052, 18212, 18511, 18773, 19125, 19193, 19440, 19669, 19719, 19779, 19894, 20109, 20179, 20180, 20425, 20900, 21035, 21097, 21182, 21291, 21292, 21298, 21315, 21326, 21423, 21439, 21471, 21597, 22045, 22219, 22378, 22546, 22557, 22701, 22738, 22741, 22816, 22917, 22962, 23140, 23938, 24003, 24322, 24412, 24704, 25112, 25287, 25654, 25702, 25721, 25727, 25815, 25958, 26246, 26408, 26729, 26733, 27596, 27680, 27808, 27940, 27967, 28003, 28015, 28032, 28034, 28626, 28743, 28746, 28753, 28809, 29029, 29383, 29820, 29869, 29879, 30087, 30424, 30434, 30498, 30516, 30518, 30535, 30898, 31020, 31374, 31491, 31634, 31670, 31786, 31816, 32039, 32463, 32510, 32631, 32722, 32723, 32879, 33175, 33574, 33923, 34033, 34152, 34188, 34221, 34364, 34643, 34700, 34702, 34703, 34716, 35066, 35072, 35157, 35237, 35734, 35810, 35813, 35965, 35989, 36094, 36125, 36334, 36340, 36341, 36373, 36637, 36646, 36850, 37027, 37483, 37489, 37496, 37498, 37986, 38151, 38325, 38398, 38443, 38470, 38700, 39044, 39329, 39483, 39609, 39714, 40004, 40321, 40490, 40577, 40851, 40944, 40945, 41053, 41279, 41426, 41547, 41595, 41596, 41804, 41984, 42206, 42272, 42275, 42355, 42378, 42436, 42465, 42696, 42777, 42899, 42928, 43480, 43488, 43545, 43692, 43865, 43901, 44155, 44366, 44587, 44627, 44888, 44900, 45010, 45013, 45068, 45073, 45359, 45361, 45362, 45903, 46300, 46742, 46745, 46906, 47093, 47126, 47286, 47488, 47499, 47519, 48080, 48375, 48428, 48563, 48616, 48843, 49005, 49230, 49748, 49753, 49851, 50021, 50026, 50241, 50401, 50488, 50492, 50510, 50582, 50603, 50732, 51219, 51529, 51561, 51795, 51813, 52035, 52438, 52441, 52457, 52938, 53067, 53071, 53402, 53479, 53513, 53616, 54183, 54276, 54385, 54443, 54487, 54978, 54980, 55012, 55092, 55101, 55452, 55484, 55674, 55833, 56151, 56193, 56198, 56214, 56879, 56911, 57577, 57687, 57689, 57696, 57733, 57821, 57855, 58341, 58361, 58395, 58400, 58667, 58697, 59084, 59123, 59152, 59153, 59159, 59205, 59221, 59300, 59445, 59491, 59578, 59722, 60306, 60395, 60574, 60584, 60872, 61065, 61168, 61202, 61576, 61780, 61783, 61801, 61879, 62235, 62254, 62749, 62940, 62941, 62942, 62943, 63228, 63459, 63741, 63742, 63752, 63942, 64026, 64100, 64813, 64846, 64853, 64857, 65023, 65154, 65391, 65555, 65558, 65564, 65746, 65748, 65781, 65820, 66493, 66567, 66666, 66705, 66752, 66755, 66839, 66871, 67144, 67211, 67561, 68010, 68034, 68267, 68507, 68528, 68598, 69198, 69217, 69300, 69349, 69418, 69460, 69467, 69469, 69765, 70235, 70250, 70261, 70340, 70569, 70581, 70630, 70655, 70799, 70814, 70838, 70911, 71624, 71634, 71647, 71729, 71997, 72015, 72087, 72095, 72177, 72343, 72492, 72802, 72851, 72887, 73005, 73571, 73572, 73954, 73969, 74008, 74212, 74333, 74443, 74890, 74914, 74945, 74997, 75083, 75451, 75466, 75650, 75757, 75980, 76113, 76387, 76587, 76649, 77051, 77072, 77074, 77076, 77086, 77167, 77168, 77170, 77186, 77238, 77447, 78914, 79400, 79486, 79807, 79942, 79971, 80365, 80390, 80395, 80422, 80437, 80602, 80739, 80801, 80948, 81138, 81142, 81196, 81325, 81581, 82073, 82135, 82137, 82278, 82282, 82307, 82428, 82813, 82977, 83039, 83040, 83248, 83305, 83307, 83308, 83576, 83601, 83734, 83735, 83921, 84724, 84853, 84860, 84895, 85229, 85433, 85503, 85520, 85724, 85808, 85919, 86571, 86835, 86950, 86955, 86976, 86985, 87036, 87098, 87175, 87376, 87595, 87967, 87969, 88071, 88228, 88242, 88354, 88420, 88421, 88423, 88462, 88677, 89189, 89212, 89334, 89491, 89500, 89667, 89702, 89740, 90060, 90530, 91069, 91075, 91189, 91307, 91477, 91565, 91707, 91729, 91730, 92151, 92189, 92277, 92340, 92431, 93007, 93012, 93054, 93236, 93280, 93408, 93706, 93738, 93807, 93809, 93854, 93919, 94261, 94735, 94804, 94838, 95252, 95331, 95632, 95702, 95830, 95834, 96090, 96130, 96135, 96386, 96758, 96797, 96801, 96856, 96857, 96933, 97194, 97235, 97355, 97428, 97614, 97741, 97759, 97790, 97917, 98243, 98292, 98651, 98888, 98889, 98996, 99134, 99138, 99143, 99218, 99250, 99291, 99294, 99437, 99465, 99761, 99765, 99837, 99885, 99917]\n",
            "<class 'list'>\n",
            "699\n",
            "699\n",
            "699\n"
          ],
          "name": "stdout"
        }
      ]
    },
    {
      "cell_type": "code",
      "metadata": {
        "colab": {
          "base_uri": "https://localhost:8080/",
          "height": 221
        },
        "id": "-d37gPPxOKYe",
        "outputId": "290ff602-4e74-44b7-c939-e73f41d19113"
      },
      "source": [
        "unlabel_4 = unlabel_4.loc[pos,:]\n",
        "print(len(unlabel_4))\n",
        "unlabel_4.head()"
      ],
      "execution_count": null,
      "outputs": [
        {
          "output_type": "stream",
          "text": [
            "699\n"
          ],
          "name": "stdout"
        },
        {
          "output_type": "execute_result",
          "data": {
            "text/html": [
              "<div>\n",
              "<style scoped>\n",
              "    .dataframe tbody tr th:only-of-type {\n",
              "        vertical-align: middle;\n",
              "    }\n",
              "\n",
              "    .dataframe tbody tr th {\n",
              "        vertical-align: top;\n",
              "    }\n",
              "\n",
              "    .dataframe thead th {\n",
              "        text-align: right;\n",
              "    }\n",
              "</style>\n",
              "<table border=\"1\" class=\"dataframe\">\n",
              "  <thead>\n",
              "    <tr style=\"text-align: right;\">\n",
              "      <th></th>\n",
              "      <th>text</th>\n",
              "    </tr>\n",
              "  </thead>\n",
              "  <tbody>\n",
              "    <tr>\n",
              "      <th>56</th>\n",
              "      <td>w k mcneir witness state testified state ridin...</td>\n",
              "    </tr>\n",
              "    <tr>\n",
              "      <th>76</th>\n",
              "      <td>error pointed judgment reversed cause remanded</td>\n",
              "    </tr>\n",
              "    <tr>\n",
              "      <th>169</th>\n",
              "      <td>saw appellant behind steering wheel car</td>\n",
              "    </tr>\n",
              "    <tr>\n",
              "      <th>189</th>\n",
              "      <td>appellant low blood pressure loss blood bleedi...</td>\n",
              "    </tr>\n",
              "    <tr>\n",
              "      <th>199</th>\n",
              "      <td>one car light went face went left trying turn ...</td>\n",
              "    </tr>\n",
              "  </tbody>\n",
              "</table>\n",
              "</div>"
            ],
            "text/plain": [
              "                                                  text\n",
              "56   w k mcneir witness state testified state ridin...\n",
              "76      error pointed judgment reversed cause remanded\n",
              "169            saw appellant behind steering wheel car\n",
              "189  appellant low blood pressure loss blood bleedi...\n",
              "199  one car light went face went left trying turn ..."
            ]
          },
          "metadata": {
            "tags": []
          },
          "execution_count": 69
        }
      ]
    },
    {
      "cell_type": "code",
      "metadata": {
        "id": "W63mA-YSOjwr"
      },
      "source": [
        "class_x_un4 = tfidf_vect.transform(unlabel_4['text'])"
      ],
      "execution_count": null,
      "outputs": []
    },
    {
      "cell_type": "code",
      "metadata": {
        "colab": {
          "base_uri": "https://localhost:8080/"
        },
        "id": "R1XhrcyLOzB1",
        "outputId": "99dfb52c-d4a6-42b4-87fb-c5a54f108201"
      },
      "source": [
        "class_x_un4.shape"
      ],
      "execution_count": null,
      "outputs": [
        {
          "output_type": "execute_result",
          "data": {
            "text/plain": [
              "(699, 6383)"
            ]
          },
          "metadata": {
            "tags": []
          },
          "execution_count": 71
        }
      ]
    },
    {
      "cell_type": "code",
      "metadata": {
        "colab": {
          "base_uri": "https://localhost:8080/"
        },
        "id": "pgdtvQtgO3IA",
        "outputId": "c0855e69-fd59-4e94-a56d-d2e603e62f84"
      },
      "source": [
        "class_pred_unlabel_4 = classifier_3.predict(class_x_un4)\n",
        "class_pred_unlabel_4"
      ],
      "execution_count": null,
      "outputs": [
        {
          "output_type": "execute_result",
          "data": {
            "text/plain": [
              "array(['Facts', 'Conclusion', 'Facts', 'Facts', 'Facts', 'Facts', 'Facts',\n",
              "       'Facts', 'Facts', 'Facts', 'Facts', 'Facts', 'Facts', 'Facts',\n",
              "       'Facts', 'Facts', 'Facts', 'Facts', 'Invalid', 'Conclusion',\n",
              "       'Invalid', 'Facts', 'Facts', 'Facts', 'Facts', 'Facts', 'Facts',\n",
              "       'Conclusion', 'Facts', 'Facts', 'Facts', 'Facts', 'Facts', 'Facts',\n",
              "       'Conclusion', 'Facts', 'Facts', 'Facts', 'Invalid', 'Facts',\n",
              "       'Facts', 'Conclusion', 'Conclusion', 'Conclusion', 'Facts',\n",
              "       'Facts', 'Facts', 'Facts', 'Facts', 'Facts', 'Facts', 'Facts',\n",
              "       'Facts', 'Facts', 'Facts', 'Facts', 'Facts', 'Facts', 'Facts',\n",
              "       'Facts', 'Facts', 'Facts', 'Conclusion', 'Facts', 'Facts', 'Facts',\n",
              "       'Facts', 'Facts', 'Facts', 'Facts', 'Facts', 'Facts', 'Conclusion',\n",
              "       'Facts', 'Facts', 'Facts', 'Facts', 'Facts', 'Conclusion', 'Facts',\n",
              "       'Facts', 'Facts', 'Conclusion', 'Facts', 'Facts', 'Facts', 'Facts',\n",
              "       'Facts', 'Invalid', 'Facts', 'Facts', 'Facts', 'Facts', 'Facts',\n",
              "       'Facts', 'Facts', 'Facts', 'Facts', 'Facts', 'Facts', 'Conclusion',\n",
              "       'Facts', 'Facts', 'Facts', 'Facts', 'Facts', 'Conclusion',\n",
              "       'Conclusion', 'Facts', 'Facts', 'Conclusion', 'Facts', 'Facts',\n",
              "       'Facts', 'Facts', 'Facts', 'Facts', 'Facts', 'Facts', 'Facts',\n",
              "       'Facts', 'Facts', 'Facts', 'Facts', 'Facts', 'Facts', 'Facts',\n",
              "       'Facts', 'Invalid', 'Conclusion', 'Conclusion', 'Facts', 'Facts',\n",
              "       'Facts', 'Facts', 'Facts', 'Facts', 'Facts', 'Facts', 'Facts',\n",
              "       'Facts', 'Facts', 'Facts', 'Conclusion', 'Invalid', 'Facts',\n",
              "       'Facts', 'Conclusion', 'Facts', 'Facts', 'Facts', 'Facts', 'Facts',\n",
              "       'Facts', 'Facts', 'Facts', 'Facts', 'Facts', 'Facts', 'Conclusion',\n",
              "       'Facts', 'Facts', 'Facts', 'Facts', 'Facts', 'Conclusion', 'Facts',\n",
              "       'Facts', 'Facts', 'Facts', 'Facts', 'Facts', 'Invalid', 'Facts',\n",
              "       'Facts', 'Facts', 'Facts', 'Facts', 'Conclusion', 'Facts', 'Facts',\n",
              "       'Facts', 'Facts', 'Facts', 'Facts', 'Facts', 'Facts', 'Facts',\n",
              "       'Facts', 'Conclusion', 'Facts', 'Conclusion', 'Invalid', 'Facts',\n",
              "       'Facts', 'Conclusion', 'Facts', 'Facts', 'Facts', 'Facts',\n",
              "       'Invalid', 'Facts', 'Facts', 'Facts', 'Facts', 'Facts', 'Facts',\n",
              "       'Facts', 'Facts', 'Facts', 'Facts', 'Facts', 'Facts', 'Facts',\n",
              "       'Facts', 'Facts', 'Facts', 'Facts', 'Facts', 'Facts', 'Facts',\n",
              "       'Facts', 'Invalid', 'Conclusion', 'Facts', 'Facts', 'Facts',\n",
              "       'Facts', 'Facts', 'Facts', 'Facts', 'Conclusion', 'Facts',\n",
              "       'Invalid', 'Facts', 'Conclusion', 'Facts', 'Facts', 'Facts',\n",
              "       'Facts', 'Facts', 'Facts', 'Conclusion', 'Conclusion', 'Facts',\n",
              "       'Facts', 'Facts', 'Facts', 'Facts', 'Facts', 'Facts', 'Facts',\n",
              "       'Facts', 'Facts', 'Facts', 'Conclusion', 'Invalid', 'Facts',\n",
              "       'Conclusion', 'Facts', 'Facts', 'Facts', 'Facts', 'Facts', 'Facts',\n",
              "       'Facts', 'Facts', 'Facts', 'Facts', 'Facts', 'Facts', 'Facts',\n",
              "       'Conclusion', 'Facts', 'Facts', 'Facts', 'Conclusion', 'Facts',\n",
              "       'Facts', 'Facts', 'Facts', 'Facts', 'Facts', 'Conclusion',\n",
              "       'Conclusion', 'Conclusion', 'Facts', 'Facts', 'Facts', 'Facts',\n",
              "       'Facts', 'Facts', 'Facts', 'Facts', 'Facts', 'Conclusion', 'Facts',\n",
              "       'Conclusion', 'Facts', 'Facts', 'Facts', 'Invalid', 'Invalid',\n",
              "       'Facts', 'Conclusion', 'Conclusion', 'Facts', 'Facts',\n",
              "       'Conclusion', 'Facts', 'Conclusion', 'Facts', 'Facts', 'Facts',\n",
              "       'Facts', 'Conclusion', 'Facts', 'Facts', 'Facts', 'Facts',\n",
              "       'Conclusion', 'Facts', 'Conclusion', 'Facts', 'Facts',\n",
              "       'Conclusion', 'Facts', 'Facts', 'Conclusion', 'Facts', 'Facts',\n",
              "       'Conclusion', 'Facts', 'Facts', 'Facts', 'Facts', 'Facts', 'Facts',\n",
              "       'Conclusion', 'Facts', 'Facts', 'Facts', 'Facts', 'Facts', 'Facts',\n",
              "       'Facts', 'Facts', 'Facts', 'Conclusion', 'Facts', 'Facts', 'Facts',\n",
              "       'Facts', 'Facts', 'Facts', 'Facts', 'Facts', 'Facts', 'Facts',\n",
              "       'Facts', 'Facts', 'Facts', 'Facts', 'Facts', 'Facts', 'Facts',\n",
              "       'Facts', 'Facts', 'Conclusion', 'Facts', 'Facts', 'Conclusion',\n",
              "       'Facts', 'Facts', 'Facts', 'Facts', 'Facts', 'Facts', 'Facts',\n",
              "       'Facts', 'Facts', 'Facts', 'Invalid', 'Facts', 'Facts',\n",
              "       'Conclusion', 'Facts', 'Conclusion', 'Facts', 'Facts', 'Facts',\n",
              "       'Facts', 'Conclusion', 'Invalid', 'Facts', 'Facts', 'Facts',\n",
              "       'Facts', 'Facts', 'Facts', 'Facts', 'Facts', 'Facts', 'Facts',\n",
              "       'Facts', 'Facts', 'Conclusion', 'Facts', 'Conclusion', 'Facts',\n",
              "       'Conclusion', 'Invalid', 'Facts', 'Facts', 'Facts', 'Conclusion',\n",
              "       'Facts', 'Conclusion', 'Conclusion', 'Invalid', 'Facts', 'Facts',\n",
              "       'Facts', 'Facts', 'Facts', 'Facts', 'Facts', 'Facts', 'Facts',\n",
              "       'Facts', 'Facts', 'Facts', 'Facts', 'Facts', 'Facts', 'Facts',\n",
              "       'Facts', 'Facts', 'Facts', 'Facts', 'Facts', 'Facts', 'Facts',\n",
              "       'Facts', 'Facts', 'Facts', 'Facts', 'Facts', 'Conclusion', 'Facts',\n",
              "       'Facts', 'Facts', 'Facts', 'Conclusion', 'Conclusion',\n",
              "       'Conclusion', 'Conclusion', 'Facts', 'Facts', 'Facts', 'Facts',\n",
              "       'Conclusion', 'Facts', 'Facts', 'Invalid', 'Facts', 'Conclusion',\n",
              "       'Facts', 'Facts', 'Facts', 'Facts', 'Facts', 'Facts', 'Facts',\n",
              "       'Facts', 'Facts', 'Invalid', 'Facts', 'Facts', 'Facts', 'Facts',\n",
              "       'Invalid', 'Conclusion', 'Facts', 'Facts', 'Facts', 'Facts',\n",
              "       'Facts', 'Facts', 'Facts', 'Facts', 'Facts', 'Conclusion',\n",
              "       'Conclusion', 'Facts', 'Facts', 'Facts', 'Facts', 'Facts', 'Facts',\n",
              "       'Facts', 'Facts', 'Facts', 'Conclusion', 'Facts', 'Conclusion',\n",
              "       'Conclusion', 'Facts', 'Facts', 'Facts', 'Facts', 'Conclusion',\n",
              "       'Facts', 'Facts', 'Conclusion', 'Invalid', 'Conclusion', 'Facts',\n",
              "       'Facts', 'Facts', 'Facts', 'Facts', 'Facts', 'Conclusion', 'Facts',\n",
              "       'Facts', 'Facts', 'Facts', 'Facts', 'Facts', 'Invalid', 'Facts',\n",
              "       'Facts', 'Facts', 'Facts', 'Facts', 'Facts', 'Facts', 'Facts',\n",
              "       'Facts', 'Conclusion', 'Facts', 'Facts', 'Conclusion', 'Facts',\n",
              "       'Facts', 'Facts', 'Facts', 'Facts', 'Facts', 'Conclusion', 'Facts',\n",
              "       'Facts', 'Conclusion', 'Facts', 'Facts', 'Conclusion', 'Facts',\n",
              "       'Facts', 'Facts', 'Facts', 'Facts', 'Facts', 'Facts', 'Facts',\n",
              "       'Facts', 'Facts', 'Invalid', 'Facts', 'Conclusion', 'Facts',\n",
              "       'Facts', 'Conclusion', 'Facts', 'Facts', 'Facts', 'Facts', 'Facts',\n",
              "       'Facts', 'Facts', 'Conclusion', 'Facts', 'Facts', 'Facts', 'Facts',\n",
              "       'Conclusion', 'Facts', 'Conclusion', 'Facts', 'Facts', 'Facts',\n",
              "       'Facts', 'Facts', 'Facts', 'Conclusion', 'Facts', 'Facts',\n",
              "       'Conclusion', 'Facts', 'Facts', 'Conclusion', 'Conclusion',\n",
              "       'Invalid', 'Facts', 'Facts', 'Invalid', 'Facts', 'Facts', 'Facts',\n",
              "       'Facts', 'Facts', 'Facts', 'Facts', 'Facts', 'Conclusion', 'Facts',\n",
              "       'Facts', 'Facts', 'Facts', 'Facts', 'Facts', 'Invalid',\n",
              "       'Conclusion', 'Conclusion', 'Conclusion', 'Facts', 'Facts',\n",
              "       'Facts', 'Facts', 'Conclusion', 'Facts', 'Facts', 'Facts',\n",
              "       'Conclusion', 'Facts', 'Facts', 'Facts', 'Conclusion',\n",
              "       'Conclusion', 'Facts', 'Facts', 'Facts', 'Facts', 'Facts', 'Facts',\n",
              "       'Facts', 'Facts', 'Facts', 'Facts', 'Facts', 'Facts', 'Facts',\n",
              "       'Facts', 'Conclusion', 'Invalid', 'Conclusion', 'Facts', 'Facts',\n",
              "       'Facts', 'Facts', 'Invalid', 'Facts', 'Facts', 'Facts', 'Facts',\n",
              "       'Facts', 'Facts', 'Facts', 'Facts', 'Facts', 'Conclusion', 'Facts',\n",
              "       'Facts', 'Facts', 'Facts', 'Facts', 'Conclusion', 'Facts', 'Facts',\n",
              "       'Facts', 'Conclusion', 'Facts', 'Facts', 'Facts', 'Facts', 'Facts',\n",
              "       'Facts', 'Facts', 'Facts', 'Facts', 'Facts', 'Facts', 'Facts',\n",
              "       'Conclusion', 'Facts', 'Facts', 'Facts', 'Facts', 'Facts'],\n",
              "      dtype=object)"
            ]
          },
          "metadata": {
            "tags": []
          },
          "execution_count": 72
        }
      ]
    },
    {
      "cell_type": "code",
      "metadata": {
        "colab": {
          "base_uri": "https://localhost:8080/"
        },
        "id": "stJ1tS-GPCH1",
        "outputId": "3fcc77a7-9d0d-422d-e579-80f5750adac8"
      },
      "source": [
        "print(len(class_pred_unlabel_4))"
      ],
      "execution_count": null,
      "outputs": [
        {
          "output_type": "stream",
          "text": [
            "699\n"
          ],
          "name": "stdout"
        }
      ]
    },
    {
      "cell_type": "code",
      "metadata": {
        "colab": {
          "base_uri": "https://localhost:8080/",
          "height": 204
        },
        "id": "_i8lEcN8PGkH",
        "outputId": "9b3e849e-2a00-4500-a305-593a4f14336b"
      },
      "source": [
        "unlabel_4['Target']=class_pred_unlabel_4\n",
        "unlabel_4.head()"
      ],
      "execution_count": null,
      "outputs": [
        {
          "output_type": "execute_result",
          "data": {
            "text/html": [
              "<div>\n",
              "<style scoped>\n",
              "    .dataframe tbody tr th:only-of-type {\n",
              "        vertical-align: middle;\n",
              "    }\n",
              "\n",
              "    .dataframe tbody tr th {\n",
              "        vertical-align: top;\n",
              "    }\n",
              "\n",
              "    .dataframe thead th {\n",
              "        text-align: right;\n",
              "    }\n",
              "</style>\n",
              "<table border=\"1\" class=\"dataframe\">\n",
              "  <thead>\n",
              "    <tr style=\"text-align: right;\">\n",
              "      <th></th>\n",
              "      <th>text</th>\n",
              "      <th>Target</th>\n",
              "    </tr>\n",
              "  </thead>\n",
              "  <tbody>\n",
              "    <tr>\n",
              "      <th>56</th>\n",
              "      <td>w k mcneir witness state testified state ridin...</td>\n",
              "      <td>Facts</td>\n",
              "    </tr>\n",
              "    <tr>\n",
              "      <th>76</th>\n",
              "      <td>error pointed judgment reversed cause remanded</td>\n",
              "      <td>Conclusion</td>\n",
              "    </tr>\n",
              "    <tr>\n",
              "      <th>169</th>\n",
              "      <td>saw appellant behind steering wheel car</td>\n",
              "      <td>Facts</td>\n",
              "    </tr>\n",
              "    <tr>\n",
              "      <th>189</th>\n",
              "      <td>appellant low blood pressure loss blood bleedi...</td>\n",
              "      <td>Facts</td>\n",
              "    </tr>\n",
              "    <tr>\n",
              "      <th>199</th>\n",
              "      <td>one car light went face went left trying turn ...</td>\n",
              "      <td>Facts</td>\n",
              "    </tr>\n",
              "  </tbody>\n",
              "</table>\n",
              "</div>"
            ],
            "text/plain": [
              "                                                  text      Target\n",
              "56   w k mcneir witness state testified state ridin...       Facts\n",
              "76      error pointed judgment reversed cause remanded  Conclusion\n",
              "169            saw appellant behind steering wheel car       Facts\n",
              "189  appellant low blood pressure loss blood bleedi...       Facts\n",
              "199  one car light went face went left trying turn ...       Facts"
            ]
          },
          "metadata": {
            "tags": []
          },
          "execution_count": 74
        }
      ]
    },
    {
      "cell_type": "code",
      "metadata": {
        "colab": {
          "base_uri": "https://localhost:8080/",
          "height": 204
        },
        "id": "Xkr3T0FPPNVa",
        "outputId": "a6062e1c-50ed-4746-b3be-0fa664890c9c"
      },
      "source": [
        "train_3.head()"
      ],
      "execution_count": null,
      "outputs": [
        {
          "output_type": "execute_result",
          "data": {
            "text/html": [
              "<div>\n",
              "<style scoped>\n",
              "    .dataframe tbody tr th:only-of-type {\n",
              "        vertical-align: middle;\n",
              "    }\n",
              "\n",
              "    .dataframe tbody tr th {\n",
              "        vertical-align: top;\n",
              "    }\n",
              "\n",
              "    .dataframe thead th {\n",
              "        text-align: right;\n",
              "    }\n",
              "</style>\n",
              "<table border=\"1\" class=\"dataframe\">\n",
              "  <thead>\n",
              "    <tr style=\"text-align: right;\">\n",
              "      <th></th>\n",
              "      <th>Unnamed: 0</th>\n",
              "      <th>text</th>\n",
              "      <th>Target</th>\n",
              "    </tr>\n",
              "  </thead>\n",
              "  <tbody>\n",
              "    <tr>\n",
              "      <th>0</th>\n",
              "      <td>659.0</td>\n",
              "      <td>Appellant had stated to the officers that she ...</td>\n",
              "      <td>Invalid</td>\n",
              "    </tr>\n",
              "    <tr>\n",
              "      <th>1</th>\n",
              "      <td>3456.0</td>\n",
              "      <td>We shall discuss the facts more fully in conne...</td>\n",
              "      <td>Invalid</td>\n",
              "    </tr>\n",
              "    <tr>\n",
              "      <th>2</th>\n",
              "      <td>2043.0</td>\n",
              "      <td>â€œPerjury is a false statement, either writte...</td>\n",
              "      <td>Invalid</td>\n",
              "    </tr>\n",
              "    <tr>\n",
              "      <th>3</th>\n",
              "      <td>3344.0</td>\n",
              "      <td>The offense is felony theft by false pretext; ...</td>\n",
              "      <td>Issue</td>\n",
              "    </tr>\n",
              "    <tr>\n",
              "      <th>4</th>\n",
              "      <td>3231.0</td>\n",
              "      <td>Numerous contentions urging the commission of ...</td>\n",
              "      <td>Issue</td>\n",
              "    </tr>\n",
              "  </tbody>\n",
              "</table>\n",
              "</div>"
            ],
            "text/plain": [
              "   Unnamed: 0                                               text   Target\n",
              "0       659.0  Appellant had stated to the officers that she ...  Invalid\n",
              "1      3456.0  We shall discuss the facts more fully in conne...  Invalid\n",
              "2      2043.0  â€œPerjury is a false statement, either writte...  Invalid\n",
              "3      3344.0  The offense is felony theft by false pretext; ...    Issue\n",
              "4      3231.0  Numerous contentions urging the commission of ...    Issue"
            ]
          },
          "metadata": {
            "tags": []
          },
          "execution_count": 75
        }
      ]
    },
    {
      "cell_type": "code",
      "metadata": {
        "colab": {
          "base_uri": "https://localhost:8080/",
          "height": 470
        },
        "id": "ElMqP9aFPT1n",
        "outputId": "33f70c08-de0a-4ae6-8a5c-9860a2a3d052"
      },
      "source": [
        "frame_4 = [train_3,unlabel_4]\n",
        "train_4 = pd.concat(frame_4)\n",
        "print(len(train_3))\n",
        "print(len(unlabel_4))\n",
        "print(len(train_4))\n",
        "train_4"
      ],
      "execution_count": null,
      "outputs": [
        {
          "output_type": "stream",
          "text": [
            "4300\n",
            "699\n",
            "4999\n"
          ],
          "name": "stdout"
        },
        {
          "output_type": "execute_result",
          "data": {
            "text/html": [
              "<div>\n",
              "<style scoped>\n",
              "    .dataframe tbody tr th:only-of-type {\n",
              "        vertical-align: middle;\n",
              "    }\n",
              "\n",
              "    .dataframe tbody tr th {\n",
              "        vertical-align: top;\n",
              "    }\n",
              "\n",
              "    .dataframe thead th {\n",
              "        text-align: right;\n",
              "    }\n",
              "</style>\n",
              "<table border=\"1\" class=\"dataframe\">\n",
              "  <thead>\n",
              "    <tr style=\"text-align: right;\">\n",
              "      <th></th>\n",
              "      <th>Unnamed: 0</th>\n",
              "      <th>text</th>\n",
              "      <th>Target</th>\n",
              "    </tr>\n",
              "  </thead>\n",
              "  <tbody>\n",
              "    <tr>\n",
              "      <th>0</th>\n",
              "      <td>659.0</td>\n",
              "      <td>Appellant had stated to the officers that she ...</td>\n",
              "      <td>Invalid</td>\n",
              "    </tr>\n",
              "    <tr>\n",
              "      <th>1</th>\n",
              "      <td>3456.0</td>\n",
              "      <td>We shall discuss the facts more fully in conne...</td>\n",
              "      <td>Invalid</td>\n",
              "    </tr>\n",
              "    <tr>\n",
              "      <th>2</th>\n",
              "      <td>2043.0</td>\n",
              "      <td>â€œPerjury is a false statement, either writte...</td>\n",
              "      <td>Invalid</td>\n",
              "    </tr>\n",
              "    <tr>\n",
              "      <th>3</th>\n",
              "      <td>3344.0</td>\n",
              "      <td>The offense is felony theft by false pretext; ...</td>\n",
              "      <td>Issue</td>\n",
              "    </tr>\n",
              "    <tr>\n",
              "      <th>4</th>\n",
              "      <td>3231.0</td>\n",
              "      <td>Numerous contentions urging the commission of ...</td>\n",
              "      <td>Issue</td>\n",
              "    </tr>\n",
              "    <tr>\n",
              "      <th>...</th>\n",
              "      <td>...</td>\n",
              "      <td>...</td>\n",
              "      <td>...</td>\n",
              "    </tr>\n",
              "    <tr>\n",
              "      <th>99761</th>\n",
              "      <td>NaN</td>\n",
              "      <td>massey drunk went sleep bed oneroom house occu...</td>\n",
              "      <td>Facts</td>\n",
              "    </tr>\n",
              "    <tr>\n",
              "      <th>99765</th>\n",
              "      <td>NaN</td>\n",
              "      <td>third shot fired appellant left home truck lat...</td>\n",
              "      <td>Facts</td>\n",
              "    </tr>\n",
              "    <tr>\n",
              "      <th>99837</th>\n",
              "      <td>NaN</td>\n",
              "      <td>soon crowd saw appellant door broke get porter...</td>\n",
              "      <td>Facts</td>\n",
              "    </tr>\n",
              "    <tr>\n",
              "      <th>99885</th>\n",
              "      <td>NaN</td>\n",
              "      <td>affidavit one two negro vestibule rear baggage...</td>\n",
              "      <td>Facts</td>\n",
              "    </tr>\n",
              "    <tr>\n",
              "      <th>99917</th>\n",
              "      <td>NaN</td>\n",
              "      <td>doctor saw following morning house appellant l...</td>\n",
              "      <td>Facts</td>\n",
              "    </tr>\n",
              "  </tbody>\n",
              "</table>\n",
              "<p>4999 rows × 3 columns</p>\n",
              "</div>"
            ],
            "text/plain": [
              "       Unnamed: 0                                               text   Target\n",
              "0           659.0  Appellant had stated to the officers that she ...  Invalid\n",
              "1          3456.0  We shall discuss the facts more fully in conne...  Invalid\n",
              "2          2043.0  â€œPerjury is a false statement, either writte...  Invalid\n",
              "3          3344.0  The offense is felony theft by false pretext; ...    Issue\n",
              "4          3231.0  Numerous contentions urging the commission of ...    Issue\n",
              "...           ...                                                ...      ...\n",
              "99761         NaN  massey drunk went sleep bed oneroom house occu...    Facts\n",
              "99765         NaN  third shot fired appellant left home truck lat...    Facts\n",
              "99837         NaN  soon crowd saw appellant door broke get porter...    Facts\n",
              "99885         NaN  affidavit one two negro vestibule rear baggage...    Facts\n",
              "99917         NaN  doctor saw following morning house appellant l...    Facts\n",
              "\n",
              "[4999 rows x 3 columns]"
            ]
          },
          "metadata": {
            "tags": []
          },
          "execution_count": 76
        }
      ]
    },
    {
      "cell_type": "code",
      "metadata": {
        "colab": {
          "base_uri": "https://localhost:8080/"
        },
        "id": "9BNVgYeLPuUc",
        "outputId": "2dc682b4-8d85-41b4-b0dc-f4fa03889a7d"
      },
      "source": [
        "from sklearn.metrics import classification_report\n",
        "x_train_4 = tfidf_vect.transform(train_4['text'])\n",
        "x_train_4.shape\n",
        "X_train, x_val, Y_train, y_val = train_test_split(x_train_4,train_4['Target'],test_size=0.25,random_state=2)\n",
        "classifier_4 = RandomForestClassifier(n_estimators = 100, criterion = 'gini', random_state = 42)\n",
        "classifier_4.fit(X_train, Y_train)\n",
        "y_pred = classifier_4.predict(x_val)\n",
        "print(np.unique(y_pred))\n",
        "print(type(y_pred))\n",
        "\n",
        "\n",
        "Accuracy_score = accuracy_score(y_pred,y_val)\n",
        "\n",
        "print('Validation ------- Accuracy_score: %f' % Accuracy_score)\n",
        "\n",
        "test_pred = classifier_4.predict(t_p)\n",
        "acc_test = accuracy_score(test_pred,test['Target'])\n",
        "print('Test ------Accuracy score ', acc_test)\n",
        "matrix = confusion_matrix(y_pred, y_val)\n",
        "print(matrix)\n",
        "print(\"---------validation--------------\")\n",
        "print(classification_report(y_val,y_pred))\n",
        "print(\"----------test---------------------\")\n",
        "print(classification_report(test['Target'],test_pred))"
      ],
      "execution_count": null,
      "outputs": [
        {
          "output_type": "stream",
          "text": [
            "['Analysis' 'Conclusion' 'Facts' 'Invalid' 'Issue' 'Rule/Law/Holding']\n",
            "<class 'numpy.ndarray'>\n",
            "Validation ------- Accuracy_score: 0.756800\n",
            "Test ------Accuracy score  0.6026871401151631\n",
            "[[ 33   9   7   3   5   4]\n",
            " [  1 108   4   1   1   0]\n",
            " [ 90  14 673  44  21  23]\n",
            " [ 11   6  38  96   5   7]\n",
            " [  1   0   1   0  18   1]\n",
            " [  2   0   1   2   2  18]]\n",
            "---------validation--------------\n",
            "                  precision    recall  f1-score   support\n",
            "\n",
            "        Analysis       0.54      0.24      0.33       138\n",
            "      Conclusion       0.94      0.79      0.86       137\n",
            "           Facts       0.78      0.93      0.85       724\n",
            "         Invalid       0.59      0.66      0.62       146\n",
            "           Issue       0.86      0.35      0.49        52\n",
            "Rule/Law/Holding       0.72      0.34      0.46        53\n",
            "\n",
            "        accuracy                           0.76      1250\n",
            "       macro avg       0.74      0.55      0.60      1250\n",
            "    weighted avg       0.75      0.76      0.73      1250\n",
            "\n",
            "----------test---------------------\n",
            "                  precision    recall  f1-score   support\n",
            "\n",
            "        Analysis       0.62      0.19      0.30        77\n",
            "      Conclusion       0.81      0.50      0.62        26\n",
            "           Facts       0.64      0.86      0.73       267\n",
            "         Invalid       0.43      0.52      0.47        83\n",
            "           Issue       0.78      0.21      0.33        34\n",
            "Rule/Law/Holding       0.50      0.21      0.29        34\n",
            "\n",
            "        accuracy                           0.60       521\n",
            "       macro avg       0.63      0.41      0.46       521\n",
            "    weighted avg       0.61      0.60      0.57       521\n",
            "\n"
          ],
          "name": "stdout"
        }
      ]
    },
    {
      "cell_type": "markdown",
      "metadata": {
        "id": "2zobrzhKQn2E"
      },
      "source": [
        "Unlabeld 5"
      ]
    },
    {
      "cell_type": "code",
      "metadata": {
        "id": "YvKHLPZhPus4"
      },
      "source": [
        "x_un5 = tfidf_vect.transform(unlabel_5['text'])\n"
      ],
      "execution_count": null,
      "outputs": []
    },
    {
      "cell_type": "code",
      "metadata": {
        "colab": {
          "base_uri": "https://localhost:8080/"
        },
        "id": "KNbi0iTUj6pW",
        "outputId": "6ae142f3-3fef-4d54-b8e0-a1840d2325ed"
      },
      "source": [
        "x_un5.shape"
      ],
      "execution_count": null,
      "outputs": [
        {
          "output_type": "execute_result",
          "data": {
            "text/plain": [
              "(137702, 6383)"
            ]
          },
          "metadata": {
            "tags": []
          },
          "execution_count": 80
        }
      ]
    },
    {
      "cell_type": "code",
      "metadata": {
        "id": "CwzWU83UPULD",
        "colab": {
          "base_uri": "https://localhost:8080/"
        },
        "outputId": "4a37ae19-c524-4685-9cdd-694f49a0233f"
      },
      "source": [
        "pred_unlabel_5 = classifier_4.predict_proba(x_un5)\n",
        "pred_unlabel_5"
      ],
      "execution_count": null,
      "outputs": [
        {
          "output_type": "execute_result",
          "data": {
            "text/plain": [
              "array([[0.01      , 0.08      , 0.03      , 0.78      , 0.04      ,\n",
              "        0.06      ],\n",
              "       [0.03      , 0.14      , 0.18      , 0.61      , 0.        ,\n",
              "        0.04      ],\n",
              "       [0.05      , 0.04      , 0.25      , 0.05      , 0.27333333,\n",
              "        0.33666667],\n",
              "       ...,\n",
              "       [0.37      , 0.01      , 0.16      , 0.46      , 0.        ,\n",
              "        0.        ],\n",
              "       [0.08      , 0.06      , 0.65      , 0.08      , 0.08      ,\n",
              "        0.05      ],\n",
              "       [0.29333333, 0.36666667, 0.12      , 0.21      , 0.        ,\n",
              "        0.01      ]])"
            ]
          },
          "metadata": {
            "tags": []
          },
          "execution_count": 79
        }
      ]
    },
    {
      "cell_type": "code",
      "metadata": {
        "colab": {
          "base_uri": "https://localhost:8080/"
        },
        "id": "vrO9kRe9j1hn",
        "outputId": "3449d743-22d9-4583-8c16-1ca6d2604b98"
      },
      "source": [
        "print(len(pred_unlabel_5))\n",
        "print(np.unique(pred_unlabel_5)) "
      ],
      "execution_count": null,
      "outputs": [
        {
          "output_type": "stream",
          "text": [
            "137702\n",
            "[0.         0.00142857 0.002      ... 0.98666667 0.99       1.        ]\n"
          ],
          "name": "stdout"
        }
      ]
    },
    {
      "cell_type": "code",
      "metadata": {
        "colab": {
          "base_uri": "https://localhost:8080/"
        },
        "id": "_2Y4iBy1kczY",
        "outputId": "d2a4f95b-d962-41be-a9b0-d9e7e568d3d2"
      },
      "source": [
        "import numpy as np\n",
        "pos=[]\n",
        "large=[]\n",
        "ind = []\n",
        "i=0\n",
        "for j in pred_unlabel_5:\n",
        "  if max(j)> Threshold:\n",
        "    ind.append(np.argmax(j))\n",
        "    large.append(max(j))\n",
        "    pos.append(i)\n",
        "  i+=1\n",
        "\n",
        "\n",
        "print(ind)\n",
        "print(large)\n",
        "print(pos)\n",
        "print(type(pos))\n",
        "print(len(ind))\n",
        "print(len(large))\n",
        "print(len(pos))"
      ],
      "execution_count": null,
      "outputs": [
        {
          "output_type": "stream",
          "text": [
            "[2, 2, 1, 2, 2, 2, 2, 2, 2, 1, 2, 2, 2, 2, 2, 2, 2, 2, 2, 2, 2, 1, 2, 1, 2, 2, 2, 2, 1, 1, 1, 2, 2, 2, 2, 2, 2, 1, 2, 2, 2, 2, 2, 2, 2, 2, 2, 2, 2, 2, 2, 2, 2, 2, 2, 2, 2, 2, 2, 2, 2, 1, 2, 2, 2, 2, 2, 2, 2, 2, 2, 2, 2, 2, 2, 2, 2, 2, 2, 2, 2, 2, 2, 2, 2, 2, 2, 2, 2, 2, 2, 2, 2, 2, 2, 2, 2, 2, 2, 2, 2, 2, 2, 2, 2, 2, 1, 2, 2, 2, 2, 2, 2, 2, 2, 2, 2, 2, 2, 2, 2, 2, 2, 3, 2, 2, 2, 2, 2, 2, 2, 2, 2, 2, 2, 2, 1, 2, 2, 2, 2, 1, 2, 2, 2, 2, 3, 2, 2, 3, 2, 2, 2, 3, 2, 2, 2, 2, 2, 2, 1, 2, 2, 1, 2, 1, 2, 2, 2, 3, 2, 2, 2, 2, 2, 1, 2, 1, 2, 2, 1, 1, 2, 1, 1, 3, 2, 2, 1, 2, 2, 2, 3, 2, 2, 2, 2, 2, 2, 1, 2, 2, 3, 2, 2, 2, 1, 2, 2, 2, 1, 2, 1, 2, 2, 2, 2, 2, 2, 1, 2, 2, 2, 2, 2, 2, 2, 3, 2, 1, 2, 1, 1, 2, 2, 1, 2, 2, 2, 2, 2, 2, 1, 2, 2, 2, 2, 1, 2, 2, 2, 3, 2, 2, 2, 2, 1, 2, 2, 2, 2, 2, 2, 2, 2, 1, 2, 2, 2, 2, 2, 2, 2, 2, 2, 2, 2, 2, 1, 2, 2, 2, 2, 2, 2, 1, 1, 2, 2, 2, 2, 2, 2, 2, 2, 2, 2, 2, 2, 2, 2, 2, 1, 1, 2, 2, 2, 2, 2, 1, 2, 2, 2, 2, 2, 2, 2, 2, 2, 2, 1, 1, 2, 2, 2, 2, 2, 2, 2, 2, 2, 2, 2, 2, 2, 2, 2, 2, 2, 2, 2, 1, 2, 2, 1, 2, 2, 1, 2, 2, 3, 1, 2, 2, 2, 2, 2, 2, 2, 2, 2, 2, 2, 2, 2, 2, 2, 2, 2, 1, 2, 3, 1, 2, 2, 2, 2, 2, 1, 2, 2, 2, 2, 2, 1, 2, 1, 1, 2, 2, 2, 2, 2, 1, 2, 2, 2, 2, 2, 1, 2, 1, 1, 2, 2, 2, 1, 1, 2, 2, 2, 2, 2, 1, 1, 3, 2, 2, 2, 1, 2, 2, 1, 3, 2, 1, 3, 2, 2, 2, 2, 2, 2, 2, 2, 2, 3, 2, 1, 2, 2, 1, 2, 2, 2, 2, 1, 1, 2, 2, 2, 1, 1, 1, 2, 2, 2, 2, 2, 2, 2, 2, 2, 2, 1, 2, 2, 2, 2, 2, 1, 2, 2, 2, 2, 2, 2, 2, 2, 2, 1, 2, 2, 2, 1, 2, 2, 2, 2, 2, 2, 1, 2, 2, 2, 2, 2, 2, 2, 2, 2, 2, 2, 2, 2, 2, 2, 2, 2, 2, 2, 2, 2, 2, 2, 2, 2, 2, 2, 1, 2, 2, 2, 2, 2, 2, 2, 2, 2, 2, 1, 2, 2, 2, 2, 2, 2, 2, 2, 2, 2, 2, 2, 2, 2, 2, 2, 2, 2, 2, 2, 2, 2, 2, 2, 1, 2, 2, 2, 2, 1, 2, 2, 2, 2, 2, 2, 2, 2, 2, 1, 1, 2, 2, 1, 1, 2, 2, 2, 2, 2, 2, 2, 2, 2, 2, 2, 1, 2, 2, 2, 2, 2, 2, 2, 2, 2, 2, 1, 1, 2, 1, 1, 1, 2, 2, 2, 2, 2, 2, 2, 2, 2, 2, 2, 2, 2, 2, 2, 3, 2, 1, 3, 2, 2, 2, 1, 2, 2, 2, 2, 2, 2, 2, 2, 2, 2, 1, 1, 2, 2, 2, 2, 2, 2, 1, 2, 1, 2, 2, 2, 1, 2, 2, 2, 2, 2, 2, 2, 1, 1, 2, 2, 2, 2, 2, 1, 1, 2, 3, 1, 2, 2, 2, 2, 2, 2, 2, 2, 2, 2, 2, 2, 2, 2, 2, 2, 2, 2, 2, 1, 2, 2, 2, 2, 2, 2, 2, 2, 2, 2, 2, 2, 2, 2, 2, 3, 2, 2, 2, 2, 2, 2, 2, 2, 2, 2, 2, 2, 2, 2, 2, 2, 2, 2, 2, 2, 2, 2, 1, 2, 2, 2, 2, 2, 2, 2, 2, 2, 2, 2, 2, 2, 2, 2, 1, 2, 2, 1, 2, 2, 2, 2, 2, 2, 2, 2, 2, 2, 2, 2, 2, 2, 2, 2, 2, 2, 2, 2, 2, 2, 2, 2, 1, 2, 2, 2, 2, 2, 2, 2, 2, 2, 2, 2, 2, 2, 2, 2, 2, 2, 2, 2, 2, 2, 2, 1, 2, 2, 2, 2, 2, 2, 2, 1, 2, 2, 2, 1, 2, 2, 2, 2, 2, 2, 2, 2, 2, 1, 2, 2, 2, 2, 2, 2, 1, 2, 2, 2, 2, 2, 2, 2, 2, 2, 2, 2, 2, 2, 2, 2, 3, 3, 2, 2, 2, 2, 2, 2, 2, 2, 2, 2, 2, 3, 2, 1, 2, 1, 2, 2, 2, 1, 2, 2, 2, 2, 2, 1, 2, 2, 2, 2, 2, 2, 2, 2, 2, 2, 2, 1, 2, 2, 2, 1, 2, 2, 2, 2, 2, 2, 1, 2, 2, 2, 2, 2, 2, 2, 2, 2, 2, 2, 2, 2, 2, 2, 2, 2, 2, 2, 1, 2, 2, 2, 2, 2, 1, 1, 2, 2, 2, 2, 2, 1, 2, 2, 1, 2, 2, 2, 2, 2, 2, 2, 1, 2, 2, 2, 2, 2, 1, 2, 2, 2, 1, 2, 2, 2, 2, 1, 1, 1, 2, 2, 2, 2, 2, 2, 2, 2, 2, 2, 2, 2, 2, 2, 2, 2, 2, 2, 2, 2, 2, 2, 2, 2, 2, 2, 2, 2, 2, 2, 2, 2, 2, 2, 2, 2, 2, 2, 2, 1, 2, 2, 2, 2, 1, 2, 3, 2, 2, 2, 2, 2, 2, 2, 2, 2, 2, 2, 2, 2, 2, 2, 2, 3, 2, 2, 2, 1, 2, 2, 2, 1, 2, 2, 2, 2, 2, 2, 2, 2, 2, 2, 2, 2, 2, 2, 2, 2, 2, 2, 2, 2, 1, 2, 2, 2, 2, 2, 2, 1, 2, 2, 2, 2, 2, 2, 2, 2, 1, 2, 2, 2, 1, 2, 3, 2, 2, 2, 1, 2, 2, 2, 2, 2, 2, 2, 3, 2, 2, 2, 2, 2, 2, 2, 2, 2, 2, 2, 2, 2, 2, 1, 2, 2, 2, 2, 1, 2, 2, 2, 2, 2, 2, 2, 2, 2, 2, 2, 2, 2, 3, 2, 2, 1, 2, 2, 2, 2, 2, 2, 2, 2, 2, 2, 2, 2, 2, 2, 1, 2, 3, 2, 2, 2, 2, 2, 2, 2, 1, 2, 2, 2, 1, 2, 2, 2, 2, 1, 2, 2, 2, 2, 2, 2, 1, 2, 1, 2, 2, 2, 2, 2, 2, 2, 2, 3, 2, 2, 1, 2, 3, 3, 3, 1, 2, 2, 2, 1, 2, 2, 2, 2, 2, 2, 2, 2, 3, 2, 1, 1, 2, 2, 2, 2, 2, 2, 1, 1, 2, 2, 2, 3, 2, 2, 2, 1, 1, 2, 2, 2, 2, 2, 2, 2, 2, 1, 1, 1, 2, 2, 2, 2, 2, 2, 2, 1, 2, 1, 1, 2, 2, 2, 2, 2, 2, 2, 2, 2, 2, 2, 2, 2, 2, 2, 2, 2, 2, 1, 2, 2, 2, 2, 2, 1]\n",
            "[0.99, 0.99, 1.0, 0.99, 0.99, 1.0, 0.99, 1.0, 0.99, 1.0, 0.99, 1.0, 1.0, 0.99, 1.0, 1.0, 1.0, 0.99, 0.99, 0.99, 0.99, 1.0, 1.0, 1.0, 0.99, 0.99, 0.99, 0.99, 1.0, 1.0, 1.0, 0.99, 0.99, 0.99, 0.99, 1.0, 1.0, 1.0, 1.0, 0.99, 1.0, 1.0, 0.99, 1.0, 0.99, 0.99, 1.0, 0.99, 0.99, 0.99, 0.99, 1.0, 1.0, 0.99, 0.99, 0.99, 0.99, 0.99, 1.0, 0.99, 0.99, 1.0, 0.99, 1.0, 0.99, 1.0, 1.0, 0.99, 0.99, 1.0, 1.0, 1.0, 0.99, 1.0, 0.99, 0.99, 1.0, 0.99, 0.99, 0.99, 0.99, 1.0, 1.0, 0.99, 0.99, 1.0, 1.0, 1.0, 0.99, 0.99, 0.99, 1.0, 1.0, 1.0, 1.0, 1.0, 0.99, 0.99, 0.99, 0.99, 1.0, 1.0, 1.0, 1.0, 1.0, 1.0, 1.0, 1.0, 0.99, 1.0, 0.99, 0.99, 1.0, 1.0, 0.99, 0.99, 1.0, 1.0, 1.0, 0.99, 0.99, 0.99, 1.0, 0.99, 0.99, 0.99, 0.99, 0.99, 0.99, 0.99, 1.0, 0.99, 0.99, 0.99, 0.99, 0.99, 1.0, 0.99, 0.99, 0.99, 1.0, 1.0, 1.0, 1.0, 1.0, 0.99, 0.99, 1.0, 0.99, 1.0, 1.0, 0.99, 0.99, 1.0, 0.99, 1.0, 0.99, 0.99, 1.0, 0.99, 1.0, 1.0, 0.99, 1.0, 0.99, 1.0, 1.0, 0.99, 0.99, 0.99, 1.0, 1.0, 0.99, 1.0, 0.99, 1.0, 0.99, 1.0, 0.99, 0.99, 1.0, 1.0, 1.0, 1.0, 1.0, 1.0, 0.99, 1.0, 1.0, 0.99, 1.0, 0.99, 0.99, 0.99, 1.0, 0.99, 0.99, 0.99, 0.99, 1.0, 0.99, 0.99, 1.0, 0.99, 0.99, 0.99, 1.0, 0.99, 0.99, 0.99, 1.0, 0.99, 1.0, 0.99, 0.99, 0.99, 1.0, 0.99, 0.99, 1.0, 0.99, 0.99, 1.0, 0.99, 0.99, 0.99, 0.99, 1.0, 0.99, 1.0, 1.0, 1.0, 1.0, 0.99, 1.0, 1.0, 0.99, 0.99, 0.99, 0.99, 1.0, 1.0, 1.0, 0.99, 1.0, 0.99, 0.99, 1.0, 0.99, 0.99, 0.99, 0.99, 0.99, 0.99, 1.0, 0.99, 1.0, 1.0, 0.99, 0.99, 0.99, 0.99, 0.99, 1.0, 0.99, 1.0, 1.0, 1.0, 1.0, 0.99, 1.0, 1.0, 0.99, 1.0, 0.99, 0.99, 1.0, 0.99, 1.0, 0.99, 1.0, 0.99, 0.99, 0.99, 0.99, 1.0, 1.0, 0.99, 0.99, 1.0, 1.0, 0.99, 1.0, 1.0, 0.99, 0.99, 1.0, 0.99, 1.0, 1.0, 1.0, 1.0, 1.0, 1.0, 0.99, 0.99, 0.99, 0.99, 1.0, 1.0, 1.0, 0.99, 0.99, 0.99, 0.99, 0.99, 0.99, 0.99, 0.99, 0.99, 1.0, 1.0, 1.0, 0.99, 1.0, 0.99, 0.99, 0.99, 1.0, 1.0, 0.99, 0.99, 1.0, 1.0, 1.0, 1.0, 0.99, 0.99, 0.99, 0.99, 1.0, 1.0, 0.99, 0.99, 1.0, 1.0, 0.99, 1.0, 0.99, 1.0, 0.99, 1.0, 0.99, 1.0, 0.99, 1.0, 0.99, 1.0, 0.99, 1.0, 1.0, 0.99, 0.99, 1.0, 0.99, 0.99, 0.99, 0.99, 1.0, 1.0, 0.99, 1.0, 1.0, 0.99, 0.99, 1.0, 0.99, 1.0, 1.0, 0.99, 0.99, 1.0, 0.99, 0.99, 1.0, 0.99, 1.0, 1.0, 0.99, 0.99, 0.99, 1.0, 0.99, 1.0, 1.0, 0.99, 0.99, 0.99, 1.0, 1.0, 1.0, 1.0, 1.0, 0.99, 0.99, 0.99, 1.0, 1.0, 1.0, 0.99, 1.0, 0.99, 0.99, 1.0, 1.0, 0.99, 0.99, 0.99, 1.0, 1.0, 1.0, 1.0, 1.0, 1.0, 0.99, 1.0, 1.0, 1.0, 1.0, 1.0, 0.99, 0.99, 1.0, 0.99, 0.9866666666666667, 0.99, 0.99, 1.0, 1.0, 0.99, 0.99, 1.0, 0.99, 0.99, 0.99, 0.99, 1.0, 1.0, 0.99, 0.99, 1.0, 1.0, 1.0, 1.0, 1.0, 1.0, 0.99, 0.99, 1.0, 0.99, 1.0, 1.0, 1.0, 1.0, 1.0, 0.99, 0.99, 0.99, 0.99, 0.99, 1.0, 0.99, 0.99, 0.99, 1.0, 1.0, 1.0, 1.0, 1.0, 0.99, 1.0, 1.0, 0.99, 1.0, 1.0, 0.99, 0.99, 0.99, 0.99, 1.0, 0.99, 1.0, 1.0, 1.0, 0.99, 0.99, 1.0, 1.0, 0.99, 1.0, 0.99, 0.99, 0.99, 0.99, 1.0, 1.0, 1.0, 0.99, 0.99, 0.99, 1.0, 1.0, 1.0, 1.0, 0.99, 0.99, 0.99, 0.99, 0.99, 1.0, 0.99, 0.99, 0.99, 0.99, 0.99, 0.99, 0.99, 1.0, 1.0, 1.0, 1.0, 0.99, 1.0, 0.99, 0.99, 1.0, 0.99, 1.0, 0.99, 0.99, 0.99, 1.0, 0.99, 0.99, 0.99, 0.99, 0.99, 0.99, 0.99, 0.99, 1.0, 0.99, 0.99, 1.0, 1.0, 1.0, 1.0, 0.99, 0.99, 0.99, 1.0, 0.99, 1.0, 0.99, 1.0, 1.0, 0.99, 1.0, 1.0, 0.99, 1.0, 1.0, 0.99, 0.99, 1.0, 1.0, 0.99, 1.0, 0.99, 1.0, 0.99, 0.99, 0.99, 0.99, 0.99, 0.99, 0.99, 1.0, 0.99, 0.99, 0.99, 0.99, 1.0, 1.0, 1.0, 1.0, 0.99, 1.0, 1.0, 1.0, 0.99, 1.0, 1.0, 1.0, 1.0, 1.0, 1.0, 0.99, 1.0, 0.99, 0.99, 0.99, 1.0, 1.0, 1.0, 0.99, 1.0, 0.99, 0.99, 1.0, 0.99, 1.0, 1.0, 1.0, 0.99, 0.99, 1.0, 0.99, 1.0, 1.0, 0.99, 1.0, 0.99, 1.0, 0.99, 1.0, 0.99, 1.0, 1.0, 0.99, 1.0, 0.99, 0.99, 0.99, 0.99, 1.0, 0.99, 1.0, 0.99, 1.0, 0.99, 1.0, 1.0, 1.0, 1.0, 1.0, 0.99, 0.99, 1.0, 1.0, 1.0, 0.99, 0.99, 0.99, 1.0, 0.99, 1.0, 1.0, 1.0, 1.0, 1.0, 1.0, 0.99, 0.99, 1.0, 0.99, 1.0, 1.0, 0.99, 0.99, 0.99, 0.99, 1.0, 1.0, 0.99, 0.99, 0.99, 0.99, 0.99, 1.0, 1.0, 0.99, 1.0, 0.99, 0.99, 0.99, 0.99, 1.0, 1.0, 0.99, 0.99, 1.0, 0.99, 0.99, 0.99, 0.99, 0.99, 0.99, 0.99, 0.99, 0.99, 1.0, 0.99, 0.99, 0.99, 0.99, 0.99, 0.99, 0.99, 0.99, 0.99, 1.0, 0.99, 0.99, 1.0, 0.99, 1.0, 1.0, 0.99, 1.0, 0.99, 0.99, 0.99, 0.99, 0.99, 0.99, 1.0, 1.0, 0.99, 0.99, 0.99, 0.99, 0.99, 0.99, 1.0, 1.0, 1.0, 1.0, 1.0, 0.99, 1.0, 0.99, 0.99, 0.99, 1.0, 0.99, 1.0, 1.0, 0.99, 1.0, 0.99, 0.99, 1.0, 1.0, 0.99, 1.0, 0.99, 0.99, 1.0, 1.0, 1.0, 0.99, 0.99, 1.0, 1.0, 1.0, 0.99, 0.99, 1.0, 1.0, 0.99, 0.99, 1.0, 0.99, 1.0, 0.99, 0.99, 0.99, 0.99, 1.0, 0.99, 1.0, 0.99, 1.0, 1.0, 0.99, 1.0, 1.0, 1.0, 1.0, 0.99, 0.99, 1.0, 0.99, 1.0, 1.0, 1.0, 1.0, 1.0, 1.0, 0.99, 1.0, 1.0, 0.99, 1.0, 1.0, 1.0, 0.99, 1.0, 1.0, 0.99, 0.99, 0.99, 0.99, 1.0, 1.0, 0.99, 0.99, 0.99, 0.99, 1.0, 1.0, 0.99, 0.99, 0.99, 0.99, 0.99, 1.0, 0.99, 0.99, 0.99, 1.0, 1.0, 0.99, 0.99, 0.99, 0.99, 0.99, 0.99, 1.0, 0.99, 0.99, 0.99, 1.0, 1.0, 1.0, 1.0, 0.99, 1.0, 0.99, 1.0, 1.0, 1.0, 1.0, 1.0, 1.0, 0.99, 0.99, 1.0, 1.0, 0.99, 1.0, 0.99, 0.99, 0.99, 1.0, 0.99, 0.99, 0.99, 1.0, 1.0, 0.99, 0.99, 0.99, 1.0, 1.0, 1.0, 0.99, 1.0, 1.0, 0.99, 1.0, 1.0, 0.99, 0.99, 0.99, 0.99, 0.99, 0.99, 0.99, 1.0, 1.0, 0.99, 0.99, 0.99, 0.99, 0.99, 1.0, 1.0, 0.99, 0.99, 1.0, 0.99, 1.0, 1.0, 0.99, 0.99, 1.0, 1.0, 0.99, 0.99, 0.99, 0.99, 1.0, 1.0, 0.99, 0.99, 1.0, 1.0, 0.99, 1.0, 0.99, 0.99, 1.0, 1.0, 1.0, 0.99, 0.99, 0.99, 0.99, 0.99, 1.0, 0.99, 1.0, 0.99, 1.0, 1.0, 0.99, 0.99, 0.99, 1.0, 1.0, 1.0, 1.0, 0.99, 0.99, 0.99, 0.99, 1.0, 0.99, 0.99, 0.99, 1.0, 1.0, 1.0, 1.0, 0.99, 1.0, 0.99, 0.99, 1.0, 0.99, 1.0, 1.0, 1.0, 0.99, 1.0, 1.0, 0.99, 1.0, 1.0, 0.99, 0.99, 1.0, 0.99, 1.0, 1.0, 0.99, 1.0, 1.0, 1.0, 0.99, 1.0, 1.0, 1.0, 1.0, 1.0, 1.0, 0.99, 0.99, 0.99, 1.0, 0.99, 0.99, 1.0, 1.0, 0.99, 1.0, 1.0, 1.0, 0.99, 1.0, 1.0, 1.0, 0.99, 0.99, 1.0, 1.0, 0.99, 0.99, 1.0, 0.99, 0.99, 0.99, 1.0, 1.0, 0.99, 1.0, 1.0, 1.0, 0.99, 0.99, 0.99, 0.99, 0.99, 1.0, 0.99, 0.99, 0.99, 0.99, 0.99, 0.99, 0.99, 0.99, 0.99, 1.0, 1.0, 0.99, 1.0, 0.99, 1.0, 0.99, 1.0, 1.0, 0.99, 1.0, 0.99, 0.99, 0.99, 1.0, 0.99, 1.0, 1.0, 1.0, 0.99, 1.0, 0.99, 0.99, 0.99, 1.0, 1.0, 1.0, 0.99, 0.99, 0.99, 1.0, 0.99, 1.0, 0.99, 1.0, 0.99, 1.0, 0.99, 0.99, 0.99, 1.0, 0.99, 0.99, 0.99, 1.0, 1.0, 0.99, 0.99, 1.0, 1.0, 0.99, 0.99, 1.0, 0.99, 1.0, 0.99, 0.99, 0.99, 1.0, 1.0, 1.0, 0.99, 1.0, 0.99, 0.99, 1.0, 0.99, 0.99, 1.0, 0.99, 0.99, 1.0, 1.0, 1.0, 0.99, 1.0, 0.99, 0.99, 1.0, 0.99, 0.99, 0.99, 0.99, 0.99, 1.0, 1.0, 1.0, 0.99, 0.99, 0.99, 0.99, 1.0, 0.99, 1.0, 1.0, 1.0, 1.0, 0.99, 1.0, 0.99, 1.0, 0.99, 0.99, 0.99, 0.99, 1.0, 0.99, 1.0, 0.99, 0.99, 1.0, 1.0, 1.0, 0.99, 1.0, 1.0, 0.99, 0.99, 0.99, 0.99, 1.0, 0.99, 1.0, 1.0, 1.0, 0.99, 1.0, 1.0, 1.0, 1.0, 0.99, 1.0, 1.0, 0.99, 0.99, 1.0, 0.99, 0.99, 0.99, 0.99, 0.99, 0.99, 0.99, 0.99, 1.0, 1.0, 1.0, 1.0, 1.0, 0.99, 0.99, 1.0, 1.0, 0.99, 1.0, 1.0, 0.99, 0.99, 0.99, 1.0, 1.0, 0.99, 1.0, 1.0, 1.0, 0.99, 1.0, 0.99, 1.0, 0.99, 0.99, 0.99, 0.99, 1.0, 1.0, 1.0, 0.99, 0.99, 1.0, 0.99, 0.99, 0.99, 0.99, 1.0, 0.99, 1.0, 1.0, 0.99, 1.0, 1.0, 0.99, 0.99, 0.99, 0.99, 0.99, 0.99, 1.0, 1.0, 0.99, 0.99, 1.0, 1.0, 1.0, 1.0, 0.99, 1.0, 0.99, 0.99, 0.99, 0.99, 1.0, 1.0]\n",
            "[182, 218, 225, 359, 445, 458, 459, 461, 1035, 1226, 1558, 1818, 1855, 2112, 2116, 2165, 2186, 2230, 2396, 2493, 2520, 2715, 2772, 2813, 3279, 3393, 3400, 3405, 3511, 3979, 4009, 4041, 4042, 4173, 4177, 4178, 4273, 4808, 4898, 5019, 5263, 5269, 5353, 5492, 5541, 5542, 5543, 5544, 5546, 5550, 5938, 6027, 6028, 6172, 6617, 6631, 6652, 6653, 6704, 6856, 6857, 6877, 6962, 7038, 7179, 7389, 7390, 7393, 7394, 7397, 7398, 7400, 7401, 7404, 7405, 7406, 7417, 7519, 7560, 7562, 7605, 8195, 8246, 8363, 8440, 8509, 8540, 9166, 9244, 9274, 9560, 9566, 9668, 9783, 9813, 9899, 9905, 10036, 10058, 10059, 10066, 10343, 10419, 10611, 10619, 10623, 10857, 10908, 10960, 10961, 10966, 11097, 11100, 11143, 11287, 11498, 11508, 11725, 11844, 11852, 11866, 11867, 11892, 11983, 12353, 12389, 12392, 12404, 12546, 12547, 12678, 12696, 12697, 12711, 12751, 12803, 13337, 13346, 13352, 13418, 13678, 13850, 14221, 14226, 14274, 14293, 14300, 14484, 14757, 14775, 15017, 15088, 15129, 15179, 15191, 15205, 15206, 15461, 15554, 15555, 15690, 15751, 15795, 15801, 15986, 16288, 16431, 16432, 16433, 16567, 16570, 16727, 16857, 16869, 16870, 16872, 16993, 16996, 17058, 17082, 17252, 17322, 17797, 17815, 18240, 18263, 18532, 18541, 18552, 18609, 18614, 18673, 18705, 18836, 18989, 18990, 19080, 19365, 19546, 19897, 19909, 20077, 20223, 20266, 20479, 20723, 20737, 20855, 20925, 20974, 21859, 21929, 21971, 22284, 22320, 22451, 22648, 22713, 22714, 22738, 22936, 23052, 23088, 23139, 23203, 23346, 23382, 24139, 24165, 24184, 24405, 24446, 24602, 24658, 24671, 24864, 24929, 25025, 25026, 25096, 25133, 25346, 25519, 25673, 25977, 26035, 26091, 26141, 26275, 26592, 26594, 26626, 26707, 26722, 26772, 26838, 26850, 27352, 27355, 27476, 27480, 27573, 27576, 27577, 27694, 27712, 27980, 27995, 28309, 28384, 28629, 28735, 28744, 28770, 28953, 28986, 28995, 29362, 29402, 29536, 29608, 29641, 29656, 29982, 29995, 30055, 30107, 30109, 30882, 30895, 31315, 31449, 31583, 31627, 31628, 31986, 31992, 32300, 32305, 32309, 32310, 32311, 32359, 32455, 32537, 32830, 32831, 33118, 33331, 33408, 33424, 33562, 33656, 33735, 33737, 33795, 33814, 33823, 33996, 34062, 34135, 34245, 34550, 34554, 34555, 34976, 35197, 35398, 35405, 35534, 35538, 35671, 35674, 35684, 35687, 35688, 35697, 35700, 36083, 36085, 36089, 36219, 36504, 36553, 36732, 37061, 37283, 37299, 37317, 37356, 37550, 37723, 37763, 37797, 37841, 37868, 37875, 38050, 38465, 38524, 38532, 38686, 38746, 38752, 38756, 38761, 38766, 38776, 38879, 39010, 39341, 40260, 40379, 40535, 40935, 41232, 41279, 41344, 41369, 41381, 41437, 41608, 41689, 41892, 41951, 42074, 42102, 42115, 42159, 42163, 42256, 42278, 42519, 42732, 42765, 42776, 42795, 42802, 42809, 43172, 43295, 43566, 43666, 43667, 43768, 43798, 43913, 44044, 44156, 44166, 44213, 44245, 44249, 44344, 44401, 44431, 44558, 44564, 44571, 44745, 44780, 45000, 45072, 45090, 45154, 45517, 45701, 45857, 45860, 45863, 45869, 45921, 46101, 46355, 46378, 46736, 46961, 47200, 47253, 47335, 47372, 47659, 47760, 47800, 47835, 47891, 48051, 48084, 48187, 48255, 48276, 48364, 48419, 48442, 48484, 48549, 48569, 48581, 48854, 49297, 49330, 49331, 49347, 49775, 50534, 50575, 50576, 50827, 50978, 50980, 51069, 51128, 51140, 51280, 51314, 51558, 51731, 51738, 51784, 51785, 51863, 52070, 52076, 52233, 52262, 52409, 52640, 52642, 52731, 52766, 52796, 52974, 53101, 53548, 53644, 53689, 53811, 54106, 54107, 54145, 54147, 54149, 54151, 54215, 54217, 54385, 54438, 54679, 54747, 54840, 54869, 54997, 55319, 55321, 55458, 55505, 55579, 55601, 55624, 55718, 55838, 55842, 55896, 55999, 56002, 56309, 56331, 56437, 56538, 56549, 56602, 56981, 56983, 56989, 57247, 57253, 57280, 57298, 57346, 57575, 57662, 57681, 57751, 57829, 57831, 58072, 58079, 58153, 58189, 58197, 58200, 58208, 58389, 58637, 58782, 58866, 58890, 59116, 59122, 59157, 59217, 59272, 59466, 59482, 59497, 59526, 59851, 60111, 60443, 60812, 60859, 60888, 60916, 60934, 60984, 61047, 61211, 61331, 61380, 61383, 61391, 61406, 61407, 61587, 61588, 61617, 61641, 62062, 62221, 62596, 62599, 62662, 62694, 62820, 62827, 62999, 63002, 63003, 63173, 63578, 63597, 63703, 63876, 63965, 64049, 64054, 64069, 64392, 64604, 64634, 64938, 64943, 64964, 65037, 65319, 65446, 65477, 65525, 65671, 65878, 66433, 66454, 66623, 66636, 66706, 66709, 66844, 66856, 66889, 66892, 67040, 67082, 67102, 67103, 67268, 67429, 67535, 67569, 67759, 68031, 68218, 68351, 68356, 68617, 68738, 68761, 68766, 68973, 68980, 68989, 69161, 69237, 69284, 69410, 69703, 69715, 69716, 69717, 69795, 70006, 70072, 70080, 70087, 70176, 70280, 70285, 70566, 70610, 70766, 70798, 70901, 70905, 70906, 71079, 71192, 71311, 71373, 71408, 71466, 71467, 71631, 71650, 71798, 71859, 71860, 71864, 71912, 71920, 72006, 72226, 72351, 72487, 72663, 73025, 73031, 73181, 73184, 73304, 73398, 73399, 73400, 73606, 73675, 73677, 73778, 73779, 73832, 73894, 73939, 73949, 73971, 74052, 74065, 74098, 74232, 74236, 74528, 74885, 74888, 74892, 75077, 75165, 75262, 75502, 75511, 75865, 76472, 76594, 76598, 76613, 76637, 76736, 76863, 76922, 76960, 76962, 76986, 77356, 77421, 77456, 77482, 77528, 77621, 77668, 77809, 78057, 78142, 78284, 78302, 78389, 78429, 78981, 79058, 79198, 79521, 79559, 79597, 79599, 79717, 79994, 80006, 80061, 80137, 80159, 80580, 80751, 80882, 81140, 81216, 81217, 81221, 81337, 81421, 81470, 81749, 81751, 81756, 81819, 81821, 82066, 82372, 82384, 82537, 82555, 82625, 82724, 82797, 82858, 82859, 82863, 82868, 82902, 82950, 82998, 83222, 83309, 83515, 84098, 84121, 84816, 84822, 84839, 84952, 84953, 85241, 85360, 85711, 85851, 86006, 86231, 86702, 86734, 86742, 86752, 86905, 86906, 87291, 87316, 87345, 87592, 87653, 87658, 87934, 88022, 88027, 88098, 88227, 88229, 88245, 88436, 88642, 88811, 88813, 88885, 88969, 88970, 89236, 89237, 89540, 89789, 89798, 89991, 90281, 90380, 90447, 90464, 90513, 90860, 91005, 91067, 91068, 91113, 91133, 91222, 91258, 91289, 91483, 91490, 91529, 91562, 91678, 91680, 91689, 91892, 92168, 92177, 92296, 92435, 92534, 92594, 92824, 92827, 92920, 92976, 93040, 93180, 93275, 93416, 93645, 93659, 93733, 93797, 93933, 93976, 93994, 94402, 94408, 94450, 94500, 94590, 94746, 94947, 94987, 95073, 95076, 95078, 95287, 95290, 95459, 95586, 95588, 95773, 95779, 96138, 96612, 96617, 96622, 96683, 96686, 96731, 96798, 97041, 97118, 97158, 97160, 97181, 97277, 97772, 98357, 98425, 98514, 98841, 98856, 99775, 99876, 99995, 100008, 100171, 100201, 100372, 100373, 100459, 100554, 100649, 100750, 100897, 100917, 101064, 101171, 101387, 101423, 101449, 101633, 101645, 101691, 101898, 102070, 102078, 102088, 102120, 102269, 102298, 102465, 102565, 102835, 103074, 103116, 103119, 103391, 103427, 103549, 103551, 103823, 103824, 103826, 103827, 103836, 103949, 103955, 103956, 104152, 104154, 104167, 104338, 104359, 104386, 104540, 104658, 104665, 104666, 104744, 104893, 104925, 105019, 105162, 105384, 105415, 105454, 105456, 106050, 106051, 106133, 106391, 106536, 106702, 106705, 106724, 106767, 106811, 106837, 106843, 106876, 106886, 106927, 107209, 107290, 107387, 107405, 107406, 107539, 107754, 108444, 108446, 108496, 108880, 109253, 109335, 109406, 109409, 109412, 110102, 110130, 110134, 110396, 110402, 110532, 110556, 110583, 110586, 110640, 110701, 110770, 110781, 110784, 110787, 110792, 110793, 110800, 112101, 112102, 112116, 112118, 112120, 112129, 112254, 112454, 112505, 112561, 112793, 112876, 112941, 112942, 113006, 113129, 113352, 113364, 113737, 114032, 114453, 114500, 114597, 114639, 114642, 114745, 114810, 115128, 115159, 115205, 115341, 115521, 115807, 115907, 115974, 116027, 116263, 116297, 116472, 116478, 116490, 116527, 116677, 116710, 116718, 116731, 116744, 116823, 116892, 116963, 116979, 117102, 117197, 117334, 117435, 117520, 117535, 117555, 117563, 117604, 117892, 117927, 118045, 118050, 118104, 118594, 118752, 119292, 119325, 119374, 119376, 119412, 119483, 119487, 119506, 119535, 119605, 119608, 119644, 119763, 119766, 119776, 119844, 119927, 119937, 119948, 119959, 120039, 120366, 120371, 120464, 120469, 120471, 120572, 120759, 120922, 121134, 121137, 121177, 121263, 121664, 121947, 122029, 122107, 122176, 122179, 122299, 122831, 122970, 123383, 123539, 123656, 123809, 123814, 124148, 124454, 124455, 124529, 124858, 124971, 125117, 125149, 125580, 125649, 125992, 126307, 126313, 126743, 126938, 126939, 127641, 127850, 127851, 127929, 127936, 128016, 128022, 128028, 128435, 128521, 128708, 128716, 129233, 129334, 129389, 129391, 129681, 129703, 129704, 129729, 129763, 129845, 129995, 130013, 130182, 130439, 130452, 130789, 130852, 130959, 130997, 131059, 131074, 131180, 131683, 131747, 131924, 132438, 132593, 132631, 132949, 133063, 133225, 133240, 133261, 133565, 133645, 133654, 134061, 134173, 134358, 134594, 134613, 134683, 134686, 134692, 134755, 135153, 135229, 135417, 135481, 135715, 135756, 135877, 135880, 135965, 136002, 136013, 136132, 136189, 136221, 136413, 136573, 136680, 136728, 136795, 137141, 137174, 137212, 137220, 137225, 137315, 137324, 137396, 137429, 137442, 137448, 137543, 137646]\n",
            "<class 'list'>\n",
            "1257\n",
            "1257\n",
            "1257\n"
          ],
          "name": "stdout"
        }
      ]
    },
    {
      "cell_type": "code",
      "metadata": {
        "colab": {
          "base_uri": "https://localhost:8080/",
          "height": 221
        },
        "id": "zu7tVTsBkmPI",
        "outputId": "cfbbcac7-90c8-4847-cca1-877529b9bfe7"
      },
      "source": [
        "unlabel_5 = unlabel_5.loc[pos,:]\n",
        "print(len(unlabel_5))\n",
        "unlabel_5.head()"
      ],
      "execution_count": null,
      "outputs": [
        {
          "output_type": "stream",
          "text": [
            "1257\n"
          ],
          "name": "stdout"
        },
        {
          "output_type": "execute_result",
          "data": {
            "text/html": [
              "<div>\n",
              "<style scoped>\n",
              "    .dataframe tbody tr th:only-of-type {\n",
              "        vertical-align: middle;\n",
              "    }\n",
              "\n",
              "    .dataframe tbody tr th {\n",
              "        vertical-align: top;\n",
              "    }\n",
              "\n",
              "    .dataframe thead th {\n",
              "        text-align: right;\n",
              "    }\n",
              "</style>\n",
              "<table border=\"1\" class=\"dataframe\">\n",
              "  <thead>\n",
              "    <tr style=\"text-align: right;\">\n",
              "      <th></th>\n",
              "      <th>text</th>\n",
              "    </tr>\n",
              "  </thead>\n",
              "  <tbody>\n",
              "    <tr>\n",
              "      <th>182</th>\n",
              "      <td>appellant testified shortly thereafter decease...</td>\n",
              "    </tr>\n",
              "    <tr>\n",
              "      <th>218</th>\n",
              "      <td>effort get possession wrench appellant would p...</td>\n",
              "    </tr>\n",
              "    <tr>\n",
              "      <th>225</th>\n",
              "      <td>error pointed judgment reversed cause remanded</td>\n",
              "    </tr>\n",
              "    <tr>\n",
              "      <th>359</th>\n",
              "      <td>witness r maynard testified one occasion saw e...</td>\n",
              "    </tr>\n",
              "    <tr>\n",
              "      <th>445</th>\n",
              "      <td>arrived whisky sometime 730 1000 oclock night ...</td>\n",
              "    </tr>\n",
              "  </tbody>\n",
              "</table>\n",
              "</div>"
            ],
            "text/plain": [
              "                                                  text\n",
              "182  appellant testified shortly thereafter decease...\n",
              "218  effort get possession wrench appellant would p...\n",
              "225     error pointed judgment reversed cause remanded\n",
              "359  witness r maynard testified one occasion saw e...\n",
              "445  arrived whisky sometime 730 1000 oclock night ..."
            ]
          },
          "metadata": {
            "tags": []
          },
          "execution_count": 83
        }
      ]
    },
    {
      "cell_type": "code",
      "metadata": {
        "id": "jiX4GHpzkszc"
      },
      "source": [
        "class_x_un5 = tfidf_vect.transform(unlabel_5['text'])"
      ],
      "execution_count": null,
      "outputs": []
    },
    {
      "cell_type": "code",
      "metadata": {
        "colab": {
          "base_uri": "https://localhost:8080/"
        },
        "id": "IxpKllGDlAXX",
        "outputId": "e7bc4384-b091-4df4-b497-9701587566f7"
      },
      "source": [
        "class_x_un5.shape"
      ],
      "execution_count": null,
      "outputs": [
        {
          "output_type": "execute_result",
          "data": {
            "text/plain": [
              "(1257, 6383)"
            ]
          },
          "metadata": {
            "tags": []
          },
          "execution_count": 85
        }
      ]
    },
    {
      "cell_type": "code",
      "metadata": {
        "colab": {
          "base_uri": "https://localhost:8080/"
        },
        "id": "44BEVr86lGWd",
        "outputId": "1a05f5d6-1814-4eee-bda3-e5b308b2c675"
      },
      "source": [
        "class_pred_unlabel_5 = classifier_4.predict(class_x_un5)\n",
        "class_pred_unlabel_5"
      ],
      "execution_count": null,
      "outputs": [
        {
          "output_type": "execute_result",
          "data": {
            "text/plain": [
              "array(['Facts', 'Facts', 'Conclusion', ..., 'Facts', 'Facts',\n",
              "       'Conclusion'], dtype=object)"
            ]
          },
          "metadata": {
            "tags": []
          },
          "execution_count": 87
        }
      ]
    },
    {
      "cell_type": "code",
      "metadata": {
        "colab": {
          "base_uri": "https://localhost:8080/"
        },
        "id": "jf4e449JlhnN",
        "outputId": "fb1338ad-6f45-415d-c47f-290480c18b90"
      },
      "source": [
        "print(len(class_pred_unlabel_5))"
      ],
      "execution_count": null,
      "outputs": [
        {
          "output_type": "stream",
          "text": [
            "1257\n"
          ],
          "name": "stdout"
        }
      ]
    },
    {
      "cell_type": "code",
      "metadata": {
        "colab": {
          "base_uri": "https://localhost:8080/",
          "height": 204
        },
        "id": "ZGHjNdp-lj7v",
        "outputId": "3ba0c010-bdcc-47b1-a98f-e374c85d91ee"
      },
      "source": [
        "unlabel_5['Target']=class_pred_unlabel_5\n",
        "unlabel_5.head()"
      ],
      "execution_count": null,
      "outputs": [
        {
          "output_type": "execute_result",
          "data": {
            "text/html": [
              "<div>\n",
              "<style scoped>\n",
              "    .dataframe tbody tr th:only-of-type {\n",
              "        vertical-align: middle;\n",
              "    }\n",
              "\n",
              "    .dataframe tbody tr th {\n",
              "        vertical-align: top;\n",
              "    }\n",
              "\n",
              "    .dataframe thead th {\n",
              "        text-align: right;\n",
              "    }\n",
              "</style>\n",
              "<table border=\"1\" class=\"dataframe\">\n",
              "  <thead>\n",
              "    <tr style=\"text-align: right;\">\n",
              "      <th></th>\n",
              "      <th>text</th>\n",
              "      <th>Target</th>\n",
              "    </tr>\n",
              "  </thead>\n",
              "  <tbody>\n",
              "    <tr>\n",
              "      <th>182</th>\n",
              "      <td>appellant testified shortly thereafter decease...</td>\n",
              "      <td>Facts</td>\n",
              "    </tr>\n",
              "    <tr>\n",
              "      <th>218</th>\n",
              "      <td>effort get possession wrench appellant would p...</td>\n",
              "      <td>Facts</td>\n",
              "    </tr>\n",
              "    <tr>\n",
              "      <th>225</th>\n",
              "      <td>error pointed judgment reversed cause remanded</td>\n",
              "      <td>Conclusion</td>\n",
              "    </tr>\n",
              "    <tr>\n",
              "      <th>359</th>\n",
              "      <td>witness r maynard testified one occasion saw e...</td>\n",
              "      <td>Facts</td>\n",
              "    </tr>\n",
              "    <tr>\n",
              "      <th>445</th>\n",
              "      <td>arrived whisky sometime 730 1000 oclock night ...</td>\n",
              "      <td>Facts</td>\n",
              "    </tr>\n",
              "  </tbody>\n",
              "</table>\n",
              "</div>"
            ],
            "text/plain": [
              "                                                  text      Target\n",
              "182  appellant testified shortly thereafter decease...       Facts\n",
              "218  effort get possession wrench appellant would p...       Facts\n",
              "225     error pointed judgment reversed cause remanded  Conclusion\n",
              "359  witness r maynard testified one occasion saw e...       Facts\n",
              "445  arrived whisky sometime 730 1000 oclock night ...       Facts"
            ]
          },
          "metadata": {
            "tags": []
          },
          "execution_count": 89
        }
      ]
    },
    {
      "cell_type": "code",
      "metadata": {
        "colab": {
          "base_uri": "https://localhost:8080/",
          "height": 204
        },
        "id": "RDX3yezWlzze",
        "outputId": "caf7bbf1-cc08-427d-a731-b83a65d4868d"
      },
      "source": [
        "train_4.head()\n"
      ],
      "execution_count": null,
      "outputs": [
        {
          "output_type": "execute_result",
          "data": {
            "text/html": [
              "<div>\n",
              "<style scoped>\n",
              "    .dataframe tbody tr th:only-of-type {\n",
              "        vertical-align: middle;\n",
              "    }\n",
              "\n",
              "    .dataframe tbody tr th {\n",
              "        vertical-align: top;\n",
              "    }\n",
              "\n",
              "    .dataframe thead th {\n",
              "        text-align: right;\n",
              "    }\n",
              "</style>\n",
              "<table border=\"1\" class=\"dataframe\">\n",
              "  <thead>\n",
              "    <tr style=\"text-align: right;\">\n",
              "      <th></th>\n",
              "      <th>Unnamed: 0</th>\n",
              "      <th>text</th>\n",
              "      <th>Target</th>\n",
              "    </tr>\n",
              "  </thead>\n",
              "  <tbody>\n",
              "    <tr>\n",
              "      <th>0</th>\n",
              "      <td>659.0</td>\n",
              "      <td>Appellant had stated to the officers that she ...</td>\n",
              "      <td>Invalid</td>\n",
              "    </tr>\n",
              "    <tr>\n",
              "      <th>1</th>\n",
              "      <td>3456.0</td>\n",
              "      <td>We shall discuss the facts more fully in conne...</td>\n",
              "      <td>Invalid</td>\n",
              "    </tr>\n",
              "    <tr>\n",
              "      <th>2</th>\n",
              "      <td>2043.0</td>\n",
              "      <td>â€œPerjury is a false statement, either writte...</td>\n",
              "      <td>Invalid</td>\n",
              "    </tr>\n",
              "    <tr>\n",
              "      <th>3</th>\n",
              "      <td>3344.0</td>\n",
              "      <td>The offense is felony theft by false pretext; ...</td>\n",
              "      <td>Issue</td>\n",
              "    </tr>\n",
              "    <tr>\n",
              "      <th>4</th>\n",
              "      <td>3231.0</td>\n",
              "      <td>Numerous contentions urging the commission of ...</td>\n",
              "      <td>Issue</td>\n",
              "    </tr>\n",
              "  </tbody>\n",
              "</table>\n",
              "</div>"
            ],
            "text/plain": [
              "   Unnamed: 0                                               text   Target\n",
              "0       659.0  Appellant had stated to the officers that she ...  Invalid\n",
              "1      3456.0  We shall discuss the facts more fully in conne...  Invalid\n",
              "2      2043.0  â€œPerjury is a false statement, either writte...  Invalid\n",
              "3      3344.0  The offense is felony theft by false pretext; ...    Issue\n",
              "4      3231.0  Numerous contentions urging the commission of ...    Issue"
            ]
          },
          "metadata": {
            "tags": []
          },
          "execution_count": 94
        }
      ]
    },
    {
      "cell_type": "code",
      "metadata": {
        "colab": {
          "base_uri": "https://localhost:8080/"
        },
        "id": "gkeH0CbOmJYe",
        "outputId": "24068aa5-e037-4345-d10d-c4e3ec411e79"
      },
      "source": [
        "print(len(train_4))"
      ],
      "execution_count": null,
      "outputs": [
        {
          "output_type": "stream",
          "text": [
            "4999\n"
          ],
          "name": "stdout"
        }
      ]
    },
    {
      "cell_type": "code",
      "metadata": {
        "colab": {
          "base_uri": "https://localhost:8080/"
        },
        "id": "1Fz4_ozxmKEB",
        "outputId": "3d3e4c3c-ed99-4068-afc4-5fd9383c84ac"
      },
      "source": [
        "frame_5 = [train_4,unlabel_5]\n",
        "train_5 = pd.concat(frame_5)\n",
        "print(len(train_4))\n",
        "print(len(unlabel_5))\n",
        "print(len(train_5))"
      ],
      "execution_count": null,
      "outputs": [
        {
          "output_type": "stream",
          "text": [
            "4999\n",
            "1257\n",
            "6256\n"
          ],
          "name": "stdout"
        }
      ]
    },
    {
      "cell_type": "code",
      "metadata": {
        "colab": {
          "base_uri": "https://localhost:8080/"
        },
        "id": "HjtHdKA_md7k",
        "outputId": "9ce29297-21dc-4187-e6a6-70c4fdd16b8b"
      },
      "source": [
        "from sklearn.metrics import classification_report\n",
        "x_train_5 = tfidf_vect.transform(train_5['text'])\n",
        "x_train_5.shape\n",
        "X_train, x_val, Y_train, y_val = train_test_split(x_train_5,train_5['Target'],test_size=0.25,random_state=2)\n",
        "classifier_5 = RandomForestClassifier(n_estimators = 100, criterion = 'gini', random_state = 42)\n",
        "classifier_5.fit(X_train, Y_train)\n",
        "y_pred = classifier_5.predict(x_val)\n",
        "print(np.unique(y_pred))\n",
        "print(type(y_pred))\n",
        "\n",
        "\n",
        "Accuracy_score = accuracy_score(y_pred,y_val)\n",
        "\n",
        "print('Validation ------- Accuracy_score: %f' % Accuracy_score)\n",
        "\n",
        "test_pred = classifier_5.predict(t_p)\n",
        "acc_test = accuracy_score(test_pred,test['Target'])\n",
        "print('Test ------Accuracy score ', acc_test)\n",
        "matrix = confusion_matrix(y_pred, y_val)\n",
        "print(matrix)\n",
        "print(\"---------validation--------------\")\n",
        "print(classification_report(y_val,y_pred))\n",
        "print(\"----------test---------------------\")\n",
        "print(classification_report(test['Target'],test_pred))"
      ],
      "execution_count": null,
      "outputs": [
        {
          "output_type": "stream",
          "text": [
            "['Analysis' 'Conclusion' 'Facts' 'Invalid' 'Issue' 'Rule/Law/Holding']\n",
            "<class 'numpy.ndarray'>\n",
            "Validation ------- Accuracy_score: 0.794118\n",
            "Test ------Accuracy score  0.6180422264875239\n",
            "[[ 36   9   7   3   4   3]\n",
            " [  2 149   2   0   0   1]\n",
            " [ 86  14 916  44  32  27]\n",
            " [ 18   0  40 104   7  10]\n",
            " [  2   0   2   1  16   2]\n",
            " [  1   0   1   0   4  21]]\n",
            "---------validation--------------\n",
            "                  precision    recall  f1-score   support\n",
            "\n",
            "        Analysis       0.58      0.25      0.35       145\n",
            "      Conclusion       0.97      0.87      0.91       172\n",
            "           Facts       0.82      0.95      0.88       968\n",
            "         Invalid       0.58      0.68      0.63       152\n",
            "           Issue       0.70      0.25      0.37        63\n",
            "Rule/Law/Holding       0.78      0.33      0.46        64\n",
            "\n",
            "        accuracy                           0.79      1564\n",
            "       macro avg       0.74      0.55      0.60      1564\n",
            "    weighted avg       0.78      0.79      0.77      1564\n",
            "\n",
            "----------test---------------------\n",
            "                  precision    recall  f1-score   support\n",
            "\n",
            "        Analysis       0.56      0.19      0.29        77\n",
            "      Conclusion       0.76      0.50      0.60        26\n",
            "           Facts       0.66      0.87      0.75       267\n",
            "         Invalid       0.44      0.53      0.48        83\n",
            "           Issue       0.89      0.24      0.37        34\n",
            "Rule/Law/Holding       0.56      0.26      0.36        34\n",
            "\n",
            "        accuracy                           0.62       521\n",
            "       macro avg       0.65      0.43      0.48       521\n",
            "    weighted avg       0.62      0.62      0.58       521\n",
            "\n"
          ],
          "name": "stdout"
        }
      ]
    }
  ]
}