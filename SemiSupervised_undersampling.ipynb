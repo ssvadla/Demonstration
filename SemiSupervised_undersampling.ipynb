{
  "nbformat": 4,
  "nbformat_minor": 0,
  "metadata": {
    "colab": {
      "name": "SemiSupervised_undersampling.ipynb",
      "provenance": [],
      "collapsed_sections": [],
      "include_colab_link": true
    },
    "kernelspec": {
      "name": "python3",
      "display_name": "Python 3"
    },
    "language_info": {
      "name": "python"
    }
  },
  "cells": [
    {
      "cell_type": "markdown",
      "metadata": {
        "id": "view-in-github",
        "colab_type": "text"
      },
      "source": [
        "<a href=\"https://colab.research.google.com/github/ssvadla/Demonstration/blob/main/SemiSupervised_undersampling.ipynb\" target=\"_parent\"><img src=\"https://colab.research.google.com/assets/colab-badge.svg\" alt=\"Open In Colab\"/></a>"
      ]
    },
    {
      "cell_type": "markdown",
      "metadata": {
        "id": "mZAio-lCevkw"
      },
      "source": [
        "Semi Supervised Approach with unlabelled dataset\n",
        "Downsampling with the Randomundersampler"
      ]
    },
    {
      "cell_type": "code",
      "metadata": {
        "id": "DUEUoz3jevLt"
      },
      "source": [
        ""
      ],
      "execution_count": null,
      "outputs": []
    },
    {
      "cell_type": "code",
      "metadata": {
        "colab": {
          "base_uri": "https://localhost:8080/",
          "height": 221
        },
        "id": "1GP6iq3sv3l7",
        "outputId": "bacf05f3-3942-4d5d-eda1-86bbbc791325"
      },
      "source": [
        "import pandas as pd\n",
        "from google.colab import drive\n",
        "from collections import Counter\n",
        "\n",
        "drive.mount('/content/drive')\n",
        "\n",
        "train = pd.read_csv('/content/drive/My Drive/Research/train_data1.csv')\n",
        "train.head()"
      ],
      "execution_count": null,
      "outputs": [
        {
          "output_type": "stream",
          "text": [
            "Drive already mounted at /content/drive; to attempt to forcibly remount, call drive.mount(\"/content/drive\", force_remount=True).\n"
          ],
          "name": "stdout"
        },
        {
          "output_type": "execute_result",
          "data": {
            "text/html": [
              "<div>\n",
              "<style scoped>\n",
              "    .dataframe tbody tr th:only-of-type {\n",
              "        vertical-align: middle;\n",
              "    }\n",
              "\n",
              "    .dataframe tbody tr th {\n",
              "        vertical-align: top;\n",
              "    }\n",
              "\n",
              "    .dataframe thead th {\n",
              "        text-align: right;\n",
              "    }\n",
              "</style>\n",
              "<table border=\"1\" class=\"dataframe\">\n",
              "  <thead>\n",
              "    <tr style=\"text-align: right;\">\n",
              "      <th></th>\n",
              "      <th>Unnamed: 0</th>\n",
              "      <th>Sentence</th>\n",
              "      <th>Target</th>\n",
              "    </tr>\n",
              "  </thead>\n",
              "  <tbody>\n",
              "    <tr>\n",
              "      <th>0</th>\n",
              "      <td>659</td>\n",
              "      <td>Appellant had stated to the officers that she ...</td>\n",
              "      <td>Invalid</td>\n",
              "    </tr>\n",
              "    <tr>\n",
              "      <th>1</th>\n",
              "      <td>3456</td>\n",
              "      <td>We shall discuss the facts more fully in conne...</td>\n",
              "      <td>Others</td>\n",
              "    </tr>\n",
              "    <tr>\n",
              "      <th>2</th>\n",
              "      <td>2043</td>\n",
              "      <td>â€œPerjury is a false statement, either writte...</td>\n",
              "      <td>Invalid</td>\n",
              "    </tr>\n",
              "    <tr>\n",
              "      <th>3</th>\n",
              "      <td>3344</td>\n",
              "      <td>The offense is felony theft by false pretext; ...</td>\n",
              "      <td>Issue</td>\n",
              "    </tr>\n",
              "    <tr>\n",
              "      <th>4</th>\n",
              "      <td>3231</td>\n",
              "      <td>Numerous contentions urging the commission of ...</td>\n",
              "      <td>Issue</td>\n",
              "    </tr>\n",
              "  </tbody>\n",
              "</table>\n",
              "</div>"
            ],
            "text/plain": [
              "   Unnamed: 0                                           Sentence   Target\n",
              "0         659  Appellant had stated to the officers that she ...  Invalid\n",
              "1        3456  We shall discuss the facts more fully in conne...   Others\n",
              "2        2043  â€œPerjury is a false statement, either writte...  Invalid\n",
              "3        3344  The offense is felony theft by false pretext; ...    Issue\n",
              "4        3231  Numerous contentions urging the commission of ...    Issue"
            ]
          },
          "metadata": {
            "tags": []
          },
          "execution_count": 30
        }
      ]
    },
    {
      "cell_type": "code",
      "metadata": {
        "colab": {
          "base_uri": "https://localhost:8080/"
        },
        "id": "VP6ru-6dv8gX",
        "outputId": "c0ae6b61-032b-47a8-90f0-a2dd40d748fc"
      },
      "source": [
        "train['Target'].unique()"
      ],
      "execution_count": null,
      "outputs": [
        {
          "output_type": "execute_result",
          "data": {
            "text/plain": [
              "array(['Invalid', 'Others', 'Issue', 'Analysis', 'Facts', 'Conclusion',\n",
              "       'Rule/Law/Holding'], dtype=object)"
            ]
          },
          "metadata": {
            "tags": []
          },
          "execution_count": 31
        }
      ]
    },
    {
      "cell_type": "code",
      "metadata": {
        "colab": {
          "base_uri": "https://localhost:8080/"
        },
        "id": "EpnQfWugv-jR",
        "outputId": "e90998ad-3167-4a40-e335-7c01b73d9902"
      },
      "source": [
        "train['Target']=train['Target'].replace(['Others'],'Invalid')\n",
        "train['Target'].unique()"
      ],
      "execution_count": null,
      "outputs": [
        {
          "output_type": "execute_result",
          "data": {
            "text/plain": [
              "array(['Invalid', 'Issue', 'Analysis', 'Facts', 'Conclusion',\n",
              "       'Rule/Law/Holding'], dtype=object)"
            ]
          },
          "metadata": {
            "tags": []
          },
          "execution_count": 32
        }
      ]
    },
    {
      "cell_type": "code",
      "metadata": {
        "colab": {
          "base_uri": "https://localhost:8080/",
          "height": 367
        },
        "id": "c4koorNladqH",
        "outputId": "2a574779-4bd5-48cf-fe99-470f38844e89"
      },
      "source": [
        "from imblearn.over_sampling import SMOTE\n",
        "from collections import Counter\n",
        "from matplotlib import pyplot\n",
        "from sklearn.preprocessing import LabelEncoder\n",
        "data = train.values\n",
        "\n",
        "\n",
        "# split into input and output elements\n",
        "X, y = data[:, :-1], data[:, -1]\n",
        "# label encode the target variable\n",
        "y = LabelEncoder().fit_transform(y)\n",
        "\n",
        "# summarize distribution\n",
        "counter = Counter(y)\n",
        "for k,v in counter.items():\n",
        "\tper = v / len(y) * 100\n",
        "\tprint('Class=%s, n=%d (%.3f%%)' % (k, v, per))\n",
        "# plot the distribution\n",
        "pyplot.bar(counter.keys(), counter.values())\n",
        "pyplot.show()"
      ],
      "execution_count": null,
      "outputs": [
        {
          "output_type": "stream",
          "text": [
            "Class=3, n=550 (15.823%)\n",
            "Class=4, n=218 (6.272%)\n",
            "Class=0, n=520 (14.960%)\n",
            "Class=2, n=1769 (50.892%)\n",
            "Class=1, n=179 (5.150%)\n",
            "Class=5, n=240 (6.904%)\n"
          ],
          "name": "stdout"
        },
        {
          "output_type": "display_data",
          "data": {
            "image/png": "[encoded data removed]",
            "text/plain": [
              "<Figure size 432x288 with 1 Axes>"
            ]
          },
          "metadata": {
            "tags": [],
            "needs_background": "light"
          }
        }
      ]
    },
    {
      "cell_type": "code",
      "metadata": {
        "colab": {
          "base_uri": "https://localhost:8080/"
        },
        "id": "Ia1kya2vwAvj",
        "outputId": "55a26f83-21fb-4d73-f45d-8e6f8e635803"
      },
      "source": [
        "#cleaning\n",
        "import nltk\n",
        "import re\n",
        "import string\n",
        "nltk.download('stopwords')\n",
        "nltk.download('wordnet')\n",
        "stopword=nltk.corpus.stopwords.words('english')\n",
        "from nltk.stem import WordNetLemmatizer\n",
        "wl= WordNetLemmatizer()\n",
        "\n",
        "def clean_text(text):\n",
        "  text=\"\".join([word.lower() for word in text if word not in string.punctuation])\n",
        "  tokens = re.split('\\W+',text)\n",
        "  text = [wl.lemmatize(word) for word in tokens if word not in stopword]\n",
        "  return text"
      ],
      "execution_count": null,
      "outputs": [
        {
          "output_type": "stream",
          "text": [
            "[nltk_data] Downloading package stopwords to /root/nltk_data...\n",
            "[nltk_data]   Package stopwords is already up-to-date!\n",
            "[nltk_data] Downloading package wordnet to /root/nltk_data...\n",
            "[nltk_data]   Package wordnet is already up-to-date!\n"
          ],
          "name": "stdout"
        }
      ]
    },
    {
      "cell_type": "code",
      "metadata": {
        "colab": {
          "base_uri": "https://localhost:8080/"
        },
        "id": "gGIlP5e4wDJW",
        "outputId": "7ecffb1e-c52f-409e-f2a2-785a155ed581"
      },
      "source": [
        "from sklearn.feature_extraction.text import TfidfVectorizer\n",
        "\n",
        "tfidf_vect = TfidfVectorizer(analyzer = clean_text)\n",
        "X_tfidf = tfidf_vect.fit_transform(train['Sentence'])\n",
        "print(X_tfidf.shape)"
      ],
      "execution_count": null,
      "outputs": [
        {
          "output_type": "stream",
          "text": [
            "(3476, 6383)\n"
          ],
          "name": "stdout"
        }
      ]
    },
    {
      "cell_type": "code",
      "metadata": {
        "colab": {
          "base_uri": "https://localhost:8080/",
          "height": 253
        },
        "id": "LbEdeSGda9wT",
        "outputId": "07453c8f-3661-4eba-bf2c-295f279b3b7d"
      },
      "source": [
        "X_tfidf_df=pd.DataFrame(X_tfidf.toarray())\n",
        "X_tfidf_df.columns=tfidf_vect.get_feature_names()\n",
        "X_tfidf_df.head()"
      ],
      "execution_count": null,
      "outputs": [
        {
          "output_type": "execute_result",
          "data": {
            "text/html": [
              "<div>\n",
              "<style scoped>\n",
              "    .dataframe tbody tr th:only-of-type {\n",
              "        vertical-align: middle;\n",
              "    }\n",
              "\n",
              "    .dataframe tbody tr th {\n",
              "        vertical-align: top;\n",
              "    }\n",
              "\n",
              "    .dataframe thead th {\n",
              "        text-align: right;\n",
              "    }\n",
              "</style>\n",
              "<table border=\"1\" class=\"dataframe\">\n",
              "  <thead>\n",
              "    <tr style=\"text-align: right;\">\n",
              "      <th></th>\n",
              "      <th></th>\n",
              "      <th>015</th>\n",
              "      <th>1</th>\n",
              "      <th>10</th>\n",
              "      <th>100</th>\n",
              "      <th>1000</th>\n",
              "      <th>10000</th>\n",
              "      <th>100000</th>\n",
              "      <th>10000000</th>\n",
              "      <th>1008</th>\n",
              "      <th>1008a</th>\n",
              "      <th>101</th>\n",
              "      <th>1013</th>\n",
              "      <th>1015</th>\n",
              "      <th>102</th>\n",
              "      <th>1026</th>\n",
              "      <th>104</th>\n",
              "      <th>1044</th>\n",
              "      <th>105</th>\n",
              "      <th>1065</th>\n",
              "      <th>107</th>\n",
              "      <th>107c</th>\n",
              "      <th>1081</th>\n",
              "      <th>1084</th>\n",
              "      <th>1097</th>\n",
              "      <th>10a</th>\n",
              "      <th>10acre</th>\n",
              "      <th>11</th>\n",
              "      <th>110</th>\n",
              "      <th>1102</th>\n",
              "      <th>111</th>\n",
              "      <th>1116</th>\n",
              "      <th>112</th>\n",
              "      <th>113</th>\n",
              "      <th>1130</th>\n",
              "      <th>113637</th>\n",
              "      <th>1140</th>\n",
              "      <th>114073</th>\n",
              "      <th>115</th>\n",
              "      <th>1150</th>\n",
              "      <th>...</th>\n",
              "      <th>œsuccessively</th>\n",
              "      <th>œswayingâ</th>\n",
              "      <th>œswollenâ</th>\n",
              "      <th>œtesting</th>\n",
              "      <th>œtestâ</th>\n",
              "      <th>œthat</th>\n",
              "      <th>œthatâ</th>\n",
              "      <th>œthe</th>\n",
              "      <th>œthere</th>\n",
              "      <th>œthey</th>\n",
              "      <th>œthick</th>\n",
              "      <th>œthis</th>\n",
              "      <th>œto</th>\n",
              "      <th>œtwo</th>\n",
              "      <th>œtwoâ</th>\n",
              "      <th>œunlawfully</th>\n",
              "      <th>œunlawfullyâ</th>\n",
              "      <th>œupon</th>\n",
              "      <th>œvagrancyâ</th>\n",
              "      <th>œvalue</th>\n",
              "      <th>œvery</th>\n",
              "      <th>œvisited</th>\n",
              "      <th>œwaived</th>\n",
              "      <th>œwalked</th>\n",
              "      <th>œwas</th>\n",
              "      <th>œwater</th>\n",
              "      <th>œwe</th>\n",
              "      <th>œwell</th>\n",
              "      <th>œwhat</th>\n",
              "      <th>œwhen</th>\n",
              "      <th>œwhere</th>\n",
              "      <th>œwhile</th>\n",
              "      <th>œwhoever</th>\n",
              "      <th>œwilfullyâ</th>\n",
              "      <th>œwillfullyâ</th>\n",
              "      <th>œwobblyâ</th>\n",
              "      <th>œyes</th>\n",
              "      <th>œyesâ</th>\n",
              "      <th>œyou</th>\n",
              "      <th>œyour</th>\n",
              "    </tr>\n",
              "  </thead>\n",
              "  <tbody>\n",
              "    <tr>\n",
              "      <th>0</th>\n",
              "      <td>0.136318</td>\n",
              "      <td>0.0</td>\n",
              "      <td>0.0</td>\n",
              "      <td>0.0</td>\n",
              "      <td>0.0</td>\n",
              "      <td>0.0</td>\n",
              "      <td>0.0</td>\n",
              "      <td>0.0</td>\n",
              "      <td>0.0</td>\n",
              "      <td>0.0</td>\n",
              "      <td>0.0</td>\n",
              "      <td>0.0</td>\n",
              "      <td>0.0</td>\n",
              "      <td>0.0</td>\n",
              "      <td>0.0</td>\n",
              "      <td>0.0</td>\n",
              "      <td>0.0</td>\n",
              "      <td>0.0</td>\n",
              "      <td>0.0</td>\n",
              "      <td>0.0</td>\n",
              "      <td>0.0</td>\n",
              "      <td>0.0</td>\n",
              "      <td>0.0</td>\n",
              "      <td>0.0</td>\n",
              "      <td>0.0</td>\n",
              "      <td>0.0</td>\n",
              "      <td>0.0</td>\n",
              "      <td>0.0</td>\n",
              "      <td>0.0</td>\n",
              "      <td>0.0</td>\n",
              "      <td>0.0</td>\n",
              "      <td>0.0</td>\n",
              "      <td>0.0</td>\n",
              "      <td>0.0</td>\n",
              "      <td>0.0</td>\n",
              "      <td>0.0</td>\n",
              "      <td>0.0</td>\n",
              "      <td>0.0</td>\n",
              "      <td>0.0</td>\n",
              "      <td>0.0</td>\n",
              "      <td>...</td>\n",
              "      <td>0.0</td>\n",
              "      <td>0.0</td>\n",
              "      <td>0.0</td>\n",
              "      <td>0.0</td>\n",
              "      <td>0.0</td>\n",
              "      <td>0.0</td>\n",
              "      <td>0.0</td>\n",
              "      <td>0.0</td>\n",
              "      <td>0.0</td>\n",
              "      <td>0.0</td>\n",
              "      <td>0.0</td>\n",
              "      <td>0.0</td>\n",
              "      <td>0.0</td>\n",
              "      <td>0.0</td>\n",
              "      <td>0.0</td>\n",
              "      <td>0.0</td>\n",
              "      <td>0.0</td>\n",
              "      <td>0.0</td>\n",
              "      <td>0.0</td>\n",
              "      <td>0.0</td>\n",
              "      <td>0.0</td>\n",
              "      <td>0.0</td>\n",
              "      <td>0.0</td>\n",
              "      <td>0.0</td>\n",
              "      <td>0.0</td>\n",
              "      <td>0.0</td>\n",
              "      <td>0.0</td>\n",
              "      <td>0.0</td>\n",
              "      <td>0.0</td>\n",
              "      <td>0.0</td>\n",
              "      <td>0.0</td>\n",
              "      <td>0.0</td>\n",
              "      <td>0.0</td>\n",
              "      <td>0.0</td>\n",
              "      <td>0.0</td>\n",
              "      <td>0.0</td>\n",
              "      <td>0.0</td>\n",
              "      <td>0.0</td>\n",
              "      <td>0.0</td>\n",
              "      <td>0.0</td>\n",
              "    </tr>\n",
              "    <tr>\n",
              "      <th>1</th>\n",
              "      <td>0.000000</td>\n",
              "      <td>0.0</td>\n",
              "      <td>0.0</td>\n",
              "      <td>0.0</td>\n",
              "      <td>0.0</td>\n",
              "      <td>0.0</td>\n",
              "      <td>0.0</td>\n",
              "      <td>0.0</td>\n",
              "      <td>0.0</td>\n",
              "      <td>0.0</td>\n",
              "      <td>0.0</td>\n",
              "      <td>0.0</td>\n",
              "      <td>0.0</td>\n",
              "      <td>0.0</td>\n",
              "      <td>0.0</td>\n",
              "      <td>0.0</td>\n",
              "      <td>0.0</td>\n",
              "      <td>0.0</td>\n",
              "      <td>0.0</td>\n",
              "      <td>0.0</td>\n",
              "      <td>0.0</td>\n",
              "      <td>0.0</td>\n",
              "      <td>0.0</td>\n",
              "      <td>0.0</td>\n",
              "      <td>0.0</td>\n",
              "      <td>0.0</td>\n",
              "      <td>0.0</td>\n",
              "      <td>0.0</td>\n",
              "      <td>0.0</td>\n",
              "      <td>0.0</td>\n",
              "      <td>0.0</td>\n",
              "      <td>0.0</td>\n",
              "      <td>0.0</td>\n",
              "      <td>0.0</td>\n",
              "      <td>0.0</td>\n",
              "      <td>0.0</td>\n",
              "      <td>0.0</td>\n",
              "      <td>0.0</td>\n",
              "      <td>0.0</td>\n",
              "      <td>0.0</td>\n",
              "      <td>...</td>\n",
              "      <td>0.0</td>\n",
              "      <td>0.0</td>\n",
              "      <td>0.0</td>\n",
              "      <td>0.0</td>\n",
              "      <td>0.0</td>\n",
              "      <td>0.0</td>\n",
              "      <td>0.0</td>\n",
              "      <td>0.0</td>\n",
              "      <td>0.0</td>\n",
              "      <td>0.0</td>\n",
              "      <td>0.0</td>\n",
              "      <td>0.0</td>\n",
              "      <td>0.0</td>\n",
              "      <td>0.0</td>\n",
              "      <td>0.0</td>\n",
              "      <td>0.0</td>\n",
              "      <td>0.0</td>\n",
              "      <td>0.0</td>\n",
              "      <td>0.0</td>\n",
              "      <td>0.0</td>\n",
              "      <td>0.0</td>\n",
              "      <td>0.0</td>\n",
              "      <td>0.0</td>\n",
              "      <td>0.0</td>\n",
              "      <td>0.0</td>\n",
              "      <td>0.0</td>\n",
              "      <td>0.0</td>\n",
              "      <td>0.0</td>\n",
              "      <td>0.0</td>\n",
              "      <td>0.0</td>\n",
              "      <td>0.0</td>\n",
              "      <td>0.0</td>\n",
              "      <td>0.0</td>\n",
              "      <td>0.0</td>\n",
              "      <td>0.0</td>\n",
              "      <td>0.0</td>\n",
              "      <td>0.0</td>\n",
              "      <td>0.0</td>\n",
              "      <td>0.0</td>\n",
              "      <td>0.0</td>\n",
              "    </tr>\n",
              "    <tr>\n",
              "      <th>2</th>\n",
              "      <td>0.000000</td>\n",
              "      <td>0.0</td>\n",
              "      <td>0.0</td>\n",
              "      <td>0.0</td>\n",
              "      <td>0.0</td>\n",
              "      <td>0.0</td>\n",
              "      <td>0.0</td>\n",
              "      <td>0.0</td>\n",
              "      <td>0.0</td>\n",
              "      <td>0.0</td>\n",
              "      <td>0.0</td>\n",
              "      <td>0.0</td>\n",
              "      <td>0.0</td>\n",
              "      <td>0.0</td>\n",
              "      <td>0.0</td>\n",
              "      <td>0.0</td>\n",
              "      <td>0.0</td>\n",
              "      <td>0.0</td>\n",
              "      <td>0.0</td>\n",
              "      <td>0.0</td>\n",
              "      <td>0.0</td>\n",
              "      <td>0.0</td>\n",
              "      <td>0.0</td>\n",
              "      <td>0.0</td>\n",
              "      <td>0.0</td>\n",
              "      <td>0.0</td>\n",
              "      <td>0.0</td>\n",
              "      <td>0.0</td>\n",
              "      <td>0.0</td>\n",
              "      <td>0.0</td>\n",
              "      <td>0.0</td>\n",
              "      <td>0.0</td>\n",
              "      <td>0.0</td>\n",
              "      <td>0.0</td>\n",
              "      <td>0.0</td>\n",
              "      <td>0.0</td>\n",
              "      <td>0.0</td>\n",
              "      <td>0.0</td>\n",
              "      <td>0.0</td>\n",
              "      <td>0.0</td>\n",
              "      <td>...</td>\n",
              "      <td>0.0</td>\n",
              "      <td>0.0</td>\n",
              "      <td>0.0</td>\n",
              "      <td>0.0</td>\n",
              "      <td>0.0</td>\n",
              "      <td>0.0</td>\n",
              "      <td>0.0</td>\n",
              "      <td>0.0</td>\n",
              "      <td>0.0</td>\n",
              "      <td>0.0</td>\n",
              "      <td>0.0</td>\n",
              "      <td>0.0</td>\n",
              "      <td>0.0</td>\n",
              "      <td>0.0</td>\n",
              "      <td>0.0</td>\n",
              "      <td>0.0</td>\n",
              "      <td>0.0</td>\n",
              "      <td>0.0</td>\n",
              "      <td>0.0</td>\n",
              "      <td>0.0</td>\n",
              "      <td>0.0</td>\n",
              "      <td>0.0</td>\n",
              "      <td>0.0</td>\n",
              "      <td>0.0</td>\n",
              "      <td>0.0</td>\n",
              "      <td>0.0</td>\n",
              "      <td>0.0</td>\n",
              "      <td>0.0</td>\n",
              "      <td>0.0</td>\n",
              "      <td>0.0</td>\n",
              "      <td>0.0</td>\n",
              "      <td>0.0</td>\n",
              "      <td>0.0</td>\n",
              "      <td>0.0</td>\n",
              "      <td>0.0</td>\n",
              "      <td>0.0</td>\n",
              "      <td>0.0</td>\n",
              "      <td>0.0</td>\n",
              "      <td>0.0</td>\n",
              "      <td>0.0</td>\n",
              "    </tr>\n",
              "    <tr>\n",
              "      <th>3</th>\n",
              "      <td>0.000000</td>\n",
              "      <td>0.0</td>\n",
              "      <td>0.0</td>\n",
              "      <td>0.0</td>\n",
              "      <td>0.0</td>\n",
              "      <td>0.0</td>\n",
              "      <td>0.0</td>\n",
              "      <td>0.0</td>\n",
              "      <td>0.0</td>\n",
              "      <td>0.0</td>\n",
              "      <td>0.0</td>\n",
              "      <td>0.0</td>\n",
              "      <td>0.0</td>\n",
              "      <td>0.0</td>\n",
              "      <td>0.0</td>\n",
              "      <td>0.0</td>\n",
              "      <td>0.0</td>\n",
              "      <td>0.0</td>\n",
              "      <td>0.0</td>\n",
              "      <td>0.0</td>\n",
              "      <td>0.0</td>\n",
              "      <td>0.0</td>\n",
              "      <td>0.0</td>\n",
              "      <td>0.0</td>\n",
              "      <td>0.0</td>\n",
              "      <td>0.0</td>\n",
              "      <td>0.0</td>\n",
              "      <td>0.0</td>\n",
              "      <td>0.0</td>\n",
              "      <td>0.0</td>\n",
              "      <td>0.0</td>\n",
              "      <td>0.0</td>\n",
              "      <td>0.0</td>\n",
              "      <td>0.0</td>\n",
              "      <td>0.0</td>\n",
              "      <td>0.0</td>\n",
              "      <td>0.0</td>\n",
              "      <td>0.0</td>\n",
              "      <td>0.0</td>\n",
              "      <td>0.0</td>\n",
              "      <td>...</td>\n",
              "      <td>0.0</td>\n",
              "      <td>0.0</td>\n",
              "      <td>0.0</td>\n",
              "      <td>0.0</td>\n",
              "      <td>0.0</td>\n",
              "      <td>0.0</td>\n",
              "      <td>0.0</td>\n",
              "      <td>0.0</td>\n",
              "      <td>0.0</td>\n",
              "      <td>0.0</td>\n",
              "      <td>0.0</td>\n",
              "      <td>0.0</td>\n",
              "      <td>0.0</td>\n",
              "      <td>0.0</td>\n",
              "      <td>0.0</td>\n",
              "      <td>0.0</td>\n",
              "      <td>0.0</td>\n",
              "      <td>0.0</td>\n",
              "      <td>0.0</td>\n",
              "      <td>0.0</td>\n",
              "      <td>0.0</td>\n",
              "      <td>0.0</td>\n",
              "      <td>0.0</td>\n",
              "      <td>0.0</td>\n",
              "      <td>0.0</td>\n",
              "      <td>0.0</td>\n",
              "      <td>0.0</td>\n",
              "      <td>0.0</td>\n",
              "      <td>0.0</td>\n",
              "      <td>0.0</td>\n",
              "      <td>0.0</td>\n",
              "      <td>0.0</td>\n",
              "      <td>0.0</td>\n",
              "      <td>0.0</td>\n",
              "      <td>0.0</td>\n",
              "      <td>0.0</td>\n",
              "      <td>0.0</td>\n",
              "      <td>0.0</td>\n",
              "      <td>0.0</td>\n",
              "      <td>0.0</td>\n",
              "    </tr>\n",
              "    <tr>\n",
              "      <th>4</th>\n",
              "      <td>0.000000</td>\n",
              "      <td>0.0</td>\n",
              "      <td>0.0</td>\n",
              "      <td>0.0</td>\n",
              "      <td>0.0</td>\n",
              "      <td>0.0</td>\n",
              "      <td>0.0</td>\n",
              "      <td>0.0</td>\n",
              "      <td>0.0</td>\n",
              "      <td>0.0</td>\n",
              "      <td>0.0</td>\n",
              "      <td>0.0</td>\n",
              "      <td>0.0</td>\n",
              "      <td>0.0</td>\n",
              "      <td>0.0</td>\n",
              "      <td>0.0</td>\n",
              "      <td>0.0</td>\n",
              "      <td>0.0</td>\n",
              "      <td>0.0</td>\n",
              "      <td>0.0</td>\n",
              "      <td>0.0</td>\n",
              "      <td>0.0</td>\n",
              "      <td>0.0</td>\n",
              "      <td>0.0</td>\n",
              "      <td>0.0</td>\n",
              "      <td>0.0</td>\n",
              "      <td>0.0</td>\n",
              "      <td>0.0</td>\n",
              "      <td>0.0</td>\n",
              "      <td>0.0</td>\n",
              "      <td>0.0</td>\n",
              "      <td>0.0</td>\n",
              "      <td>0.0</td>\n",
              "      <td>0.0</td>\n",
              "      <td>0.0</td>\n",
              "      <td>0.0</td>\n",
              "      <td>0.0</td>\n",
              "      <td>0.0</td>\n",
              "      <td>0.0</td>\n",
              "      <td>0.0</td>\n",
              "      <td>...</td>\n",
              "      <td>0.0</td>\n",
              "      <td>0.0</td>\n",
              "      <td>0.0</td>\n",
              "      <td>0.0</td>\n",
              "      <td>0.0</td>\n",
              "      <td>0.0</td>\n",
              "      <td>0.0</td>\n",
              "      <td>0.0</td>\n",
              "      <td>0.0</td>\n",
              "      <td>0.0</td>\n",
              "      <td>0.0</td>\n",
              "      <td>0.0</td>\n",
              "      <td>0.0</td>\n",
              "      <td>0.0</td>\n",
              "      <td>0.0</td>\n",
              "      <td>0.0</td>\n",
              "      <td>0.0</td>\n",
              "      <td>0.0</td>\n",
              "      <td>0.0</td>\n",
              "      <td>0.0</td>\n",
              "      <td>0.0</td>\n",
              "      <td>0.0</td>\n",
              "      <td>0.0</td>\n",
              "      <td>0.0</td>\n",
              "      <td>0.0</td>\n",
              "      <td>0.0</td>\n",
              "      <td>0.0</td>\n",
              "      <td>0.0</td>\n",
              "      <td>0.0</td>\n",
              "      <td>0.0</td>\n",
              "      <td>0.0</td>\n",
              "      <td>0.0</td>\n",
              "      <td>0.0</td>\n",
              "      <td>0.0</td>\n",
              "      <td>0.0</td>\n",
              "      <td>0.0</td>\n",
              "      <td>0.0</td>\n",
              "      <td>0.0</td>\n",
              "      <td>0.0</td>\n",
              "      <td>0.0</td>\n",
              "    </tr>\n",
              "  </tbody>\n",
              "</table>\n",
              "<p>5 rows × 6383 columns</p>\n",
              "</div>"
            ],
            "text/plain": [
              "             015    1   10  100  ...  œwobblyâ  œyes  œyesâ  œyou  œyour\n",
              "0  0.136318  0.0  0.0  0.0  0.0  ...       0.0   0.0    0.0   0.0    0.0\n",
              "1  0.000000  0.0  0.0  0.0  0.0  ...       0.0   0.0    0.0   0.0    0.0\n",
              "2  0.000000  0.0  0.0  0.0  0.0  ...       0.0   0.0    0.0   0.0    0.0\n",
              "3  0.000000  0.0  0.0  0.0  0.0  ...       0.0   0.0    0.0   0.0    0.0\n",
              "4  0.000000  0.0  0.0  0.0  0.0  ...       0.0   0.0    0.0   0.0    0.0\n",
              "\n",
              "[5 rows x 6383 columns]"
            ]
          },
          "metadata": {
            "tags": []
          },
          "execution_count": 36
        }
      ]
    },
    {
      "cell_type": "code",
      "metadata": {
        "colab": {
          "base_uri": "https://localhost:8080/",
          "height": 421
        },
        "id": "5ucojN0NaqlA",
        "outputId": "cfaf36f1-2811-4d86-83e8-67c5bad90d38"
      },
      "source": [
        "from imblearn.over_sampling import SMOTE\n",
        "from imblearn.under_sampling import RandomUnderSampler\n",
        "\n",
        "undersampling_Dict={'Facts': 179, 'Invalid': 179, 'Analysis': 179, 'Rule/Law/Holding': 179, 'Issue': 179, 'Conclusion': 179}\n",
        "oversample = SMOTE(\"minority\")\n",
        "undersample = RandomUnderSampler(sampling_strategy=undersampling_Dict)\n",
        "#X, y = oversample.fit_sample(X_tfidf_df, train['Target'])\n",
        "X, y = undersample.fit_resample(X_tfidf_df, train['Target'])\n",
        "# summarize distribution\n",
        "counter = Counter(y)\n",
        "for k,v in counter.items():\n",
        "\tper = v / len(y) * 100\n",
        "\tprint('Class=%s, n=%d (%.3f%%)' % (k, v, per))\n",
        "# plot the distribution\n",
        "pyplot.bar(counter.keys(), counter.values())\n",
        "pyplot.show()\n",
        "\n"
      ],
      "execution_count": null,
      "outputs": [
        {
          "output_type": "stream",
          "text": [
            "Class=Analysis, n=179 (16.667%)\n",
            "Class=Conclusion, n=179 (16.667%)\n",
            "Class=Facts, n=179 (16.667%)\n",
            "Class=Invalid, n=179 (16.667%)\n",
            "Class=Issue, n=179 (16.667%)\n",
            "Class=Rule/Law/Holding, n=179 (16.667%)\n"
          ],
          "name": "stdout"
        },
        {
          "output_type": "stream",
          "text": [
            "/usr/local/lib/python3.7/dist-packages/sklearn/utils/deprecation.py:87: FutureWarning: Function safe_indexing is deprecated; safe_indexing is deprecated in version 0.22 and will be removed in version 0.24.\n",
            "  warnings.warn(msg, category=FutureWarning)\n"
          ],
          "name": "stderr"
        },
        {
          "output_type": "display_data",
          "data": {
            "image/png": "[encoded data removed]",
            "text/plain": [
              "<Figure size 432x288 with 1 Axes>"
            ]
          },
          "metadata": {
            "tags": [],
            "needs_background": "light"
          }
        }
      ]
    },
    {
      "cell_type": "code",
      "metadata": {
        "id": "2C9hQTlvXD9f"
      },
      "source": [
        "test = pd.read_csv(r'/content/drive/My Drive/Research/test_data.csv')\n",
        "\n",
        "test['Target']=test['Target'].replace(['Others'],'Invalid')\n",
        "test['Sentence'] = test['Sentence'].apply(lambda x: \" \".join(x.lower() for x in str(x).split()))\n",
        "test['Sentence'] = test['Sentence'].str.replace('[^\\w\\s]','')\n",
        "from nltk.corpus import stopwords\n",
        "words = stopwords.words('english')\n",
        "test['Sentence'] = test['Sentence'].apply(lambda x: \" \".join(x for x in x.split() if x not in words))\n",
        "t_p = tfidf_vect.transform(test['Sentence'])"
      ],
      "execution_count": null,
      "outputs": []
    },
    {
      "cell_type": "code",
      "metadata": {
        "colab": {
          "base_uri": "https://localhost:8080/"
        },
        "id": "h88efrM4wO7g",
        "outputId": "7cd5c8b9-65b1-47a3-8ed0-2e7220436e4c"
      },
      "source": [
        "import numpy as np\n",
        "from collections import Counter\n",
        "from sklearn.datasets import make_classification\n",
        "from sklearn.ensemble import RandomForestClassifier\n",
        "from sklearn.pipeline import make_pipeline\n",
        "from sklearn.model_selection import train_test_split\n",
        "from sklearn.metrics import confusion_matrix\n",
        "from sklearn.base import BaseEstimator, ClassifierMixin\n",
        "from sklearn.metrics import accuracy_score\n",
        "from sklearn.metrics import average_precision_score\n",
        "from sklearn.metrics import precision_score\n",
        "from sklearn.metrics import recall_score\n",
        "from sklearn.metrics import f1_score\n",
        "from sklearn.metrics import cohen_kappa_score\n",
        "from sklearn.metrics import roc_auc_score\n",
        "from sklearn.metrics import confusion_matrix\n",
        "from sklearn.metrics import classification_report\n",
        "\n",
        "\n",
        "\n",
        "#X, y = make_classification(random_state=1)\n",
        "counter = Counter(y)\n",
        "print(counter)\n",
        "#X_train, x_val, Y_train, y_val = train_test_split(X_tfidf,train['Target'],test_size=0.26,random_state=42)\n",
        "X_train, x_val, Y_train, y_val = train_test_split(X,y,test_size=0.26,random_state=42)\n",
        "\n",
        "classifier = RandomForestClassifier(n_estimators = 100, criterion = 'gini', random_state = 42)\n",
        "classifier.fit(X_train, Y_train)\n",
        "y_pred = classifier.predict(x_val)\n",
        "#print(np.unique(y_pred))\n",
        "#print(type(y_pred))\n",
        "\n",
        "Accuracy_score = accuracy_score(y_pred,y_val)\n",
        "\n",
        "print('Validation Accuracy_score: %f' % Accuracy_score)\n",
        "test_pred = classifier.predict(t_p)\n",
        "acc_test = accuracy_score(test_pred,test['Target'])\n",
        "print('Accuracy test data', acc_test)\n",
        "matrix = confusion_matrix(y_pred, y_val)\n",
        "print(matrix)\n"
      ],
      "execution_count": null,
      "outputs": [
        {
          "output_type": "stream",
          "text": [
            "Counter({'Analysis': 179, 'Conclusion': 179, 'Facts': 179, 'Invalid': 179, 'Issue': 179, 'Rule/Law/Holding': 179})\n",
            "Validation Accuracy_score: 0.485714\n",
            "Accuracy test data 0.45681381957773515\n",
            "[[12  6  2  2  4  6]\n",
            " [ 6 31  0  1  2  3]\n",
            " [ 7  2 23  5  1  3]\n",
            " [11 10 21 34  7 15]\n",
            " [ 7  3  2  3 22  6]\n",
            " [ 1  1  1  3  3 14]]\n"
          ],
          "name": "stdout"
        }
      ]
    },
    {
      "cell_type": "code",
      "metadata": {
        "id": "RvKiNdE-pev1",
        "colab": {
          "base_uri": "https://localhost:8080/",
          "height": 204
        },
        "outputId": "0821e643-edd4-4d11-e788-c72c29ef39e9"
      },
      "source": [
        "\n",
        "unlabel = pd.read_csv(r'/content/drive/My Drive/Research/Unlabeled_data.csv')\n",
        "unlabel.head()\n"
      ],
      "execution_count": null,
      "outputs": [
        {
          "output_type": "execute_result",
          "data": {
            "text/html": [
              "<div>\n",
              "<style scoped>\n",
              "    .dataframe tbody tr th:only-of-type {\n",
              "        vertical-align: middle;\n",
              "    }\n",
              "\n",
              "    .dataframe tbody tr th {\n",
              "        vertical-align: top;\n",
              "    }\n",
              "\n",
              "    .dataframe thead th {\n",
              "        text-align: right;\n",
              "    }\n",
              "</style>\n",
              "<table border=\"1\" class=\"dataframe\">\n",
              "  <thead>\n",
              "    <tr style=\"text-align: right;\">\n",
              "      <th></th>\n",
              "      <th>Unnamed: 0</th>\n",
              "      <th>text</th>\n",
              "      <th>Complete</th>\n",
              "    </tr>\n",
              "  </thead>\n",
              "  <tbody>\n",
              "    <tr>\n",
              "      <th>0</th>\n",
              "      <td>0</td>\n",
              "      <td>No motion for rehearing filed.</td>\n",
              "      <td>1</td>\n",
              "    </tr>\n",
              "    <tr>\n",
              "      <th>1</th>\n",
              "      <td>1</td>\n",
              "      <td>— Relator is under accusation of killing her h...</td>\n",
              "      <td>1</td>\n",
              "    </tr>\n",
              "    <tr>\n",
              "      <th>2</th>\n",
              "      <td>2</td>\n",
              "      <td>From an order of the District Judge of the 39t...</td>\n",
              "      <td>1</td>\n",
              "    </tr>\n",
              "    <tr>\n",
              "      <th>3</th>\n",
              "      <td>3</td>\n",
              "      <td>Relator and her husband had been married for a...</td>\n",
              "      <td>1</td>\n",
              "    </tr>\n",
              "    <tr>\n",
              "      <th>4</th>\n",
              "      <td>4</td>\n",
              "      <td>The evidence indicates that their family relat...</td>\n",
              "      <td>1</td>\n",
              "    </tr>\n",
              "  </tbody>\n",
              "</table>\n",
              "</div>"
            ],
            "text/plain": [
              "   Unnamed: 0                                               text  Complete\n",
              "0           0                     No motion for rehearing filed.         1\n",
              "1           1  — Relator is under accusation of killing her h...         1\n",
              "2           2  From an order of the District Judge of the 39t...         1\n",
              "3           3  Relator and her husband had been married for a...         1\n",
              "4           4  The evidence indicates that their family relat...         1"
            ]
          },
          "metadata": {
            "tags": []
          },
          "execution_count": 40
        }
      ]
    },
    {
      "cell_type": "code",
      "metadata": {
        "id": "N8X0xt2fsUXM"
      },
      "source": [
        "del unlabel['Complete']"
      ],
      "execution_count": null,
      "outputs": []
    },
    {
      "cell_type": "code",
      "metadata": {
        "id": "lH4lcWUOsV_p"
      },
      "source": [
        "del unlabel['Unnamed: 0']"
      ],
      "execution_count": null,
      "outputs": []
    },
    {
      "cell_type": "code",
      "metadata": {
        "id": "NCbmIlH9sWHv",
        "colab": {
          "base_uri": "https://localhost:8080/",
          "height": 204
        },
        "outputId": "12dbd64b-399c-4bf4-988a-4d0d8544b0c2"
      },
      "source": [
        "unlabel.head()"
      ],
      "execution_count": null,
      "outputs": [
        {
          "output_type": "execute_result",
          "data": {
            "text/html": [
              "<div>\n",
              "<style scoped>\n",
              "    .dataframe tbody tr th:only-of-type {\n",
              "        vertical-align: middle;\n",
              "    }\n",
              "\n",
              "    .dataframe tbody tr th {\n",
              "        vertical-align: top;\n",
              "    }\n",
              "\n",
              "    .dataframe thead th {\n",
              "        text-align: right;\n",
              "    }\n",
              "</style>\n",
              "<table border=\"1\" class=\"dataframe\">\n",
              "  <thead>\n",
              "    <tr style=\"text-align: right;\">\n",
              "      <th></th>\n",
              "      <th>text</th>\n",
              "    </tr>\n",
              "  </thead>\n",
              "  <tbody>\n",
              "    <tr>\n",
              "      <th>0</th>\n",
              "      <td>No motion for rehearing filed.</td>\n",
              "    </tr>\n",
              "    <tr>\n",
              "      <th>1</th>\n",
              "      <td>— Relator is under accusation of killing her h...</td>\n",
              "    </tr>\n",
              "    <tr>\n",
              "      <th>2</th>\n",
              "      <td>From an order of the District Judge of the 39t...</td>\n",
              "    </tr>\n",
              "    <tr>\n",
              "      <th>3</th>\n",
              "      <td>Relator and her husband had been married for a...</td>\n",
              "    </tr>\n",
              "    <tr>\n",
              "      <th>4</th>\n",
              "      <td>The evidence indicates that their family relat...</td>\n",
              "    </tr>\n",
              "  </tbody>\n",
              "</table>\n",
              "</div>"
            ],
            "text/plain": [
              "                                                text\n",
              "0                     No motion for rehearing filed.\n",
              "1  — Relator is under accusation of killing her h...\n",
              "2  From an order of the District Judge of the 39t...\n",
              "3  Relator and her husband had been married for a...\n",
              "4  The evidence indicates that their family relat..."
            ]
          },
          "metadata": {
            "tags": []
          },
          "execution_count": 43
        }
      ]
    },
    {
      "cell_type": "code",
      "metadata": {
        "id": "pbXAqY-bqgcN"
      },
      "source": [
        "unlabel['text'] = unlabel['text'].apply(lambda x: \" \".join(x.lower() for x in str(x).split()))\n",
        "unlabel['text'] = unlabel['text'].str.replace('[^\\w\\s]','')\n",
        "from nltk.corpus import stopwords\n",
        "words = stopwords.words('english')\n",
        "unlabel['text'] = unlabel['text'].apply(lambda x: \" \".join(x for x in x.split() if x not in words))\n"
      ],
      "execution_count": null,
      "outputs": []
    },
    {
      "cell_type": "code",
      "metadata": {
        "id": "MYlmWHGCqvms",
        "colab": {
          "base_uri": "https://localhost:8080/"
        },
        "outputId": "76ea6211-9f94-4311-f706-b6d1b6371fba"
      },
      "source": [
        "from textblob import TextBlob\n",
        "from textblob import Word\n",
        "nltk.download('wordnet')\n",
        "nltk.download('punkt')\n",
        "unlabel['text'] = unlabel['text'].apply(lambda x: TextBlob(x).words)\n",
        "unlabel['text'] = unlabel['text'].apply(lambda x: \" \".join([Word(word).lemmatize() for word in x]))"
      ],
      "execution_count": null,
      "outputs": [
        {
          "output_type": "stream",
          "text": [
            "[nltk_data] Downloading package wordnet to /root/nltk_data...\n",
            "[nltk_data]   Package wordnet is already up-to-date!\n",
            "[nltk_data] Downloading package punkt to /root/nltk_data...\n",
            "[nltk_data]   Unzipping tokenizers/punkt.zip.\n"
          ],
          "name": "stdout"
        }
      ]
    },
    {
      "cell_type": "code",
      "metadata": {
        "id": "NqWrGLwdVxdp",
        "colab": {
          "base_uri": "https://localhost:8080/",
          "height": 204
        },
        "outputId": "e36db00a-75ca-44de-ab7d-98f960088706"
      },
      "source": [
        "unlabel.head()"
      ],
      "execution_count": null,
      "outputs": [
        {
          "output_type": "execute_result",
          "data": {
            "text/html": [
              "<div>\n",
              "<style scoped>\n",
              "    .dataframe tbody tr th:only-of-type {\n",
              "        vertical-align: middle;\n",
              "    }\n",
              "\n",
              "    .dataframe tbody tr th {\n",
              "        vertical-align: top;\n",
              "    }\n",
              "\n",
              "    .dataframe thead th {\n",
              "        text-align: right;\n",
              "    }\n",
              "</style>\n",
              "<table border=\"1\" class=\"dataframe\">\n",
              "  <thead>\n",
              "    <tr style=\"text-align: right;\">\n",
              "      <th></th>\n",
              "      <th>text</th>\n",
              "    </tr>\n",
              "  </thead>\n",
              "  <tbody>\n",
              "    <tr>\n",
              "      <th>0</th>\n",
              "      <td>motion rehearing filed</td>\n",
              "    </tr>\n",
              "    <tr>\n",
              "      <th>1</th>\n",
              "      <td>relator accusation killing husband virgil clark</td>\n",
              "    </tr>\n",
              "    <tr>\n",
              "      <th>2</th>\n",
              "      <td>order district judge 39th judicial district re...</td>\n",
              "    </tr>\n",
              "    <tr>\n",
              "      <th>3</th>\n",
              "      <td>relator husband married number year</td>\n",
              "    </tr>\n",
              "    <tr>\n",
              "      <th>4</th>\n",
              "      <td>evidence indicates family relation always plea...</td>\n",
              "    </tr>\n",
              "  </tbody>\n",
              "</table>\n",
              "</div>"
            ],
            "text/plain": [
              "                                                text\n",
              "0                             motion rehearing filed\n",
              "1    relator accusation killing husband virgil clark\n",
              "2  order district judge 39th judicial district re...\n",
              "3                relator husband married number year\n",
              "4  evidence indicates family relation always plea..."
            ]
          },
          "metadata": {
            "tags": []
          },
          "execution_count": 46
        }
      ]
    },
    {
      "cell_type": "code",
      "metadata": {
        "id": "d3F6jJNts6Be",
        "colab": {
          "base_uri": "https://localhost:8080/"
        },
        "outputId": "e14b96bc-06b7-42be-9732-9e1f7ca91793"
      },
      "source": [
        "len(unlabel)"
      ],
      "execution_count": null,
      "outputs": [
        {
          "output_type": "execute_result",
          "data": {
            "text/plain": [
              "537703"
            ]
          },
          "metadata": {
            "tags": []
          },
          "execution_count": 47
        }
      ]
    },
    {
      "cell_type": "code",
      "metadata": {
        "id": "Ls045zI7s6Kb",
        "colab": {
          "base_uri": "https://localhost:8080/"
        },
        "outputId": "289f92a4-b291-47a7-84b7-535bd03cd815"
      },
      "source": [
        "unlabel_1 = unlabel.loc[:100000]\n",
        "print(\"length of unlabel_1\",len(unlabel_1))\n",
        "unlabel_2 = unlabel.loc[100001:200000]\n",
        "print(\"length of unlabel_2\",len(unlabel_2))\n",
        "unlabel_3 = unlabel.loc[200001:300000]\n",
        "print(\"length of unlabel_3\",len(unlabel_3))\n",
        "unlabel_4 = unlabel.loc[300001:400000]\n",
        "print(\"length of unlabel_4\",len(unlabel_4))\n",
        "unlabel_5 = unlabel.loc[400001:]\n",
        "print(\"length of unlabel_5\",len(unlabel_5))"
      ],
      "execution_count": null,
      "outputs": [
        {
          "output_type": "stream",
          "text": [
            "length of unlabel_1 100001\n",
            "length of unlabel_2 100000\n",
            "length of unlabel_3 100000\n",
            "length of unlabel_4 100000\n",
            "length of unlabel_5 137702\n"
          ],
          "name": "stdout"
        }
      ]
    },
    {
      "cell_type": "code",
      "metadata": {
        "id": "29BgPHk4s6PS",
        "colab": {
          "base_uri": "https://localhost:8080/",
          "height": 204
        },
        "outputId": "7d3e10d3-0811-40ba-b554-c828ae638bf7"
      },
      "source": [
        "unlabel_1.head()"
      ],
      "execution_count": null,
      "outputs": [
        {
          "output_type": "execute_result",
          "data": {
            "text/html": [
              "<div>\n",
              "<style scoped>\n",
              "    .dataframe tbody tr th:only-of-type {\n",
              "        vertical-align: middle;\n",
              "    }\n",
              "\n",
              "    .dataframe tbody tr th {\n",
              "        vertical-align: top;\n",
              "    }\n",
              "\n",
              "    .dataframe thead th {\n",
              "        text-align: right;\n",
              "    }\n",
              "</style>\n",
              "<table border=\"1\" class=\"dataframe\">\n",
              "  <thead>\n",
              "    <tr style=\"text-align: right;\">\n",
              "      <th></th>\n",
              "      <th>text</th>\n",
              "    </tr>\n",
              "  </thead>\n",
              "  <tbody>\n",
              "    <tr>\n",
              "      <th>0</th>\n",
              "      <td>motion rehearing filed</td>\n",
              "    </tr>\n",
              "    <tr>\n",
              "      <th>1</th>\n",
              "      <td>relator accusation killing husband virgil clark</td>\n",
              "    </tr>\n",
              "    <tr>\n",
              "      <th>2</th>\n",
              "      <td>order district judge 39th judicial district re...</td>\n",
              "    </tr>\n",
              "    <tr>\n",
              "      <th>3</th>\n",
              "      <td>relator husband married number year</td>\n",
              "    </tr>\n",
              "    <tr>\n",
              "      <th>4</th>\n",
              "      <td>evidence indicates family relation always plea...</td>\n",
              "    </tr>\n",
              "  </tbody>\n",
              "</table>\n",
              "</div>"
            ],
            "text/plain": [
              "                                                text\n",
              "0                             motion rehearing filed\n",
              "1    relator accusation killing husband virgil clark\n",
              "2  order district judge 39th judicial district re...\n",
              "3                relator husband married number year\n",
              "4  evidence indicates family relation always plea..."
            ]
          },
          "metadata": {
            "tags": []
          },
          "execution_count": 49
        }
      ]
    },
    {
      "cell_type": "code",
      "metadata": {
        "id": "szeMdJ6pt7fN",
        "colab": {
          "base_uri": "https://localhost:8080/",
          "height": 204
        },
        "outputId": "9e10144f-ba70-44fd-ecfd-2541650ccff8"
      },
      "source": [
        "unlabel_2.reset_index(inplace=True)\n",
        "del unlabel_2['index']\n",
        "unlabel_2.head()"
      ],
      "execution_count": null,
      "outputs": [
        {
          "output_type": "execute_result",
          "data": {
            "text/html": [
              "<div>\n",
              "<style scoped>\n",
              "    .dataframe tbody tr th:only-of-type {\n",
              "        vertical-align: middle;\n",
              "    }\n",
              "\n",
              "    .dataframe tbody tr th {\n",
              "        vertical-align: top;\n",
              "    }\n",
              "\n",
              "    .dataframe thead th {\n",
              "        text-align: right;\n",
              "    }\n",
              "</style>\n",
              "<table border=\"1\" class=\"dataframe\">\n",
              "  <thead>\n",
              "    <tr style=\"text-align: right;\">\n",
              "      <th></th>\n",
              "      <th>text</th>\n",
              "    </tr>\n",
              "  </thead>\n",
              "  <tbody>\n",
              "    <tr>\n",
              "      <th>0</th>\n",
              "      <td>responding conclusion regarding evidence annou...</td>\n",
              "    </tr>\n",
              "    <tr>\n",
              "      <th>1</th>\n",
              "      <td>conviction transporting intoxicating liquor pu...</td>\n",
              "    </tr>\n",
              "    <tr>\n",
              "      <th>2</th>\n",
              "      <td>bill exception case filed late</td>\n",
              "    </tr>\n",
              "    <tr>\n",
              "      <th>3</th>\n",
              "      <td>motion new trial overruled october 22 1927 ord...</td>\n",
              "    </tr>\n",
              "    <tr>\n",
              "      <th>4</th>\n",
              "      <td>thereafter december 10th extension order made ...</td>\n",
              "    </tr>\n",
              "  </tbody>\n",
              "</table>\n",
              "</div>"
            ],
            "text/plain": [
              "                                                text\n",
              "0  responding conclusion regarding evidence annou...\n",
              "1  conviction transporting intoxicating liquor pu...\n",
              "2                     bill exception case filed late\n",
              "3  motion new trial overruled october 22 1927 ord...\n",
              "4  thereafter december 10th extension order made ..."
            ]
          },
          "metadata": {
            "tags": []
          },
          "execution_count": 50
        }
      ]
    },
    {
      "cell_type": "code",
      "metadata": {
        "id": "u6lInKYmt7pn",
        "colab": {
          "base_uri": "https://localhost:8080/",
          "height": 204
        },
        "outputId": "405cfd9d-b9db-408d-a44e-c5f59a8856f0"
      },
      "source": [
        "unlabel_3.reset_index(inplace=True)\n",
        "del unlabel_3['index']\n",
        "unlabel_3.head()"
      ],
      "execution_count": null,
      "outputs": [
        {
          "output_type": "execute_result",
          "data": {
            "text/html": [
              "<div>\n",
              "<style scoped>\n",
              "    .dataframe tbody tr th:only-of-type {\n",
              "        vertical-align: middle;\n",
              "    }\n",
              "\n",
              "    .dataframe tbody tr th {\n",
              "        vertical-align: top;\n",
              "    }\n",
              "\n",
              "    .dataframe thead th {\n",
              "        text-align: right;\n",
              "    }\n",
              "</style>\n",
              "<table border=\"1\" class=\"dataframe\">\n",
              "  <thead>\n",
              "    <tr style=\"text-align: right;\">\n",
              "      <th></th>\n",
              "      <th>text</th>\n",
              "    </tr>\n",
              "  </thead>\n",
              "  <tbody>\n",
              "    <tr>\n",
              "      <th>0</th>\n",
              "      <td>another man carrying clothes</td>\n",
              "    </tr>\n",
              "    <tr>\n",
              "      <th>1</th>\n",
              "      <td>officer testified appellant several item cloth...</td>\n",
              "    </tr>\n",
              "    <tr>\n",
              "      <th>2</th>\n",
              "      <td>investigation followed report breaking entry a...</td>\n",
              "    </tr>\n",
              "    <tr>\n",
              "      <th>3</th>\n",
              "      <td>appellant present</td>\n",
              "    </tr>\n",
              "    <tr>\n",
              "      <th>4</th>\n",
              "      <td>warrant arrest issued officer went hotel waite...</td>\n",
              "    </tr>\n",
              "  </tbody>\n",
              "</table>\n",
              "</div>"
            ],
            "text/plain": [
              "                                                text\n",
              "0                       another man carrying clothes\n",
              "1  officer testified appellant several item cloth...\n",
              "2  investigation followed report breaking entry a...\n",
              "3                                  appellant present\n",
              "4  warrant arrest issued officer went hotel waite..."
            ]
          },
          "metadata": {
            "tags": []
          },
          "execution_count": 51
        }
      ]
    },
    {
      "cell_type": "code",
      "metadata": {
        "id": "awCDdJfCt7uy",
        "colab": {
          "base_uri": "https://localhost:8080/",
          "height": 204
        },
        "outputId": "96355f14-234e-4ee7-a401-a0924ad4da46"
      },
      "source": [
        "unlabel_4.reset_index(inplace=True)\n",
        "del unlabel_4['index']\n",
        "unlabel_4.head()"
      ],
      "execution_count": null,
      "outputs": [
        {
          "output_type": "execute_result",
          "data": {
            "text/html": [
              "<div>\n",
              "<style scoped>\n",
              "    .dataframe tbody tr th:only-of-type {\n",
              "        vertical-align: middle;\n",
              "    }\n",
              "\n",
              "    .dataframe tbody tr th {\n",
              "        vertical-align: top;\n",
              "    }\n",
              "\n",
              "    .dataframe thead th {\n",
              "        text-align: right;\n",
              "    }\n",
              "</style>\n",
              "<table border=\"1\" class=\"dataframe\">\n",
              "  <thead>\n",
              "    <tr style=\"text-align: right;\">\n",
              "      <th></th>\n",
              "      <th>text</th>\n",
              "    </tr>\n",
              "  </thead>\n",
              "  <tbody>\n",
              "    <tr>\n",
              "      <th>0</th>\n",
              "      <td>statute final judgment appeal court lie senten...</td>\n",
              "    </tr>\n",
              "    <tr>\n",
              "      <th>1</th>\n",
              "      <td>sentence must pronounced term court judgment r...</td>\n",
              "    </tr>\n",
              "    <tr>\n",
              "      <th>2</th>\n",
              "      <td>court sentence defendant vacation</td>\n",
              "    </tr>\n",
              "    <tr>\n",
              "      <th>3</th>\n",
              "      <td>court adjourned authority case ceased notice a...</td>\n",
              "    </tr>\n",
              "    <tr>\n",
              "      <th>4</th>\n",
              "      <td>pronouncing sentence authorized vacation autho...</td>\n",
              "    </tr>\n",
              "  </tbody>\n",
              "</table>\n",
              "</div>"
            ],
            "text/plain": [
              "                                                text\n",
              "0  statute final judgment appeal court lie senten...\n",
              "1  sentence must pronounced term court judgment r...\n",
              "2                  court sentence defendant vacation\n",
              "3  court adjourned authority case ceased notice a...\n",
              "4  pronouncing sentence authorized vacation autho..."
            ]
          },
          "metadata": {
            "tags": []
          },
          "execution_count": 52
        }
      ]
    },
    {
      "cell_type": "code",
      "metadata": {
        "id": "c1RvB50QuT77",
        "colab": {
          "base_uri": "https://localhost:8080/",
          "height": 204
        },
        "outputId": "f4691114-1071-43e1-f5e3-2e6ebd355335"
      },
      "source": [
        "unlabel_5.reset_index(inplace=True)\n",
        "del unlabel_5['index']\n",
        "unlabel_5.head()"
      ],
      "execution_count": null,
      "outputs": [
        {
          "output_type": "execute_result",
          "data": {
            "text/html": [
              "<div>\n",
              "<style scoped>\n",
              "    .dataframe tbody tr th:only-of-type {\n",
              "        vertical-align: middle;\n",
              "    }\n",
              "\n",
              "    .dataframe tbody tr th {\n",
              "        vertical-align: top;\n",
              "    }\n",
              "\n",
              "    .dataframe thead th {\n",
              "        text-align: right;\n",
              "    }\n",
              "</style>\n",
              "<table border=\"1\" class=\"dataframe\">\n",
              "  <thead>\n",
              "    <tr style=\"text-align: right;\">\n",
              "      <th></th>\n",
              "      <th>text</th>\n",
              "    </tr>\n",
              "  </thead>\n",
              "  <tbody>\n",
              "    <tr>\n",
              "      <th>0</th>\n",
              "      <td>member federal reserve bank</td>\n",
              "    </tr>\n",
              "    <tr>\n",
              "      <th>1</th>\n",
              "      <td>opinion state case</td>\n",
              "    </tr>\n",
              "    <tr>\n",
              "      <th>2</th>\n",
              "      <td>conviction violating state cigarette law punis...</td>\n",
              "    </tr>\n",
              "    <tr>\n",
              "      <th>3</th>\n",
              "      <td>find record bill exception bringing forward co...</td>\n",
              "    </tr>\n",
              "    <tr>\n",
              "      <th>4</th>\n",
              "      <td>brief appellant complains lack testimony</td>\n",
              "    </tr>\n",
              "  </tbody>\n",
              "</table>\n",
              "</div>"
            ],
            "text/plain": [
              "                                                text\n",
              "0                        member federal reserve bank\n",
              "1                                 opinion state case\n",
              "2  conviction violating state cigarette law punis...\n",
              "3  find record bill exception bringing forward co...\n",
              "4           brief appellant complains lack testimony"
            ]
          },
          "metadata": {
            "tags": []
          },
          "execution_count": 53
        }
      ]
    },
    {
      "cell_type": "code",
      "metadata": {
        "id": "wOeWob4LuXnH",
        "colab": {
          "base_uri": "https://localhost:8080/"
        },
        "outputId": "8fa6d6fe-90d7-4c88-9da3-d3227e5e2a1b"
      },
      "source": [
        "classifier.classes_"
      ],
      "execution_count": null,
      "outputs": [
        {
          "output_type": "execute_result",
          "data": {
            "text/plain": [
              "array(['Analysis', 'Conclusion', 'Facts', 'Invalid', 'Issue',\n",
              "       'Rule/Law/Holding'], dtype=object)"
            ]
          },
          "metadata": {
            "tags": []
          },
          "execution_count": 54
        }
      ]
    },
    {
      "cell_type": "code",
      "metadata": {
        "id": "bGLz2PLyuZtF"
      },
      "source": [
        "x_un1 = tfidf_vect.transform(unlabel_1['text'])\n"
      ],
      "execution_count": null,
      "outputs": []
    },
    {
      "cell_type": "code",
      "metadata": {
        "id": "CREaz3ZlvnWo",
        "colab": {
          "base_uri": "https://localhost:8080/"
        },
        "outputId": "11567e89-b51f-4756-d300-a0372d3f0385"
      },
      "source": [
        "x_un1.shape\n",
        "pred_unlabel_1 = classifier.predict_proba(x_un1)\n",
        "pred_unlabel_1\n",
        "\n"
      ],
      "execution_count": null,
      "outputs": [
        {
          "output_type": "execute_result",
          "data": {
            "text/plain": [
              "array([[0.01, 0.44, 0.1 , 0.4 , 0.01, 0.04],\n",
              "       [0.  , 0.13, 0.  , 0.8 , 0.07, 0.  ],\n",
              "       [0.07, 0.07, 0.08, 0.43, 0.18, 0.17],\n",
              "       ...,\n",
              "       [0.2 , 0.09, 0.39, 0.11, 0.14, 0.07],\n",
              "       [0.28, 0.02, 0.28, 0.36, 0.01, 0.05],\n",
              "       [0.31, 0.01, 0.18, 0.42, 0.06, 0.02]])"
            ]
          },
          "metadata": {
            "tags": []
          },
          "execution_count": 56
        }
      ]
    },
    {
      "cell_type": "code",
      "metadata": {
        "id": "A_eycN-qzSK5"
      },
      "source": [
        ""
      ],
      "execution_count": null,
      "outputs": []
    },
    {
      "cell_type": "code",
      "metadata": {
        "id": "raKJnffMv2L7",
        "colab": {
          "base_uri": "https://localhost:8080/"
        },
        "outputId": "65c3f1f5-50b7-402d-b80f-1ad5f03a39f1"
      },
      "source": [
        "print(len(pred_unlabel_1))\n",
        "print(np.unique(pred_unlabel_1))\n"
      ],
      "execution_count": null,
      "outputs": [
        {
          "output_type": "stream",
          "text": [
            "100001\n",
            "[0.         0.00333333 0.005      0.00833333 0.01       0.01333333\n",
            " 0.015      0.01666667 0.01833333 0.02       0.02166667 0.02333333\n",
            " 0.02333333 0.025      0.02666667 0.0275     0.02833333 0.03\n",
            " 0.03166667 0.0325     0.03333333 0.035      0.035      0.03583333\n",
            " 0.03666667 0.03833333 0.03833333 0.04       0.04083333 0.04166667\n",
            " 0.04333333 0.04333333 0.045      0.045      0.04666667 0.04666667\n",
            " 0.04833333 0.04833333 0.04916667 0.05       0.05083333 0.05166667\n",
            " 0.05166667 0.05333333 0.05333333 0.055      0.055      0.055\n",
            " 0.05666667 0.05666667 0.05833333 0.05833333 0.06       0.06\n",
            " 0.06166667 0.06166667 0.06333333 0.06333333 0.065      0.06666667\n",
            " 0.06833333 0.06833333 0.07       0.07166667 0.07166667 0.0725\n",
            " 0.07333333 0.075      0.07666667 0.07666667 0.07733333 0.07833333\n",
            " 0.07833333 0.07845238 0.08       0.08166667 0.08166667 0.08261905\n",
            " 0.08333333 0.08333333 0.085      0.086      0.08666667 0.08666667\n",
            " 0.08733333 0.08733333 0.08816667 0.08833333 0.08833333 0.089\n",
            " 0.09       0.09166667 0.09166667 0.09261905 0.09316667 0.09333333\n",
            " 0.09333333 0.095      0.095      0.09666667 0.09666667 0.09761905\n",
            " 0.09833333 0.09928571 0.1        0.1        0.1015     0.10166667\n",
            " 0.1025     0.10261905 0.10333333 0.10333333 0.104      0.105\n",
            " 0.10666667 0.10666667 0.10733333 0.10833333 0.10833333 0.10845238\n",
            " 0.10916667 0.10983333 0.11       0.11028571 0.1115     0.11166667\n",
            " 0.11166667 0.11333333 0.11333333 0.11483333 0.115      0.11666667\n",
            " 0.11666667 0.11833333 0.11833333 0.12       0.12066667 0.12166667\n",
            " 0.1225     0.12333333 0.12333333 0.124      0.125      0.12583333\n",
            " 0.12666667 0.12666667 0.12766667 0.12833333 0.129      0.13\n",
            " 0.13       0.13166667 0.13166667 0.13333333 0.134      0.13483333\n",
            " 0.135      0.135      0.13583333 0.13666667 0.13666667 0.13833333\n",
            " 0.13833333 0.139      0.14       0.14083333 0.14166667 0.14333333\n",
            " 0.14333333 0.14483333 0.145      0.1465     0.14666667 0.14733333\n",
            " 0.1475     0.14833333 0.14833333 0.15       0.15166667 0.15266667\n",
            " 0.15266667 0.15333333 0.15333333 0.15416667 0.155      0.15666667\n",
            " 0.15666667 0.15833333 0.159      0.15933333 0.16       0.1615\n",
            " 0.16166667 0.16166667 0.16333333 0.16333333 0.16416667 0.16483333\n",
            " 0.165      0.16666667 0.16666667 0.16833333 0.16833333 0.17\n",
            " 0.17166667 0.17166667 0.17233333 0.17333333 0.17333333 0.17416667\n",
            " 0.175      0.17666667 0.17666667 0.1775     0.17833333 0.17833333\n",
            " 0.17916667 0.17933333 0.18       0.18       0.18083333 0.18166667\n",
            " 0.18166667 0.18333333 0.18333333 0.185      0.18666667 0.18666667\n",
            " 0.1875     0.18766667 0.18833333 0.18833333 0.19       0.19083333\n",
            " 0.19166667 0.19166667 0.19333333 0.19333333 0.195      0.19666667\n",
            " 0.19666667 0.1975     0.19833333 0.199      0.2        0.2\n",
            " 0.20166667 0.20166667 0.2025     0.20333333 0.20333333 0.205\n",
            " 0.20583333 0.20666667 0.20666667 0.20778571 0.20833333 0.20833333\n",
            " 0.21       0.21       0.21166667 0.21333333 0.21333333 0.215\n",
            " 0.21583333 0.216      0.21666667 0.21666667 0.2175     0.21766667\n",
            " 0.21833333 0.21833333 0.22       0.22166667 0.22166667 0.22333333\n",
            " 0.22333333 0.225      0.22583333 0.22666667 0.22666667 0.22833333\n",
            " 0.22833333 0.229      0.22916667 0.23       0.23166667 0.23166667\n",
            " 0.2325     0.23333333 0.23333333 0.235      0.2365     0.23666667\n",
            " 0.23666667 0.23833333 0.23833333 0.24       0.24083333 0.24166667\n",
            " 0.24166667 0.2425     0.24333333 0.24333333 0.24416667 0.245\n",
            " 0.245      0.24566667 0.24666667 0.24666667 0.24833333 0.24833333\n",
            " 0.25       0.25166667 0.25166667 0.25333333 0.25333333 0.254\n",
            " 0.25416667 0.255      0.25666667 0.25816667 0.25833333 0.26\n",
            " 0.26166667 0.26333333 0.26333333 0.265      0.26666667 0.26833333\n",
            " 0.26833333 0.27       0.27166667 0.27333333 0.27333333 0.27416667\n",
            " 0.275      0.27566667 0.27583333 0.27583333 0.27666667 0.27666667\n",
            " 0.2775     0.2775     0.27833333 0.27833333 0.27916667 0.28\n",
            " 0.28       0.28083333 0.28166667 0.28166667 0.2825     0.28333333\n",
            " 0.285      0.28583333 0.28666667 0.28666667 0.28745238 0.2875\n",
            " 0.28833333 0.28916667 0.29       0.29083333 0.29166667 0.29166667\n",
            " 0.2925     0.29333333 0.29395238 0.294      0.295      0.295\n",
            " 0.29583333 0.29666667 0.29666667 0.2975     0.29833333 0.29916667\n",
            " 0.3        0.30083333 0.30166667 0.30166667 0.30333333 0.305\n",
            " 0.30666667 0.30666667 0.30666667 0.30733333 0.3075     0.30833333\n",
            " 0.30916667 0.31       0.31166667 0.31166667 0.3125     0.3125\n",
            " 0.31333333 0.315      0.31666667 0.3175     0.31833333 0.31833333\n",
            " 0.31916667 0.32       0.32083333 0.32166667 0.32166667 0.32333333\n",
            " 0.32333333 0.325      0.32666667 0.32666667 0.32833333 0.32833333\n",
            " 0.33       0.33166667 0.33166667 0.33333333 0.33333333 0.33416667\n",
            " 0.33433333 0.335      0.33583333 0.33666667 0.33666667 0.33833333\n",
            " 0.33833333 0.33916667 0.34       0.34166667 0.34166667 0.34333333\n",
            " 0.34333333 0.345      0.34583333 0.34666667 0.34833333 0.34833333\n",
            " 0.35       0.35166667 0.3525     0.35333333 0.35333333 0.354\n",
            " 0.355      0.35666667 0.35666667 0.35833333 0.35833333 0.35916667\n",
            " 0.36       0.361      0.36166667 0.3625     0.36333333 0.36333333\n",
            " 0.36416667 0.36416667 0.365      0.36583333 0.36666667 0.36666667\n",
            " 0.36833333 0.36833333 0.36916667 0.37       0.37       0.37\n",
            " 0.37166667 0.37166667 0.37233333 0.3725     0.37333333 0.37333333\n",
            " 0.37416667 0.375      0.37583333 0.376      0.37666667 0.37666667\n",
            " 0.37833333 0.37916667 0.38       0.38083333 0.38166667 0.38166667\n",
            " 0.38333333 0.38333333 0.385      0.38666667 0.38666667 0.38761905\n",
            " 0.38833333 0.38833333 0.3885     0.38916667 0.39       0.39083333\n",
            " 0.39166667 0.39166667 0.3925     0.39333333 0.39416667 0.39416667\n",
            " 0.395      0.395      0.39666667 0.39666667 0.39833333 0.39833333\n",
            " 0.39916667 0.4        0.40083333 0.40166667 0.4025     0.40333333\n",
            " 0.40333333 0.405      0.40583333 0.40666667 0.40666667 0.40833333\n",
            " 0.40833333 0.40916667 0.40916667 0.41       0.41166667 0.41166667\n",
            " 0.41333333 0.41333333 0.415      0.416      0.41666667 0.41666667\n",
            " 0.4175     0.41833333 0.41833333 0.41916667 0.42       0.42166667\n",
            " 0.4225     0.42333333 0.42333333 0.425      0.42583333 0.4265\n",
            " 0.42666667 0.4275     0.43       0.43083333 0.43166667 0.43166667\n",
            " 0.43333333 0.43416667 0.435      0.43583333 0.43604762 0.4365\n",
            " 0.43666667 0.43666667 0.43833333 0.43916667 0.44       0.44166667\n",
            " 0.44166667 0.4425     0.44333333 0.44333333 0.445      0.44583333\n",
            " 0.44666667 0.44666667 0.44916667 0.44916667 0.45       0.45083333\n",
            " 0.45083333 0.45166667 0.45166667 0.45333333 0.45333333 0.454\n",
            " 0.45416667 0.455      0.4565     0.45666667 0.45666667 0.45833333\n",
            " 0.45833333 0.46       0.46083333 0.46166667 0.46333333 0.46416667\n",
            " 0.465      0.465      0.46583333 0.46666667 0.46666667 0.46833333\n",
            " 0.469      0.47       0.47       0.47083333 0.47166667 0.47166667\n",
            " 0.4725     0.4735     0.47416667 0.475      0.47666667 0.4775\n",
            " 0.47833333 0.48       0.48016667 0.48083333 0.48166667 0.48166667\n",
            " 0.48183333 0.48333333 0.48333333 0.4835     0.48416667 0.48416667\n",
            " 0.485      0.48583333 0.486      0.48666667 0.48666667 0.48833333\n",
            " 0.48916667 0.48983333 0.49       0.49166667 0.49333333 0.49333333\n",
            " 0.49416667 0.495      0.49666667 0.49666667 0.49833333 0.49833333\n",
            " 0.5        0.5        0.501      0.5035     0.505      0.50583333\n",
            " 0.50666667 0.5075     0.50833333 0.50916667 0.51       0.51166667\n",
            " 0.51333333 0.515      0.51666667 0.51916667 0.52       0.52083333\n",
            " 0.5215     0.52166667 0.52333333 0.525      0.52516667 0.52666667\n",
            " 0.5275     0.52766667 0.52833333 0.53       0.53083333 0.53166667\n",
            " 0.53333333 0.535      0.535      0.53666667 0.54       0.5425\n",
            " 0.54333333 0.545      0.54666667 0.54666667 0.54833333 0.55\n",
            " 0.55       0.55083333 0.55166667 0.55166667 0.5525     0.55266667\n",
            " 0.55333333 0.555      0.55666667 0.5585     0.5585     0.56\n",
            " 0.56333333 0.565      0.56666667 0.56833333 0.57       0.57083333\n",
            " 0.57166667 0.57333333 0.57333333 0.575      0.57666667 0.5775\n",
            " 0.58       0.58166667 0.585      0.58666667 0.58833333 0.59\n",
            " 0.59083333 0.59166667 0.59266667 0.59666667 0.6        0.6025\n",
            " 0.60254762 0.60333333 0.604      0.605      0.606      0.60666667\n",
            " 0.60833333 0.61       0.61166667 0.61238095 0.61333333 0.6135\n",
            " 0.615      0.61766667 0.62       0.621      0.62333333 0.62333333\n",
            " 0.62416667 0.625      0.62516667 0.62666667 0.63       0.63066667\n",
            " 0.63083333 0.63166667 0.63233333 0.635      0.64       0.641\n",
            " 0.64266667 0.64333333 0.645      0.65       0.65221429 0.65233333\n",
            " 0.65266667 0.655      0.65666667 0.6585     0.66       0.66066667\n",
            " 0.66166667 0.66433333 0.665      0.66666667 0.66666667 0.66833333\n",
            " 0.67       0.67166667 0.675      0.67516667 0.67666667 0.67733333\n",
            " 0.67933333 0.68       0.68166667 0.68333333 0.685      0.686\n",
            " 0.68666667 0.68683333 0.69       0.69333333 0.695      0.69666667\n",
            " 0.7        0.70166667 0.70333333 0.705      0.70666667 0.70833333\n",
            " 0.71       0.71166667 0.71266667 0.71416667 0.715      0.716\n",
            " 0.71666667 0.7175     0.72       0.72154762 0.72166667 0.72333333\n",
            " 0.72666667 0.72733333 0.73       0.73166667 0.7325     0.73333333\n",
            " 0.735      0.73666667 0.73666667 0.74       0.74071429 0.74166667\n",
            " 0.745      0.74666667 0.74666667 0.7475     0.75       0.751\n",
            " 0.75166667 0.755      0.75583333 0.75666667 0.75666667 0.75833333\n",
            " 0.75833333 0.76       0.76166667 0.76166667 0.76333333 0.765\n",
            " 0.76666667 0.76833333 0.76833333 0.77       0.771      0.77166667\n",
            " 0.77166667 0.7725     0.77333333 0.775      0.77666667 0.77833333\n",
            " 0.78       0.78166667 0.78183333 0.78666667 0.78971429 0.79\n",
            " 0.79016667 0.79166667 0.79333333 0.79333333 0.79666667 0.79833333\n",
            " 0.79833333 0.8        0.80154762 0.80166667 0.80266667 0.80333333\n",
            " 0.80666667 0.81       0.81166667 0.815      0.81666667 0.81666667\n",
            " 0.81833333 0.82       0.82166667 0.825      0.83       0.831\n",
            " 0.83166667 0.83166667 0.83666667 0.83666667 0.84       0.84333333\n",
            " 0.8435     0.84666667 0.85       0.85333333 0.855      0.85666667\n",
            " 0.85833333 0.86       0.86183333 0.86666667 0.86738095 0.8675\n",
            " 0.86916667 0.87       0.87333333 0.875      0.88       0.88333333\n",
            " 0.88333333 0.88666667 0.88738095 0.89       0.89333333 0.895\n",
            " 0.89666667 0.89738095 0.9        0.90238095 0.90333333 0.90666667\n",
            " 0.90833333 0.91       0.91166667 0.91333333 0.91333333 0.91916667\n",
            " 0.92       0.92166667 0.92333333 0.92333333 0.93       0.93333333\n",
            " 0.93666667 0.94       0.94166667 0.94666667 0.94833333 0.95\n",
            " 0.95166667 0.95333333 0.96       0.97       0.98       0.99\n",
            " 1.        ]\n"
          ],
          "name": "stdout"
        }
      ]
    },
    {
      "cell_type": "code",
      "metadata": {
        "id": "CGFe2Iz3wMzi"
      },
      "source": [
        "Threshold= 0.98"
      ],
      "execution_count": null,
      "outputs": []
    },
    {
      "cell_type": "code",
      "metadata": {
        "id": "YYYZpnQOwHOh",
        "colab": {
          "base_uri": "https://localhost:8080/"
        },
        "outputId": "8a2432af-368b-410e-a0c2-afb4c0bbfdfc"
      },
      "source": [
        "import numpy as np\n",
        "pos=[]\n",
        "large=[]\n",
        "ind = []\n",
        "i=0\n",
        "for j in pred_unlabel_1:\n",
        "  if max(j)> Threshold:\n",
        "    ind.append(np.argmax(j))\n",
        "    large.append(max(j))\n",
        "    pos.append(i)\n",
        "  i+=1\n",
        "\n",
        "\n",
        "print(ind)\n",
        "print(large)\n",
        "print(pos)\n",
        "print(type(pos))\n",
        "print(len(ind))\n",
        "print(len(large))\n",
        "print(len(pos))"
      ],
      "execution_count": null,
      "outputs": [
        {
          "output_type": "stream",
          "text": [
            "[1, 1, 1, 1, 1, 1, 1, 1, 1, 1, 1, 1, 1, 1, 1, 1, 1, 1, 1, 1, 1, 1, 3, 1, 1, 1, 1, 1, 1, 1, 1, 1, 1, 1, 1, 1, 1, 1, 1, 1, 1, 1, 1, 1, 1, 1, 1, 1, 1, 1, 1, 1, 1, 1, 1, 1, 1, 1]\n",
            "[1.0, 1.0, 1.0, 1.0, 1.0, 1.0, 1.0, 1.0, 1.0, 1.0, 1.0, 1.0, 1.0, 1.0, 1.0, 1.0, 1.0, 1.0, 1.0, 1.0, 1.0, 1.0, 0.99, 1.0, 1.0, 1.0, 1.0, 1.0, 1.0, 1.0, 1.0, 1.0, 1.0, 1.0, 1.0, 1.0, 1.0, 1.0, 1.0, 1.0, 1.0, 1.0, 1.0, 1.0, 1.0, 1.0, 1.0, 1.0, 1.0, 1.0, 1.0, 1.0, 1.0, 1.0, 1.0, 1.0, 1.0, 1.0]\n",
            "[2584, 5233, 6000, 6585, 6954, 8638, 15343, 16617, 17414, 20458, 20858, 28175, 31001, 31394, 32913, 35388, 36790, 36834, 41891, 42139, 44934, 45210, 45421, 46121, 46640, 48160, 52129, 53297, 54291, 55546, 58561, 59179, 59503, 60136, 61339, 62229, 65441, 66114, 67256, 70578, 72866, 77200, 77879, 78607, 78939, 79359, 81083, 82946, 83884, 85181, 86001, 86669, 87873, 92631, 93246, 97671, 97945, 98517]\n",
            "<class 'list'>\n",
            "58\n",
            "58\n",
            "58\n"
          ],
          "name": "stdout"
        }
      ]
    },
    {
      "cell_type": "code",
      "metadata": {
        "id": "JCUhCmIVwhwB",
        "colab": {
          "base_uri": "https://localhost:8080/",
          "height": 221
        },
        "outputId": "4bcccda9-11b7-4447-8794-350c3773c88a"
      },
      "source": [
        "unlabel_1 = unlabel_1.loc[pos,:]\n",
        "print(len(unlabel_1))\n",
        "unlabel_1.head()"
      ],
      "execution_count": null,
      "outputs": [
        {
          "output_type": "stream",
          "text": [
            "58\n"
          ],
          "name": "stdout"
        },
        {
          "output_type": "execute_result",
          "data": {
            "text/html": [
              "<div>\n",
              "<style scoped>\n",
              "    .dataframe tbody tr th:only-of-type {\n",
              "        vertical-align: middle;\n",
              "    }\n",
              "\n",
              "    .dataframe tbody tr th {\n",
              "        vertical-align: top;\n",
              "    }\n",
              "\n",
              "    .dataframe thead th {\n",
              "        text-align: right;\n",
              "    }\n",
              "</style>\n",
              "<table border=\"1\" class=\"dataframe\">\n",
              "  <thead>\n",
              "    <tr style=\"text-align: right;\">\n",
              "      <th></th>\n",
              "      <th>text</th>\n",
              "    </tr>\n",
              "  </thead>\n",
              "  <tbody>\n",
              "    <tr>\n",
              "      <th>2584</th>\n",
              "      <td>error pointed judgment reversed cause remanded</td>\n",
              "    </tr>\n",
              "    <tr>\n",
              "      <th>5233</th>\n",
              "      <td>error pointed judgment reversed cause remanded</td>\n",
              "    </tr>\n",
              "    <tr>\n",
              "      <th>6000</th>\n",
              "      <td>error pointed judgment reversed cause remanded</td>\n",
              "    </tr>\n",
              "    <tr>\n",
              "      <th>6585</th>\n",
              "      <td>error pointed judgment reversed cause remanded</td>\n",
              "    </tr>\n",
              "    <tr>\n",
              "      <th>6954</th>\n",
              "      <td>error pointed judgment reversed cause remanded</td>\n",
              "    </tr>\n",
              "  </tbody>\n",
              "</table>\n",
              "</div>"
            ],
            "text/plain": [
              "                                                text\n",
              "2584  error pointed judgment reversed cause remanded\n",
              "5233  error pointed judgment reversed cause remanded\n",
              "6000  error pointed judgment reversed cause remanded\n",
              "6585  error pointed judgment reversed cause remanded\n",
              "6954  error pointed judgment reversed cause remanded"
            ]
          },
          "metadata": {
            "tags": []
          },
          "execution_count": 60
        }
      ]
    },
    {
      "cell_type": "code",
      "metadata": {
        "id": "p4yqkbGwz9gq"
      },
      "source": [
        "class_x_un1 = tfidf_vect.transform(unlabel_1['text'])"
      ],
      "execution_count": null,
      "outputs": []
    },
    {
      "cell_type": "code",
      "metadata": {
        "id": "QpCBhQef0Cgy",
        "colab": {
          "base_uri": "https://localhost:8080/"
        },
        "outputId": "781376cf-7e5a-436e-de40-3783feb3320e"
      },
      "source": [
        "class_x_un1.shape"
      ],
      "execution_count": null,
      "outputs": [
        {
          "output_type": "execute_result",
          "data": {
            "text/plain": [
              "(58, 6383)"
            ]
          },
          "metadata": {
            "tags": []
          },
          "execution_count": 62
        }
      ]
    },
    {
      "cell_type": "code",
      "metadata": {
        "id": "GtEfiId00orr",
        "colab": {
          "base_uri": "https://localhost:8080/"
        },
        "outputId": "4e886696-8df0-4412-9750-e97f757fc9d4"
      },
      "source": [
        "\n",
        "class_pred_unlabel_1 = classifier.predict(class_x_un1)\n",
        "class_pred_unlabel_1\n"
      ],
      "execution_count": null,
      "outputs": [
        {
          "output_type": "execute_result",
          "data": {
            "text/plain": [
              "array(['Conclusion', 'Conclusion', 'Conclusion', 'Conclusion',\n",
              "       'Conclusion', 'Conclusion', 'Conclusion', 'Conclusion',\n",
              "       'Conclusion', 'Conclusion', 'Conclusion', 'Conclusion',\n",
              "       'Conclusion', 'Conclusion', 'Conclusion', 'Conclusion',\n",
              "       'Conclusion', 'Conclusion', 'Conclusion', 'Conclusion',\n",
              "       'Conclusion', 'Conclusion', 'Invalid', 'Conclusion', 'Conclusion',\n",
              "       'Conclusion', 'Conclusion', 'Conclusion', 'Conclusion',\n",
              "       'Conclusion', 'Conclusion', 'Conclusion', 'Conclusion',\n",
              "       'Conclusion', 'Conclusion', 'Conclusion', 'Conclusion',\n",
              "       'Conclusion', 'Conclusion', 'Conclusion', 'Conclusion',\n",
              "       'Conclusion', 'Conclusion', 'Conclusion', 'Conclusion',\n",
              "       'Conclusion', 'Conclusion', 'Conclusion', 'Conclusion',\n",
              "       'Conclusion', 'Conclusion', 'Conclusion', 'Conclusion',\n",
              "       'Conclusion', 'Conclusion', 'Conclusion', 'Conclusion',\n",
              "       'Conclusion'], dtype=object)"
            ]
          },
          "metadata": {
            "tags": []
          },
          "execution_count": 63
        }
      ]
    },
    {
      "cell_type": "code",
      "metadata": {
        "id": "j6D1AN0Q08Lb",
        "colab": {
          "base_uri": "https://localhost:8080/"
        },
        "outputId": "36ee76ac-10cf-4995-a836-50bc5cb4d0a2"
      },
      "source": [
        "print(len(class_pred_unlabel_1))"
      ],
      "execution_count": null,
      "outputs": [
        {
          "output_type": "stream",
          "text": [
            "58\n"
          ],
          "name": "stdout"
        }
      ]
    },
    {
      "cell_type": "code",
      "metadata": {
        "id": "tnwEL1_i1EUG",
        "colab": {
          "base_uri": "https://localhost:8080/",
          "height": 204
        },
        "outputId": "e8ebb675-4f51-4478-92bf-334b2e5aa1ff"
      },
      "source": [
        "unlabel_1['Target']=class_pred_unlabel_1\n",
        "unlabel_1.head()"
      ],
      "execution_count": null,
      "outputs": [
        {
          "output_type": "execute_result",
          "data": {
            "text/html": [
              "<div>\n",
              "<style scoped>\n",
              "    .dataframe tbody tr th:only-of-type {\n",
              "        vertical-align: middle;\n",
              "    }\n",
              "\n",
              "    .dataframe tbody tr th {\n",
              "        vertical-align: top;\n",
              "    }\n",
              "\n",
              "    .dataframe thead th {\n",
              "        text-align: right;\n",
              "    }\n",
              "</style>\n",
              "<table border=\"1\" class=\"dataframe\">\n",
              "  <thead>\n",
              "    <tr style=\"text-align: right;\">\n",
              "      <th></th>\n",
              "      <th>text</th>\n",
              "      <th>Target</th>\n",
              "    </tr>\n",
              "  </thead>\n",
              "  <tbody>\n",
              "    <tr>\n",
              "      <th>2584</th>\n",
              "      <td>error pointed judgment reversed cause remanded</td>\n",
              "      <td>Conclusion</td>\n",
              "    </tr>\n",
              "    <tr>\n",
              "      <th>5233</th>\n",
              "      <td>error pointed judgment reversed cause remanded</td>\n",
              "      <td>Conclusion</td>\n",
              "    </tr>\n",
              "    <tr>\n",
              "      <th>6000</th>\n",
              "      <td>error pointed judgment reversed cause remanded</td>\n",
              "      <td>Conclusion</td>\n",
              "    </tr>\n",
              "    <tr>\n",
              "      <th>6585</th>\n",
              "      <td>error pointed judgment reversed cause remanded</td>\n",
              "      <td>Conclusion</td>\n",
              "    </tr>\n",
              "    <tr>\n",
              "      <th>6954</th>\n",
              "      <td>error pointed judgment reversed cause remanded</td>\n",
              "      <td>Conclusion</td>\n",
              "    </tr>\n",
              "  </tbody>\n",
              "</table>\n",
              "</div>"
            ],
            "text/plain": [
              "                                                text      Target\n",
              "2584  error pointed judgment reversed cause remanded  Conclusion\n",
              "5233  error pointed judgment reversed cause remanded  Conclusion\n",
              "6000  error pointed judgment reversed cause remanded  Conclusion\n",
              "6585  error pointed judgment reversed cause remanded  Conclusion\n",
              "6954  error pointed judgment reversed cause remanded  Conclusion"
            ]
          },
          "metadata": {
            "tags": []
          },
          "execution_count": 65
        }
      ]
    },
    {
      "cell_type": "code",
      "metadata": {
        "id": "45V1Qx6g1sX1",
        "colab": {
          "base_uri": "https://localhost:8080/",
          "height": 204
        },
        "outputId": "be89af20-d8e0-4548-e18b-ccddc69af859"
      },
      "source": [
        "train = train.rename(columns={'Sentence':'text'})\n",
        "train.head()"
      ],
      "execution_count": null,
      "outputs": [
        {
          "output_type": "execute_result",
          "data": {
            "text/html": [
              "<div>\n",
              "<style scoped>\n",
              "    .dataframe tbody tr th:only-of-type {\n",
              "        vertical-align: middle;\n",
              "    }\n",
              "\n",
              "    .dataframe tbody tr th {\n",
              "        vertical-align: top;\n",
              "    }\n",
              "\n",
              "    .dataframe thead th {\n",
              "        text-align: right;\n",
              "    }\n",
              "</style>\n",
              "<table border=\"1\" class=\"dataframe\">\n",
              "  <thead>\n",
              "    <tr style=\"text-align: right;\">\n",
              "      <th></th>\n",
              "      <th>Unnamed: 0</th>\n",
              "      <th>text</th>\n",
              "      <th>Target</th>\n",
              "    </tr>\n",
              "  </thead>\n",
              "  <tbody>\n",
              "    <tr>\n",
              "      <th>0</th>\n",
              "      <td>659</td>\n",
              "      <td>Appellant had stated to the officers that she ...</td>\n",
              "      <td>Invalid</td>\n",
              "    </tr>\n",
              "    <tr>\n",
              "      <th>1</th>\n",
              "      <td>3456</td>\n",
              "      <td>We shall discuss the facts more fully in conne...</td>\n",
              "      <td>Invalid</td>\n",
              "    </tr>\n",
              "    <tr>\n",
              "      <th>2</th>\n",
              "      <td>2043</td>\n",
              "      <td>â€œPerjury is a false statement, either writte...</td>\n",
              "      <td>Invalid</td>\n",
              "    </tr>\n",
              "    <tr>\n",
              "      <th>3</th>\n",
              "      <td>3344</td>\n",
              "      <td>The offense is felony theft by false pretext; ...</td>\n",
              "      <td>Issue</td>\n",
              "    </tr>\n",
              "    <tr>\n",
              "      <th>4</th>\n",
              "      <td>3231</td>\n",
              "      <td>Numerous contentions urging the commission of ...</td>\n",
              "      <td>Issue</td>\n",
              "    </tr>\n",
              "  </tbody>\n",
              "</table>\n",
              "</div>"
            ],
            "text/plain": [
              "   Unnamed: 0                                               text   Target\n",
              "0         659  Appellant had stated to the officers that she ...  Invalid\n",
              "1        3456  We shall discuss the facts more fully in conne...  Invalid\n",
              "2        2043  â€œPerjury is a false statement, either writte...  Invalid\n",
              "3        3344  The offense is felony theft by false pretext; ...    Issue\n",
              "4        3231  Numerous contentions urging the commission of ...    Issue"
            ]
          },
          "metadata": {
            "tags": []
          },
          "execution_count": 66
        }
      ]
    },
    {
      "cell_type": "code",
      "metadata": {
        "id": "DDs9mes8wwys",
        "colab": {
          "base_uri": "https://localhost:8080/"
        },
        "outputId": "0f4b79ac-2ee3-4970-9497-6dd71c15a242"
      },
      "source": [
        "frame_1 = [train,unlabel_1]\n",
        "train_1 = pd.concat(frame_1)\n",
        "print(len(train))\n",
        "print(len(unlabel_1))\n",
        "print(len(train_1))"
      ],
      "execution_count": null,
      "outputs": [
        {
          "output_type": "stream",
          "text": [
            "3476\n",
            "58\n",
            "3534\n"
          ],
          "name": "stdout"
        }
      ]
    },
    {
      "cell_type": "code",
      "metadata": {
        "id": "CaSHnErdxwBr",
        "colab": {
          "base_uri": "https://localhost:8080/"
        },
        "outputId": "abb63d96-653f-4b2e-8c1a-edccb7e928e2"
      },
      "source": [
        "from sklearn.metrics import classification_report\n",
        "x_train_1 = tfidf_vect.transform(train_1['text'])\n",
        "x_train_1.shape\n",
        "X_train, x_val, Y_train, y_val = train_test_split(x_train_1,train_1['Target'],test_size=0.25,random_state=2)\n",
        "classifier_1 = RandomForestClassifier(n_estimators = 100, criterion = 'gini', random_state = 42)\n",
        "classifier_1.fit(X_train, Y_train)\n",
        "y_pred = classifier_1.predict(x_val)\n",
        "print(np.unique(y_pred))\n",
        "print(type(y_pred))\n",
        "\n",
        "\n",
        "Accuracy_score = accuracy_score(y_pred,y_val)\n",
        "\n",
        "print('Validation ------- Accuracy_score: %f' % Accuracy_score)\n",
        "\n",
        "test_pred = classifier_1.predict(t_p)\n",
        "acc_test = accuracy_score(test_pred,test['Target'])\n",
        "print('Test ------Accuracy score ', acc_test)\n",
        "matrix = confusion_matrix(y_pred, y_val)\n",
        "print(matrix)\n",
        "print(\"---------validation--------------\")\n",
        "print(classification_report(y_val,y_pred))\n",
        "print(\"----------test---------------------\")\n",
        "print(classification_report(test['Target'],test_pred))"
      ],
      "execution_count": null,
      "outputs": [
        {
          "output_type": "stream",
          "text": [
            "['Analysis' 'Conclusion' 'Facts' 'Invalid' 'Issue' 'Rule/Law/Holding']\n",
            "<class 'numpy.ndarray'>\n",
            "Validation ------- Accuracy_score: 0.631222\n",
            "Test ------Accuracy score  0.6257197696737045\n",
            "[[ 40   8  18   9   3   6]\n",
            " [  3  28   0   1   1   0]\n",
            " [ 80  16 381  52  25  29]\n",
            " [ 12   6  29  77   2  12]\n",
            " [  1   0   3   2  15   0]\n",
            " [  1   0   0   2   5  17]]\n",
            "---------validation--------------\n",
            "                  precision    recall  f1-score   support\n",
            "\n",
            "        Analysis       0.48      0.29      0.36       137\n",
            "      Conclusion       0.85      0.48      0.62        58\n",
            "           Facts       0.65      0.88      0.75       431\n",
            "         Invalid       0.56      0.54      0.55       143\n",
            "           Issue       0.71      0.29      0.42        51\n",
            "Rule/Law/Holding       0.68      0.27      0.38        64\n",
            "\n",
            "        accuracy                           0.63       884\n",
            "       macro avg       0.66      0.46      0.51       884\n",
            "    weighted avg       0.63      0.63      0.60       884\n",
            "\n",
            "----------test---------------------\n",
            "                  precision    recall  f1-score   support\n",
            "\n",
            "        Analysis       0.62      0.30      0.40        77\n",
            "      Conclusion       0.67      0.46      0.55        26\n",
            "           Facts       0.67      0.85      0.75       267\n",
            "         Invalid       0.45      0.54      0.49        83\n",
            "           Issue       0.82      0.26      0.40        34\n",
            "Rule/Law/Holding       0.65      0.32      0.43        34\n",
            "\n",
            "        accuracy                           0.63       521\n",
            "       macro avg       0.65      0.46      0.50       521\n",
            "    weighted avg       0.63      0.63      0.60       521\n",
            "\n"
          ],
          "name": "stdout"
        }
      ]
    },
    {
      "cell_type": "code",
      "metadata": {
        "id": "hno9JlRN-bwV"
      },
      "source": [
        ""
      ],
      "execution_count": null,
      "outputs": []
    },
    {
      "cell_type": "markdown",
      "metadata": {
        "id": "I7NBaCt--2HK"
      },
      "source": [
        "Second set of unlabeled data "
      ]
    },
    {
      "cell_type": "code",
      "metadata": {
        "id": "d8BWcEGe-1Eu"
      },
      "source": [
        "x_un2 = tfidf_vect.transform(unlabel_2['text'])\n"
      ],
      "execution_count": null,
      "outputs": []
    },
    {
      "cell_type": "code",
      "metadata": {
        "id": "xoo80lu4Blug",
        "colab": {
          "base_uri": "https://localhost:8080/"
        },
        "outputId": "cc6a79f3-065a-453f-9b32-54f836b37163"
      },
      "source": [
        "\n",
        "pred_unlabel_2 = classifier_1.predict_proba(x_un2)\n",
        "pred_unlabel_2"
      ],
      "execution_count": null,
      "outputs": [
        {
          "output_type": "execute_result",
          "data": {
            "text/plain": [
              "array([[0.19166667, 0.45833333, 0.235     , 0.105     , 0.        ,\n",
              "        0.01      ],\n",
              "       [0.04      , 0.06      , 0.2       , 0.08      , 0.27      ,\n",
              "        0.35      ],\n",
              "       [0.06      , 0.06      , 0.5       , 0.3       , 0.01      ,\n",
              "        0.07      ],\n",
              "       ...,\n",
              "       [0.01      , 0.        , 0.79      , 0.18      , 0.        ,\n",
              "        0.02      ],\n",
              "       [0.06      , 0.04      , 0.64      , 0.23      , 0.        ,\n",
              "        0.03      ],\n",
              "       [0.01      , 0.        , 0.99      , 0.        , 0.        ,\n",
              "        0.        ]])"
            ]
          },
          "metadata": {
            "tags": []
          },
          "execution_count": 70
        }
      ]
    },
    {
      "cell_type": "code",
      "metadata": {
        "id": "zXnOCoCCB8hM",
        "colab": {
          "base_uri": "https://localhost:8080/"
        },
        "outputId": "98fb3328-3614-497f-e9ce-036eb7ab1760"
      },
      "source": [
        "print(len(pred_unlabel_2))\n",
        "print(np.unique(pred_unlabel_2))"
      ],
      "execution_count": null,
      "outputs": [
        {
          "output_type": "stream",
          "text": [
            "100000\n",
            "[0.         0.00285714 0.00333333 ... 0.98       0.99       1.        ]\n"
          ],
          "name": "stdout"
        }
      ]
    },
    {
      "cell_type": "code",
      "metadata": {
        "id": "8n23pWivB8qi",
        "colab": {
          "base_uri": "https://localhost:8080/"
        },
        "outputId": "fbc5d98f-d4b9-4d5a-8064-e29f2c7b4fde"
      },
      "source": [
        "import numpy as np\n",
        "pos=[]\n",
        "large=[]\n",
        "ind = []\n",
        "i=0\n",
        "for j in pred_unlabel_2:\n",
        "  if max(j)> Threshold:\n",
        "    ind.append(np.argmax(j))\n",
        "    large.append(max(j))\n",
        "    pos.append(i)\n",
        "  i+=1\n",
        "\n",
        "\n",
        "print(ind)\n",
        "print(large)\n",
        "print(pos)\n",
        "print(type(pos))\n",
        "print(len(ind))\n",
        "print(len(large))\n",
        "print(len(pos))"
      ],
      "execution_count": null,
      "outputs": [
        {
          "output_type": "stream",
          "text": [
            "[2, 2, 2, 1, 2, 1, 2, 1, 1, 2, 2, 1, 1, 2, 1, 2, 1, 1, 2, 2, 2, 2, 2, 1, 2, 2, 1, 1, 2, 2, 1, 1, 1, 3, 2, 1, 2, 2, 2, 2, 2, 2, 1, 2, 1, 2, 2, 2, 1, 2, 2, 2, 1, 2, 1, 2, 2, 2, 1, 2, 2, 2, 1, 2, 2, 2, 2, 1, 1, 1, 2, 2, 2, 1, 2, 2, 2, 2, 2, 2, 2, 2, 1, 2, 1, 2, 1, 2, 1, 2, 2, 2, 1, 2, 2, 2, 2, 2, 2, 1, 2, 2, 2, 1, 2, 1, 2, 2, 1, 2, 1, 1, 2, 2, 2, 2, 2, 3, 2, 2, 1, 2, 2, 2, 2, 2, 2, 2, 2, 2, 2, 2, 1, 1, 1, 1, 2, 2, 2, 2, 2, 2, 1, 2, 1, 2, 2, 2, 2, 1, 2, 2, 1, 2, 1, 2, 1, 1, 2, 2, 2, 2, 2, 1, 1, 1, 1, 2, 2, 1, 1, 1, 2, 1, 1, 2, 2, 1, 2, 2, 1, 1, 2, 1, 2, 2, 2, 2, 1, 2, 2, 1, 1, 2, 2, 2, 2, 1, 2]\n",
            "[1.0, 1.0, 0.99, 1.0, 1.0, 1.0, 1.0, 1.0, 1.0, 1.0, 0.99, 1.0, 1.0, 0.99, 1.0, 0.99, 1.0, 1.0, 1.0, 0.99, 1.0, 1.0, 1.0, 1.0, 0.99, 0.99, 1.0, 1.0, 0.99, 0.99, 1.0, 1.0, 1.0, 1.0, 0.99, 1.0, 0.99, 0.99, 0.99, 1.0, 0.99, 1.0, 1.0, 0.99, 1.0, 1.0, 1.0, 1.0, 1.0, 1.0, 0.99, 0.99, 1.0, 0.99, 1.0, 0.99, 0.99, 1.0, 1.0, 0.99, 1.0, 1.0, 1.0, 0.99, 0.99, 1.0, 1.0, 1.0, 1.0, 1.0, 1.0, 1.0, 1.0, 1.0, 1.0, 0.99, 0.99, 1.0, 0.99, 1.0, 1.0, 1.0, 1.0, 1.0, 1.0, 0.99, 1.0, 0.99, 1.0, 0.99, 1.0, 0.99, 1.0, 1.0, 0.99, 0.99, 0.99, 0.99, 0.99, 1.0, 1.0, 0.99, 0.99, 1.0, 0.99, 1.0, 1.0, 1.0, 1.0, 0.99, 1.0, 1.0, 0.99, 1.0, 0.99, 0.99, 0.99, 0.99, 1.0, 1.0, 1.0, 1.0, 0.99, 1.0, 0.99, 1.0, 0.99, 0.99, 0.99, 1.0, 0.99, 0.99, 1.0, 1.0, 1.0, 1.0, 1.0, 1.0, 0.99, 1.0, 0.99, 1.0, 1.0, 0.99, 1.0, 0.99, 0.99, 0.99, 1.0, 1.0, 1.0, 0.99, 1.0, 0.99, 1.0, 1.0, 1.0, 1.0, 1.0, 1.0, 0.99, 1.0, 0.99, 1.0, 1.0, 1.0, 1.0, 0.99, 0.99, 1.0, 1.0, 1.0, 1.0, 1.0, 1.0, 0.99, 0.99, 1.0, 1.0, 0.99, 1.0, 1.0, 0.99, 1.0, 0.99, 0.99, 0.99, 1.0, 1.0, 1.0, 0.99, 1.0, 1.0, 0.99, 1.0, 0.99, 1.0, 1.0, 0.99]\n",
            "[944, 1100, 1219, 1757, 2509, 2796, 3415, 3554, 3709, 3864, 4034, 4800, 4834, 5192, 6103, 6486, 6565, 6916, 7054, 8691, 8711, 8904, 9092, 9475, 9803, 9806, 10499, 10886, 10891, 11006, 12069, 12507, 12534, 13217, 13454, 13466, 13515, 13859, 14618, 15296, 15659, 15849, 16094, 16261, 16904, 17026, 17268, 17959, 18591, 19126, 19195, 19210, 19936, 20268, 20284, 20806, 21007, 21268, 22242, 22805, 22813, 22820, 23252, 23545, 23709, 23711, 24024, 24272, 24368, 25170, 26077, 26391, 26713, 27325, 27489, 28024, 30918, 31568, 31594, 32290, 32715, 34874, 35101, 35224, 35502, 35662, 35937, 36995, 37045, 38367, 39024, 40680, 40756, 41403, 41497, 41499, 41925, 42225, 42386, 43405, 44121, 44549, 44651, 45277, 46153, 47139, 47891, 47894, 48132, 48649, 48845, 49061, 49915, 50548, 51294, 51842, 52648, 53143, 56063, 56673, 56722, 57655, 58208, 58788, 59921, 59922, 59924, 60086, 63000, 63358, 64092, 64536, 64593, 64867, 65104, 65396, 65498, 65526, 65654, 65874, 65983, 66263, 66578, 66882, 67623, 67670, 67974, 68044, 68336, 69327, 70223, 71012, 71239, 71512, 71698, 71704, 71731, 71783, 72447, 72887, 72894, 72904, 73120, 73842, 75421, 76200, 77063, 77717, 79525, 79532, 79681, 81852, 82248, 82505, 83450, 84025, 84207, 84867, 86798, 87625, 88416, 89440, 89909, 90180, 90615, 90710, 91806, 91941, 94841, 95204, 96174, 96255, 97266, 97300, 98631, 98896, 98903, 99019, 99999]\n",
            "<class 'list'>\n",
            "199\n",
            "199\n",
            "199\n"
          ],
          "name": "stdout"
        }
      ]
    },
    {
      "cell_type": "code",
      "metadata": {
        "id": "KDxAqv3YCYzy",
        "colab": {
          "base_uri": "https://localhost:8080/",
          "height": 221
        },
        "outputId": "d2ef7052-e2ac-4a57-8bb0-55cd83100682"
      },
      "source": [
        "unlabel_2 = unlabel_2.loc[pos,:]\n",
        "print(len(unlabel_2))\n",
        "unlabel_2.head()"
      ],
      "execution_count": null,
      "outputs": [
        {
          "output_type": "stream",
          "text": [
            "199\n"
          ],
          "name": "stdout"
        },
        {
          "output_type": "execute_result",
          "data": {
            "text/html": [
              "<div>\n",
              "<style scoped>\n",
              "    .dataframe tbody tr th:only-of-type {\n",
              "        vertical-align: middle;\n",
              "    }\n",
              "\n",
              "    .dataframe tbody tr th {\n",
              "        vertical-align: top;\n",
              "    }\n",
              "\n",
              "    .dataframe thead th {\n",
              "        text-align: right;\n",
              "    }\n",
              "</style>\n",
              "<table border=\"1\" class=\"dataframe\">\n",
              "  <thead>\n",
              "    <tr style=\"text-align: right;\">\n",
              "      <th></th>\n",
              "      <th>text</th>\n",
              "    </tr>\n",
              "  </thead>\n",
              "  <tbody>\n",
              "    <tr>\n",
              "      <th>944</th>\n",
              "      <td>isaac allen went appellant told wanted get whi...</td>\n",
              "    </tr>\n",
              "    <tr>\n",
              "      <th>1100</th>\n",
              "      <td>appellant left hotel went garage vicinity stat...</td>\n",
              "    </tr>\n",
              "    <tr>\n",
              "      <th>1219</th>\n",
              "      <td>waiting deceased went adjoining room got pisto...</td>\n",
              "    </tr>\n",
              "    <tr>\n",
              "      <th>1757</th>\n",
              "      <td>error pointed judgment reversed cause remanded</td>\n",
              "    </tr>\n",
              "    <tr>\n",
              "      <th>2509</th>\n",
              "      <td>witness smith testified left picture show nigh...</td>\n",
              "    </tr>\n",
              "  </tbody>\n",
              "</table>\n",
              "</div>"
            ],
            "text/plain": [
              "                                                   text\n",
              "944   isaac allen went appellant told wanted get whi...\n",
              "1100  appellant left hotel went garage vicinity stat...\n",
              "1219  waiting deceased went adjoining room got pisto...\n",
              "1757     error pointed judgment reversed cause remanded\n",
              "2509  witness smith testified left picture show nigh..."
            ]
          },
          "metadata": {
            "tags": []
          },
          "execution_count": 73
        }
      ]
    },
    {
      "cell_type": "code",
      "metadata": {
        "id": "OX8L6__RC1Bj"
      },
      "source": [
        "class_x_un2 = tfidf_vect.transform(unlabel_2['text'])"
      ],
      "execution_count": null,
      "outputs": []
    },
    {
      "cell_type": "code",
      "metadata": {
        "id": "6O2NyGzTC6aX",
        "colab": {
          "base_uri": "https://localhost:8080/"
        },
        "outputId": "95cb8f2a-874e-4114-d75e-2006681a008e"
      },
      "source": [
        "class_x_un1.shape"
      ],
      "execution_count": null,
      "outputs": [
        {
          "output_type": "execute_result",
          "data": {
            "text/plain": [
              "(58, 6383)"
            ]
          },
          "metadata": {
            "tags": []
          },
          "execution_count": 75
        }
      ]
    },
    {
      "cell_type": "code",
      "metadata": {
        "id": "iw4ROFmeC_Tf",
        "colab": {
          "base_uri": "https://localhost:8080/"
        },
        "outputId": "1e2310fe-a3ec-4c34-be5c-f4db06a70fcf"
      },
      "source": [
        "class_pred_unlabel_2 = classifier_1.predict(class_x_un2)\n",
        "class_pred_unlabel_2"
      ],
      "execution_count": null,
      "outputs": [
        {
          "output_type": "execute_result",
          "data": {
            "text/plain": [
              "array(['Facts', 'Facts', 'Facts', 'Conclusion', 'Facts', 'Conclusion',\n",
              "       'Facts', 'Conclusion', 'Conclusion', 'Facts', 'Facts',\n",
              "       'Conclusion', 'Conclusion', 'Facts', 'Conclusion', 'Facts',\n",
              "       'Conclusion', 'Conclusion', 'Facts', 'Facts', 'Facts', 'Facts',\n",
              "       'Facts', 'Conclusion', 'Facts', 'Facts', 'Conclusion',\n",
              "       'Conclusion', 'Facts', 'Facts', 'Conclusion', 'Conclusion',\n",
              "       'Conclusion', 'Invalid', 'Facts', 'Conclusion', 'Facts', 'Facts',\n",
              "       'Facts', 'Facts', 'Facts', 'Facts', 'Conclusion', 'Facts',\n",
              "       'Conclusion', 'Facts', 'Facts', 'Facts', 'Conclusion', 'Facts',\n",
              "       'Facts', 'Facts', 'Conclusion', 'Facts', 'Conclusion', 'Facts',\n",
              "       'Facts', 'Facts', 'Conclusion', 'Facts', 'Facts', 'Facts',\n",
              "       'Conclusion', 'Facts', 'Facts', 'Facts', 'Facts', 'Conclusion',\n",
              "       'Conclusion', 'Conclusion', 'Facts', 'Facts', 'Facts',\n",
              "       'Conclusion', 'Facts', 'Facts', 'Facts', 'Facts', 'Facts', 'Facts',\n",
              "       'Facts', 'Facts', 'Conclusion', 'Facts', 'Conclusion', 'Facts',\n",
              "       'Conclusion', 'Facts', 'Conclusion', 'Facts', 'Facts', 'Facts',\n",
              "       'Conclusion', 'Facts', 'Facts', 'Facts', 'Facts', 'Facts', 'Facts',\n",
              "       'Conclusion', 'Facts', 'Facts', 'Facts', 'Conclusion', 'Facts',\n",
              "       'Conclusion', 'Facts', 'Facts', 'Conclusion', 'Facts',\n",
              "       'Conclusion', 'Conclusion', 'Facts', 'Facts', 'Facts', 'Facts',\n",
              "       'Facts', 'Invalid', 'Facts', 'Facts', 'Conclusion', 'Facts',\n",
              "       'Facts', 'Facts', 'Facts', 'Facts', 'Facts', 'Facts', 'Facts',\n",
              "       'Facts', 'Facts', 'Facts', 'Conclusion', 'Conclusion',\n",
              "       'Conclusion', 'Conclusion', 'Facts', 'Facts', 'Facts', 'Facts',\n",
              "       'Facts', 'Facts', 'Conclusion', 'Facts', 'Conclusion', 'Facts',\n",
              "       'Facts', 'Facts', 'Facts', 'Conclusion', 'Facts', 'Facts',\n",
              "       'Conclusion', 'Facts', 'Conclusion', 'Facts', 'Conclusion',\n",
              "       'Conclusion', 'Facts', 'Facts', 'Facts', 'Facts', 'Facts',\n",
              "       'Conclusion', 'Conclusion', 'Conclusion', 'Conclusion', 'Facts',\n",
              "       'Facts', 'Conclusion', 'Conclusion', 'Conclusion', 'Facts',\n",
              "       'Conclusion', 'Conclusion', 'Facts', 'Facts', 'Conclusion',\n",
              "       'Facts', 'Facts', 'Conclusion', 'Conclusion', 'Facts',\n",
              "       'Conclusion', 'Facts', 'Facts', 'Facts', 'Facts', 'Conclusion',\n",
              "       'Facts', 'Facts', 'Conclusion', 'Conclusion', 'Facts', 'Facts',\n",
              "       'Facts', 'Facts', 'Conclusion', 'Facts'], dtype=object)"
            ]
          },
          "metadata": {
            "tags": []
          },
          "execution_count": 76
        }
      ]
    },
    {
      "cell_type": "code",
      "metadata": {
        "id": "-c4pzr8-DGip",
        "colab": {
          "base_uri": "https://localhost:8080/"
        },
        "outputId": "8fed612f-5531-442b-8dba-17b9d7fb2a09"
      },
      "source": [
        "print(len(class_pred_unlabel_2))"
      ],
      "execution_count": null,
      "outputs": [
        {
          "output_type": "stream",
          "text": [
            "199\n"
          ],
          "name": "stdout"
        }
      ]
    },
    {
      "cell_type": "code",
      "metadata": {
        "id": "cwnBPztaDK6e",
        "colab": {
          "base_uri": "https://localhost:8080/",
          "height": 204
        },
        "outputId": "96281440-83a5-4345-c50d-133048158bd2"
      },
      "source": [
        "unlabel_2['Target']=class_pred_unlabel_2\n",
        "unlabel_2.head()"
      ],
      "execution_count": null,
      "outputs": [
        {
          "output_type": "execute_result",
          "data": {
            "text/html": [
              "<div>\n",
              "<style scoped>\n",
              "    .dataframe tbody tr th:only-of-type {\n",
              "        vertical-align: middle;\n",
              "    }\n",
              "\n",
              "    .dataframe tbody tr th {\n",
              "        vertical-align: top;\n",
              "    }\n",
              "\n",
              "    .dataframe thead th {\n",
              "        text-align: right;\n",
              "    }\n",
              "</style>\n",
              "<table border=\"1\" class=\"dataframe\">\n",
              "  <thead>\n",
              "    <tr style=\"text-align: right;\">\n",
              "      <th></th>\n",
              "      <th>text</th>\n",
              "      <th>Target</th>\n",
              "    </tr>\n",
              "  </thead>\n",
              "  <tbody>\n",
              "    <tr>\n",
              "      <th>944</th>\n",
              "      <td>isaac allen went appellant told wanted get whi...</td>\n",
              "      <td>Facts</td>\n",
              "    </tr>\n",
              "    <tr>\n",
              "      <th>1100</th>\n",
              "      <td>appellant left hotel went garage vicinity stat...</td>\n",
              "      <td>Facts</td>\n",
              "    </tr>\n",
              "    <tr>\n",
              "      <th>1219</th>\n",
              "      <td>waiting deceased went adjoining room got pisto...</td>\n",
              "      <td>Facts</td>\n",
              "    </tr>\n",
              "    <tr>\n",
              "      <th>1757</th>\n",
              "      <td>error pointed judgment reversed cause remanded</td>\n",
              "      <td>Conclusion</td>\n",
              "    </tr>\n",
              "    <tr>\n",
              "      <th>2509</th>\n",
              "      <td>witness smith testified left picture show nigh...</td>\n",
              "      <td>Facts</td>\n",
              "    </tr>\n",
              "  </tbody>\n",
              "</table>\n",
              "</div>"
            ],
            "text/plain": [
              "                                                   text      Target\n",
              "944   isaac allen went appellant told wanted get whi...       Facts\n",
              "1100  appellant left hotel went garage vicinity stat...       Facts\n",
              "1219  waiting deceased went adjoining room got pisto...       Facts\n",
              "1757     error pointed judgment reversed cause remanded  Conclusion\n",
              "2509  witness smith testified left picture show nigh...       Facts"
            ]
          },
          "metadata": {
            "tags": []
          },
          "execution_count": 78
        }
      ]
    },
    {
      "cell_type": "code",
      "metadata": {
        "id": "RLOEKUSkDbK9",
        "colab": {
          "base_uri": "https://localhost:8080/",
          "height": 204
        },
        "outputId": "e4e7a924-1c23-4c55-d4d7-c46a5402b60f"
      },
      "source": [
        "train_1.head()"
      ],
      "execution_count": null,
      "outputs": [
        {
          "output_type": "execute_result",
          "data": {
            "text/html": [
              "<div>\n",
              "<style scoped>\n",
              "    .dataframe tbody tr th:only-of-type {\n",
              "        vertical-align: middle;\n",
              "    }\n",
              "\n",
              "    .dataframe tbody tr th {\n",
              "        vertical-align: top;\n",
              "    }\n",
              "\n",
              "    .dataframe thead th {\n",
              "        text-align: right;\n",
              "    }\n",
              "</style>\n",
              "<table border=\"1\" class=\"dataframe\">\n",
              "  <thead>\n",
              "    <tr style=\"text-align: right;\">\n",
              "      <th></th>\n",
              "      <th>Unnamed: 0</th>\n",
              "      <th>text</th>\n",
              "      <th>Target</th>\n",
              "    </tr>\n",
              "  </thead>\n",
              "  <tbody>\n",
              "    <tr>\n",
              "      <th>0</th>\n",
              "      <td>659.0</td>\n",
              "      <td>Appellant had stated to the officers that she ...</td>\n",
              "      <td>Invalid</td>\n",
              "    </tr>\n",
              "    <tr>\n",
              "      <th>1</th>\n",
              "      <td>3456.0</td>\n",
              "      <td>We shall discuss the facts more fully in conne...</td>\n",
              "      <td>Invalid</td>\n",
              "    </tr>\n",
              "    <tr>\n",
              "      <th>2</th>\n",
              "      <td>2043.0</td>\n",
              "      <td>â€œPerjury is a false statement, either writte...</td>\n",
              "      <td>Invalid</td>\n",
              "    </tr>\n",
              "    <tr>\n",
              "      <th>3</th>\n",
              "      <td>3344.0</td>\n",
              "      <td>The offense is felony theft by false pretext; ...</td>\n",
              "      <td>Issue</td>\n",
              "    </tr>\n",
              "    <tr>\n",
              "      <th>4</th>\n",
              "      <td>3231.0</td>\n",
              "      <td>Numerous contentions urging the commission of ...</td>\n",
              "      <td>Issue</td>\n",
              "    </tr>\n",
              "  </tbody>\n",
              "</table>\n",
              "</div>"
            ],
            "text/plain": [
              "   Unnamed: 0                                               text   Target\n",
              "0       659.0  Appellant had stated to the officers that she ...  Invalid\n",
              "1      3456.0  We shall discuss the facts more fully in conne...  Invalid\n",
              "2      2043.0  â€œPerjury is a false statement, either writte...  Invalid\n",
              "3      3344.0  The offense is felony theft by false pretext; ...    Issue\n",
              "4      3231.0  Numerous contentions urging the commission of ...    Issue"
            ]
          },
          "metadata": {
            "tags": []
          },
          "execution_count": 79
        }
      ]
    },
    {
      "cell_type": "code",
      "metadata": {
        "id": "wLHnOPItD0fP",
        "colab": {
          "base_uri": "https://localhost:8080/"
        },
        "outputId": "a58f48dd-16dd-4242-e7f1-be7d6f9b9c82"
      },
      "source": [
        "frame_2 = [train_1,unlabel_2]\n",
        "train_2 = pd.concat(frame_2)\n",
        "print(len(train_1))\n",
        "print(len(unlabel_2))\n",
        "print(len(train_2))"
      ],
      "execution_count": null,
      "outputs": [
        {
          "output_type": "stream",
          "text": [
            "3534\n",
            "199\n",
            "3733\n"
          ],
          "name": "stdout"
        }
      ]
    },
    {
      "cell_type": "code",
      "metadata": {
        "id": "FoOkIwhkECw6",
        "colab": {
          "base_uri": "https://localhost:8080/",
          "height": 419
        },
        "outputId": "5b6ce83d-447a-4907-d61f-580145f866de"
      },
      "source": [
        "train_2"
      ],
      "execution_count": null,
      "outputs": [
        {
          "output_type": "execute_result",
          "data": {
            "text/html": [
              "<div>\n",
              "<style scoped>\n",
              "    .dataframe tbody tr th:only-of-type {\n",
              "        vertical-align: middle;\n",
              "    }\n",
              "\n",
              "    .dataframe tbody tr th {\n",
              "        vertical-align: top;\n",
              "    }\n",
              "\n",
              "    .dataframe thead th {\n",
              "        text-align: right;\n",
              "    }\n",
              "</style>\n",
              "<table border=\"1\" class=\"dataframe\">\n",
              "  <thead>\n",
              "    <tr style=\"text-align: right;\">\n",
              "      <th></th>\n",
              "      <th>Unnamed: 0</th>\n",
              "      <th>text</th>\n",
              "      <th>Target</th>\n",
              "    </tr>\n",
              "  </thead>\n",
              "  <tbody>\n",
              "    <tr>\n",
              "      <th>0</th>\n",
              "      <td>659.0</td>\n",
              "      <td>Appellant had stated to the officers that she ...</td>\n",
              "      <td>Invalid</td>\n",
              "    </tr>\n",
              "    <tr>\n",
              "      <th>1</th>\n",
              "      <td>3456.0</td>\n",
              "      <td>We shall discuss the facts more fully in conne...</td>\n",
              "      <td>Invalid</td>\n",
              "    </tr>\n",
              "    <tr>\n",
              "      <th>2</th>\n",
              "      <td>2043.0</td>\n",
              "      <td>â€œPerjury is a false statement, either writte...</td>\n",
              "      <td>Invalid</td>\n",
              "    </tr>\n",
              "    <tr>\n",
              "      <th>3</th>\n",
              "      <td>3344.0</td>\n",
              "      <td>The offense is felony theft by false pretext; ...</td>\n",
              "      <td>Issue</td>\n",
              "    </tr>\n",
              "    <tr>\n",
              "      <th>4</th>\n",
              "      <td>3231.0</td>\n",
              "      <td>Numerous contentions urging the commission of ...</td>\n",
              "      <td>Issue</td>\n",
              "    </tr>\n",
              "    <tr>\n",
              "      <th>...</th>\n",
              "      <td>...</td>\n",
              "      <td>...</td>\n",
              "      <td>...</td>\n",
              "    </tr>\n",
              "    <tr>\n",
              "      <th>98631</th>\n",
              "      <td>NaN</td>\n",
              "      <td>appellant testify offer evidence behalf</td>\n",
              "      <td>Facts</td>\n",
              "    </tr>\n",
              "    <tr>\n",
              "      <th>98896</th>\n",
              "      <td>NaN</td>\n",
              "      <td>complainant companion testified arranged visit...</td>\n",
              "      <td>Facts</td>\n",
              "    </tr>\n",
              "    <tr>\n",
              "      <th>98903</th>\n",
              "      <td>NaN</td>\n",
              "      <td>appellant testify offer evidence behalf</td>\n",
              "      <td>Facts</td>\n",
              "    </tr>\n",
              "    <tr>\n",
              "      <th>99019</th>\n",
              "      <td>NaN</td>\n",
              "      <td>error pointed judgment reversed cause remanded</td>\n",
              "      <td>Conclusion</td>\n",
              "    </tr>\n",
              "    <tr>\n",
              "      <th>99999</th>\n",
              "      <td>NaN</td>\n",
              "      <td>210 appellant seen officer fillyaw block half ...</td>\n",
              "      <td>Facts</td>\n",
              "    </tr>\n",
              "  </tbody>\n",
              "</table>\n",
              "<p>3733 rows × 3 columns</p>\n",
              "</div>"
            ],
            "text/plain": [
              "       Unnamed: 0  ...      Target\n",
              "0           659.0  ...     Invalid\n",
              "1          3456.0  ...     Invalid\n",
              "2          2043.0  ...     Invalid\n",
              "3          3344.0  ...       Issue\n",
              "4          3231.0  ...       Issue\n",
              "...           ...  ...         ...\n",
              "98631         NaN  ...       Facts\n",
              "98896         NaN  ...       Facts\n",
              "98903         NaN  ...       Facts\n",
              "99019         NaN  ...  Conclusion\n",
              "99999         NaN  ...       Facts\n",
              "\n",
              "[3733 rows x 3 columns]"
            ]
          },
          "metadata": {
            "tags": []
          },
          "execution_count": 81
        }
      ]
    },
    {
      "cell_type": "code",
      "metadata": {
        "id": "IlY1RWWOEHO1",
        "colab": {
          "base_uri": "https://localhost:8080/"
        },
        "outputId": "6e51ff81-4a55-4a82-9e7b-8064c0c92e1f"
      },
      "source": [
        "from sklearn.metrics import classification_report\n",
        "x_train_2 = tfidf_vect.transform(train_2['text'])\n",
        "x_train_2.shape\n",
        "X_train, x_val, Y_train, y_val = train_test_split(x_train_2,train_2['Target'],test_size=0.25,random_state=2)\n",
        "classifier_2 = RandomForestClassifier(n_estimators = 100, criterion = 'gini', random_state = 42)\n",
        "classifier_2.fit(X_train, Y_train)\n",
        "y_pred = classifier_2.predict(x_val)\n",
        "print(np.unique(y_pred))\n",
        "print(type(y_pred))\n",
        "\n",
        "\n",
        "Accuracy_score = accuracy_score(y_pred,y_val)\n",
        "\n",
        "print('Validation ------- Accuracy_score: %f' % Accuracy_score)\n",
        "\n",
        "test_pred = classifier_2.predict(t_p)\n",
        "acc_test = accuracy_score(test_pred,test['Target'])\n",
        "print('Test ------Accuracy score ', acc_test)\n",
        "matrix = confusion_matrix(y_pred, y_val)\n",
        "print(matrix)\n",
        "print(\"---------validation--------------\")\n",
        "print(classification_report(y_val,y_pred))\n",
        "print(\"----------test---------------------\")\n",
        "print(classification_report(test['Target'],test_pred))"
      ],
      "execution_count": null,
      "outputs": [
        {
          "output_type": "stream",
          "text": [
            "['Analysis' 'Conclusion' 'Facts' 'Invalid' 'Issue' 'Rule/Law/Holding']\n",
            "<class 'numpy.ndarray'>\n",
            "Validation ------- Accuracy_score: 0.665953\n",
            "Test ------Accuracy score  0.6046065259117083\n",
            "[[ 33   5   9   6   2   4]\n",
            " [  5  51   1   3   0   0]\n",
            " [ 79  13 422  60  22  24]\n",
            " [ 13   5  37  80   1  13]\n",
            " [  0   1   2   1  21   0]\n",
            " [  0   0   0   1   5  15]]\n",
            "---------validation--------------\n",
            "                  precision    recall  f1-score   support\n",
            "\n",
            "        Analysis       0.56      0.25      0.35       130\n",
            "      Conclusion       0.85      0.68      0.76        75\n",
            "           Facts       0.68      0.90      0.77       471\n",
            "         Invalid       0.54      0.53      0.53       151\n",
            "           Issue       0.84      0.41      0.55        51\n",
            "Rule/Law/Holding       0.71      0.27      0.39        56\n",
            "\n",
            "        accuracy                           0.67       934\n",
            "       macro avg       0.70      0.51      0.56       934\n",
            "    weighted avg       0.66      0.67      0.64       934\n",
            "\n",
            "----------test---------------------\n",
            "                  precision    recall  f1-score   support\n",
            "\n",
            "        Analysis       0.53      0.23      0.32        77\n",
            "      Conclusion       0.68      0.50      0.58        26\n",
            "           Facts       0.65      0.84      0.73       267\n",
            "         Invalid       0.46      0.53      0.49        83\n",
            "           Issue       0.75      0.18      0.29        34\n",
            "Rule/Law/Holding       0.56      0.26      0.36        34\n",
            "\n",
            "        accuracy                           0.60       521\n",
            "       macro avg       0.61      0.42      0.46       521\n",
            "    weighted avg       0.60      0.60      0.57       521\n",
            "\n"
          ],
          "name": "stdout"
        }
      ]
    },
    {
      "cell_type": "code",
      "metadata": {
        "id": "AKg_k1iKIBKE"
      },
      "source": [
        ""
      ],
      "execution_count": null,
      "outputs": []
    },
    {
      "cell_type": "markdown",
      "metadata": {
        "id": "dR4DnCyJIMFg"
      },
      "source": [
        "Unlabelled 3:"
      ]
    },
    {
      "cell_type": "code",
      "metadata": {
        "id": "harCGxx3IBZI"
      },
      "source": [
        "x_un3 = tfidf_vect.transform(unlabel_3['text'])\n"
      ],
      "execution_count": null,
      "outputs": []
    },
    {
      "cell_type": "code",
      "metadata": {
        "id": "SrGPc31TIBmq",
        "colab": {
          "base_uri": "https://localhost:8080/"
        },
        "outputId": "5c95c9ae-513d-4394-bc08-98519e9aa625"
      },
      "source": [
        "\n",
        "pred_unlabel_3 = classifier_2.predict_proba(x_un3)\n",
        "pred_unlabel_3"
      ],
      "execution_count": null,
      "outputs": [
        {
          "output_type": "execute_result",
          "data": {
            "text/plain": [
              "array([[0.        , 0.        , 0.78      , 0.2       , 0.01      ,\n",
              "        0.01      ],\n",
              "       [0.        , 0.        , 0.53      , 0.47      , 0.        ,\n",
              "        0.        ],\n",
              "       [0.02      , 0.        , 0.97      , 0.        , 0.        ,\n",
              "        0.01      ],\n",
              "       ...,\n",
              "       [0.04      , 0.02      , 0.6       , 0.02      , 0.11      ,\n",
              "        0.21      ],\n",
              "       [0.07      , 0.03      , 0.78083333, 0.07916667, 0.02      ,\n",
              "        0.02      ],\n",
              "       [0.04      , 0.01      , 0.26      , 0.64      , 0.01      ,\n",
              "        0.04      ]])"
            ]
          },
          "metadata": {
            "tags": []
          },
          "execution_count": 84
        }
      ]
    },
    {
      "cell_type": "code",
      "metadata": {
        "id": "JJ9aIZNSI1TV",
        "colab": {
          "base_uri": "https://localhost:8080/"
        },
        "outputId": "a62d8ee2-dd5e-409c-d980-dff9cd880e80"
      },
      "source": [
        "print(len(pred_unlabel_2))\n",
        "print(np.unique(pred_unlabel_2))"
      ],
      "execution_count": null,
      "outputs": [
        {
          "output_type": "stream",
          "text": [
            "100000\n",
            "[0.         0.00285714 0.00333333 ... 0.98       0.99       1.        ]\n"
          ],
          "name": "stdout"
        }
      ]
    },
    {
      "cell_type": "code",
      "metadata": {
        "id": "J5HqbTZLI7iO",
        "colab": {
          "base_uri": "https://localhost:8080/"
        },
        "outputId": "c7019530-afd0-4252-977d-f010ca0fd5ea"
      },
      "source": [
        "import numpy as np\n",
        "pos=[]\n",
        "large=[]\n",
        "ind = []\n",
        "i=0\n",
        "for j in pred_unlabel_3:\n",
        "  if max(j)> Threshold:\n",
        "    ind.append(np.argmax(j))\n",
        "    large.append(max(j))\n",
        "    pos.append(i)\n",
        "  i+=1\n",
        "\n",
        "\n",
        "print(ind)\n",
        "print(large)\n",
        "print(pos)\n",
        "print(type(pos))\n",
        "print(len(ind))\n",
        "print(len(large))\n",
        "print(len(pos))"
      ],
      "execution_count": null,
      "outputs": [
        {
          "output_type": "stream",
          "text": [
            "[1, 2, 2, 2, 2, 2, 2, 1, 2, 2, 2, 2, 2, 2, 2, 2, 2, 2, 2, 2, 2, 2, 1, 1, 2, 1, 2, 2, 2, 2, 2, 1, 2, 2, 2, 2, 2, 2, 2, 1, 2, 2, 2, 2, 1, 2, 2, 2, 2, 2, 2, 2, 1, 2, 2, 2, 2, 2, 2, 2, 2, 2, 2, 2, 2, 2, 2, 2, 2, 2, 2, 2, 2, 2, 2, 2, 2, 2, 2, 2, 2, 2, 2, 2, 1, 2, 2, 1, 2, 2, 2, 2, 2, 1, 2, 2, 2, 2, 2, 1, 2, 2, 2, 2, 2, 2, 2, 1, 2, 2, 1, 2, 2, 2, 2, 2, 2, 2, 2, 2, 1, 2, 2, 2, 2, 1, 1, 1, 2, 2, 1, 2, 2, 2, 2, 2, 2, 1, 2, 2, 2, 1, 2, 2, 2, 1, 1, 2, 2, 2, 2, 1, 2, 2, 2, 2, 2, 1, 2, 2, 2, 2, 2, 2, 2, 2, 1, 2, 2, 1, 1, 2, 1, 2, 1, 2, 1, 1, 2, 2, 2, 2, 2, 1, 2, 2, 2, 1, 1, 2, 2, 2, 2, 2, 2, 2, 2, 2, 2, 2, 1, 2, 2, 2, 1, 2, 1, 2, 2, 2, 2, 2, 2, 2, 2, 2, 2, 2, 2, 2, 2, 2, 2, 2, 2, 2, 1, 2, 2, 2, 2, 2, 1, 2, 2, 2, 2, 1, 2, 2, 2, 2, 2, 1, 2, 2, 2, 2, 2, 2, 2, 1, 1, 2, 2, 2, 2, 2, 2, 2, 2, 2, 2, 2, 1, 2, 1]\n",
            "[1.0, 0.99, 1.0, 1.0, 0.99, 0.99, 1.0, 1.0, 0.99, 0.99, 1.0, 0.99, 0.99, 1.0, 0.99, 0.99, 1.0, 1.0, 1.0, 0.99, 0.99, 0.99, 1.0, 1.0, 0.99, 1.0, 0.99, 0.99, 1.0, 0.99, 0.99, 1.0, 1.0, 1.0, 0.99, 0.99, 0.99, 0.99, 1.0, 1.0, 0.99, 0.99, 1.0, 0.99, 1.0, 0.99, 0.99, 1.0, 1.0, 0.99, 0.99, 0.99, 1.0, 0.99, 0.99, 0.99, 1.0, 0.99, 0.99, 0.99, 0.99, 0.99, 0.99, 0.99, 0.99, 1.0, 1.0, 0.99, 0.99, 0.99, 0.99, 0.99, 0.99, 0.99, 0.99, 0.99, 0.99, 0.99, 0.99, 1.0, 0.99, 1.0, 0.99, 1.0, 1.0, 1.0, 0.99, 1.0, 1.0, 1.0, 0.99, 0.99, 1.0, 1.0, 1.0, 0.99, 0.99, 1.0, 0.99, 1.0, 0.99, 1.0, 1.0, 0.99, 1.0, 0.99, 0.99, 1.0, 0.99, 1.0, 1.0, 0.99, 1.0, 1.0, 0.99, 1.0, 1.0, 1.0, 0.99, 0.99, 1.0, 1.0, 1.0, 0.99, 0.99, 1.0, 1.0, 1.0, 1.0, 0.99, 1.0, 0.99, 0.99, 0.99, 1.0, 1.0, 0.99, 1.0, 0.99, 0.99, 1.0, 1.0, 0.99, 1.0, 1.0, 1.0, 1.0, 0.99, 1.0, 0.99, 0.99, 1.0, 0.99, 1.0, 0.99, 0.99, 0.99, 1.0, 0.99, 0.99, 0.99, 1.0, 0.99, 0.99, 0.99, 1.0, 1.0, 1.0, 0.99, 1.0, 1.0, 0.99, 1.0, 1.0, 1.0, 1.0, 1.0, 1.0, 0.99, 0.99, 1.0, 0.99, 1.0, 1.0, 0.99, 0.99, 0.99, 1.0, 1.0, 0.99, 0.99, 1.0, 0.99, 0.99, 1.0, 1.0, 1.0, 1.0, 0.99, 0.99, 1.0, 0.99, 1.0, 1.0, 1.0, 0.99, 1.0, 0.99, 0.99, 1.0, 0.99, 0.99, 0.99, 0.99, 0.99, 0.99, 1.0, 1.0, 0.99, 0.99, 0.99, 0.99, 0.99, 0.99, 0.99, 0.99, 1.0, 0.99, 1.0, 0.99, 1.0, 1.0, 1.0, 1.0, 0.99, 1.0, 0.99, 1.0, 1.0, 0.99, 0.99, 0.99, 0.99, 1.0, 1.0, 1.0, 1.0, 1.0, 1.0, 0.99, 1.0, 1.0, 1.0, 0.99, 1.0, 0.99, 0.99, 1.0, 0.99, 0.99, 0.99, 0.99, 0.99, 1.0, 1.0, 0.99, 1.0]\n",
            "[51, 140, 253, 308, 613, 2980, 4089, 4534, 5128, 5359, 6955, 6957, 6964, 6966, 6967, 7198, 7685, 8325, 8706, 8733, 8966, 9329, 9399, 9630, 9845, 10366, 10600, 11228, 11237, 11250, 11336, 12687, 12802, 12832, 12897, 13389, 13409, 14238, 14387, 14518, 14524, 17166, 17174, 17396, 17544, 18476, 18623, 18687, 19043, 19057, 19724, 20134, 20563, 20595, 20639, 21043, 23453, 23485, 24061, 24243, 24333, 24340, 24912, 24925, 25040, 25555, 25556, 25567, 25569, 25571, 25606, 26303, 26973, 27080, 27160, 27199, 27429, 27633, 29958, 30493, 31178, 31407, 31408, 31410, 31471, 31479, 32147, 32388, 32539, 33127, 33730, 34260, 34337, 34516, 34687, 35074, 35112, 35165, 35233, 35284, 35333, 35347, 35350, 35426, 35432, 35512, 36862, 37043, 38279, 38877, 39778, 39836, 40252, 40654, 40729, 41255, 41337, 42280, 42389, 42415, 42480, 43171, 43341, 44829, 45478, 45756, 46356, 49294, 50119, 50199, 50220, 50383, 50524, 50527, 50888, 50976, 51378, 51645, 51738, 51773, 51941, 52592, 52598, 53373, 53436, 53492, 53626, 55004, 55346, 55439, 55443, 56285, 56607, 58108, 59449, 59622, 59623, 60201, 60367, 60699, 61155, 61309, 61992, 62140, 62208, 62830, 63015, 63022, 63296, 63536, 63608, 63781, 63876, 63887, 64072, 64772, 65490, 65712, 65816, 66181, 66394, 66423, 67154, 67626, 67766, 67981, 68938, 69001, 70804, 71018, 71783, 72235, 72386, 72402, 73043, 73303, 73562, 73729, 73873, 74034, 75378, 75548, 76665, 76825, 77438, 77589, 77675, 79218, 79464, 79714, 79754, 80075, 80889, 80903, 80913, 81708, 81900, 82357, 82359, 82363, 82367, 82462, 82567, 82953, 83082, 83392, 83508, 83857, 83882, 84065, 84504, 84506, 85129, 86453, 86463, 86542, 86624, 86874, 87707, 87766, 88361, 89070, 89279, 89395, 89528, 89790, 89805, 90977, 92074, 93357, 93403, 94596, 94910, 94965, 95181, 95720, 96017, 96051, 96629, 96630, 97032, 98399, 98404, 98967, 99073, 99277, 99635]\n",
            "<class 'list'>\n",
            "267\n",
            "267\n",
            "267\n"
          ],
          "name": "stdout"
        }
      ]
    },
    {
      "cell_type": "code",
      "metadata": {
        "id": "UTyzdiCSJFfg",
        "colab": {
          "base_uri": "https://localhost:8080/",
          "height": 221
        },
        "outputId": "9c486294-1f97-47e9-9bd0-bd37d0f4e657"
      },
      "source": [
        "unlabel_3 = unlabel_3.loc[pos,:]\n",
        "print(len(unlabel_3))\n",
        "unlabel_3.head()"
      ],
      "execution_count": null,
      "outputs": [
        {
          "output_type": "stream",
          "text": [
            "267\n"
          ],
          "name": "stdout"
        },
        {
          "output_type": "execute_result",
          "data": {
            "text/html": [
              "<div>\n",
              "<style scoped>\n",
              "    .dataframe tbody tr th:only-of-type {\n",
              "        vertical-align: middle;\n",
              "    }\n",
              "\n",
              "    .dataframe tbody tr th {\n",
              "        vertical-align: top;\n",
              "    }\n",
              "\n",
              "    .dataframe thead th {\n",
              "        text-align: right;\n",
              "    }\n",
              "</style>\n",
              "<table border=\"1\" class=\"dataframe\">\n",
              "  <thead>\n",
              "    <tr style=\"text-align: right;\">\n",
              "      <th></th>\n",
              "      <th>text</th>\n",
              "    </tr>\n",
              "  </thead>\n",
              "  <tbody>\n",
              "    <tr>\n",
              "      <th>51</th>\n",
              "      <td>error pointed judgment reversed cause remanded</td>\n",
              "    </tr>\n",
              "    <tr>\n",
              "      <th>140</th>\n",
              "      <td>testified deceased came house pistol hand appe...</td>\n",
              "    </tr>\n",
              "    <tr>\n",
              "      <th>253</th>\n",
              "      <td>soldier talking appellant separated went door ...</td>\n",
              "    </tr>\n",
              "    <tr>\n",
              "      <th>308</th>\n",
              "      <td>touching financial condition prosecutrix testi...</td>\n",
              "    </tr>\n",
              "    <tr>\n",
              "      <th>613</th>\n",
              "      <td>burnett testified saw air conditioning unit si...</td>\n",
              "    </tr>\n",
              "  </tbody>\n",
              "</table>\n",
              "</div>"
            ],
            "text/plain": [
              "                                                  text\n",
              "51      error pointed judgment reversed cause remanded\n",
              "140  testified deceased came house pistol hand appe...\n",
              "253  soldier talking appellant separated went door ...\n",
              "308  touching financial condition prosecutrix testi...\n",
              "613  burnett testified saw air conditioning unit si..."
            ]
          },
          "metadata": {
            "tags": []
          },
          "execution_count": 87
        }
      ]
    },
    {
      "cell_type": "code",
      "metadata": {
        "id": "MzcZdKmeJSAI"
      },
      "source": [
        "class_x_un3 = tfidf_vect.transform(unlabel_3['text'])"
      ],
      "execution_count": null,
      "outputs": []
    },
    {
      "cell_type": "code",
      "metadata": {
        "id": "g9BIum9SJgQB",
        "colab": {
          "base_uri": "https://localhost:8080/"
        },
        "outputId": "53b1a9e7-9f95-4807-8269-8d907038ace5"
      },
      "source": [
        "class_x_un3.shape"
      ],
      "execution_count": null,
      "outputs": [
        {
          "output_type": "execute_result",
          "data": {
            "text/plain": [
              "(267, 6383)"
            ]
          },
          "metadata": {
            "tags": []
          },
          "execution_count": 89
        }
      ]
    },
    {
      "cell_type": "code",
      "metadata": {
        "id": "-m0pFOuoJlQa",
        "colab": {
          "base_uri": "https://localhost:8080/"
        },
        "outputId": "e43d9fe8-df38-49c1-98e7-809c44719a6f"
      },
      "source": [
        "class_pred_unlabel_3 = classifier_2.predict(class_x_un3)\n",
        "class_pred_unlabel_3"
      ],
      "execution_count": null,
      "outputs": [
        {
          "output_type": "execute_result",
          "data": {
            "text/plain": [
              "array(['Conclusion', 'Facts', 'Facts', 'Facts', 'Facts', 'Facts', 'Facts',\n",
              "       'Conclusion', 'Facts', 'Facts', 'Facts', 'Facts', 'Facts', 'Facts',\n",
              "       'Facts', 'Facts', 'Facts', 'Facts', 'Facts', 'Facts', 'Facts',\n",
              "       'Facts', 'Conclusion', 'Conclusion', 'Facts', 'Conclusion',\n",
              "       'Facts', 'Facts', 'Facts', 'Facts', 'Facts', 'Conclusion', 'Facts',\n",
              "       'Facts', 'Facts', 'Facts', 'Facts', 'Facts', 'Facts', 'Conclusion',\n",
              "       'Facts', 'Facts', 'Facts', 'Facts', 'Conclusion', 'Facts', 'Facts',\n",
              "       'Facts', 'Facts', 'Facts', 'Facts', 'Facts', 'Conclusion', 'Facts',\n",
              "       'Facts', 'Facts', 'Facts', 'Facts', 'Facts', 'Facts', 'Facts',\n",
              "       'Facts', 'Facts', 'Facts', 'Facts', 'Facts', 'Facts', 'Facts',\n",
              "       'Facts', 'Facts', 'Facts', 'Facts', 'Facts', 'Facts', 'Facts',\n",
              "       'Facts', 'Facts', 'Facts', 'Facts', 'Facts', 'Facts', 'Facts',\n",
              "       'Facts', 'Facts', 'Conclusion', 'Facts', 'Facts', 'Conclusion',\n",
              "       'Facts', 'Facts', 'Facts', 'Facts', 'Facts', 'Conclusion', 'Facts',\n",
              "       'Facts', 'Facts', 'Facts', 'Facts', 'Conclusion', 'Facts', 'Facts',\n",
              "       'Facts', 'Facts', 'Facts', 'Facts', 'Facts', 'Conclusion', 'Facts',\n",
              "       'Facts', 'Conclusion', 'Facts', 'Facts', 'Facts', 'Facts', 'Facts',\n",
              "       'Facts', 'Facts', 'Facts', 'Facts', 'Conclusion', 'Facts', 'Facts',\n",
              "       'Facts', 'Facts', 'Conclusion', 'Conclusion', 'Conclusion',\n",
              "       'Facts', 'Facts', 'Conclusion', 'Facts', 'Facts', 'Facts', 'Facts',\n",
              "       'Facts', 'Facts', 'Conclusion', 'Facts', 'Facts', 'Facts',\n",
              "       'Conclusion', 'Facts', 'Facts', 'Facts', 'Conclusion',\n",
              "       'Conclusion', 'Facts', 'Facts', 'Facts', 'Facts', 'Conclusion',\n",
              "       'Facts', 'Facts', 'Facts', 'Facts', 'Facts', 'Conclusion', 'Facts',\n",
              "       'Facts', 'Facts', 'Facts', 'Facts', 'Facts', 'Facts', 'Facts',\n",
              "       'Conclusion', 'Facts', 'Facts', 'Conclusion', 'Conclusion',\n",
              "       'Facts', 'Conclusion', 'Facts', 'Conclusion', 'Facts',\n",
              "       'Conclusion', 'Conclusion', 'Facts', 'Facts', 'Facts', 'Facts',\n",
              "       'Facts', 'Conclusion', 'Facts', 'Facts', 'Facts', 'Conclusion',\n",
              "       'Conclusion', 'Facts', 'Facts', 'Facts', 'Facts', 'Facts', 'Facts',\n",
              "       'Facts', 'Facts', 'Facts', 'Facts', 'Facts', 'Conclusion', 'Facts',\n",
              "       'Facts', 'Facts', 'Conclusion', 'Facts', 'Conclusion', 'Facts',\n",
              "       'Facts', 'Facts', 'Facts', 'Facts', 'Facts', 'Facts', 'Facts',\n",
              "       'Facts', 'Facts', 'Facts', 'Facts', 'Facts', 'Facts', 'Facts',\n",
              "       'Facts', 'Facts', 'Facts', 'Facts', 'Conclusion', 'Facts', 'Facts',\n",
              "       'Facts', 'Facts', 'Facts', 'Conclusion', 'Facts', 'Facts', 'Facts',\n",
              "       'Facts', 'Conclusion', 'Facts', 'Facts', 'Facts', 'Facts', 'Facts',\n",
              "       'Conclusion', 'Facts', 'Facts', 'Facts', 'Facts', 'Facts', 'Facts',\n",
              "       'Facts', 'Conclusion', 'Conclusion', 'Facts', 'Facts', 'Facts',\n",
              "       'Facts', 'Facts', 'Facts', 'Facts', 'Facts', 'Facts', 'Facts',\n",
              "       'Facts', 'Conclusion', 'Facts', 'Conclusion'], dtype=object)"
            ]
          },
          "metadata": {
            "tags": []
          },
          "execution_count": 90
        }
      ]
    },
    {
      "cell_type": "code",
      "metadata": {
        "id": "AvEMKQC1Jq-T",
        "colab": {
          "base_uri": "https://localhost:8080/"
        },
        "outputId": "58e75cdd-15ce-4dcd-ab70-76221a3f5b51"
      },
      "source": [
        "print(len(class_pred_unlabel_3))"
      ],
      "execution_count": null,
      "outputs": [
        {
          "output_type": "stream",
          "text": [
            "267\n"
          ],
          "name": "stdout"
        }
      ]
    },
    {
      "cell_type": "code",
      "metadata": {
        "id": "s0PNx7IUJyC3",
        "colab": {
          "base_uri": "https://localhost:8080/",
          "height": 204
        },
        "outputId": "ffbf9fee-3ee5-48db-e30a-e96ef688ddcd"
      },
      "source": [
        "unlabel_3['Target']=class_pred_unlabel_3\n",
        "unlabel_3.head()"
      ],
      "execution_count": null,
      "outputs": [
        {
          "output_type": "execute_result",
          "data": {
            "text/html": [
              "<div>\n",
              "<style scoped>\n",
              "    .dataframe tbody tr th:only-of-type {\n",
              "        vertical-align: middle;\n",
              "    }\n",
              "\n",
              "    .dataframe tbody tr th {\n",
              "        vertical-align: top;\n",
              "    }\n",
              "\n",
              "    .dataframe thead th {\n",
              "        text-align: right;\n",
              "    }\n",
              "</style>\n",
              "<table border=\"1\" class=\"dataframe\">\n",
              "  <thead>\n",
              "    <tr style=\"text-align: right;\">\n",
              "      <th></th>\n",
              "      <th>text</th>\n",
              "      <th>Target</th>\n",
              "    </tr>\n",
              "  </thead>\n",
              "  <tbody>\n",
              "    <tr>\n",
              "      <th>51</th>\n",
              "      <td>error pointed judgment reversed cause remanded</td>\n",
              "      <td>Conclusion</td>\n",
              "    </tr>\n",
              "    <tr>\n",
              "      <th>140</th>\n",
              "      <td>testified deceased came house pistol hand appe...</td>\n",
              "      <td>Facts</td>\n",
              "    </tr>\n",
              "    <tr>\n",
              "      <th>253</th>\n",
              "      <td>soldier talking appellant separated went door ...</td>\n",
              "      <td>Facts</td>\n",
              "    </tr>\n",
              "    <tr>\n",
              "      <th>308</th>\n",
              "      <td>touching financial condition prosecutrix testi...</td>\n",
              "      <td>Facts</td>\n",
              "    </tr>\n",
              "    <tr>\n",
              "      <th>613</th>\n",
              "      <td>burnett testified saw air conditioning unit si...</td>\n",
              "      <td>Facts</td>\n",
              "    </tr>\n",
              "  </tbody>\n",
              "</table>\n",
              "</div>"
            ],
            "text/plain": [
              "                                                  text      Target\n",
              "51      error pointed judgment reversed cause remanded  Conclusion\n",
              "140  testified deceased came house pistol hand appe...       Facts\n",
              "253  soldier talking appellant separated went door ...       Facts\n",
              "308  touching financial condition prosecutrix testi...       Facts\n",
              "613  burnett testified saw air conditioning unit si...       Facts"
            ]
          },
          "metadata": {
            "tags": []
          },
          "execution_count": 92
        }
      ]
    },
    {
      "cell_type": "code",
      "metadata": {
        "id": "mJvzcgHbJ6Fu",
        "colab": {
          "base_uri": "https://localhost:8080/",
          "height": 204
        },
        "outputId": "2ed90854-3fd7-4551-fe26-9e260e1c38eb"
      },
      "source": [
        "train_2.head()"
      ],
      "execution_count": null,
      "outputs": [
        {
          "output_type": "execute_result",
          "data": {
            "text/html": [
              "<div>\n",
              "<style scoped>\n",
              "    .dataframe tbody tr th:only-of-type {\n",
              "        vertical-align: middle;\n",
              "    }\n",
              "\n",
              "    .dataframe tbody tr th {\n",
              "        vertical-align: top;\n",
              "    }\n",
              "\n",
              "    .dataframe thead th {\n",
              "        text-align: right;\n",
              "    }\n",
              "</style>\n",
              "<table border=\"1\" class=\"dataframe\">\n",
              "  <thead>\n",
              "    <tr style=\"text-align: right;\">\n",
              "      <th></th>\n",
              "      <th>Unnamed: 0</th>\n",
              "      <th>text</th>\n",
              "      <th>Target</th>\n",
              "    </tr>\n",
              "  </thead>\n",
              "  <tbody>\n",
              "    <tr>\n",
              "      <th>0</th>\n",
              "      <td>659.0</td>\n",
              "      <td>Appellant had stated to the officers that she ...</td>\n",
              "      <td>Invalid</td>\n",
              "    </tr>\n",
              "    <tr>\n",
              "      <th>1</th>\n",
              "      <td>3456.0</td>\n",
              "      <td>We shall discuss the facts more fully in conne...</td>\n",
              "      <td>Invalid</td>\n",
              "    </tr>\n",
              "    <tr>\n",
              "      <th>2</th>\n",
              "      <td>2043.0</td>\n",
              "      <td>â€œPerjury is a false statement, either writte...</td>\n",
              "      <td>Invalid</td>\n",
              "    </tr>\n",
              "    <tr>\n",
              "      <th>3</th>\n",
              "      <td>3344.0</td>\n",
              "      <td>The offense is felony theft by false pretext; ...</td>\n",
              "      <td>Issue</td>\n",
              "    </tr>\n",
              "    <tr>\n",
              "      <th>4</th>\n",
              "      <td>3231.0</td>\n",
              "      <td>Numerous contentions urging the commission of ...</td>\n",
              "      <td>Issue</td>\n",
              "    </tr>\n",
              "  </tbody>\n",
              "</table>\n",
              "</div>"
            ],
            "text/plain": [
              "   Unnamed: 0                                               text   Target\n",
              "0       659.0  Appellant had stated to the officers that she ...  Invalid\n",
              "1      3456.0  We shall discuss the facts more fully in conne...  Invalid\n",
              "2      2043.0  â€œPerjury is a false statement, either writte...  Invalid\n",
              "3      3344.0  The offense is felony theft by false pretext; ...    Issue\n",
              "4      3231.0  Numerous contentions urging the commission of ...    Issue"
            ]
          },
          "metadata": {
            "tags": []
          },
          "execution_count": 93
        }
      ]
    },
    {
      "cell_type": "code",
      "metadata": {
        "id": "f9Ah9m82J-ky",
        "colab": {
          "base_uri": "https://localhost:8080/"
        },
        "outputId": "358d5e67-f945-4556-8d4a-f80e2c599248"
      },
      "source": [
        "frame_3 = [train_2,unlabel_3]\n",
        "train_3 = pd.concat(frame_3)\n",
        "print(len(train_2))\n",
        "print(len(unlabel_3))\n",
        "print(len(train_3))"
      ],
      "execution_count": null,
      "outputs": [
        {
          "output_type": "stream",
          "text": [
            "3733\n",
            "267\n",
            "4000\n"
          ],
          "name": "stdout"
        }
      ]
    },
    {
      "cell_type": "code",
      "metadata": {
        "id": "XMpwNmkPKNkb",
        "colab": {
          "base_uri": "https://localhost:8080/",
          "height": 419
        },
        "outputId": "73589d63-6c06-41b1-99b2-7392b1368bf7"
      },
      "source": [
        "train_3"
      ],
      "execution_count": null,
      "outputs": [
        {
          "output_type": "execute_result",
          "data": {
            "text/html": [
              "<div>\n",
              "<style scoped>\n",
              "    .dataframe tbody tr th:only-of-type {\n",
              "        vertical-align: middle;\n",
              "    }\n",
              "\n",
              "    .dataframe tbody tr th {\n",
              "        vertical-align: top;\n",
              "    }\n",
              "\n",
              "    .dataframe thead th {\n",
              "        text-align: right;\n",
              "    }\n",
              "</style>\n",
              "<table border=\"1\" class=\"dataframe\">\n",
              "  <thead>\n",
              "    <tr style=\"text-align: right;\">\n",
              "      <th></th>\n",
              "      <th>Unnamed: 0</th>\n",
              "      <th>text</th>\n",
              "      <th>Target</th>\n",
              "    </tr>\n",
              "  </thead>\n",
              "  <tbody>\n",
              "    <tr>\n",
              "      <th>0</th>\n",
              "      <td>659.0</td>\n",
              "      <td>Appellant had stated to the officers that she ...</td>\n",
              "      <td>Invalid</td>\n",
              "    </tr>\n",
              "    <tr>\n",
              "      <th>1</th>\n",
              "      <td>3456.0</td>\n",
              "      <td>We shall discuss the facts more fully in conne...</td>\n",
              "      <td>Invalid</td>\n",
              "    </tr>\n",
              "    <tr>\n",
              "      <th>2</th>\n",
              "      <td>2043.0</td>\n",
              "      <td>â€œPerjury is a false statement, either writte...</td>\n",
              "      <td>Invalid</td>\n",
              "    </tr>\n",
              "    <tr>\n",
              "      <th>3</th>\n",
              "      <td>3344.0</td>\n",
              "      <td>The offense is felony theft by false pretext; ...</td>\n",
              "      <td>Issue</td>\n",
              "    </tr>\n",
              "    <tr>\n",
              "      <th>4</th>\n",
              "      <td>3231.0</td>\n",
              "      <td>Numerous contentions urging the commission of ...</td>\n",
              "      <td>Issue</td>\n",
              "    </tr>\n",
              "    <tr>\n",
              "      <th>...</th>\n",
              "      <td>...</td>\n",
              "      <td>...</td>\n",
              "      <td>...</td>\n",
              "    </tr>\n",
              "    <tr>\n",
              "      <th>98404</th>\n",
              "      <td>NaN</td>\n",
              "      <td>proof shooting called number time name man too...</td>\n",
              "      <td>Facts</td>\n",
              "    </tr>\n",
              "    <tr>\n",
              "      <th>98967</th>\n",
              "      <td>NaN</td>\n",
              "      <td>miss johnson also testified appellant say moth...</td>\n",
              "      <td>Facts</td>\n",
              "    </tr>\n",
              "    <tr>\n",
              "      <th>99073</th>\n",
              "      <td>NaN</td>\n",
              "      <td>error pointed judgment reversed cause remanded</td>\n",
              "      <td>Conclusion</td>\n",
              "    </tr>\n",
              "    <tr>\n",
              "      <th>99277</th>\n",
              "      <td>NaN</td>\n",
              "      <td>rep 58 sheriff entered appellant house get dri...</td>\n",
              "      <td>Facts</td>\n",
              "    </tr>\n",
              "    <tr>\n",
              "      <th>99635</th>\n",
              "      <td>NaN</td>\n",
              "      <td>error pointed judgment reversed cause remanded</td>\n",
              "      <td>Conclusion</td>\n",
              "    </tr>\n",
              "  </tbody>\n",
              "</table>\n",
              "<p>4000 rows × 3 columns</p>\n",
              "</div>"
            ],
            "text/plain": [
              "       Unnamed: 0  ...      Target\n",
              "0           659.0  ...     Invalid\n",
              "1          3456.0  ...     Invalid\n",
              "2          2043.0  ...     Invalid\n",
              "3          3344.0  ...       Issue\n",
              "4          3231.0  ...       Issue\n",
              "...           ...  ...         ...\n",
              "98404         NaN  ...       Facts\n",
              "98967         NaN  ...       Facts\n",
              "99073         NaN  ...  Conclusion\n",
              "99277         NaN  ...       Facts\n",
              "99635         NaN  ...  Conclusion\n",
              "\n",
              "[4000 rows x 3 columns]"
            ]
          },
          "metadata": {
            "tags": []
          },
          "execution_count": 95
        }
      ]
    },
    {
      "cell_type": "code",
      "metadata": {
        "id": "rsYrGG-7KY_K",
        "colab": {
          "base_uri": "https://localhost:8080/"
        },
        "outputId": "0e62a6b1-d041-4101-97be-5a1b17ec9170"
      },
      "source": [
        "from sklearn.metrics import classification_report\n",
        "x_train_3 = tfidf_vect.transform(train_3['text'])\n",
        "x_train_3.shape\n",
        "X_train, x_val, Y_train, y_val = train_test_split(x_train_3,train_3['Target'],test_size=0.25,random_state=2)\n",
        "classifier_3 = RandomForestClassifier(n_estimators = 100, criterion = 'gini', random_state = 42)\n",
        "classifier_3.fit(X_train, Y_train)\n",
        "y_pred = classifier_3.predict(x_val)\n",
        "print(np.unique(y_pred))\n",
        "print(type(y_pred))\n",
        "\n",
        "\n",
        "Accuracy_score = accuracy_score(y_pred,y_val)\n",
        "\n",
        "print('Validation ------- Accuracy_score: %f' % Accuracy_score)\n",
        "\n",
        "test_pred = classifier_3.predict(t_p)\n",
        "acc_test = accuracy_score(test_pred,test['Target'])\n",
        "print('Test ------Accuracy score ', acc_test)\n",
        "matrix = confusion_matrix(y_pred, y_val)\n",
        "print(matrix)\n",
        "print(\"---------validation--------------\")\n",
        "print(classification_report(y_val,y_pred))\n",
        "print(\"----------test---------------------\")\n",
        "print(classification_report(test['Target'],test_pred))"
      ],
      "execution_count": null,
      "outputs": [
        {
          "output_type": "stream",
          "text": [
            "['Analysis' 'Conclusion' 'Facts' 'Invalid' 'Issue' 'Rule/Law/Holding']\n",
            "<class 'numpy.ndarray'>\n",
            "Validation ------- Accuracy_score: 0.684000\n",
            "Test ------Accuracy score  0.6026871401151631\n",
            "[[ 30   9   7   6   3   6]\n",
            " [  6  62   2   3   2   1]\n",
            " [ 79  14 482  50  23  28]\n",
            " [ 18   4  35  70   3   5]\n",
            " [  1   0   4   0  22   1]\n",
            " [  0   0   0   3   3  18]]\n",
            "---------validation--------------\n",
            "                  precision    recall  f1-score   support\n",
            "\n",
            "        Analysis       0.49      0.22      0.31       134\n",
            "      Conclusion       0.82      0.70      0.75        89\n",
            "           Facts       0.71      0.91      0.80       530\n",
            "         Invalid       0.52      0.53      0.52       132\n",
            "           Issue       0.79      0.39      0.52        56\n",
            "Rule/Law/Holding       0.75      0.31      0.43        59\n",
            "\n",
            "        accuracy                           0.68      1000\n",
            "       macro avg       0.68      0.51      0.56      1000\n",
            "    weighted avg       0.67      0.68      0.66      1000\n",
            "\n",
            "----------test---------------------\n",
            "                  precision    recall  f1-score   support\n",
            "\n",
            "        Analysis       0.56      0.19      0.29        77\n",
            "      Conclusion       0.68      0.50      0.58        26\n",
            "           Facts       0.64      0.85      0.73       267\n",
            "         Invalid       0.46      0.52      0.49        83\n",
            "           Issue       0.73      0.24      0.36        34\n",
            "Rule/Law/Holding       0.53      0.26      0.35        34\n",
            "\n",
            "        accuracy                           0.60       521\n",
            "       macro avg       0.60      0.43      0.46       521\n",
            "    weighted avg       0.60      0.60      0.57       521\n",
            "\n"
          ],
          "name": "stdout"
        }
      ]
    },
    {
      "cell_type": "code",
      "metadata": {
        "id": "_z5nQ0I-NyW-"
      },
      "source": [
        ""
      ],
      "execution_count": null,
      "outputs": []
    },
    {
      "cell_type": "markdown",
      "metadata": {
        "id": "aNiTG6h9NzEN"
      },
      "source": [
        "Unlabeled 4"
      ]
    },
    {
      "cell_type": "code",
      "metadata": {
        "id": "B929PxVuNzOK"
      },
      "source": [
        "x_un4 = tfidf_vect.transform(unlabel_4['text'])\n"
      ],
      "execution_count": null,
      "outputs": []
    },
    {
      "cell_type": "code",
      "metadata": {
        "id": "H5LcJGGEN_28",
        "colab": {
          "base_uri": "https://localhost:8080/"
        },
        "outputId": "616efd17-5893-468c-e089-a3ab5868ea3c"
      },
      "source": [
        "\n",
        "pred_unlabel_4 = classifier_3.predict_proba(x_un4)\n",
        "pred_unlabel_4"
      ],
      "execution_count": null,
      "outputs": [
        {
          "output_type": "execute_result",
          "data": {
            "text/plain": [
              "array([[0.38      , 0.08      , 0.23      , 0.12      , 0.        ,\n",
              "        0.19      ],\n",
              "       [0.11      , 0.02      , 0.54      , 0.2       , 0.01      ,\n",
              "        0.12      ],\n",
              "       [0.06      , 0.12      , 0.65      , 0.15      , 0.01      ,\n",
              "        0.01      ],\n",
              "       ...,\n",
              "       [0.11      , 0.03      , 0.64      , 0.21      , 0.01      ,\n",
              "        0.        ],\n",
              "       [0.24      , 0.03      , 0.51      , 0.18      , 0.03      ,\n",
              "        0.01      ],\n",
              "       [0.21995238, 0.78004762, 0.        , 0.        , 0.        ,\n",
              "        0.        ]])"
            ]
          },
          "metadata": {
            "tags": []
          },
          "execution_count": 98
        }
      ]
    },
    {
      "cell_type": "code",
      "metadata": {
        "id": "KL-MuDs0OHS_",
        "colab": {
          "base_uri": "https://localhost:8080/"
        },
        "outputId": "4e9cd29e-776b-4e7c-9d77-f72d1578fcc9"
      },
      "source": [
        "print(len(pred_unlabel_2))\n",
        "print(np.unique(pred_unlabel_2))"
      ],
      "execution_count": null,
      "outputs": [
        {
          "output_type": "stream",
          "text": [
            "100000\n",
            "[0.         0.00285714 0.00333333 ... 0.98       0.99       1.        ]\n"
          ],
          "name": "stdout"
        }
      ]
    },
    {
      "cell_type": "code",
      "metadata": {
        "id": "E2hJRNIwOJtD",
        "colab": {
          "base_uri": "https://localhost:8080/"
        },
        "outputId": "c3b7b82a-6625-4200-a025-0618e5762b06"
      },
      "source": [
        "import numpy as np\n",
        "pos=[]\n",
        "large=[]\n",
        "ind = []\n",
        "i=0\n",
        "for j in pred_unlabel_4:\n",
        "  if max(j)> Threshold:\n",
        "    ind.append(np.argmax(j))\n",
        "    large.append(max(j))\n",
        "    pos.append(i)\n",
        "  i+=1\n",
        "\n",
        "\n",
        "print(ind)\n",
        "print(large)\n",
        "print(pos)\n",
        "print(type(pos))\n",
        "print(len(ind))\n",
        "print(len(large))\n",
        "print(len(pos))"
      ],
      "execution_count": null,
      "outputs": [
        {
          "output_type": "stream",
          "text": [
            "[1, 3, 2, 2, 2, 2, 2, 3, 1, 3, 2, 2, 2, 2, 1, 2, 2, 2, 1, 2, 2, 2, 3, 1, 2, 2, 1, 2, 2, 2, 2, 2, 2, 2, 2, 1, 2, 2, 2, 2, 2, 2, 2, 2, 1, 2, 2, 2, 2, 2, 2, 2, 3, 3, 2, 2, 2, 2, 2, 2, 2, 2, 2, 2, 2, 2, 1, 3, 2, 1, 2, 1, 2, 2, 1, 2, 2, 2, 2, 2, 2, 2, 2, 2, 2, 2, 2, 2, 2, 3, 1, 1, 2, 2, 2, 3, 2, 2, 2, 2, 2, 2, 2, 2, 2, 2, 2, 3, 2, 1, 2, 2, 1, 2, 2, 2, 2, 2, 2, 2, 2, 2, 2, 2, 2, 3, 2, 1, 2, 2, 2, 2, 2, 2, 2, 2, 2, 2, 2, 2, 2, 1, 1, 2, 1, 2, 2, 2, 3, 2, 2, 2, 2, 2, 2, 2, 2, 2, 2, 2, 2, 3, 3, 1, 2, 2, 1, 2, 2, 3, 2, 1, 2, 2, 2, 2, 1, 1, 2, 2, 2, 2, 2, 3, 2, 2, 2, 2, 2, 2, 2, 1, 2, 2, 1, 2, 2, 2, 1, 2, 2, 2, 2, 2, 1, 2, 1, 2, 2, 3, 3, 2, 2, 1, 1, 2, 2, 2, 1, 2, 2, 2, 1, 2, 1, 1, 2, 2, 1, 2, 1, 2, 2, 1, 2, 2, 2, 2, 2, 1, 2, 2, 2, 2, 2, 2, 2, 2, 2, 1, 2, 2, 1, 2, 2, 2, 2, 3, 2, 1, 2, 2, 2, 2, 2, 1, 3, 2, 2, 2, 2, 2, 2, 2, 2, 2, 2, 2, 1, 1, 2, 2, 2, 1, 2, 1, 1, 3, 2, 2, 2, 2, 2, 2, 2, 2, 2, 3, 2, 1, 1, 2, 3, 1, 3, 2, 2, 2, 1, 3, 2, 2, 2, 3, 2, 1, 2, 2, 2, 2, 2, 3, 2, 2, 2, 2, 2, 2, 2, 3, 3, 2, 2, 1, 2, 2, 1, 2, 2, 2, 2, 1, 2, 2, 1, 2, 1, 3, 2, 2, 2, 2, 3, 2, 1, 2, 2, 2, 2, 2, 2, 2, 2, 2, 2, 2, 3, 2, 2, 2, 1, 2, 2, 2, 1, 2, 1, 2, 2, 1, 2, 2, 2, 2, 2, 2, 2, 2, 2, 2, 2, 2, 3, 2, 1, 2, 2, 2, 2, 1, 2, 2, 2, 1, 2, 2, 2, 2, 2, 1, 2, 1, 2, 1, 1, 3, 3, 2, 3, 2, 2, 2, 1, 2, 2, 2, 2, 3, 1, 2, 1, 1, 2, 2, 1, 3, 2, 1, 2, 2, 2, 1, 1, 2, 2, 2, 2, 2, 2, 1, 3, 1, 2, 2, 3, 2, 2, 2, 2, 2, 1, 2, 2, 2, 2, 2, 1, 2, 2, 2, 2, 2, 2, 2, 1, 2, 2, 2]\n",
            "[1.0, 0.99, 1.0, 0.99, 0.99, 1.0, 0.99, 1.0, 1.0, 0.99, 0.99, 0.99, 0.99, 0.99, 1.0, 0.99, 1.0, 1.0, 1.0, 1.0, 0.99, 1.0, 0.99, 1.0, 0.99, 0.99, 0.985, 1.0, 1.0, 1.0, 0.99, 1.0, 0.99, 1.0, 0.99, 1.0, 1.0, 0.99, 0.99, 0.99, 0.99, 1.0, 0.99, 1.0, 0.9821428571428572, 0.99, 1.0, 1.0, 1.0, 1.0, 0.99, 1.0, 0.99, 0.99, 1.0, 0.99, 0.99, 1.0, 0.99, 0.99, 1.0, 0.99, 0.99, 0.99, 0.99, 0.99, 1.0, 0.99, 1.0, 0.9821428571428572, 0.99, 0.9821428571428572, 0.99, 0.99, 0.9821428571428572, 1.0, 1.0, 1.0, 0.99, 0.99, 0.99, 0.99, 0.99, 0.99, 1.0, 1.0, 1.0, 0.99, 0.99, 0.99, 1.0, 1.0, 0.99, 0.99, 0.99, 0.99, 1.0, 0.99, 0.99, 0.99, 0.99, 1.0, 0.99, 0.99, 0.99, 0.99, 0.99, 1.0, 1.0, 1.0, 0.99, 0.99, 0.9821428571428572, 0.99, 1.0, 0.99, 0.99, 0.99, 0.99, 1.0, 0.99, 1.0, 0.99, 0.99, 1.0, 0.99, 0.99, 1.0, 0.99, 0.99, 1.0, 0.99, 0.99, 1.0, 1.0, 1.0, 1.0, 1.0, 0.99, 0.99, 0.99, 0.9821428571428572, 1.0, 0.99, 1.0, 0.99, 0.99, 1.0, 0.99, 1.0, 0.99, 1.0, 1.0, 0.99, 0.99, 1.0, 1.0, 0.99, 0.99, 1.0, 1.0, 0.99, 0.99, 1.0, 0.99, 0.99, 1.0, 0.99, 0.99, 0.99, 0.99, 0.985, 0.99, 1.0, 0.99, 1.0, 0.985, 0.985, 0.99, 1.0, 1.0, 0.99, 1.0, 0.99, 0.99, 0.99, 0.99, 1.0, 0.99, 0.99, 1.0, 1.0, 1.0, 0.99, 1.0, 0.99, 1.0, 0.99, 1.0, 0.99, 0.99, 0.99, 1.0, 0.99, 1.0, 1.0, 0.9821428571428572, 1.0, 1.0, 0.99, 0.99, 0.99, 0.99, 1.0, 1.0, 1.0, 1.0, 1.0, 1.0, 0.99, 0.99, 0.99, 1.0, 1.0, 0.985, 0.985, 0.99, 0.99, 0.9821428571428572, 0.99, 1.0, 0.99, 0.99, 1.0, 1.0, 0.99, 0.99, 1.0, 0.99, 1.0, 0.99, 1.0, 0.99, 1.0, 0.99, 0.99, 0.99, 1.0, 0.99, 0.9821428571428572, 0.99, 0.99, 1.0, 0.99, 1.0, 0.99, 0.99, 0.99, 0.99, 0.9821428571428572, 0.99, 1.0, 1.0, 0.99, 0.99, 1.0, 0.99, 0.99, 0.99, 0.99, 0.99, 1.0, 0.99, 0.99, 0.99, 0.99, 1.0, 0.99, 0.9821428571428572, 1.0, 1.0, 0.99, 0.99, 1.0, 0.99, 1.0, 1.0, 0.99, 0.99, 0.99, 1.0, 0.99, 0.99, 0.99, 0.99, 0.99, 0.99, 0.99, 0.99, 1.0, 0.9821428571428572, 0.99, 1.0, 1.0, 0.99, 1.0, 0.99, 1.0, 0.9821428571428572, 0.99, 0.99, 0.99, 0.99, 0.99, 1.0, 0.985, 0.99, 0.9866666666666667, 0.99, 0.99, 0.99, 0.99, 0.99, 1.0, 1.0, 0.99, 1.0, 0.99, 0.99, 0.99, 1.0, 1.0, 0.99, 1.0, 0.99, 0.99, 0.9821428571428572, 0.99, 0.99, 0.99, 0.99, 0.985, 1.0, 0.99, 0.9821428571428572, 0.99, 1.0, 0.99, 0.99, 0.99, 1.0, 0.99, 0.99, 1.0, 0.985, 0.99, 1.0, 0.99, 0.99, 0.99, 0.9866666666666667, 0.99, 1.0, 0.99, 0.99, 1.0, 0.99, 1.0, 0.99, 0.99, 1.0, 1.0, 0.99, 0.99, 0.9821428571428572, 1.0, 0.985, 0.99, 0.99, 1.0, 0.99, 0.99, 0.99, 0.99, 0.99, 1.0, 0.99, 0.99, 1.0, 0.99, 0.99, 1.0, 0.99, 0.99, 1.0, 1.0, 1.0, 0.99, 0.99, 1.0, 1.0, 0.99, 1.0, 1.0, 0.99, 0.99, 0.99, 0.99, 0.99, 1.0, 0.99, 0.985, 0.99, 1.0, 1.0, 0.99, 0.99, 0.99, 1.0, 0.99, 0.99, 0.99, 0.9821428571428572, 0.99, 0.99, 0.99, 1.0, 0.99, 0.985, 0.99, 1.0, 1.0, 0.99, 1.0, 1.0, 0.99, 0.99, 1.0, 1.0, 0.99, 0.99, 1.0, 0.9821428571428572, 0.99, 1.0, 1.0, 0.99, 0.99, 0.99, 1.0, 0.99, 0.985, 0.99, 0.99, 1.0, 1.0, 0.99, 0.99, 0.99, 0.99, 0.9821428571428572, 0.99, 0.99, 1.0, 0.99, 1.0, 1.0, 1.0, 0.99, 1.0, 0.99, 1.0, 1.0, 0.99, 1.0, 1.0, 1.0, 0.99]\n",
            "[76, 272, 536, 1206, 1665, 1708, 1994, 2345, 2394, 2519, 2551, 3013, 3313, 3438, 3496, 3503, 3585, 3849, 4001, 4010, 4015, 4020, 4264, 4608, 4613, 4978, 5010, 5269, 5547, 5640, 6232, 6903, 8217, 8228, 8495, 9138, 9607, 9623, 9731, 9908, 9918, 9922, 10028, 11098, 11461, 11575, 11672, 11677, 11730, 11784, 11864, 11993, 12025, 12106, 12425, 12658, 12713, 12832, 13041, 13543, 13676, 13749, 13996, 13997, 14200, 14356, 14452, 14575, 15083, 15382, 15406, 15410, 15446, 15570, 15631, 15860, 15893, 15949, 15950, 16145, 16151, 16375, 16831, 16973, 16982, 17539, 17569, 17571, 17572, 17798, 18052, 18212, 18394, 18527, 19193, 20900, 21202, 21247, 21291, 21298, 21304, 21315, 21439, 21597, 21608, 21621, 22045, 22132, 22219, 22378, 22546, 22767, 22816, 22884, 23140, 23282, 23844, 23938, 23946, 23987, 24003, 24392, 24704, 24934, 25112, 25128, 25639, 25721, 25727, 25874, 25910, 26408, 26692, 26708, 26733, 26740, 27415, 27552, 27677, 27831, 27914, 27940, 28003, 28057, 28626, 28753, 29348, 29552, 29596, 30424, 30434, 30498, 30516, 30521, 30633, 31203, 31670, 31673, 31786, 31816, 32039, 32502, 32510, 32631, 33034, 33630, 34152, 34182, 34188, 34221, 34364, 34643, 34703, 34716, 35052, 35057, 35157, 35237, 35734, 35989, 36094, 36340, 36374, 36646, 36805, 37489, 37496, 37498, 37736, 38700, 39044, 39483, 39609, 39718, 40321, 40414, 40577, 40580, 41279, 41804, 42167, 42206, 42275, 42355, 42436, 42465, 42696, 42899, 42928, 43480, 43488, 43545, 43602, 43692, 43865, 43901, 44312, 44587, 44627, 44900, 45013, 45337, 45903, 46300, 46742, 47093, 47126, 47462, 47488, 47499, 48080, 48374, 48843, 49230, 49452, 50021, 50026, 50241, 50492, 50510, 50603, 51795, 51854, 52441, 52616, 52848, 52970, 53071, 53763, 54183, 54245, 54299, 54443, 54545, 54978, 55013, 55452, 56151, 56197, 56214, 56620, 56879, 57182, 57588, 57689, 57733, 57821, 57855, 57909, 58352, 58365, 58400, 58697, 59084, 59123, 59153, 59159, 59288, 59300, 59491, 59722, 60306, 60376, 60574, 60584, 60872, 61065, 61217, 61701, 61783, 62230, 62254, 62943, 62945, 63391, 63742, 64076, 64290, 65154, 65555, 65820, 65983, 66125, 66567, 66602, 66705, 66752, 66776, 66839, 67211, 67234, 67238, 67561, 67618, 67861, 68010, 68598, 68819, 69050, 69051, 69297, 69418, 69455, 69467, 69763, 69764, 69765, 69767, 70095, 70235, 70552, 70569, 70655, 70911, 71271, 71307, 71624, 71634, 72086, 72177, 72381, 72492, 72532, 72802, 72851, 72865, 72887, 73147, 73298, 73955, 74212, 74416, 74443, 74513, 74890, 74914, 74945, 75083, 75092, 75443, 75902, 76111, 76115, 76623, 76649, 76754, 77051, 77086, 77167, 77170, 77447, 77457, 78923, 78925, 79486, 80365, 80739, 80798, 80972, 81138, 81212, 81311, 81325, 81348, 81581, 81582, 81592, 81594, 82135, 82137, 82214, 82410, 82428, 82639, 82977, 83040, 83307, 83393, 83735, 83921, 84807, 84895, 84936, 85229, 85454, 85520, 85919, 85921, 86665, 86950, 86955, 86985, 87083, 87175, 87376, 87595, 87710, 87967, 88071, 88354, 88462, 88888, 89189, 89212, 89334, 89500, 89702, 89740, 90060, 90367, 90530, 91069, 91148, 91189, 91565, 91607, 91730, 92151, 92189, 92274, 92278, 92431, 93007, 93807, 93808, 93897, 93919, 94260, 94270, 94838, 95252, 95331, 95822, 95928, 96090, 96130, 96131, 96705, 96758, 96857, 97194, 97233, 97235, 97355, 97500, 97512, 97759, 97790, 97917, 98243, 98889, 99218, 99221, 99294, 99465, 99603, 99896, 99899]\n",
            "<class 'list'>\n",
            "478\n",
            "478\n",
            "478\n"
          ],
          "name": "stdout"
        }
      ]
    },
    {
      "cell_type": "code",
      "metadata": {
        "id": "-d37gPPxOKYe",
        "colab": {
          "base_uri": "https://localhost:8080/",
          "height": 221
        },
        "outputId": "73fbe9d9-5b5b-4184-e9c0-61c39224d6cc"
      },
      "source": [
        "unlabel_4 = unlabel_4.loc[pos,:]\n",
        "print(len(unlabel_4))\n",
        "unlabel_4.head()"
      ],
      "execution_count": null,
      "outputs": [
        {
          "output_type": "stream",
          "text": [
            "478\n"
          ],
          "name": "stdout"
        },
        {
          "output_type": "execute_result",
          "data": {
            "text/html": [
              "<div>\n",
              "<style scoped>\n",
              "    .dataframe tbody tr th:only-of-type {\n",
              "        vertical-align: middle;\n",
              "    }\n",
              "\n",
              "    .dataframe tbody tr th {\n",
              "        vertical-align: top;\n",
              "    }\n",
              "\n",
              "    .dataframe thead th {\n",
              "        text-align: right;\n",
              "    }\n",
              "</style>\n",
              "<table border=\"1\" class=\"dataframe\">\n",
              "  <thead>\n",
              "    <tr style=\"text-align: right;\">\n",
              "      <th></th>\n",
              "      <th>text</th>\n",
              "    </tr>\n",
              "  </thead>\n",
              "  <tbody>\n",
              "    <tr>\n",
              "      <th>76</th>\n",
              "      <td>error pointed judgment reversed cause remanded</td>\n",
              "    </tr>\n",
              "    <tr>\n",
              "      <th>272</th>\n",
              "      <td>language quoted approved vails v</td>\n",
              "    </tr>\n",
              "    <tr>\n",
              "      <th>536</th>\n",
              "      <td>said asked mr oat go told going get negro sell...</td>\n",
              "    </tr>\n",
              "    <tr>\n",
              "      <th>1206</th>\n",
              "      <td>pair shoe mr thompson thought belonged appella...</td>\n",
              "    </tr>\n",
              "    <tr>\n",
              "      <th>1665</th>\n",
              "      <td>eberlein alleged injured party testified febru...</td>\n",
              "    </tr>\n",
              "  </tbody>\n",
              "</table>\n",
              "</div>"
            ],
            "text/plain": [
              "                                                   text\n",
              "76       error pointed judgment reversed cause remanded\n",
              "272                    language quoted approved vails v\n",
              "536   said asked mr oat go told going get negro sell...\n",
              "1206  pair shoe mr thompson thought belonged appella...\n",
              "1665  eberlein alleged injured party testified febru..."
            ]
          },
          "metadata": {
            "tags": []
          },
          "execution_count": 101
        }
      ]
    },
    {
      "cell_type": "code",
      "metadata": {
        "id": "W63mA-YSOjwr"
      },
      "source": [
        "class_x_un4 = tfidf_vect.transform(unlabel_4['text'])"
      ],
      "execution_count": null,
      "outputs": []
    },
    {
      "cell_type": "code",
      "metadata": {
        "id": "R1XhrcyLOzB1",
        "colab": {
          "base_uri": "https://localhost:8080/"
        },
        "outputId": "c1330bd7-8edd-49e1-8c02-41f7593132c8"
      },
      "source": [
        "class_x_un4.shape"
      ],
      "execution_count": null,
      "outputs": [
        {
          "output_type": "execute_result",
          "data": {
            "text/plain": [
              "(478, 6383)"
            ]
          },
          "metadata": {
            "tags": []
          },
          "execution_count": 103
        }
      ]
    },
    {
      "cell_type": "code",
      "metadata": {
        "id": "pgdtvQtgO3IA",
        "colab": {
          "base_uri": "https://localhost:8080/"
        },
        "outputId": "3e33b44f-e00f-435c-e41b-49dc09a62ebb"
      },
      "source": [
        "class_pred_unlabel_4 = classifier_3.predict(class_x_un4)\n",
        "class_pred_unlabel_4"
      ],
      "execution_count": null,
      "outputs": [
        {
          "output_type": "execute_result",
          "data": {
            "text/plain": [
              "array(['Conclusion', 'Invalid', 'Facts', 'Facts', 'Facts', 'Facts',\n",
              "       'Facts', 'Invalid', 'Conclusion', 'Invalid', 'Facts', 'Facts',\n",
              "       'Facts', 'Facts', 'Conclusion', 'Facts', 'Facts', 'Facts',\n",
              "       'Conclusion', 'Facts', 'Facts', 'Facts', 'Invalid', 'Conclusion',\n",
              "       'Facts', 'Facts', 'Conclusion', 'Facts', 'Facts', 'Facts', 'Facts',\n",
              "       'Facts', 'Facts', 'Facts', 'Facts', 'Conclusion', 'Facts', 'Facts',\n",
              "       'Facts', 'Facts', 'Facts', 'Facts', 'Facts', 'Facts', 'Conclusion',\n",
              "       'Facts', 'Facts', 'Facts', 'Facts', 'Facts', 'Facts', 'Facts',\n",
              "       'Invalid', 'Invalid', 'Facts', 'Facts', 'Facts', 'Facts', 'Facts',\n",
              "       'Facts', 'Facts', 'Facts', 'Facts', 'Facts', 'Facts', 'Facts',\n",
              "       'Conclusion', 'Invalid', 'Facts', 'Conclusion', 'Facts',\n",
              "       'Conclusion', 'Facts', 'Facts', 'Conclusion', 'Facts', 'Facts',\n",
              "       'Facts', 'Facts', 'Facts', 'Facts', 'Facts', 'Facts', 'Facts',\n",
              "       'Facts', 'Facts', 'Facts', 'Facts', 'Facts', 'Invalid',\n",
              "       'Conclusion', 'Conclusion', 'Facts', 'Facts', 'Facts', 'Invalid',\n",
              "       'Facts', 'Facts', 'Facts', 'Facts', 'Facts', 'Facts', 'Facts',\n",
              "       'Facts', 'Facts', 'Facts', 'Facts', 'Invalid', 'Facts',\n",
              "       'Conclusion', 'Facts', 'Facts', 'Conclusion', 'Facts', 'Facts',\n",
              "       'Facts', 'Facts', 'Facts', 'Facts', 'Facts', 'Facts', 'Facts',\n",
              "       'Facts', 'Facts', 'Facts', 'Invalid', 'Facts', 'Conclusion',\n",
              "       'Facts', 'Facts', 'Facts', 'Facts', 'Facts', 'Facts', 'Facts',\n",
              "       'Facts', 'Facts', 'Facts', 'Facts', 'Facts', 'Facts', 'Conclusion',\n",
              "       'Conclusion', 'Facts', 'Conclusion', 'Facts', 'Facts', 'Facts',\n",
              "       'Invalid', 'Facts', 'Facts', 'Facts', 'Facts', 'Facts', 'Facts',\n",
              "       'Facts', 'Facts', 'Facts', 'Facts', 'Facts', 'Facts', 'Invalid',\n",
              "       'Invalid', 'Conclusion', 'Facts', 'Facts', 'Conclusion', 'Facts',\n",
              "       'Facts', 'Invalid', 'Facts', 'Conclusion', 'Facts', 'Facts',\n",
              "       'Facts', 'Facts', 'Conclusion', 'Conclusion', 'Facts', 'Facts',\n",
              "       'Facts', 'Facts', 'Facts', 'Invalid', 'Facts', 'Facts', 'Facts',\n",
              "       'Facts', 'Facts', 'Facts', 'Facts', 'Conclusion', 'Facts', 'Facts',\n",
              "       'Conclusion', 'Facts', 'Facts', 'Facts', 'Conclusion', 'Facts',\n",
              "       'Facts', 'Facts', 'Facts', 'Facts', 'Conclusion', 'Facts',\n",
              "       'Conclusion', 'Facts', 'Facts', 'Invalid', 'Invalid', 'Facts',\n",
              "       'Facts', 'Conclusion', 'Conclusion', 'Facts', 'Facts', 'Facts',\n",
              "       'Conclusion', 'Facts', 'Facts', 'Facts', 'Conclusion', 'Facts',\n",
              "       'Conclusion', 'Conclusion', 'Facts', 'Facts', 'Conclusion',\n",
              "       'Facts', 'Conclusion', 'Facts', 'Facts', 'Conclusion', 'Facts',\n",
              "       'Facts', 'Facts', 'Facts', 'Facts', 'Conclusion', 'Facts', 'Facts',\n",
              "       'Facts', 'Facts', 'Facts', 'Facts', 'Facts', 'Facts', 'Facts',\n",
              "       'Conclusion', 'Facts', 'Facts', 'Conclusion', 'Facts', 'Facts',\n",
              "       'Facts', 'Facts', 'Invalid', 'Facts', 'Conclusion', 'Facts',\n",
              "       'Facts', 'Facts', 'Facts', 'Facts', 'Conclusion', 'Invalid',\n",
              "       'Facts', 'Facts', 'Facts', 'Facts', 'Facts', 'Facts', 'Facts',\n",
              "       'Facts', 'Facts', 'Facts', 'Facts', 'Conclusion', 'Conclusion',\n",
              "       'Facts', 'Facts', 'Facts', 'Conclusion', 'Facts', 'Conclusion',\n",
              "       'Conclusion', 'Invalid', 'Facts', 'Facts', 'Facts', 'Facts',\n",
              "       'Facts', 'Facts', 'Facts', 'Facts', 'Facts', 'Invalid', 'Facts',\n",
              "       'Conclusion', 'Conclusion', 'Facts', 'Invalid', 'Conclusion',\n",
              "       'Invalid', 'Facts', 'Facts', 'Facts', 'Conclusion', 'Invalid',\n",
              "       'Facts', 'Facts', 'Facts', 'Invalid', 'Facts', 'Conclusion',\n",
              "       'Facts', 'Facts', 'Facts', 'Facts', 'Facts', 'Invalid', 'Facts',\n",
              "       'Facts', 'Facts', 'Facts', 'Facts', 'Facts', 'Facts', 'Invalid',\n",
              "       'Invalid', 'Facts', 'Facts', 'Conclusion', 'Facts', 'Facts',\n",
              "       'Conclusion', 'Facts', 'Facts', 'Facts', 'Facts', 'Conclusion',\n",
              "       'Facts', 'Facts', 'Conclusion', 'Facts', 'Conclusion', 'Invalid',\n",
              "       'Facts', 'Facts', 'Facts', 'Facts', 'Invalid', 'Facts',\n",
              "       'Conclusion', 'Facts', 'Facts', 'Facts', 'Facts', 'Facts', 'Facts',\n",
              "       'Facts', 'Facts', 'Facts', 'Facts', 'Facts', 'Invalid', 'Facts',\n",
              "       'Facts', 'Facts', 'Conclusion', 'Facts', 'Facts', 'Facts',\n",
              "       'Conclusion', 'Facts', 'Conclusion', 'Facts', 'Facts',\n",
              "       'Conclusion', 'Facts', 'Facts', 'Facts', 'Facts', 'Facts', 'Facts',\n",
              "       'Facts', 'Facts', 'Facts', 'Facts', 'Facts', 'Facts', 'Invalid',\n",
              "       'Facts', 'Conclusion', 'Facts', 'Facts', 'Facts', 'Facts',\n",
              "       'Conclusion', 'Facts', 'Facts', 'Facts', 'Conclusion', 'Facts',\n",
              "       'Facts', 'Facts', 'Facts', 'Facts', 'Conclusion', 'Facts',\n",
              "       'Conclusion', 'Facts', 'Conclusion', 'Conclusion', 'Invalid',\n",
              "       'Invalid', 'Facts', 'Invalid', 'Facts', 'Facts', 'Facts',\n",
              "       'Conclusion', 'Facts', 'Facts', 'Facts', 'Facts', 'Invalid',\n",
              "       'Conclusion', 'Facts', 'Conclusion', 'Conclusion', 'Facts',\n",
              "       'Facts', 'Conclusion', 'Invalid', 'Facts', 'Conclusion', 'Facts',\n",
              "       'Facts', 'Facts', 'Conclusion', 'Conclusion', 'Facts', 'Facts',\n",
              "       'Facts', 'Facts', 'Facts', 'Facts', 'Conclusion', 'Invalid',\n",
              "       'Conclusion', 'Facts', 'Facts', 'Invalid', 'Facts', 'Facts',\n",
              "       'Facts', 'Facts', 'Facts', 'Conclusion', 'Facts', 'Facts', 'Facts',\n",
              "       'Facts', 'Facts', 'Conclusion', 'Facts', 'Facts', 'Facts', 'Facts',\n",
              "       'Facts', 'Facts', 'Facts', 'Conclusion', 'Facts', 'Facts', 'Facts'],\n",
              "      dtype=object)"
            ]
          },
          "metadata": {
            "tags": []
          },
          "execution_count": 104
        }
      ]
    },
    {
      "cell_type": "code",
      "metadata": {
        "id": "stJ1tS-GPCH1",
        "colab": {
          "base_uri": "https://localhost:8080/"
        },
        "outputId": "d64b5c3e-f2f1-448f-a046-1b69419f1996"
      },
      "source": [
        "print(len(class_pred_unlabel_4))"
      ],
      "execution_count": null,
      "outputs": [
        {
          "output_type": "stream",
          "text": [
            "478\n"
          ],
          "name": "stdout"
        }
      ]
    },
    {
      "cell_type": "code",
      "metadata": {
        "id": "_i8lEcN8PGkH",
        "colab": {
          "base_uri": "https://localhost:8080/",
          "height": 204
        },
        "outputId": "60934358-7c60-4c0f-a9d1-2c4cc811b503"
      },
      "source": [
        "unlabel_4['Target']=class_pred_unlabel_4\n",
        "unlabel_4.head()"
      ],
      "execution_count": null,
      "outputs": [
        {
          "output_type": "execute_result",
          "data": {
            "text/html": [
              "<div>\n",
              "<style scoped>\n",
              "    .dataframe tbody tr th:only-of-type {\n",
              "        vertical-align: middle;\n",
              "    }\n",
              "\n",
              "    .dataframe tbody tr th {\n",
              "        vertical-align: top;\n",
              "    }\n",
              "\n",
              "    .dataframe thead th {\n",
              "        text-align: right;\n",
              "    }\n",
              "</style>\n",
              "<table border=\"1\" class=\"dataframe\">\n",
              "  <thead>\n",
              "    <tr style=\"text-align: right;\">\n",
              "      <th></th>\n",
              "      <th>text</th>\n",
              "      <th>Target</th>\n",
              "    </tr>\n",
              "  </thead>\n",
              "  <tbody>\n",
              "    <tr>\n",
              "      <th>76</th>\n",
              "      <td>error pointed judgment reversed cause remanded</td>\n",
              "      <td>Conclusion</td>\n",
              "    </tr>\n",
              "    <tr>\n",
              "      <th>272</th>\n",
              "      <td>language quoted approved vails v</td>\n",
              "      <td>Invalid</td>\n",
              "    </tr>\n",
              "    <tr>\n",
              "      <th>536</th>\n",
              "      <td>said asked mr oat go told going get negro sell...</td>\n",
              "      <td>Facts</td>\n",
              "    </tr>\n",
              "    <tr>\n",
              "      <th>1206</th>\n",
              "      <td>pair shoe mr thompson thought belonged appella...</td>\n",
              "      <td>Facts</td>\n",
              "    </tr>\n",
              "    <tr>\n",
              "      <th>1665</th>\n",
              "      <td>eberlein alleged injured party testified febru...</td>\n",
              "      <td>Facts</td>\n",
              "    </tr>\n",
              "  </tbody>\n",
              "</table>\n",
              "</div>"
            ],
            "text/plain": [
              "                                                   text      Target\n",
              "76       error pointed judgment reversed cause remanded  Conclusion\n",
              "272                    language quoted approved vails v     Invalid\n",
              "536   said asked mr oat go told going get negro sell...       Facts\n",
              "1206  pair shoe mr thompson thought belonged appella...       Facts\n",
              "1665  eberlein alleged injured party testified febru...       Facts"
            ]
          },
          "metadata": {
            "tags": []
          },
          "execution_count": 106
        }
      ]
    },
    {
      "cell_type": "code",
      "metadata": {
        "id": "Xkr3T0FPPNVa",
        "colab": {
          "base_uri": "https://localhost:8080/",
          "height": 204
        },
        "outputId": "54259cd4-2ac9-43a3-edc2-ded00ca83232"
      },
      "source": [
        "train_3.head()"
      ],
      "execution_count": null,
      "outputs": [
        {
          "output_type": "execute_result",
          "data": {
            "text/html": [
              "<div>\n",
              "<style scoped>\n",
              "    .dataframe tbody tr th:only-of-type {\n",
              "        vertical-align: middle;\n",
              "    }\n",
              "\n",
              "    .dataframe tbody tr th {\n",
              "        vertical-align: top;\n",
              "    }\n",
              "\n",
              "    .dataframe thead th {\n",
              "        text-align: right;\n",
              "    }\n",
              "</style>\n",
              "<table border=\"1\" class=\"dataframe\">\n",
              "  <thead>\n",
              "    <tr style=\"text-align: right;\">\n",
              "      <th></th>\n",
              "      <th>Unnamed: 0</th>\n",
              "      <th>text</th>\n",
              "      <th>Target</th>\n",
              "    </tr>\n",
              "  </thead>\n",
              "  <tbody>\n",
              "    <tr>\n",
              "      <th>0</th>\n",
              "      <td>659.0</td>\n",
              "      <td>Appellant had stated to the officers that she ...</td>\n",
              "      <td>Invalid</td>\n",
              "    </tr>\n",
              "    <tr>\n",
              "      <th>1</th>\n",
              "      <td>3456.0</td>\n",
              "      <td>We shall discuss the facts more fully in conne...</td>\n",
              "      <td>Invalid</td>\n",
              "    </tr>\n",
              "    <tr>\n",
              "      <th>2</th>\n",
              "      <td>2043.0</td>\n",
              "      <td>â€œPerjury is a false statement, either writte...</td>\n",
              "      <td>Invalid</td>\n",
              "    </tr>\n",
              "    <tr>\n",
              "      <th>3</th>\n",
              "      <td>3344.0</td>\n",
              "      <td>The offense is felony theft by false pretext; ...</td>\n",
              "      <td>Issue</td>\n",
              "    </tr>\n",
              "    <tr>\n",
              "      <th>4</th>\n",
              "      <td>3231.0</td>\n",
              "      <td>Numerous contentions urging the commission of ...</td>\n",
              "      <td>Issue</td>\n",
              "    </tr>\n",
              "  </tbody>\n",
              "</table>\n",
              "</div>"
            ],
            "text/plain": [
              "   Unnamed: 0                                               text   Target\n",
              "0       659.0  Appellant had stated to the officers that she ...  Invalid\n",
              "1      3456.0  We shall discuss the facts more fully in conne...  Invalid\n",
              "2      2043.0  â€œPerjury is a false statement, either writte...  Invalid\n",
              "3      3344.0  The offense is felony theft by false pretext; ...    Issue\n",
              "4      3231.0  Numerous contentions urging the commission of ...    Issue"
            ]
          },
          "metadata": {
            "tags": []
          },
          "execution_count": 107
        }
      ]
    },
    {
      "cell_type": "code",
      "metadata": {
        "id": "ElMqP9aFPT1n",
        "colab": {
          "base_uri": "https://localhost:8080/",
          "height": 470
        },
        "outputId": "48f397d2-1c90-463d-f5d4-db180ed675ef"
      },
      "source": [
        "frame_4 = [train_3,unlabel_4]\n",
        "train_4 = pd.concat(frame_4)\n",
        "print(len(train_3))\n",
        "print(len(unlabel_4))\n",
        "print(len(train_4))\n",
        "train_4"
      ],
      "execution_count": null,
      "outputs": [
        {
          "output_type": "stream",
          "text": [
            "4000\n",
            "478\n",
            "4478\n"
          ],
          "name": "stdout"
        },
        {
          "output_type": "execute_result",
          "data": {
            "text/html": [
              "<div>\n",
              "<style scoped>\n",
              "    .dataframe tbody tr th:only-of-type {\n",
              "        vertical-align: middle;\n",
              "    }\n",
              "\n",
              "    .dataframe tbody tr th {\n",
              "        vertical-align: top;\n",
              "    }\n",
              "\n",
              "    .dataframe thead th {\n",
              "        text-align: right;\n",
              "    }\n",
              "</style>\n",
              "<table border=\"1\" class=\"dataframe\">\n",
              "  <thead>\n",
              "    <tr style=\"text-align: right;\">\n",
              "      <th></th>\n",
              "      <th>Unnamed: 0</th>\n",
              "      <th>text</th>\n",
              "      <th>Target</th>\n",
              "    </tr>\n",
              "  </thead>\n",
              "  <tbody>\n",
              "    <tr>\n",
              "      <th>0</th>\n",
              "      <td>659.0</td>\n",
              "      <td>Appellant had stated to the officers that she ...</td>\n",
              "      <td>Invalid</td>\n",
              "    </tr>\n",
              "    <tr>\n",
              "      <th>1</th>\n",
              "      <td>3456.0</td>\n",
              "      <td>We shall discuss the facts more fully in conne...</td>\n",
              "      <td>Invalid</td>\n",
              "    </tr>\n",
              "    <tr>\n",
              "      <th>2</th>\n",
              "      <td>2043.0</td>\n",
              "      <td>â€œPerjury is a false statement, either writte...</td>\n",
              "      <td>Invalid</td>\n",
              "    </tr>\n",
              "    <tr>\n",
              "      <th>3</th>\n",
              "      <td>3344.0</td>\n",
              "      <td>The offense is felony theft by false pretext; ...</td>\n",
              "      <td>Issue</td>\n",
              "    </tr>\n",
              "    <tr>\n",
              "      <th>4</th>\n",
              "      <td>3231.0</td>\n",
              "      <td>Numerous contentions urging the commission of ...</td>\n",
              "      <td>Issue</td>\n",
              "    </tr>\n",
              "    <tr>\n",
              "      <th>...</th>\n",
              "      <td>...</td>\n",
              "      <td>...</td>\n",
              "      <td>...</td>\n",
              "    </tr>\n",
              "    <tr>\n",
              "      <th>99294</th>\n",
              "      <td>NaN</td>\n",
              "      <td>appellant pulled kicked thompson back head foo...</td>\n",
              "      <td>Facts</td>\n",
              "    </tr>\n",
              "    <tr>\n",
              "      <th>99465</th>\n",
              "      <td>NaN</td>\n",
              "      <td>error pointed judgment reversed cause remanded</td>\n",
              "      <td>Conclusion</td>\n",
              "    </tr>\n",
              "    <tr>\n",
              "      <th>99603</th>\n",
              "      <td>NaN</td>\n",
              "      <td>appellant swore supported witness cutting dece...</td>\n",
              "      <td>Facts</td>\n",
              "    </tr>\n",
              "    <tr>\n",
              "      <th>99896</th>\n",
              "      <td>NaN</td>\n",
              "      <td>wife ate hamburger trouble stomach several day...</td>\n",
              "      <td>Facts</td>\n",
              "    </tr>\n",
              "    <tr>\n",
              "      <th>99899</th>\n",
              "      <td>NaN</td>\n",
              "      <td>later however went doctor got medicine night w...</td>\n",
              "      <td>Facts</td>\n",
              "    </tr>\n",
              "  </tbody>\n",
              "</table>\n",
              "<p>4478 rows × 3 columns</p>\n",
              "</div>"
            ],
            "text/plain": [
              "       Unnamed: 0  ...      Target\n",
              "0           659.0  ...     Invalid\n",
              "1          3456.0  ...     Invalid\n",
              "2          2043.0  ...     Invalid\n",
              "3          3344.0  ...       Issue\n",
              "4          3231.0  ...       Issue\n",
              "...           ...  ...         ...\n",
              "99294         NaN  ...       Facts\n",
              "99465         NaN  ...  Conclusion\n",
              "99603         NaN  ...       Facts\n",
              "99896         NaN  ...       Facts\n",
              "99899         NaN  ...       Facts\n",
              "\n",
              "[4478 rows x 3 columns]"
            ]
          },
          "metadata": {
            "tags": []
          },
          "execution_count": 108
        }
      ]
    },
    {
      "cell_type": "code",
      "metadata": {
        "id": "9BNVgYeLPuUc",
        "colab": {
          "base_uri": "https://localhost:8080/"
        },
        "outputId": "b2fe8767-0a9a-4acf-e524-115f6bc6ae8b"
      },
      "source": [
        "from sklearn.metrics import classification_report\n",
        "x_train_4 = tfidf_vect.transform(train_4['text'])\n",
        "x_train_4.shape\n",
        "X_train, x_val, Y_train, y_val = train_test_split(x_train_4,train_4['Target'],test_size=0.25,random_state=2)\n",
        "classifier_4 = RandomForestClassifier(n_estimators = 100, criterion = 'gini', random_state = 42)\n",
        "classifier_4.fit(X_train, Y_train)\n",
        "y_pred = classifier_4.predict(x_val)\n",
        "print(np.unique(y_pred))\n",
        "print(type(y_pred))\n",
        "\n",
        "\n",
        "Accuracy_score = accuracy_score(y_pred,y_val)\n",
        "\n",
        "print('Validation ------- Accuracy_score: %f' % Accuracy_score)\n",
        "\n",
        "test_pred = classifier_4.predict(t_p)\n",
        "acc_test = accuracy_score(test_pred,test['Target'])\n",
        "print('Test ------Accuracy score ', acc_test)\n",
        "matrix = confusion_matrix(y_pred, y_val)\n",
        "print(matrix)\n",
        "print(\"---------validation--------------\")\n",
        "print(classification_report(y_val,y_pred))\n",
        "print(\"----------test---------------------\")\n",
        "print(classification_report(test['Target'],test_pred))"
      ],
      "execution_count": null,
      "outputs": [
        {
          "output_type": "stream",
          "text": [
            "['Analysis' 'Conclusion' 'Facts' 'Invalid' 'Issue' 'Rule/Law/Holding']\n",
            "<class 'numpy.ndarray'>\n",
            "Validation ------- Accuracy_score: 0.711607\n",
            "Test ------Accuracy score  0.6046065259117083\n",
            "[[ 32  12  10   4   5   9]\n",
            " [  2  73   1   0   0   0]\n",
            " [ 78  18 568  49  24  29]\n",
            " [ 14   6  28  89   3  11]\n",
            " [  2   0   3   2  20   1]\n",
            " [  1   0   3   1   7  15]]\n",
            "---------validation--------------\n",
            "                  precision    recall  f1-score   support\n",
            "\n",
            "        Analysis       0.44      0.25      0.32       129\n",
            "      Conclusion       0.96      0.67      0.79       109\n",
            "           Facts       0.74      0.93      0.82       613\n",
            "         Invalid       0.59      0.61      0.60       145\n",
            "           Issue       0.71      0.34      0.46        59\n",
            "Rule/Law/Holding       0.56      0.23      0.33        65\n",
            "\n",
            "        accuracy                           0.71      1120\n",
            "       macro avg       0.67      0.50      0.55      1120\n",
            "    weighted avg       0.70      0.71      0.69      1120\n",
            "\n",
            "----------test---------------------\n",
            "                  precision    recall  f1-score   support\n",
            "\n",
            "        Analysis       0.53      0.21      0.30        77\n",
            "      Conclusion       0.80      0.46      0.59        26\n",
            "           Facts       0.64      0.85      0.73       267\n",
            "         Invalid       0.44      0.49      0.47        83\n",
            "           Issue       0.75      0.26      0.39        34\n",
            "Rule/Law/Holding       0.56      0.26      0.36        34\n",
            "\n",
            "        accuracy                           0.60       521\n",
            "       macro avg       0.62      0.42      0.47       521\n",
            "    weighted avg       0.60      0.60      0.57       521\n",
            "\n"
          ],
          "name": "stdout"
        }
      ]
    },
    {
      "cell_type": "markdown",
      "metadata": {
        "id": "2zobrzhKQn2E"
      },
      "source": [
        "Unlabeld 5"
      ]
    },
    {
      "cell_type": "code",
      "metadata": {
        "id": "YvKHLPZhPus4"
      },
      "source": [
        "x_un5 = tfidf_vect.transform(unlabel_5['text'])\n"
      ],
      "execution_count": null,
      "outputs": []
    },
    {
      "cell_type": "code",
      "metadata": {
        "id": "KNbi0iTUj6pW",
        "colab": {
          "base_uri": "https://localhost:8080/"
        },
        "outputId": "81c02486-e929-47ae-9e36-18b3958e8ea1"
      },
      "source": [
        "x_un5.shape"
      ],
      "execution_count": null,
      "outputs": [
        {
          "output_type": "execute_result",
          "data": {
            "text/plain": [
              "(137702, 6383)"
            ]
          },
          "metadata": {
            "tags": []
          },
          "execution_count": 111
        }
      ]
    },
    {
      "cell_type": "code",
      "metadata": {
        "id": "CwzWU83UPULD",
        "colab": {
          "base_uri": "https://localhost:8080/"
        },
        "outputId": "a7ab746b-df01-409f-ab32-02cd300c513c"
      },
      "source": [
        "pred_unlabel_5 = classifier_4.predict_proba(x_un5)\n",
        "pred_unlabel_5"
      ],
      "execution_count": null,
      "outputs": [
        {
          "output_type": "execute_result",
          "data": {
            "text/plain": [
              "array([[0.        , 0.        , 0.19      , 0.76      , 0.        ,\n",
              "        0.05      ],\n",
              "       [0.05      , 0.14      , 0.22      , 0.54      , 0.01      ,\n",
              "        0.04      ],\n",
              "       [0.06      , 0.03      , 0.43      , 0.06      , 0.11      ,\n",
              "        0.31      ],\n",
              "       ...,\n",
              "       [0.23416667, 0.        , 0.41083333, 0.355     , 0.        ,\n",
              "        0.        ],\n",
              "       [0.16      , 0.04      , 0.52      , 0.13      , 0.1       ,\n",
              "        0.05      ],\n",
              "       [0.25833333, 0.34166667, 0.22      , 0.18      , 0.        ,\n",
              "        0.        ]])"
            ]
          },
          "metadata": {
            "tags": []
          },
          "execution_count": 112
        }
      ]
    },
    {
      "cell_type": "code",
      "metadata": {
        "id": "vrO9kRe9j1hn",
        "colab": {
          "base_uri": "https://localhost:8080/"
        },
        "outputId": "3008628a-83c8-4b66-a9a8-2da57c8c24aa"
      },
      "source": [
        "print(len(pred_unlabel_5))\n",
        "print(np.unique(pred_unlabel_5)) "
      ],
      "execution_count": null,
      "outputs": [
        {
          "output_type": "stream",
          "text": [
            "137702\n",
            "[0.         0.0025     0.00285714 ... 0.9875     0.99       1.        ]\n"
          ],
          "name": "stdout"
        }
      ]
    },
    {
      "cell_type": "code",
      "metadata": {
        "id": "_2Y4iBy1kczY",
        "colab": {
          "base_uri": "https://localhost:8080/"
        },
        "outputId": "6798d421-5e80-4470-d23b-22be7444aa77"
      },
      "source": [
        "import numpy as np\n",
        "pos=[]\n",
        "large=[]\n",
        "ind = []\n",
        "i=0\n",
        "for j in pred_unlabel_5:\n",
        "  if max(j)> Threshold:\n",
        "    ind.append(np.argmax(j))\n",
        "    large.append(max(j))\n",
        "    pos.append(i)\n",
        "  i+=1\n",
        "\n",
        "\n",
        "print(ind)\n",
        "print(large)\n",
        "print(pos)\n",
        "print(type(pos))\n",
        "print(len(ind))\n",
        "print(len(large))\n",
        "print(len(pos))"
      ],
      "execution_count": null,
      "outputs": [
        {
          "output_type": "stream",
          "text": [
            "[1, 1, 2, 2, 2, 2, 2, 1, 2, 1, 1, 1, 2, 1, 2, 2, 2, 1, 1, 2, 2, 2, 2, 1, 2, 1, 2, 2, 1, 1, 1, 1, 1, 2, 2, 2, 2, 1, 1, 1, 1, 2, 2, 2, 1, 2, 1, 2, 1, 2, 2, 2, 2, 2, 2, 2, 2, 2, 2, 2, 2, 2, 2, 1, 2, 2, 2, 1, 2, 2, 2, 1, 1, 1, 2, 2, 2, 2, 2, 2, 2, 2, 2, 2, 2, 1, 2, 2, 1, 2, 1, 1, 2, 2, 2, 2, 1, 2, 1, 1, 1, 1, 2, 2, 2, 1, 1, 2, 2, 1, 2, 1, 2, 2, 2, 1, 2, 2, 2, 2, 2, 1, 1, 1, 2, 2, 2, 2, 2, 2, 2, 2, 2, 2, 1, 1, 2, 1, 2, 2, 1, 2, 1, 2, 2, 1, 1, 1, 2, 2, 2, 1, 1, 2, 1, 2, 2, 3, 1, 1, 1, 2, 1, 2, 2, 1, 3, 2, 2, 2, 1, 2, 2, 2, 1, 2, 2, 2, 1, 2, 1, 2, 1, 1, 1, 2, 1, 2, 2, 1, 1, 2, 2, 1, 1, 1, 1, 1, 1, 1, 1, 1, 2, 1, 1, 2, 2, 2, 2, 2, 2, 1, 2, 1, 1, 1, 1, 1, 1, 1, 1, 1, 1, 3, 1, 1, 2, 1, 2, 2, 3, 1, 1, 2, 2, 2, 2, 2, 3, 1, 2, 1, 1, 2, 3, 1, 2, 1, 2, 2, 2, 3, 1, 1, 1, 1, 1, 2, 1, 1, 1, 2, 2, 1, 2, 1, 2, 1, 1, 2, 1, 1, 1, 1, 1, 1, 1, 1, 1, 2, 2, 1, 2, 1, 3, 1, 2, 1, 2, 2, 1, 2, 1, 1, 2, 1, 2, 2, 2, 2, 2, 1, 1, 1, 1, 2, 2, 2, 2, 1, 1, 2, 2, 2, 2, 2, 1, 1, 1, 2, 1, 2, 2, 2, 1, 2, 2, 1, 1, 2, 2, 2, 1, 1, 2, 2, 1, 2, 2, 1, 2, 1, 2, 1, 2, 1, 2, 2, 1, 1, 1, 1, 1, 2, 2, 2, 1, 1, 1, 1, 2, 1, 1, 2, 2, 2, 1, 1, 2, 2, 2, 1, 2, 2, 2, 2, 2, 2, 1, 2, 3, 1, 1, 1, 2, 2, 2, 2, 1, 2, 2, 1, 2, 2, 2, 2, 2, 2, 2, 1, 1, 2, 2, 2, 1, 1, 1, 1, 2, 1, 2, 1, 1, 1, 2, 1, 3, 1, 1, 1, 1, 2, 2, 2, 1, 2, 2, 2, 2, 2, 1, 1, 2, 2, 2, 2, 2, 2, 2, 2, 1, 1, 2, 2, 1, 1, 2, 1, 2, 3, 1, 1, 2, 1, 1, 2, 1, 2, 2, 1, 1, 1, 2, 2, 1, 1, 2, 1, 2, 1, 2, 1, 1, 1, 2, 1, 1, 1, 1, 1, 2, 1, 1, 2, 1, 1, 1, 2, 1, 2, 2, 2, 1, 1, 2, 2, 1, 3, 1, 2, 1, 1, 3, 1, 2, 1, 1, 1, 3, 2, 2, 2, 2, 2, 2, 1, 1, 1, 1, 1, 1, 1, 1, 1, 1, 2, 2, 2, 2, 1, 1, 1, 1, 2, 1, 2, 1, 1, 1, 2, 2, 1, 2, 1, 1, 2, 2, 2, 1, 3, 2, 2, 1, 2, 1, 3, 2, 1, 1, 1, 1, 2, 1, 1, 2, 2, 1, 2, 1, 1, 1, 1, 2, 2, 2, 1, 1, 2, 2, 1, 2, 1, 2, 1, 2, 2, 1, 1, 1, 2, 2, 2, 1, 1, 1, 1, 2, 1, 2, 2, 2, 1, 1, 1, 2, 1, 1, 1, 2, 2, 2, 2, 2, 2, 1, 2, 1, 1, 2, 2, 2, 1, 2, 1, 2, 1, 2, 2, 2, 2, 2, 1, 1, 1, 2, 2, 2, 2, 1, 2, 1, 2, 1, 2, 2, 1, 2, 2, 2, 1, 1, 1, 2, 2, 2, 2, 1, 1, 1, 1, 2, 2, 2, 1, 1, 2, 2, 2, 2, 2, 1, 2, 1, 1, 1, 2, 1, 1, 2, 2, 2, 2, 1, 2, 1, 1, 2, 1, 1, 2, 1, 1, 2, 1, 1, 1, 1, 1, 2, 1, 1, 2, 1, 1, 2, 3, 1, 2, 2, 2, 2, 2, 2, 2, 1, 2, 2, 1, 3, 1, 2, 1, 2, 1, 2, 2, 1, 1, 2, 2, 2, 1, 1, 2, 1, 1, 2, 1, 1, 2, 1, 1, 2, 2, 2, 2, 2, 2, 2, 2, 1, 2, 1, 1, 2, 2, 1, 1, 2, 1, 1, 2, 2, 1, 3, 1, 1, 2, 2, 2, 1, 2, 2, 1, 3, 1, 1, 2, 2, 1, 2, 1, 2, 2, 1, 2, 1, 2, 1, 1, 1, 1, 2, 2, 2, 1, 1, 1, 2, 2, 1, 2, 2, 1, 1, 2, 2, 1, 1, 1, 3, 2, 2, 1, 2, 1, 1, 1, 2, 2, 2, 2, 2, 1, 1, 1, 3, 2, 1, 1, 1, 1, 2, 1, 1, 2, 1, 1, 2, 2, 2, 2, 2, 2, 2, 2, 2, 2, 2, 1, 1, 1, 2, 2, 1, 1, 2, 1, 2, 1, 2, 2, 2, 1, 1, 1, 2, 2, 2, 1, 2, 1, 2, 1, 2, 1, 1, 2, 1, 1, 2, 1, 2, 2, 2, 2, 2, 2, 1, 2, 2, 1, 1, 2, 2, 2, 1, 1, 1, 1, 2, 2, 1, 2, 2, 2, 2, 2, 2, 1, 2, 2, 1, 1, 2, 2, 1, 1, 1, 1, 1, 2, 2, 1, 1, 1, 1, 2, 1, 1, 1, 2, 2, 2, 2, 2, 2, 1, 2, 2, 2, 2, 1, 1, 2, 2, 2, 2, 2, 2, 1, 2, 2, 2, 2, 2, 1, 2, 2, 2, 2, 2, 2, 2, 2, 1, 2, 1, 3, 1, 3, 2, 1, 1, 2, 1, 2, 2, 1, 2, 2, 2, 1, 2, 1, 1, 2, 1, 1, 1, 2, 2, 2, 2, 2, 2, 2, 2, 2, 2, 1, 2, 2, 1, 2, 2, 2, 2, 2, 1, 1, 1, 2, 2, 2, 2, 2, 1, 2, 1, 1, 2, 1, 2, 2, 2, 2, 2, 1, 2, 2, 2, 1, 1, 1, 2, 2, 2, 1, 1, 1, 2, 2, 1, 2, 2, 1, 2, 2, 1, 2, 1, 2, 2, 1, 2, 2, 2, 1, 1, 2, 2, 1, 2, 1, 2, 2, 1, 1, 2, 2, 1, 2, 1, 1, 3, 2, 2, 2, 2, 1, 2, 1, 1, 2, 2, 1, 1, 1, 2, 1, 2, 1, 3, 1, 1, 2, 1, 2, 2, 2, 1, 2, 1, 2, 2, 2, 1, 1, 1, 1, 1, 2, 2, 2, 2, 2, 1, 1, 1, 2, 2, 1, 2, 1, 2, 2, 1, 1, 2, 1, 1, 1, 2, 1, 2, 1, 1, 1, 2, 1, 2, 1, 1, 2, 2, 2, 1, 1, 1, 2, 1, 2, 1, 1, 2, 1, 2, 1, 1, 2, 2, 1, 1, 1, 1, 2, 2, 2, 2, 2, 2, 2, 2, 2, 1, 2, 1, 2, 2, 2, 2, 2, 2, 2, 2, 2, 2, 1, 1, 2, 2, 1, 1, 1, 2, 1, 2, 2, 2, 2, 1, 2, 2, 1, 1, 1, 2, 2, 1, 2, 1, 2, 2, 2, 1, 3, 2, 1, 2, 2, 1, 1, 1, 1, 2, 1, 2, 2, 1, 1, 1, 2, 3, 2, 1, 1, 1, 1, 1, 1, 1, 1, 2, 2, 2, 1, 1, 2, 2, 2, 2, 1, 1, 1, 2, 2, 1, 2, 1, 1, 2, 1, 2, 2, 1, 2, 1, 2, 1, 1, 1, 2, 2, 2, 2, 2, 2, 1, 1, 2, 1, 1, 1, 1, 2, 2, 2, 1, 1, 2, 2, 2, 1, 2, 1, 1, 1, 1, 2, 1, 2, 3, 1, 2, 1, 1, 2, 2, 2, 2, 2, 1, 2, 2, 2, 2, 1, 2, 1, 1, 1, 1, 1, 2, 1, 2, 2, 1, 1, 1, 2, 1, 1, 2, 2, 2, 1, 2, 2, 1, 2, 2, 1, 1, 2, 2, 2, 2, 2, 1, 2, 2, 2, 2, 2, 2, 2, 1, 2, 1, 2, 2, 1, 2, 2, 1, 2, 2, 1, 1, 3, 1, 1, 2, 1, 1, 1, 2, 1, 2, 2, 2, 2, 2, 2, 2, 2, 1, 2, 1, 1, 2, 2, 2, 1, 1, 2, 1, 1, 1, 2, 2, 2, 2, 2, 1, 1, 1, 2, 1, 1, 2, 2, 2, 2, 1, 3, 3, 1, 1, 2, 1, 1, 2, 1, 1, 2, 2, 2, 1, 1, 2, 2, 3, 1, 1, 1, 1, 2, 1, 2, 2, 2, 2, 2, 2, 2, 1, 2, 2, 2, 2, 2, 1, 2, 2, 1, 1, 2, 1, 2, 1, 2, 1, 2, 2, 3, 1, 1, 2, 2, 2, 1, 1, 1, 2, 2, 1, 1, 2, 1, 1, 2, 2, 2, 2, 1, 1, 2, 1, 1, 2, 2, 2, 2, 1, 1, 1, 2, 3, 1, 1, 1, 2, 2, 2, 2, 2, 1, 2, 1, 2, 2, 2, 1, 2, 1, 2, 2, 1, 1, 1, 2, 1, 2, 1, 1]\n",
            "[0.99, 1.0, 1.0, 1.0, 0.99, 1.0, 0.99, 0.99, 0.99, 0.99, 0.99, 1.0, 0.99, 0.99, 1.0, 1.0, 1.0, 0.99, 0.99, 1.0, 1.0, 1.0, 1.0, 0.99, 0.99, 0.99, 0.99, 0.99, 0.99, 0.99, 0.99, 0.985, 1.0, 0.99, 1.0, 1.0, 1.0, 0.985, 1.0, 0.99, 0.985, 1.0, 0.99, 0.99, 0.99, 0.99, 1.0, 1.0, 0.99, 0.99, 1.0, 0.985, 0.99, 0.99, 0.99, 0.99, 0.99, 0.99, 0.99, 0.99, 1.0, 1.0, 1.0, 0.99, 1.0, 0.99, 1.0, 0.99, 0.99, 0.99, 1.0, 0.99, 1.0, 0.99, 0.99, 0.99, 0.99, 0.99, 1.0, 0.99, 0.99, 0.99, 0.99, 1.0, 1.0, 0.99, 1.0, 1.0, 0.99, 0.99, 0.99, 0.99, 1.0, 0.99, 1.0, 0.99, 0.99, 0.99, 1.0, 0.99, 0.99, 0.99, 1.0, 0.99, 1.0, 0.99, 0.99, 1.0, 1.0, 0.99, 1.0, 0.99, 1.0, 0.99, 0.99, 0.99, 1.0, 0.99, 1.0, 1.0, 0.99, 0.99, 0.985, 0.99, 1.0, 0.99, 0.99, 1.0, 0.99, 1.0, 1.0, 1.0, 1.0, 0.99, 0.99, 0.99, 0.99, 0.99, 1.0, 0.99, 0.99, 1.0, 0.99, 1.0, 0.99, 0.99, 0.99, 0.985, 1.0, 0.99, 0.99, 0.985, 0.99, 1.0, 0.99, 0.99, 1.0, 0.99, 0.99, 0.99, 0.99, 1.0, 0.99, 0.99, 1.0, 0.99, 0.99, 0.99, 1.0, 0.99, 0.99, 1.0, 0.99, 0.99, 1.0, 1.0, 0.99, 0.99, 1.0, 0.99, 1.0, 1.0, 0.99, 0.99, 0.99, 1.0, 0.99, 1.0, 1.0, 1.0, 1.0, 0.99, 0.99, 0.99, 0.99, 1.0, 0.99, 0.99, 0.985, 0.99, 1.0, 1.0, 0.99, 0.985, 0.99, 1.0, 0.99, 0.99, 0.99, 1.0, 0.99, 0.99, 0.99, 0.99, 0.99, 0.99, 0.99, 1.0, 0.99, 0.99, 0.99, 0.99, 0.99, 1.0, 0.99, 0.99, 1.0, 0.985, 0.99, 0.99, 0.99, 1.0, 1.0, 0.99, 0.99, 0.99, 0.99, 0.99, 0.99, 0.99, 0.99, 1.0, 0.99, 1.0, 0.99, 0.99, 0.99, 0.99, 1.0, 0.99, 0.99, 1.0, 1.0, 0.99, 0.99, 0.99, 0.985, 0.99, 0.99, 0.99, 1.0, 0.99, 0.99, 0.99, 0.99, 0.985, 0.99, 0.99, 0.99, 0.99, 0.99, 0.99, 0.99, 0.99, 1.0, 0.99, 0.99, 0.99, 0.99, 0.99, 0.99, 0.985, 0.99, 0.99, 1.0, 0.99, 0.99, 0.99, 1.0, 0.99, 0.985, 0.99, 0.99, 0.99, 0.99, 0.99, 1.0, 0.99, 1.0, 0.99, 0.99, 1.0, 0.99, 0.99, 0.99, 1.0, 0.99, 0.99, 0.99, 0.99, 0.99, 0.99, 1.0, 0.99, 1.0, 0.99, 0.99, 0.99, 0.99, 0.99, 1.0, 1.0, 0.99, 1.0, 0.99, 1.0, 1.0, 0.99, 0.99, 0.99, 0.99, 1.0, 1.0, 1.0, 0.99, 0.99, 0.99, 1.0, 0.99, 0.99, 1.0, 0.99, 1.0, 0.99, 1.0, 0.99, 0.99, 0.99, 1.0, 1.0, 0.99, 0.99, 0.99, 0.99, 0.99, 0.99, 0.99, 0.99, 0.99, 0.99, 0.99, 0.99, 1.0, 0.99, 0.99, 0.99, 0.99, 0.99, 0.99, 0.99, 1.0, 0.99, 0.99, 0.99, 0.99, 1.0, 0.99, 1.0, 0.99, 0.99, 0.99, 0.985, 1.0, 0.99, 0.99, 0.99, 1.0, 0.99, 0.99, 1.0, 0.99, 0.99, 0.99, 1.0, 1.0, 0.99, 0.99, 0.99, 0.99, 0.99, 0.99, 0.99, 0.99, 1.0, 1.0, 0.99, 0.99, 0.99, 0.99, 0.99, 0.99, 1.0, 0.99, 0.99, 1.0, 1.0, 0.99, 0.99, 1.0, 0.99, 0.99, 0.99, 0.99, 0.99, 0.99, 1.0, 0.99, 0.99, 0.99, 1.0, 0.99, 0.99, 0.99, 0.99, 1.0, 0.99, 1.0, 0.99, 0.99, 0.99, 0.99, 1.0, 1.0, 0.99, 0.99, 0.99, 0.99, 0.99, 0.99, 1.0, 1.0, 0.99, 1.0, 0.99, 0.99, 1.0, 0.985, 1.0, 0.99, 0.99, 0.99, 1.0, 1.0, 1.0, 1.0, 1.0, 0.99, 0.99, 1.0, 0.99, 0.99, 0.99, 1.0, 0.99, 0.99, 1.0, 0.99, 1.0, 0.985, 0.99, 1.0, 0.99, 0.99, 1.0, 1.0, 0.99, 1.0, 1.0, 0.99, 0.99, 0.99, 0.99, 1.0, 1.0, 0.99, 1.0, 0.99, 0.99, 1.0, 1.0, 0.99, 1.0, 1.0, 0.99, 0.99, 0.99, 1.0, 0.99, 1.0, 0.99, 0.99, 0.99, 0.99, 0.99, 1.0, 0.99, 0.99, 0.99, 0.99, 0.985, 0.99, 0.99, 1.0, 0.99, 0.99, 0.99, 1.0, 1.0, 0.99, 0.99, 0.99, 0.985, 1.0, 1.0, 0.99, 0.99, 1.0, 0.985, 0.985, 1.0, 1.0, 0.99, 1.0, 0.99, 0.99, 0.99, 0.99, 1.0, 0.99, 0.99, 0.99, 1.0, 0.99, 0.99, 0.99, 1.0, 0.99, 0.99, 0.99, 0.99, 0.99, 0.99, 1.0, 0.99, 1.0, 1.0, 0.99, 0.99, 0.99, 0.99, 1.0, 0.99, 0.99, 0.99, 0.99, 0.99, 0.99, 1.0, 0.99, 0.985, 1.0, 0.99, 0.99, 1.0, 0.99, 1.0, 0.99, 0.99, 0.99, 0.99, 1.0, 1.0, 0.99, 0.99, 1.0, 0.99, 0.99, 0.99, 1.0, 0.99, 1.0, 0.99, 0.99, 0.99, 0.99, 0.99, 0.99, 0.99, 0.99, 0.99, 1.0, 0.99, 1.0, 0.99, 0.99, 1.0, 0.99, 0.99, 0.99, 1.0, 0.99, 0.99, 0.99, 0.99, 0.99, 0.99, 1.0, 0.99, 1.0, 0.99, 0.99, 0.99, 0.985, 0.99, 0.99, 1.0, 1.0, 1.0, 0.99, 0.99, 0.99, 0.99, 0.99, 0.99, 0.99, 0.99, 0.99, 1.0, 1.0, 1.0, 0.99, 0.99, 1.0, 0.99, 0.99, 0.99, 0.99, 0.99, 0.99, 0.99, 0.99, 0.99, 1.0, 0.99, 0.99, 1.0, 0.99, 0.99, 0.99, 0.99, 1.0, 0.99, 0.99, 0.99, 0.99, 1.0, 1.0, 0.99, 1.0, 0.99, 0.99, 0.99, 1.0, 0.99, 0.99, 0.99, 0.99, 0.99, 0.99, 0.99, 0.99, 0.99, 0.99, 0.99, 0.99, 0.99, 0.99, 1.0, 0.99, 1.0, 0.99, 0.99, 1.0, 0.985, 0.99, 0.99, 0.99, 0.99, 0.99, 0.99, 0.99, 1.0, 0.99, 0.99, 0.99, 1.0, 0.99, 1.0, 0.99, 0.99, 0.99, 1.0, 1.0, 0.99, 0.99, 1.0, 0.99, 0.99, 1.0, 1.0, 1.0, 0.99, 1.0, 0.99, 0.99, 0.99, 0.99, 1.0, 0.985, 1.0, 1.0, 0.985, 0.99, 0.99, 1.0, 0.99, 0.99, 1.0, 0.99, 0.99, 1.0, 1.0, 0.99, 0.99, 1.0, 0.99, 0.99, 0.99, 0.99, 0.99, 0.99, 1.0, 0.99, 0.99, 1.0, 0.99, 0.99, 0.99, 1.0, 0.99, 0.99, 0.99, 0.99, 0.985, 1.0, 0.99, 0.99, 1.0, 1.0, 1.0, 0.99, 0.99, 0.99, 0.99, 0.99, 0.99, 0.99, 1.0, 1.0, 0.99, 1.0, 0.985, 0.99, 1.0, 1.0, 1.0, 0.99, 0.985, 0.99, 1.0, 0.99, 0.99, 0.99, 1.0, 0.99, 1.0, 1.0, 0.99, 0.99, 0.99, 1.0, 1.0, 0.99, 0.99, 0.99, 0.99, 1.0, 1.0, 0.99, 0.99, 1.0, 0.99, 0.99, 1.0, 0.985, 0.99, 1.0, 0.99, 0.99, 1.0, 0.99, 0.99, 0.99, 0.99, 0.99, 0.99, 0.99, 0.99, 0.99, 0.99, 0.99, 1.0, 1.0, 0.99, 1.0, 0.99, 1.0, 0.99, 1.0, 1.0, 1.0, 0.99, 0.99, 0.99, 0.99, 0.99, 0.99, 0.99, 0.99, 0.99, 0.99, 0.99, 1.0, 0.99, 0.99, 0.99, 1.0, 1.0, 1.0, 0.99, 0.99, 0.99, 0.99, 0.99, 0.99, 0.99, 0.99, 1.0, 0.99, 0.99, 1.0, 0.99, 0.99, 0.99, 0.99, 0.99, 0.99, 1.0, 0.99, 1.0, 1.0, 0.99, 0.99, 0.99, 0.99, 0.99, 1.0, 0.99, 0.99, 0.99, 0.99, 0.99, 0.99, 1.0, 0.99, 0.99, 1.0, 0.99, 1.0, 0.99, 1.0, 0.99, 0.99, 0.985, 1.0, 0.99, 0.99, 0.99, 0.99, 0.99, 0.985, 0.99, 1.0, 0.99, 0.99, 0.99, 0.99, 0.99, 0.99, 0.99, 0.99, 0.99, 1.0, 0.99, 0.9875, 1.0, 0.99, 0.99, 0.99, 1.0, 0.99, 1.0, 0.985, 0.99, 0.99, 0.99, 0.99, 0.99, 0.99, 0.99, 0.99, 0.99, 0.99, 0.99, 1.0, 1.0, 0.99, 1.0, 0.99, 1.0, 0.99, 1.0, 0.99, 0.99, 1.0, 0.99, 0.99, 0.985, 0.99, 0.99, 0.99, 0.99, 0.99, 1.0, 0.99, 0.99, 0.99, 0.99, 0.985, 1.0, 1.0, 0.99, 0.99, 0.99, 1.0, 0.99, 0.99, 0.99, 0.99, 0.99, 0.99, 1.0, 1.0, 1.0, 0.99, 1.0, 0.99, 0.99, 0.99, 0.99, 1.0, 0.99, 1.0, 0.99, 1.0, 0.99, 1.0, 0.99, 0.99, 0.99, 1.0, 0.99, 0.99, 1.0, 1.0, 0.99, 0.99, 0.99, 0.99, 0.99, 0.99, 0.99, 0.99, 0.99, 0.99, 0.99, 0.99, 1.0, 0.99, 0.99, 1.0, 0.99, 0.99, 0.99, 0.99, 1.0, 1.0, 0.99, 1.0, 0.99, 0.99, 0.99, 1.0, 0.99, 1.0, 1.0, 0.99, 1.0, 0.99, 0.99, 1.0, 0.985, 0.99, 0.99, 1.0, 0.99, 1.0, 0.99, 1.0, 0.99, 0.99, 1.0, 0.99, 0.99, 1.0, 1.0, 1.0, 0.99, 0.99, 0.99, 0.99, 0.99, 0.99, 0.99, 0.99, 0.99, 1.0, 0.99, 0.99, 0.99, 1.0, 0.99, 0.99, 0.99, 0.99, 0.99, 1.0, 0.99, 0.99, 0.99, 0.99, 1.0, 0.99, 0.99, 1.0, 0.99, 1.0, 0.99, 1.0, 0.99, 1.0, 0.99, 1.0, 0.99, 1.0, 1.0, 0.99, 0.99, 0.99, 0.99, 0.99, 1.0, 1.0, 0.99, 0.99, 1.0, 0.99, 0.99, 0.985, 0.99, 0.99, 0.99, 0.99, 1.0, 0.985, 0.99, 1.0, 0.99, 0.99, 0.99, 0.99, 0.99, 1.0, 0.99, 0.99, 0.99, 1.0, 0.99, 0.985, 0.99, 0.99, 1.0, 1.0, 0.99, 1.0, 1.0, 0.99, 0.99, 0.99, 0.99, 0.99, 1.0, 1.0, 0.99, 0.985, 1.0, 0.99, 0.99, 1.0, 0.99, 0.99, 1.0, 0.99, 1.0, 0.985, 1.0, 1.0, 1.0, 1.0, 1.0, 1.0, 0.99, 0.99, 0.99, 1.0, 0.99, 0.99, 0.99, 0.99, 1.0, 1.0, 0.99, 1.0, 1.0, 0.99, 1.0, 1.0, 1.0, 1.0, 0.99, 1.0, 0.99, 0.99, 0.99, 0.99, 0.99, 0.99, 0.99, 1.0, 0.99, 0.99, 0.99, 0.99, 1.0, 0.99, 0.99, 0.99, 0.99, 0.99, 1.0, 0.99, 0.99, 0.99, 1.0, 0.99, 1.0, 0.99, 1.0, 0.99, 0.99, 0.99, 0.99, 0.99, 0.99, 0.99, 0.99, 0.99, 1.0, 0.99, 0.99, 0.99, 0.99, 0.99, 0.99, 0.99, 0.99, 0.99, 1.0, 0.99, 0.99, 0.99, 1.0, 0.99, 1.0, 0.99, 0.99, 1.0, 0.99, 1.0, 0.99, 0.99, 0.99, 0.99, 1.0, 0.99, 0.99, 0.99, 0.99, 0.99, 0.99, 0.99, 0.99, 0.985, 1.0, 1.0, 0.99, 0.99, 0.99, 1.0, 0.99, 0.99, 1.0, 0.99, 0.99, 1.0, 0.99, 1.0, 0.99, 0.99, 0.99, 0.99, 0.99, 0.99, 0.99, 0.985, 0.99, 0.99, 0.99, 1.0, 0.99, 1.0, 1.0, 0.99, 0.99, 1.0, 0.99, 1.0, 1.0, 0.99, 1.0, 0.99, 0.99, 1.0, 0.99, 1.0, 0.99, 0.99, 0.99, 0.99, 1.0, 0.99, 0.99, 0.99, 0.99, 0.99, 0.99, 1.0, 0.99, 1.0, 1.0, 0.99, 0.985, 0.99, 1.0, 0.99, 0.99, 1.0, 1.0, 0.99, 0.99, 0.99, 0.99, 0.99, 0.99, 0.99, 0.99, 0.99, 0.99, 0.99, 0.99, 0.99, 0.99, 0.99, 1.0, 0.99, 1.0, 1.0, 1.0, 1.0, 0.99, 1.0, 1.0, 0.99, 0.99, 1.0, 0.99, 1.0, 0.99, 0.99, 1.0, 0.99, 0.99, 0.99, 0.99, 1.0, 0.99, 1.0, 0.99, 0.99, 0.99, 0.99, 0.99, 0.99, 0.985, 0.99, 0.99, 1.0, 0.99, 0.99, 0.99, 0.99, 1.0, 1.0, 1.0, 0.99, 0.99, 0.99, 1.0, 0.99, 0.99, 0.985, 0.99, 1.0, 0.99, 0.99, 1.0, 0.99, 0.99, 0.99, 0.99, 0.99, 1.0, 0.99, 0.99, 1.0, 1.0, 0.99, 0.99, 0.99, 0.99, 0.99, 0.99, 0.99, 0.99, 0.99, 1.0, 1.0, 1.0, 1.0, 0.99, 1.0, 0.99, 0.99, 0.99, 0.99, 0.99, 1.0, 0.99, 0.99, 1.0, 0.99, 0.99, 1.0, 1.0, 0.99, 0.99, 0.99, 1.0, 1.0, 0.99, 0.99, 0.99, 0.99, 1.0, 0.99, 1.0, 0.99, 0.99, 0.99, 0.99, 0.99, 1.0, 1.0, 0.99, 0.99, 0.99, 0.99, 1.0, 0.985, 0.99, 0.99, 0.99, 0.99, 1.0, 0.99, 0.99, 0.99, 1.0, 0.99, 0.99, 1.0, 0.99, 1.0, 1.0, 1.0, 0.99, 0.99, 0.99, 0.99, 0.99, 0.99, 1.0, 0.99, 1.0, 0.99, 0.99, 0.99, 0.99, 1.0, 1.0, 1.0, 0.985, 0.99, 0.99, 1.0, 0.99, 0.99, 0.99, 0.99, 0.99, 0.99, 1.0, 0.985, 1.0, 0.99, 1.0, 1.0, 0.99, 0.99, 0.99, 1.0, 0.99, 0.99, 0.99, 0.99, 0.99, 1.0, 0.99, 0.99, 1.0, 1.0, 0.99, 0.99, 0.99, 0.99, 0.99, 1.0, 0.99]\n",
            "[134, 225, 265, 406, 420, 445, 461, 712, 1042, 1089, 1164, 1226, 1234, 1515, 1818, 1855, 1868, 1897, 2018, 2116, 2165, 2186, 2258, 2296, 2381, 2490, 2493, 2520, 2541, 2645, 2678, 2715, 2813, 3279, 3393, 3400, 3405, 3511, 3979, 3987, 4009, 4083, 4173, 4276, 4343, 4667, 4808, 4898, 4960, 5019, 5269, 5301, 5303, 5344, 5349, 5357, 5384, 5492, 5541, 5542, 5543, 5546, 5719, 5819, 6028, 6031, 6032, 6437, 6631, 6652, 6704, 6837, 6877, 7099, 7394, 7396, 7398, 7402, 7404, 7405, 7406, 7519, 7560, 7918, 8145, 8159, 8195, 8246, 8285, 8363, 8485, 8493, 8676, 8708, 8802, 8841, 9164, 9166, 9220, 9372, 9445, 9453, 9560, 9566, 9668, 9703, 9730, 9905, 10059, 10070, 10091, 10338, 10343, 10418, 10505, 10561, 10611, 10612, 10615, 10623, 10643, 10684, 10857, 11193, 11483, 11508, 11655, 11829, 11830, 11844, 11864, 11866, 11870, 11892, 12007, 12380, 12404, 12493, 12544, 12547, 12665, 12678, 12690, 12696, 12803, 12827, 13186, 13337, 13678, 13701, 13821, 13850, 14025, 14100, 14205, 14221, 14226, 14300, 14509, 14929, 14945, 15013, 15045, 15088, 15129, 15134, 15179, 15198, 15205, 15206, 15211, 15461, 15554, 15556, 15690, 15751, 15786, 15795, 15801, 15842, 16288, 16431, 16499, 16614, 16678, 16724, 16796, 16869, 16870, 16872, 16996, 17011, 17062, 17098, 17114, 17252, 17291, 17303, 17322, 17354, 17815, 18240, 18541, 18552, 18602, 18609, 18614, 18788, 18836, 18856, 19080, 19195, 19230, 19237, 19576, 19795, 19872, 19897, 19986, 20010, 20043, 20084, 20097, 20223, 20244, 20373, 20714, 20737, 20925, 20993, 21160, 21859, 21971, 22046, 22284, 22286, 22320, 22530, 22539, 22643, 22648, 22738, 22769, 23095, 23145, 23184, 23197, 23366, 23381, 23398, 23641, 24139, 24184, 24224, 24239, 24252, 24446, 24470, 24540, 24562, 24602, 24656, 24671, 24729, 24783, 24864, 25025, 25191, 25252, 25346, 25377, 25428, 25454, 25485, 25519, 25565, 25594, 25697, 25750, 26091, 26096, 26141, 26280, 26340, 26626, 26685, 26707, 26819, 26837, 26838, 26850, 26860, 26895, 26970, 27320, 27340, 27352, 27376, 27573, 27576, 27577, 27712, 27795, 27822, 27860, 27980, 27995, 28042, 28331, 28559, 28658, 28727, 28744, 28747, 28770, 28953, 29152, 29246, 29254, 29362, 29402, 29586, 29596, 29608, 29627, 29642, 29658, 29784, 29883, 29887, 29982, 29987, 30055, 30107, 30895, 30998, 31156, 31315, 31449, 31533, 31583, 31867, 31992, 32123, 32137, 32164, 32310, 32311, 32359, 32455, 32494, 32760, 32792, 32796, 33116, 33118, 33198, 33209, 33274, 33299, 33331, 33345, 33408, 33420, 33421, 33424, 33440, 33460, 33562, 33656, 33661, 33700, 33735, 33737, 33795, 33814, 33815, 33823, 33979, 34022, 34110, 34135, 34245, 34293, 34550, 34555, 34767, 34770, 35264, 35538, 35608, 35653, 35671, 35674, 35684, 35687, 35690, 35694, 35748, 35837, 36065, 36085, 36089, 36117, 36219, 36236, 36276, 36474, 36564, 36590, 36603, 36732, 36882, 36893, 37061, 37299, 37550, 37685, 37723, 37754, 37775, 37797, 37846, 37868, 37903, 38050, 38112, 38276, 38524, 38532, 38538, 38616, 38680, 38686, 38746, 38748, 38752, 38756, 38757, 38766, 38951, 39010, 39071, 39340, 39423, 39638, 39696, 39832, 40126, 40260, 40379, 40456, 40506, 40751, 40966, 41232, 41369, 41381, 41437, 41704, 41869, 41951, 42073, 42078, 42102, 42115, 42159, 42199, 42248, 42517, 42620, 42699, 42732, 42745, 42795, 43172, 43511, 43566, 43666, 43744, 43768, 43773, 43790, 43871, 43913, 43921, 44044, 44166, 44195, 44239, 44247, 44249, 44344, 44401, 44563, 44564, 44605, 44671, 44745, 44819, 44965, 45072, 45090, 45145, 45439, 45492, 45517, 45574, 45701, 45815, 45857, 45860, 45869, 46064, 46167, 46573, 46628, 46824, 47193, 47253, 47571, 47580, 47659, 47689, 47730, 47800, 47821, 47832, 47839, 47909, 47959, 48051, 48084, 48235, 48238, 48296, 48364, 48419, 48442, 48466, 48484, 48494, 48549, 48678, 48742, 48803, 48806, 48854, 48921, 49147, 49296, 49330, 49343, 49347, 49368, 49639, 49767, 50057, 50095, 50115, 50260, 50345, 50534, 50550, 50575, 50576, 50645, 50745, 50936, 51052, 51069, 51083, 51144, 51289, 51290, 51332, 51441, 51731, 51738, 51863, 52060, 52066, 52078, 52262, 52341, 52409, 52426, 52435, 52503, 52731, 52738, 52766, 52805, 52809, 52974, 52988, 53019, 53076, 53101, 53405, 53548, 53582, 53747, 53762, 53811, 53822, 53896, 53915, 54106, 54107, 54145, 54149, 54151, 54153, 54193, 54217, 54257, 54333, 54385, 54438, 54747, 54831, 54870, 54967, 54998, 55032, 55321, 55434, 55458, 55505, 55579, 55639, 55718, 55735, 55838, 55842, 55889, 55896, 55990, 56002, 56232, 56309, 56312, 56329, 56375, 56497, 56538, 56549, 56551, 56602, 56607, 56845, 56983, 56989, 57105, 57247, 57276, 57412, 57610, 57658, 57829, 57832, 57839, 57853, 57991, 58057, 58072, 58075, 58079, 58200, 58302, 58389, 58572, 58607, 58761, 58782, 58866, 58881, 59122, 59152, 59155, 59162, 59217, 59272, 59349, 59379, 59466, 59486, 59493, 59526, 59885, 59985, 60496, 60621, 60636, 60644, 60655, 60859, 60881, 60888, 60925, 60934, 60984, 61047, 61212, 61285, 61289, 61314, 61330, 61391, 61392, 61587, 61591, 61639, 61654, 61928, 62052, 62062, 62339, 62523, 62533, 62574, 62599, 62769, 62797, 62820, 62901, 62926, 62987, 62999, 63003, 63060, 63173, 63222, 63303, 63523, 63554, 63578, 63703, 63870, 63876, 63965, 64048, 64049, 64069, 64070, 64224, 64382, 64411, 64418, 64581, 64635, 64655, 64715, 64964, 65038, 65389, 65530, 65672, 65709, 65827, 65835, 65837, 65858, 65878, 65898, 65945, 65964, 66088, 66184, 66308, 66406, 66433, 66454, 66623, 66654, 66671, 66708, 66709, 66844, 66888, 66926, 67082, 67084, 67139, 67268, 67348, 67444, 67569, 67623, 67729, 67759, 68144, 68313, 68611, 68761, 68867, 68973, 68980, 68986, 69023, 69161, 69165, 69237, 69277, 69284, 69410, 69427, 69457, 69551, 69590, 69633, 69703, 69772, 69878, 69922, 70006, 70072, 70078, 70080, 70258, 70280, 70427, 70566, 70610, 70616, 70798, 70823, 70884, 70901, 70916, 71031, 71079, 71083, 71133, 71192, 71261, 71289, 71342, 71373, 71377, 71408, 71637, 71639, 71859, 71918, 72006, 72061, 72226, 72351, 72470, 72601, 72643, 72744, 72771, 73017, 73203, 73236, 73368, 73410, 73606, 73675, 73778, 73792, 73844, 73881, 74052, 74065, 74098, 74225, 74236, 74501, 74515, 74556, 74657, 74674, 74681, 74892, 74983, 75017, 75165, 75192, 75262, 75501, 75704, 76072, 76074, 76179, 76287, 76290, 76472, 76484, 76580, 76594, 76595, 76596, 76613, 76675, 76772, 76928, 76986, 77071, 77187, 77490, 77526, 77528, 77530, 77636, 77668, 77797, 77809, 77861, 77933, 78057, 78142, 78164, 78169, 78185, 78246, 78260, 78302, 78308, 78429, 78508, 78585, 78861, 79240, 79309, 79377, 79478, 79587, 79599, 80006, 80011, 80014, 80061, 80137, 80571, 81223, 81266, 81421, 81424, 81470, 81530, 81749, 81751, 81756, 81821, 81918, 82066, 82349, 82384, 82537, 82544, 82555, 82625, 82649, 82858, 82862, 82863, 82865, 82868, 82905, 82950, 82998, 83066, 83201, 83515, 83570, 83897, 84145, 84266, 84317, 84704, 84816, 84850, 84952, 85205, 85241, 85307, 85360, 85395, 85473, 85475, 86006, 86026, 86119, 86239, 86360, 86403, 86538, 86702, 86734, 86742, 86752, 86860, 86905, 86907, 87143, 87316, 87345, 87510, 87592, 87650, 87653, 87888, 87891, 87895, 88027, 88065, 88098, 88127, 88227, 88229, 88230, 88245, 88259, 88374, 88436, 88442, 88464, 88589, 88714, 88781, 88782, 88784, 88826, 88969, 89094, 89236, 89237, 89238, 89433, 89620, 89631, 89776, 89791, 89798, 89847, 89903, 89911, 90380, 90445, 90503, 90510, 90661, 90691, 90896, 91107, 91152, 91428, 91483, 91488, 91490, 91529, 91562, 91680, 91681, 91689, 91875, 91892, 92073, 92278, 92377, 92534, 92594, 92827, 92915, 92933, 92976, 93040, 93169, 93222, 93245, 93264, 93343, 93462, 93592, 93645, 93659, 93733, 93738, 93765, 93830, 93933, 93939, 93994, 94060, 94109, 94401, 94483, 94590, 94634, 94852, 94947, 94979, 94987, 95061, 95073, 95076, 95078, 95209, 95289, 95533, 95630, 95640, 95846, 95939, 96005, 96243, 96335, 96530, 96612, 96622, 96633, 96683, 96775, 96866, 97041, 97060, 97064, 97074, 97090, 97160, 97772, 97944, 97961, 98114, 98226, 98260, 98321, 98341, 98357, 98425, 98695, 98856, 99152, 99833, 99876, 99994, 100091, 100106, 100171, 100195, 100201, 100210, 100372, 100471, 100691, 100715, 100750, 100897, 101220, 101377, 101449, 101465, 101493, 101691, 101898, 101969, 102070, 102088, 102182, 102269, 102298, 102465, 102483, 102565, 102567, 102738, 102837, 103074, 103116, 103148, 103149, 103354, 103392, 103538, 103688, 103824, 103826, 103953, 103955, 103956, 103957, 104152, 104154, 104156, 104284, 104332, 104338, 104359, 104479, 104595, 104650, 104666, 104718, 104744, 104925, 105019, 105039, 105250, 105384, 105457, 105663, 105899, 105968, 106051, 106302, 106391, 106536, 106558, 106705, 106724, 106752, 106767, 106837, 106876, 107193, 107290, 107406, 107677, 107687, 107868, 107991, 108270, 108274, 108496, 108520, 108556, 108602, 108889, 109253, 109335, 109355, 109359, 109394, 109429, 109437, 109856, 110051, 110102, 110125, 110130, 110169, 110396, 110402, 110430, 110532, 110583, 110586, 110792, 111027, 111222, 111880, 111927, 111968, 112040, 112059, 112079, 112183, 112268, 112454, 112505, 112561, 112763, 112819, 112914, 112941, 112963, 112985, 113006, 113110, 113129, 113260, 113352, 113364, 113594, 113610, 113639, 113737, 113753, 113943, 113986, 114639, 114810, 114921, 115057, 115128, 115209, 115339, 115341, 115521, 115618, 115807, 115836, 115907, 116084, 116125, 116260, 116447, 116495, 116527, 116600, 116744, 116771, 116779, 116823, 116884, 116979, 117099, 117243, 117302, 117327, 117334, 117435, 117502, 117512, 117520, 117535, 117586, 117927, 118003, 118101, 118104, 118156, 118184, 118187, 118202, 118685, 118782, 118924, 119120, 119309, 119325, 119347, 119372, 119385, 119483, 119523, 119542, 119601, 119605, 119644, 119732, 119766, 119937, 119948, 120434, 120474, 120572, 120627, 120687, 120759, 120808, 120998, 121134, 121137, 121238, 121431, 121475, 121664, 121899, 121923, 121947, 122042, 122107, 122176, 122179, 122187, 122354, 122649, 122788, 122831, 122970, 123081, 123809, 123986, 123998, 124142, 124146, 124148, 124155, 124156, 124379, 124455, 124597, 124859, 124863, 124910, 124971, 125022, 125070, 125108, 125118, 125149, 125195, 125245, 125247, 125435, 125497, 125540, 125649, 125976, 126111, 126250, 126505, 126709, 126875, 126948, 127027, 127065, 127504, 127515, 127531, 127850, 127929, 128016, 128022, 128365, 128435, 128716, 128780, 128953, 129117, 129132, 129233, 129384, 129386, 129389, 129463, 129480, 129704, 129764, 129845, 129892, 129991, 130013, 130182, 130197, 130214, 130251, 130269, 130320, 130325, 130439, 130452, 130455, 130546, 130684, 130841, 130852, 130958, 130959, 130990, 130993, 130997, 131059, 131074, 131180, 131328, 131516, 131583, 131614, 131681, 131683, 131729, 131924, 131939, 131945, 132103, 132414, 132631, 132949, 133063, 133132, 133240, 133261, 133329, 133428, 133647, 133948, 133988, 134018, 134042, 134048, 134062, 134278, 134358, 134402, 134594, 134613, 134683, 134684, 134686, 134815, 134857, 134922, 135050, 135115, 135140, 135481, 135756, 135877, 135880, 135965, 136002, 136009, 136191, 136201, 136221, 136288, 136433, 136687, 136731, 136831, 136944, 137186, 137216, 137220, 137324, 137361, 137412, 137448, 137525, 137543, 137646, 137696]\n",
            "<class 'list'>\n",
            "1528\n",
            "1528\n",
            "1528\n"
          ],
          "name": "stdout"
        }
      ]
    },
    {
      "cell_type": "code",
      "metadata": {
        "id": "zu7tVTsBkmPI",
        "colab": {
          "base_uri": "https://localhost:8080/",
          "height": 221
        },
        "outputId": "5d8333f5-01d9-416a-8da4-bb124344c66d"
      },
      "source": [
        "unlabel_5 = unlabel_5.loc[pos,:]\n",
        "print(len(unlabel_5))\n",
        "unlabel_5.head()"
      ],
      "execution_count": null,
      "outputs": [
        {
          "output_type": "stream",
          "text": [
            "1528\n"
          ],
          "name": "stdout"
        },
        {
          "output_type": "execute_result",
          "data": {
            "text/html": [
              "<div>\n",
              "<style scoped>\n",
              "    .dataframe tbody tr th:only-of-type {\n",
              "        vertical-align: middle;\n",
              "    }\n",
              "\n",
              "    .dataframe tbody tr th {\n",
              "        vertical-align: top;\n",
              "    }\n",
              "\n",
              "    .dataframe thead th {\n",
              "        text-align: right;\n",
              "    }\n",
              "</style>\n",
              "<table border=\"1\" class=\"dataframe\">\n",
              "  <thead>\n",
              "    <tr style=\"text-align: right;\">\n",
              "      <th></th>\n",
              "      <th>text</th>\n",
              "    </tr>\n",
              "  </thead>\n",
              "  <tbody>\n",
              "    <tr>\n",
              "      <th>134</th>\n",
              "      <td>judgment reversed cause remanded</td>\n",
              "    </tr>\n",
              "    <tr>\n",
              "      <th>225</th>\n",
              "      <td>error pointed judgment reversed cause remanded</td>\n",
              "    </tr>\n",
              "    <tr>\n",
              "      <th>265</th>\n",
              "      <td>mr cason side pickup towards back garage talki...</td>\n",
              "    </tr>\n",
              "    <tr>\n",
              "      <th>406</th>\n",
              "      <td>two three minute time husband came stair went ...</td>\n",
              "    </tr>\n",
              "    <tr>\n",
              "      <th>420</th>\n",
              "      <td>two party night unfortunate occurrence riding ...</td>\n",
              "    </tr>\n",
              "  </tbody>\n",
              "</table>\n",
              "</div>"
            ],
            "text/plain": [
              "                                                  text\n",
              "134                   judgment reversed cause remanded\n",
              "225     error pointed judgment reversed cause remanded\n",
              "265  mr cason side pickup towards back garage talki...\n",
              "406  two three minute time husband came stair went ...\n",
              "420  two party night unfortunate occurrence riding ..."
            ]
          },
          "metadata": {
            "tags": []
          },
          "execution_count": 115
        }
      ]
    },
    {
      "cell_type": "code",
      "metadata": {
        "id": "jiX4GHpzkszc"
      },
      "source": [
        "class_x_un5 = tfidf_vect.transform(unlabel_5['text'])"
      ],
      "execution_count": null,
      "outputs": []
    },
    {
      "cell_type": "code",
      "metadata": {
        "id": "IxpKllGDlAXX",
        "colab": {
          "base_uri": "https://localhost:8080/"
        },
        "outputId": "e14b0e0b-a167-406e-d4dc-bca582edc135"
      },
      "source": [
        "class_x_un5.shape"
      ],
      "execution_count": null,
      "outputs": [
        {
          "output_type": "execute_result",
          "data": {
            "text/plain": [
              "(1528, 6383)"
            ]
          },
          "metadata": {
            "tags": []
          },
          "execution_count": 117
        }
      ]
    },
    {
      "cell_type": "code",
      "metadata": {
        "id": "44BEVr86lGWd",
        "colab": {
          "base_uri": "https://localhost:8080/"
        },
        "outputId": "9579f6ce-00ce-4fd9-ccb6-80ee0bf65dd8"
      },
      "source": [
        "class_pred_unlabel_5 = classifier_4.predict(class_x_un5)\n",
        "class_pred_unlabel_5"
      ],
      "execution_count": null,
      "outputs": [
        {
          "output_type": "execute_result",
          "data": {
            "text/plain": [
              "array(['Conclusion', 'Conclusion', 'Facts', ..., 'Facts', 'Conclusion',\n",
              "       'Conclusion'], dtype=object)"
            ]
          },
          "metadata": {
            "tags": []
          },
          "execution_count": 118
        }
      ]
    },
    {
      "cell_type": "code",
      "metadata": {
        "id": "jf4e449JlhnN",
        "colab": {
          "base_uri": "https://localhost:8080/"
        },
        "outputId": "d9f49f79-f4f6-4320-f433-5fae1328a449"
      },
      "source": [
        "print(len(class_pred_unlabel_5))"
      ],
      "execution_count": null,
      "outputs": [
        {
          "output_type": "stream",
          "text": [
            "1528\n"
          ],
          "name": "stdout"
        }
      ]
    },
    {
      "cell_type": "code",
      "metadata": {
        "id": "ZGHjNdp-lj7v",
        "colab": {
          "base_uri": "https://localhost:8080/",
          "height": 204
        },
        "outputId": "5602de35-e94c-491e-e62c-83d453518af3"
      },
      "source": [
        "unlabel_5['Target']=class_pred_unlabel_5\n",
        "unlabel_5.head()"
      ],
      "execution_count": null,
      "outputs": [
        {
          "output_type": "execute_result",
          "data": {
            "text/html": [
              "<div>\n",
              "<style scoped>\n",
              "    .dataframe tbody tr th:only-of-type {\n",
              "        vertical-align: middle;\n",
              "    }\n",
              "\n",
              "    .dataframe tbody tr th {\n",
              "        vertical-align: top;\n",
              "    }\n",
              "\n",
              "    .dataframe thead th {\n",
              "        text-align: right;\n",
              "    }\n",
              "</style>\n",
              "<table border=\"1\" class=\"dataframe\">\n",
              "  <thead>\n",
              "    <tr style=\"text-align: right;\">\n",
              "      <th></th>\n",
              "      <th>text</th>\n",
              "      <th>Target</th>\n",
              "    </tr>\n",
              "  </thead>\n",
              "  <tbody>\n",
              "    <tr>\n",
              "      <th>134</th>\n",
              "      <td>judgment reversed cause remanded</td>\n",
              "      <td>Conclusion</td>\n",
              "    </tr>\n",
              "    <tr>\n",
              "      <th>225</th>\n",
              "      <td>error pointed judgment reversed cause remanded</td>\n",
              "      <td>Conclusion</td>\n",
              "    </tr>\n",
              "    <tr>\n",
              "      <th>265</th>\n",
              "      <td>mr cason side pickup towards back garage talki...</td>\n",
              "      <td>Facts</td>\n",
              "    </tr>\n",
              "    <tr>\n",
              "      <th>406</th>\n",
              "      <td>two three minute time husband came stair went ...</td>\n",
              "      <td>Facts</td>\n",
              "    </tr>\n",
              "    <tr>\n",
              "      <th>420</th>\n",
              "      <td>two party night unfortunate occurrence riding ...</td>\n",
              "      <td>Facts</td>\n",
              "    </tr>\n",
              "  </tbody>\n",
              "</table>\n",
              "</div>"
            ],
            "text/plain": [
              "                                                  text      Target\n",
              "134                   judgment reversed cause remanded  Conclusion\n",
              "225     error pointed judgment reversed cause remanded  Conclusion\n",
              "265  mr cason side pickup towards back garage talki...       Facts\n",
              "406  two three minute time husband came stair went ...       Facts\n",
              "420  two party night unfortunate occurrence riding ...       Facts"
            ]
          },
          "metadata": {
            "tags": []
          },
          "execution_count": 120
        }
      ]
    },
    {
      "cell_type": "code",
      "metadata": {
        "id": "RDX3yezWlzze",
        "colab": {
          "base_uri": "https://localhost:8080/",
          "height": 204
        },
        "outputId": "87f94882-2f57-4841-ca5e-75d12e86e776"
      },
      "source": [
        "train_4.head()\n"
      ],
      "execution_count": null,
      "outputs": [
        {
          "output_type": "execute_result",
          "data": {
            "text/html": [
              "<div>\n",
              "<style scoped>\n",
              "    .dataframe tbody tr th:only-of-type {\n",
              "        vertical-align: middle;\n",
              "    }\n",
              "\n",
              "    .dataframe tbody tr th {\n",
              "        vertical-align: top;\n",
              "    }\n",
              "\n",
              "    .dataframe thead th {\n",
              "        text-align: right;\n",
              "    }\n",
              "</style>\n",
              "<table border=\"1\" class=\"dataframe\">\n",
              "  <thead>\n",
              "    <tr style=\"text-align: right;\">\n",
              "      <th></th>\n",
              "      <th>Unnamed: 0</th>\n",
              "      <th>text</th>\n",
              "      <th>Target</th>\n",
              "    </tr>\n",
              "  </thead>\n",
              "  <tbody>\n",
              "    <tr>\n",
              "      <th>0</th>\n",
              "      <td>659.0</td>\n",
              "      <td>Appellant had stated to the officers that she ...</td>\n",
              "      <td>Invalid</td>\n",
              "    </tr>\n",
              "    <tr>\n",
              "      <th>1</th>\n",
              "      <td>3456.0</td>\n",
              "      <td>We shall discuss the facts more fully in conne...</td>\n",
              "      <td>Invalid</td>\n",
              "    </tr>\n",
              "    <tr>\n",
              "      <th>2</th>\n",
              "      <td>2043.0</td>\n",
              "      <td>â€œPerjury is a false statement, either writte...</td>\n",
              "      <td>Invalid</td>\n",
              "    </tr>\n",
              "    <tr>\n",
              "      <th>3</th>\n",
              "      <td>3344.0</td>\n",
              "      <td>The offense is felony theft by false pretext; ...</td>\n",
              "      <td>Issue</td>\n",
              "    </tr>\n",
              "    <tr>\n",
              "      <th>4</th>\n",
              "      <td>3231.0</td>\n",
              "      <td>Numerous contentions urging the commission of ...</td>\n",
              "      <td>Issue</td>\n",
              "    </tr>\n",
              "  </tbody>\n",
              "</table>\n",
              "</div>"
            ],
            "text/plain": [
              "   Unnamed: 0                                               text   Target\n",
              "0       659.0  Appellant had stated to the officers that she ...  Invalid\n",
              "1      3456.0  We shall discuss the facts more fully in conne...  Invalid\n",
              "2      2043.0  â€œPerjury is a false statement, either writte...  Invalid\n",
              "3      3344.0  The offense is felony theft by false pretext; ...    Issue\n",
              "4      3231.0  Numerous contentions urging the commission of ...    Issue"
            ]
          },
          "metadata": {
            "tags": []
          },
          "execution_count": 121
        }
      ]
    },
    {
      "cell_type": "code",
      "metadata": {
        "id": "gkeH0CbOmJYe",
        "colab": {
          "base_uri": "https://localhost:8080/"
        },
        "outputId": "191dc510-dbf4-4fd5-df84-c91cd3078143"
      },
      "source": [
        "print(len(train_4))"
      ],
      "execution_count": null,
      "outputs": [
        {
          "output_type": "stream",
          "text": [
            "4478\n"
          ],
          "name": "stdout"
        }
      ]
    },
    {
      "cell_type": "code",
      "metadata": {
        "id": "1Fz4_ozxmKEB",
        "colab": {
          "base_uri": "https://localhost:8080/"
        },
        "outputId": "35b03c9c-2253-4297-a38f-efdb0e8fcd92"
      },
      "source": [
        "frame_5 = [train_4,unlabel_5]\n",
        "train_5 = pd.concat(frame_5)\n",
        "print(len(train_4))\n",
        "print(len(unlabel_5))\n",
        "print(len(train_5))"
      ],
      "execution_count": null,
      "outputs": [
        {
          "output_type": "stream",
          "text": [
            "4478\n",
            "1528\n",
            "6006\n"
          ],
          "name": "stdout"
        }
      ]
    },
    {
      "cell_type": "code",
      "metadata": {
        "id": "HjtHdKA_md7k",
        "colab": {
          "base_uri": "https://localhost:8080/"
        },
        "outputId": "199c2628-f865-447c-9baa-e39850bea895"
      },
      "source": [
        "from sklearn.metrics import classification_report\n",
        "x_train_5 = tfidf_vect.transform(train_5['text'])\n",
        "x_train_5.shape\n",
        "X_train, x_val, Y_train, y_val = train_test_split(x_train_5,train_5['Target'],test_size=0.25,random_state=2)\n",
        "classifier_5 = RandomForestClassifier(n_estimators = 100, criterion = 'gini', random_state = 42)\n",
        "classifier_5.fit(X_train, Y_train)\n",
        "y_pred = classifier_5.predict(x_val)\n",
        "print(np.unique(y_pred))\n",
        "print(type(y_pred))\n",
        "\n",
        "\n",
        "Accuracy_score = accuracy_score(y_pred,y_val)\n",
        "\n",
        "print('Validation ------- Accuracy_score: %f' % Accuracy_score)\n",
        "\n",
        "test_pred = classifier_5.predict(t_p)\n",
        "acc_test = accuracy_score(test_pred,test['Target'])\n",
        "print('Test ------Accuracy score ', acc_test)\n",
        "matrix = confusion_matrix(y_pred, y_val)\n",
        "print(matrix)\n",
        "print(\"---------validation--------------\")\n",
        "print(classification_report(y_val,y_pred))\n",
        "print(\"----------test---------------------\")\n",
        "print(classification_report(test['Target'],test_pred))"
      ],
      "execution_count": null,
      "outputs": [
        {
          "output_type": "stream",
          "text": [
            "['Analysis' 'Conclusion' 'Facts' 'Invalid' 'Issue' 'Rule/Law/Holding']\n",
            "<class 'numpy.ndarray'>\n",
            "Validation ------- Accuracy_score: 0.773635\n",
            "Test ------Accuracy score  0.5988483685220729\n",
            "[[ 34   7   6   1   1   4]\n",
            " [  2 252   3   2   0   0]\n",
            " [ 94  10 745  60  32  32]\n",
            " [ 18   2  34  92   6   7]\n",
            " [  3   1   2   1  18   2]\n",
            " [  3   0   1   2   4  21]]\n",
            "---------validation--------------\n",
            "                  precision    recall  f1-score   support\n",
            "\n",
            "        Analysis       0.64      0.22      0.33       154\n",
            "      Conclusion       0.97      0.93      0.95       272\n",
            "           Facts       0.77      0.94      0.84       791\n",
            "         Invalid       0.58      0.58      0.58       158\n",
            "           Issue       0.67      0.30      0.41        61\n",
            "Rule/Law/Holding       0.68      0.32      0.43        66\n",
            "\n",
            "        accuracy                           0.77      1502\n",
            "       macro avg       0.72      0.55      0.59      1502\n",
            "    weighted avg       0.76      0.77      0.75      1502\n",
            "\n",
            "----------test---------------------\n",
            "                  precision    recall  f1-score   support\n",
            "\n",
            "        Analysis       0.58      0.14      0.23        77\n",
            "      Conclusion       0.71      0.58      0.64        26\n",
            "           Facts       0.63      0.86      0.73       267\n",
            "         Invalid       0.45      0.52      0.48        83\n",
            "           Issue       0.67      0.18      0.28        34\n",
            "Rule/Law/Holding       0.53      0.24      0.33        34\n",
            "\n",
            "        accuracy                           0.60       521\n",
            "       macro avg       0.60      0.42      0.45       521\n",
            "    weighted avg       0.60      0.60      0.56       521\n",
            "\n"
          ],
          "name": "stdout"
        }
      ]
    }
  ]
}