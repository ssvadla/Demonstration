{
  "nbformat": 4,
  "nbformat_minor": 0,
  "metadata": {
    "colab": {
      "name": "SemiXGBoost.ipynb",
      "provenance": [],
      "collapsed_sections": [],
      "include_colab_link": true
    },
    "kernelspec": {
      "name": "python3",
      "display_name": "Python 3"
    },
    "language_info": {
      "name": "python"
    }
  },
  "cells": [
    {
      "cell_type": "markdown",
      "metadata": {
        "id": "view-in-github",
        "colab_type": "text"
      },
      "source": [
        "<a href=\"https://colab.research.google.com/github/ssvadla/Demonstration/blob/main/SemiXGBoost.ipynb\" target=\"_parent\"><img src=\"https://colab.research.google.com/assets/colab-badge.svg\" alt=\"Open In Colab\"/></a>"
      ]
    },
    {
      "cell_type": "markdown",
      "metadata": {
        "id": "f7SGONR6dw8B"
      },
      "source": [
        "Semi Supervised approach \"Semi Supervised Unlabelled\" extemsion without upsampling and undersampling."
      ]
    },
    {
      "cell_type": "markdown",
      "metadata": {
        "id": "QYdDbTjfd1Lx"
      },
      "source": [
        "Inference:  Can use different thresholds less than 0.98 as the number of images that are taken out from each section of unlabeled data are very less."
      ]
    },
    {
      "cell_type": "code",
      "metadata": {
        "colab": {
          "base_uri": "https://localhost:8080/",
          "height": 221
        },
        "id": "1GP6iq3sv3l7",
        "outputId": "6ed3d3ba-bf89-46dc-a965-f3ed9da32c05"
      },
      "source": [
        "import pandas as pd\n",
        "import numpy as np\n",
        "from google.colab import drive\n",
        "\n",
        "drive.mount('/content/drive')\n",
        "\n",
        "train = pd.read_csv('/content/drive/My Drive/Research/train_data1.csv')\n",
        "train.head()"
      ],
      "execution_count": null,
      "outputs": [
        {
          "output_type": "stream",
          "text": [
            "Drive already mounted at /content/drive; to attempt to forcibly remount, call drive.mount(\"/content/drive\", force_remount=True).\n"
          ],
          "name": "stdout"
        },
        {
          "output_type": "execute_result",
          "data": {
            "text/html": [
              "<div>\n",
              "<style scoped>\n",
              "    .dataframe tbody tr th:only-of-type {\n",
              "        vertical-align: middle;\n",
              "    }\n",
              "\n",
              "    .dataframe tbody tr th {\n",
              "        vertical-align: top;\n",
              "    }\n",
              "\n",
              "    .dataframe thead th {\n",
              "        text-align: right;\n",
              "    }\n",
              "</style>\n",
              "<table border=\"1\" class=\"dataframe\">\n",
              "  <thead>\n",
              "    <tr style=\"text-align: right;\">\n",
              "      <th></th>\n",
              "      <th>Unnamed: 0</th>\n",
              "      <th>Sentence</th>\n",
              "      <th>Target</th>\n",
              "    </tr>\n",
              "  </thead>\n",
              "  <tbody>\n",
              "    <tr>\n",
              "      <th>0</th>\n",
              "      <td>659</td>\n",
              "      <td>Appellant had stated to the officers that she ...</td>\n",
              "      <td>Invalid</td>\n",
              "    </tr>\n",
              "    <tr>\n",
              "      <th>1</th>\n",
              "      <td>3456</td>\n",
              "      <td>We shall discuss the facts more fully in conne...</td>\n",
              "      <td>Others</td>\n",
              "    </tr>\n",
              "    <tr>\n",
              "      <th>2</th>\n",
              "      <td>2043</td>\n",
              "      <td>â€œPerjury is a false statement, either writte...</td>\n",
              "      <td>Invalid</td>\n",
              "    </tr>\n",
              "    <tr>\n",
              "      <th>3</th>\n",
              "      <td>3344</td>\n",
              "      <td>The offense is felony theft by false pretext; ...</td>\n",
              "      <td>Issue</td>\n",
              "    </tr>\n",
              "    <tr>\n",
              "      <th>4</th>\n",
              "      <td>3231</td>\n",
              "      <td>Numerous contentions urging the commission of ...</td>\n",
              "      <td>Issue</td>\n",
              "    </tr>\n",
              "  </tbody>\n",
              "</table>\n",
              "</div>"
            ],
            "text/plain": [
              "   Unnamed: 0                                           Sentence   Target\n",
              "0         659  Appellant had stated to the officers that she ...  Invalid\n",
              "1        3456  We shall discuss the facts more fully in conne...   Others\n",
              "2        2043  â€œPerjury is a false statement, either writte...  Invalid\n",
              "3        3344  The offense is felony theft by false pretext; ...    Issue\n",
              "4        3231  Numerous contentions urging the commission of ...    Issue"
            ]
          },
          "metadata": {
            "tags": []
          },
          "execution_count": 98
        }
      ]
    },
    {
      "cell_type": "code",
      "metadata": {
        "id": "pf73JTmjfvE4"
      },
      "source": [
        "Threshold= 0.98"
      ],
      "execution_count": null,
      "outputs": []
    },
    {
      "cell_type": "code",
      "metadata": {
        "colab": {
          "base_uri": "https://localhost:8080/"
        },
        "id": "VP6ru-6dv8gX",
        "outputId": "a7ace8ab-b830-445f-fa28-6c36079192d2"
      },
      "source": [
        "train['Target'].unique()"
      ],
      "execution_count": null,
      "outputs": [
        {
          "output_type": "execute_result",
          "data": {
            "text/plain": [
              "array(['Invalid', 'Others', 'Issue', 'Analysis', 'Facts', 'Conclusion',\n",
              "       'Rule/Law/Holding'], dtype=object)"
            ]
          },
          "metadata": {
            "tags": []
          },
          "execution_count": 100
        }
      ]
    },
    {
      "cell_type": "code",
      "metadata": {
        "colab": {
          "base_uri": "https://localhost:8080/"
        },
        "id": "EpnQfWugv-jR",
        "outputId": "6dd20dfd-91d0-4ab1-8328-d8d8e60cc62a"
      },
      "source": [
        "train['Target']=train['Target'].replace(['Others'],'Invalid')\n",
        "train['Target'].unique()"
      ],
      "execution_count": null,
      "outputs": [
        {
          "output_type": "execute_result",
          "data": {
            "text/plain": [
              "array(['Invalid', 'Issue', 'Analysis', 'Facts', 'Conclusion',\n",
              "       'Rule/Law/Holding'], dtype=object)"
            ]
          },
          "metadata": {
            "tags": []
          },
          "execution_count": 101
        }
      ]
    },
    {
      "cell_type": "code",
      "metadata": {
        "colab": {
          "base_uri": "https://localhost:8080/"
        },
        "id": "Ia1kya2vwAvj",
        "outputId": "56bd8597-96a2-4e61-e1e5-11a64bb1e1b7"
      },
      "source": [
        "#cleaning\n",
        "import nltk\n",
        "import re\n",
        "import string\n",
        "nltk.download('stopwords')\n",
        "nltk.download('wordnet')\n",
        "stopword=nltk.corpus.stopwords.words('english')\n",
        "from nltk.stem import WordNetLemmatizer\n",
        "wl= WordNetLemmatizer()\n",
        "\n",
        "def clean_text(text):\n",
        "  text=\"\".join([word.lower() for word in text if word not in string.punctuation])\n",
        "  tokens = re.split('\\W+',text)\n",
        "  text = [wl.lemmatize(word) for word in tokens if word not in stopword]\n",
        "  return text"
      ],
      "execution_count": null,
      "outputs": [
        {
          "output_type": "stream",
          "text": [
            "[nltk_data] Downloading package stopwords to /root/nltk_data...\n",
            "[nltk_data]   Package stopwords is already up-to-date!\n",
            "[nltk_data] Downloading package wordnet to /root/nltk_data...\n",
            "[nltk_data]   Package wordnet is already up-to-date!\n"
          ],
          "name": "stdout"
        }
      ]
    },
    {
      "cell_type": "code",
      "metadata": {
        "colab": {
          "base_uri": "https://localhost:8080/"
        },
        "id": "gGIlP5e4wDJW",
        "outputId": "f3105fbf-d44c-474a-b6f0-c1feddb77599"
      },
      "source": [
        "from sklearn.feature_extraction.text import TfidfVectorizer\n",
        "\n",
        "tfidf_vect = TfidfVectorizer(analyzer = clean_text)\n",
        "X_tfidf = tfidf_vect.fit_transform(train['Sentence'])\n",
        "print(X_tfidf.shape)"
      ],
      "execution_count": null,
      "outputs": [
        {
          "output_type": "stream",
          "text": [
            "(3476, 6383)\n"
          ],
          "name": "stdout"
        }
      ]
    },
    {
      "cell_type": "code",
      "metadata": {
        "id": "2C9hQTlvXD9f"
      },
      "source": [
        "test = pd.read_csv(r'/content/drive/My Drive/Research/test_data.csv')\n",
        "\n",
        "test['Target']=test['Target'].replace(['Others'],'Invalid')\n",
        "test['Sentence'] = test['Sentence'].apply(lambda x: \" \".join(x.lower() for x in str(x).split()))\n",
        "test['Sentence'] = test['Sentence'].str.replace('[^\\w\\s]','')\n",
        "from nltk.corpus import stopwords\n",
        "words = stopwords.words('english')\n",
        "test['Sentence'] = test['Sentence'].apply(lambda x: \" \".join(x for x in x.split() if x not in words))\n",
        "t_p = tfidf_vect.transform(test['Sentence'])"
      ],
      "execution_count": null,
      "outputs": []
    },
    {
      "cell_type": "code",
      "metadata": {
        "colab": {
          "base_uri": "https://localhost:8080/"
        },
        "id": "h88efrM4wO7g",
        "outputId": "bfa302ab-69ef-4fff-a460-4a14aea4d98d"
      },
      "source": [
        "from numpy import loadtxt\n",
        "from xgboost import XGBClassifier\n",
        "from sklearn.model_selection import train_test_split\n",
        "from sklearn.metrics import accuracy_score\n",
        "\n",
        "X_train, x_val, Y_train, y_val = train_test_split(X_tfidf,train['Target'],test_size=0.26,random_state=42)\n",
        "# fit model no training data\n",
        "classifier = XGBClassifier()\n",
        "classifier.fit(X_train, Y_train)\n",
        "\n",
        "# make predictions for test data\n",
        "y_pred = classifier.predict(x_val)\n",
        "#predictions = [round(value) for value in y_pred]\n",
        "\n",
        "# evaluate predictions\n",
        "accuracy = accuracy_score(y_val, y_pred)\n",
        "print(\"Accuracy validation: %f\" % (accuracy))\n",
        "\n",
        "test_pred = classifier.predict(t_p)\n",
        "#test_predictions = [round(value) for value in test_pred]\n",
        "acc_test = accuracy_score(test['Target'], test_pred)\n",
        "#acc_test = accuracy_score(test_pred,test['Target'])\n",
        "\n",
        "print(\"Accuracy test : %f\" % (acc_test ))"
      ],
      "execution_count": null,
      "outputs": [
        {
          "output_type": "stream",
          "text": [
            "Accuracy validation: 0.654867\n",
            "Accuracy test : 0.595010\n"
          ],
          "name": "stdout"
        }
      ]
    },
    {
      "cell_type": "code",
      "metadata": {
        "id": "VAeEUI5CVUhr"
      },
      "source": [
        ""
      ],
      "execution_count": null,
      "outputs": []
    },
    {
      "cell_type": "code",
      "metadata": {
        "colab": {
          "base_uri": "https://localhost:8080/",
          "height": 204
        },
        "id": "RvKiNdE-pev1",
        "outputId": "40792e5f-7fc8-49a8-ee9f-16e00779e210"
      },
      "source": [
        "\n",
        "unlabel = pd.read_csv(r'/content/drive/My Drive/Research/Unlabeled_data.csv')\n",
        "unlabel.head()\n"
      ],
      "execution_count": null,
      "outputs": [
        {
          "output_type": "execute_result",
          "data": {
            "text/html": [
              "<div>\n",
              "<style scoped>\n",
              "    .dataframe tbody tr th:only-of-type {\n",
              "        vertical-align: middle;\n",
              "    }\n",
              "\n",
              "    .dataframe tbody tr th {\n",
              "        vertical-align: top;\n",
              "    }\n",
              "\n",
              "    .dataframe thead th {\n",
              "        text-align: right;\n",
              "    }\n",
              "</style>\n",
              "<table border=\"1\" class=\"dataframe\">\n",
              "  <thead>\n",
              "    <tr style=\"text-align: right;\">\n",
              "      <th></th>\n",
              "      <th>Unnamed: 0</th>\n",
              "      <th>text</th>\n",
              "      <th>Complete</th>\n",
              "    </tr>\n",
              "  </thead>\n",
              "  <tbody>\n",
              "    <tr>\n",
              "      <th>0</th>\n",
              "      <td>0</td>\n",
              "      <td>No motion for rehearing filed.</td>\n",
              "      <td>1</td>\n",
              "    </tr>\n",
              "    <tr>\n",
              "      <th>1</th>\n",
              "      <td>1</td>\n",
              "      <td>— Relator is under accusation of killing her h...</td>\n",
              "      <td>1</td>\n",
              "    </tr>\n",
              "    <tr>\n",
              "      <th>2</th>\n",
              "      <td>2</td>\n",
              "      <td>From an order of the District Judge of the 39t...</td>\n",
              "      <td>1</td>\n",
              "    </tr>\n",
              "    <tr>\n",
              "      <th>3</th>\n",
              "      <td>3</td>\n",
              "      <td>Relator and her husband had been married for a...</td>\n",
              "      <td>1</td>\n",
              "    </tr>\n",
              "    <tr>\n",
              "      <th>4</th>\n",
              "      <td>4</td>\n",
              "      <td>The evidence indicates that their family relat...</td>\n",
              "      <td>1</td>\n",
              "    </tr>\n",
              "  </tbody>\n",
              "</table>\n",
              "</div>"
            ],
            "text/plain": [
              "   Unnamed: 0                                               text  Complete\n",
              "0           0                     No motion for rehearing filed.         1\n",
              "1           1  — Relator is under accusation of killing her h...         1\n",
              "2           2  From an order of the District Judge of the 39t...         1\n",
              "3           3  Relator and her husband had been married for a...         1\n",
              "4           4  The evidence indicates that their family relat...         1"
            ]
          },
          "metadata": {
            "tags": []
          },
          "execution_count": 106
        }
      ]
    },
    {
      "cell_type": "code",
      "metadata": {
        "id": "N8X0xt2fsUXM"
      },
      "source": [
        "del unlabel['Complete']"
      ],
      "execution_count": null,
      "outputs": []
    },
    {
      "cell_type": "code",
      "metadata": {
        "id": "lH4lcWUOsV_p"
      },
      "source": [
        "del unlabel['Unnamed: 0']"
      ],
      "execution_count": null,
      "outputs": []
    },
    {
      "cell_type": "code",
      "metadata": {
        "colab": {
          "base_uri": "https://localhost:8080/",
          "height": 204
        },
        "id": "NCbmIlH9sWHv",
        "outputId": "82b34c44-e4f4-4336-beb2-33f997fc1aa1"
      },
      "source": [
        "unlabel.head()"
      ],
      "execution_count": null,
      "outputs": [
        {
          "output_type": "execute_result",
          "data": {
            "text/html": [
              "<div>\n",
              "<style scoped>\n",
              "    .dataframe tbody tr th:only-of-type {\n",
              "        vertical-align: middle;\n",
              "    }\n",
              "\n",
              "    .dataframe tbody tr th {\n",
              "        vertical-align: top;\n",
              "    }\n",
              "\n",
              "    .dataframe thead th {\n",
              "        text-align: right;\n",
              "    }\n",
              "</style>\n",
              "<table border=\"1\" class=\"dataframe\">\n",
              "  <thead>\n",
              "    <tr style=\"text-align: right;\">\n",
              "      <th></th>\n",
              "      <th>text</th>\n",
              "    </tr>\n",
              "  </thead>\n",
              "  <tbody>\n",
              "    <tr>\n",
              "      <th>0</th>\n",
              "      <td>No motion for rehearing filed.</td>\n",
              "    </tr>\n",
              "    <tr>\n",
              "      <th>1</th>\n",
              "      <td>— Relator is under accusation of killing her h...</td>\n",
              "    </tr>\n",
              "    <tr>\n",
              "      <th>2</th>\n",
              "      <td>From an order of the District Judge of the 39t...</td>\n",
              "    </tr>\n",
              "    <tr>\n",
              "      <th>3</th>\n",
              "      <td>Relator and her husband had been married for a...</td>\n",
              "    </tr>\n",
              "    <tr>\n",
              "      <th>4</th>\n",
              "      <td>The evidence indicates that their family relat...</td>\n",
              "    </tr>\n",
              "  </tbody>\n",
              "</table>\n",
              "</div>"
            ],
            "text/plain": [
              "                                                text\n",
              "0                     No motion for rehearing filed.\n",
              "1  — Relator is under accusation of killing her h...\n",
              "2  From an order of the District Judge of the 39t...\n",
              "3  Relator and her husband had been married for a...\n",
              "4  The evidence indicates that their family relat..."
            ]
          },
          "metadata": {
            "tags": []
          },
          "execution_count": 109
        }
      ]
    },
    {
      "cell_type": "code",
      "metadata": {
        "id": "pbXAqY-bqgcN"
      },
      "source": [
        "unlabel['text'] = unlabel['text'].apply(lambda x: \" \".join(x.lower() for x in str(x).split()))\n",
        "unlabel['text'] = unlabel['text'].str.replace('[^\\w\\s]','')\n",
        "from nltk.corpus import stopwords\n",
        "words = stopwords.words('english')\n",
        "unlabel['text'] = unlabel['text'].apply(lambda x: \" \".join(x for x in x.split() if x not in words))\n"
      ],
      "execution_count": null,
      "outputs": []
    },
    {
      "cell_type": "code",
      "metadata": {
        "colab": {
          "base_uri": "https://localhost:8080/"
        },
        "id": "MYlmWHGCqvms",
        "outputId": "97c9d522-6767-4ff4-fbc7-e9dc8df4f656"
      },
      "source": [
        "from textblob import TextBlob\n",
        "from textblob import Word\n",
        "nltk.download('wordnet')\n",
        "nltk.download('punkt')\n",
        "unlabel['text'] = unlabel['text'].apply(lambda x: TextBlob(x).words)\n",
        "unlabel['text'] = unlabel['text'].apply(lambda x: \" \".join([Word(word).lemmatize() for word in x]))"
      ],
      "execution_count": null,
      "outputs": [
        {
          "output_type": "stream",
          "text": [
            "[nltk_data] Downloading package wordnet to /root/nltk_data...\n",
            "[nltk_data]   Package wordnet is already up-to-date!\n",
            "[nltk_data] Downloading package punkt to /root/nltk_data...\n",
            "[nltk_data]   Package punkt is already up-to-date!\n"
          ],
          "name": "stdout"
        }
      ]
    },
    {
      "cell_type": "code",
      "metadata": {
        "colab": {
          "base_uri": "https://localhost:8080/",
          "height": 204
        },
        "id": "NqWrGLwdVxdp",
        "outputId": "6b15e545-689f-4682-bbd2-71b9c3baead7"
      },
      "source": [
        "unlabel.head()"
      ],
      "execution_count": null,
      "outputs": [
        {
          "output_type": "execute_result",
          "data": {
            "text/html": [
              "<div>\n",
              "<style scoped>\n",
              "    .dataframe tbody tr th:only-of-type {\n",
              "        vertical-align: middle;\n",
              "    }\n",
              "\n",
              "    .dataframe tbody tr th {\n",
              "        vertical-align: top;\n",
              "    }\n",
              "\n",
              "    .dataframe thead th {\n",
              "        text-align: right;\n",
              "    }\n",
              "</style>\n",
              "<table border=\"1\" class=\"dataframe\">\n",
              "  <thead>\n",
              "    <tr style=\"text-align: right;\">\n",
              "      <th></th>\n",
              "      <th>text</th>\n",
              "    </tr>\n",
              "  </thead>\n",
              "  <tbody>\n",
              "    <tr>\n",
              "      <th>0</th>\n",
              "      <td>motion rehearing filed</td>\n",
              "    </tr>\n",
              "    <tr>\n",
              "      <th>1</th>\n",
              "      <td>relator accusation killing husband virgil clark</td>\n",
              "    </tr>\n",
              "    <tr>\n",
              "      <th>2</th>\n",
              "      <td>order district judge 39th judicial district re...</td>\n",
              "    </tr>\n",
              "    <tr>\n",
              "      <th>3</th>\n",
              "      <td>relator husband married number year</td>\n",
              "    </tr>\n",
              "    <tr>\n",
              "      <th>4</th>\n",
              "      <td>evidence indicates family relation always plea...</td>\n",
              "    </tr>\n",
              "  </tbody>\n",
              "</table>\n",
              "</div>"
            ],
            "text/plain": [
              "                                                text\n",
              "0                             motion rehearing filed\n",
              "1    relator accusation killing husband virgil clark\n",
              "2  order district judge 39th judicial district re...\n",
              "3                relator husband married number year\n",
              "4  evidence indicates family relation always plea..."
            ]
          },
          "metadata": {
            "tags": []
          },
          "execution_count": 112
        }
      ]
    },
    {
      "cell_type": "code",
      "metadata": {
        "colab": {
          "base_uri": "https://localhost:8080/"
        },
        "id": "d3F6jJNts6Be",
        "outputId": "3e72ff50-d263-4325-b341-2db727b7903f"
      },
      "source": [
        "len(unlabel)"
      ],
      "execution_count": null,
      "outputs": [
        {
          "output_type": "execute_result",
          "data": {
            "text/plain": [
              "537703"
            ]
          },
          "metadata": {
            "tags": []
          },
          "execution_count": 113
        }
      ]
    },
    {
      "cell_type": "code",
      "metadata": {
        "colab": {
          "base_uri": "https://localhost:8080/"
        },
        "id": "Ls045zI7s6Kb",
        "outputId": "e7822f16-17e9-42b8-b6d0-41797b659b21"
      },
      "source": [
        "unlabel_1 = unlabel.loc[:100000]\n",
        "print(\"length of unlabel_1\",len(unlabel_1))\n",
        "unlabel_2 = unlabel.loc[100001:200000]\n",
        "print(\"length of unlabel_2\",len(unlabel_2))\n",
        "unlabel_3 = unlabel.loc[200001:300000]\n",
        "print(\"length of unlabel_3\",len(unlabel_3))\n",
        "unlabel_4 = unlabel.loc[300001:400000]\n",
        "print(\"length of unlabel_4\",len(unlabel_4))\n",
        "unlabel_5 = unlabel.loc[400001:]\n",
        "print(\"length of unlabel_5\",len(unlabel_5))"
      ],
      "execution_count": null,
      "outputs": [
        {
          "output_type": "stream",
          "text": [
            "length of unlabel_1 100001\n",
            "length of unlabel_2 100000\n",
            "length of unlabel_3 100000\n",
            "length of unlabel_4 100000\n",
            "length of unlabel_5 137702\n"
          ],
          "name": "stdout"
        }
      ]
    },
    {
      "cell_type": "code",
      "metadata": {
        "colab": {
          "base_uri": "https://localhost:8080/",
          "height": 204
        },
        "id": "29BgPHk4s6PS",
        "outputId": "75ff265e-a54a-4c5a-8730-6e1ebc8f7211"
      },
      "source": [
        "unlabel_1.head()"
      ],
      "execution_count": null,
      "outputs": [
        {
          "output_type": "execute_result",
          "data": {
            "text/html": [
              "<div>\n",
              "<style scoped>\n",
              "    .dataframe tbody tr th:only-of-type {\n",
              "        vertical-align: middle;\n",
              "    }\n",
              "\n",
              "    .dataframe tbody tr th {\n",
              "        vertical-align: top;\n",
              "    }\n",
              "\n",
              "    .dataframe thead th {\n",
              "        text-align: right;\n",
              "    }\n",
              "</style>\n",
              "<table border=\"1\" class=\"dataframe\">\n",
              "  <thead>\n",
              "    <tr style=\"text-align: right;\">\n",
              "      <th></th>\n",
              "      <th>text</th>\n",
              "    </tr>\n",
              "  </thead>\n",
              "  <tbody>\n",
              "    <tr>\n",
              "      <th>0</th>\n",
              "      <td>motion rehearing filed</td>\n",
              "    </tr>\n",
              "    <tr>\n",
              "      <th>1</th>\n",
              "      <td>relator accusation killing husband virgil clark</td>\n",
              "    </tr>\n",
              "    <tr>\n",
              "      <th>2</th>\n",
              "      <td>order district judge 39th judicial district re...</td>\n",
              "    </tr>\n",
              "    <tr>\n",
              "      <th>3</th>\n",
              "      <td>relator husband married number year</td>\n",
              "    </tr>\n",
              "    <tr>\n",
              "      <th>4</th>\n",
              "      <td>evidence indicates family relation always plea...</td>\n",
              "    </tr>\n",
              "  </tbody>\n",
              "</table>\n",
              "</div>"
            ],
            "text/plain": [
              "                                                text\n",
              "0                             motion rehearing filed\n",
              "1    relator accusation killing husband virgil clark\n",
              "2  order district judge 39th judicial district re...\n",
              "3                relator husband married number year\n",
              "4  evidence indicates family relation always plea..."
            ]
          },
          "metadata": {
            "tags": []
          },
          "execution_count": 115
        }
      ]
    },
    {
      "cell_type": "code",
      "metadata": {
        "colab": {
          "base_uri": "https://localhost:8080/",
          "height": 204
        },
        "id": "szeMdJ6pt7fN",
        "outputId": "abbe6b42-6687-44ec-b5c2-b7641a0b41d8"
      },
      "source": [
        "unlabel_2.reset_index(inplace=True)\n",
        "del unlabel_2['index']\n",
        "unlabel_2.head()"
      ],
      "execution_count": null,
      "outputs": [
        {
          "output_type": "execute_result",
          "data": {
            "text/html": [
              "<div>\n",
              "<style scoped>\n",
              "    .dataframe tbody tr th:only-of-type {\n",
              "        vertical-align: middle;\n",
              "    }\n",
              "\n",
              "    .dataframe tbody tr th {\n",
              "        vertical-align: top;\n",
              "    }\n",
              "\n",
              "    .dataframe thead th {\n",
              "        text-align: right;\n",
              "    }\n",
              "</style>\n",
              "<table border=\"1\" class=\"dataframe\">\n",
              "  <thead>\n",
              "    <tr style=\"text-align: right;\">\n",
              "      <th></th>\n",
              "      <th>text</th>\n",
              "    </tr>\n",
              "  </thead>\n",
              "  <tbody>\n",
              "    <tr>\n",
              "      <th>0</th>\n",
              "      <td>responding conclusion regarding evidence annou...</td>\n",
              "    </tr>\n",
              "    <tr>\n",
              "      <th>1</th>\n",
              "      <td>conviction transporting intoxicating liquor pu...</td>\n",
              "    </tr>\n",
              "    <tr>\n",
              "      <th>2</th>\n",
              "      <td>bill exception case filed late</td>\n",
              "    </tr>\n",
              "    <tr>\n",
              "      <th>3</th>\n",
              "      <td>motion new trial overruled october 22 1927 ord...</td>\n",
              "    </tr>\n",
              "    <tr>\n",
              "      <th>4</th>\n",
              "      <td>thereafter december 10th extension order made ...</td>\n",
              "    </tr>\n",
              "  </tbody>\n",
              "</table>\n",
              "</div>"
            ],
            "text/plain": [
              "                                                text\n",
              "0  responding conclusion regarding evidence annou...\n",
              "1  conviction transporting intoxicating liquor pu...\n",
              "2                     bill exception case filed late\n",
              "3  motion new trial overruled october 22 1927 ord...\n",
              "4  thereafter december 10th extension order made ..."
            ]
          },
          "metadata": {
            "tags": []
          },
          "execution_count": 116
        }
      ]
    },
    {
      "cell_type": "code",
      "metadata": {
        "colab": {
          "base_uri": "https://localhost:8080/",
          "height": 204
        },
        "id": "u6lInKYmt7pn",
        "outputId": "fb8c16a8-60d3-4c26-b55e-e49f767fc35d"
      },
      "source": [
        "unlabel_3.reset_index(inplace=True)\n",
        "del unlabel_3['index']\n",
        "unlabel_3.head()"
      ],
      "execution_count": null,
      "outputs": [
        {
          "output_type": "execute_result",
          "data": {
            "text/html": [
              "<div>\n",
              "<style scoped>\n",
              "    .dataframe tbody tr th:only-of-type {\n",
              "        vertical-align: middle;\n",
              "    }\n",
              "\n",
              "    .dataframe tbody tr th {\n",
              "        vertical-align: top;\n",
              "    }\n",
              "\n",
              "    .dataframe thead th {\n",
              "        text-align: right;\n",
              "    }\n",
              "</style>\n",
              "<table border=\"1\" class=\"dataframe\">\n",
              "  <thead>\n",
              "    <tr style=\"text-align: right;\">\n",
              "      <th></th>\n",
              "      <th>text</th>\n",
              "    </tr>\n",
              "  </thead>\n",
              "  <tbody>\n",
              "    <tr>\n",
              "      <th>0</th>\n",
              "      <td>another man carrying clothes</td>\n",
              "    </tr>\n",
              "    <tr>\n",
              "      <th>1</th>\n",
              "      <td>officer testified appellant several item cloth...</td>\n",
              "    </tr>\n",
              "    <tr>\n",
              "      <th>2</th>\n",
              "      <td>investigation followed report breaking entry a...</td>\n",
              "    </tr>\n",
              "    <tr>\n",
              "      <th>3</th>\n",
              "      <td>appellant present</td>\n",
              "    </tr>\n",
              "    <tr>\n",
              "      <th>4</th>\n",
              "      <td>warrant arrest issued officer went hotel waite...</td>\n",
              "    </tr>\n",
              "  </tbody>\n",
              "</table>\n",
              "</div>"
            ],
            "text/plain": [
              "                                                text\n",
              "0                       another man carrying clothes\n",
              "1  officer testified appellant several item cloth...\n",
              "2  investigation followed report breaking entry a...\n",
              "3                                  appellant present\n",
              "4  warrant arrest issued officer went hotel waite..."
            ]
          },
          "metadata": {
            "tags": []
          },
          "execution_count": 117
        }
      ]
    },
    {
      "cell_type": "code",
      "metadata": {
        "colab": {
          "base_uri": "https://localhost:8080/",
          "height": 204
        },
        "id": "awCDdJfCt7uy",
        "outputId": "9341b56e-c857-463e-c345-ef1aa46c012c"
      },
      "source": [
        "unlabel_4.reset_index(inplace=True)\n",
        "del unlabel_4['index']\n",
        "unlabel_4.head()"
      ],
      "execution_count": null,
      "outputs": [
        {
          "output_type": "execute_result",
          "data": {
            "text/html": [
              "<div>\n",
              "<style scoped>\n",
              "    .dataframe tbody tr th:only-of-type {\n",
              "        vertical-align: middle;\n",
              "    }\n",
              "\n",
              "    .dataframe tbody tr th {\n",
              "        vertical-align: top;\n",
              "    }\n",
              "\n",
              "    .dataframe thead th {\n",
              "        text-align: right;\n",
              "    }\n",
              "</style>\n",
              "<table border=\"1\" class=\"dataframe\">\n",
              "  <thead>\n",
              "    <tr style=\"text-align: right;\">\n",
              "      <th></th>\n",
              "      <th>text</th>\n",
              "    </tr>\n",
              "  </thead>\n",
              "  <tbody>\n",
              "    <tr>\n",
              "      <th>0</th>\n",
              "      <td>statute final judgment appeal court lie senten...</td>\n",
              "    </tr>\n",
              "    <tr>\n",
              "      <th>1</th>\n",
              "      <td>sentence must pronounced term court judgment r...</td>\n",
              "    </tr>\n",
              "    <tr>\n",
              "      <th>2</th>\n",
              "      <td>court sentence defendant vacation</td>\n",
              "    </tr>\n",
              "    <tr>\n",
              "      <th>3</th>\n",
              "      <td>court adjourned authority case ceased notice a...</td>\n",
              "    </tr>\n",
              "    <tr>\n",
              "      <th>4</th>\n",
              "      <td>pronouncing sentence authorized vacation autho...</td>\n",
              "    </tr>\n",
              "  </tbody>\n",
              "</table>\n",
              "</div>"
            ],
            "text/plain": [
              "                                                text\n",
              "0  statute final judgment appeal court lie senten...\n",
              "1  sentence must pronounced term court judgment r...\n",
              "2                  court sentence defendant vacation\n",
              "3  court adjourned authority case ceased notice a...\n",
              "4  pronouncing sentence authorized vacation autho..."
            ]
          },
          "metadata": {
            "tags": []
          },
          "execution_count": 118
        }
      ]
    },
    {
      "cell_type": "code",
      "metadata": {
        "colab": {
          "base_uri": "https://localhost:8080/",
          "height": 204
        },
        "id": "c1RvB50QuT77",
        "outputId": "35ebb56b-1196-4504-ca25-6b37f3cc31b2"
      },
      "source": [
        "unlabel_5.reset_index(inplace=True)\n",
        "del unlabel_5['index']\n",
        "unlabel_5.head()"
      ],
      "execution_count": null,
      "outputs": [
        {
          "output_type": "execute_result",
          "data": {
            "text/html": [
              "<div>\n",
              "<style scoped>\n",
              "    .dataframe tbody tr th:only-of-type {\n",
              "        vertical-align: middle;\n",
              "    }\n",
              "\n",
              "    .dataframe tbody tr th {\n",
              "        vertical-align: top;\n",
              "    }\n",
              "\n",
              "    .dataframe thead th {\n",
              "        text-align: right;\n",
              "    }\n",
              "</style>\n",
              "<table border=\"1\" class=\"dataframe\">\n",
              "  <thead>\n",
              "    <tr style=\"text-align: right;\">\n",
              "      <th></th>\n",
              "      <th>text</th>\n",
              "    </tr>\n",
              "  </thead>\n",
              "  <tbody>\n",
              "    <tr>\n",
              "      <th>0</th>\n",
              "      <td>member federal reserve bank</td>\n",
              "    </tr>\n",
              "    <tr>\n",
              "      <th>1</th>\n",
              "      <td>opinion state case</td>\n",
              "    </tr>\n",
              "    <tr>\n",
              "      <th>2</th>\n",
              "      <td>conviction violating state cigarette law punis...</td>\n",
              "    </tr>\n",
              "    <tr>\n",
              "      <th>3</th>\n",
              "      <td>find record bill exception bringing forward co...</td>\n",
              "    </tr>\n",
              "    <tr>\n",
              "      <th>4</th>\n",
              "      <td>brief appellant complains lack testimony</td>\n",
              "    </tr>\n",
              "  </tbody>\n",
              "</table>\n",
              "</div>"
            ],
            "text/plain": [
              "                                                text\n",
              "0                        member federal reserve bank\n",
              "1                                 opinion state case\n",
              "2  conviction violating state cigarette law punis...\n",
              "3  find record bill exception bringing forward co...\n",
              "4           brief appellant complains lack testimony"
            ]
          },
          "metadata": {
            "tags": []
          },
          "execution_count": 119
        }
      ]
    },
    {
      "cell_type": "code",
      "metadata": {
        "colab": {
          "base_uri": "https://localhost:8080/"
        },
        "id": "wOeWob4LuXnH",
        "outputId": "ad7bd0d4-6c30-4e17-d5a6-b75c6fcd26fd"
      },
      "source": [
        "classifier.classes_"
      ],
      "execution_count": null,
      "outputs": [
        {
          "output_type": "execute_result",
          "data": {
            "text/plain": [
              "array(['Analysis', 'Conclusion', 'Facts', 'Invalid', 'Issue',\n",
              "       'Rule/Law/Holding'], dtype=object)"
            ]
          },
          "metadata": {
            "tags": []
          },
          "execution_count": 120
        }
      ]
    },
    {
      "cell_type": "code",
      "metadata": {
        "id": "bGLz2PLyuZtF"
      },
      "source": [
        "x_un1 = tfidf_vect.transform(unlabel_1['text'])\n"
      ],
      "execution_count": null,
      "outputs": []
    },
    {
      "cell_type": "code",
      "metadata": {
        "colab": {
          "base_uri": "https://localhost:8080/"
        },
        "id": "CREaz3ZlvnWo",
        "outputId": "3d6ae08d-6641-4128-bfb3-0376b88dbd07"
      },
      "source": [
        "x_un1.shape\n",
        "pred_unlabel_1 = classifier.predict_proba(x_un1)\n",
        "pred_unlabel_1\n",
        "\n"
      ],
      "execution_count": null,
      "outputs": [
        {
          "output_type": "execute_result",
          "data": {
            "text/plain": [
              "array([[0.1101056 , 0.10172036, 0.5385539 , 0.16915338, 0.03345498,\n",
              "        0.04701181],\n",
              "       [0.12943962, 0.03752175, 0.5294176 , 0.19885588, 0.04949832,\n",
              "        0.05526686],\n",
              "       [0.14074743, 0.04079964, 0.5756673 , 0.13866976, 0.04276533,\n",
              "        0.06135051],\n",
              "       ...,\n",
              "       [0.1525092 , 0.16698521, 0.5207258 , 0.06909035, 0.05513156,\n",
              "        0.03555784],\n",
              "       [0.16605468, 0.03575326, 0.5044648 , 0.18948331, 0.03747581,\n",
              "        0.06676812],\n",
              "       [0.14216523, 0.03786865, 0.5343122 , 0.19018301, 0.03969312,\n",
              "        0.05577782]], dtype=float32)"
            ]
          },
          "metadata": {
            "tags": []
          },
          "execution_count": 122
        }
      ]
    },
    {
      "cell_type": "code",
      "metadata": {
        "id": "A_eycN-qzSK5"
      },
      "source": [
        ""
      ],
      "execution_count": null,
      "outputs": []
    },
    {
      "cell_type": "code",
      "metadata": {
        "colab": {
          "base_uri": "https://localhost:8080/"
        },
        "id": "raKJnffMv2L7",
        "outputId": "d45670fe-e889-45a3-9f74-61a629f3605d"
      },
      "source": [
        "print(len(pred_unlabel_1))\n",
        "print(np.unique(pred_unlabel_1))\n"
      ],
      "execution_count": null,
      "outputs": [
        {
          "output_type": "stream",
          "text": [
            "100001\n",
            "[8.3677273e-04 1.1326037e-03 1.2882029e-03 ... 9.8015928e-01 9.8069888e-01\n",
            " 9.8366046e-01]\n"
          ],
          "name": "stdout"
        }
      ]
    },
    {
      "cell_type": "code",
      "metadata": {
        "id": "CGFe2Iz3wMzi"
      },
      "source": [
        "Threshold= 0.98"
      ],
      "execution_count": null,
      "outputs": []
    },
    {
      "cell_type": "code",
      "metadata": {
        "colab": {
          "base_uri": "https://localhost:8080/"
        },
        "id": "YYYZpnQOwHOh",
        "outputId": "7f8d03a4-de55-415f-c1f0-8cdee23413f2"
      },
      "source": [
        "import numpy as np\n",
        "pos=[]\n",
        "large=[]\n",
        "ind = []\n",
        "i=0\n",
        "for j in pred_unlabel_1:\n",
        "  if max(j)> Threshold:\n",
        "    ind.append(np.argmax(j))\n",
        "    large.append(max(j))\n",
        "    pos.append(i)\n",
        "  i+=1\n",
        "\n",
        "\n",
        "print(ind)\n",
        "print(large)\n",
        "print(pos)\n",
        "print(type(pos))\n",
        "print(len(ind))\n",
        "print(len(large))\n",
        "print(len(pos))"
      ],
      "execution_count": null,
      "outputs": [
        {
          "output_type": "stream",
          "text": [
            "[2, 2, 2]\n",
            "[0.98366046, 0.9806989, 0.9801593]\n",
            "[19927, 36287, 79743]\n",
            "<class 'list'>\n",
            "3\n",
            "3\n",
            "3\n"
          ],
          "name": "stdout"
        }
      ]
    },
    {
      "cell_type": "code",
      "metadata": {
        "colab": {
          "base_uri": "https://localhost:8080/",
          "height": 159
        },
        "id": "JCUhCmIVwhwB",
        "outputId": "34513bf7-8c47-4267-f10d-c3ab50052828"
      },
      "source": [
        "unlabel_1 = unlabel_1.loc[pos,:]\n",
        "print(len(unlabel_1))\n",
        "unlabel_1.head()"
      ],
      "execution_count": null,
      "outputs": [
        {
          "output_type": "stream",
          "text": [
            "3\n"
          ],
          "name": "stdout"
        },
        {
          "output_type": "execute_result",
          "data": {
            "text/html": [
              "<div>\n",
              "<style scoped>\n",
              "    .dataframe tbody tr th:only-of-type {\n",
              "        vertical-align: middle;\n",
              "    }\n",
              "\n",
              "    .dataframe tbody tr th {\n",
              "        vertical-align: top;\n",
              "    }\n",
              "\n",
              "    .dataframe thead th {\n",
              "        text-align: right;\n",
              "    }\n",
              "</style>\n",
              "<table border=\"1\" class=\"dataframe\">\n",
              "  <thead>\n",
              "    <tr style=\"text-align: right;\">\n",
              "      <th></th>\n",
              "      <th>text</th>\n",
              "    </tr>\n",
              "  </thead>\n",
              "  <tbody>\n",
              "    <tr>\n",
              "      <th>19927</th>\n",
              "      <td>appellant testified bed asleep wife called tol...</td>\n",
              "    </tr>\n",
              "    <tr>\n",
              "      <th>36287</th>\n",
              "      <td>f machen testified inquired appellant wife hus...</td>\n",
              "    </tr>\n",
              "    <tr>\n",
              "      <th>79743</th>\n",
              "      <td>appellant testified occasion question daughter...</td>\n",
              "    </tr>\n",
              "  </tbody>\n",
              "</table>\n",
              "</div>"
            ],
            "text/plain": [
              "                                                    text\n",
              "19927  appellant testified bed asleep wife called tol...\n",
              "36287  f machen testified inquired appellant wife hus...\n",
              "79743  appellant testified occasion question daughter..."
            ]
          },
          "metadata": {
            "tags": []
          },
          "execution_count": 126
        }
      ]
    },
    {
      "cell_type": "code",
      "metadata": {
        "id": "p4yqkbGwz9gq"
      },
      "source": [
        "class_x_un1 = tfidf_vect.transform(unlabel_1['text'])"
      ],
      "execution_count": null,
      "outputs": []
    },
    {
      "cell_type": "code",
      "metadata": {
        "colab": {
          "base_uri": "https://localhost:8080/"
        },
        "id": "QpCBhQef0Cgy",
        "outputId": "8bd7164e-a7c2-4517-caae-0b4bc412e4e5"
      },
      "source": [
        "class_x_un1.shape"
      ],
      "execution_count": null,
      "outputs": [
        {
          "output_type": "execute_result",
          "data": {
            "text/plain": [
              "(3, 6383)"
            ]
          },
          "metadata": {
            "tags": []
          },
          "execution_count": 128
        }
      ]
    },
    {
      "cell_type": "code",
      "metadata": {
        "colab": {
          "base_uri": "https://localhost:8080/"
        },
        "id": "GtEfiId00orr",
        "outputId": "bf7c45cf-fee5-4f6b-f68c-9ff8cdba33b2"
      },
      "source": [
        "\n",
        "class_pred_unlabel_1 = classifier.predict(class_x_un1)\n",
        "class_pred_unlabel_1\n"
      ],
      "execution_count": null,
      "outputs": [
        {
          "output_type": "execute_result",
          "data": {
            "text/plain": [
              "array(['Facts', 'Facts', 'Facts'], dtype=object)"
            ]
          },
          "metadata": {
            "tags": []
          },
          "execution_count": 129
        }
      ]
    },
    {
      "cell_type": "code",
      "metadata": {
        "colab": {
          "base_uri": "https://localhost:8080/"
        },
        "id": "j6D1AN0Q08Lb",
        "outputId": "b6b1308e-3a43-424e-c916-f15333d4c8dc"
      },
      "source": [
        "print(len(class_pred_unlabel_1))"
      ],
      "execution_count": null,
      "outputs": [
        {
          "output_type": "stream",
          "text": [
            "3\n"
          ],
          "name": "stdout"
        }
      ]
    },
    {
      "cell_type": "code",
      "metadata": {
        "colab": {
          "base_uri": "https://localhost:8080/",
          "height": 142
        },
        "id": "tnwEL1_i1EUG",
        "outputId": "40c71d81-5677-42ba-f985-01b777c24762"
      },
      "source": [
        "unlabel_1['Target']=class_pred_unlabel_1\n",
        "unlabel_1.head()"
      ],
      "execution_count": null,
      "outputs": [
        {
          "output_type": "execute_result",
          "data": {
            "text/html": [
              "<div>\n",
              "<style scoped>\n",
              "    .dataframe tbody tr th:only-of-type {\n",
              "        vertical-align: middle;\n",
              "    }\n",
              "\n",
              "    .dataframe tbody tr th {\n",
              "        vertical-align: top;\n",
              "    }\n",
              "\n",
              "    .dataframe thead th {\n",
              "        text-align: right;\n",
              "    }\n",
              "</style>\n",
              "<table border=\"1\" class=\"dataframe\">\n",
              "  <thead>\n",
              "    <tr style=\"text-align: right;\">\n",
              "      <th></th>\n",
              "      <th>text</th>\n",
              "      <th>Target</th>\n",
              "    </tr>\n",
              "  </thead>\n",
              "  <tbody>\n",
              "    <tr>\n",
              "      <th>19927</th>\n",
              "      <td>appellant testified bed asleep wife called tol...</td>\n",
              "      <td>Facts</td>\n",
              "    </tr>\n",
              "    <tr>\n",
              "      <th>36287</th>\n",
              "      <td>f machen testified inquired appellant wife hus...</td>\n",
              "      <td>Facts</td>\n",
              "    </tr>\n",
              "    <tr>\n",
              "      <th>79743</th>\n",
              "      <td>appellant testified occasion question daughter...</td>\n",
              "      <td>Facts</td>\n",
              "    </tr>\n",
              "  </tbody>\n",
              "</table>\n",
              "</div>"
            ],
            "text/plain": [
              "                                                    text Target\n",
              "19927  appellant testified bed asleep wife called tol...  Facts\n",
              "36287  f machen testified inquired appellant wife hus...  Facts\n",
              "79743  appellant testified occasion question daughter...  Facts"
            ]
          },
          "metadata": {
            "tags": []
          },
          "execution_count": 131
        }
      ]
    },
    {
      "cell_type": "code",
      "metadata": {
        "colab": {
          "base_uri": "https://localhost:8080/",
          "height": 204
        },
        "id": "45V1Qx6g1sX1",
        "outputId": "1d91347a-1a7f-41e3-d0aa-f7a36f76e601"
      },
      "source": [
        "train = train.rename(columns={'Sentence':'text'})\n",
        "train.head()"
      ],
      "execution_count": null,
      "outputs": [
        {
          "output_type": "execute_result",
          "data": {
            "text/html": [
              "<div>\n",
              "<style scoped>\n",
              "    .dataframe tbody tr th:only-of-type {\n",
              "        vertical-align: middle;\n",
              "    }\n",
              "\n",
              "    .dataframe tbody tr th {\n",
              "        vertical-align: top;\n",
              "    }\n",
              "\n",
              "    .dataframe thead th {\n",
              "        text-align: right;\n",
              "    }\n",
              "</style>\n",
              "<table border=\"1\" class=\"dataframe\">\n",
              "  <thead>\n",
              "    <tr style=\"text-align: right;\">\n",
              "      <th></th>\n",
              "      <th>Unnamed: 0</th>\n",
              "      <th>text</th>\n",
              "      <th>Target</th>\n",
              "    </tr>\n",
              "  </thead>\n",
              "  <tbody>\n",
              "    <tr>\n",
              "      <th>0</th>\n",
              "      <td>659</td>\n",
              "      <td>Appellant had stated to the officers that she ...</td>\n",
              "      <td>Invalid</td>\n",
              "    </tr>\n",
              "    <tr>\n",
              "      <th>1</th>\n",
              "      <td>3456</td>\n",
              "      <td>We shall discuss the facts more fully in conne...</td>\n",
              "      <td>Invalid</td>\n",
              "    </tr>\n",
              "    <tr>\n",
              "      <th>2</th>\n",
              "      <td>2043</td>\n",
              "      <td>â€œPerjury is a false statement, either writte...</td>\n",
              "      <td>Invalid</td>\n",
              "    </tr>\n",
              "    <tr>\n",
              "      <th>3</th>\n",
              "      <td>3344</td>\n",
              "      <td>The offense is felony theft by false pretext; ...</td>\n",
              "      <td>Issue</td>\n",
              "    </tr>\n",
              "    <tr>\n",
              "      <th>4</th>\n",
              "      <td>3231</td>\n",
              "      <td>Numerous contentions urging the commission of ...</td>\n",
              "      <td>Issue</td>\n",
              "    </tr>\n",
              "  </tbody>\n",
              "</table>\n",
              "</div>"
            ],
            "text/plain": [
              "   Unnamed: 0                                               text   Target\n",
              "0         659  Appellant had stated to the officers that she ...  Invalid\n",
              "1        3456  We shall discuss the facts more fully in conne...  Invalid\n",
              "2        2043  â€œPerjury is a false statement, either writte...  Invalid\n",
              "3        3344  The offense is felony theft by false pretext; ...    Issue\n",
              "4        3231  Numerous contentions urging the commission of ...    Issue"
            ]
          },
          "metadata": {
            "tags": []
          },
          "execution_count": 132
        }
      ]
    },
    {
      "cell_type": "code",
      "metadata": {
        "colab": {
          "base_uri": "https://localhost:8080/"
        },
        "id": "DDs9mes8wwys",
        "outputId": "7eb8b0d9-417d-4f24-f3f1-b99c1754ac05"
      },
      "source": [
        "frame_1 = [train,unlabel_1]\n",
        "train_1 = pd.concat(frame_1)\n",
        "print(len(train))\n",
        "print(len(unlabel_1))\n",
        "print(len(train_1))"
      ],
      "execution_count": null,
      "outputs": [
        {
          "output_type": "stream",
          "text": [
            "3476\n",
            "3\n",
            "3479\n"
          ],
          "name": "stdout"
        }
      ]
    },
    {
      "cell_type": "code",
      "metadata": {
        "id": "CaSHnErdxwBr"
      },
      "source": [
        ""
      ],
      "execution_count": null,
      "outputs": []
    },
    {
      "cell_type": "code",
      "metadata": {
        "colab": {
          "base_uri": "https://localhost:8080/"
        },
        "id": "KTR_SdhUbzdv",
        "outputId": "5be21c60-ed27-4897-dd81-bea92ecc06fe"
      },
      "source": [
        "from numpy import loadtxt\n",
        "from xgboost import XGBClassifier\n",
        "from sklearn.model_selection import train_test_split\n",
        "from sklearn.metrics import accuracy_score\n",
        "\n",
        "X_train, x_val, Y_train, y_val = train_test_split(X_tfidf,train['Target'],test_size=0.26,random_state=42)\n",
        "# fit model no training data\n",
        "classifier_1 = XGBClassifier()\n",
        "classifier_1.fit(X_train, Y_train)\n",
        "\n",
        "# make predictions for test data\n",
        "y_pred = classifier_1.predict(x_val)\n",
        "#predictions = [round(value) for value in y_pred]\n",
        "\n",
        "# evaluate predictions\n",
        "accuracy = accuracy_score(y_val, y_pred)\n",
        "print(\"Accuracy validation: %f\" % (accuracy))\n",
        "\n",
        "test_pred = classifier_1.predict(t_p)\n",
        "#test_predictions = [round(value) for value in test_pred]\n",
        "acc_test = accuracy_score(test['Target'], test_pred)\n",
        "#acc_test = accuracy_score(test_pred,test['Target'])\n",
        "\n",
        "print(\"Accuracy test : %f\" % (acc_test ))"
      ],
      "execution_count": null,
      "outputs": [
        {
          "output_type": "stream",
          "text": [
            "Accuracy validation: 0.654867\n",
            "Accuracy test : 0.595010\n"
          ],
          "name": "stdout"
        }
      ]
    },
    {
      "cell_type": "code",
      "metadata": {
        "id": "hno9JlRN-bwV"
      },
      "source": [
        ""
      ],
      "execution_count": null,
      "outputs": []
    },
    {
      "cell_type": "markdown",
      "metadata": {
        "id": "I7NBaCt--2HK"
      },
      "source": [
        "Second set of unlabeled data "
      ]
    },
    {
      "cell_type": "code",
      "metadata": {
        "id": "d8BWcEGe-1Eu"
      },
      "source": [
        "x_un2 = tfidf_vect.transform(unlabel_2['text'])\n"
      ],
      "execution_count": null,
      "outputs": []
    },
    {
      "cell_type": "code",
      "metadata": {
        "colab": {
          "base_uri": "https://localhost:8080/"
        },
        "id": "xoo80lu4Blug",
        "outputId": "50cbe6a5-e605-4b05-d7bb-0ce8f2836c15"
      },
      "source": [
        "\n",
        "pred_unlabel_2 = classifier_1.predict_proba(x_un2)\n",
        "pred_unlabel_2"
      ],
      "execution_count": null,
      "outputs": [
        {
          "output_type": "execute_result",
          "data": {
            "text/plain": [
              "array([[0.15511663, 0.0425888 , 0.546506  , 0.15813883, 0.04059898,\n",
              "        0.05705076],\n",
              "       [0.09863124, 0.02660361, 0.23805799, 0.08848847, 0.190097  ,\n",
              "        0.3581217 ],\n",
              "       [0.13993214, 0.04056331, 0.49427605, 0.22296408, 0.0425176 ,\n",
              "        0.05974686],\n",
              "       ...,\n",
              "       [0.12987107, 0.03764682, 0.5311822 , 0.19951871, 0.04633007,\n",
              "        0.05545108],\n",
              "       [0.13076939, 0.03790722, 0.5348564 , 0.20089878, 0.03973355,\n",
              "        0.05583463],\n",
              "       [0.10983369, 0.02989561, 0.7083896 , 0.06698974, 0.06280437,\n",
              "        0.02208701]], dtype=float32)"
            ]
          },
          "metadata": {
            "tags": []
          },
          "execution_count": 136
        }
      ]
    },
    {
      "cell_type": "code",
      "metadata": {
        "colab": {
          "base_uri": "https://localhost:8080/"
        },
        "id": "zXnOCoCCB8hM",
        "outputId": "a918b226-d92e-44f6-eb35-1e99c92646b2"
      },
      "source": [
        "print(len(pred_unlabel_2))\n",
        "print(np.unique(pred_unlabel_2))"
      ],
      "execution_count": null,
      "outputs": [
        {
          "output_type": "stream",
          "text": [
            "100000\n",
            "[5.6254666e-04 7.6142838e-04 8.7120297e-04 ... 9.8257321e-01 9.8769569e-01\n",
            " 9.9075341e-01]\n"
          ],
          "name": "stdout"
        }
      ]
    },
    {
      "cell_type": "code",
      "metadata": {
        "colab": {
          "base_uri": "https://localhost:8080/"
        },
        "id": "8n23pWivB8qi",
        "outputId": "08bc2395-c367-4bb3-a960-66533cacaf41"
      },
      "source": [
        "import numpy as np\n",
        "pos=[]\n",
        "large=[]\n",
        "ind = []\n",
        "i=0\n",
        "for j in pred_unlabel_2:\n",
        "  if max(j)> Threshold:\n",
        "    ind.append(np.argmax(j))\n",
        "    large.append(max(j))\n",
        "    pos.append(i)\n",
        "  i+=1\n",
        "\n",
        "\n",
        "print(ind)\n",
        "print(large)\n",
        "print(pos)\n",
        "print(type(pos))\n",
        "print(len(ind))\n",
        "print(len(large))\n",
        "print(len(pos))"
      ],
      "execution_count": null,
      "outputs": [
        {
          "output_type": "stream",
          "text": [
            "[2, 2, 2, 2, 2]\n",
            "[0.9876957, 0.98243284, 0.9907534, 0.9825732, 0.98117834]\n",
            "[27065, 29030, 36703, 84221, 91578]\n",
            "<class 'list'>\n",
            "5\n",
            "5\n",
            "5\n"
          ],
          "name": "stdout"
        }
      ]
    },
    {
      "cell_type": "code",
      "metadata": {
        "colab": {
          "base_uri": "https://localhost:8080/",
          "height": 221
        },
        "id": "KDxAqv3YCYzy",
        "outputId": "d5e78e65-c89d-412f-cc7f-1e1a714f6dcf"
      },
      "source": [
        "unlabel_2 = unlabel_2.loc[pos,:]\n",
        "print(len(unlabel_2))\n",
        "unlabel_2.head()"
      ],
      "execution_count": null,
      "outputs": [
        {
          "output_type": "stream",
          "text": [
            "5\n"
          ],
          "name": "stdout"
        },
        {
          "output_type": "execute_result",
          "data": {
            "text/html": [
              "<div>\n",
              "<style scoped>\n",
              "    .dataframe tbody tr th:only-of-type {\n",
              "        vertical-align: middle;\n",
              "    }\n",
              "\n",
              "    .dataframe tbody tr th {\n",
              "        vertical-align: top;\n",
              "    }\n",
              "\n",
              "    .dataframe thead th {\n",
              "        text-align: right;\n",
              "    }\n",
              "</style>\n",
              "<table border=\"1\" class=\"dataframe\">\n",
              "  <thead>\n",
              "    <tr style=\"text-align: right;\">\n",
              "      <th></th>\n",
              "      <th>text</th>\n",
              "    </tr>\n",
              "  </thead>\n",
              "  <tbody>\n",
              "    <tr>\n",
              "      <th>27065</th>\n",
              "      <td>testified tiny baltrip inside heard noise star...</td>\n",
              "    </tr>\n",
              "    <tr>\n",
              "      <th>29030</th>\n",
              "      <td>officer gallaher testified response call went ...</td>\n",
              "    </tr>\n",
              "    <tr>\n",
              "      <th>36703</th>\n",
              "      <td>testified week homicide dance attended decease...</td>\n",
              "    </tr>\n",
              "    <tr>\n",
              "      <th>84221</th>\n",
              "      <td>also testified sure wife laid bed first night ...</td>\n",
              "    </tr>\n",
              "    <tr>\n",
              "      <th>91578</th>\n",
              "      <td>accomplice testified appellant came witness ho...</td>\n",
              "    </tr>\n",
              "  </tbody>\n",
              "</table>\n",
              "</div>"
            ],
            "text/plain": [
              "                                                    text\n",
              "27065  testified tiny baltrip inside heard noise star...\n",
              "29030  officer gallaher testified response call went ...\n",
              "36703  testified week homicide dance attended decease...\n",
              "84221  also testified sure wife laid bed first night ...\n",
              "91578  accomplice testified appellant came witness ho..."
            ]
          },
          "metadata": {
            "tags": []
          },
          "execution_count": 139
        }
      ]
    },
    {
      "cell_type": "code",
      "metadata": {
        "id": "OX8L6__RC1Bj"
      },
      "source": [
        "class_x_un2 = tfidf_vect.transform(unlabel_2['text'])"
      ],
      "execution_count": null,
      "outputs": []
    },
    {
      "cell_type": "code",
      "metadata": {
        "colab": {
          "base_uri": "https://localhost:8080/"
        },
        "id": "6O2NyGzTC6aX",
        "outputId": "bfe9f63d-0294-46f7-cadd-fefa1475a9f0"
      },
      "source": [
        "class_x_un1.shape"
      ],
      "execution_count": null,
      "outputs": [
        {
          "output_type": "execute_result",
          "data": {
            "text/plain": [
              "(3, 6383)"
            ]
          },
          "metadata": {
            "tags": []
          },
          "execution_count": 141
        }
      ]
    },
    {
      "cell_type": "code",
      "metadata": {
        "colab": {
          "base_uri": "https://localhost:8080/"
        },
        "id": "iw4ROFmeC_Tf",
        "outputId": "382ee47d-4b60-4927-f609-ee04bda4b97c"
      },
      "source": [
        "class_pred_unlabel_2 = classifier_1.predict(class_x_un2)\n",
        "class_pred_unlabel_2"
      ],
      "execution_count": null,
      "outputs": [
        {
          "output_type": "execute_result",
          "data": {
            "text/plain": [
              "array(['Facts', 'Facts', 'Facts', 'Facts', 'Facts'], dtype=object)"
            ]
          },
          "metadata": {
            "tags": []
          },
          "execution_count": 142
        }
      ]
    },
    {
      "cell_type": "code",
      "metadata": {
        "colab": {
          "base_uri": "https://localhost:8080/"
        },
        "id": "-c4pzr8-DGip",
        "outputId": "febe758b-5e94-4e27-e99a-a57395bcfe25"
      },
      "source": [
        "print(len(class_pred_unlabel_2))"
      ],
      "execution_count": null,
      "outputs": [
        {
          "output_type": "stream",
          "text": [
            "5\n"
          ],
          "name": "stdout"
        }
      ]
    },
    {
      "cell_type": "code",
      "metadata": {
        "colab": {
          "base_uri": "https://localhost:8080/",
          "height": 204
        },
        "id": "cwnBPztaDK6e",
        "outputId": "35662bdb-040f-45b2-86b4-c504c4c9a04c"
      },
      "source": [
        "unlabel_2['Target']=class_pred_unlabel_2\n",
        "unlabel_2.head()"
      ],
      "execution_count": null,
      "outputs": [
        {
          "output_type": "execute_result",
          "data": {
            "text/html": [
              "<div>\n",
              "<style scoped>\n",
              "    .dataframe tbody tr th:only-of-type {\n",
              "        vertical-align: middle;\n",
              "    }\n",
              "\n",
              "    .dataframe tbody tr th {\n",
              "        vertical-align: top;\n",
              "    }\n",
              "\n",
              "    .dataframe thead th {\n",
              "        text-align: right;\n",
              "    }\n",
              "</style>\n",
              "<table border=\"1\" class=\"dataframe\">\n",
              "  <thead>\n",
              "    <tr style=\"text-align: right;\">\n",
              "      <th></th>\n",
              "      <th>text</th>\n",
              "      <th>Target</th>\n",
              "    </tr>\n",
              "  </thead>\n",
              "  <tbody>\n",
              "    <tr>\n",
              "      <th>27065</th>\n",
              "      <td>testified tiny baltrip inside heard noise star...</td>\n",
              "      <td>Facts</td>\n",
              "    </tr>\n",
              "    <tr>\n",
              "      <th>29030</th>\n",
              "      <td>officer gallaher testified response call went ...</td>\n",
              "      <td>Facts</td>\n",
              "    </tr>\n",
              "    <tr>\n",
              "      <th>36703</th>\n",
              "      <td>testified week homicide dance attended decease...</td>\n",
              "      <td>Facts</td>\n",
              "    </tr>\n",
              "    <tr>\n",
              "      <th>84221</th>\n",
              "      <td>also testified sure wife laid bed first night ...</td>\n",
              "      <td>Facts</td>\n",
              "    </tr>\n",
              "    <tr>\n",
              "      <th>91578</th>\n",
              "      <td>accomplice testified appellant came witness ho...</td>\n",
              "      <td>Facts</td>\n",
              "    </tr>\n",
              "  </tbody>\n",
              "</table>\n",
              "</div>"
            ],
            "text/plain": [
              "                                                    text Target\n",
              "27065  testified tiny baltrip inside heard noise star...  Facts\n",
              "29030  officer gallaher testified response call went ...  Facts\n",
              "36703  testified week homicide dance attended decease...  Facts\n",
              "84221  also testified sure wife laid bed first night ...  Facts\n",
              "91578  accomplice testified appellant came witness ho...  Facts"
            ]
          },
          "metadata": {
            "tags": []
          },
          "execution_count": 144
        }
      ]
    },
    {
      "cell_type": "code",
      "metadata": {
        "colab": {
          "base_uri": "https://localhost:8080/",
          "height": 204
        },
        "id": "RLOEKUSkDbK9",
        "outputId": "e1ef22a1-0352-47f5-eaa2-b5e94ed498ed"
      },
      "source": [
        "train_1.head()"
      ],
      "execution_count": null,
      "outputs": [
        {
          "output_type": "execute_result",
          "data": {
            "text/html": [
              "<div>\n",
              "<style scoped>\n",
              "    .dataframe tbody tr th:only-of-type {\n",
              "        vertical-align: middle;\n",
              "    }\n",
              "\n",
              "    .dataframe tbody tr th {\n",
              "        vertical-align: top;\n",
              "    }\n",
              "\n",
              "    .dataframe thead th {\n",
              "        text-align: right;\n",
              "    }\n",
              "</style>\n",
              "<table border=\"1\" class=\"dataframe\">\n",
              "  <thead>\n",
              "    <tr style=\"text-align: right;\">\n",
              "      <th></th>\n",
              "      <th>Unnamed: 0</th>\n",
              "      <th>text</th>\n",
              "      <th>Target</th>\n",
              "    </tr>\n",
              "  </thead>\n",
              "  <tbody>\n",
              "    <tr>\n",
              "      <th>0</th>\n",
              "      <td>659.0</td>\n",
              "      <td>Appellant had stated to the officers that she ...</td>\n",
              "      <td>Invalid</td>\n",
              "    </tr>\n",
              "    <tr>\n",
              "      <th>1</th>\n",
              "      <td>3456.0</td>\n",
              "      <td>We shall discuss the facts more fully in conne...</td>\n",
              "      <td>Invalid</td>\n",
              "    </tr>\n",
              "    <tr>\n",
              "      <th>2</th>\n",
              "      <td>2043.0</td>\n",
              "      <td>â€œPerjury is a false statement, either writte...</td>\n",
              "      <td>Invalid</td>\n",
              "    </tr>\n",
              "    <tr>\n",
              "      <th>3</th>\n",
              "      <td>3344.0</td>\n",
              "      <td>The offense is felony theft by false pretext; ...</td>\n",
              "      <td>Issue</td>\n",
              "    </tr>\n",
              "    <tr>\n",
              "      <th>4</th>\n",
              "      <td>3231.0</td>\n",
              "      <td>Numerous contentions urging the commission of ...</td>\n",
              "      <td>Issue</td>\n",
              "    </tr>\n",
              "  </tbody>\n",
              "</table>\n",
              "</div>"
            ],
            "text/plain": [
              "   Unnamed: 0                                               text   Target\n",
              "0       659.0  Appellant had stated to the officers that she ...  Invalid\n",
              "1      3456.0  We shall discuss the facts more fully in conne...  Invalid\n",
              "2      2043.0  â€œPerjury is a false statement, either writte...  Invalid\n",
              "3      3344.0  The offense is felony theft by false pretext; ...    Issue\n",
              "4      3231.0  Numerous contentions urging the commission of ...    Issue"
            ]
          },
          "metadata": {
            "tags": []
          },
          "execution_count": 145
        }
      ]
    },
    {
      "cell_type": "code",
      "metadata": {
        "colab": {
          "base_uri": "https://localhost:8080/"
        },
        "id": "wLHnOPItD0fP",
        "outputId": "63573489-16c8-4515-800f-de1473737e5c"
      },
      "source": [
        "frame_2 = [train_1,unlabel_2]\n",
        "train_2 = pd.concat(frame_2)\n",
        "print(len(train_1))\n",
        "print(len(unlabel_2))\n",
        "print(len(train_2))"
      ],
      "execution_count": null,
      "outputs": [
        {
          "output_type": "stream",
          "text": [
            "3479\n",
            "5\n",
            "3484\n"
          ],
          "name": "stdout"
        }
      ]
    },
    {
      "cell_type": "code",
      "metadata": {
        "colab": {
          "base_uri": "https://localhost:8080/",
          "height": 419
        },
        "id": "FoOkIwhkECw6",
        "outputId": "79846b38-0edb-445d-b3bd-f84356f10444"
      },
      "source": [
        "train_2"
      ],
      "execution_count": null,
      "outputs": [
        {
          "output_type": "execute_result",
          "data": {
            "text/html": [
              "<div>\n",
              "<style scoped>\n",
              "    .dataframe tbody tr th:only-of-type {\n",
              "        vertical-align: middle;\n",
              "    }\n",
              "\n",
              "    .dataframe tbody tr th {\n",
              "        vertical-align: top;\n",
              "    }\n",
              "\n",
              "    .dataframe thead th {\n",
              "        text-align: right;\n",
              "    }\n",
              "</style>\n",
              "<table border=\"1\" class=\"dataframe\">\n",
              "  <thead>\n",
              "    <tr style=\"text-align: right;\">\n",
              "      <th></th>\n",
              "      <th>Unnamed: 0</th>\n",
              "      <th>text</th>\n",
              "      <th>Target</th>\n",
              "    </tr>\n",
              "  </thead>\n",
              "  <tbody>\n",
              "    <tr>\n",
              "      <th>0</th>\n",
              "      <td>659.0</td>\n",
              "      <td>Appellant had stated to the officers that she ...</td>\n",
              "      <td>Invalid</td>\n",
              "    </tr>\n",
              "    <tr>\n",
              "      <th>1</th>\n",
              "      <td>3456.0</td>\n",
              "      <td>We shall discuss the facts more fully in conne...</td>\n",
              "      <td>Invalid</td>\n",
              "    </tr>\n",
              "    <tr>\n",
              "      <th>2</th>\n",
              "      <td>2043.0</td>\n",
              "      <td>â€œPerjury is a false statement, either writte...</td>\n",
              "      <td>Invalid</td>\n",
              "    </tr>\n",
              "    <tr>\n",
              "      <th>3</th>\n",
              "      <td>3344.0</td>\n",
              "      <td>The offense is felony theft by false pretext; ...</td>\n",
              "      <td>Issue</td>\n",
              "    </tr>\n",
              "    <tr>\n",
              "      <th>4</th>\n",
              "      <td>3231.0</td>\n",
              "      <td>Numerous contentions urging the commission of ...</td>\n",
              "      <td>Issue</td>\n",
              "    </tr>\n",
              "    <tr>\n",
              "      <th>...</th>\n",
              "      <td>...</td>\n",
              "      <td>...</td>\n",
              "      <td>...</td>\n",
              "    </tr>\n",
              "    <tr>\n",
              "      <th>27065</th>\n",
              "      <td>NaN</td>\n",
              "      <td>testified tiny baltrip inside heard noise star...</td>\n",
              "      <td>Facts</td>\n",
              "    </tr>\n",
              "    <tr>\n",
              "      <th>29030</th>\n",
              "      <td>NaN</td>\n",
              "      <td>officer gallaher testified response call went ...</td>\n",
              "      <td>Facts</td>\n",
              "    </tr>\n",
              "    <tr>\n",
              "      <th>36703</th>\n",
              "      <td>NaN</td>\n",
              "      <td>testified week homicide dance attended decease...</td>\n",
              "      <td>Facts</td>\n",
              "    </tr>\n",
              "    <tr>\n",
              "      <th>84221</th>\n",
              "      <td>NaN</td>\n",
              "      <td>also testified sure wife laid bed first night ...</td>\n",
              "      <td>Facts</td>\n",
              "    </tr>\n",
              "    <tr>\n",
              "      <th>91578</th>\n",
              "      <td>NaN</td>\n",
              "      <td>accomplice testified appellant came witness ho...</td>\n",
              "      <td>Facts</td>\n",
              "    </tr>\n",
              "  </tbody>\n",
              "</table>\n",
              "<p>3484 rows × 3 columns</p>\n",
              "</div>"
            ],
            "text/plain": [
              "       Unnamed: 0                                               text   Target\n",
              "0           659.0  Appellant had stated to the officers that she ...  Invalid\n",
              "1          3456.0  We shall discuss the facts more fully in conne...  Invalid\n",
              "2          2043.0  â€œPerjury is a false statement, either writte...  Invalid\n",
              "3          3344.0  The offense is felony theft by false pretext; ...    Issue\n",
              "4          3231.0  Numerous contentions urging the commission of ...    Issue\n",
              "...           ...                                                ...      ...\n",
              "27065         NaN  testified tiny baltrip inside heard noise star...    Facts\n",
              "29030         NaN  officer gallaher testified response call went ...    Facts\n",
              "36703         NaN  testified week homicide dance attended decease...    Facts\n",
              "84221         NaN  also testified sure wife laid bed first night ...    Facts\n",
              "91578         NaN  accomplice testified appellant came witness ho...    Facts\n",
              "\n",
              "[3484 rows x 3 columns]"
            ]
          },
          "metadata": {
            "tags": []
          },
          "execution_count": 147
        }
      ]
    },
    {
      "cell_type": "code",
      "metadata": {
        "colab": {
          "base_uri": "https://localhost:8080/"
        },
        "id": "IlY1RWWOEHO1",
        "outputId": "1217ceaa-017e-47d3-9ef1-df8c34da4ef1"
      },
      "source": [
        "from numpy import loadtxt\n",
        "from xgboost import XGBClassifier\n",
        "from sklearn.model_selection import train_test_split\n",
        "from sklearn.metrics import accuracy_score\n",
        "\n",
        "X_train, x_val, Y_train, y_val = train_test_split(X_tfidf,train['Target'],test_size=0.26,random_state=42)\n",
        "# fit model no training data\n",
        "classifier_2 = XGBClassifier()\n",
        "classifier_2.fit(X_train, Y_train)\n",
        "\n",
        "# make predictions for test data\n",
        "y_pred = classifier_2.predict(x_val)\n",
        "#predictions = [round(value) for value in y_pred]\n",
        "\n",
        "# evaluate predictions\n",
        "accuracy = accuracy_score(y_val, y_pred)\n",
        "print(\"Accuracy validation: %f\" % (accuracy))\n",
        "\n",
        "test_pred = classifier_2.predict(t_p)\n",
        "#test_predictions = [round(value) for value in test_pred]\n",
        "acc_test = accuracy_score(test['Target'], test_pred)\n",
        "#acc_test = accuracy_score(test_pred,test['Target'])\n",
        "\n",
        "print(\"Accuracy test : %f\" % (acc_test ))"
      ],
      "execution_count": null,
      "outputs": [
        {
          "output_type": "stream",
          "text": [
            "Accuracy validation: 0.654867\n",
            "Accuracy test : 0.595010\n"
          ],
          "name": "stdout"
        }
      ]
    },
    {
      "cell_type": "code",
      "metadata": {
        "id": "AKg_k1iKIBKE"
      },
      "source": [
        ""
      ],
      "execution_count": null,
      "outputs": []
    },
    {
      "cell_type": "markdown",
      "metadata": {
        "id": "dR4DnCyJIMFg"
      },
      "source": [
        "Unlabelled 3:"
      ]
    },
    {
      "cell_type": "code",
      "metadata": {
        "id": "harCGxx3IBZI"
      },
      "source": [
        "x_un3 = tfidf_vect.transform(unlabel_3['text'])\n"
      ],
      "execution_count": null,
      "outputs": []
    },
    {
      "cell_type": "code",
      "metadata": {
        "colab": {
          "base_uri": "https://localhost:8080/"
        },
        "id": "SrGPc31TIBmq",
        "outputId": "d1d69f1c-5e60-4e00-8d82-ead97338f8b5"
      },
      "source": [
        "\n",
        "pred_unlabel_3 = classifier_2.predict_proba(x_un3)\n",
        "pred_unlabel_3"
      ],
      "execution_count": null,
      "outputs": [
        {
          "output_type": "execute_result",
          "data": {
            "text/plain": [
              "array([[0.13076939, 0.03790722, 0.5348564 , 0.20089878, 0.03973355,\n",
              "        0.05583463],\n",
              "       [0.04131139, 0.01285888, 0.87644374, 0.02881403, 0.02574264,\n",
              "        0.01482934],\n",
              "       [0.12308408, 0.03350222, 0.67133266, 0.07507142, 0.05990423,\n",
              "        0.03710537],\n",
              "       ...,\n",
              "       [0.10099844, 0.02749075, 0.6326032 , 0.09788227, 0.10468129,\n",
              "        0.03634401],\n",
              "       [0.10137656, 0.03884389, 0.62541753, 0.15925969, 0.05358655,\n",
              "        0.02151573],\n",
              "       [0.10174616, 0.02949401, 0.41614923, 0.37825298, 0.030915  ,\n",
              "        0.04344258]], dtype=float32)"
            ]
          },
          "metadata": {
            "tags": []
          },
          "execution_count": 150
        }
      ]
    },
    {
      "cell_type": "code",
      "metadata": {
        "colab": {
          "base_uri": "https://localhost:8080/"
        },
        "id": "JJ9aIZNSI1TV",
        "outputId": "1e7e3185-b506-4792-eb06-bf246db65c46"
      },
      "source": [
        "print(len(pred_unlabel_2))\n",
        "print(np.unique(pred_unlabel_2))"
      ],
      "execution_count": null,
      "outputs": [
        {
          "output_type": "stream",
          "text": [
            "100000\n",
            "[5.6254666e-04 7.6142838e-04 8.7120297e-04 ... 9.8257321e-01 9.8769569e-01\n",
            " 9.9075341e-01]\n"
          ],
          "name": "stdout"
        }
      ]
    },
    {
      "cell_type": "code",
      "metadata": {
        "colab": {
          "base_uri": "https://localhost:8080/"
        },
        "id": "J5HqbTZLI7iO",
        "outputId": "204987a7-a3e1-401c-9855-634520bea5aa"
      },
      "source": [
        "import numpy as np\n",
        "pos=[]\n",
        "large=[]\n",
        "ind = []\n",
        "i=0\n",
        "for j in pred_unlabel_3:\n",
        "  if max(j)> Threshold:\n",
        "    ind.append(np.argmax(j))\n",
        "    large.append(max(j))\n",
        "    pos.append(i)\n",
        "  i+=1\n",
        "\n",
        "\n",
        "print(ind)\n",
        "print(large)\n",
        "print(pos)\n",
        "print(type(pos))\n",
        "print(len(ind))\n",
        "print(len(large))\n",
        "print(len(pos))"
      ],
      "execution_count": null,
      "outputs": [
        {
          "output_type": "stream",
          "text": [
            "[2, 2, 2, 2]\n",
            "[0.9836662, 0.9809724, 0.98033005, 0.9803767]\n",
            "[53373, 53471, 54031, 68064]\n",
            "<class 'list'>\n",
            "4\n",
            "4\n",
            "4\n"
          ],
          "name": "stdout"
        }
      ]
    },
    {
      "cell_type": "code",
      "metadata": {
        "colab": {
          "base_uri": "https://localhost:8080/",
          "height": 190
        },
        "id": "UTyzdiCSJFfg",
        "outputId": "17705d93-e4ad-498c-e6aa-860bb47b78aa"
      },
      "source": [
        "unlabel_3 = unlabel_3.loc[pos,:]\n",
        "print(len(unlabel_3))\n",
        "unlabel_3.head()"
      ],
      "execution_count": null,
      "outputs": [
        {
          "output_type": "stream",
          "text": [
            "4\n"
          ],
          "name": "stdout"
        },
        {
          "output_type": "execute_result",
          "data": {
            "text/html": [
              "<div>\n",
              "<style scoped>\n",
              "    .dataframe tbody tr th:only-of-type {\n",
              "        vertical-align: middle;\n",
              "    }\n",
              "\n",
              "    .dataframe tbody tr th {\n",
              "        vertical-align: top;\n",
              "    }\n",
              "\n",
              "    .dataframe thead th {\n",
              "        text-align: right;\n",
              "    }\n",
              "</style>\n",
              "<table border=\"1\" class=\"dataframe\">\n",
              "  <thead>\n",
              "    <tr style=\"text-align: right;\">\n",
              "      <th></th>\n",
              "      <th>text</th>\n",
              "    </tr>\n",
              "  </thead>\n",
              "  <tbody>\n",
              "    <tr>\n",
              "      <th>53373</th>\n",
              "      <td>sonny dobbin accomplice witness testified stat...</td>\n",
              "    </tr>\n",
              "    <tr>\n",
              "      <th>53471</th>\n",
              "      <td>prosecutrix testified substance follows time a...</td>\n",
              "    </tr>\n",
              "    <tr>\n",
              "      <th>54031</th>\n",
              "      <td>reference time alva hill came home testified s...</td>\n",
              "    </tr>\n",
              "    <tr>\n",
              "      <th>68064</th>\n",
              "      <td>appellant father testified occasion stated app...</td>\n",
              "    </tr>\n",
              "  </tbody>\n",
              "</table>\n",
              "</div>"
            ],
            "text/plain": [
              "                                                    text\n",
              "53373  sonny dobbin accomplice witness testified stat...\n",
              "53471  prosecutrix testified substance follows time a...\n",
              "54031  reference time alva hill came home testified s...\n",
              "68064  appellant father testified occasion stated app..."
            ]
          },
          "metadata": {
            "tags": []
          },
          "execution_count": 153
        }
      ]
    },
    {
      "cell_type": "code",
      "metadata": {
        "id": "MzcZdKmeJSAI"
      },
      "source": [
        "class_x_un3 = tfidf_vect.transform(unlabel_3['text'])"
      ],
      "execution_count": null,
      "outputs": []
    },
    {
      "cell_type": "code",
      "metadata": {
        "colab": {
          "base_uri": "https://localhost:8080/"
        },
        "id": "g9BIum9SJgQB",
        "outputId": "425577a6-9685-4dbd-a542-eed372f3c7d3"
      },
      "source": [
        "class_x_un3.shape"
      ],
      "execution_count": null,
      "outputs": [
        {
          "output_type": "execute_result",
          "data": {
            "text/plain": [
              "(4, 6383)"
            ]
          },
          "metadata": {
            "tags": []
          },
          "execution_count": 155
        }
      ]
    },
    {
      "cell_type": "code",
      "metadata": {
        "colab": {
          "base_uri": "https://localhost:8080/"
        },
        "id": "-m0pFOuoJlQa",
        "outputId": "96ebb871-fa0f-4e8d-ce55-94a6497f826f"
      },
      "source": [
        "class_pred_unlabel_3 = classifier_2.predict(class_x_un3)\n",
        "class_pred_unlabel_3"
      ],
      "execution_count": null,
      "outputs": [
        {
          "output_type": "execute_result",
          "data": {
            "text/plain": [
              "array(['Facts', 'Facts', 'Facts', 'Facts'], dtype=object)"
            ]
          },
          "metadata": {
            "tags": []
          },
          "execution_count": 156
        }
      ]
    },
    {
      "cell_type": "code",
      "metadata": {
        "colab": {
          "base_uri": "https://localhost:8080/"
        },
        "id": "AvEMKQC1Jq-T",
        "outputId": "37b2e616-92b5-41b7-e468-368cdd11a91a"
      },
      "source": [
        "print(len(class_pred_unlabel_3))"
      ],
      "execution_count": null,
      "outputs": [
        {
          "output_type": "stream",
          "text": [
            "4\n"
          ],
          "name": "stdout"
        }
      ]
    },
    {
      "cell_type": "code",
      "metadata": {
        "colab": {
          "base_uri": "https://localhost:8080/",
          "height": 173
        },
        "id": "s0PNx7IUJyC3",
        "outputId": "90552121-35ef-40a3-94fa-12c977959559"
      },
      "source": [
        "unlabel_3['Target']=class_pred_unlabel_3\n",
        "unlabel_3.head()"
      ],
      "execution_count": null,
      "outputs": [
        {
          "output_type": "execute_result",
          "data": {
            "text/html": [
              "<div>\n",
              "<style scoped>\n",
              "    .dataframe tbody tr th:only-of-type {\n",
              "        vertical-align: middle;\n",
              "    }\n",
              "\n",
              "    .dataframe tbody tr th {\n",
              "        vertical-align: top;\n",
              "    }\n",
              "\n",
              "    .dataframe thead th {\n",
              "        text-align: right;\n",
              "    }\n",
              "</style>\n",
              "<table border=\"1\" class=\"dataframe\">\n",
              "  <thead>\n",
              "    <tr style=\"text-align: right;\">\n",
              "      <th></th>\n",
              "      <th>text</th>\n",
              "      <th>Target</th>\n",
              "    </tr>\n",
              "  </thead>\n",
              "  <tbody>\n",
              "    <tr>\n",
              "      <th>53373</th>\n",
              "      <td>sonny dobbin accomplice witness testified stat...</td>\n",
              "      <td>Facts</td>\n",
              "    </tr>\n",
              "    <tr>\n",
              "      <th>53471</th>\n",
              "      <td>prosecutrix testified substance follows time a...</td>\n",
              "      <td>Facts</td>\n",
              "    </tr>\n",
              "    <tr>\n",
              "      <th>54031</th>\n",
              "      <td>reference time alva hill came home testified s...</td>\n",
              "      <td>Facts</td>\n",
              "    </tr>\n",
              "    <tr>\n",
              "      <th>68064</th>\n",
              "      <td>appellant father testified occasion stated app...</td>\n",
              "      <td>Facts</td>\n",
              "    </tr>\n",
              "  </tbody>\n",
              "</table>\n",
              "</div>"
            ],
            "text/plain": [
              "                                                    text Target\n",
              "53373  sonny dobbin accomplice witness testified stat...  Facts\n",
              "53471  prosecutrix testified substance follows time a...  Facts\n",
              "54031  reference time alva hill came home testified s...  Facts\n",
              "68064  appellant father testified occasion stated app...  Facts"
            ]
          },
          "metadata": {
            "tags": []
          },
          "execution_count": 158
        }
      ]
    },
    {
      "cell_type": "code",
      "metadata": {
        "colab": {
          "base_uri": "https://localhost:8080/",
          "height": 204
        },
        "id": "mJvzcgHbJ6Fu",
        "outputId": "052124aa-36a9-41b1-bcfe-8cd7db77462a"
      },
      "source": [
        "train_2.head()"
      ],
      "execution_count": null,
      "outputs": [
        {
          "output_type": "execute_result",
          "data": {
            "text/html": [
              "<div>\n",
              "<style scoped>\n",
              "    .dataframe tbody tr th:only-of-type {\n",
              "        vertical-align: middle;\n",
              "    }\n",
              "\n",
              "    .dataframe tbody tr th {\n",
              "        vertical-align: top;\n",
              "    }\n",
              "\n",
              "    .dataframe thead th {\n",
              "        text-align: right;\n",
              "    }\n",
              "</style>\n",
              "<table border=\"1\" class=\"dataframe\">\n",
              "  <thead>\n",
              "    <tr style=\"text-align: right;\">\n",
              "      <th></th>\n",
              "      <th>Unnamed: 0</th>\n",
              "      <th>text</th>\n",
              "      <th>Target</th>\n",
              "    </tr>\n",
              "  </thead>\n",
              "  <tbody>\n",
              "    <tr>\n",
              "      <th>0</th>\n",
              "      <td>659.0</td>\n",
              "      <td>Appellant had stated to the officers that she ...</td>\n",
              "      <td>Invalid</td>\n",
              "    </tr>\n",
              "    <tr>\n",
              "      <th>1</th>\n",
              "      <td>3456.0</td>\n",
              "      <td>We shall discuss the facts more fully in conne...</td>\n",
              "      <td>Invalid</td>\n",
              "    </tr>\n",
              "    <tr>\n",
              "      <th>2</th>\n",
              "      <td>2043.0</td>\n",
              "      <td>â€œPerjury is a false statement, either writte...</td>\n",
              "      <td>Invalid</td>\n",
              "    </tr>\n",
              "    <tr>\n",
              "      <th>3</th>\n",
              "      <td>3344.0</td>\n",
              "      <td>The offense is felony theft by false pretext; ...</td>\n",
              "      <td>Issue</td>\n",
              "    </tr>\n",
              "    <tr>\n",
              "      <th>4</th>\n",
              "      <td>3231.0</td>\n",
              "      <td>Numerous contentions urging the commission of ...</td>\n",
              "      <td>Issue</td>\n",
              "    </tr>\n",
              "  </tbody>\n",
              "</table>\n",
              "</div>"
            ],
            "text/plain": [
              "   Unnamed: 0                                               text   Target\n",
              "0       659.0  Appellant had stated to the officers that she ...  Invalid\n",
              "1      3456.0  We shall discuss the facts more fully in conne...  Invalid\n",
              "2      2043.0  â€œPerjury is a false statement, either writte...  Invalid\n",
              "3      3344.0  The offense is felony theft by false pretext; ...    Issue\n",
              "4      3231.0  Numerous contentions urging the commission of ...    Issue"
            ]
          },
          "metadata": {
            "tags": []
          },
          "execution_count": 159
        }
      ]
    },
    {
      "cell_type": "code",
      "metadata": {
        "colab": {
          "base_uri": "https://localhost:8080/"
        },
        "id": "f9Ah9m82J-ky",
        "outputId": "b95db9d3-4b06-4006-8ca1-9833437cb5d2"
      },
      "source": [
        "frame_3 = [train_2,unlabel_3]\n",
        "train_3 = pd.concat(frame_3)\n",
        "print(len(train_2))\n",
        "print(len(unlabel_3))\n",
        "print(len(train_3))"
      ],
      "execution_count": null,
      "outputs": [
        {
          "output_type": "stream",
          "text": [
            "3484\n",
            "4\n",
            "3488\n"
          ],
          "name": "stdout"
        }
      ]
    },
    {
      "cell_type": "code",
      "metadata": {
        "colab": {
          "base_uri": "https://localhost:8080/",
          "height": 419
        },
        "id": "XMpwNmkPKNkb",
        "outputId": "b90440a8-a3ff-4a92-f7da-568be313ca68"
      },
      "source": [
        "train_3"
      ],
      "execution_count": null,
      "outputs": [
        {
          "output_type": "execute_result",
          "data": {
            "text/html": [
              "<div>\n",
              "<style scoped>\n",
              "    .dataframe tbody tr th:only-of-type {\n",
              "        vertical-align: middle;\n",
              "    }\n",
              "\n",
              "    .dataframe tbody tr th {\n",
              "        vertical-align: top;\n",
              "    }\n",
              "\n",
              "    .dataframe thead th {\n",
              "        text-align: right;\n",
              "    }\n",
              "</style>\n",
              "<table border=\"1\" class=\"dataframe\">\n",
              "  <thead>\n",
              "    <tr style=\"text-align: right;\">\n",
              "      <th></th>\n",
              "      <th>Unnamed: 0</th>\n",
              "      <th>text</th>\n",
              "      <th>Target</th>\n",
              "    </tr>\n",
              "  </thead>\n",
              "  <tbody>\n",
              "    <tr>\n",
              "      <th>0</th>\n",
              "      <td>659.0</td>\n",
              "      <td>Appellant had stated to the officers that she ...</td>\n",
              "      <td>Invalid</td>\n",
              "    </tr>\n",
              "    <tr>\n",
              "      <th>1</th>\n",
              "      <td>3456.0</td>\n",
              "      <td>We shall discuss the facts more fully in conne...</td>\n",
              "      <td>Invalid</td>\n",
              "    </tr>\n",
              "    <tr>\n",
              "      <th>2</th>\n",
              "      <td>2043.0</td>\n",
              "      <td>â€œPerjury is a false statement, either writte...</td>\n",
              "      <td>Invalid</td>\n",
              "    </tr>\n",
              "    <tr>\n",
              "      <th>3</th>\n",
              "      <td>3344.0</td>\n",
              "      <td>The offense is felony theft by false pretext; ...</td>\n",
              "      <td>Issue</td>\n",
              "    </tr>\n",
              "    <tr>\n",
              "      <th>4</th>\n",
              "      <td>3231.0</td>\n",
              "      <td>Numerous contentions urging the commission of ...</td>\n",
              "      <td>Issue</td>\n",
              "    </tr>\n",
              "    <tr>\n",
              "      <th>...</th>\n",
              "      <td>...</td>\n",
              "      <td>...</td>\n",
              "      <td>...</td>\n",
              "    </tr>\n",
              "    <tr>\n",
              "      <th>91578</th>\n",
              "      <td>NaN</td>\n",
              "      <td>accomplice testified appellant came witness ho...</td>\n",
              "      <td>Facts</td>\n",
              "    </tr>\n",
              "    <tr>\n",
              "      <th>53373</th>\n",
              "      <td>NaN</td>\n",
              "      <td>sonny dobbin accomplice witness testified stat...</td>\n",
              "      <td>Facts</td>\n",
              "    </tr>\n",
              "    <tr>\n",
              "      <th>53471</th>\n",
              "      <td>NaN</td>\n",
              "      <td>prosecutrix testified substance follows time a...</td>\n",
              "      <td>Facts</td>\n",
              "    </tr>\n",
              "    <tr>\n",
              "      <th>54031</th>\n",
              "      <td>NaN</td>\n",
              "      <td>reference time alva hill came home testified s...</td>\n",
              "      <td>Facts</td>\n",
              "    </tr>\n",
              "    <tr>\n",
              "      <th>68064</th>\n",
              "      <td>NaN</td>\n",
              "      <td>appellant father testified occasion stated app...</td>\n",
              "      <td>Facts</td>\n",
              "    </tr>\n",
              "  </tbody>\n",
              "</table>\n",
              "<p>3488 rows × 3 columns</p>\n",
              "</div>"
            ],
            "text/plain": [
              "       Unnamed: 0                                               text   Target\n",
              "0           659.0  Appellant had stated to the officers that she ...  Invalid\n",
              "1          3456.0  We shall discuss the facts more fully in conne...  Invalid\n",
              "2          2043.0  â€œPerjury is a false statement, either writte...  Invalid\n",
              "3          3344.0  The offense is felony theft by false pretext; ...    Issue\n",
              "4          3231.0  Numerous contentions urging the commission of ...    Issue\n",
              "...           ...                                                ...      ...\n",
              "91578         NaN  accomplice testified appellant came witness ho...    Facts\n",
              "53373         NaN  sonny dobbin accomplice witness testified stat...    Facts\n",
              "53471         NaN  prosecutrix testified substance follows time a...    Facts\n",
              "54031         NaN  reference time alva hill came home testified s...    Facts\n",
              "68064         NaN  appellant father testified occasion stated app...    Facts\n",
              "\n",
              "[3488 rows x 3 columns]"
            ]
          },
          "metadata": {
            "tags": []
          },
          "execution_count": 161
        }
      ]
    },
    {
      "cell_type": "code",
      "metadata": {
        "colab": {
          "base_uri": "https://localhost:8080/"
        },
        "id": "rsYrGG-7KY_K",
        "outputId": "c5c9f7fb-d87e-4947-82a9-137fe04ba7c8"
      },
      "source": [
        "from numpy import loadtxt\n",
        "from xgboost import XGBClassifier\n",
        "from sklearn.model_selection import train_test_split\n",
        "from sklearn.metrics import accuracy_score\n",
        "\n",
        "X_train, x_val, Y_train, y_val = train_test_split(X_tfidf,train['Target'],test_size=0.26,random_state=42)\n",
        "# fit model no training data\n",
        "classifier_3 = XGBClassifier()\n",
        "classifier_3.fit(X_train, Y_train)\n",
        "\n",
        "# make predictions for test data\n",
        "y_pred = classifier_3.predict(x_val)\n",
        "#predictions = [round(value) for value in y_pred]\n",
        "\n",
        "# evaluate predictions\n",
        "accuracy = accuracy_score(y_val, y_pred)\n",
        "print(\"Accuracy validation: %f\" % (accuracy))\n",
        "\n",
        "test_pred = classifier_3.predict(t_p)\n",
        "#test_predictions = [round(value) for value in test_pred]\n",
        "acc_test = accuracy_score(test['Target'], test_pred)\n",
        "#acc_test = accuracy_score(test_pred,test['Target'])\n",
        "\n",
        "print(\"Accuracy test : %f\" % (acc_test ))"
      ],
      "execution_count": null,
      "outputs": [
        {
          "output_type": "stream",
          "text": [
            "Accuracy validation: 0.654867\n",
            "Accuracy test : 0.595010\n"
          ],
          "name": "stdout"
        }
      ]
    },
    {
      "cell_type": "code",
      "metadata": {
        "id": "_z5nQ0I-NyW-"
      },
      "source": [
        ""
      ],
      "execution_count": null,
      "outputs": []
    },
    {
      "cell_type": "markdown",
      "metadata": {
        "id": "aNiTG6h9NzEN"
      },
      "source": [
        "Unlabeled 4"
      ]
    },
    {
      "cell_type": "code",
      "metadata": {
        "id": "B929PxVuNzOK"
      },
      "source": [
        "x_un4 = tfidf_vect.transform(unlabel_4['text'])\n"
      ],
      "execution_count": null,
      "outputs": []
    },
    {
      "cell_type": "code",
      "metadata": {
        "colab": {
          "base_uri": "https://localhost:8080/"
        },
        "id": "H5LcJGGEN_28",
        "outputId": "74294aa1-1ff8-4d56-822a-3c361c2f7e4b"
      },
      "source": [
        "\n",
        "pred_unlabel_4 = classifier_3.predict_proba(x_un4)\n",
        "pred_unlabel_4"
      ],
      "execution_count": null,
      "outputs": [
        {
          "output_type": "execute_result",
          "data": {
            "text/plain": [
              "array([[0.19995588, 0.05703311, 0.36015844, 0.24501233, 0.0527716 ,\n",
              "        0.08506862],\n",
              "       [0.13624877, 0.05267985, 0.44378445, 0.20931666, 0.04139842,\n",
              "        0.11657183],\n",
              "       [0.12913531, 0.04992948, 0.52817285, 0.19838837, 0.03923704,\n",
              "        0.05513693],\n",
              "       ...,\n",
              "       [0.12450588, 0.03609157, 0.58677644, 0.1616354 , 0.03783042,\n",
              "        0.0531603 ],\n",
              "       [0.21351801, 0.02967633, 0.520866  , 0.15958723, 0.03261179,\n",
              "        0.04374063],\n",
              "       [0.05703691, 0.6048075 , 0.20884736, 0.08762483, 0.01733035,\n",
              "        0.02435306]], dtype=float32)"
            ]
          },
          "metadata": {
            "tags": []
          },
          "execution_count": 165
        }
      ]
    },
    {
      "cell_type": "code",
      "metadata": {
        "colab": {
          "base_uri": "https://localhost:8080/"
        },
        "id": "KL-MuDs0OHS_",
        "outputId": "cb7d7fcf-c1a8-4a05-8c56-e684895442c3"
      },
      "source": [
        "print(len(pred_unlabel_2))\n",
        "print(np.unique(pred_unlabel_2))"
      ],
      "execution_count": null,
      "outputs": [
        {
          "output_type": "stream",
          "text": [
            "100000\n",
            "[5.6254666e-04 7.6142838e-04 8.7120297e-04 ... 9.8257321e-01 9.8769569e-01\n",
            " 9.9075341e-01]\n"
          ],
          "name": "stdout"
        }
      ]
    },
    {
      "cell_type": "code",
      "metadata": {
        "colab": {
          "base_uri": "https://localhost:8080/"
        },
        "id": "E2hJRNIwOJtD",
        "outputId": "bbfc7306-4fbd-4d37-b275-8f6832b4b941"
      },
      "source": [
        "import numpy as np\n",
        "pos=[]\n",
        "large=[]\n",
        "ind = []\n",
        "i=0\n",
        "for j in pred_unlabel_4:\n",
        "  if max(j)> Threshold:\n",
        "    ind.append(np.argmax(j))\n",
        "    large.append(max(j))\n",
        "    pos.append(i)\n",
        "  i+=1\n",
        "\n",
        "\n",
        "print(ind)\n",
        "print(large)\n",
        "print(pos)\n",
        "print(type(pos))\n",
        "print(len(ind))\n",
        "print(len(large))\n",
        "print(len(pos))"
      ],
      "execution_count": null,
      "outputs": [
        {
          "output_type": "stream",
          "text": [
            "[2, 2, 2, 2]\n",
            "[0.98075473, 0.9815938, 0.98121244, 0.98195136]\n",
            "[18394, 45892, 78929, 84933]\n",
            "<class 'list'>\n",
            "4\n",
            "4\n",
            "4\n"
          ],
          "name": "stdout"
        }
      ]
    },
    {
      "cell_type": "code",
      "metadata": {
        "colab": {
          "base_uri": "https://localhost:8080/",
          "height": 190
        },
        "id": "-d37gPPxOKYe",
        "outputId": "d8dc7ca1-b119-4238-f2f5-a8502e3aec46"
      },
      "source": [
        "unlabel_4 = unlabel_4.loc[pos,:]\n",
        "print(len(unlabel_4))\n",
        "unlabel_4.head()"
      ],
      "execution_count": null,
      "outputs": [
        {
          "output_type": "stream",
          "text": [
            "4\n"
          ],
          "name": "stdout"
        },
        {
          "output_type": "execute_result",
          "data": {
            "text/html": [
              "<div>\n",
              "<style scoped>\n",
              "    .dataframe tbody tr th:only-of-type {\n",
              "        vertical-align: middle;\n",
              "    }\n",
              "\n",
              "    .dataframe tbody tr th {\n",
              "        vertical-align: top;\n",
              "    }\n",
              "\n",
              "    .dataframe thead th {\n",
              "        text-align: right;\n",
              "    }\n",
              "</style>\n",
              "<table border=\"1\" class=\"dataframe\">\n",
              "  <thead>\n",
              "    <tr style=\"text-align: right;\">\n",
              "      <th></th>\n",
              "      <th>text</th>\n",
              "    </tr>\n",
              "  </thead>\n",
              "  <tbody>\n",
              "    <tr>\n",
              "      <th>18394</th>\n",
              "      <td>appellant testifying behalf stated morning jul...</td>\n",
              "    </tr>\n",
              "    <tr>\n",
              "      <th>45892</th>\n",
              "      <td>mr griffin checker walker grocery store lufkin...</td>\n",
              "    </tr>\n",
              "    <tr>\n",
              "      <th>78929</th>\n",
              "      <td>appellant testified 3rd march injured hand tre...</td>\n",
              "    </tr>\n",
              "    <tr>\n",
              "      <th>84933</th>\n",
              "      <td>mr swafford owner operator cafe highway 80 tes...</td>\n",
              "    </tr>\n",
              "  </tbody>\n",
              "</table>\n",
              "</div>"
            ],
            "text/plain": [
              "                                                    text\n",
              "18394  appellant testifying behalf stated morning jul...\n",
              "45892  mr griffin checker walker grocery store lufkin...\n",
              "78929  appellant testified 3rd march injured hand tre...\n",
              "84933  mr swafford owner operator cafe highway 80 tes..."
            ]
          },
          "metadata": {
            "tags": []
          },
          "execution_count": 168
        }
      ]
    },
    {
      "cell_type": "code",
      "metadata": {
        "id": "W63mA-YSOjwr"
      },
      "source": [
        "class_x_un4 = tfidf_vect.transform(unlabel_4['text'])"
      ],
      "execution_count": null,
      "outputs": []
    },
    {
      "cell_type": "code",
      "metadata": {
        "colab": {
          "base_uri": "https://localhost:8080/"
        },
        "id": "R1XhrcyLOzB1",
        "outputId": "530e5fff-40fd-49fe-e9c3-6bc72ffe9767"
      },
      "source": [
        "class_x_un4.shape"
      ],
      "execution_count": null,
      "outputs": [
        {
          "output_type": "execute_result",
          "data": {
            "text/plain": [
              "(4, 6383)"
            ]
          },
          "metadata": {
            "tags": []
          },
          "execution_count": 170
        }
      ]
    },
    {
      "cell_type": "code",
      "metadata": {
        "colab": {
          "base_uri": "https://localhost:8080/"
        },
        "id": "pgdtvQtgO3IA",
        "outputId": "d3559a89-f207-41df-b0bd-469e3a0e0239"
      },
      "source": [
        "class_pred_unlabel_4 = classifier_3.predict(class_x_un4)\n",
        "class_pred_unlabel_4"
      ],
      "execution_count": null,
      "outputs": [
        {
          "output_type": "execute_result",
          "data": {
            "text/plain": [
              "array(['Facts', 'Facts', 'Facts', 'Facts'], dtype=object)"
            ]
          },
          "metadata": {
            "tags": []
          },
          "execution_count": 171
        }
      ]
    },
    {
      "cell_type": "code",
      "metadata": {
        "colab": {
          "base_uri": "https://localhost:8080/"
        },
        "id": "stJ1tS-GPCH1",
        "outputId": "0aa19f46-4207-4e6c-fc61-d93b4bd0a516"
      },
      "source": [
        "print(len(class_pred_unlabel_4))"
      ],
      "execution_count": null,
      "outputs": [
        {
          "output_type": "stream",
          "text": [
            "4\n"
          ],
          "name": "stdout"
        }
      ]
    },
    {
      "cell_type": "code",
      "metadata": {
        "colab": {
          "base_uri": "https://localhost:8080/",
          "height": 173
        },
        "id": "_i8lEcN8PGkH",
        "outputId": "b279b2ec-51e6-4732-e544-aa3004a960fd"
      },
      "source": [
        "unlabel_4['Target']=class_pred_unlabel_4\n",
        "unlabel_4.head()"
      ],
      "execution_count": null,
      "outputs": [
        {
          "output_type": "execute_result",
          "data": {
            "text/html": [
              "<div>\n",
              "<style scoped>\n",
              "    .dataframe tbody tr th:only-of-type {\n",
              "        vertical-align: middle;\n",
              "    }\n",
              "\n",
              "    .dataframe tbody tr th {\n",
              "        vertical-align: top;\n",
              "    }\n",
              "\n",
              "    .dataframe thead th {\n",
              "        text-align: right;\n",
              "    }\n",
              "</style>\n",
              "<table border=\"1\" class=\"dataframe\">\n",
              "  <thead>\n",
              "    <tr style=\"text-align: right;\">\n",
              "      <th></th>\n",
              "      <th>text</th>\n",
              "      <th>Target</th>\n",
              "    </tr>\n",
              "  </thead>\n",
              "  <tbody>\n",
              "    <tr>\n",
              "      <th>18394</th>\n",
              "      <td>appellant testifying behalf stated morning jul...</td>\n",
              "      <td>Facts</td>\n",
              "    </tr>\n",
              "    <tr>\n",
              "      <th>45892</th>\n",
              "      <td>mr griffin checker walker grocery store lufkin...</td>\n",
              "      <td>Facts</td>\n",
              "    </tr>\n",
              "    <tr>\n",
              "      <th>78929</th>\n",
              "      <td>appellant testified 3rd march injured hand tre...</td>\n",
              "      <td>Facts</td>\n",
              "    </tr>\n",
              "    <tr>\n",
              "      <th>84933</th>\n",
              "      <td>mr swafford owner operator cafe highway 80 tes...</td>\n",
              "      <td>Facts</td>\n",
              "    </tr>\n",
              "  </tbody>\n",
              "</table>\n",
              "</div>"
            ],
            "text/plain": [
              "                                                    text Target\n",
              "18394  appellant testifying behalf stated morning jul...  Facts\n",
              "45892  mr griffin checker walker grocery store lufkin...  Facts\n",
              "78929  appellant testified 3rd march injured hand tre...  Facts\n",
              "84933  mr swafford owner operator cafe highway 80 tes...  Facts"
            ]
          },
          "metadata": {
            "tags": []
          },
          "execution_count": 173
        }
      ]
    },
    {
      "cell_type": "code",
      "metadata": {
        "colab": {
          "base_uri": "https://localhost:8080/",
          "height": 204
        },
        "id": "Xkr3T0FPPNVa",
        "outputId": "4d1f889c-e1c2-4fd8-f19f-d04fc81f1c31"
      },
      "source": [
        "train_3.head()"
      ],
      "execution_count": null,
      "outputs": [
        {
          "output_type": "execute_result",
          "data": {
            "text/html": [
              "<div>\n",
              "<style scoped>\n",
              "    .dataframe tbody tr th:only-of-type {\n",
              "        vertical-align: middle;\n",
              "    }\n",
              "\n",
              "    .dataframe tbody tr th {\n",
              "        vertical-align: top;\n",
              "    }\n",
              "\n",
              "    .dataframe thead th {\n",
              "        text-align: right;\n",
              "    }\n",
              "</style>\n",
              "<table border=\"1\" class=\"dataframe\">\n",
              "  <thead>\n",
              "    <tr style=\"text-align: right;\">\n",
              "      <th></th>\n",
              "      <th>Unnamed: 0</th>\n",
              "      <th>text</th>\n",
              "      <th>Target</th>\n",
              "    </tr>\n",
              "  </thead>\n",
              "  <tbody>\n",
              "    <tr>\n",
              "      <th>0</th>\n",
              "      <td>659.0</td>\n",
              "      <td>Appellant had stated to the officers that she ...</td>\n",
              "      <td>Invalid</td>\n",
              "    </tr>\n",
              "    <tr>\n",
              "      <th>1</th>\n",
              "      <td>3456.0</td>\n",
              "      <td>We shall discuss the facts more fully in conne...</td>\n",
              "      <td>Invalid</td>\n",
              "    </tr>\n",
              "    <tr>\n",
              "      <th>2</th>\n",
              "      <td>2043.0</td>\n",
              "      <td>â€œPerjury is a false statement, either writte...</td>\n",
              "      <td>Invalid</td>\n",
              "    </tr>\n",
              "    <tr>\n",
              "      <th>3</th>\n",
              "      <td>3344.0</td>\n",
              "      <td>The offense is felony theft by false pretext; ...</td>\n",
              "      <td>Issue</td>\n",
              "    </tr>\n",
              "    <tr>\n",
              "      <th>4</th>\n",
              "      <td>3231.0</td>\n",
              "      <td>Numerous contentions urging the commission of ...</td>\n",
              "      <td>Issue</td>\n",
              "    </tr>\n",
              "  </tbody>\n",
              "</table>\n",
              "</div>"
            ],
            "text/plain": [
              "   Unnamed: 0                                               text   Target\n",
              "0       659.0  Appellant had stated to the officers that she ...  Invalid\n",
              "1      3456.0  We shall discuss the facts more fully in conne...  Invalid\n",
              "2      2043.0  â€œPerjury is a false statement, either writte...  Invalid\n",
              "3      3344.0  The offense is felony theft by false pretext; ...    Issue\n",
              "4      3231.0  Numerous contentions urging the commission of ...    Issue"
            ]
          },
          "metadata": {
            "tags": []
          },
          "execution_count": 174
        }
      ]
    },
    {
      "cell_type": "code",
      "metadata": {
        "colab": {
          "base_uri": "https://localhost:8080/",
          "height": 470
        },
        "id": "ElMqP9aFPT1n",
        "outputId": "1252370a-67f0-4cbb-886c-c33a1ba53ed2"
      },
      "source": [
        "frame_4 = [train_3,unlabel_4]\n",
        "train_4 = pd.concat(frame_4)\n",
        "print(len(train_3))\n",
        "print(len(unlabel_4))\n",
        "print(len(train_4))\n",
        "train_4"
      ],
      "execution_count": null,
      "outputs": [
        {
          "output_type": "stream",
          "text": [
            "3488\n",
            "4\n",
            "3492\n"
          ],
          "name": "stdout"
        },
        {
          "output_type": "execute_result",
          "data": {
            "text/html": [
              "<div>\n",
              "<style scoped>\n",
              "    .dataframe tbody tr th:only-of-type {\n",
              "        vertical-align: middle;\n",
              "    }\n",
              "\n",
              "    .dataframe tbody tr th {\n",
              "        vertical-align: top;\n",
              "    }\n",
              "\n",
              "    .dataframe thead th {\n",
              "        text-align: right;\n",
              "    }\n",
              "</style>\n",
              "<table border=\"1\" class=\"dataframe\">\n",
              "  <thead>\n",
              "    <tr style=\"text-align: right;\">\n",
              "      <th></th>\n",
              "      <th>Unnamed: 0</th>\n",
              "      <th>text</th>\n",
              "      <th>Target</th>\n",
              "    </tr>\n",
              "  </thead>\n",
              "  <tbody>\n",
              "    <tr>\n",
              "      <th>0</th>\n",
              "      <td>659.0</td>\n",
              "      <td>Appellant had stated to the officers that she ...</td>\n",
              "      <td>Invalid</td>\n",
              "    </tr>\n",
              "    <tr>\n",
              "      <th>1</th>\n",
              "      <td>3456.0</td>\n",
              "      <td>We shall discuss the facts more fully in conne...</td>\n",
              "      <td>Invalid</td>\n",
              "    </tr>\n",
              "    <tr>\n",
              "      <th>2</th>\n",
              "      <td>2043.0</td>\n",
              "      <td>â€œPerjury is a false statement, either writte...</td>\n",
              "      <td>Invalid</td>\n",
              "    </tr>\n",
              "    <tr>\n",
              "      <th>3</th>\n",
              "      <td>3344.0</td>\n",
              "      <td>The offense is felony theft by false pretext; ...</td>\n",
              "      <td>Issue</td>\n",
              "    </tr>\n",
              "    <tr>\n",
              "      <th>4</th>\n",
              "      <td>3231.0</td>\n",
              "      <td>Numerous contentions urging the commission of ...</td>\n",
              "      <td>Issue</td>\n",
              "    </tr>\n",
              "    <tr>\n",
              "      <th>...</th>\n",
              "      <td>...</td>\n",
              "      <td>...</td>\n",
              "      <td>...</td>\n",
              "    </tr>\n",
              "    <tr>\n",
              "      <th>68064</th>\n",
              "      <td>NaN</td>\n",
              "      <td>appellant father testified occasion stated app...</td>\n",
              "      <td>Facts</td>\n",
              "    </tr>\n",
              "    <tr>\n",
              "      <th>18394</th>\n",
              "      <td>NaN</td>\n",
              "      <td>appellant testifying behalf stated morning jul...</td>\n",
              "      <td>Facts</td>\n",
              "    </tr>\n",
              "    <tr>\n",
              "      <th>45892</th>\n",
              "      <td>NaN</td>\n",
              "      <td>mr griffin checker walker grocery store lufkin...</td>\n",
              "      <td>Facts</td>\n",
              "    </tr>\n",
              "    <tr>\n",
              "      <th>78929</th>\n",
              "      <td>NaN</td>\n",
              "      <td>appellant testified 3rd march injured hand tre...</td>\n",
              "      <td>Facts</td>\n",
              "    </tr>\n",
              "    <tr>\n",
              "      <th>84933</th>\n",
              "      <td>NaN</td>\n",
              "      <td>mr swafford owner operator cafe highway 80 tes...</td>\n",
              "      <td>Facts</td>\n",
              "    </tr>\n",
              "  </tbody>\n",
              "</table>\n",
              "<p>3492 rows × 3 columns</p>\n",
              "</div>"
            ],
            "text/plain": [
              "       Unnamed: 0                                               text   Target\n",
              "0           659.0  Appellant had stated to the officers that she ...  Invalid\n",
              "1          3456.0  We shall discuss the facts more fully in conne...  Invalid\n",
              "2          2043.0  â€œPerjury is a false statement, either writte...  Invalid\n",
              "3          3344.0  The offense is felony theft by false pretext; ...    Issue\n",
              "4          3231.0  Numerous contentions urging the commission of ...    Issue\n",
              "...           ...                                                ...      ...\n",
              "68064         NaN  appellant father testified occasion stated app...    Facts\n",
              "18394         NaN  appellant testifying behalf stated morning jul...    Facts\n",
              "45892         NaN  mr griffin checker walker grocery store lufkin...    Facts\n",
              "78929         NaN  appellant testified 3rd march injured hand tre...    Facts\n",
              "84933         NaN  mr swafford owner operator cafe highway 80 tes...    Facts\n",
              "\n",
              "[3492 rows x 3 columns]"
            ]
          },
          "metadata": {
            "tags": []
          },
          "execution_count": 175
        }
      ]
    },
    {
      "cell_type": "code",
      "metadata": {
        "colab": {
          "base_uri": "https://localhost:8080/"
        },
        "id": "9BNVgYeLPuUc",
        "outputId": "2ead27ce-7b8b-4485-f8d9-5293fed97f81"
      },
      "source": [
        "from numpy import loadtxt\n",
        "from xgboost import XGBClassifier\n",
        "from sklearn.model_selection import train_test_split\n",
        "from sklearn.metrics import accuracy_score\n",
        "\n",
        "X_train, x_val, Y_train, y_val = train_test_split(X_tfidf,train['Target'],test_size=0.26,random_state=42)\n",
        "# fit model no training data\n",
        "classifier_4 = XGBClassifier()\n",
        "classifier_4.fit(X_train, Y_train)\n",
        "\n",
        "# make predictions for test data\n",
        "y_pred = classifier_4.predict(x_val)\n",
        "#predictions = [round(value) for value in y_pred]\n",
        "\n",
        "# evaluate predictions\n",
        "accuracy = accuracy_score(y_val, y_pred)\n",
        "print(\"Accuracy validation: %f\" % (accuracy))\n",
        "\n",
        "test_pred = classifier_4.predict(t_p)\n",
        "#test_predictions = [round(value) for value in test_pred]\n",
        "acc_test = accuracy_score(test['Target'], test_pred)\n",
        "#acc_test = accuracy_score(test_pred,test['Target'])\n",
        "\n",
        "print(\"Accuracy test : %f\" % (acc_test ))"
      ],
      "execution_count": null,
      "outputs": [
        {
          "output_type": "stream",
          "text": [
            "Accuracy validation: 0.654867\n",
            "Accuracy test : 0.595010\n"
          ],
          "name": "stdout"
        }
      ]
    },
    {
      "cell_type": "markdown",
      "metadata": {
        "id": "2zobrzhKQn2E"
      },
      "source": [
        "Unlabeld 5"
      ]
    },
    {
      "cell_type": "code",
      "metadata": {
        "id": "YvKHLPZhPus4"
      },
      "source": [
        "x_un5 = tfidf_vect.transform(unlabel_5['text'])\n"
      ],
      "execution_count": null,
      "outputs": []
    },
    {
      "cell_type": "code",
      "metadata": {
        "colab": {
          "base_uri": "https://localhost:8080/"
        },
        "id": "KNbi0iTUj6pW",
        "outputId": "e8e901d1-7298-448e-8fbd-c29f1583734a"
      },
      "source": [
        "x_un5.shape"
      ],
      "execution_count": null,
      "outputs": [
        {
          "output_type": "execute_result",
          "data": {
            "text/plain": [
              "(137702, 6383)"
            ]
          },
          "metadata": {
            "tags": []
          },
          "execution_count": 178
        }
      ]
    },
    {
      "cell_type": "code",
      "metadata": {
        "id": "CwzWU83UPULD",
        "colab": {
          "base_uri": "https://localhost:8080/"
        },
        "outputId": "234eb708-4d50-4925-e4e0-338df331a0cb"
      },
      "source": [
        "pred_unlabel_5 = classifier_4.predict_proba(x_un5)\n",
        "pred_unlabel_5"
      ],
      "execution_count": null,
      "outputs": [
        {
          "output_type": "execute_result",
          "data": {
            "text/plain": [
              "array([[0.13076939, 0.03790722, 0.5348564 , 0.20089878, 0.03973355,\n",
              "        0.05583463],\n",
              "       [0.08038323, 0.33796042, 0.21076816, 0.3030258 , 0.024424  ,\n",
              "        0.04343839],\n",
              "       [0.09303828, 0.02797855, 0.2371108 , 0.10437772, 0.185338  ,\n",
              "        0.35215667],\n",
              "       ...,\n",
              "       [0.2340709 , 0.02760853, 0.40840152, 0.25888675, 0.03033944,\n",
              "        0.04069284],\n",
              "       [0.19517358, 0.19896252, 0.3902443 , 0.08232102, 0.07717779,\n",
              "        0.05612074],\n",
              "       [0.25440097, 0.16811945, 0.32413644, 0.17167626, 0.03395395,\n",
              "        0.04771299]], dtype=float32)"
            ]
          },
          "metadata": {
            "tags": []
          },
          "execution_count": 179
        }
      ]
    },
    {
      "cell_type": "code",
      "metadata": {
        "colab": {
          "base_uri": "https://localhost:8080/"
        },
        "id": "vrO9kRe9j1hn",
        "outputId": "d40b2bd7-62b8-465c-9217-72a5323c70e8"
      },
      "source": [
        "print(len(pred_unlabel_5))\n",
        "print(np.unique(pred_unlabel_5)) "
      ],
      "execution_count": null,
      "outputs": [
        {
          "output_type": "stream",
          "text": [
            "137702\n",
            "[0.00115497 0.0012882  0.00130931 ... 0.98153013 0.9818283  0.9838569 ]\n"
          ],
          "name": "stdout"
        }
      ]
    },
    {
      "cell_type": "code",
      "metadata": {
        "colab": {
          "base_uri": "https://localhost:8080/"
        },
        "id": "_2Y4iBy1kczY",
        "outputId": "c5b20c00-2a23-41c3-8889-82a6bfde9a23"
      },
      "source": [
        "import numpy as np\n",
        "pos=[]\n",
        "large=[]\n",
        "ind = []\n",
        "i=0\n",
        "for j in pred_unlabel_5:\n",
        "  if max(j)> Threshold:\n",
        "    ind.append(np.argmax(j))\n",
        "    large.append(max(j))\n",
        "    pos.append(i)\n",
        "  i+=1\n",
        "\n",
        "\n",
        "print(ind)\n",
        "print(large)\n",
        "print(pos)\n",
        "print(type(pos))\n",
        "print(len(ind))\n",
        "print(len(large))\n",
        "print(len(pos))"
      ],
      "execution_count": null,
      "outputs": [
        {
          "output_type": "stream",
          "text": [
            "[2, 2, 2, 2, 2, 2]\n",
            "[0.9802766, 0.9818283, 0.98063284, 0.98086435, 0.98153013, 0.9838569]\n",
            "[15205, 31043, 54869, 82384, 103955, 108270]\n",
            "<class 'list'>\n",
            "6\n",
            "6\n",
            "6\n"
          ],
          "name": "stdout"
        }
      ]
    },
    {
      "cell_type": "code",
      "metadata": {
        "colab": {
          "base_uri": "https://localhost:8080/",
          "height": 221
        },
        "id": "zu7tVTsBkmPI",
        "outputId": "04737fed-fa51-4e14-c4c3-896818b4845e"
      },
      "source": [
        "unlabel_5 = unlabel_5.loc[pos,:]\n",
        "print(len(unlabel_5))\n",
        "unlabel_5.head()"
      ],
      "execution_count": null,
      "outputs": [
        {
          "output_type": "stream",
          "text": [
            "6\n"
          ],
          "name": "stdout"
        },
        {
          "output_type": "execute_result",
          "data": {
            "text/html": [
              "<div>\n",
              "<style scoped>\n",
              "    .dataframe tbody tr th:only-of-type {\n",
              "        vertical-align: middle;\n",
              "    }\n",
              "\n",
              "    .dataframe tbody tr th {\n",
              "        vertical-align: top;\n",
              "    }\n",
              "\n",
              "    .dataframe thead th {\n",
              "        text-align: right;\n",
              "    }\n",
              "</style>\n",
              "<table border=\"1\" class=\"dataframe\">\n",
              "  <thead>\n",
              "    <tr style=\"text-align: right;\">\n",
              "      <th></th>\n",
              "      <th>text</th>\n",
              "    </tr>\n",
              "  </thead>\n",
              "  <tbody>\n",
              "    <tr>\n",
              "      <th>15205</th>\n",
              "      <td>mattie chamber husband operated past time club...</td>\n",
              "    </tr>\n",
              "    <tr>\n",
              "      <th>31043</th>\n",
              "      <td>appellant testified time occurrence wife separ...</td>\n",
              "    </tr>\n",
              "    <tr>\n",
              "      <th>54869</th>\n",
              "      <td>bass testified scared appellant companion took...</td>\n",
              "    </tr>\n",
              "    <tr>\n",
              "      <th>82384</th>\n",
              "      <td>joe bowe testified many year ago appellant cam...</td>\n",
              "    </tr>\n",
              "    <tr>\n",
              "      <th>103955</th>\n",
              "      <td>witness behalf appellant testified night quest...</td>\n",
              "    </tr>\n",
              "  </tbody>\n",
              "</table>\n",
              "</div>"
            ],
            "text/plain": [
              "                                                     text\n",
              "15205   mattie chamber husband operated past time club...\n",
              "31043   appellant testified time occurrence wife separ...\n",
              "54869   bass testified scared appellant companion took...\n",
              "82384   joe bowe testified many year ago appellant cam...\n",
              "103955  witness behalf appellant testified night quest..."
            ]
          },
          "metadata": {
            "tags": []
          },
          "execution_count": 182
        }
      ]
    },
    {
      "cell_type": "code",
      "metadata": {
        "id": "jiX4GHpzkszc"
      },
      "source": [
        "class_x_un5 = tfidf_vect.transform(unlabel_5['text'])"
      ],
      "execution_count": null,
      "outputs": []
    },
    {
      "cell_type": "code",
      "metadata": {
        "colab": {
          "base_uri": "https://localhost:8080/"
        },
        "id": "IxpKllGDlAXX",
        "outputId": "c0f680ce-3444-497c-9bc0-d31a21453eb6"
      },
      "source": [
        "class_x_un5.shape"
      ],
      "execution_count": null,
      "outputs": [
        {
          "output_type": "execute_result",
          "data": {
            "text/plain": [
              "(6, 6383)"
            ]
          },
          "metadata": {
            "tags": []
          },
          "execution_count": 184
        }
      ]
    },
    {
      "cell_type": "code",
      "metadata": {
        "colab": {
          "base_uri": "https://localhost:8080/"
        },
        "id": "44BEVr86lGWd",
        "outputId": "e8e82d62-c96f-4c90-eae7-4579ea2c5507"
      },
      "source": [
        "class_pred_unlabel_5 = classifier_4.predict(class_x_un5)\n",
        "class_pred_unlabel_5"
      ],
      "execution_count": null,
      "outputs": [
        {
          "output_type": "execute_result",
          "data": {
            "text/plain": [
              "array(['Facts', 'Facts', 'Facts', 'Facts', 'Facts', 'Facts'], dtype=object)"
            ]
          },
          "metadata": {
            "tags": []
          },
          "execution_count": 185
        }
      ]
    },
    {
      "cell_type": "code",
      "metadata": {
        "colab": {
          "base_uri": "https://localhost:8080/"
        },
        "id": "jf4e449JlhnN",
        "outputId": "6deaafd0-7e5e-481e-87eb-ca431ef5e616"
      },
      "source": [
        "print(len(class_pred_unlabel_5))"
      ],
      "execution_count": null,
      "outputs": [
        {
          "output_type": "stream",
          "text": [
            "6\n"
          ],
          "name": "stdout"
        }
      ]
    },
    {
      "cell_type": "code",
      "metadata": {
        "colab": {
          "base_uri": "https://localhost:8080/",
          "height": 204
        },
        "id": "ZGHjNdp-lj7v",
        "outputId": "653f8800-4162-4f24-b5bf-3b19bd9aa575"
      },
      "source": [
        "unlabel_5['Target']=class_pred_unlabel_5\n",
        "unlabel_5.head()"
      ],
      "execution_count": null,
      "outputs": [
        {
          "output_type": "execute_result",
          "data": {
            "text/html": [
              "<div>\n",
              "<style scoped>\n",
              "    .dataframe tbody tr th:only-of-type {\n",
              "        vertical-align: middle;\n",
              "    }\n",
              "\n",
              "    .dataframe tbody tr th {\n",
              "        vertical-align: top;\n",
              "    }\n",
              "\n",
              "    .dataframe thead th {\n",
              "        text-align: right;\n",
              "    }\n",
              "</style>\n",
              "<table border=\"1\" class=\"dataframe\">\n",
              "  <thead>\n",
              "    <tr style=\"text-align: right;\">\n",
              "      <th></th>\n",
              "      <th>text</th>\n",
              "      <th>Target</th>\n",
              "    </tr>\n",
              "  </thead>\n",
              "  <tbody>\n",
              "    <tr>\n",
              "      <th>15205</th>\n",
              "      <td>mattie chamber husband operated past time club...</td>\n",
              "      <td>Facts</td>\n",
              "    </tr>\n",
              "    <tr>\n",
              "      <th>31043</th>\n",
              "      <td>appellant testified time occurrence wife separ...</td>\n",
              "      <td>Facts</td>\n",
              "    </tr>\n",
              "    <tr>\n",
              "      <th>54869</th>\n",
              "      <td>bass testified scared appellant companion took...</td>\n",
              "      <td>Facts</td>\n",
              "    </tr>\n",
              "    <tr>\n",
              "      <th>82384</th>\n",
              "      <td>joe bowe testified many year ago appellant cam...</td>\n",
              "      <td>Facts</td>\n",
              "    </tr>\n",
              "    <tr>\n",
              "      <th>103955</th>\n",
              "      <td>witness behalf appellant testified night quest...</td>\n",
              "      <td>Facts</td>\n",
              "    </tr>\n",
              "  </tbody>\n",
              "</table>\n",
              "</div>"
            ],
            "text/plain": [
              "                                                     text Target\n",
              "15205   mattie chamber husband operated past time club...  Facts\n",
              "31043   appellant testified time occurrence wife separ...  Facts\n",
              "54869   bass testified scared appellant companion took...  Facts\n",
              "82384   joe bowe testified many year ago appellant cam...  Facts\n",
              "103955  witness behalf appellant testified night quest...  Facts"
            ]
          },
          "metadata": {
            "tags": []
          },
          "execution_count": 187
        }
      ]
    },
    {
      "cell_type": "code",
      "metadata": {
        "colab": {
          "base_uri": "https://localhost:8080/",
          "height": 204
        },
        "id": "RDX3yezWlzze",
        "outputId": "0fe6e379-7e6d-486e-85bb-defa0db4661b"
      },
      "source": [
        "train_4.head()\n"
      ],
      "execution_count": null,
      "outputs": [
        {
          "output_type": "execute_result",
          "data": {
            "text/html": [
              "<div>\n",
              "<style scoped>\n",
              "    .dataframe tbody tr th:only-of-type {\n",
              "        vertical-align: middle;\n",
              "    }\n",
              "\n",
              "    .dataframe tbody tr th {\n",
              "        vertical-align: top;\n",
              "    }\n",
              "\n",
              "    .dataframe thead th {\n",
              "        text-align: right;\n",
              "    }\n",
              "</style>\n",
              "<table border=\"1\" class=\"dataframe\">\n",
              "  <thead>\n",
              "    <tr style=\"text-align: right;\">\n",
              "      <th></th>\n",
              "      <th>Unnamed: 0</th>\n",
              "      <th>text</th>\n",
              "      <th>Target</th>\n",
              "    </tr>\n",
              "  </thead>\n",
              "  <tbody>\n",
              "    <tr>\n",
              "      <th>0</th>\n",
              "      <td>659.0</td>\n",
              "      <td>Appellant had stated to the officers that she ...</td>\n",
              "      <td>Invalid</td>\n",
              "    </tr>\n",
              "    <tr>\n",
              "      <th>1</th>\n",
              "      <td>3456.0</td>\n",
              "      <td>We shall discuss the facts more fully in conne...</td>\n",
              "      <td>Invalid</td>\n",
              "    </tr>\n",
              "    <tr>\n",
              "      <th>2</th>\n",
              "      <td>2043.0</td>\n",
              "      <td>â€œPerjury is a false statement, either writte...</td>\n",
              "      <td>Invalid</td>\n",
              "    </tr>\n",
              "    <tr>\n",
              "      <th>3</th>\n",
              "      <td>3344.0</td>\n",
              "      <td>The offense is felony theft by false pretext; ...</td>\n",
              "      <td>Issue</td>\n",
              "    </tr>\n",
              "    <tr>\n",
              "      <th>4</th>\n",
              "      <td>3231.0</td>\n",
              "      <td>Numerous contentions urging the commission of ...</td>\n",
              "      <td>Issue</td>\n",
              "    </tr>\n",
              "  </tbody>\n",
              "</table>\n",
              "</div>"
            ],
            "text/plain": [
              "   Unnamed: 0                                               text   Target\n",
              "0       659.0  Appellant had stated to the officers that she ...  Invalid\n",
              "1      3456.0  We shall discuss the facts more fully in conne...  Invalid\n",
              "2      2043.0  â€œPerjury is a false statement, either writte...  Invalid\n",
              "3      3344.0  The offense is felony theft by false pretext; ...    Issue\n",
              "4      3231.0  Numerous contentions urging the commission of ...    Issue"
            ]
          },
          "metadata": {
            "tags": []
          },
          "execution_count": 188
        }
      ]
    },
    {
      "cell_type": "code",
      "metadata": {
        "colab": {
          "base_uri": "https://localhost:8080/"
        },
        "id": "gkeH0CbOmJYe",
        "outputId": "4c4e176c-9bb0-411a-bf0e-0d634161654f"
      },
      "source": [
        "print(len(train_4))"
      ],
      "execution_count": null,
      "outputs": [
        {
          "output_type": "stream",
          "text": [
            "3492\n"
          ],
          "name": "stdout"
        }
      ]
    },
    {
      "cell_type": "code",
      "metadata": {
        "colab": {
          "base_uri": "https://localhost:8080/"
        },
        "id": "1Fz4_ozxmKEB",
        "outputId": "7a845d6d-6dcc-4a36-cb1c-26d370b002b7"
      },
      "source": [
        "frame_5 = [train_4,unlabel_5]\n",
        "train_5 = pd.concat(frame_5)\n",
        "print(len(train_4))\n",
        "print(len(unlabel_5))\n",
        "print(len(train_5))"
      ],
      "execution_count": null,
      "outputs": [
        {
          "output_type": "stream",
          "text": [
            "3492\n",
            "6\n",
            "3498\n"
          ],
          "name": "stdout"
        }
      ]
    },
    {
      "cell_type": "code",
      "metadata": {
        "colab": {
          "base_uri": "https://localhost:8080/"
        },
        "id": "HjtHdKA_md7k",
        "outputId": "ec5798d9-33b4-445d-f06f-547c975bf81a"
      },
      "source": [
        "from numpy import loadtxt\n",
        "from xgboost import XGBClassifier\n",
        "from sklearn.model_selection import train_test_split\n",
        "from sklearn.metrics import accuracy_score\n",
        "\n",
        "X_train, x_val, Y_train, y_val = train_test_split(X_tfidf,train['Target'],test_size=0.26,random_state=42)\n",
        "# fit model no training data\n",
        "classifier_5 = XGBClassifier()\n",
        "classifier_5.fit(X_train, Y_train)\n",
        "\n",
        "# make predictions for test data\n",
        "y_pred = classifier_5.predict(x_val)\n",
        "#predictions = [round(value) for value in y_pred]\n",
        "\n",
        "# evaluate predictions\n",
        "accuracy = accuracy_score(y_val, y_pred)\n",
        "print(\"Accuracy validation: %f\" % (accuracy))\n",
        "\n",
        "test_pred = classifier_5.predict(t_p)\n",
        "#test_predictions = [round(value) for value in test_pred]\n",
        "acc_test = accuracy_score(test['Target'], test_pred)\n",
        "#acc_test = accuracy_score(test_pred,test['Target'])\n",
        "\n",
        "print(\"Accuracy test : %f\" % (acc_test ))"
      ],
      "execution_count": null,
      "outputs": [
        {
          "output_type": "stream",
          "text": [
            "Accuracy validation: 0.654867\n",
            "Accuracy test : 0.595010\n"
          ],
          "name": "stdout"
        }
      ]
    }
  ]
}