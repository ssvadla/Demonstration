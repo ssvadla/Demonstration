{
  "nbformat": 4,
  "nbformat_minor": 0,
  "metadata": {
    "colab": {
      "name": "Semi_Light_AllData_Upsampling (1).ipynb",
      "provenance": [],
      "collapsed_sections": [],
      "include_colab_link": true
    },
    "kernelspec": {
      "name": "python3",
      "display_name": "Python 3"
    },
    "language_info": {
      "name": "python"
    }
  },
  "cells": [
    {
      "cell_type": "markdown",
      "metadata": {
        "id": "view-in-github",
        "colab_type": "text"
      },
      "source": [
        "<a href=\"https://colab.research.google.com/github/ssvadla/Demonstration/blob/main/Semi_Light_AllData_Upsampling_(1).ipynb\" target=\"_parent\"><img src=\"https://colab.research.google.com/assets/colab-badge.svg\" alt=\"Open In Colab\"/></a>"
      ]
    },
    {
      "cell_type": "code",
      "metadata": {
        "colab": {
          "base_uri": "https://localhost:8080/",
          "height": 223
        },
        "id": "4etuZV_kXsgS",
        "outputId": "c151a6da-a886-4d5d-d7bb-005309cadd3c"
      },
      "source": [
        "import pandas as pd\n",
        "from google.colab import drive\n",
        "\n",
        "drive.mount('/content/drive')\n",
        "\n",
        "train1 = pd.read_csv('/content/drive/My Drive/Research/train_data1.csv')\n",
        "train2 = pd.read_csv('/content/drive/My Drive/Research/train_data2.csv')\n",
        "train3 = pd.read_csv('/content/drive/My Drive/Research/train_data3.csv')\n",
        "train4 = pd.read_csv('/content/drive/My Drive/Research/train_data4.csv')\n",
        "train5 = pd.read_csv('/content/drive/My Drive/Research/train_data5.csv')\n",
        "train6 = pd.read_csv('/content/drive/My Drive/Research/train_data6.csv')\n",
        "train7 = pd.read_csv('/content/drive/My Drive/Research/train_data7.csv')\n",
        "train8 = pd.read_csv('/content/drive/My Drive/Research/train_data8.csv')\n",
        "train9 = pd.read_csv('/content/drive/My Drive/Research/train_data9.csv')\n",
        "train10 = pd.read_csv('/content/drive/My Drive/Research/train_data10.csv')\n",
        "train_highKappa = pd.read_csv('/content/drive/My Drive/Research/train_data_highkappa.csv')\n",
        "train1.head()"
      ],
      "execution_count": 1,
      "outputs": [
        {
          "output_type": "stream",
          "text": [
            "Mounted at /content/drive\n"
          ],
          "name": "stdout"
        },
        {
          "output_type": "execute_result",
          "data": {
            "text/html": [
              "<div>\n",
              "<style scoped>\n",
              "    .dataframe tbody tr th:only-of-type {\n",
              "        vertical-align: middle;\n",
              "    }\n",
              "\n",
              "    .dataframe tbody tr th {\n",
              "        vertical-align: top;\n",
              "    }\n",
              "\n",
              "    .dataframe thead th {\n",
              "        text-align: right;\n",
              "    }\n",
              "</style>\n",
              "<table border=\"1\" class=\"dataframe\">\n",
              "  <thead>\n",
              "    <tr style=\"text-align: right;\">\n",
              "      <th></th>\n",
              "      <th>Unnamed: 0</th>\n",
              "      <th>Sentence</th>\n",
              "      <th>Target</th>\n",
              "    </tr>\n",
              "  </thead>\n",
              "  <tbody>\n",
              "    <tr>\n",
              "      <th>0</th>\n",
              "      <td>659</td>\n",
              "      <td>Appellant had stated to the officers that she ...</td>\n",
              "      <td>Invalid</td>\n",
              "    </tr>\n",
              "    <tr>\n",
              "      <th>1</th>\n",
              "      <td>3456</td>\n",
              "      <td>We shall discuss the facts more fully in conne...</td>\n",
              "      <td>Others</td>\n",
              "    </tr>\n",
              "    <tr>\n",
              "      <th>2</th>\n",
              "      <td>2043</td>\n",
              "      <td>â€œPerjury is a false statement, either writte...</td>\n",
              "      <td>Invalid</td>\n",
              "    </tr>\n",
              "    <tr>\n",
              "      <th>3</th>\n",
              "      <td>3344</td>\n",
              "      <td>The offense is felony theft by false pretext; ...</td>\n",
              "      <td>Issue</td>\n",
              "    </tr>\n",
              "    <tr>\n",
              "      <th>4</th>\n",
              "      <td>3231</td>\n",
              "      <td>Numerous contentions urging the commission of ...</td>\n",
              "      <td>Issue</td>\n",
              "    </tr>\n",
              "  </tbody>\n",
              "</table>\n",
              "</div>"
            ],
            "text/plain": [
              "   Unnamed: 0                                           Sentence   Target\n",
              "0         659  Appellant had stated to the officers that she ...  Invalid\n",
              "1        3456  We shall discuss the facts more fully in conne...   Others\n",
              "2        2043  â€œPerjury is a false statement, either writte...  Invalid\n",
              "3        3344  The offense is felony theft by false pretext; ...    Issue\n",
              "4        3231  Numerous contentions urging the commission of ...    Issue"
            ]
          },
          "metadata": {
            "tags": []
          },
          "execution_count": 1
        }
      ]
    },
    {
      "cell_type": "code",
      "metadata": {
        "id": "KY7Ppe9-ElIJ"
      },
      "source": [
        ""
      ],
      "execution_count": 1,
      "outputs": []
    },
    {
      "cell_type": "code",
      "metadata": {
        "colab": {
          "base_uri": "https://localhost:8080/"
        },
        "id": "Y9YfocBgXyXB",
        "outputId": "07e646cc-5705-4226-90ce-92a41d4799e0"
      },
      "source": [
        "train = train1\n",
        "train_list = [train2,train3,train4,train5,train6,train7,train8,train9,train10,train_highKappa]\n",
        "for i in train_list:\n",
        "  print(i)\n",
        "  train = train.append(i)"
      ],
      "execution_count": 2,
      "outputs": [
        {
          "output_type": "stream",
          "text": [
            "      Unnamed: 0                                           Sentence    Target\n",
            "0            659  Appellant had stated to the officers that she ...   Invalid\n",
            "1           3456  We shall discuss the facts more fully in conne...    Others\n",
            "2           2043  â€œPerjury is a false statement, either writte...   Invalid\n",
            "3           3344  The offense is felony theft by false pretext; ...     Issue\n",
            "4           3231  Numerous contentions urging the commission of ...     Issue\n",
            "...          ...                                                ...       ...\n",
            "3471        1561  Therefore, the deletion of reference to the Cl...  Analysis\n",
            "3472         327  A paraffin test, which was made on the appella...  Analysis\n",
            "3473        1462  The sole question presented is the sufficiency...     Facts\n",
            "3474        1169  The answer was in response to the question ask...     Facts\n",
            "3475        1470  The Stateâ€™s evidence shows that in the sprin...   Invalid\n",
            "\n",
            "[3476 rows x 3 columns]\n",
            "      Unnamed: 0                                           Sentence    Target\n",
            "0            659  Appellant had stated to the officers that she ...   Invalid\n",
            "1           3456  We shall discuss the facts more fully in conne...    Others\n",
            "2           2043  â€œPerjury is a false statement, either writte...   Invalid\n",
            "3           3344  The offense is felony theft by false pretext; ...     Issue\n",
            "4           3231  Numerous contentions urging the commission of ...     Issue\n",
            "...          ...                                                ...       ...\n",
            "3471         621  Claims against the Commercial Port, and the Pu...     Facts\n",
            "3472         520  Appellantâ€™s first four claims for reversal r...     Issue\n",
            "3473         182  State, 52 N.Y.S.2d 894 (1945); 45 Cal.Jur.2d, ...    Others\n",
            "3474         841  In the case at bar the stateâ€™s witness did e...  Analysis\n",
            "3475         833  In rebuttal, the State called witnesses who te...     Facts\n",
            "\n",
            "[3476 rows x 3 columns]\n",
            "      Unnamed: 0                                           Sentence    Target\n",
            "0            659  Appellant had stated to the officers that she ...   Invalid\n",
            "1           3456  We shall discuss the facts more fully in conne...    Others\n",
            "2           2043  â€œPerjury is a false statement, either writte...   Invalid\n",
            "3           3344  The offense is felony theft by false pretext; ...     Issue\n",
            "4           3231  Numerous contentions urging the commission of ...     Issue\n",
            "...          ...                                                ...       ...\n",
            "3471         288  120, 157 S.W. 2d 648, where it was held that t...   Invalid\n",
            "3472          99           Handing v. United States, supra at 2904.    Others\n",
            "3473        1665  We find no error in the admission of the testi...  Analysis\n",
            "3474         181                   Smith v. United States, 97 S.Ct.   Invalid\n",
            "3475         916  It was further stipulated and agreed that had ...     Facts\n",
            "\n",
            "[3476 rows x 3 columns]\n",
            "      Unnamed: 0  ...            Target\n",
            "0            659  ...           Invalid\n",
            "1           3456  ...            Others\n",
            "2           2043  ...           Invalid\n",
            "3           3344  ...             Issue\n",
            "4           3231  ...             Issue\n",
            "...          ...  ...               ...\n",
            "3471         999  ...             Facts\n",
            "3472        1652  ...             Facts\n",
            "3473         422  ...             Facts\n",
            "3474         718  ...  Rule/Law/Holding\n",
            "3475        1608  ...             Facts\n",
            "\n",
            "[3476 rows x 3 columns]\n",
            "      Unnamed: 0  ...            Target\n",
            "0            659  ...           Invalid\n",
            "1           3456  ...            Others\n",
            "2           2043  ...           Invalid\n",
            "3           3344  ...             Issue\n",
            "4           3231  ...             Issue\n",
            "...          ...  ...               ...\n",
            "3471        1473  ...             Facts\n",
            "3472        1431  ...             Facts\n",
            "3473        1139  ...             Facts\n",
            "3474        1269  ...             Facts\n",
            "3475         274  ...  Rule/Law/Holding\n",
            "\n",
            "[3476 rows x 3 columns]\n",
            "      Unnamed: 0  ...            Target\n",
            "0            659  ...           Invalid\n",
            "1           3456  ...            Others\n",
            "2           2043  ...           Invalid\n",
            "3           3344  ...             Issue\n",
            "4           3231  ...             Issue\n",
            "...          ...  ...               ...\n",
            "3471        1020  ...             Facts\n",
            "3472         391  ...          Analysis\n",
            "3473        1522  ...             Facts\n",
            "3474         933  ...             Facts\n",
            "3475         909  ...  Rule/Law/Holding\n",
            "\n",
            "[3476 rows x 3 columns]\n",
            "      Unnamed: 0                                           Sentence   Target\n",
            "0            659  Appellant had stated to the officers that she ...  Invalid\n",
            "1           3456  We shall discuss the facts more fully in conne...   Others\n",
            "2           2043  â€œPerjury is a false statement, either writte...  Invalid\n",
            "3           3344  The offense is felony theft by false pretext; ...    Issue\n",
            "4           3231  Numerous contentions urging the commission of ...    Issue\n",
            "...          ...                                                ...      ...\n",
            "3471         738                      He just kept going like that.    Facts\n",
            "3472        1099  She further testified that she told the office...    Facts\n",
            "3473         613  Cecil Ray testified that Mrs. Stockard and app...    Facts\n",
            "3474        1690  We overrule appellantâ€™s remaining contention...    Facts\n",
            "3475        1210  The claim is for \"all injuries proximately cau...    Issue\n",
            "\n",
            "[3476 rows x 3 columns]\n",
            "      Unnamed: 0  ...            Target\n",
            "0            659  ...           Invalid\n",
            "1           3456  ...            Others\n",
            "2           2043  ...           Invalid\n",
            "3           3344  ...             Issue\n",
            "4           3231  ...             Issue\n",
            "...          ...  ...               ...\n",
            "3471         180  ...           Invalid\n",
            "3472         909  ...  Rule/Law/Holding\n",
            "3473         905  ...  Rule/Law/Holding\n",
            "3474        1360  ...          Analysis\n",
            "3475        1264  ...             Facts\n",
            "\n",
            "[3476 rows x 3 columns]\n",
            "      Unnamed: 0                                           Sentence    Target\n",
            "0            659  Appellant had stated to the officers that she ...   Invalid\n",
            "1           3456  We shall discuss the facts more fully in conne...    Others\n",
            "2           2043  â€œPerjury is a false statement, either writte...   Invalid\n",
            "3           3344  The offense is felony theft by false pretext; ...     Issue\n",
            "4           3231  Numerous contentions urging the commission of ...     Issue\n",
            "...          ...                                                ...       ...\n",
            "3471        1283  The evidence is sufficient to support the conv...  Analysis\n",
            "3472        1477  The stateâ€™s proof further shows that after a...   Invalid\n",
            "3473         780  Honyea testified that he obtained the pistol a...     Facts\n",
            "3474         628                Continuing, the Government asserts:    Others\n",
            "3475        1306  The first cause of action sounds in negligence...     Facts\n",
            "\n",
            "[3476 rows x 3 columns]\n",
            "      Unnamed: 0                                           Sentence    Target\n",
            "0            659  Appellant had stated to the officers that she ...   Invalid\n",
            "1           3456  We shall discuss the facts more fully in conne...    Others\n",
            "2           2043  â€œPerjury is a false statement, either writte...   Invalid\n",
            "3           3344  The offense is felony theft by false pretext; ...     Issue\n",
            "4           3231  Numerous contentions urging the commission of ...     Issue\n",
            "...          ...                                                ...       ...\n",
            "2946         677  Appellant presents as error an informal bill o...     Issue\n",
            "2947        3442  We are cited no authority, and know of none, w...  Analysis\n",
            "2948        3009  “I asked her to have intercourse with me and s...     Facts\n",
            "2949        1989  and Art. 82 P.C. which provide, in effect, tha...   Invalid\n",
            "2950        3006  “Appellant takes issue with our statement in t...   Invalid\n",
            "\n",
            "[2951 rows x 3 columns]\n"
          ],
          "name": "stdout"
        }
      ]
    },
    {
      "cell_type": "code",
      "metadata": {
        "colab": {
          "base_uri": "https://localhost:8080/"
        },
        "id": "BT1-45zqYHcc",
        "outputId": "9a0426d7-0981-48d2-b468-86d347477e26"
      },
      "source": [
        "train.sort_values(\"Sentence\", inplace = True)\n",
        "print(len(train))"
      ],
      "execution_count": 3,
      "outputs": [
        {
          "output_type": "stream",
          "text": [
            "37711\n"
          ],
          "name": "stdout"
        }
      ]
    },
    {
      "cell_type": "code",
      "metadata": {
        "id": "wbd0K5GrYIJM"
      },
      "source": [
        " train = train.drop_duplicates(subset =\"Sentence\")"
      ],
      "execution_count": 4,
      "outputs": []
    },
    {
      "cell_type": "code",
      "metadata": {
        "colab": {
          "base_uri": "https://localhost:8080/"
        },
        "id": "M-JnWo4IYSXk",
        "outputId": "902c231c-bde4-4143-c098-3731868b9339"
      },
      "source": [
        "train['Target'].unique()\n"
      ],
      "execution_count": 5,
      "outputs": [
        {
          "output_type": "execute_result",
          "data": {
            "text/plain": [
              "array(['Invalid', 'Rule/Law/Holding', 'Facts', 'Analysis', 'Others',\n",
              "       'Conclusion', 'Issue'], dtype=object)"
            ]
          },
          "metadata": {
            "tags": []
          },
          "execution_count": 5
        }
      ]
    },
    {
      "cell_type": "code",
      "metadata": {
        "colab": {
          "base_uri": "https://localhost:8080/"
        },
        "id": "M7K7OlxlYSx3",
        "outputId": "7845b55a-42bc-4bb2-f02c-1b7b6aac09dc"
      },
      "source": [
        "train['Target']=train['Target'].replace(['Others'],'Invalid')\n",
        "train['Target'].unique()"
      ],
      "execution_count": 6,
      "outputs": [
        {
          "output_type": "execute_result",
          "data": {
            "text/plain": [
              "array(['Invalid', 'Rule/Law/Holding', 'Facts', 'Analysis', 'Conclusion',\n",
              "       'Issue'], dtype=object)"
            ]
          },
          "metadata": {
            "tags": []
          },
          "execution_count": 6
        }
      ]
    },
    {
      "cell_type": "code",
      "metadata": {
        "colab": {
          "base_uri": "https://localhost:8080/"
        },
        "id": "pvBcqubEYY96",
        "outputId": "6ff8e42c-1a50-4282-9cfd-dd27c615e9c7"
      },
      "source": [
        "#cleaning\n",
        "import nltk\n",
        "import re\n",
        "import string\n",
        "nltk.download('stopwords')\n",
        "nltk.download('wordnet')\n",
        "stopword=nltk.corpus.stopwords.words('english')\n",
        "from nltk.stem import WordNetLemmatizer\n",
        "wl= WordNetLemmatizer()\n",
        "\n",
        "def clean_text(text):\n",
        "  text=\"\".join([word.lower() for word in text if word not in string.punctuation])\n",
        "  tokens = re.split('\\W+',text)\n",
        "  text = [wl.lemmatize(word) for word in tokens if word not in stopword]\n",
        "  return text"
      ],
      "execution_count": 7,
      "outputs": [
        {
          "output_type": "stream",
          "text": [
            "[nltk_data] Downloading package stopwords to /root/nltk_data...\n",
            "[nltk_data]   Unzipping corpora/stopwords.zip.\n",
            "[nltk_data] Downloading package wordnet to /root/nltk_data...\n",
            "[nltk_data]   Unzipping corpora/wordnet.zip.\n"
          ],
          "name": "stdout"
        }
      ]
    },
    {
      "cell_type": "code",
      "metadata": {
        "id": "gbxUVuNWYjop"
      },
      "source": [
        "from sklearn.feature_extraction.text import TfidfVectorizer\n",
        "\n",
        "tfidf_vect = TfidfVectorizer(analyzer = clean_text)"
      ],
      "execution_count": 8,
      "outputs": []
    },
    {
      "cell_type": "code",
      "metadata": {
        "id": "bqbtVHv5YqZ6"
      },
      "source": [
        ""
      ],
      "execution_count": 8,
      "outputs": []
    },
    {
      "cell_type": "code",
      "metadata": {
        "colab": {
          "base_uri": "https://localhost:8080/"
        },
        "id": "_5jZnXteYh_O",
        "outputId": "6743b8a5-d32c-4082-9bf1-640627faf818"
      },
      "source": [
        "train.columns"
      ],
      "execution_count": 9,
      "outputs": [
        {
          "output_type": "execute_result",
          "data": {
            "text/plain": [
              "Index(['Unnamed: 0', 'Sentence', 'Target'], dtype='object')"
            ]
          },
          "metadata": {
            "tags": []
          },
          "execution_count": 9
        }
      ]
    },
    {
      "cell_type": "code",
      "metadata": {
        "colab": {
          "base_uri": "https://localhost:8080/"
        },
        "id": "4yBxHqjTY1wm",
        "outputId": "537f2900-6587-41e9-b88b-3a1de96d4dcd"
      },
      "source": [
        "type(train['Target'])"
      ],
      "execution_count": 10,
      "outputs": [
        {
          "output_type": "execute_result",
          "data": {
            "text/plain": [
              "pandas.core.series.Series"
            ]
          },
          "metadata": {
            "tags": []
          },
          "execution_count": 10
        }
      ]
    },
    {
      "cell_type": "code",
      "metadata": {
        "colab": {
          "base_uri": "https://localhost:8080/",
          "height": 492
        },
        "id": "czquTdDoY96z",
        "outputId": "38e7d7d3-6407-4447-a2af-fe2c79777abc"
      },
      "source": [
        "from imblearn.over_sampling import SMOTE\n",
        "from collections import Counter\n",
        "from matplotlib import pyplot\n",
        "from sklearn.preprocessing import LabelEncoder\n",
        "data = train.values\n",
        "\n",
        "\n",
        "# split into input and output elements\n",
        "X, y = data[:, :-1], data[:, -1]\n",
        "# label encode the target variable\n",
        "y = LabelEncoder().fit_transform(y)\n",
        "print(y)\n",
        "# summarize distribution\n",
        "counter = Counter(y)\n",
        "print(y)\n",
        "for k,v in counter.items():\n",
        "\tper = v / len(y) * 100\n",
        "\tprint('Class=%s, n=%d (%.3f%%)' % (k, v, per))\n",
        "# plot the distribution\n",
        "pyplot.bar(counter.keys(), counter.values())\n",
        "pyplot.show()"
      ],
      "execution_count": 11,
      "outputs": [
        {
          "output_type": "stream",
          "text": [
            "/usr/local/lib/python3.7/dist-packages/sklearn/externals/six.py:31: FutureWarning: The module is deprecated in version 0.21 and will be removed in version 0.23 since we've dropped support for Python 2.7. Please rely on the official version of six (https://pypi.org/project/six/).\n",
            "  \"(https://pypi.org/project/six/).\", FutureWarning)\n",
            "/usr/local/lib/python3.7/dist-packages/sklearn/utils/deprecation.py:144: FutureWarning: The sklearn.neighbors.base module is  deprecated in version 0.22 and will be removed in version 0.24. The corresponding classes / functions should instead be imported from sklearn.neighbors. Anything that cannot be imported from sklearn.neighbors is now part of the private API.\n",
            "  warnings.warn(message, FutureWarning)\n"
          ],
          "name": "stderr"
        },
        {
          "output_type": "stream",
          "text": [
            "[3 3 5 ... 2 3 2]\n",
            "[3 3 5 ... 2 3 2]\n",
            "Class=3, n=660 (14.946%)\n",
            "Class=5, n=332 (7.518%)\n",
            "Class=2, n=2253 (51.019%)\n",
            "Class=0, n=677 (15.331%)\n",
            "Class=1, n=225 (5.095%)\n",
            "Class=4, n=269 (6.091%)\n"
          ],
          "name": "stdout"
        },
        {
          "output_type": "display_data",
          "data": {
            "image/png": "[encoded data removed]",
            "text/plain": [
              "<Figure size 432x288 with 1 Axes>"
            ]
          },
          "metadata": {
            "tags": [],
            "needs_background": "light"
          }
        }
      ]
    },
    {
      "cell_type": "code",
      "metadata": {
        "colab": {
          "base_uri": "https://localhost:8080/"
        },
        "id": "75T_9PMaZGj9",
        "outputId": "82e73470-57f8-4907-87d6-83147f2030f4"
      },
      "source": [
        "train['Target'].unique()"
      ],
      "execution_count": 12,
      "outputs": [
        {
          "output_type": "execute_result",
          "data": {
            "text/plain": [
              "array(['Invalid', 'Rule/Law/Holding', 'Facts', 'Analysis', 'Conclusion',\n",
              "       'Issue'], dtype=object)"
            ]
          },
          "metadata": {
            "tags": []
          },
          "execution_count": 12
        }
      ]
    },
    {
      "cell_type": "code",
      "metadata": {
        "colab": {
          "base_uri": "https://localhost:8080/"
        },
        "id": "2fMlIiPzZVIe",
        "outputId": "d4bbb58b-6af5-4ebc-c83a-2e39b958c75b"
      },
      "source": [
        "\n",
        "from sklearn.feature_extraction.text import TfidfVectorizer\n",
        "\n",
        "tfidf_vect = TfidfVectorizer(analyzer = clean_text)\n",
        "X_tfidf = tfidf_vect.fit_transform(train['Sentence'])\n",
        "print(X_tfidf.shape)"
      ],
      "execution_count": 13,
      "outputs": [
        {
          "output_type": "stream",
          "text": [
            "(4416, 7374)\n"
          ],
          "name": "stdout"
        }
      ]
    },
    {
      "cell_type": "code",
      "metadata": {
        "colab": {
          "base_uri": "https://localhost:8080/",
          "height": 255
        },
        "id": "E_FvfBQ4ZcTS",
        "outputId": "8e85e760-6318-4403-95da-62520b89ea4e"
      },
      "source": [
        "X_tfidf_df=pd.DataFrame(X_tfidf.toarray())\n",
        "X_tfidf_df.columns=tfidf_vect.get_feature_names()\n",
        "X_tfidf_df.head()"
      ],
      "execution_count": 14,
      "outputs": [
        {
          "output_type": "execute_result",
          "data": {
            "text/html": [
              "<div>\n",
              "<style scoped>\n",
              "    .dataframe tbody tr th:only-of-type {\n",
              "        vertical-align: middle;\n",
              "    }\n",
              "\n",
              "    .dataframe tbody tr th {\n",
              "        vertical-align: top;\n",
              "    }\n",
              "\n",
              "    .dataframe thead th {\n",
              "        text-align: right;\n",
              "    }\n",
              "</style>\n",
              "<table border=\"1\" class=\"dataframe\">\n",
              "  <thead>\n",
              "    <tr style=\"text-align: right;\">\n",
              "      <th></th>\n",
              "      <th></th>\n",
              "      <th>015</th>\n",
              "      <th>1</th>\n",
              "      <th>10</th>\n",
              "      <th>100</th>\n",
              "      <th>1000</th>\n",
              "      <th>10000</th>\n",
              "      <th>100000</th>\n",
              "      <th>10000000</th>\n",
              "      <th>10000â</th>\n",
              "      <th>1000x22</th>\n",
              "      <th>1006</th>\n",
              "      <th>1008</th>\n",
              "      <th>1008a</th>\n",
              "      <th>100x22</th>\n",
              "      <th>101</th>\n",
              "      <th>1013</th>\n",
              "      <th>1015</th>\n",
              "      <th>102</th>\n",
              "      <th>1020</th>\n",
              "      <th>1026</th>\n",
              "      <th>1030</th>\n",
              "      <th>104</th>\n",
              "      <th>1042</th>\n",
              "      <th>1044</th>\n",
              "      <th>105</th>\n",
              "      <th>10511</th>\n",
              "      <th>1056</th>\n",
              "      <th>1065</th>\n",
              "      <th>107</th>\n",
              "      <th>107c</th>\n",
              "      <th>1081</th>\n",
              "      <th>1084</th>\n",
              "      <th>1097</th>\n",
              "      <th>1099</th>\n",
              "      <th>10a</th>\n",
              "      <th>10acre</th>\n",
              "      <th>11</th>\n",
              "      <th>110</th>\n",
              "      <th>1102</th>\n",
              "      <th>...</th>\n",
              "      <th>œthick</th>\n",
              "      <th>œthis</th>\n",
              "      <th>œthumbusterâ</th>\n",
              "      <th>œto</th>\n",
              "      <th>œtommy</th>\n",
              "      <th>œtoo</th>\n",
              "      <th>œtwo</th>\n",
              "      <th>œtwoâ</th>\n",
              "      <th>œunlawfully</th>\n",
              "      <th>œunlawfullyâ</th>\n",
              "      <th>œunless</th>\n",
              "      <th>œupon</th>\n",
              "      <th>œvagrancyâ</th>\n",
              "      <th>œvalue</th>\n",
              "      <th>œvery</th>\n",
              "      <th>œvisited</th>\n",
              "      <th>œwaived</th>\n",
              "      <th>œwalked</th>\n",
              "      <th>œwas</th>\n",
              "      <th>œwater</th>\n",
              "      <th>œwe</th>\n",
              "      <th>œweaving</th>\n",
              "      <th>œwell</th>\n",
              "      <th>œwhat</th>\n",
              "      <th>œwhen</th>\n",
              "      <th>œwhere</th>\n",
              "      <th>œwhether</th>\n",
              "      <th>œwhile</th>\n",
              "      <th>œwhipped</th>\n",
              "      <th>œwhisky</th>\n",
              "      <th>œwhoever</th>\n",
              "      <th>œwhy</th>\n",
              "      <th>œwilfullyâ</th>\n",
              "      <th>œwillfullyâ</th>\n",
              "      <th>œwobblyâ</th>\n",
              "      <th>œyes</th>\n",
              "      <th>œyesâ</th>\n",
              "      <th>œyou</th>\n",
              "      <th>œyour</th>\n",
              "      <th>œyâ</th>\n",
              "    </tr>\n",
              "  </thead>\n",
              "  <tbody>\n",
              "    <tr>\n",
              "      <th>0</th>\n",
              "      <td>0.000000</td>\n",
              "      <td>0.0</td>\n",
              "      <td>0.0</td>\n",
              "      <td>0.0</td>\n",
              "      <td>0.0</td>\n",
              "      <td>0.0</td>\n",
              "      <td>0.0</td>\n",
              "      <td>0.0</td>\n",
              "      <td>0.0</td>\n",
              "      <td>0.0</td>\n",
              "      <td>0.0</td>\n",
              "      <td>0.0</td>\n",
              "      <td>0.0</td>\n",
              "      <td>0.0</td>\n",
              "      <td>0.0</td>\n",
              "      <td>0.0</td>\n",
              "      <td>0.0</td>\n",
              "      <td>0.0</td>\n",
              "      <td>0.0</td>\n",
              "      <td>0.0</td>\n",
              "      <td>0.0</td>\n",
              "      <td>0.0</td>\n",
              "      <td>0.0</td>\n",
              "      <td>0.0</td>\n",
              "      <td>0.0</td>\n",
              "      <td>0.0</td>\n",
              "      <td>0.0</td>\n",
              "      <td>0.0</td>\n",
              "      <td>0.0</td>\n",
              "      <td>0.0</td>\n",
              "      <td>0.0</td>\n",
              "      <td>0.0</td>\n",
              "      <td>0.0</td>\n",
              "      <td>0.0</td>\n",
              "      <td>0.0</td>\n",
              "      <td>0.0</td>\n",
              "      <td>0.0</td>\n",
              "      <td>0.0</td>\n",
              "      <td>0.0</td>\n",
              "      <td>0.0</td>\n",
              "      <td>...</td>\n",
              "      <td>0.0</td>\n",
              "      <td>0.0</td>\n",
              "      <td>0.0</td>\n",
              "      <td>0.0</td>\n",
              "      <td>0.0</td>\n",
              "      <td>0.0</td>\n",
              "      <td>0.0</td>\n",
              "      <td>0.0</td>\n",
              "      <td>0.0</td>\n",
              "      <td>0.0</td>\n",
              "      <td>0.0</td>\n",
              "      <td>0.0</td>\n",
              "      <td>0.0</td>\n",
              "      <td>0.0</td>\n",
              "      <td>0.0</td>\n",
              "      <td>0.0</td>\n",
              "      <td>0.0</td>\n",
              "      <td>0.0</td>\n",
              "      <td>0.0</td>\n",
              "      <td>0.0</td>\n",
              "      <td>0.0</td>\n",
              "      <td>0.0</td>\n",
              "      <td>0.0</td>\n",
              "      <td>0.0</td>\n",
              "      <td>0.0</td>\n",
              "      <td>0.0</td>\n",
              "      <td>0.0</td>\n",
              "      <td>0.0</td>\n",
              "      <td>0.0</td>\n",
              "      <td>0.0</td>\n",
              "      <td>0.0</td>\n",
              "      <td>0.0</td>\n",
              "      <td>0.0</td>\n",
              "      <td>0.0</td>\n",
              "      <td>0.0</td>\n",
              "      <td>0.0</td>\n",
              "      <td>0.0</td>\n",
              "      <td>0.0</td>\n",
              "      <td>0.0</td>\n",
              "      <td>0.0</td>\n",
              "    </tr>\n",
              "    <tr>\n",
              "      <th>1</th>\n",
              "      <td>0.111629</td>\n",
              "      <td>0.0</td>\n",
              "      <td>0.0</td>\n",
              "      <td>0.0</td>\n",
              "      <td>0.0</td>\n",
              "      <td>0.0</td>\n",
              "      <td>0.0</td>\n",
              "      <td>0.0</td>\n",
              "      <td>0.0</td>\n",
              "      <td>0.0</td>\n",
              "      <td>0.0</td>\n",
              "      <td>0.0</td>\n",
              "      <td>0.0</td>\n",
              "      <td>0.0</td>\n",
              "      <td>0.0</td>\n",
              "      <td>0.0</td>\n",
              "      <td>0.0</td>\n",
              "      <td>0.0</td>\n",
              "      <td>0.0</td>\n",
              "      <td>0.0</td>\n",
              "      <td>0.0</td>\n",
              "      <td>0.0</td>\n",
              "      <td>0.0</td>\n",
              "      <td>0.0</td>\n",
              "      <td>0.0</td>\n",
              "      <td>0.0</td>\n",
              "      <td>0.0</td>\n",
              "      <td>0.0</td>\n",
              "      <td>0.0</td>\n",
              "      <td>0.0</td>\n",
              "      <td>0.0</td>\n",
              "      <td>0.0</td>\n",
              "      <td>0.0</td>\n",
              "      <td>0.0</td>\n",
              "      <td>0.0</td>\n",
              "      <td>0.0</td>\n",
              "      <td>0.0</td>\n",
              "      <td>0.0</td>\n",
              "      <td>0.0</td>\n",
              "      <td>0.0</td>\n",
              "      <td>...</td>\n",
              "      <td>0.0</td>\n",
              "      <td>0.0</td>\n",
              "      <td>0.0</td>\n",
              "      <td>0.0</td>\n",
              "      <td>0.0</td>\n",
              "      <td>0.0</td>\n",
              "      <td>0.0</td>\n",
              "      <td>0.0</td>\n",
              "      <td>0.0</td>\n",
              "      <td>0.0</td>\n",
              "      <td>0.0</td>\n",
              "      <td>0.0</td>\n",
              "      <td>0.0</td>\n",
              "      <td>0.0</td>\n",
              "      <td>0.0</td>\n",
              "      <td>0.0</td>\n",
              "      <td>0.0</td>\n",
              "      <td>0.0</td>\n",
              "      <td>0.0</td>\n",
              "      <td>0.0</td>\n",
              "      <td>0.0</td>\n",
              "      <td>0.0</td>\n",
              "      <td>0.0</td>\n",
              "      <td>0.0</td>\n",
              "      <td>0.0</td>\n",
              "      <td>0.0</td>\n",
              "      <td>0.0</td>\n",
              "      <td>0.0</td>\n",
              "      <td>0.0</td>\n",
              "      <td>0.0</td>\n",
              "      <td>0.0</td>\n",
              "      <td>0.0</td>\n",
              "      <td>0.0</td>\n",
              "      <td>0.0</td>\n",
              "      <td>0.0</td>\n",
              "      <td>0.0</td>\n",
              "      <td>0.0</td>\n",
              "      <td>0.0</td>\n",
              "      <td>0.0</td>\n",
              "      <td>0.0</td>\n",
              "    </tr>\n",
              "    <tr>\n",
              "      <th>2</th>\n",
              "      <td>0.000000</td>\n",
              "      <td>0.0</td>\n",
              "      <td>0.0</td>\n",
              "      <td>0.0</td>\n",
              "      <td>0.0</td>\n",
              "      <td>0.0</td>\n",
              "      <td>0.0</td>\n",
              "      <td>0.0</td>\n",
              "      <td>0.0</td>\n",
              "      <td>0.0</td>\n",
              "      <td>0.0</td>\n",
              "      <td>0.0</td>\n",
              "      <td>0.0</td>\n",
              "      <td>0.0</td>\n",
              "      <td>0.0</td>\n",
              "      <td>0.0</td>\n",
              "      <td>0.0</td>\n",
              "      <td>0.0</td>\n",
              "      <td>0.0</td>\n",
              "      <td>0.0</td>\n",
              "      <td>0.0</td>\n",
              "      <td>0.0</td>\n",
              "      <td>0.0</td>\n",
              "      <td>0.0</td>\n",
              "      <td>0.0</td>\n",
              "      <td>0.0</td>\n",
              "      <td>0.0</td>\n",
              "      <td>0.0</td>\n",
              "      <td>0.0</td>\n",
              "      <td>0.0</td>\n",
              "      <td>0.0</td>\n",
              "      <td>0.0</td>\n",
              "      <td>0.0</td>\n",
              "      <td>0.0</td>\n",
              "      <td>0.0</td>\n",
              "      <td>0.0</td>\n",
              "      <td>0.0</td>\n",
              "      <td>0.0</td>\n",
              "      <td>0.0</td>\n",
              "      <td>0.0</td>\n",
              "      <td>...</td>\n",
              "      <td>0.0</td>\n",
              "      <td>0.0</td>\n",
              "      <td>0.0</td>\n",
              "      <td>0.0</td>\n",
              "      <td>0.0</td>\n",
              "      <td>0.0</td>\n",
              "      <td>0.0</td>\n",
              "      <td>0.0</td>\n",
              "      <td>0.0</td>\n",
              "      <td>0.0</td>\n",
              "      <td>0.0</td>\n",
              "      <td>0.0</td>\n",
              "      <td>0.0</td>\n",
              "      <td>0.0</td>\n",
              "      <td>0.0</td>\n",
              "      <td>0.0</td>\n",
              "      <td>0.0</td>\n",
              "      <td>0.0</td>\n",
              "      <td>0.0</td>\n",
              "      <td>0.0</td>\n",
              "      <td>0.0</td>\n",
              "      <td>0.0</td>\n",
              "      <td>0.0</td>\n",
              "      <td>0.0</td>\n",
              "      <td>0.0</td>\n",
              "      <td>0.0</td>\n",
              "      <td>0.0</td>\n",
              "      <td>0.0</td>\n",
              "      <td>0.0</td>\n",
              "      <td>0.0</td>\n",
              "      <td>0.0</td>\n",
              "      <td>0.0</td>\n",
              "      <td>0.0</td>\n",
              "      <td>0.0</td>\n",
              "      <td>0.0</td>\n",
              "      <td>0.0</td>\n",
              "      <td>0.0</td>\n",
              "      <td>0.0</td>\n",
              "      <td>0.0</td>\n",
              "      <td>0.0</td>\n",
              "    </tr>\n",
              "    <tr>\n",
              "      <th>3</th>\n",
              "      <td>0.000000</td>\n",
              "      <td>0.0</td>\n",
              "      <td>0.0</td>\n",
              "      <td>0.0</td>\n",
              "      <td>0.0</td>\n",
              "      <td>0.0</td>\n",
              "      <td>0.0</td>\n",
              "      <td>0.0</td>\n",
              "      <td>0.0</td>\n",
              "      <td>0.0</td>\n",
              "      <td>0.0</td>\n",
              "      <td>0.0</td>\n",
              "      <td>0.0</td>\n",
              "      <td>0.0</td>\n",
              "      <td>0.0</td>\n",
              "      <td>0.0</td>\n",
              "      <td>0.0</td>\n",
              "      <td>0.0</td>\n",
              "      <td>0.0</td>\n",
              "      <td>0.0</td>\n",
              "      <td>0.0</td>\n",
              "      <td>0.0</td>\n",
              "      <td>0.0</td>\n",
              "      <td>0.0</td>\n",
              "      <td>0.0</td>\n",
              "      <td>0.0</td>\n",
              "      <td>0.0</td>\n",
              "      <td>0.0</td>\n",
              "      <td>0.0</td>\n",
              "      <td>0.0</td>\n",
              "      <td>0.0</td>\n",
              "      <td>0.0</td>\n",
              "      <td>0.0</td>\n",
              "      <td>0.0</td>\n",
              "      <td>0.0</td>\n",
              "      <td>0.0</td>\n",
              "      <td>0.0</td>\n",
              "      <td>0.0</td>\n",
              "      <td>0.0</td>\n",
              "      <td>0.0</td>\n",
              "      <td>...</td>\n",
              "      <td>0.0</td>\n",
              "      <td>0.0</td>\n",
              "      <td>0.0</td>\n",
              "      <td>0.0</td>\n",
              "      <td>0.0</td>\n",
              "      <td>0.0</td>\n",
              "      <td>0.0</td>\n",
              "      <td>0.0</td>\n",
              "      <td>0.0</td>\n",
              "      <td>0.0</td>\n",
              "      <td>0.0</td>\n",
              "      <td>0.0</td>\n",
              "      <td>0.0</td>\n",
              "      <td>0.0</td>\n",
              "      <td>0.0</td>\n",
              "      <td>0.0</td>\n",
              "      <td>0.0</td>\n",
              "      <td>0.0</td>\n",
              "      <td>0.0</td>\n",
              "      <td>0.0</td>\n",
              "      <td>0.0</td>\n",
              "      <td>0.0</td>\n",
              "      <td>0.0</td>\n",
              "      <td>0.0</td>\n",
              "      <td>0.0</td>\n",
              "      <td>0.0</td>\n",
              "      <td>0.0</td>\n",
              "      <td>0.0</td>\n",
              "      <td>0.0</td>\n",
              "      <td>0.0</td>\n",
              "      <td>0.0</td>\n",
              "      <td>0.0</td>\n",
              "      <td>0.0</td>\n",
              "      <td>0.0</td>\n",
              "      <td>0.0</td>\n",
              "      <td>0.0</td>\n",
              "      <td>0.0</td>\n",
              "      <td>0.0</td>\n",
              "      <td>0.0</td>\n",
              "      <td>0.0</td>\n",
              "    </tr>\n",
              "    <tr>\n",
              "      <th>4</th>\n",
              "      <td>0.000000</td>\n",
              "      <td>0.0</td>\n",
              "      <td>0.0</td>\n",
              "      <td>0.0</td>\n",
              "      <td>0.0</td>\n",
              "      <td>0.0</td>\n",
              "      <td>0.0</td>\n",
              "      <td>0.0</td>\n",
              "      <td>0.0</td>\n",
              "      <td>0.0</td>\n",
              "      <td>0.0</td>\n",
              "      <td>0.0</td>\n",
              "      <td>0.0</td>\n",
              "      <td>0.0</td>\n",
              "      <td>0.0</td>\n",
              "      <td>0.0</td>\n",
              "      <td>0.0</td>\n",
              "      <td>0.0</td>\n",
              "      <td>0.0</td>\n",
              "      <td>0.0</td>\n",
              "      <td>0.0</td>\n",
              "      <td>0.0</td>\n",
              "      <td>0.0</td>\n",
              "      <td>0.0</td>\n",
              "      <td>0.0</td>\n",
              "      <td>0.0</td>\n",
              "      <td>0.0</td>\n",
              "      <td>0.0</td>\n",
              "      <td>0.0</td>\n",
              "      <td>0.0</td>\n",
              "      <td>0.0</td>\n",
              "      <td>0.0</td>\n",
              "      <td>0.0</td>\n",
              "      <td>0.0</td>\n",
              "      <td>0.0</td>\n",
              "      <td>0.0</td>\n",
              "      <td>0.0</td>\n",
              "      <td>0.0</td>\n",
              "      <td>0.0</td>\n",
              "      <td>0.0</td>\n",
              "      <td>...</td>\n",
              "      <td>0.0</td>\n",
              "      <td>0.0</td>\n",
              "      <td>0.0</td>\n",
              "      <td>0.0</td>\n",
              "      <td>0.0</td>\n",
              "      <td>0.0</td>\n",
              "      <td>0.0</td>\n",
              "      <td>0.0</td>\n",
              "      <td>0.0</td>\n",
              "      <td>0.0</td>\n",
              "      <td>0.0</td>\n",
              "      <td>0.0</td>\n",
              "      <td>0.0</td>\n",
              "      <td>0.0</td>\n",
              "      <td>0.0</td>\n",
              "      <td>0.0</td>\n",
              "      <td>0.0</td>\n",
              "      <td>0.0</td>\n",
              "      <td>0.0</td>\n",
              "      <td>0.0</td>\n",
              "      <td>0.0</td>\n",
              "      <td>0.0</td>\n",
              "      <td>0.0</td>\n",
              "      <td>0.0</td>\n",
              "      <td>0.0</td>\n",
              "      <td>0.0</td>\n",
              "      <td>0.0</td>\n",
              "      <td>0.0</td>\n",
              "      <td>0.0</td>\n",
              "      <td>0.0</td>\n",
              "      <td>0.0</td>\n",
              "      <td>0.0</td>\n",
              "      <td>0.0</td>\n",
              "      <td>0.0</td>\n",
              "      <td>0.0</td>\n",
              "      <td>0.0</td>\n",
              "      <td>0.0</td>\n",
              "      <td>0.0</td>\n",
              "      <td>0.0</td>\n",
              "      <td>0.0</td>\n",
              "    </tr>\n",
              "  </tbody>\n",
              "</table>\n",
              "<p>5 rows × 7374 columns</p>\n",
              "</div>"
            ],
            "text/plain": [
              "             015    1   10  100  1000  ...  œwobblyâ  œyes  œyesâ  œyou  œyour  œyâ\n",
              "0  0.000000  0.0  0.0  0.0  0.0   0.0  ...       0.0   0.0    0.0   0.0    0.0  0.0\n",
              "1  0.111629  0.0  0.0  0.0  0.0   0.0  ...       0.0   0.0    0.0   0.0    0.0  0.0\n",
              "2  0.000000  0.0  0.0  0.0  0.0   0.0  ...       0.0   0.0    0.0   0.0    0.0  0.0\n",
              "3  0.000000  0.0  0.0  0.0  0.0   0.0  ...       0.0   0.0    0.0   0.0    0.0  0.0\n",
              "4  0.000000  0.0  0.0  0.0  0.0   0.0  ...       0.0   0.0    0.0   0.0    0.0  0.0\n",
              "\n",
              "[5 rows x 7374 columns]"
            ]
          },
          "metadata": {
            "tags": []
          },
          "execution_count": 14
        }
      ]
    },
    {
      "cell_type": "code",
      "metadata": {
        "colab": {
          "base_uri": "https://localhost:8080/",
          "height": 561
        },
        "id": "ZIt2BHcqZk80",
        "outputId": "abae87f4-acf3-4e3a-a675-214f010e29b7"
      },
      "source": [
        "from imblearn.over_sampling import SMOTE\n",
        "oversample = SMOTE(random_state=42,k_neighbors=5)\n",
        "X, y = oversample.fit_resample(X_tfidf_df, train['Target'])\n",
        "# summarize distribution\n",
        "counter = Counter(y)\n",
        "for k,v in counter.items():\n",
        "\tper = v / len(y) * 100\n",
        "\tprint('Class=%s, n=%d (%.3f%%)' % (k, v, per))\n",
        "# plot the distribution\n",
        "pyplot.bar(counter.keys(), counter.values())\n",
        "pyplot.show()"
      ],
      "execution_count": 15,
      "outputs": [
        {
          "output_type": "stream",
          "text": [
            "/usr/local/lib/python3.7/dist-packages/sklearn/utils/deprecation.py:87: FutureWarning: Function safe_indexing is deprecated; safe_indexing is deprecated in version 0.22 and will be removed in version 0.24.\n",
            "  warnings.warn(msg, category=FutureWarning)\n",
            "/usr/local/lib/python3.7/dist-packages/sklearn/utils/deprecation.py:87: FutureWarning: Function safe_indexing is deprecated; safe_indexing is deprecated in version 0.22 and will be removed in version 0.24.\n",
            "  warnings.warn(msg, category=FutureWarning)\n",
            "/usr/local/lib/python3.7/dist-packages/sklearn/utils/deprecation.py:87: FutureWarning: Function safe_indexing is deprecated; safe_indexing is deprecated in version 0.22 and will be removed in version 0.24.\n",
            "  warnings.warn(msg, category=FutureWarning)\n",
            "/usr/local/lib/python3.7/dist-packages/sklearn/utils/deprecation.py:87: FutureWarning: Function safe_indexing is deprecated; safe_indexing is deprecated in version 0.22 and will be removed in version 0.24.\n",
            "  warnings.warn(msg, category=FutureWarning)\n",
            "/usr/local/lib/python3.7/dist-packages/sklearn/utils/deprecation.py:87: FutureWarning: Function safe_indexing is deprecated; safe_indexing is deprecated in version 0.22 and will be removed in version 0.24.\n",
            "  warnings.warn(msg, category=FutureWarning)\n"
          ],
          "name": "stderr"
        },
        {
          "output_type": "stream",
          "text": [
            "Class=Invalid, n=2253 (16.667%)\n",
            "Class=Rule/Law/Holding, n=2253 (16.667%)\n",
            "Class=Facts, n=2253 (16.667%)\n",
            "Class=Analysis, n=2253 (16.667%)\n",
            "Class=Conclusion, n=2253 (16.667%)\n",
            "Class=Issue, n=2253 (16.667%)\n"
          ],
          "name": "stdout"
        },
        {
          "output_type": "display_data",
          "data": {
            "image/png": "[encoded data removed]",
            "text/plain": [
              "<Figure size 432x288 with 1 Axes>"
            ]
          },
          "metadata": {
            "tags": [],
            "needs_background": "light"
          }
        }
      ]
    },
    {
      "cell_type": "code",
      "metadata": {
        "id": "Y5jZgiVGZ1xf"
      },
      "source": [
        "test = pd.read_csv(r'/content/drive/My Drive/Research/test_data.csv')\n",
        "\n",
        "test['Target']=test['Target'].replace(['Others'],'Invalid')\n",
        "test['Sentence'] = test['Sentence'].apply(lambda x: \" \".join(x.lower() for x in str(x).split()))\n",
        "test['Sentence'] = test['Sentence'].str.replace('[^\\w\\s]','')\n",
        "from nltk.corpus import stopwords\n",
        "words = stopwords.words('english')\n",
        "test['Sentence'] = test['Sentence'].apply(lambda x: \" \".join(x for x in x.split() if x not in words))\n",
        "t_p = tfidf_vect.transform(test['Sentence'])"
      ],
      "execution_count": 16,
      "outputs": []
    },
    {
      "cell_type": "code",
      "metadata": {
        "colab": {
          "base_uri": "https://localhost:8080/"
        },
        "id": "_YfuGFfEbMyy",
        "outputId": "eba2864e-b60b-44d3-ddec-017113dd3e9c"
      },
      "source": [
        "import numpy as np\n",
        "from collections import Counter\n",
        "from sklearn.datasets import make_classification\n",
        "from sklearn.ensemble import RandomForestClassifier\n",
        "from sklearn.pipeline import make_pipeline\n",
        "from sklearn.model_selection import train_test_split\n",
        "from sklearn.metrics import confusion_matrix\n",
        "from sklearn.base import BaseEstimator, ClassifierMixin\n",
        "from sklearn.metrics import accuracy_score\n",
        "from sklearn.metrics import average_precision_score\n",
        "from sklearn.metrics import precision_score\n",
        "from sklearn.metrics import recall_score\n",
        "from sklearn.metrics import f1_score\n",
        "from sklearn.metrics import cohen_kappa_score\n",
        "from sklearn.metrics import roc_auc_score\n",
        "from sklearn.metrics import confusion_matrix\n",
        "from sklearn.metrics import classification_report\n",
        "import lightgbm as lgb\n",
        "from sklearn import svm\n",
        "\n",
        "\n",
        "#X, y = make_classification(random_state=1)\n",
        "counter = Counter(y)\n",
        "print(counter)\n",
        "#X_train, x_val, Y_train, y_val = train_test_split(X_tfidf,train['Target'],test_size=0.26,random_state=42)\n",
        "X_train, x_val, Y_train, y_val = train_test_split(X,y,test_size=0.26,random_state=42)\n",
        "\n",
        "classifier = lgb.LGBMClassifier()\n",
        "classifier.fit(X_train, Y_train)\n",
        "y_pred = classifier.predict(x_val)\n",
        "#print(np.unique(y_pred))\n",
        "#print(type(y_pred))\n",
        "\n",
        "Accuracy_score = accuracy_score(y_pred,y_val)\n",
        "\n",
        "print('Validation Accuracy_score: %f' % Accuracy_score)\n",
        "test_pred = classifier.predict(t_p)\n",
        "acc_test = accuracy_score(test_pred,test['Target'])\n",
        "print('Accuracy test data', acc_test)\n",
        "classification_report = classification_report(test_pred,test['Target'],digits=4)\n",
        "print(classification_report)\n",
        "matrix = confusion_matrix(y_pred, y_val)\n",
        "print(matrix)\n"
      ],
      "execution_count": 17,
      "outputs": [
        {
          "output_type": "stream",
          "text": [
            "Counter({'Invalid': 2253, 'Rule/Law/Holding': 2253, 'Facts': 2253, 'Analysis': 2253, 'Conclusion': 2253, 'Issue': 2253})\n",
            "Validation Accuracy_score: 0.876245\n",
            "Accuracy test data 0.6333973128598849\n",
            "                  precision    recall  f1-score   support\n",
            "\n",
            "        Analysis     0.4026    0.4769    0.4366        65\n",
            "      Conclusion     0.7692    0.6897    0.7273        29\n",
            "           Facts     0.7266    0.7698    0.7476       252\n",
            "         Invalid     0.6145    0.4048    0.4880       126\n",
            "           Issue     0.4412    0.8333    0.5769        18\n",
            "Rule/Law/Holding     0.5588    0.6129    0.5846        31\n",
            "\n",
            "        accuracy                         0.6334       521\n",
            "       macro avg     0.5855    0.6312    0.5935       521\n",
            "    weighted avg     0.6416    0.6334    0.6293       521\n",
            "\n",
            "[[466   7  40  12   7   8]\n",
            " [ 12 551   9   1   0   0]\n",
            " [ 39   6 467  69  14   8]\n",
            " [ 37   8  84 522   9  17]\n",
            " [  3   0   5   5 549   1]\n",
            " [  6   0  15   8   5 525]]\n"
          ],
          "name": "stdout"
        }
      ]
    },
    {
      "cell_type": "code",
      "metadata": {
        "id": "ZcIOXYqyjL6B"
      },
      "source": [
        ""
      ],
      "execution_count": 17,
      "outputs": []
    },
    {
      "cell_type": "code",
      "metadata": {
        "colab": {
          "base_uri": "https://localhost:8080/",
          "height": 205
        },
        "id": "Cm0ew0HTbYRR",
        "outputId": "0e12d0dd-c12d-45a7-94b4-ad177dd711d6"
      },
      "source": [
        "unlabel = pd.read_csv(r'/content/drive/My Drive/Research/Unlabeled_data.csv')\n",
        "unlabel.head()"
      ],
      "execution_count": 18,
      "outputs": [
        {
          "output_type": "execute_result",
          "data": {
            "text/html": [
              "<div>\n",
              "<style scoped>\n",
              "    .dataframe tbody tr th:only-of-type {\n",
              "        vertical-align: middle;\n",
              "    }\n",
              "\n",
              "    .dataframe tbody tr th {\n",
              "        vertical-align: top;\n",
              "    }\n",
              "\n",
              "    .dataframe thead th {\n",
              "        text-align: right;\n",
              "    }\n",
              "</style>\n",
              "<table border=\"1\" class=\"dataframe\">\n",
              "  <thead>\n",
              "    <tr style=\"text-align: right;\">\n",
              "      <th></th>\n",
              "      <th>Unnamed: 0</th>\n",
              "      <th>text</th>\n",
              "      <th>Complete</th>\n",
              "    </tr>\n",
              "  </thead>\n",
              "  <tbody>\n",
              "    <tr>\n",
              "      <th>0</th>\n",
              "      <td>0</td>\n",
              "      <td>No motion for rehearing filed.</td>\n",
              "      <td>1</td>\n",
              "    </tr>\n",
              "    <tr>\n",
              "      <th>1</th>\n",
              "      <td>1</td>\n",
              "      <td>— Relator is under accusation of killing her h...</td>\n",
              "      <td>1</td>\n",
              "    </tr>\n",
              "    <tr>\n",
              "      <th>2</th>\n",
              "      <td>2</td>\n",
              "      <td>From an order of the District Judge of the 39t...</td>\n",
              "      <td>1</td>\n",
              "    </tr>\n",
              "    <tr>\n",
              "      <th>3</th>\n",
              "      <td>3</td>\n",
              "      <td>Relator and her husband had been married for a...</td>\n",
              "      <td>1</td>\n",
              "    </tr>\n",
              "    <tr>\n",
              "      <th>4</th>\n",
              "      <td>4</td>\n",
              "      <td>The evidence indicates that their family relat...</td>\n",
              "      <td>1</td>\n",
              "    </tr>\n",
              "  </tbody>\n",
              "</table>\n",
              "</div>"
            ],
            "text/plain": [
              "   Unnamed: 0                                               text  Complete\n",
              "0           0                     No motion for rehearing filed.         1\n",
              "1           1  — Relator is under accusation of killing her h...         1\n",
              "2           2  From an order of the District Judge of the 39t...         1\n",
              "3           3  Relator and her husband had been married for a...         1\n",
              "4           4  The evidence indicates that their family relat...         1"
            ]
          },
          "metadata": {
            "tags": []
          },
          "execution_count": 18
        }
      ]
    },
    {
      "cell_type": "code",
      "metadata": {
        "id": "Fe8pTTxobrzp"
      },
      "source": [
        "del unlabel['Complete']\n",
        "del unlabel['Unnamed: 0']"
      ],
      "execution_count": 19,
      "outputs": []
    },
    {
      "cell_type": "code",
      "metadata": {
        "colab": {
          "base_uri": "https://localhost:8080/",
          "height": 205
        },
        "id": "POyW3SSzby2F",
        "outputId": "e1d5bc64-bd5d-4e94-ea8c-d2003b72e53f"
      },
      "source": [
        "unlabel.head()"
      ],
      "execution_count": 20,
      "outputs": [
        {
          "output_type": "execute_result",
          "data": {
            "text/html": [
              "<div>\n",
              "<style scoped>\n",
              "    .dataframe tbody tr th:only-of-type {\n",
              "        vertical-align: middle;\n",
              "    }\n",
              "\n",
              "    .dataframe tbody tr th {\n",
              "        vertical-align: top;\n",
              "    }\n",
              "\n",
              "    .dataframe thead th {\n",
              "        text-align: right;\n",
              "    }\n",
              "</style>\n",
              "<table border=\"1\" class=\"dataframe\">\n",
              "  <thead>\n",
              "    <tr style=\"text-align: right;\">\n",
              "      <th></th>\n",
              "      <th>text</th>\n",
              "    </tr>\n",
              "  </thead>\n",
              "  <tbody>\n",
              "    <tr>\n",
              "      <th>0</th>\n",
              "      <td>No motion for rehearing filed.</td>\n",
              "    </tr>\n",
              "    <tr>\n",
              "      <th>1</th>\n",
              "      <td>— Relator is under accusation of killing her h...</td>\n",
              "    </tr>\n",
              "    <tr>\n",
              "      <th>2</th>\n",
              "      <td>From an order of the District Judge of the 39t...</td>\n",
              "    </tr>\n",
              "    <tr>\n",
              "      <th>3</th>\n",
              "      <td>Relator and her husband had been married for a...</td>\n",
              "    </tr>\n",
              "    <tr>\n",
              "      <th>4</th>\n",
              "      <td>The evidence indicates that their family relat...</td>\n",
              "    </tr>\n",
              "  </tbody>\n",
              "</table>\n",
              "</div>"
            ],
            "text/plain": [
              "                                                text\n",
              "0                     No motion for rehearing filed.\n",
              "1  — Relator is under accusation of killing her h...\n",
              "2  From an order of the District Judge of the 39t...\n",
              "3  Relator and her husband had been married for a...\n",
              "4  The evidence indicates that their family relat..."
            ]
          },
          "metadata": {
            "tags": []
          },
          "execution_count": 20
        }
      ]
    },
    {
      "cell_type": "code",
      "metadata": {
        "id": "o6aHFlmfb1b7"
      },
      "source": [
        ""
      ],
      "execution_count": 20,
      "outputs": []
    },
    {
      "cell_type": "code",
      "metadata": {
        "id": "hPXAP1No_9fT"
      },
      "source": [
        "unlabel['text'] = unlabel['text'].apply(lambda x: \" \".join(x.lower() for x in str(x).split()))\n",
        "unlabel['text'] = unlabel['text'].str.replace('[^\\w\\s]','')\n",
        "from nltk.corpus import stopwords\n",
        "words = stopwords.words('english')\n",
        "unlabel['text'] = unlabel['text'].apply(lambda x: \" \".join(x for x in x.split() if x not in words))\n"
      ],
      "execution_count": 21,
      "outputs": []
    },
    {
      "cell_type": "code",
      "metadata": {
        "colab": {
          "base_uri": "https://localhost:8080/"
        },
        "id": "y54TbqIyb-og",
        "outputId": "932a4d49-5be6-47ab-a279-e18bfdc5cff5"
      },
      "source": [
        "from textblob import TextBlob\n",
        "from textblob import Word\n",
        "nltk.download('wordnet')\n",
        "nltk.download('punkt')\n",
        "unlabel['text'] = unlabel['text'].apply(lambda x: TextBlob(x).words)\n",
        "unlabel['text'] = unlabel['text'].apply(lambda x: \" \".join([Word(word).lemmatize() for word in x]))"
      ],
      "execution_count": 22,
      "outputs": [
        {
          "output_type": "stream",
          "text": [
            "[nltk_data] Downloading package wordnet to /root/nltk_data...\n",
            "[nltk_data]   Package wordnet is already up-to-date!\n",
            "[nltk_data] Downloading package punkt to /root/nltk_data...\n",
            "[nltk_data]   Unzipping tokenizers/punkt.zip.\n"
          ],
          "name": "stdout"
        }
      ]
    },
    {
      "cell_type": "code",
      "metadata": {
        "colab": {
          "base_uri": "https://localhost:8080/",
          "height": 205
        },
        "id": "MeHqd1cIcJDs",
        "outputId": "f1743389-d4be-4b82-a3df-8df9a3333a9a"
      },
      "source": [
        "unlabel.head()"
      ],
      "execution_count": 23,
      "outputs": [
        {
          "output_type": "execute_result",
          "data": {
            "text/html": [
              "<div>\n",
              "<style scoped>\n",
              "    .dataframe tbody tr th:only-of-type {\n",
              "        vertical-align: middle;\n",
              "    }\n",
              "\n",
              "    .dataframe tbody tr th {\n",
              "        vertical-align: top;\n",
              "    }\n",
              "\n",
              "    .dataframe thead th {\n",
              "        text-align: right;\n",
              "    }\n",
              "</style>\n",
              "<table border=\"1\" class=\"dataframe\">\n",
              "  <thead>\n",
              "    <tr style=\"text-align: right;\">\n",
              "      <th></th>\n",
              "      <th>text</th>\n",
              "    </tr>\n",
              "  </thead>\n",
              "  <tbody>\n",
              "    <tr>\n",
              "      <th>0</th>\n",
              "      <td>motion rehearing filed</td>\n",
              "    </tr>\n",
              "    <tr>\n",
              "      <th>1</th>\n",
              "      <td>relator accusation killing husband virgil clark</td>\n",
              "    </tr>\n",
              "    <tr>\n",
              "      <th>2</th>\n",
              "      <td>order district judge 39th judicial district re...</td>\n",
              "    </tr>\n",
              "    <tr>\n",
              "      <th>3</th>\n",
              "      <td>relator husband married number year</td>\n",
              "    </tr>\n",
              "    <tr>\n",
              "      <th>4</th>\n",
              "      <td>evidence indicates family relation always plea...</td>\n",
              "    </tr>\n",
              "  </tbody>\n",
              "</table>\n",
              "</div>"
            ],
            "text/plain": [
              "                                                text\n",
              "0                             motion rehearing filed\n",
              "1    relator accusation killing husband virgil clark\n",
              "2  order district judge 39th judicial district re...\n",
              "3                relator husband married number year\n",
              "4  evidence indicates family relation always plea..."
            ]
          },
          "metadata": {
            "tags": []
          },
          "execution_count": 23
        }
      ]
    },
    {
      "cell_type": "code",
      "metadata": {
        "colab": {
          "base_uri": "https://localhost:8080/"
        },
        "id": "njebrqPIcS6J",
        "outputId": "1882c293-efce-4037-b1e7-cfcff1720e7d"
      },
      "source": [
        "len(unlabel)"
      ],
      "execution_count": 24,
      "outputs": [
        {
          "output_type": "execute_result",
          "data": {
            "text/plain": [
              "537703"
            ]
          },
          "metadata": {
            "tags": []
          },
          "execution_count": 24
        }
      ]
    },
    {
      "cell_type": "code",
      "metadata": {
        "colab": {
          "base_uri": "https://localhost:8080/"
        },
        "id": "AZP5w6WklK6-",
        "outputId": "2ef83954-3d2d-48a6-c514-311ac21e747f"
      },
      "source": [
        "unlabel_1 = unlabel.loc[:100000]\n",
        "print(\"length of unlabel_1\",len(unlabel_1))\n",
        "unlabel_2 = unlabel.loc[100001:200000]\n",
        "print(\"length of unlabel_2\",len(unlabel_2))\n",
        "unlabel_3 = unlabel.loc[200001:300000]\n",
        "print(\"length of unlabel_3\",len(unlabel_3))\n",
        "unlabel_4 = unlabel.loc[300001:400000]\n",
        "print(\"length of unlabel_4\",len(unlabel_4))\n",
        "unlabel_5 = unlabel.loc[400001:]\n",
        "print(\"length of unlabel_5\",len(unlabel_5))"
      ],
      "execution_count": 25,
      "outputs": [
        {
          "output_type": "stream",
          "text": [
            "length of unlabel_1 100001\n",
            "length of unlabel_2 100000\n",
            "length of unlabel_3 100000\n",
            "length of unlabel_4 100000\n",
            "length of unlabel_5 137702\n"
          ],
          "name": "stdout"
        }
      ]
    },
    {
      "cell_type": "code",
      "metadata": {
        "colab": {
          "base_uri": "https://localhost:8080/",
          "height": 205
        },
        "id": "ycHQEf-llPuk",
        "outputId": "df134928-83da-475a-b2a2-b4724834612c"
      },
      "source": [
        "unlabel_1.head()\n",
        "\n"
      ],
      "execution_count": 26,
      "outputs": [
        {
          "output_type": "execute_result",
          "data": {
            "text/html": [
              "<div>\n",
              "<style scoped>\n",
              "    .dataframe tbody tr th:only-of-type {\n",
              "        vertical-align: middle;\n",
              "    }\n",
              "\n",
              "    .dataframe tbody tr th {\n",
              "        vertical-align: top;\n",
              "    }\n",
              "\n",
              "    .dataframe thead th {\n",
              "        text-align: right;\n",
              "    }\n",
              "</style>\n",
              "<table border=\"1\" class=\"dataframe\">\n",
              "  <thead>\n",
              "    <tr style=\"text-align: right;\">\n",
              "      <th></th>\n",
              "      <th>text</th>\n",
              "    </tr>\n",
              "  </thead>\n",
              "  <tbody>\n",
              "    <tr>\n",
              "      <th>0</th>\n",
              "      <td>motion rehearing filed</td>\n",
              "    </tr>\n",
              "    <tr>\n",
              "      <th>1</th>\n",
              "      <td>relator accusation killing husband virgil clark</td>\n",
              "    </tr>\n",
              "    <tr>\n",
              "      <th>2</th>\n",
              "      <td>order district judge 39th judicial district re...</td>\n",
              "    </tr>\n",
              "    <tr>\n",
              "      <th>3</th>\n",
              "      <td>relator husband married number year</td>\n",
              "    </tr>\n",
              "    <tr>\n",
              "      <th>4</th>\n",
              "      <td>evidence indicates family relation always plea...</td>\n",
              "    </tr>\n",
              "  </tbody>\n",
              "</table>\n",
              "</div>"
            ],
            "text/plain": [
              "                                                text\n",
              "0                             motion rehearing filed\n",
              "1    relator accusation killing husband virgil clark\n",
              "2  order district judge 39th judicial district re...\n",
              "3                relator husband married number year\n",
              "4  evidence indicates family relation always plea..."
            ]
          },
          "metadata": {
            "tags": []
          },
          "execution_count": 26
        }
      ]
    },
    {
      "cell_type": "code",
      "metadata": {
        "id": "aElIN5oPlWAd"
      },
      "source": [
        "\n",
        "def index_reset(unlabel_2):\n",
        "  unlabel_2.reset_index(inplace=True)\n",
        "  del unlabel_2['index']\n",
        "  print(unlabel_2.head())\n",
        "  return unlabel_2"
      ],
      "execution_count": 27,
      "outputs": []
    },
    {
      "cell_type": "code",
      "metadata": {
        "colab": {
          "base_uri": "https://localhost:8080/"
        },
        "id": "EE0nnnCmlaeF",
        "outputId": "5a0c2897-7f29-4e83-dc91-5286b52683d5"
      },
      "source": [
        "unlabel_1 = index_reset(unlabel_1)\n",
        "unlabel_2 = index_reset(unlabel_2)\n",
        "unlabel_3 = index_reset(unlabel_3)\n",
        "unlabel_4 = index_reset(unlabel_4)\n",
        "unlabel_5 = index_reset(unlabel_5)"
      ],
      "execution_count": 28,
      "outputs": [
        {
          "output_type": "stream",
          "text": [
            "                                                text\n",
            "0                             motion rehearing filed\n",
            "1    relator accusation killing husband virgil clark\n",
            "2  order district judge 39th judicial district re...\n",
            "3                relator husband married number year\n",
            "4  evidence indicates family relation always plea...\n",
            "                                                text\n",
            "0  responding conclusion regarding evidence annou...\n",
            "1  conviction transporting intoxicating liquor pu...\n",
            "2                     bill exception case filed late\n",
            "3  motion new trial overruled october 22 1927 ord...\n",
            "4  thereafter december 10th extension order made ...\n",
            "                                                text\n",
            "0                       another man carrying clothes\n",
            "1  officer testified appellant several item cloth...\n",
            "2  investigation followed report breaking entry a...\n",
            "3                                  appellant present\n",
            "4  warrant arrest issued officer went hotel waite...\n",
            "                                                text\n",
            "0  statute final judgment appeal court lie senten...\n",
            "1  sentence must pronounced term court judgment r...\n",
            "2                  court sentence defendant vacation\n",
            "3  court adjourned authority case ceased notice a...\n",
            "4  pronouncing sentence authorized vacation autho...\n",
            "                                                text\n",
            "0                        member federal reserve bank\n",
            "1                                 opinion state case\n",
            "2  conviction violating state cigarette law punis...\n",
            "3  find record bill exception bringing forward co...\n",
            "4           brief appellant complains lack testimony\n"
          ],
          "name": "stdout"
        }
      ]
    },
    {
      "cell_type": "code",
      "metadata": {
        "colab": {
          "base_uri": "https://localhost:8080/"
        },
        "id": "QFWNB5H7ldUW",
        "outputId": "4c7183ec-099e-4d3d-a04d-536aee43cfee"
      },
      "source": [
        "classifier.classes_"
      ],
      "execution_count": 29,
      "outputs": [
        {
          "output_type": "execute_result",
          "data": {
            "text/plain": [
              "array(['Analysis', 'Conclusion', 'Facts', 'Invalid', 'Issue',\n",
              "       'Rule/Law/Holding'], dtype=object)"
            ]
          },
          "metadata": {
            "tags": []
          },
          "execution_count": 29
        }
      ]
    },
    {
      "cell_type": "code",
      "metadata": {
        "id": "zfDl3Y6tljtw"
      },
      "source": [
        "Threshold = 0.98"
      ],
      "execution_count": 30,
      "outputs": []
    },
    {
      "cell_type": "code",
      "metadata": {
        "id": "WEZe91mYlwaY"
      },
      "source": [
        "x_un1 = tfidf_vect.transform(unlabel_1['text'])\n"
      ],
      "execution_count": 31,
      "outputs": []
    },
    {
      "cell_type": "code",
      "metadata": {
        "colab": {
          "base_uri": "https://localhost:8080/"
        },
        "id": "NElCJGpJmEG7",
        "outputId": "3675f512-870a-49f0-ec6f-2f2380dd574a"
      },
      "source": [
        "x_un1.shape"
      ],
      "execution_count": 32,
      "outputs": [
        {
          "output_type": "execute_result",
          "data": {
            "text/plain": [
              "(100001, 7374)"
            ]
          },
          "metadata": {
            "tags": []
          },
          "execution_count": 32
        }
      ]
    },
    {
      "cell_type": "code",
      "metadata": {
        "colab": {
          "base_uri": "https://localhost:8080/"
        },
        "id": "xmwTtAeVl5QV",
        "outputId": "044ca955-02b8-477a-e941-050cdc22eb3c"
      },
      "source": [
        "\n",
        "pred_unlabel_1 = classifier.predict_proba(x_un1)\n",
        "pred_unlabel_1"
      ],
      "execution_count": 33,
      "outputs": [
        {
          "output_type": "execute_result",
          "data": {
            "text/plain": [
              "array([[0.11952994, 0.11909783, 0.33141494, 0.38588493, 0.01067241,\n",
              "        0.03339995],\n",
              "       [0.04039913, 0.01307112, 0.24292063, 0.65933276, 0.03342084,\n",
              "        0.01085553],\n",
              "       [0.02332703, 0.05651352, 0.62814861, 0.23314532, 0.01189925,\n",
              "        0.04696625],\n",
              "       ...,\n",
              "       [0.01216005, 0.13814845, 0.81455414, 0.03097654, 0.0019298 ,\n",
              "        0.00223101],\n",
              "       [0.03715391, 0.01391144, 0.35845206, 0.46795525, 0.00607601,\n",
              "        0.11645133],\n",
              "       [0.19982194, 0.01276321, 0.41805869, 0.35317878, 0.00590421,\n",
              "        0.01027316]])"
            ]
          },
          "metadata": {
            "tags": []
          },
          "execution_count": 33
        }
      ]
    },
    {
      "cell_type": "code",
      "metadata": {
        "colab": {
          "base_uri": "https://localhost:8080/"
        },
        "id": "6ZxPDd-TmCPL",
        "outputId": "ad2812ec-4d4c-450b-a174-86c87fdd4125"
      },
      "source": [
        "print(len(pred_unlabel_1))\n",
        "print(np.unique(pred_unlabel_1))"
      ],
      "execution_count": 34,
      "outputs": [
        {
          "output_type": "stream",
          "text": [
            "100001\n",
            "[5.19107325e-05 7.13496332e-05 8.32391948e-05 ... 9.96596227e-01\n",
            " 9.96923759e-01 9.97131768e-01]\n"
          ],
          "name": "stdout"
        }
      ]
    },
    {
      "cell_type": "code",
      "metadata": {
        "colab": {
          "base_uri": "https://localhost:8080/"
        },
        "id": "-dn3PD4LmMfR",
        "outputId": "665205ba-6114-4756-a2aa-a0e49125a7c6"
      },
      "source": [
        "import numpy as np\n",
        "pos=[]\n",
        "large=[]\n",
        "ind = []\n",
        "i=0\n",
        "for j in pred_unlabel_1:\n",
        "  if max(j)> Threshold:\n",
        "    ind.append(np.argmax(j))\n",
        "    large.append(max(j))\n",
        "    pos.append(i)\n",
        "  i+=1\n",
        "\n",
        "\n",
        "print(ind)\n",
        "print(large)\n",
        "print(pos)\n",
        "print(type(pos))\n",
        "print(len(ind))\n",
        "print(len(large))\n",
        "print(len(pos))"
      ],
      "execution_count": 35,
      "outputs": [
        {
          "output_type": "stream",
          "text": [
            "[1, 1, 1, 1, 1, 1, 1, 1, 1, 1, 1, 2, 2, 1, 1, 1, 2, 1, 5, 2, 1, 1, 1, 1, 2, 2, 1, 1, 1, 5, 1, 1, 1, 2, 2, 2, 2, 2, 1, 3, 1, 1, 1, 1, 5, 1, 1, 1, 1, 1, 1, 1, 1, 2, 2, 1, 2, 2, 2, 2, 2, 2, 2, 2, 1, 1, 5, 2, 2, 2, 2, 1, 1, 5, 1, 4, 1, 0, 2, 1, 1, 2, 1, 1, 2, 1, 1, 1, 1, 3, 1, 2, 1, 2, 1, 2, 2, 2, 1, 4, 1, 1, 1, 5, 1, 2, 2, 2, 2, 2, 1, 1, 1, 1, 2, 1, 1, 1, 1, 1, 1, 2, 1, 1, 1, 1, 1, 1, 1, 2, 1, 1, 1, 1, 1, 2, 1, 2, 1, 1, 1, 1, 2, 1, 1, 1, 5, 1, 2, 1, 1, 2, 5, 1, 1, 2, 4, 1, 2, 1, 1, 1, 1, 2, 1, 1, 1, 2, 1, 1, 1, 2, 1, 1, 1, 1, 2, 1, 1, 1, 2, 5, 1, 1, 1, 1, 2, 2, 2, 1, 2, 3, 1, 2, 1, 1, 2, 1, 2, 1, 1, 2, 1, 2, 2, 3, 1, 1, 1, 1, 0, 1, 1, 1, 1, 1, 1, 0, 1, 2, 1, 2, 1, 2, 1, 1, 4, 1, 1, 1, 1, 1, 1, 1, 1, 1, 2, 1, 1, 1, 2, 2, 1, 1, 0, 1, 1, 1, 4, 1, 1, 1, 2, 1, 1, 1, 1, 2, 1, 1, 0, 2, 1, 1, 1, 1, 1, 2, 1, 2, 5, 1, 1, 2, 2, 2, 2, 2, 1, 2, 1, 1, 1, 1, 1, 1, 2, 2, 2, 1, 0, 1, 1, 1, 2, 1, 1, 2, 2, 1, 2, 2, 1, 2, 2, 1, 1, 1, 1, 1, 2, 1, 1, 2, 2, 2, 1, 2, 1, 1, 2, 2, 1, 1, 1, 1, 1, 2, 1, 1, 0, 2, 2, 0, 2, 1, 2, 0, 1, 1, 1, 1, 1, 1, 1, 1, 1, 1, 2, 2, 2, 1, 1, 1, 1, 2, 1, 1, 1, 1, 1, 1, 1, 1, 1, 1, 1, 2, 2, 1, 1, 1, 1, 4, 2, 1, 1, 1, 1, 1, 1, 1, 2, 1, 5, 2, 1, 1, 1, 2, 1, 1, 1, 1, 1, 1, 1, 2, 1, 2, 2, 1, 3, 2, 1, 5, 2, 2, 1, 2, 1, 2, 2, 1, 1, 1, 1, 2, 2, 1, 2, 1, 1, 1, 2, 1, 1, 1, 1, 1, 1, 1, 1, 1, 0, 1, 1, 2, 1, 1, 1, 2, 2, 1, 1, 5, 2, 1, 1, 4, 2, 2, 1, 2, 1, 1, 1, 1, 1, 2, 1, 1, 5, 1, 1, 2, 1, 2, 4, 4, 1, 1, 1, 1, 1, 1, 2, 2, 2, 2, 5, 1, 1, 2, 1, 2, 2, 1, 1, 2, 1, 1, 1, 1, 1, 1, 2, 1, 0, 1, 1, 2, 2, 1, 1, 1, 1, 2, 1, 1, 1, 1, 1, 5, 1, 2, 2, 5, 1, 1, 2, 2, 1, 1, 1, 1, 1, 1, 1, 0, 1, 1, 1, 1, 1, 1, 1, 2, 0, 1, 1, 1, 0, 1, 2, 2, 1, 1, 1, 2, 1, 2, 1, 1, 1, 2, 1, 1, 1, 1, 1, 1, 1, 1, 0, 1, 1, 1, 1, 1, 1, 1, 1, 2, 2, 5, 1, 1, 1, 2, 1, 1, 1, 1, 1, 1, 2, 1, 1, 1, 1, 2, 1, 1, 1, 2, 0, 1, 2, 1, 3, 1, 1, 1, 2, 1, 0, 2, 1, 1, 2, 2, 1, 1, 1, 1, 1, 1, 2, 1, 1, 2, 1, 1, 1, 1, 1, 1, 2, 2, 1, 2, 2, 5, 1, 2, 2, 1, 1, 3, 1, 1, 1, 4, 2, 1, 2, 1, 5, 1, 1, 1, 2, 1, 2, 1, 1, 1, 1, 1, 1, 1, 2, 1, 1, 1, 1, 2, 2, 2, 1, 2, 1, 1, 1, 1, 2, 2, 1, 1, 1, 1, 1, 1, 1, 1, 1, 3, 3, 1, 2, 1, 1, 1, 1, 1, 1, 1, 1, 5, 1, 1, 1, 1, 1, 1, 1, 2, 1, 1, 1, 2, 2, 1, 1, 2, 1, 1, 1, 1, 2, 1, 1, 1, 1, 1, 1, 1, 1, 2, 2, 2, 2, 2, 4, 1, 2, 2, 1, 1, 1, 1, 1, 1, 1, 1, 2, 2, 2, 2, 1, 1, 1, 1, 2, 1, 1, 5, 1, 1, 1, 1, 2, 4, 1, 2, 5, 2, 1, 1, 1, 1, 1, 4, 1, 1, 1, 2, 1, 1, 1, 2, 2, 1, 1, 1, 2, 2, 2, 1, 4, 1, 1, 1, 1, 2, 1, 1, 1, 1, 1, 2, 1, 1, 2, 1, 1, 1, 1, 1, 2, 1, 1, 2, 2, 2, 2, 2, 1, 1, 1, 1, 1, 1, 1, 2, 2, 1, 2, 1, 1, 2, 2, 1, 1, 2, 1, 5, 3, 1, 1, 2, 1, 1, 1, 1, 1, 2, 1, 0, 1, 1, 1, 2, 1, 1, 1, 1, 2, 1, 1, 2, 2, 2, 1, 1, 2, 1, 1, 4, 1, 1, 5, 2, 2, 0, 1, 1, 1, 1, 1, 1, 1, 1, 1, 1, 2, 2, 1, 1, 0, 1, 1, 1, 2, 1, 2, 2, 1, 1, 1, 2, 2, 1, 2, 2, 1, 1, 1, 1, 1, 2, 1, 1, 2, 2, 2, 2, 2, 2, 2, 2, 2, 2, 1, 1, 2, 1, 1, 2, 2, 2, 2, 2, 2, 4, 1, 1, 1, 1, 1, 0, 1, 4, 1, 1, 1, 1, 2, 5, 1, 1, 1, 1, 2, 2, 2, 2, 1, 3, 5, 2, 1, 2, 1, 1, 2, 1, 1, 1, 1, 1, 2, 5, 4, 2, 2, 2, 1, 2, 1, 2, 2, 4, 1, 1, 1, 2, 2, 5, 1, 1, 1, 1, 1, 1, 1, 1, 1, 2, 2, 1, 1, 2, 1, 2, 1, 1, 1, 1, 2, 2, 2, 1, 1, 1, 1, 1, 1, 1, 1, 1, 1, 1, 1, 2, 1, 2, 1, 1, 1, 2, 1, 2, 5, 0, 1, 1, 1, 0, 1, 2, 2, 1, 1, 0, 1, 1, 2, 2, 2, 1, 2, 1, 1, 1, 0, 2, 2, 1, 1, 2, 1, 0, 2, 1, 2, 1, 2, 1, 1, 5, 2, 0, 1, 1, 5, 1, 1, 1, 2, 2, 2, 1, 2, 1, 1, 2, 2, 1, 2, 1, 2, 1, 1, 2, 2, 1, 1, 1, 1, 1, 1, 1, 1, 1, 1, 1, 1, 2, 2, 1, 0, 2, 2, 2, 1, 1, 5, 1, 1, 5, 1, 1, 2, 2, 2, 2, 2, 1, 0, 1, 1, 2, 5, 1, 1, 2, 1, 1, 2, 1, 1, 1, 5, 1, 1, 0, 0, 1, 1, 2, 2, 2, 0, 1, 1, 1, 1, 2, 2, 1, 1, 2, 5, 1, 1, 2, 1, 1, 1, 1, 1, 1, 5, 1, 1, 2, 1, 1, 4, 1, 1, 1, 2, 1, 1, 1, 5, 1, 2, 2, 2, 1, 1, 1, 1, 2, 2, 2, 5, 1, 2, 1, 1, 1, 1, 5, 1, 1, 2, 2, 2, 2, 2, 2, 2, 2, 1, 2, 2, 1, 5, 2, 1, 2, 1, 2, 1, 2, 1, 2, 1, 1, 1, 1, 1, 1, 1, 2, 1, 1, 1, 0, 1, 1, 1, 1, 1, 2, 2, 1, 4, 1, 2, 1, 2, 2, 0, 1, 1, 2, 1, 2, 2, 1, 1, 1, 1, 1, 2, 1, 1, 1, 2, 1, 1, 1, 1, 1, 0, 2, 2, 1, 1, 2, 2, 2, 2, 1, 2, 2, 1, 1, 1, 2, 1, 2, 2, 2, 2, 2, 2, 1, 1, 1, 1, 1, 2, 1, 1, 1, 0, 1, 2, 1, 4, 1, 1, 2, 1, 1, 2, 1, 1, 1, 1, 1, 2, 1, 1, 4, 1, 1, 2, 2, 2, 1, 2, 1, 1, 1, 1, 1, 1, 2, 2, 1, 2, 1, 1, 1, 1, 1, 3, 2, 1, 5, 2, 4, 2, 1, 1, 2, 1, 1, 1, 1, 1, 1, 1, 1, 1, 1, 1, 1, 1, 2, 1, 1, 1, 1, 1, 1, 1, 2, 3, 1, 1, 1, 2, 1, 2, 1, 1, 1, 1, 2, 2, 1, 1, 0, 4, 1, 2, 2, 1, 2, 2, 1, 2, 1, 2, 0, 1, 2, 1, 1, 1, 1, 1, 1, 2, 2, 2, 2, 1, 2, 5, 1, 1, 1, 1, 1, 1, 1, 1, 1, 1, 0, 1, 1, 1, 2, 2, 2, 1, 1, 1, 1, 1, 1, 1, 1, 2, 1, 2, 2, 2, 2, 1, 1, 1, 2, 2, 2, 1, 2, 1, 1, 1, 1, 2, 1, 1, 1, 1, 2, 1, 2, 1, 5, 1, 1, 1, 2, 2, 4, 1, 2, 1, 1, 1, 1, 1, 2, 1, 1, 2, 1, 1, 2, 2, 2, 1, 5, 2, 1, 1, 1, 1, 1, 2, 1, 1, 1, 1, 2, 1, 1, 1, 2, 1, 5, 1, 1, 2, 1, 1, 1, 1, 1, 1, 2, 2, 2, 2, 1, 2, 1, 1, 1, 1, 0, 2, 1, 2, 1, 2, 1, 1, 1, 1, 2, 2, 2, 2, 1, 4, 1, 1, 1, 1, 1, 1, 1, 1, 1, 1, 1, 2, 2, 2, 1, 2, 1, 1, 1, 1, 1, 1, 1, 2, 1, 1, 1, 1, 1, 1, 1, 1, 1, 1, 2, 1, 1, 1, 2, 1, 1, 1, 3, 2, 2, 2, 2, 1, 0, 1, 1, 1, 0, 1, 1, 1, 3, 3, 2, 1, 2, 2, 1, 1, 1, 2, 2, 1, 1, 1, 1, 1, 1, 2, 1, 1, 1, 1, 1, 2, 1, 5, 1, 1, 3, 1, 1, 1, 2, 1, 1, 1, 1, 2, 1, 1, 1, 1, 1, 1, 2, 1, 2, 2, 2, 2, 2, 1, 1, 3, 1, 2, 1, 1, 1, 2, 1, 1, 1, 1, 2, 1, 2, 1, 1, 2, 2, 2, 1, 2, 1, 1, 2, 1, 1, 2, 1, 1, 2, 2, 2, 2, 1, 1, 1, 1, 1, 1, 2, 1, 1, 1, 1, 2, 4, 5, 0, 1, 1, 0, 1, 2, 1, 1, 1, 1, 4, 0, 1, 1, 1, 1, 2, 1, 2, 2, 2, 0, 1, 2, 1, 4, 0, 1, 4, 1, 1, 2, 4, 1, 1, 1, 1, 2, 2, 2, 2, 2, 2, 2, 2, 1, 2, 1, 2, 1, 2, 1, 1, 2, 1, 2, 1, 1, 2, 1, 1, 1, 1, 1, 1, 2, 2, 2, 1, 1, 2, 1, 2, 2, 2, 1, 1, 2, 1, 1, 2, 1, 1, 1, 2, 2, 2, 1, 1, 1, 2, 1, 1, 2, 1, 1, 2, 2, 4, 1, 1, 1, 1, 1, 1, 1, 2, 2, 2, 1, 2, 1, 1, 1, 1, 2, 1, 5, 0, 1, 1, 1, 1, 2, 1, 1, 2, 2, 1, 1, 1, 2, 2, 1, 1, 1, 1, 2, 2, 2, 1, 5, 2, 2, 2, 2, 1, 1, 2, 1, 1]\n",
            "[0.9853274354644264, 0.9916715430318211, 0.9804949126746287, 0.9921397386963839, 0.993789987678028, 0.9921397386963839, 0.9833071310288406, 0.9823074797986693, 0.9823074797986693, 0.9884803382944378, 0.9811468546989928, 0.9873679070875363, 0.9832564680377676, 0.9858543685057456, 0.9916479253828654, 0.985624838944202, 0.9811093516651418, 0.9916479253828654, 0.9829384850386723, 0.9898729460744264, 0.9906460228807072, 0.9858543685057456, 0.990918080533636, 0.9937736397142802, 0.9834682367655412, 0.982597513079441, 0.9915676827204734, 0.9866965708920685, 0.9915676827204734, 0.9802219350812748, 0.9879399947059238, 0.9906015577484852, 0.9881616535663698, 0.9865622783967766, 0.9930778699573943, 0.990031426761341, 0.9860857891019732, 0.9806835836345374, 0.9823074797986693, 0.9854945172284548, 0.9823074797986693, 0.9916715430318211, 0.9823074797986693, 0.9823074797986693, 0.9814135666484175, 0.9884803382944378, 0.9918508981070422, 0.9823074797986693, 0.9823074797986693, 0.9823074797986693, 0.985624838944202, 0.9933984152934677, 0.985624838944202, 0.993229382554663, 0.9826218180866453, 0.9823074797986693, 0.9827755528790173, 0.980459807949403, 0.9939241792811249, 0.9806337289632223, 0.9827461757251945, 0.9878330481149161, 0.9802776033275993, 0.9933269087033488, 0.9916479253828654, 0.9884803382944378, 0.9934698776241978, 0.9905164958329894, 0.981637563847331, 0.9878393384845927, 0.9803045959389299, 0.9862683108932842, 0.9844832293396975, 0.9865501748028055, 0.9862683108932842, 0.992026620509156, 0.9846461073864111, 0.9899967550277279, 0.9917031098130712, 0.9823074797986693, 0.9922479214782086, 0.9803809351957317, 0.9906460228807072, 0.9906460228807072, 0.9851750527022706, 0.9916479253828654, 0.9853274354644264, 0.9915676827204734, 0.9884803382944378, 0.9832514725772772, 0.985624838944202, 0.9833615907294846, 0.9814549271452373, 0.9847044609909985, 0.985624838944202, 0.9854407143879894, 0.981328615976311, 0.9901813374236356, 0.9918508981070422, 0.9883230002346758, 0.9915295182725964, 0.9884299230265153, 0.9823074797986693, 0.9802219350812748, 0.993789987678028, 0.9890191091757206, 0.9823024938089757, 0.9823807522054318, 0.9829083684278143, 0.982701816891466, 0.9846461073864111, 0.9823074797986693, 0.9828616939893983, 0.985624838944202, 0.9865491250638921, 0.9865315260241814, 0.9858543685057456, 0.9918508981070422, 0.9823074797986693, 0.9916479253828654, 0.9808660487699461, 0.9853459751824701, 0.9823074797986693, 0.9906460228807072, 0.9830999393805006, 0.9821279339545775, 0.9918508981070422, 0.9918103063914426, 0.9916479253828654, 0.9842858741918338, 0.9915295182725964, 0.9884803382944378, 0.9894996155197302, 0.9918508981070422, 0.9823074797986693, 0.9884772935945039, 0.9884803382944378, 0.9913033233701147, 0.9844832293396975, 0.9823074797986693, 0.9921397386963839, 0.985624838944202, 0.9821535987656467, 0.9823074797986693, 0.993789987678028, 0.9906460228807072, 0.9836879729255048, 0.9883041409311252, 0.9858202859270356, 0.9823074797986693, 0.9823074797986693, 0.9898924174255668, 0.9802219350812748, 0.9921397386963839, 0.9823074797986693, 0.9811943206383993, 0.9829905092383591, 0.985624838944202, 0.9825609833539312, 0.9807024683019973, 0.9916479253828654, 0.9823074797986693, 0.9854440363208429, 0.9927870705731183, 0.9871438042341544, 0.985624838944202, 0.9918508981070422, 0.9877611832217736, 0.9906460228807072, 0.9823074797986693, 0.9906460228807072, 0.9818591807711313, 0.9823074797986693, 0.9823074797986693, 0.9906460228807072, 0.9823074797986693, 0.9874096279368942, 0.9918103063914426, 0.9823074797986693, 0.9915676827204734, 0.9869864790217227, 0.9822920415850679, 0.9853274354644264, 0.9830999393805006, 0.9918103063914426, 0.9828143033626543, 0.9896942920537244, 0.985513036633754, 0.9896777790894539, 0.9906460228807072, 0.9804947449751865, 0.985671472949432, 0.9823074797986693, 0.9898877188395974, 0.9916479253828654, 0.9916479253828654, 0.9884928843973836, 0.9823074797986693, 0.9927591355554378, 0.9823074797986693, 0.9823074797986693, 0.9869599200249908, 0.9823074797986693, 0.9833801602358602, 0.9837161268328795, 0.9811835370564845, 0.9823074797986693, 0.9906460228807072, 0.9906460228807072, 0.9869851957156103, 0.9878516406782132, 0.985624838944202, 0.9828616939893983, 0.9874044184211394, 0.9906460228807072, 0.9825122625757129, 0.9853862694006922, 0.993875907650404, 0.9823074797986693, 0.9833833159757638, 0.985624838944202, 0.9811110662112447, 0.9919531461089575, 0.9881152545402709, 0.9823074797986693, 0.9916479253828654, 0.986463032563449, 0.9823074797986693, 0.9845066016747425, 0.9844832293396975, 0.9823074797986693, 0.993789987678028, 0.9846461073864111, 0.9884299230265153, 0.9846461073864111, 0.9884803382944378, 0.9862409735958306, 0.9823074797986693, 0.9861205978662251, 0.9906460228807072, 0.9885887897210252, 0.9847801541168165, 0.985624838944202, 0.9883041409311252, 0.990687839526851, 0.9823074797986693, 0.985624838944202, 0.9916479253828654, 0.9888113383589511, 0.9823074797986693, 0.9862683108932842, 0.9916715430318211, 0.9852310686908246, 0.9906460228807072, 0.9823074797986693, 0.9823074797986693, 0.9823074797986693, 0.9844201627261456, 0.9823074797986693, 0.9823074797986693, 0.9837630884363098, 0.9842699207985809, 0.9860367094547601, 0.9915676827204734, 0.985624838944202, 0.9828616939893983, 0.9906460228807072, 0.9807585218094402, 0.985624838944202, 0.9842022624350696, 0.9803711797773998, 0.985624838944202, 0.9846461073864111, 0.984219459786908, 0.9832527286439727, 0.9872382200002336, 0.9849044296001599, 0.9903025968569377, 0.9884803382944378, 0.983714224975129, 0.9823074797986693, 0.985624838944202, 0.9884299230265153, 0.985624838944202, 0.9918508981070422, 0.9823074797986693, 0.9826951559396387, 0.9925613608692293, 0.9847654304532484, 0.9823074797986693, 0.9896052377703265, 0.9823074797986693, 0.9921397386963839, 0.9823074797986693, 0.9826238852067051, 0.9916479253828654, 0.985624838944202, 0.9824997760446743, 0.9845803269759026, 0.9823074797986693, 0.9929506998004152, 0.9880395680062837, 0.9823074797986693, 0.98624942662328, 0.9861970606149886, 0.9906460228807072, 0.9906460228807072, 0.9918508981070422, 0.9906460228807072, 0.9828143033626543, 0.9864022505913137, 0.9826918086221127, 0.9823074797986693, 0.9947767011280679, 0.9858891075140136, 0.9805822031162041, 0.9823074797986693, 0.9872898587070136, 0.9823074797986693, 0.9823074797986693, 0.9951284397381993, 0.9819041576897672, 0.9906460228807072, 0.9823074797986693, 0.9918508981070422, 0.9801915431692677, 0.985624838944202, 0.9855536166222787, 0.9823074797986693, 0.9823074797986693, 0.994293387095985, 0.9862300001607824, 0.9927563859822456, 0.9905269330698497, 0.9844507850213016, 0.9906460228807072, 0.982940192566941, 0.9850396427323843, 0.9823074797986693, 0.9921584610180584, 0.9823074797986693, 0.9857756969583562, 0.985624838944202, 0.985624838944202, 0.985624838944202, 0.9823074797986693, 0.985624838944202, 0.9823074797986693, 0.9872652441058465, 0.9884293628874469, 0.9855311047427975, 0.9884803382944378, 0.9906460228807072, 0.9906460228807072, 0.9906460228807072, 0.9958051954389432, 0.989042552140812, 0.9823074797986693, 0.9823074797986693, 0.9915676827204734, 0.9906015577484852, 0.993789987678028, 0.9846461073864111, 0.9814174765567015, 0.9898534470396514, 0.9916479253828654, 0.9823074797986693, 0.9803690115859047, 0.9858249797178095, 0.9915676827204734, 0.9823074797986693, 0.9919857751798701, 0.985624838944202, 0.9862402129006784, 0.9860533284782133, 0.9858543685057456, 0.9823074797986693, 0.985624838944202, 0.990918080533636, 0.9823074797986693, 0.9916479253828654, 0.9830999393805006, 0.991557744264398, 0.990918080533636, 0.9821225521896345, 0.9932969776077081, 0.9810101672032498, 0.9918508981070422, 0.9920693699138057, 0.9873529619118907, 0.9823074797986693, 0.9823074797986693, 0.985624838944202, 0.9823074797986693, 0.9918508981070422, 0.9844832293396975, 0.985624838944202, 0.9856181757889242, 0.9828143033626543, 0.9847322957532226, 0.982028973798639, 0.9921397386963839, 0.9831083698670519, 0.9829421718553224, 0.9841604675373484, 0.9802219350812748, 0.9863551467661561, 0.9827840252795592, 0.9906460228807072, 0.9806577997774472, 0.9916479253828654, 0.9936233091799147, 0.9857183687753692, 0.985624838944202, 0.9823074797986693, 0.9823074797986693, 0.9916479253828654, 0.9863849699711245, 0.9841310733966172, 0.9823074797986693, 0.9880447926243261, 0.9823074797986693, 0.9916479253828654, 0.9916479253828654, 0.9814278925544966, 0.9906460228807072, 0.9807024683019973, 0.9916479253828654, 0.9823074797986693, 0.9823074797986693, 0.9884299230265153, 0.9844832293396975, 0.9938745225068139, 0.9894186267023273, 0.9868479606247752, 0.9884299230265153, 0.9823074797986693, 0.9803747809184488, 0.9920254302934026, 0.9916479253828654, 0.9915676827204734, 0.9871368183785544, 0.9852165802267215, 0.9916479253828654, 0.9823074797986693, 0.9802219350812748, 0.9801393957905989, 0.9916479253828654, 0.9915676827204734, 0.9844494301683331, 0.9908324753810278, 0.98665156037001, 0.9844832293396975, 0.9907551529671469, 0.9823074797986693, 0.9846461073864111, 0.9916479253828654, 0.9906460228807072, 0.9906460228807072, 0.9909773769712308, 0.9823074797986693, 0.9823074797986693, 0.986374070184755, 0.9916479253828654, 0.9884299230265153, 0.9841253499114249, 0.9920663181509954, 0.9805431682761537, 0.991319385906129, 0.9830152033481501, 0.993789987678028, 0.9807024683019973, 0.9871659798938391, 0.9916479253828654, 0.9863623527714522, 0.9823074797986693, 0.9889706249321465, 0.9889194268644395, 0.9946654828120667, 0.9849945882502555, 0.9802219350812748, 0.9828143033626543, 0.9823074797986693, 0.9860173212142428, 0.9823074797986693, 0.9871636191465216, 0.9883345526914848, 0.9871319774090801, 0.985624838944202, 0.9906608466508184, 0.9858543685057456, 0.9916479253828654, 0.9823074797986693, 0.985624838944202, 0.9823074797986693, 0.9906460228807072, 0.9800016605256021, 0.9906460228807072, 0.98849568423441, 0.9823074797986693, 0.9915676827204734, 0.9851504018188872, 0.9953816300874371, 0.985624838944202, 0.9858543685057456, 0.9915295182725964, 0.9916479253828654, 0.9848416912559639, 0.985624838944202, 0.9823074797986693, 0.985624838944202, 0.9853274354644264, 0.9823074797986693, 0.988188597127416, 0.9915295182725964, 0.9897870358140571, 0.9897354892456449, 0.9875639723354748, 0.985624838944202, 0.9916479253828654, 0.9903062387845004, 0.9820421045843475, 0.9823074797986693, 0.9916479253828654, 0.9823074797986693, 0.9823074797986693, 0.9915676827204734, 0.9854342006643264, 0.9823074797986693, 0.9915254465284898, 0.9846461073864111, 0.9906460228807072, 0.9915295182725964, 0.9858543685057456, 0.9823074797986693, 0.9916479253828654, 0.9918508981070422, 0.9904620749221709, 0.987101709222161, 0.9813206066451702, 0.9823074797986693, 0.9823074797986693, 0.987101709222161, 0.9860087774307106, 0.9816819601304653, 0.993209450563532, 0.985624838944202, 0.9848186012983351, 0.9823074797986693, 0.9884140636776809, 0.9823074797986693, 0.9969237590342868, 0.9846461073864111, 0.9823074797986693, 0.9879399947059238, 0.9837002003053047, 0.985624838944202, 0.9884299230265153, 0.9884299230265153, 0.993789987678028, 0.986155985522194, 0.9823074797986693, 0.9823074797986693, 0.9823074797986693, 0.9915254465284898, 0.9800729015123906, 0.985624838944202, 0.9884299230265153, 0.9884299230265153, 0.9846461073864111, 0.9915676827204734, 0.9916479253828654, 0.9823074797986693, 0.9809404165576285, 0.9862590840380675, 0.984885895769885, 0.9858543685057456, 0.9894186267023273, 0.9823074797986693, 0.9953969180777558, 0.9918508981070422, 0.9823074797986693, 0.9813541870547684, 0.9823074797986693, 0.985624838944202, 0.9918508981070422, 0.9812376021344609, 0.9844832293396975, 0.9823074797986693, 0.9841604675373484, 0.9823074797986693, 0.9809221158789445, 0.990918080533636, 0.9884803382944378, 0.9916479253828654, 0.983150448151846, 0.9850396427323843, 0.9808660487699461, 0.9934654698217416, 0.9846461073864111, 0.984764531383595, 0.9823074797986693, 0.9828143033626543, 0.9862683108932842, 0.9909423387905302, 0.9844832293396975, 0.9848783316607913, 0.9846897098341069, 0.993789987678028, 0.990918080533636, 0.9807278357157914, 0.982270534265275, 0.9915676827204734, 0.985624838944202, 0.9918508981070422, 0.9823074797986693, 0.9916479253828654, 0.9823074797986693, 0.9834923964136416, 0.9823074797986693, 0.9884803382944378, 0.9862129741424555, 0.990918080533636, 0.9906460228807072, 0.985624838944202, 0.985624838944202, 0.9915295182725964, 0.9823074797986693, 0.9830697580593227, 0.985785896245767, 0.990213004245505, 0.9907400308387632, 0.9827313473094237, 0.986374070184755, 0.9823074797986693, 0.9800584373826393, 0.9884231596870167, 0.9823074797986693, 0.9823074797986693, 0.9812155360442972, 0.9823074797986693, 0.9823074797986693, 0.9921584610180584, 0.9836205737699532, 0.9901908865788623, 0.9823074797986693, 0.986842845283299, 0.9823074797986693, 0.9829384850386723, 0.985624838944202, 0.9916479253828654, 0.9828143033626543, 0.9858528253649879, 0.9823074797986693, 0.9809458186186094, 0.993789987678028, 0.980024611806865, 0.9915295182725964, 0.9918508981070422, 0.985624838944202, 0.9906460228807072, 0.9860495369808315, 0.9868979675781359, 0.9823074797986693, 0.9906460228807072, 0.9846461073864111, 0.985624838944202, 0.9834194239898171, 0.9943350104852664, 0.9849798028090759, 0.9823074797986693, 0.9903433415717837, 0.9906460228807072, 0.9906015577484852, 0.9921397386963839, 0.9846461073864111, 0.9816762692063109, 0.983462229080381, 0.985624838944202, 0.9916479253828654, 0.9823074797986693, 0.9823074797986693, 0.9915295182725964, 0.9823074797986693, 0.9918508981070422, 0.9918508981070422, 0.9906015577484852, 0.9801125654637125, 0.980879450993408, 0.9877935668696415, 0.9918566243426651, 0.9914146261085096, 0.9823074797986693, 0.9823074797986693, 0.9823074797986693, 0.9823074797986693, 0.9858543685057456, 0.9823074797986693, 0.9828143033626543, 0.9802219350812748, 0.9823074797986693, 0.9918103063914426, 0.980427521575958, 0.98675863572066, 0.9823074797986693, 0.9823074797986693, 0.9884299230265153, 0.9884188640692297, 0.9826918086221127, 0.9823074797986693, 0.9823074797986693, 0.9942451352266792, 0.9803662266307962, 0.9828616939893983, 0.9823074797986693, 0.9944863783483356, 0.9858543685057456, 0.9841604675373484, 0.9862683108932842, 0.9823074797986693, 0.983999626751863, 0.9937836725565696, 0.9916479253828654, 0.9823074797986693, 0.9906460228807072, 0.9823074797986693, 0.985624838944202, 0.9830999393805006, 0.9823074797986693, 0.9840343762340003, 0.9869601920528789, 0.9871295254464912, 0.9941525926354455, 0.9943510812933637, 0.98183161305778, 0.984772710094855, 0.9851198213346043, 0.9860168221538671, 0.9906460228807072, 0.9817659308647987, 0.987998276222432, 0.9906460228807072, 0.9916479253828654, 0.9874044184211394, 0.9806846377759892, 0.9874044184211394, 0.9808985121908421, 0.9915025539048352, 0.9888377240615235, 0.9871087388234006, 0.9844832293396975, 0.9844832293396975, 0.9918103063914426, 0.9853274354644264, 0.9860429427570219, 0.9916479253828654, 0.9884299230265153, 0.9856698074918913, 0.9921584610180584, 0.9921397386963839, 0.9906460228807072, 0.9919857751798701, 0.9837082302195249, 0.9807454798966424, 0.9906460228807072, 0.9833043373660089, 0.9859559159717736, 0.9916087340196371, 0.985624838944202, 0.9903553837561024, 0.9916479253828654, 0.9858543685057456, 0.9906460228807072, 0.9864383453952932, 0.993789987678028, 0.9906460228807072, 0.9828143033626543, 0.9932262057189697, 0.9916479253828654, 0.9823074797986693, 0.9918508981070422, 0.9847532566734992, 0.9877631013669574, 0.9918508981070422, 0.984923961042867, 0.9921584610180584, 0.985751528374661, 0.9860330779638703, 0.9819296122937372, 0.9843836355791441, 0.9911135495688197, 0.985624838944202, 0.990918080533636, 0.9823074797986693, 0.9920693699138057, 0.9833082539362091, 0.9823074797986693, 0.9823074797986693, 0.985624838944202, 0.9865315260241814, 0.988933071457403, 0.9875945441740227, 0.9805273935864653, 0.9823074797986693, 0.9844334224767124, 0.9906460228807072, 0.9884299230265153, 0.9914867287151297, 0.991070055188296, 0.9823074797986693, 0.9876973073871554, 0.9919174778245792, 0.9823074797986693, 0.9879372440351105, 0.9813423031173434, 0.9828882400119783, 0.9858026921778029, 0.9892397103538884, 0.985624838944202, 0.9884299230265153, 0.985624838944202, 0.9823074797986693, 0.9823074797986693, 0.9823074797986693, 0.9915444842458682, 0.9811840532375731, 0.9935084042364596, 0.9823074797986693, 0.9827205767803141, 0.9918508981070422, 0.9916479253828654, 0.991692117604168, 0.9849633668825898, 0.9823074797986693, 0.985624838944202, 0.9828840232687527, 0.9918508981070422, 0.9802826372626041, 0.9856973961359613, 0.9823074797986693, 0.9868144025103937, 0.9906767211210974, 0.9846461073864111, 0.9920693699138057, 0.9918508981070422, 0.9823074797986693, 0.986353123642732, 0.9903696976320318, 0.9906460228807072, 0.9891365605552763, 0.9858543685057456, 0.985624838944202, 0.9831200054500386, 0.9869768317670395, 0.9921397386963839, 0.9823074797986693, 0.9823074797986693, 0.9918508981070422, 0.9879062742064595, 0.985624838944202, 0.985624838944202, 0.9845969095490137, 0.9906121720644439, 0.9808380281193892, 0.993789987678028, 0.9823074797986693, 0.9864000816260519, 0.9916479253828654, 0.9823074797986693, 0.9904803018861007, 0.9823074797986693, 0.9854440363208429, 0.9819837220938334, 0.9846539006758802, 0.9834040828298962, 0.9850396427323843, 0.993789987678028, 0.9859995031756053, 0.9918508981070422, 0.9916479253828654, 0.9919857751798701, 0.9916479253828654, 0.9823074797986693, 0.9823074797986693, 0.985624838944202, 0.9906460228807072, 0.9878676523738086, 0.9821582946521269, 0.9853274354644264, 0.9823074797986693, 0.9896052377703265, 0.9823074797986693, 0.9884299230265153, 0.9808660487699461, 0.9801312168368113, 0.9921397386963839, 0.9857328374173748, 0.9835817034481061, 0.9841604675373484, 0.9823074797986693, 0.985624838944202, 0.9818777741975633, 0.9819137831437414, 0.9823074797986693, 0.9855410822806236, 0.9909537103829893, 0.985624838944202, 0.985624838944202, 0.9820771411849684, 0.9823074797986693, 0.9926584810397331, 0.9820561374241734, 0.985624838944202, 0.9864874065034834, 0.9831299602727738, 0.9878263907003099, 0.9839591583259019, 0.9862341425720716, 0.9815572430789197, 0.9809056570598226, 0.9947340401861616, 0.9888627785429916, 0.9855620695450235, 0.9936360750482244, 0.9823074797986693, 0.9823074797986693, 0.9822317030698793, 0.985624838944202, 0.9915676827204734, 0.9874426314312169, 0.9863257756598782, 0.9883249230099072, 0.9871394520915272, 0.9892458373808014, 0.9809352642750454, 0.9874957731367047, 0.9906460228807072, 0.9826918086221127, 0.9823074797986693, 0.9920588855644646, 0.9916479253828654, 0.9822327300069192, 0.9884299230265153, 0.9838701333908234, 0.9868000985953111, 0.9830999393805006, 0.985624838944202, 0.9853274354644264, 0.9824765111588553, 0.9815877560378931, 0.9918508981070422, 0.985624838944202, 0.9841947832656612, 0.9807480902838032, 0.9888457749076852, 0.9803907990572734, 0.9907736238190479, 0.9801394689127111, 0.9823074797986693, 0.9802977229985441, 0.9811246911106102, 0.9955795574734445, 0.9858470848426157, 0.9864460901536887, 0.9861205978662251, 0.9916479253828654, 0.9906481431144152, 0.9884299230265153, 0.9823074797986693, 0.9918508981070422, 0.9884299230265153, 0.9828143033626543, 0.9842229867013008, 0.9802219350812748, 0.9888113383589511, 0.9875012565654554, 0.9854373199583312, 0.9850699706343421, 0.985624838944202, 0.9922122452640022, 0.9823074797986693, 0.9842020197462471, 0.9907178399666332, 0.9907638961112523, 0.9865237726819379, 0.9918508981070422, 0.985624838944202, 0.9845009290756639, 0.9871811498227311, 0.9829384850386723, 0.9860367094547601, 0.9844832293396975, 0.9823074797986693, 0.9823074797986693, 0.9846461073864111, 0.9898559584384122, 0.9823074797986693, 0.9823074797986693, 0.985624838944202, 0.9808738397120352, 0.980700653055108, 0.9846461073864111, 0.9823074797986693, 0.9902137049009323, 0.9823074797986693, 0.9840571052214636, 0.9823074797986693, 0.9823074797986693, 0.9858543685057456, 0.9918508981070422, 0.9802905839908624, 0.9804194772753236, 0.985674231329612, 0.9916479253828654, 0.9823074797986693, 0.9823074797986693, 0.9823074797986693, 0.993789987678028, 0.9823074797986693, 0.9808673513470179, 0.9823074797986693, 0.9823074797986693, 0.9823074797986693, 0.9829182919940851, 0.9823074797986693, 0.9810739273576868, 0.9916479253828654, 0.9911333894504063, 0.985624838944202, 0.990918080533636, 0.9844832293396975, 0.993858626173464, 0.9823074797986693, 0.9819055341945017, 0.9809702089224288, 0.9875993960920203, 0.985624838944202, 0.9823074797986693, 0.9858543685057456, 0.9878516406782132, 0.9823074797986693, 0.9878964629491034, 0.9821703780158041, 0.9906460228807072, 0.9823074797986693, 0.9812664972369151, 0.9823074797986693, 0.9884299230265153, 0.9846694946405494, 0.9818292157012206, 0.9830519102856541, 0.9823074797986693, 0.9862509173677727, 0.9823074797986693, 0.9920693699138057, 0.9823074797986693, 0.9895591259818217, 0.9944740044618088, 0.9891413164122708, 0.9916479253828654, 0.9823074797986693, 0.9840682231726687, 0.9846461073864111, 0.9878516406782132, 0.9846267524977224, 0.9841266083413401, 0.9899061591109424, 0.985624838944202, 0.9889760853069687, 0.9858543685057456, 0.9858543685057456, 0.9801685059097035, 0.9823784823152008, 0.994293387095985, 0.9858543685057456, 0.9823074797986693, 0.9826390845657078, 0.9918508981070422, 0.988933071457403, 0.9823074797986693, 0.9863124612814441, 0.9852965062774998, 0.9819388653309542, 0.9823074797986693, 0.990899646498656, 0.9916479253828654, 0.9921584610180584, 0.992995364870953, 0.984628947971708, 0.9823074797986693, 0.9893310783898142, 0.9918508981070422, 0.9927372583062535, 0.985624838944202, 0.9918103063914426, 0.9922302785027901, 0.9842909657318897, 0.9823074797986693, 0.9823074797986693, 0.9823074797986693, 0.9919857751798701, 0.9841604675373484, 0.9921397386963839, 0.9918508981070422, 0.9916479253828654, 0.9828143033626543, 0.9823074797986693, 0.9884803382944378, 0.9882463572798096, 0.9802579972463166, 0.9829433865613262, 0.990918080533636, 0.987101709222161, 0.9830737659111312, 0.9951859400942129, 0.993621811750746, 0.9918508981070422, 0.993789987678028, 0.9802219350812748, 0.9823074797986693, 0.9882463572798096, 0.9862828632275914, 0.9823074797986693, 0.9823074797986693, 0.980751478444905, 0.9900295547266137, 0.9940503137095406, 0.9925097587738679, 0.9859763285428068, 0.9921397386963839, 0.9896052377703265, 0.9841604675373484, 0.985624838944202, 0.9891990114970082, 0.9865501748028055, 0.9916479253828654, 0.985624838944202, 0.9837030419027637, 0.985624838944202, 0.985624838944202, 0.9803010755708063, 0.9823074797986693, 0.9823074797986693, 0.9918508981070422, 0.9802219350812748, 0.9823074797986693, 0.9823074797986693, 0.994293387095985, 0.9850396427323843, 0.9823074797986693, 0.9884803382944378, 0.9816634401793974, 0.9877267048030335, 0.9828715874927372, 0.9800470191361882, 0.985624838944202, 0.9823074797986693, 0.9918508981070422, 0.9846461073864111, 0.9839009314305736, 0.9804483142779411, 0.985624838944202, 0.9879399947059238, 0.9809785485758067, 0.9821225521896345, 0.9823074797986693, 0.9906460228807072, 0.9807043413270504, 0.9818869528800163, 0.9828143033626543, 0.9823074797986693, 0.9823074797986693, 0.9899576569156198, 0.9828143033626543, 0.9802715012071721, 0.9823074797986693, 0.9823074797986693, 0.9928882052131791, 0.9823074797986693, 0.9823074797986693, 0.9832510485318725, 0.9828616939893983, 0.9823074797986693, 0.9906460228807072, 0.9812479810919913, 0.9906460228807072, 0.9823074797986693, 0.985624838944202, 0.9884887335431909, 0.9823074797986693, 0.9905803695140705, 0.9805515256997773, 0.9820255083450862, 0.990918080533636, 0.9884299230265153, 0.985624838944202, 0.9884803382944378, 0.9888832550208301, 0.9805811122202948, 0.9949727193239871, 0.9843540148621407, 0.985624838944202, 0.9885198943934672, 0.9823074797986693, 0.9823074797986693, 0.9823074797986693, 0.985624838944202, 0.9811246911106102, 0.9823074797986693, 0.9844832293396975, 0.9867269873093314, 0.9901855308804646, 0.9842494012428059, 0.9847390517739457, 0.9913901890624581, 0.991631587596204, 0.98378910699804, 0.9864728332139556, 0.9853274354644264, 0.9893308267730204, 0.9850261729910518, 0.9819694485551427, 0.9829384850386723, 0.9804518757670382, 0.9823074797986693, 0.9815306309532655, 0.9906460228807072, 0.9829724608350162, 0.9862683108932842, 0.9865654293388764, 0.9823074797986693, 0.9888671638304422, 0.9920693699138057, 0.9823074797986693, 0.9916479253828654, 0.9918508981070422, 0.9844832293396975, 0.9921397386963839, 0.9823074797986693, 0.9811592359406988, 0.9884299230265153, 0.9918508981070422, 0.9916479253828654, 0.9878516406782132, 0.9828143033626543, 0.9865600837609559, 0.9846461073864111, 0.9823074797986693, 0.9916479253828654, 0.9874173288330441, 0.9838233907833175, 0.990918080533636, 0.9819178056091844, 0.985624838944202, 0.9916954472750041, 0.9918508981070422, 0.9956404641288732, 0.9873712297761182, 0.9896052377703265, 0.985624838944202, 0.993789987678028, 0.982494400988686, 0.9823074797986693, 0.9881499663460582, 0.9818854808273672, 0.9854919926693392, 0.9823074797986693, 0.9823074797986693, 0.9916479253828654, 0.9823074797986693, 0.9839543220697754, 0.9823074797986693, 0.9857144824463165, 0.9807024683019973, 0.9845328178529994, 0.9846461073864111, 0.9823074797986693, 0.9841604675373484, 0.9883737016563001, 0.9906460228807072, 0.9892274275637649, 0.9837066508772745, 0.9869777431216306, 0.985624838944202, 0.9919857751798701, 0.9851478309372966, 0.9815455066804311, 0.9924013824790698, 0.9914645703697955, 0.9906460228807072, 0.9887808764465595, 0.9880017573759649, 0.9810688452314102, 0.985624838944202, 0.9823074797986693, 0.9866639004550313, 0.9884299230265153, 0.9877052095209709, 0.9802674802230054, 0.9908504222985599, 0.9905839354344922, 0.9925425968967221, 0.986466066262819, 0.9921397386963839, 0.9823074797986693, 0.9916479253828654, 0.9823074797986693, 0.9916479253828654, 0.9930175533292613, 0.9823074797986693, 0.9823074797986693, 0.9823074797986693, 0.9878516406782132, 0.9816016497369534, 0.9878232159646502, 0.9823074797986693, 0.9883612049033739, 0.985624838944202, 0.9918508981070422, 0.9926298956348766, 0.9823074797986693, 0.9846461073864111, 0.9812452172023763, 0.9846461073864111, 0.9854612464706333, 0.985624838944202, 0.9823074797986693, 0.985624838944202, 0.9862182300403395, 0.9906460228807072, 0.9922772157216707, 0.9898516727122576, 0.9823074797986693, 0.9823074797986693, 0.9808050286247005, 0.9815895142993523, 0.988627973400064, 0.9844832293396975, 0.9802032092611608, 0.9860367094547601, 0.9820383162005875, 0.9823074797986693, 0.985624838944202, 0.985624838944202, 0.985624838944202, 0.983474893183823, 0.9840062674398272, 0.9823074797986693, 0.9860445224953742, 0.990918080533636, 0.984772710094855, 0.9921397386963839, 0.9918508981070422, 0.9841604675373484, 0.9840204848237715, 0.9898760330208939, 0.985624838944202, 0.9802219350812748, 0.9835432103900987, 0.98614666239647, 0.9858328819431085, 0.9841604675373484, 0.9823074797986693, 0.9865017275697983, 0.9862683108932842, 0.988933071457403, 0.9823074797986693, 0.985624838944202, 0.9823074797986693, 0.9906460228807072, 0.9823074797986693, 0.9807693850034518, 0.9862683108932842, 0.9863307845689837, 0.9920254302934026, 0.9884803382944378, 0.9823074797986693, 0.9858837603823507, 0.9823074797986693, 0.9884803382944378, 0.9906460228807072, 0.9823074797986693, 0.9887362211431822, 0.9919857751798701, 0.9823074797986693, 0.9909629100221373, 0.980879450993408, 0.9841604675373484, 0.9906460228807072, 0.9823074797986693, 0.9842266955585535, 0.9858543685057456, 0.9833699788054454, 0.9906460228807072, 0.9823074797986693, 0.990918080533636, 0.9884299230265153, 0.9836001069467897, 0.9840192858189754, 0.9916479253828654, 0.9828143033626543, 0.9872980856146827, 0.981876082837113, 0.9865315260241814, 0.9846658308313541, 0.980703394331385, 0.9827496797434058, 0.9924008088908777, 0.9837327498471504, 0.985624838944202, 0.9816272529801996, 0.9823074797986693, 0.9836267196355931, 0.985376623249961, 0.9808660487699461, 0.9838347046465729, 0.9823074797986693, 0.9823074797986693, 0.9823074797986693, 0.9889822846947288, 0.9844832293396975, 0.9823074797986693, 0.980971899072524, 0.9940516321184008, 0.9936892567971842, 0.990805148787461, 0.9916479253828654, 0.985559277330765, 0.9829384850386723, 0.9916479253828654, 0.9823074797986693, 0.985624838944202, 0.9906460228807072, 0.9884299230265153, 0.9916479253828654, 0.9918508981070422, 0.985624838944202, 0.9823074797986693, 0.9806035302142233, 0.9899967550277279, 0.9894186267023273, 0.9806846377759892, 0.9823074797986693, 0.9937598815720079, 0.9862565031528913, 0.9810065606280902, 0.9919857751798701, 0.985624838944202, 0.990918080533636, 0.993789987678028, 0.9823074797986693, 0.9906460228807072, 0.9823074797986693, 0.9823074797986693, 0.9868317268370094, 0.9918508981070422, 0.9941186509788676, 0.9873265246450156, 0.9831592321353891, 0.9878253332104618, 0.9883180835656279, 0.9916479253828654, 0.9889822846947288, 0.9892575489015111, 0.9911919493164539, 0.983728835633211, 0.9826918086221127, 0.9860260040989101, 0.9884299230265153, 0.9823074797986693, 0.9916479253828654, 0.9906460228807072, 0.9819705699902522, 0.9825122625757129, 0.9906460228807072, 0.9920693699138057, 0.9849856373148176, 0.9939205591545945, 0.9823074797986693, 0.9805515533403578, 0.9918508981070422, 0.9807253303078878, 0.9918508981070422, 0.9911913851666674, 0.9823074797986693, 0.9888912034232732, 0.9866590799635119, 0.9815445225206897, 0.9906460228807072, 0.9857729920199428, 0.9906460228807072, 0.9823074797986693, 0.9918508981070422, 0.9841604675373484, 0.9906460228807072, 0.9801873872938849, 0.985624838944202, 0.9828143033626543, 0.9832740474402352, 0.9906460228807072, 0.9823074797986693, 0.9882774542535443, 0.9923761056705, 0.9801823540544168, 0.9867069684453346, 0.9833866653365767, 0.9835424210995165, 0.9823074797986693, 0.9856545121128458, 0.9906460228807072, 0.9823074797986693, 0.985624838944202, 0.9864506073007291, 0.985624838944202, 0.985624838944202, 0.9800005286073997, 0.9806846377759892, 0.9949857332723911, 0.985624838944202, 0.9916479253828654, 0.9906460228807072, 0.9826822609031398, 0.9823074797986693, 0.9816045535993823, 0.9807924142789117, 0.9918508981070422, 0.9803819369747053, 0.9823074797986693, 0.9823074797986693, 0.9858543685057456, 0.9858543685057456, 0.9906460228807072, 0.985624838944202, 0.986478373162323, 0.9889768594340995, 0.9917360601820585, 0.9838788550615217, 0.9921397386963839, 0.9865599258230235, 0.9813907409719368, 0.9841604675373484, 0.9906460228807072, 0.9823074797986693, 0.9881180032472716, 0.9803892157161044, 0.990918080533636, 0.9839974876479315, 0.9918508981070422, 0.9902015054324871, 0.985624838944202, 0.9915676827204734, 0.9919857751798701, 0.9906460228807072, 0.9879872861181096, 0.9837762617105265, 0.9867542649663099, 0.9905621040019064, 0.985624838944202, 0.9886007992662277, 0.985624838944202, 0.9916479253828654, 0.9918508981070422, 0.9858122585878708, 0.9846461073864111, 0.9823074797986693, 0.985624838944202, 0.985624838944202, 0.9906460228807072, 0.9916479253828654, 0.9860367094547601, 0.9828155401804409, 0.9835096362997497, 0.9873910297208284, 0.985624838944202, 0.9877466548406051, 0.9906460228807072, 0.9823074797986693, 0.985624838944202, 0.985624838944202, 0.993789987678028, 0.9884299230265153, 0.9833071310288406, 0.9907946458592628, 0.9906460228807072, 0.9823084808632702, 0.985624838944202, 0.9864566750951084, 0.9915676827204734, 0.9884803382944378, 0.9841604675373484, 0.9920663181509954, 0.9823074797986693, 0.9884299230265153, 0.9825122147455089, 0.9915676827204734, 0.9858543685057456, 0.9826918086221127, 0.9831575568301449, 0.9906460228807072, 0.9823074797986693, 0.9918508981070422, 0.9905214224373631, 0.983698963741078, 0.9831582794453992, 0.9884365334075134, 0.9832499371387188, 0.985624838944202, 0.9893269340066263, 0.9931467814012271, 0.9823074797986693, 0.985624838944202, 0.993875907650404, 0.9918508981070422, 0.9884299230265153, 0.9823074797986693, 0.982030220124206, 0.9804542917210817, 0.9867359473738018, 0.9823074797986693, 0.9815951492073974, 0.9858483169025962, 0.9890228688784564, 0.9915676827204734, 0.9918508981070422, 0.9828594807916722, 0.9852054599448004, 0.9823074797986693, 0.9916479253828654, 0.9884299230265153, 0.9858543685057456, 0.9823074797986693, 0.9823074797986693, 0.9835647513647798, 0.9823074797986693, 0.985624838944202, 0.9807024683019973, 0.9884803382944378, 0.9823074797986693, 0.9877604519635963, 0.9921584610180584, 0.9875639723354748, 0.9823074797986693, 0.9823074797986693, 0.9803352619848892, 0.9823074797986693, 0.9919857751798701, 0.9884803382944378, 0.9880684311769851, 0.9823074797986693, 0.9884299230265153, 0.9918508981070422, 0.9844832293396975, 0.9929833573994319, 0.9916479253828654, 0.9823074797986693, 0.9846461073864111, 0.9916479253828654, 0.9823074797986693, 0.9864183201474453, 0.9817734738028673, 0.9841604675373484, 0.9816882475924686, 0.9838831477343328, 0.9922624451837293, 0.9896517795595723, 0.9833926028143606, 0.9884803382944378, 0.9853274354644264, 0.9831522769875679, 0.9914788441260617, 0.9863906589126447, 0.9822548430334292, 0.9823074797986693, 0.9823074797986693, 0.9845551997393864, 0.9884299230265153, 0.985624838944202, 0.985624838944202, 0.985624838944202, 0.9835134953014978, 0.990918080533636, 0.9937212253512291, 0.9858543685057456, 0.9846461073864111, 0.9882874200213962, 0.9842715789586443, 0.9868375399680093, 0.9915676827204734, 0.9877184135145775, 0.9916479253828654, 0.9858543685057456, 0.9804710469061646, 0.985624838944202, 0.9823074797986693, 0.9805796352302879, 0.9906460228807072, 0.9823074797986693, 0.9908713144760841, 0.986123317134594, 0.983748802618241, 0.9900309730880932, 0.9823074797986693, 0.9828616939893983, 0.9906460228807072, 0.9823074797986693, 0.9915676827204734, 0.9916479253828654, 0.9898589448036278, 0.9903814549181273, 0.9828143033626543, 0.9914146261085096, 0.9823074797986693, 0.9965962273879388, 0.9887983243633931, 0.9813078002089174, 0.9890464945127351, 0.9806846377759892, 0.9823074797986693, 0.9915254465284898, 0.9823074797986693, 0.9902329928384026, 0.9823074797986693, 0.9909394940204916, 0.985624838944202, 0.9884803382944378, 0.9885632983934844, 0.9850396427323843, 0.9823074797986693, 0.9918508981070422, 0.9853274354644264, 0.9884803382944378, 0.9809858632071594, 0.9830999393805006, 0.9911482955934563, 0.9828649640050949, 0.9854529627514674, 0.9915254465284898, 0.9858543685057456, 0.9808171831918295, 0.9918508981070422, 0.9820139461933435, 0.9909728588876627, 0.9915295182725964, 0.9822593332243587, 0.985624838944202, 0.985624838944202, 0.9921309253175318, 0.9830508802267679, 0.9823074797986693, 0.9823074797986693, 0.9823074797986693, 0.9823074797986693, 0.983051425973222, 0.9842255585612729, 0.9887888452111618, 0.9894519309769851, 0.9943762091623676, 0.9935755008592663, 0.985381050026892, 0.9859464592298992, 0.988933071457403, 0.9971317678807621, 0.9823074797986693, 0.9964533829953013, 0.9906460228807072, 0.9831694092518822, 0.9814069433527136, 0.9823074797986693, 0.9816683151665382, 0.985624838944202, 0.9841499358925895, 0.9823074797986693, 0.9858543685057456, 0.9857996968334247, 0.9915295182725964, 0.9906460228807072, 0.9823074797986693, 0.9828143033626543, 0.9823074797986693, 0.985624838944202, 0.9896626877640898, 0.9824459215083468, 0.9853964821568213, 0.9844832293396975, 0.9916479253828654, 0.9924218773836823, 0.9906460228807072, 0.9882282649971048, 0.9884504557573629, 0.9949329448658596, 0.9884803382944378, 0.9829611503456959, 0.9819691847537236, 0.9922479214782086, 0.985624838944202, 0.9829472989369545, 0.9906460228807072, 0.9823074797986693, 0.985624838944202, 0.9873363295589731, 0.9867695296078753, 0.9810788318917509, 0.9884299230265153, 0.985624838944202, 0.9862683108932842, 0.9836038618449897, 0.9823074797986693, 0.985624838944202, 0.9806195687984642, 0.9933984152934677, 0.9916479253828654, 0.9930162199766294, 0.9821276268675937, 0.9822510034253772, 0.990918080533636, 0.9823074797986693, 0.9823074797986693, 0.985624838944202, 0.9919217688303834, 0.9918508981070422, 0.9823074797986693, 0.9806719706383326, 0.9868113275725957, 0.9853116734142557, 0.9918508981070422, 0.9817227553985891, 0.9916479253828654, 0.9884803382944378, 0.985624838944202, 0.9916479253828654, 0.98607035676884, 0.990918080533636, 0.9812857297326859, 0.9896052377703265, 0.9916479253828654, 0.9918508981070422, 0.9844832293396975, 0.984923961042867, 0.9860912041191371, 0.991684113207075, 0.9823074797986693, 0.9813528279911343, 0.9820856682760963, 0.9823074797986693, 0.9829611503456959, 0.9823074797986693, 0.9940863045619193, 0.9836503585501492, 0.9906460228807072, 0.9858543685057456, 0.9823074797986693, 0.985624838944202, 0.9872062094303331, 0.9894560211455515, 0.9823778965812467, 0.9921397386963839, 0.9814255109807266, 0.9899050342079637, 0.987188571066123, 0.9922580241691489, 0.9906589833327571, 0.9874044184211394, 0.984072055857947, 0.9918436988944057, 0.9823074797986693, 0.9823074797986693]\n",
            "[63, 91, 137, 145, 225, 279, 296, 332, 346, 356, 569, 775, 836, 874, 888, 908, 972, 987, 992, 1016, 1089, 1186, 1336, 1442, 1458, 1464, 1480, 1529, 1545, 1604, 1707, 1876, 1984, 2010, 2021, 2022, 2084, 2093, 2150, 2204, 2223, 2265, 2378, 2467, 2515, 2566, 2584, 2616, 2633, 2650, 2659, 2685, 2699, 2715, 2725, 3016, 3066, 3096, 3098, 3106, 3429, 3437, 3440, 3447, 3610, 3653, 3677, 3697, 3953, 3956, 3982, 4079, 4115, 4203, 4256, 4287, 4295, 4312, 4394, 4399, 4449, 4451, 4466, 4489, 4493, 4516, 4908, 4941, 4956, 5014, 5017, 5022, 5064, 5091, 5149, 5176, 5185, 5204, 5233, 5369, 5472, 5535, 5549, 5563, 5585, 5642, 5647, 5667, 5676, 5690, 5764, 5786, 5816, 5821, 5846, 5888, 5973, 6000, 6034, 6095, 6109, 6183, 6261, 6280, 6305, 6388, 6585, 6673, 6693, 6746, 6769, 6812, 6848, 6954, 6960, 6968, 6976, 6981, 6996, 7059, 7242, 7302, 7377, 7390, 7508, 7517, 7520, 7523, 7588, 7644, 7712, 7728, 7758, 7824, 7909, 7925, 8017, 8024, 8101, 8116, 8209, 8268, 8403, 8516, 8526, 8569, 8638, 8641, 8644, 8660, 8687, 8710, 8721, 8796, 8860, 8882, 8927, 9089, 9115, 9196, 9211, 9395, 9410, 9427, 9487, 9671, 9684, 9734, 9739, 9858, 10007, 10037, 10056, 10068, 10123, 10134, 10208, 10216, 10223, 10248, 10297, 10419, 10526, 10595, 10604, 10643, 10694, 10809, 10847, 10931, 10945, 10947, 10966, 11062, 11188, 11218, 11523, 11673, 11775, 11781, 11844, 11917, 11962, 11989, 12167, 12193, 12195, 12330, 12361, 12429, 12455, 12503, 12547, 12587, 12623, 12634, 12766, 12823, 12846, 12940, 12993, 13137, 13178, 13226, 13251, 13286, 13313, 13411, 13476, 13657, 13684, 13846, 13888, 14009, 14075, 14107, 14113, 14124, 14150, 14241, 14257, 14260, 14317, 14329, 14340, 14357, 14388, 14408, 14429, 14820, 14921, 14959, 15010, 15016, 15058, 15082, 15084, 15085, 15185, 15193, 15209, 15252, 15264, 15276, 15343, 15449, 15474, 15475, 15476, 15573, 15651, 15664, 15715, 15734, 15841, 15855, 15929, 16152, 16192, 16217, 16262, 16320, 16370, 16463, 16493, 16500, 16571, 16617, 16634, 16716, 16724, 16761, 16782, 16785, 16810, 16811, 17045, 17164, 17245, 17268, 17278, 17316, 17322, 17391, 17414, 17453, 17472, 17508, 17531, 17545, 17563, 17656, 17795, 17828, 17842, 17915, 18045, 18063, 18090, 18154, 18161, 18224, 18230, 18285, 18310, 18338, 18447, 18460, 18468, 18495, 18564, 18613, 18631, 18724, 18740, 18765, 18817, 18861, 18878, 18895, 18922, 18953, 18977, 19001, 19055, 19103, 19225, 19351, 19385, 19392, 19398, 19405, 19455, 19456, 19458, 19692, 19732, 19843, 19878, 20045, 20064, 20101, 20104, 20120, 20308, 20383, 20408, 20458, 20516, 20623, 20634, 20724, 20809, 20841, 20858, 20879, 20906, 20971, 21002, 21053, 21056, 21085, 21122, 21126, 21218, 21247, 21282, 21311, 21442, 21444, 21469, 21486, 21495, 21633, 21665, 21707, 21723, 21767, 21771, 21828, 21856, 21933, 21989, 22110, 22202, 22246, 22322, 22349, 22501, 22553, 22586, 22702, 22751, 22797, 22824, 22955, 22992, 22994, 23013, 23060, 23077, 23082, 23123, 23148, 23168, 23202, 23226, 23303, 23416, 23442, 23445, 23466, 23543, 23557, 23570, 23610, 23660, 23778, 23797, 23847, 23909, 23944, 23959, 23981, 24046, 24060, 24078, 24214, 24227, 24240, 24244, 24290, 24541, 24728, 24763, 24797, 24853, 24861, 24878, 24885, 24931, 25061, 25207, 25230, 25576, 25650, 25658, 25667, 25742, 25832, 25860, 25890, 25914, 25942, 25983, 26015, 26068, 26095, 26117, 26120, 26167, 26288, 26436, 26493, 26509, 26532, 26651, 26865, 26887, 26900, 27071, 27103, 27143, 27203, 27235, 27319, 27335, 27376, 27409, 27442, 27483, 27523, 27539, 27578, 27582, 27597, 27603, 27622, 27666, 27692, 27744, 27764, 27854, 27907, 27944, 28120, 28175, 28220, 28401, 28457, 28741, 28827, 28845, 29027, 29107, 29112, 29124, 29147, 29165, 29201, 29241, 29281, 29355, 29624, 29630, 29689, 29702, 29967, 30078, 30142, 30244, 30312, 30322, 30354, 30361, 30382, 30423, 30464, 30522, 30541, 30586, 30599, 30686, 30699, 30700, 30768, 30796, 30854, 30884, 30953, 31001, 31036, 31040, 31075, 31138, 31394, 31468, 31549, 31566, 31573, 31586, 31689, 31706, 31757, 31781, 31789, 31793, 31872, 31879, 31889, 32003, 32093, 32256, 32327, 32351, 32415, 32450, 32596, 32615, 32640, 32710, 32730, 32764, 32774, 32913, 32946, 33000, 33211, 33270, 33396, 33540, 33563, 33577, 33584, 33619, 33699, 33742, 33751, 33762, 33812, 33970, 34014, 34082, 34106, 34143, 34188, 34234, 34286, 34518, 34534, 34540, 34711, 34734, 34883, 34971, 34999, 35029, 35094, 35124, 35149, 35191, 35225, 35236, 35239, 35251, 35291, 35348, 35370, 35388, 35457, 35535, 35549, 35728, 35769, 35811, 35861, 35900, 35910, 36035, 36064, 36108, 36135, 36156, 36277, 36290, 36342, 36427, 36453, 36514, 36567, 36599, 36628, 36658, 36674, 36790, 36834, 36900, 36903, 36906, 37132, 37136, 37155, 37171, 37208, 37289, 37421, 37445, 37456, 37472, 37535, 37603, 37629, 37649, 37738, 37756, 37777, 37831, 37945, 38011, 38039, 38249, 38323, 38378, 38421, 38446, 38593, 38621, 38644, 38672, 38724, 38731, 38821, 39228, 39244, 39265, 39318, 39401, 39411, 39432, 39470, 39471, 39475, 39477, 39480, 39494, 39527, 39559, 39582, 39701, 39724, 39757, 39822, 39856, 39904, 39926, 39973, 40014, 40066, 40067, 40076, 40083, 40148, 40256, 40340, 40380, 40435, 40544, 40628, 40678, 40692, 40722, 40862, 40863, 40879, 40890, 40901, 40932, 41001, 41035, 41079, 41267, 41305, 41355, 41389, 41398, 41496, 41566, 41736, 41793, 41830, 41891, 41899, 41916, 42139, 42236, 42253, 42263, 42296, 42362, 42370, 42395, 42563, 42704, 42745, 42829, 42906, 42971, 42998, 43067, 43138, 43216, 43265, 43483, 43509, 43541, 43575, 43630, 43829, 43864, 43988, 43992, 44030, 44077, 44154, 44184, 44188, 44190, 44191, 44281, 44344, 44367, 44429, 44436, 44511, 44551, 44562, 44673, 44711, 44774, 44934, 45060, 45095, 45098, 45141, 45152, 45194, 45210, 45280, 45472, 45633, 45705, 45744, 45769, 45858, 46121, 46170, 46206, 46300, 46370, 46402, 46427, 46471, 46512, 46545, 46554, 46602, 46630, 46640, 47021, 47057, 47271, 47277, 47327, 47360, 47387, 47423, 47485, 47712, 47758, 47780, 47897, 48040, 48050, 48057, 48077, 48078, 48104, 48142, 48160, 48182, 48219, 48232, 48255, 48268, 48293, 48381, 48415, 48451, 48479, 48565, 48623, 48631, 48755, 48771, 48981, 49076, 49256, 49384, 49455, 49534, 49567, 49762, 49775, 49985, 49991, 49997, 50065, 50118, 50143, 50260, 50274, 50278, 50384, 50433, 50520, 50527, 50528, 50543, 50544, 50585, 50593, 50664, 50689, 50692, 50785, 50810, 50816, 51044, 51104, 51106, 51115, 51118, 51120, 51122, 51123, 51233, 51311, 51321, 51341, 51366, 51403, 51431, 51451, 51497, 51615, 51746, 51860, 51899, 52023, 52092, 52129, 52189, 52244, 52472, 52593, 52677, 52680, 52682, 52703, 52713, 52795, 52857, 52871, 52877, 52895, 52916, 52986, 53111, 53209, 53297, 53351, 53403, 53451, 53512, 53525, 53617, 53645, 53654, 53690, 53745, 53772, 53831, 53832, 53836, 54065, 54291, 54300, 54304, 54307, 54315, 54366, 54388, 54472, 54540, 54659, 54847, 54922, 54936, 55020, 55028, 55054, 55320, 55341, 55352, 55394, 55450, 55455, 55523, 55538, 55546, 55577, 55579, 55580, 55640, 55713, 55723, 55778, 55799, 55845, 55866, 55900, 55908, 55928, 55936, 55983, 56088, 56165, 56175, 56247, 56300, 56317, 56334, 56442, 56531, 56583, 56606, 56670, 56760, 56872, 56890, 57077, 57084, 57090, 57120, 57285, 57306, 57346, 57393, 57399, 57469, 57471, 57483, 57578, 57586, 57699, 57881, 57945, 57958, 57965, 57971, 58009, 58035, 58042, 58045, 58106, 58107, 58110, 58127, 58156, 58231, 58242, 58252, 58255, 58260, 58292, 58466, 58479, 58561, 58617, 58673, 58682, 58684, 58686, 58702, 58723, 58786, 58823, 59071, 59072, 59096, 59141, 59179, 59183, 59196, 59204, 59230, 59235, 59254, 59318, 59348, 59362, 59387, 59407, 59503, 59528, 59569, 59649, 59665, 59685, 59688, 59755, 59806, 59873, 59936, 59940, 60098, 60136, 60161, 60319, 60368, 60405, 60421, 60445, 60487, 60623, 60630, 60631, 60632, 60671, 60687, 60706, 60726, 60745, 60852, 60872, 60953, 60973, 61009, 61014, 61190, 61225, 61277, 61321, 61339, 61427, 61478, 61566, 61569, 61724, 61767, 61858, 61884, 61887, 61897, 61911, 62009, 62048, 62229, 62264, 62394, 62403, 62451, 62479, 62561, 62637, 62711, 62723, 62749, 62814, 62844, 62885, 62897, 62950, 63013, 63028, 63031, 63068, 63097, 63102, 63116, 63233, 63347, 63371, 63513, 63659, 63692, 63744, 63761, 63775, 63797, 63840, 63958, 63978, 63996, 64066, 64095, 64127, 64153, 64163, 64168, 64211, 64219, 64239, 64325, 64377, 64409, 64492, 64494, 64520, 64539, 64650, 64653, 64654, 64658, 64661, 64686, 64690, 64704, 64741, 64803, 64816, 64862, 64864, 64866, 64892, 65053, 65064, 65107, 65200, 65215, 65225, 65248, 65283, 65303, 65428, 65441, 65869, 65987, 66034, 66049, 66091, 66114, 66288, 66304, 66340, 66545, 66666, 66684, 66734, 66837, 67091, 67194, 67198, 67207, 67222, 67256, 67313, 67369, 67402, 67431, 67583, 67748, 67756, 67765, 67801, 67826, 67844, 67893, 67987, 67999, 68003, 68076, 68159, 68273, 68357, 68381, 68601, 68652, 68719, 68774, 68789, 68812, 68879, 68894, 68947, 69039, 69048, 69049, 69053, 69115, 69134, 69136, 69361, 69464, 69537, 69558, 69683, 69693, 69694, 69698, 69928, 69934, 69939, 69973, 69998, 70008, 70041, 70118, 70127, 70171, 70234, 70260, 70303, 70321, 70344, 70407, 70511, 70520, 70578, 70587, 70739, 70864, 70879, 70905, 70975, 71045, 71054, 71073, 71151, 71187, 71223, 71262, 71302, 71310, 71338, 71339, 71401, 71440, 71451, 71484, 71501, 71551, 71773, 71976, 72039, 72074, 72090, 72398, 72425, 72530, 72655, 72691, 72866, 72983, 73089, 73096, 73141, 73227, 73258, 73268, 73275, 73316, 73544, 73593, 73605, 73738, 73764, 73796, 73831, 73865, 73944, 74034, 74060, 74082, 74170, 74178, 74202, 74252, 74269, 74383, 74424, 74433, 74465, 74494, 74589, 74611, 74617, 74674, 74691, 74784, 74798, 74807, 74811, 74940, 75002, 75119, 75187, 75196, 75201, 75279, 75359, 75386, 75506, 75563, 75569, 75621, 75625, 75638, 75640, 75657, 75819, 75986, 75991, 76056, 76080, 76126, 76167, 76200, 76205, 76230, 76263, 76327, 76471, 76493, 76588, 76614, 76641, 76683, 76796, 76814, 76848, 76883, 76896, 76959, 77074, 77200, 77367, 77382, 77401, 77413, 77444, 77449, 77498, 77506, 77507, 77508, 77533, 77547, 77583, 77689, 77695, 77744, 77790, 77819, 77846, 77879, 77883, 77885, 77886, 77889, 77925, 77988, 78010, 78029, 78030, 78033, 78102, 78133, 78163, 78174, 78272, 78341, 78398, 78414, 78446, 78487, 78519, 78537, 78588, 78602, 78607, 78932, 78939, 78952, 79018, 79110, 79111, 79124, 79174, 79189, 79220, 79294, 79359, 79437, 79467, 79616, 79624, 79670, 79678, 79692, 79705, 79722, 79727, 79743, 79868, 79869, 79878, 79900, 79928, 80043, 80057, 80101, 80125, 80597, 80614, 80702, 80726, 80749, 80795, 80888, 80907, 80928, 80941, 81001, 81026, 81083, 81093, 81383, 81405, 81446, 81554, 81638, 81740, 81745, 81781, 81784, 81785, 81954, 82097, 82121, 82257, 82349, 82361, 82371, 82399, 82445, 82478, 82946, 83093, 83166, 83180, 83191, 83269, 83274, 83624, 83644, 83646, 83680, 83754, 83838, 83856, 83884, 83903, 83926, 83952, 83972, 84010, 84044, 84131, 84162, 84191, 84192, 84208, 84267, 84296, 84318, 84343, 84358, 84376, 84401, 84446, 84451, 84464, 84499, 84637, 84671, 84693, 84712, 84729, 84847, 84861, 84883, 84932, 84962, 85020, 85038, 85063, 85067, 85081, 85092, 85181, 85299, 85489, 85658, 85671, 85681, 85784, 85804, 85849, 85946, 85971, 85982, 86001, 86066, 86250, 86253, 86263, 86267, 86372, 86383, 86426, 86609, 86636, 86669, 86717, 86726, 86755, 86767, 86878, 86927, 86943, 87001, 87088, 87093, 87164, 87188, 87229, 87268, 87273, 87372, 87374, 87431, 87478, 87536, 87550, 87677, 87702, 87807, 87846, 87861, 87873, 87915, 87940, 87958, 87977, 88152, 88177, 88324, 88388, 88405, 88433, 88442, 88450, 88451, 88491, 88492, 88520, 88556, 88588, 88881, 88905, 88932, 88989, 89055, 89071, 89111, 89185, 89234, 89261, 89269, 89305, 89344, 89467, 89529, 89548, 89643, 89648, 89691, 89878, 89998, 90067, 90089, 90095, 90187, 90279, 90294, 90331, 90716, 90721, 90730, 90819, 90908, 90962, 90988, 91038, 91083, 91123, 91128, 91201, 91395, 91547, 91646, 91652, 91713, 91732, 91797, 91962, 92052, 92073, 92164, 92233, 92289, 92490, 92536, 92565, 92590, 92595, 92620, 92631, 92646, 92668, 92696, 92704, 92713, 92729, 92849, 92871, 93171, 93177, 93246, 93314, 93384, 93575, 93597, 93664, 93677, 93729, 93813, 93867, 93956, 94056, 94103, 94113, 94129, 94130, 94133, 94154, 94182, 94185, 94186, 94197, 94206, 94317, 94496, 94510, 94627, 94641, 94691, 94762, 94810, 94860, 95054, 95146, 95151, 95271, 95379, 95478, 95499, 95576, 95690, 96037, 96039, 96097, 96146, 96170, 96191, 96197, 96205, 96206, 96212, 96275, 96339, 96423, 96442, 96477, 96496, 96598, 96629, 96643, 96694, 96735, 96805, 96864, 96907, 96992, 97022, 97058, 97154, 97190, 97334, 97357, 97384, 97403, 97409, 97411, 97505, 97525, 97573, 97631, 97671, 97700, 97725, 97929, 97930, 97945, 97955, 97997, 98018, 98173, 98298, 98332, 98364, 98432, 98474, 98503, 98517, 98548, 98695, 98702, 98717, 98783, 98806, 98809, 98834, 98966, 99117, 99124, 99155, 99163, 99220, 99245, 99252, 99288, 99292, 99312, 99424, 99428, 99439, 99445, 99447, 99621, 99631, 99660, 99811, 99869, 99968]\n",
            "<class 'list'>\n",
            "1866\n",
            "1866\n",
            "1866\n"
          ],
          "name": "stdout"
        }
      ]
    },
    {
      "cell_type": "code",
      "metadata": {
        "colab": {
          "base_uri": "https://localhost:8080/",
          "height": 223
        },
        "id": "3CP0hFCGmeps",
        "outputId": "b71be843-8d7e-4297-abff-57eaf6a94633"
      },
      "source": [
        "unlabel_1 = unlabel_1.loc[pos,:]\n",
        "print(len(unlabel_1))\n",
        "unlabel_1.head()"
      ],
      "execution_count": 36,
      "outputs": [
        {
          "output_type": "stream",
          "text": [
            "1866\n"
          ],
          "name": "stdout"
        },
        {
          "output_type": "execute_result",
          "data": {
            "text/html": [
              "<div>\n",
              "<style scoped>\n",
              "    .dataframe tbody tr th:only-of-type {\n",
              "        vertical-align: middle;\n",
              "    }\n",
              "\n",
              "    .dataframe tbody tr th {\n",
              "        vertical-align: top;\n",
              "    }\n",
              "\n",
              "    .dataframe thead th {\n",
              "        text-align: right;\n",
              "    }\n",
              "</style>\n",
              "<table border=\"1\" class=\"dataframe\">\n",
              "  <thead>\n",
              "    <tr style=\"text-align: right;\">\n",
              "      <th></th>\n",
              "      <th>text</th>\n",
              "    </tr>\n",
              "  </thead>\n",
              "  <tbody>\n",
              "    <tr>\n",
              "      <th>63</th>\n",
              "      <td>reason stated judgment reversed cause remanded</td>\n",
              "    </tr>\n",
              "    <tr>\n",
              "      <th>91</th>\n",
              "      <td>error indicated judgment trial court reversed ...</td>\n",
              "    </tr>\n",
              "    <tr>\n",
              "      <th>137</th>\n",
              "      <td>reason heretofore given judgment reversed caus...</td>\n",
              "    </tr>\n",
              "    <tr>\n",
              "      <th>145</th>\n",
              "      <td>error pointed judgment trial court reversed ca...</td>\n",
              "    </tr>\n",
              "    <tr>\n",
              "      <th>225</th>\n",
              "      <td>finding reversible error judgment affirmed</td>\n",
              "    </tr>\n",
              "  </tbody>\n",
              "</table>\n",
              "</div>"
            ],
            "text/plain": [
              "                                                  text\n",
              "63      reason stated judgment reversed cause remanded\n",
              "91   error indicated judgment trial court reversed ...\n",
              "137  reason heretofore given judgment reversed caus...\n",
              "145  error pointed judgment trial court reversed ca...\n",
              "225         finding reversible error judgment affirmed"
            ]
          },
          "metadata": {
            "tags": []
          },
          "execution_count": 36
        }
      ]
    },
    {
      "cell_type": "code",
      "metadata": {
        "id": "d9b982rWn7yp"
      },
      "source": [
        "class_x_un1 = tfidf_vect.transform(unlabel_1['text'])"
      ],
      "execution_count": 37,
      "outputs": []
    },
    {
      "cell_type": "code",
      "metadata": {
        "colab": {
          "base_uri": "https://localhost:8080/"
        },
        "id": "wYbothjXoHlA",
        "outputId": "3ac7c3ce-47c5-4860-fa0a-b21e3f88401d"
      },
      "source": [
        "class_x_un1.shape"
      ],
      "execution_count": 38,
      "outputs": [
        {
          "output_type": "execute_result",
          "data": {
            "text/plain": [
              "(1866, 7374)"
            ]
          },
          "metadata": {
            "tags": []
          },
          "execution_count": 38
        }
      ]
    },
    {
      "cell_type": "code",
      "metadata": {
        "colab": {
          "base_uri": "https://localhost:8080/"
        },
        "id": "08H5ufiaoKXE",
        "outputId": "6c1e2831-ca89-4286-ad1d-e5c606e273a5"
      },
      "source": [
        "class_pred_unlabel_1 = classifier.predict(class_x_un1)\n",
        "class_pred_unlabel_1"
      ],
      "execution_count": 39,
      "outputs": [
        {
          "output_type": "execute_result",
          "data": {
            "text/plain": [
              "array(['Conclusion', 'Conclusion', 'Conclusion', ..., 'Facts',\n",
              "       'Conclusion', 'Conclusion'], dtype=object)"
            ]
          },
          "metadata": {
            "tags": []
          },
          "execution_count": 39
        }
      ]
    },
    {
      "cell_type": "code",
      "metadata": {
        "colab": {
          "base_uri": "https://localhost:8080/"
        },
        "id": "mJfwhijUoSxL",
        "outputId": "24352f5a-813c-464c-c477-bdbef6fbcea9"
      },
      "source": [
        "print(len(class_pred_unlabel_1))"
      ],
      "execution_count": 40,
      "outputs": [
        {
          "output_type": "stream",
          "text": [
            "1866\n"
          ],
          "name": "stdout"
        }
      ]
    },
    {
      "cell_type": "code",
      "metadata": {
        "colab": {
          "base_uri": "https://localhost:8080/"
        },
        "id": "iXx1r0vO1Psf",
        "outputId": "5b824e9a-188d-4f00-8806-fc19b4162e4c"
      },
      "source": [
        "class_x_un1.shape"
      ],
      "execution_count": 41,
      "outputs": [
        {
          "output_type": "execute_result",
          "data": {
            "text/plain": [
              "(1866, 7374)"
            ]
          },
          "metadata": {
            "tags": []
          },
          "execution_count": 41
        }
      ]
    },
    {
      "cell_type": "code",
      "metadata": {
        "id": "bM3JE7GM2FaQ"
      },
      "source": [
        ""
      ],
      "execution_count": 41,
      "outputs": []
    },
    {
      "cell_type": "code",
      "metadata": {
        "colab": {
          "base_uri": "https://localhost:8080/"
        },
        "id": "twRLn99xI67S",
        "outputId": "64d2bcf1-2a39-4e0d-d027-b2fa0b156f26"
      },
      "source": [
        "type(class_pred_unlabel_1)"
      ],
      "execution_count": 42,
      "outputs": [
        {
          "output_type": "execute_result",
          "data": {
            "text/plain": [
              "numpy.ndarray"
            ]
          },
          "metadata": {
            "tags": []
          },
          "execution_count": 42
        }
      ]
    },
    {
      "cell_type": "code",
      "metadata": {
        "id": "pd93F5cfJCFJ"
      },
      "source": [
        ""
      ],
      "execution_count": 42,
      "outputs": []
    },
    {
      "cell_type": "code",
      "metadata": {
        "colab": {
          "base_uri": "https://localhost:8080/"
        },
        "id": "Naw-k9a1JJ-v",
        "outputId": "d721125b-7dd8-4c72-bd95-903e062c18b2"
      },
      "source": [
        "unlabel_1.columns"
      ],
      "execution_count": 43,
      "outputs": [
        {
          "output_type": "execute_result",
          "data": {
            "text/plain": [
              "Index(['text'], dtype='object')"
            ]
          },
          "metadata": {
            "tags": []
          },
          "execution_count": 43
        }
      ]
    },
    {
      "cell_type": "code",
      "metadata": {
        "colab": {
          "base_uri": "https://localhost:8080/"
        },
        "id": "YdmoJA0_JdAv",
        "outputId": "d03a4819-9e50-4ce7-f24f-3067be9ee5f4"
      },
      "source": [
        "len(unlabel_1['text'])"
      ],
      "execution_count": 44,
      "outputs": [
        {
          "output_type": "execute_result",
          "data": {
            "text/plain": [
              "1866"
            ]
          },
          "metadata": {
            "tags": []
          },
          "execution_count": 44
        }
      ]
    },
    {
      "cell_type": "code",
      "metadata": {
        "colab": {
          "base_uri": "https://localhost:8080/"
        },
        "id": "zH3Zho6pJqf7",
        "outputId": "954431b6-4997-4bda-99f5-60a5630d9380"
      },
      "source": [
        "type(unlabel_1['text'])"
      ],
      "execution_count": 45,
      "outputs": [
        {
          "output_type": "execute_result",
          "data": {
            "text/plain": [
              "pandas.core.series.Series"
            ]
          },
          "metadata": {
            "tags": []
          },
          "execution_count": 45
        }
      ]
    },
    {
      "cell_type": "code",
      "metadata": {
        "colab": {
          "base_uri": "https://localhost:8080/",
          "height": 205
        },
        "id": "NW2nq09ToWsM",
        "outputId": "95d4bbd9-dd38-4b21-a61f-215ac04f6cde"
      },
      "source": [
        "unlabel_1['Target']=class_pred_unlabel_1\n",
        "unlabel_1.head()"
      ],
      "execution_count": 46,
      "outputs": [
        {
          "output_type": "execute_result",
          "data": {
            "text/html": [
              "<div>\n",
              "<style scoped>\n",
              "    .dataframe tbody tr th:only-of-type {\n",
              "        vertical-align: middle;\n",
              "    }\n",
              "\n",
              "    .dataframe tbody tr th {\n",
              "        vertical-align: top;\n",
              "    }\n",
              "\n",
              "    .dataframe thead th {\n",
              "        text-align: right;\n",
              "    }\n",
              "</style>\n",
              "<table border=\"1\" class=\"dataframe\">\n",
              "  <thead>\n",
              "    <tr style=\"text-align: right;\">\n",
              "      <th></th>\n",
              "      <th>text</th>\n",
              "      <th>Target</th>\n",
              "    </tr>\n",
              "  </thead>\n",
              "  <tbody>\n",
              "    <tr>\n",
              "      <th>63</th>\n",
              "      <td>reason stated judgment reversed cause remanded</td>\n",
              "      <td>Conclusion</td>\n",
              "    </tr>\n",
              "    <tr>\n",
              "      <th>91</th>\n",
              "      <td>error indicated judgment trial court reversed ...</td>\n",
              "      <td>Conclusion</td>\n",
              "    </tr>\n",
              "    <tr>\n",
              "      <th>137</th>\n",
              "      <td>reason heretofore given judgment reversed caus...</td>\n",
              "      <td>Conclusion</td>\n",
              "    </tr>\n",
              "    <tr>\n",
              "      <th>145</th>\n",
              "      <td>error pointed judgment trial court reversed ca...</td>\n",
              "      <td>Conclusion</td>\n",
              "    </tr>\n",
              "    <tr>\n",
              "      <th>225</th>\n",
              "      <td>finding reversible error judgment affirmed</td>\n",
              "      <td>Conclusion</td>\n",
              "    </tr>\n",
              "  </tbody>\n",
              "</table>\n",
              "</div>"
            ],
            "text/plain": [
              "                                                  text      Target\n",
              "63      reason stated judgment reversed cause remanded  Conclusion\n",
              "91   error indicated judgment trial court reversed ...  Conclusion\n",
              "137  reason heretofore given judgment reversed caus...  Conclusion\n",
              "145  error pointed judgment trial court reversed ca...  Conclusion\n",
              "225         finding reversible error judgment affirmed  Conclusion"
            ]
          },
          "metadata": {
            "tags": []
          },
          "execution_count": 46
        }
      ]
    },
    {
      "cell_type": "code",
      "metadata": {
        "id": "w-zJuUMlKUbM"
      },
      "source": [
        ""
      ],
      "execution_count": 46,
      "outputs": []
    },
    {
      "cell_type": "code",
      "metadata": {
        "id": "-jT-ztBq1ZaF"
      },
      "source": [
        "class_x_un1_new = tfidf_vect.transform(unlabel_1['text'])"
      ],
      "execution_count": 47,
      "outputs": []
    },
    {
      "cell_type": "code",
      "metadata": {
        "colab": {
          "base_uri": "https://localhost:8080/"
        },
        "id": "pvOABAzo1b3Z",
        "outputId": "eb182adc-4155-46e6-bd98-108bc0f8c746"
      },
      "source": [
        "class_x_un1_new.shape"
      ],
      "execution_count": 48,
      "outputs": [
        {
          "output_type": "execute_result",
          "data": {
            "text/plain": [
              "(1866, 7374)"
            ]
          },
          "metadata": {
            "tags": []
          },
          "execution_count": 48
        }
      ]
    },
    {
      "cell_type": "code",
      "metadata": {
        "colab": {
          "base_uri": "https://localhost:8080/"
        },
        "id": "b6Pf0E1xxFZn",
        "outputId": "5c801ba0-e178-4e56-fe87-f68b5eb7330e"
      },
      "source": [
        "unlabel_1.shape"
      ],
      "execution_count": 49,
      "outputs": [
        {
          "output_type": "execute_result",
          "data": {
            "text/plain": [
              "(1866, 2)"
            ]
          },
          "metadata": {
            "tags": []
          },
          "execution_count": 49
        }
      ]
    },
    {
      "cell_type": "code",
      "metadata": {
        "colab": {
          "base_uri": "https://localhost:8080/"
        },
        "id": "0-AMH0C0zaIR",
        "outputId": "25bdd71a-91f6-4532-b4e9-9da8e694eead"
      },
      "source": [
        "X_tfidf = tfidf_vect.transform(unlabel_1['text'])\n",
        "print(X_tfidf.shape)"
      ],
      "execution_count": 50,
      "outputs": [
        {
          "output_type": "stream",
          "text": [
            "(1866, 7374)\n"
          ],
          "name": "stdout"
        }
      ]
    },
    {
      "cell_type": "code",
      "metadata": {
        "colab": {
          "base_uri": "https://localhost:8080/",
          "height": 205
        },
        "id": "R6Kd0TxYob2a",
        "outputId": "d951f6e1-519c-46b3-a23a-77ba21936080"
      },
      "source": [
        "train.head()"
      ],
      "execution_count": 51,
      "outputs": [
        {
          "output_type": "execute_result",
          "data": {
            "text/html": [
              "<div>\n",
              "<style scoped>\n",
              "    .dataframe tbody tr th:only-of-type {\n",
              "        vertical-align: middle;\n",
              "    }\n",
              "\n",
              "    .dataframe tbody tr th {\n",
              "        vertical-align: top;\n",
              "    }\n",
              "\n",
              "    .dataframe thead th {\n",
              "        text-align: right;\n",
              "    }\n",
              "</style>\n",
              "<table border=\"1\" class=\"dataframe\">\n",
              "  <thead>\n",
              "    <tr style=\"text-align: right;\">\n",
              "      <th></th>\n",
              "      <th>Unnamed: 0</th>\n",
              "      <th>Sentence</th>\n",
              "      <th>Target</th>\n",
              "    </tr>\n",
              "  </thead>\n",
              "  <tbody>\n",
              "    <tr>\n",
              "      <th>1364</th>\n",
              "      <td>239</td>\n",
              "      <td>\"(I)n the First Amendment area 'government may...</td>\n",
              "      <td>Invalid</td>\n",
              "    </tr>\n",
              "    <tr>\n",
              "      <th>1833</th>\n",
              "      <td>185</td>\n",
              "      <td>\"... that nowhere in the statute was it stated...</td>\n",
              "      <td>Invalid</td>\n",
              "    </tr>\n",
              "    <tr>\n",
              "      <th>2431</th>\n",
              "      <td>415</td>\n",
              "      <td>\"Although a statute may be neither vague, over...</td>\n",
              "      <td>Rule/Law/Holding</td>\n",
              "    </tr>\n",
              "    <tr>\n",
              "      <th>2245</th>\n",
              "      <td>416</td>\n",
              "      <td>\"For even when pursuing a legitimate interest,...</td>\n",
              "      <td>Rule/Law/Holding</td>\n",
              "    </tr>\n",
              "    <tr>\n",
              "      <th>1561</th>\n",
              "      <td>25</td>\n",
              "      <td>\"If an indictment has been found or accusation...</td>\n",
              "      <td>Facts</td>\n",
              "    </tr>\n",
              "  </tbody>\n",
              "</table>\n",
              "</div>"
            ],
            "text/plain": [
              "      Unnamed: 0  ...            Target\n",
              "1364         239  ...           Invalid\n",
              "1833         185  ...           Invalid\n",
              "2431         415  ...  Rule/Law/Holding\n",
              "2245         416  ...  Rule/Law/Holding\n",
              "1561          25  ...             Facts\n",
              "\n",
              "[5 rows x 3 columns]"
            ]
          },
          "metadata": {
            "tags": []
          },
          "execution_count": 51
        }
      ]
    },
    {
      "cell_type": "code",
      "metadata": {
        "colab": {
          "base_uri": "https://localhost:8080/"
        },
        "id": "jXQMzaBqohmY",
        "outputId": "feac5f03-9cff-4f58-9d6d-41bcd369aa09"
      },
      "source": [
        "train.shape"
      ],
      "execution_count": 52,
      "outputs": [
        {
          "output_type": "execute_result",
          "data": {
            "text/plain": [
              "(4416, 3)"
            ]
          },
          "metadata": {
            "tags": []
          },
          "execution_count": 52
        }
      ]
    },
    {
      "cell_type": "code",
      "metadata": {
        "colab": {
          "base_uri": "https://localhost:8080/",
          "height": 205
        },
        "id": "YlfjJmKsolm0",
        "outputId": "073a2a4e-c83e-49d2-d252-92ab176a8d2d"
      },
      "source": [
        "unlabel_1.head()"
      ],
      "execution_count": 53,
      "outputs": [
        {
          "output_type": "execute_result",
          "data": {
            "text/html": [
              "<div>\n",
              "<style scoped>\n",
              "    .dataframe tbody tr th:only-of-type {\n",
              "        vertical-align: middle;\n",
              "    }\n",
              "\n",
              "    .dataframe tbody tr th {\n",
              "        vertical-align: top;\n",
              "    }\n",
              "\n",
              "    .dataframe thead th {\n",
              "        text-align: right;\n",
              "    }\n",
              "</style>\n",
              "<table border=\"1\" class=\"dataframe\">\n",
              "  <thead>\n",
              "    <tr style=\"text-align: right;\">\n",
              "      <th></th>\n",
              "      <th>text</th>\n",
              "      <th>Target</th>\n",
              "    </tr>\n",
              "  </thead>\n",
              "  <tbody>\n",
              "    <tr>\n",
              "      <th>63</th>\n",
              "      <td>reason stated judgment reversed cause remanded</td>\n",
              "      <td>Conclusion</td>\n",
              "    </tr>\n",
              "    <tr>\n",
              "      <th>91</th>\n",
              "      <td>error indicated judgment trial court reversed ...</td>\n",
              "      <td>Conclusion</td>\n",
              "    </tr>\n",
              "    <tr>\n",
              "      <th>137</th>\n",
              "      <td>reason heretofore given judgment reversed caus...</td>\n",
              "      <td>Conclusion</td>\n",
              "    </tr>\n",
              "    <tr>\n",
              "      <th>145</th>\n",
              "      <td>error pointed judgment trial court reversed ca...</td>\n",
              "      <td>Conclusion</td>\n",
              "    </tr>\n",
              "    <tr>\n",
              "      <th>225</th>\n",
              "      <td>finding reversible error judgment affirmed</td>\n",
              "      <td>Conclusion</td>\n",
              "    </tr>\n",
              "  </tbody>\n",
              "</table>\n",
              "</div>"
            ],
            "text/plain": [
              "                                                  text      Target\n",
              "63      reason stated judgment reversed cause remanded  Conclusion\n",
              "91   error indicated judgment trial court reversed ...  Conclusion\n",
              "137  reason heretofore given judgment reversed caus...  Conclusion\n",
              "145  error pointed judgment trial court reversed ca...  Conclusion\n",
              "225         finding reversible error judgment affirmed  Conclusion"
            ]
          },
          "metadata": {
            "tags": []
          },
          "execution_count": 53
        }
      ]
    },
    {
      "cell_type": "code",
      "metadata": {
        "colab": {
          "base_uri": "https://localhost:8080/",
          "height": 205
        },
        "id": "zq55jSBrpxAO",
        "outputId": "3aea47b2-04fa-4086-9251-aad71b6db441"
      },
      "source": [
        "train = train.rename(columns={'Sentence':'text'})\n",
        "train.head()"
      ],
      "execution_count": 54,
      "outputs": [
        {
          "output_type": "execute_result",
          "data": {
            "text/html": [
              "<div>\n",
              "<style scoped>\n",
              "    .dataframe tbody tr th:only-of-type {\n",
              "        vertical-align: middle;\n",
              "    }\n",
              "\n",
              "    .dataframe tbody tr th {\n",
              "        vertical-align: top;\n",
              "    }\n",
              "\n",
              "    .dataframe thead th {\n",
              "        text-align: right;\n",
              "    }\n",
              "</style>\n",
              "<table border=\"1\" class=\"dataframe\">\n",
              "  <thead>\n",
              "    <tr style=\"text-align: right;\">\n",
              "      <th></th>\n",
              "      <th>Unnamed: 0</th>\n",
              "      <th>text</th>\n",
              "      <th>Target</th>\n",
              "    </tr>\n",
              "  </thead>\n",
              "  <tbody>\n",
              "    <tr>\n",
              "      <th>1364</th>\n",
              "      <td>239</td>\n",
              "      <td>\"(I)n the First Amendment area 'government may...</td>\n",
              "      <td>Invalid</td>\n",
              "    </tr>\n",
              "    <tr>\n",
              "      <th>1833</th>\n",
              "      <td>185</td>\n",
              "      <td>\"... that nowhere in the statute was it stated...</td>\n",
              "      <td>Invalid</td>\n",
              "    </tr>\n",
              "    <tr>\n",
              "      <th>2431</th>\n",
              "      <td>415</td>\n",
              "      <td>\"Although a statute may be neither vague, over...</td>\n",
              "      <td>Rule/Law/Holding</td>\n",
              "    </tr>\n",
              "    <tr>\n",
              "      <th>2245</th>\n",
              "      <td>416</td>\n",
              "      <td>\"For even when pursuing a legitimate interest,...</td>\n",
              "      <td>Rule/Law/Holding</td>\n",
              "    </tr>\n",
              "    <tr>\n",
              "      <th>1561</th>\n",
              "      <td>25</td>\n",
              "      <td>\"If an indictment has been found or accusation...</td>\n",
              "      <td>Facts</td>\n",
              "    </tr>\n",
              "  </tbody>\n",
              "</table>\n",
              "</div>"
            ],
            "text/plain": [
              "      Unnamed: 0  ...            Target\n",
              "1364         239  ...           Invalid\n",
              "1833         185  ...           Invalid\n",
              "2431         415  ...  Rule/Law/Holding\n",
              "2245         416  ...  Rule/Law/Holding\n",
              "1561          25  ...             Facts\n",
              "\n",
              "[5 rows x 3 columns]"
            ]
          },
          "metadata": {
            "tags": []
          },
          "execution_count": 54
        }
      ]
    },
    {
      "cell_type": "code",
      "metadata": {
        "id": "DNgoqxeGc38A"
      },
      "source": [
        ""
      ],
      "execution_count": 54,
      "outputs": []
    },
    {
      "cell_type": "code",
      "metadata": {
        "id": "BWDYDIVCp5pM"
      },
      "source": [
        ""
      ],
      "execution_count": 54,
      "outputs": []
    },
    {
      "cell_type": "code",
      "metadata": {
        "id": "c6gU2TQbrCII"
      },
      "source": [
        ""
      ],
      "execution_count": 54,
      "outputs": []
    },
    {
      "cell_type": "code",
      "metadata": {
        "id": "iPNEQozXrIOx"
      },
      "source": [
        ""
      ],
      "execution_count": 54,
      "outputs": []
    },
    {
      "cell_type": "code",
      "metadata": {
        "colab": {
          "base_uri": "https://localhost:8080/"
        },
        "id": "fbJidPbTp8vQ",
        "outputId": "1d94c8a0-f049-4de3-9d90-2e1572ad18ec"
      },
      "source": [
        "frame_1 = [train,unlabel_1]\n",
        "train_1 = pd.concat(frame_1)\n",
        "print(len(train))\n",
        "print(len(unlabel_1))\n",
        "print(len(train_1))"
      ],
      "execution_count": 55,
      "outputs": [
        {
          "output_type": "stream",
          "text": [
            "4416\n",
            "1866\n",
            "6282\n"
          ],
          "name": "stdout"
        }
      ]
    },
    {
      "cell_type": "code",
      "metadata": {
        "colab": {
          "base_uri": "https://localhost:8080/"
        },
        "id": "GRQXjpUfWn5c",
        "outputId": "8af8ea07-d855-47f9-f40b-b7e274aae789"
      },
      "source": [
        "train_1.columns"
      ],
      "execution_count": 56,
      "outputs": [
        {
          "output_type": "execute_result",
          "data": {
            "text/plain": [
              "Index(['Unnamed: 0', 'text', 'Target'], dtype='object')"
            ]
          },
          "metadata": {
            "tags": []
          },
          "execution_count": 56
        }
      ]
    },
    {
      "cell_type": "code",
      "metadata": {
        "id": "6XO3A3EgqzSi"
      },
      "source": [
        ""
      ],
      "execution_count": 56,
      "outputs": []
    },
    {
      "cell_type": "code",
      "metadata": {
        "id": "HYXPEzsOqxnu"
      },
      "source": [
        "train_1.sort_values(\"text\", inplace = True)\n",
        "train_1 = train_1.drop_duplicates(subset =\"text\")"
      ],
      "execution_count": 57,
      "outputs": []
    },
    {
      "cell_type": "code",
      "metadata": {
        "colab": {
          "base_uri": "https://localhost:8080/"
        },
        "id": "KRjNtA3isJCI",
        "outputId": "203e451f-8466-4fc4-a943-ff51ab04a8b9"
      },
      "source": [
        "print(len(train_1))"
      ],
      "execution_count": 58,
      "outputs": [
        {
          "output_type": "stream",
          "text": [
            "5273\n"
          ],
          "name": "stdout"
        }
      ]
    },
    {
      "cell_type": "code",
      "metadata": {
        "colab": {
          "base_uri": "https://localhost:8080/"
        },
        "id": "fA7PfUm7dEPY",
        "outputId": "4aa134b0-1066-4d37-be52-4d4de25b77ad"
      },
      "source": [
        "type(train_1['Target'])"
      ],
      "execution_count": 59,
      "outputs": [
        {
          "output_type": "execute_result",
          "data": {
            "text/plain": [
              "pandas.core.series.Series"
            ]
          },
          "metadata": {
            "tags": []
          },
          "execution_count": 59
        }
      ]
    },
    {
      "cell_type": "code",
      "metadata": {
        "colab": {
          "base_uri": "https://localhost:8080/",
          "height": 420
        },
        "id": "byyZaaDZp_04",
        "outputId": "a30fce9e-a616-4de1-ef8f-81649341a736"
      },
      "source": [
        "from imblearn.over_sampling import SMOTE\n",
        "from collections import Counter\n",
        "from matplotlib import pyplot\n",
        "from sklearn.preprocessing import LabelEncoder\n",
        "data = train_1.values\n",
        "\n",
        "\n",
        "# split into input and output elements\n",
        "X, y = data[:, :-1], data[:, -1]\n",
        "# label encode the target variable\n",
        "y = LabelEncoder().fit_transform(y)\n",
        "print(y)\n",
        "# summarize distribution\n",
        "counter = Counter(y)\n",
        "print(y)\n",
        "total =0\n",
        "for k,v in counter.items():\n",
        "  total = total+v\n",
        "  per = v / len(y) * 100\n",
        "  print('Class=%s, n=%d (%.3f%%)' % (k, v, per))\n",
        "\n",
        "pyplot.bar(counter.keys(), counter.values())\n",
        "print(\"total\",total)\n",
        "pyplot.show()"
      ],
      "execution_count": 60,
      "outputs": [
        {
          "output_type": "stream",
          "text": [
            "[3 3 5 ... 2 3 2]\n",
            "[3 3 5 ... 2 3 2]\n",
            "Class=3, n=678 (12.858%)\n",
            "Class=5, n=368 (6.979%)\n",
            "Class=2, n=2811 (53.309%)\n",
            "Class=0, n=706 (13.389%)\n",
            "Class=1, n=408 (7.738%)\n",
            "Class=4, n=302 (5.727%)\n",
            "total 5273\n"
          ],
          "name": "stdout"
        },
        {
          "output_type": "display_data",
          "data": {
            "image/png": "[encoded data removed]",
            "text/plain": [
              "<Figure size 432x288 with 1 Axes>"
            ]
          },
          "metadata": {
            "tags": [],
            "needs_background": "light"
          }
        }
      ]
    },
    {
      "cell_type": "code",
      "metadata": {
        "colab": {
          "base_uri": "https://localhost:8080/"
        },
        "id": "k32Gzm-4quNg",
        "outputId": "26915c90-cff9-4d02-8b9a-20ad2c38f55e"
      },
      "source": [
        "\n",
        "from sklearn.feature_extraction.text import TfidfVectorizer\n",
        "\n",
        "tfidf_vect = TfidfVectorizer(analyzer = clean_text)\n",
        "X_tfidf = tfidf_vect.fit_transform(train_1['text'])\n",
        "print(X_tfidf.shape)"
      ],
      "execution_count": 61,
      "outputs": [
        {
          "output_type": "stream",
          "text": [
            "(5273, 8363)\n"
          ],
          "name": "stdout"
        }
      ]
    },
    {
      "cell_type": "code",
      "metadata": {
        "colab": {
          "base_uri": "https://localhost:8080/",
          "height": 255
        },
        "id": "7_PtD96Wq0WP",
        "outputId": "54190647-963e-4754-9c09-a721f1e19c77"
      },
      "source": [
        "X_tfidf_df=pd.DataFrame(X_tfidf.toarray())\n",
        "X_tfidf_df.columns=tfidf_vect.get_feature_names()\n",
        "X_tfidf_df.head()"
      ],
      "execution_count": 62,
      "outputs": [
        {
          "output_type": "execute_result",
          "data": {
            "text/html": [
              "<div>\n",
              "<style scoped>\n",
              "    .dataframe tbody tr th:only-of-type {\n",
              "        vertical-align: middle;\n",
              "    }\n",
              "\n",
              "    .dataframe tbody tr th {\n",
              "        vertical-align: top;\n",
              "    }\n",
              "\n",
              "    .dataframe thead th {\n",
              "        text-align: right;\n",
              "    }\n",
              "</style>\n",
              "<table border=\"1\" class=\"dataframe\">\n",
              "  <thead>\n",
              "    <tr style=\"text-align: right;\">\n",
              "      <th></th>\n",
              "      <th></th>\n",
              "      <th>015</th>\n",
              "      <th>1</th>\n",
              "      <th>10</th>\n",
              "      <th>100</th>\n",
              "      <th>1000</th>\n",
              "      <th>10000</th>\n",
              "      <th>100000</th>\n",
              "      <th>10000000</th>\n",
              "      <th>10000â</th>\n",
              "      <th>1000x22</th>\n",
              "      <th>1006</th>\n",
              "      <th>1008</th>\n",
              "      <th>1008a</th>\n",
              "      <th>100x22</th>\n",
              "      <th>101</th>\n",
              "      <th>1013</th>\n",
              "      <th>1015</th>\n",
              "      <th>102</th>\n",
              "      <th>1020</th>\n",
              "      <th>1026</th>\n",
              "      <th>1030</th>\n",
              "      <th>104</th>\n",
              "      <th>1042</th>\n",
              "      <th>1044</th>\n",
              "      <th>105</th>\n",
              "      <th>10511</th>\n",
              "      <th>1056</th>\n",
              "      <th>1065</th>\n",
              "      <th>107</th>\n",
              "      <th>107c</th>\n",
              "      <th>1081</th>\n",
              "      <th>1084</th>\n",
              "      <th>1097</th>\n",
              "      <th>1099</th>\n",
              "      <th>10a</th>\n",
              "      <th>10acre</th>\n",
              "      <th>10th</th>\n",
              "      <th>11</th>\n",
              "      <th>110</th>\n",
              "      <th>...</th>\n",
              "      <th>œthick</th>\n",
              "      <th>œthis</th>\n",
              "      <th>œthumbusterâ</th>\n",
              "      <th>œto</th>\n",
              "      <th>œtommy</th>\n",
              "      <th>œtoo</th>\n",
              "      <th>œtwo</th>\n",
              "      <th>œtwoâ</th>\n",
              "      <th>œunlawfully</th>\n",
              "      <th>œunlawfullyâ</th>\n",
              "      <th>œunless</th>\n",
              "      <th>œupon</th>\n",
              "      <th>œvagrancyâ</th>\n",
              "      <th>œvalue</th>\n",
              "      <th>œvery</th>\n",
              "      <th>œvisited</th>\n",
              "      <th>œwaived</th>\n",
              "      <th>œwalked</th>\n",
              "      <th>œwas</th>\n",
              "      <th>œwater</th>\n",
              "      <th>œwe</th>\n",
              "      <th>œweaving</th>\n",
              "      <th>œwell</th>\n",
              "      <th>œwhat</th>\n",
              "      <th>œwhen</th>\n",
              "      <th>œwhere</th>\n",
              "      <th>œwhether</th>\n",
              "      <th>œwhile</th>\n",
              "      <th>œwhipped</th>\n",
              "      <th>œwhisky</th>\n",
              "      <th>œwhoever</th>\n",
              "      <th>œwhy</th>\n",
              "      <th>œwilfullyâ</th>\n",
              "      <th>œwillfullyâ</th>\n",
              "      <th>œwobblyâ</th>\n",
              "      <th>œyes</th>\n",
              "      <th>œyesâ</th>\n",
              "      <th>œyou</th>\n",
              "      <th>œyour</th>\n",
              "      <th>œyâ</th>\n",
              "    </tr>\n",
              "  </thead>\n",
              "  <tbody>\n",
              "    <tr>\n",
              "      <th>0</th>\n",
              "      <td>0.000000</td>\n",
              "      <td>0.0</td>\n",
              "      <td>0.0</td>\n",
              "      <td>0.0</td>\n",
              "      <td>0.0</td>\n",
              "      <td>0.0</td>\n",
              "      <td>0.0</td>\n",
              "      <td>0.0</td>\n",
              "      <td>0.0</td>\n",
              "      <td>0.0</td>\n",
              "      <td>0.0</td>\n",
              "      <td>0.0</td>\n",
              "      <td>0.0</td>\n",
              "      <td>0.0</td>\n",
              "      <td>0.0</td>\n",
              "      <td>0.0</td>\n",
              "      <td>0.0</td>\n",
              "      <td>0.0</td>\n",
              "      <td>0.0</td>\n",
              "      <td>0.0</td>\n",
              "      <td>0.0</td>\n",
              "      <td>0.0</td>\n",
              "      <td>0.0</td>\n",
              "      <td>0.0</td>\n",
              "      <td>0.0</td>\n",
              "      <td>0.0</td>\n",
              "      <td>0.0</td>\n",
              "      <td>0.0</td>\n",
              "      <td>0.0</td>\n",
              "      <td>0.0</td>\n",
              "      <td>0.0</td>\n",
              "      <td>0.0</td>\n",
              "      <td>0.0</td>\n",
              "      <td>0.0</td>\n",
              "      <td>0.0</td>\n",
              "      <td>0.0</td>\n",
              "      <td>0.0</td>\n",
              "      <td>0.0</td>\n",
              "      <td>0.0</td>\n",
              "      <td>0.0</td>\n",
              "      <td>...</td>\n",
              "      <td>0.0</td>\n",
              "      <td>0.0</td>\n",
              "      <td>0.0</td>\n",
              "      <td>0.0</td>\n",
              "      <td>0.0</td>\n",
              "      <td>0.0</td>\n",
              "      <td>0.0</td>\n",
              "      <td>0.0</td>\n",
              "      <td>0.0</td>\n",
              "      <td>0.0</td>\n",
              "      <td>0.0</td>\n",
              "      <td>0.0</td>\n",
              "      <td>0.0</td>\n",
              "      <td>0.0</td>\n",
              "      <td>0.0</td>\n",
              "      <td>0.0</td>\n",
              "      <td>0.0</td>\n",
              "      <td>0.0</td>\n",
              "      <td>0.0</td>\n",
              "      <td>0.0</td>\n",
              "      <td>0.0</td>\n",
              "      <td>0.0</td>\n",
              "      <td>0.0</td>\n",
              "      <td>0.0</td>\n",
              "      <td>0.0</td>\n",
              "      <td>0.0</td>\n",
              "      <td>0.0</td>\n",
              "      <td>0.0</td>\n",
              "      <td>0.0</td>\n",
              "      <td>0.0</td>\n",
              "      <td>0.0</td>\n",
              "      <td>0.0</td>\n",
              "      <td>0.0</td>\n",
              "      <td>0.0</td>\n",
              "      <td>0.0</td>\n",
              "      <td>0.0</td>\n",
              "      <td>0.0</td>\n",
              "      <td>0.0</td>\n",
              "      <td>0.0</td>\n",
              "      <td>0.0</td>\n",
              "    </tr>\n",
              "    <tr>\n",
              "      <th>1</th>\n",
              "      <td>0.115009</td>\n",
              "      <td>0.0</td>\n",
              "      <td>0.0</td>\n",
              "      <td>0.0</td>\n",
              "      <td>0.0</td>\n",
              "      <td>0.0</td>\n",
              "      <td>0.0</td>\n",
              "      <td>0.0</td>\n",
              "      <td>0.0</td>\n",
              "      <td>0.0</td>\n",
              "      <td>0.0</td>\n",
              "      <td>0.0</td>\n",
              "      <td>0.0</td>\n",
              "      <td>0.0</td>\n",
              "      <td>0.0</td>\n",
              "      <td>0.0</td>\n",
              "      <td>0.0</td>\n",
              "      <td>0.0</td>\n",
              "      <td>0.0</td>\n",
              "      <td>0.0</td>\n",
              "      <td>0.0</td>\n",
              "      <td>0.0</td>\n",
              "      <td>0.0</td>\n",
              "      <td>0.0</td>\n",
              "      <td>0.0</td>\n",
              "      <td>0.0</td>\n",
              "      <td>0.0</td>\n",
              "      <td>0.0</td>\n",
              "      <td>0.0</td>\n",
              "      <td>0.0</td>\n",
              "      <td>0.0</td>\n",
              "      <td>0.0</td>\n",
              "      <td>0.0</td>\n",
              "      <td>0.0</td>\n",
              "      <td>0.0</td>\n",
              "      <td>0.0</td>\n",
              "      <td>0.0</td>\n",
              "      <td>0.0</td>\n",
              "      <td>0.0</td>\n",
              "      <td>0.0</td>\n",
              "      <td>...</td>\n",
              "      <td>0.0</td>\n",
              "      <td>0.0</td>\n",
              "      <td>0.0</td>\n",
              "      <td>0.0</td>\n",
              "      <td>0.0</td>\n",
              "      <td>0.0</td>\n",
              "      <td>0.0</td>\n",
              "      <td>0.0</td>\n",
              "      <td>0.0</td>\n",
              "      <td>0.0</td>\n",
              "      <td>0.0</td>\n",
              "      <td>0.0</td>\n",
              "      <td>0.0</td>\n",
              "      <td>0.0</td>\n",
              "      <td>0.0</td>\n",
              "      <td>0.0</td>\n",
              "      <td>0.0</td>\n",
              "      <td>0.0</td>\n",
              "      <td>0.0</td>\n",
              "      <td>0.0</td>\n",
              "      <td>0.0</td>\n",
              "      <td>0.0</td>\n",
              "      <td>0.0</td>\n",
              "      <td>0.0</td>\n",
              "      <td>0.0</td>\n",
              "      <td>0.0</td>\n",
              "      <td>0.0</td>\n",
              "      <td>0.0</td>\n",
              "      <td>0.0</td>\n",
              "      <td>0.0</td>\n",
              "      <td>0.0</td>\n",
              "      <td>0.0</td>\n",
              "      <td>0.0</td>\n",
              "      <td>0.0</td>\n",
              "      <td>0.0</td>\n",
              "      <td>0.0</td>\n",
              "      <td>0.0</td>\n",
              "      <td>0.0</td>\n",
              "      <td>0.0</td>\n",
              "      <td>0.0</td>\n",
              "    </tr>\n",
              "    <tr>\n",
              "      <th>2</th>\n",
              "      <td>0.000000</td>\n",
              "      <td>0.0</td>\n",
              "      <td>0.0</td>\n",
              "      <td>0.0</td>\n",
              "      <td>0.0</td>\n",
              "      <td>0.0</td>\n",
              "      <td>0.0</td>\n",
              "      <td>0.0</td>\n",
              "      <td>0.0</td>\n",
              "      <td>0.0</td>\n",
              "      <td>0.0</td>\n",
              "      <td>0.0</td>\n",
              "      <td>0.0</td>\n",
              "      <td>0.0</td>\n",
              "      <td>0.0</td>\n",
              "      <td>0.0</td>\n",
              "      <td>0.0</td>\n",
              "      <td>0.0</td>\n",
              "      <td>0.0</td>\n",
              "      <td>0.0</td>\n",
              "      <td>0.0</td>\n",
              "      <td>0.0</td>\n",
              "      <td>0.0</td>\n",
              "      <td>0.0</td>\n",
              "      <td>0.0</td>\n",
              "      <td>0.0</td>\n",
              "      <td>0.0</td>\n",
              "      <td>0.0</td>\n",
              "      <td>0.0</td>\n",
              "      <td>0.0</td>\n",
              "      <td>0.0</td>\n",
              "      <td>0.0</td>\n",
              "      <td>0.0</td>\n",
              "      <td>0.0</td>\n",
              "      <td>0.0</td>\n",
              "      <td>0.0</td>\n",
              "      <td>0.0</td>\n",
              "      <td>0.0</td>\n",
              "      <td>0.0</td>\n",
              "      <td>0.0</td>\n",
              "      <td>...</td>\n",
              "      <td>0.0</td>\n",
              "      <td>0.0</td>\n",
              "      <td>0.0</td>\n",
              "      <td>0.0</td>\n",
              "      <td>0.0</td>\n",
              "      <td>0.0</td>\n",
              "      <td>0.0</td>\n",
              "      <td>0.0</td>\n",
              "      <td>0.0</td>\n",
              "      <td>0.0</td>\n",
              "      <td>0.0</td>\n",
              "      <td>0.0</td>\n",
              "      <td>0.0</td>\n",
              "      <td>0.0</td>\n",
              "      <td>0.0</td>\n",
              "      <td>0.0</td>\n",
              "      <td>0.0</td>\n",
              "      <td>0.0</td>\n",
              "      <td>0.0</td>\n",
              "      <td>0.0</td>\n",
              "      <td>0.0</td>\n",
              "      <td>0.0</td>\n",
              "      <td>0.0</td>\n",
              "      <td>0.0</td>\n",
              "      <td>0.0</td>\n",
              "      <td>0.0</td>\n",
              "      <td>0.0</td>\n",
              "      <td>0.0</td>\n",
              "      <td>0.0</td>\n",
              "      <td>0.0</td>\n",
              "      <td>0.0</td>\n",
              "      <td>0.0</td>\n",
              "      <td>0.0</td>\n",
              "      <td>0.0</td>\n",
              "      <td>0.0</td>\n",
              "      <td>0.0</td>\n",
              "      <td>0.0</td>\n",
              "      <td>0.0</td>\n",
              "      <td>0.0</td>\n",
              "      <td>0.0</td>\n",
              "    </tr>\n",
              "    <tr>\n",
              "      <th>3</th>\n",
              "      <td>0.000000</td>\n",
              "      <td>0.0</td>\n",
              "      <td>0.0</td>\n",
              "      <td>0.0</td>\n",
              "      <td>0.0</td>\n",
              "      <td>0.0</td>\n",
              "      <td>0.0</td>\n",
              "      <td>0.0</td>\n",
              "      <td>0.0</td>\n",
              "      <td>0.0</td>\n",
              "      <td>0.0</td>\n",
              "      <td>0.0</td>\n",
              "      <td>0.0</td>\n",
              "      <td>0.0</td>\n",
              "      <td>0.0</td>\n",
              "      <td>0.0</td>\n",
              "      <td>0.0</td>\n",
              "      <td>0.0</td>\n",
              "      <td>0.0</td>\n",
              "      <td>0.0</td>\n",
              "      <td>0.0</td>\n",
              "      <td>0.0</td>\n",
              "      <td>0.0</td>\n",
              "      <td>0.0</td>\n",
              "      <td>0.0</td>\n",
              "      <td>0.0</td>\n",
              "      <td>0.0</td>\n",
              "      <td>0.0</td>\n",
              "      <td>0.0</td>\n",
              "      <td>0.0</td>\n",
              "      <td>0.0</td>\n",
              "      <td>0.0</td>\n",
              "      <td>0.0</td>\n",
              "      <td>0.0</td>\n",
              "      <td>0.0</td>\n",
              "      <td>0.0</td>\n",
              "      <td>0.0</td>\n",
              "      <td>0.0</td>\n",
              "      <td>0.0</td>\n",
              "      <td>0.0</td>\n",
              "      <td>...</td>\n",
              "      <td>0.0</td>\n",
              "      <td>0.0</td>\n",
              "      <td>0.0</td>\n",
              "      <td>0.0</td>\n",
              "      <td>0.0</td>\n",
              "      <td>0.0</td>\n",
              "      <td>0.0</td>\n",
              "      <td>0.0</td>\n",
              "      <td>0.0</td>\n",
              "      <td>0.0</td>\n",
              "      <td>0.0</td>\n",
              "      <td>0.0</td>\n",
              "      <td>0.0</td>\n",
              "      <td>0.0</td>\n",
              "      <td>0.0</td>\n",
              "      <td>0.0</td>\n",
              "      <td>0.0</td>\n",
              "      <td>0.0</td>\n",
              "      <td>0.0</td>\n",
              "      <td>0.0</td>\n",
              "      <td>0.0</td>\n",
              "      <td>0.0</td>\n",
              "      <td>0.0</td>\n",
              "      <td>0.0</td>\n",
              "      <td>0.0</td>\n",
              "      <td>0.0</td>\n",
              "      <td>0.0</td>\n",
              "      <td>0.0</td>\n",
              "      <td>0.0</td>\n",
              "      <td>0.0</td>\n",
              "      <td>0.0</td>\n",
              "      <td>0.0</td>\n",
              "      <td>0.0</td>\n",
              "      <td>0.0</td>\n",
              "      <td>0.0</td>\n",
              "      <td>0.0</td>\n",
              "      <td>0.0</td>\n",
              "      <td>0.0</td>\n",
              "      <td>0.0</td>\n",
              "      <td>0.0</td>\n",
              "    </tr>\n",
              "    <tr>\n",
              "      <th>4</th>\n",
              "      <td>0.000000</td>\n",
              "      <td>0.0</td>\n",
              "      <td>0.0</td>\n",
              "      <td>0.0</td>\n",
              "      <td>0.0</td>\n",
              "      <td>0.0</td>\n",
              "      <td>0.0</td>\n",
              "      <td>0.0</td>\n",
              "      <td>0.0</td>\n",
              "      <td>0.0</td>\n",
              "      <td>0.0</td>\n",
              "      <td>0.0</td>\n",
              "      <td>0.0</td>\n",
              "      <td>0.0</td>\n",
              "      <td>0.0</td>\n",
              "      <td>0.0</td>\n",
              "      <td>0.0</td>\n",
              "      <td>0.0</td>\n",
              "      <td>0.0</td>\n",
              "      <td>0.0</td>\n",
              "      <td>0.0</td>\n",
              "      <td>0.0</td>\n",
              "      <td>0.0</td>\n",
              "      <td>0.0</td>\n",
              "      <td>0.0</td>\n",
              "      <td>0.0</td>\n",
              "      <td>0.0</td>\n",
              "      <td>0.0</td>\n",
              "      <td>0.0</td>\n",
              "      <td>0.0</td>\n",
              "      <td>0.0</td>\n",
              "      <td>0.0</td>\n",
              "      <td>0.0</td>\n",
              "      <td>0.0</td>\n",
              "      <td>0.0</td>\n",
              "      <td>0.0</td>\n",
              "      <td>0.0</td>\n",
              "      <td>0.0</td>\n",
              "      <td>0.0</td>\n",
              "      <td>0.0</td>\n",
              "      <td>...</td>\n",
              "      <td>0.0</td>\n",
              "      <td>0.0</td>\n",
              "      <td>0.0</td>\n",
              "      <td>0.0</td>\n",
              "      <td>0.0</td>\n",
              "      <td>0.0</td>\n",
              "      <td>0.0</td>\n",
              "      <td>0.0</td>\n",
              "      <td>0.0</td>\n",
              "      <td>0.0</td>\n",
              "      <td>0.0</td>\n",
              "      <td>0.0</td>\n",
              "      <td>0.0</td>\n",
              "      <td>0.0</td>\n",
              "      <td>0.0</td>\n",
              "      <td>0.0</td>\n",
              "      <td>0.0</td>\n",
              "      <td>0.0</td>\n",
              "      <td>0.0</td>\n",
              "      <td>0.0</td>\n",
              "      <td>0.0</td>\n",
              "      <td>0.0</td>\n",
              "      <td>0.0</td>\n",
              "      <td>0.0</td>\n",
              "      <td>0.0</td>\n",
              "      <td>0.0</td>\n",
              "      <td>0.0</td>\n",
              "      <td>0.0</td>\n",
              "      <td>0.0</td>\n",
              "      <td>0.0</td>\n",
              "      <td>0.0</td>\n",
              "      <td>0.0</td>\n",
              "      <td>0.0</td>\n",
              "      <td>0.0</td>\n",
              "      <td>0.0</td>\n",
              "      <td>0.0</td>\n",
              "      <td>0.0</td>\n",
              "      <td>0.0</td>\n",
              "      <td>0.0</td>\n",
              "      <td>0.0</td>\n",
              "    </tr>\n",
              "  </tbody>\n",
              "</table>\n",
              "<p>5 rows × 8363 columns</p>\n",
              "</div>"
            ],
            "text/plain": [
              "             015    1   10  100  1000  ...  œwobblyâ  œyes  œyesâ  œyou  œyour  œyâ\n",
              "0  0.000000  0.0  0.0  0.0  0.0   0.0  ...       0.0   0.0    0.0   0.0    0.0  0.0\n",
              "1  0.115009  0.0  0.0  0.0  0.0   0.0  ...       0.0   0.0    0.0   0.0    0.0  0.0\n",
              "2  0.000000  0.0  0.0  0.0  0.0   0.0  ...       0.0   0.0    0.0   0.0    0.0  0.0\n",
              "3  0.000000  0.0  0.0  0.0  0.0   0.0  ...       0.0   0.0    0.0   0.0    0.0  0.0\n",
              "4  0.000000  0.0  0.0  0.0  0.0   0.0  ...       0.0   0.0    0.0   0.0    0.0  0.0\n",
              "\n",
              "[5 rows x 8363 columns]"
            ]
          },
          "metadata": {
            "tags": []
          },
          "execution_count": 62
        }
      ]
    },
    {
      "cell_type": "code",
      "metadata": {
        "colab": {
          "base_uri": "https://localhost:8080/",
          "height": 561
        },
        "id": "iPlagba2G_08",
        "outputId": "e92238fd-52a6-434d-fa08-a04442575c40"
      },
      "source": [
        "from imblearn.over_sampling import SMOTE\n",
        "oversample = SMOTE(random_state=42,k_neighbors=5)\n",
        "X, y = oversample.fit_resample(X_tfidf_df, train_1['Target'])\n",
        "# summarize distribution\n",
        "counter = Counter(y)\n",
        "for k,v in counter.items():\n",
        "\tper = v / len(y) * 100\n",
        "\tprint('Class=%s, n=%d (%.3f%%)' % (k, v, per))\n",
        "# plot the distribution\n",
        "pyplot.bar(counter.keys(), counter.values())\n",
        "pyplot.show()"
      ],
      "execution_count": 63,
      "outputs": [
        {
          "output_type": "stream",
          "text": [
            "/usr/local/lib/python3.7/dist-packages/sklearn/utils/deprecation.py:87: FutureWarning: Function safe_indexing is deprecated; safe_indexing is deprecated in version 0.22 and will be removed in version 0.24.\n",
            "  warnings.warn(msg, category=FutureWarning)\n",
            "/usr/local/lib/python3.7/dist-packages/sklearn/utils/deprecation.py:87: FutureWarning: Function safe_indexing is deprecated; safe_indexing is deprecated in version 0.22 and will be removed in version 0.24.\n",
            "  warnings.warn(msg, category=FutureWarning)\n",
            "/usr/local/lib/python3.7/dist-packages/sklearn/utils/deprecation.py:87: FutureWarning: Function safe_indexing is deprecated; safe_indexing is deprecated in version 0.22 and will be removed in version 0.24.\n",
            "  warnings.warn(msg, category=FutureWarning)\n",
            "/usr/local/lib/python3.7/dist-packages/sklearn/utils/deprecation.py:87: FutureWarning: Function safe_indexing is deprecated; safe_indexing is deprecated in version 0.22 and will be removed in version 0.24.\n",
            "  warnings.warn(msg, category=FutureWarning)\n",
            "/usr/local/lib/python3.7/dist-packages/sklearn/utils/deprecation.py:87: FutureWarning: Function safe_indexing is deprecated; safe_indexing is deprecated in version 0.22 and will be removed in version 0.24.\n",
            "  warnings.warn(msg, category=FutureWarning)\n"
          ],
          "name": "stderr"
        },
        {
          "output_type": "stream",
          "text": [
            "Class=Invalid, n=2811 (16.667%)\n",
            "Class=Rule/Law/Holding, n=2811 (16.667%)\n",
            "Class=Facts, n=2811 (16.667%)\n",
            "Class=Analysis, n=2811 (16.667%)\n",
            "Class=Conclusion, n=2811 (16.667%)\n",
            "Class=Issue, n=2811 (16.667%)\n"
          ],
          "name": "stdout"
        },
        {
          "output_type": "display_data",
          "data": {
            "image/png": "[encoded data removed]",
            "text/plain": [
              "<Figure size 432x288 with 1 Axes>"
            ]
          },
          "metadata": {
            "tags": [],
            "needs_background": "light"
          }
        }
      ]
    },
    {
      "cell_type": "code",
      "metadata": {
        "id": "YnJmuyYRHl6Z"
      },
      "source": [
        "test = pd.read_csv(r'/content/drive/My Drive/Research/test_data.csv')\n",
        "\n",
        "test['Target']=test['Target'].replace(['Others'],'Invalid')\n",
        "test['Sentence'] = test['Sentence'].apply(lambda x: \" \".join(x.lower() for x in str(x).split()))\n",
        "test['Sentence'] = test['Sentence'].str.replace('[^\\w\\s]','')\n",
        "from nltk.corpus import stopwords\n",
        "words = stopwords.words('english')\n",
        "test['Sentence'] = test['Sentence'].apply(lambda x: \" \".join(x for x in x.split() if x not in words))\n",
        "t_p = tfidf_vect.transform(test['Sentence'])"
      ],
      "execution_count": 64,
      "outputs": []
    },
    {
      "cell_type": "code",
      "metadata": {
        "colab": {
          "base_uri": "https://localhost:8080/"
        },
        "id": "FqdrxE8AHZWp",
        "outputId": "be792455-937c-4589-8875-f36432e2da69"
      },
      "source": [
        "from sklearn.metrics import classification_report\n",
        "#x_train_1 = tfidf_vect.transform(train_1['text'])\n",
        "#x_train_1.shape\n",
        "#X_train, x_val, Y_train, y_val = train_test_split(x_train_1,train_1['Target'],test_size=0.25,random_state=2)\n",
        "X_train, x_val, Y_train, y_val = train_test_split(X,y,test_size=0.26,random_state=42)\n",
        "classifier_1 = lgb.LGBMClassifier()\n",
        "classifier_1.fit(X_train, Y_train)\n",
        "y_pred = classifier_1.predict(x_val)\n",
        "print(np.unique(y_pred))\n",
        "print(type(y_pred))\n",
        "\n",
        "\n",
        "Accuracy_score = accuracy_score(y_pred,y_val)\n",
        "\n",
        "print('Validation ------- Accuracy_score: %f' % Accuracy_score)\n",
        "\n",
        "test_pred = classifier_1.predict(t_p)\n",
        "acc_test = accuracy_score(test_pred,test['Target'])\n",
        "print('Test ------Accuracy score ', acc_test)\n",
        "matrix = confusion_matrix(y_pred, y_val)\n",
        "print(matrix)\n",
        "print(\"---------validation--------------\")\n",
        "print(classification_report(y_val,y_pred))\n",
        "print(\"----------test---------------------\")\n",
        "print(classification_report(test['Target'],test_pred))"
      ],
      "execution_count": 65,
      "outputs": [
        {
          "output_type": "stream",
          "text": [
            "['Analysis' 'Conclusion' 'Facts' 'Invalid' 'Issue' 'Rule/Law/Holding']\n",
            "<class 'numpy.ndarray'>\n",
            "Validation ------- Accuracy_score: 0.905837\n",
            "Test ------Accuracy score  0.5930902111324377\n",
            "[[644   9  40  11   6  10]\n",
            " [ 11 742   6   2   1   3]\n",
            " [ 37   9 592  54   9  10]\n",
            " [ 29  12  63 639   8  19]\n",
            " [  2   1  11  13 664   1]\n",
            " [  6   2  12   7   9 692]]\n",
            "---------validation--------------\n",
            "                  precision    recall  f1-score   support\n",
            "\n",
            "        Analysis       0.89      0.88      0.89       729\n",
            "      Conclusion       0.97      0.96      0.96       775\n",
            "           Facts       0.83      0.82      0.83       724\n",
            "         Invalid       0.83      0.88      0.85       726\n",
            "           Issue       0.96      0.95      0.96       697\n",
            "Rule/Law/Holding       0.95      0.94      0.95       735\n",
            "\n",
            "        accuracy                           0.91      4386\n",
            "       macro avg       0.91      0.91      0.91      4386\n",
            "    weighted avg       0.91      0.91      0.91      4386\n",
            "\n",
            "----------test---------------------\n",
            "                  precision    recall  f1-score   support\n",
            "\n",
            "        Analysis       0.42      0.38      0.40        77\n",
            "      Conclusion       0.65      0.58      0.61        26\n",
            "           Facts       0.75      0.67      0.70       267\n",
            "         Invalid       0.38      0.64      0.48        83\n",
            "           Issue       0.74      0.41      0.53        34\n",
            "Rule/Law/Holding       0.61      0.59      0.60        34\n",
            "\n",
            "        accuracy                           0.59       521\n",
            "       macro avg       0.59      0.54      0.55       521\n",
            "    weighted avg       0.63      0.59      0.60       521\n",
            "\n"
          ],
          "name": "stdout"
        }
      ]
    },
    {
      "cell_type": "code",
      "metadata": {
        "id": "tkyPJTIkHn37"
      },
      "source": [
        ""
      ],
      "execution_count": 65,
      "outputs": []
    },
    {
      "cell_type": "code",
      "metadata": {
        "id": "d8BWcEGe-1Eu"
      },
      "source": [
        "x_un2 = tfidf_vect.transform(unlabel_2['text'])\n"
      ],
      "execution_count": 66,
      "outputs": []
    },
    {
      "cell_type": "code",
      "metadata": {
        "colab": {
          "base_uri": "https://localhost:8080/"
        },
        "id": "xoo80lu4Blug",
        "outputId": "98d5ae63-ed7a-4a6c-c602-aa7e190c9e7d"
      },
      "source": [
        "\n",
        "pred_unlabel_2 = classifier_1.predict_proba(x_un2)\n",
        "pred_unlabel_2"
      ],
      "execution_count": 67,
      "outputs": [
        {
          "output_type": "execute_result",
          "data": {
            "text/plain": [
              "array([[2.65263747e-03, 9.92624936e-01, 2.33540353e-03, 1.01898182e-03,\n",
              "        3.54606938e-04, 1.01343408e-03],\n",
              "       [2.24953498e-02, 2.86455412e-03, 1.60805683e-02, 1.04770044e-02,\n",
              "        1.04626675e-01, 8.43455848e-01],\n",
              "       [7.21191794e-02, 5.11847609e-03, 8.52471208e-01, 4.71804632e-02,\n",
              "        5.14647839e-03, 1.79641946e-02],\n",
              "       ...,\n",
              "       [5.59937111e-02, 1.21887247e-02, 6.73098491e-01, 1.99395395e-01,\n",
              "        4.06866173e-02, 1.86370612e-02],\n",
              "       [2.04932735e-02, 6.83714473e-03, 5.52046775e-01, 3.90461880e-01,\n",
              "        2.29659549e-02, 7.19497240e-03],\n",
              "       [8.62933408e-02, 1.31388167e-02, 4.95081082e-01, 3.53840368e-01,\n",
              "        3.86349095e-02, 1.30114830e-02]])"
            ]
          },
          "metadata": {
            "tags": []
          },
          "execution_count": 67
        }
      ]
    },
    {
      "cell_type": "code",
      "metadata": {
        "colab": {
          "base_uri": "https://localhost:8080/"
        },
        "id": "zXnOCoCCB8hM",
        "outputId": "43665ae8-1d1e-4806-ba24-9b0aa82c88a4"
      },
      "source": [
        "print(len(pred_unlabel_2))\n",
        "print(np.unique(pred_unlabel_2))"
      ],
      "execution_count": 68,
      "outputs": [
        {
          "output_type": "stream",
          "text": [
            "100000\n",
            "[3.19964044e-05 3.42999224e-05 3.48702605e-05 ... 9.99063244e-01\n",
            " 9.99218765e-01 9.99476562e-01]\n"
          ],
          "name": "stdout"
        }
      ]
    },
    {
      "cell_type": "code",
      "metadata": {
        "colab": {
          "base_uri": "https://localhost:8080/"
        },
        "id": "8n23pWivB8qi",
        "outputId": "8428f4bd-3ae4-43dd-c4f6-d878adb7142b"
      },
      "source": [
        "import numpy as np\n",
        "pos=[]\n",
        "large=[]\n",
        "ind = []\n",
        "i=0\n",
        "for j in pred_unlabel_2:\n",
        "  if max(j)> Threshold:\n",
        "    ind.append(np.argmax(j))\n",
        "    large.append(max(j))\n",
        "    pos.append(i)\n",
        "  i+=1\n",
        "\n",
        "\n",
        "print(ind)\n",
        "print(large)\n",
        "print(pos)\n",
        "print(type(pos))\n",
        "print(len(ind))\n",
        "print(len(large))\n",
        "print(len(pos))"
      ],
      "execution_count": 69,
      "outputs": [
        {
          "output_type": "stream",
          "text": [
            "[1, 2, 1, 1, 1, 1, 1, 1, 1, 1, 3, 2, 1, 2, 3, 1, 2, 2, 2, 1, 1, 2, 2, 2, 1, 0, 2, 2, 1, 1, 2, 1, 2, 2, 2, 2, 1, 2, 2, 2, 2, 2, 2, 2, 1, 2, 1, 2, 2, 1, 1, 2, 2, 1, 2, 5, 1, 1, 2, 2, 2, 2, 4, 2, 5, 1, 1, 2, 2, 2, 5, 4, 5, 1, 2, 1, 5, 1, 0, 2, 2, 1, 1, 2, 1, 1, 5, 2, 1, 4, 1, 1, 2, 1, 0, 4, 1, 1, 1, 1, 2, 2, 0, 1, 1, 5, 4, 2, 2, 1, 5, 2, 0, 1, 1, 2, 2, 2, 1, 1, 1, 1, 1, 2, 2, 1, 1, 1, 5, 1, 5, 1, 1, 2, 1, 2, 2, 3, 2, 2, 1, 2, 1, 1, 1, 5, 4, 3, 2, 1, 1, 1, 1, 1, 2, 2, 2, 1, 1, 1, 1, 2, 2, 2, 2, 2, 3, 1, 4, 1, 1, 2, 5, 2, 2, 2, 3, 1, 1, 5, 1, 2, 5, 2, 4, 2, 2, 2, 1, 1, 1, 1, 2, 1, 2, 1, 2, 1, 1, 1, 1, 1, 1, 2, 1, 2, 1, 5, 1, 1, 1, 1, 3, 1, 1, 5, 4, 2, 2, 0, 1, 2, 2, 2, 2, 2, 2, 2, 1, 2, 1, 2, 1, 2, 1, 2, 0, 1, 1, 1, 2, 2, 0, 1, 1, 1, 2, 2, 1, 1, 0, 1, 4, 4, 1, 2, 2, 5, 0, 5, 2, 1, 1, 1, 2, 1, 1, 4, 1, 2, 2, 1, 1, 5, 2, 2, 2, 1, 1, 2, 1, 1, 2, 2, 2, 0, 1, 1, 5, 2, 5, 4, 1, 1, 1, 5, 1, 1, 1, 1, 1, 1, 1, 1, 2, 2, 1, 2, 1, 1, 5, 1, 1, 1, 1, 2, 1, 1, 1, 1, 1, 2, 2, 1, 1, 1, 2, 1, 1, 0, 1, 2, 1, 1, 1, 1, 1, 1, 5, 1, 0, 1, 1, 2, 2, 1, 1, 1, 1, 1, 4, 1, 1, 2, 5, 2, 1, 2, 5, 2, 1, 1, 2, 2, 1, 2, 2, 5, 1, 1, 2, 1, 4, 1, 1, 1, 1, 5, 2, 1, 4, 2, 1, 2, 1, 1, 5, 2, 5, 3, 5, 1, 1, 1, 2, 2, 1, 1, 2, 2, 2, 1, 2, 5, 1, 1, 1, 1, 2, 2, 1, 2, 2, 2, 2, 5, 2, 2, 1, 4, 2, 2, 1, 1, 1, 2, 2, 5, 1, 5, 1, 1, 1, 1, 1, 1, 1, 1, 5, 1, 2, 2, 2, 1, 1, 1, 1, 5, 2, 2, 5, 1, 3, 2, 2, 1, 1, 5, 5, 1, 1, 1, 4, 1, 2, 2, 1, 4, 1, 5, 2, 1, 5, 2, 2, 0, 1, 1, 2, 1, 2, 2, 4, 1, 1, 1, 1, 2, 2, 1, 4, 4, 5, 2, 1, 2, 2, 2, 1, 5, 3, 2, 1, 1, 2, 1, 1, 1, 2, 3, 1, 1, 1, 1, 1, 2, 1, 1, 2, 1, 1, 5, 1, 1, 2, 1, 1, 2, 2, 1, 1, 4, 2, 1, 2, 2, 2, 5, 2, 2, 2, 5, 1, 1, 3, 1, 1, 1, 5, 2, 2, 2, 2, 1, 2, 2, 2, 2, 2, 5, 2, 1, 1, 1, 1, 1, 1, 2, 5, 0, 1, 2, 2, 2, 1, 1, 5, 1, 5, 2, 2, 2, 2, 2, 2, 1, 1, 1, 2, 2, 2, 1, 2, 2, 2, 0, 2, 2, 2, 2, 1, 1, 1, 2, 1, 1, 1, 4, 1, 1, 2, 1, 2, 2, 2, 2, 1, 4, 5, 1, 1, 2, 2, 1, 2, 4, 2, 2, 1, 2, 1, 2, 3, 2, 1, 1, 1, 2, 2, 2, 2, 2, 2, 1, 5, 1, 2, 2, 2, 1, 2, 1, 1, 1, 1, 1, 1, 2, 5, 1, 1, 2, 4, 4, 1, 5, 2, 1, 1, 1, 1, 1, 3, 1, 2, 4, 5, 1, 1, 2, 1, 4, 2, 1, 2, 2, 2, 1, 1, 2, 2, 2, 5, 2, 2, 2, 5, 1, 1, 2, 3, 1, 1, 2, 2, 2, 2, 1, 2, 1, 2, 2, 2, 1, 1, 2, 1, 1, 1, 2, 2, 4, 3, 2, 2, 1, 1, 1, 3, 2, 2, 2, 2, 1, 1, 2, 1, 4, 1, 1, 2, 2, 2, 5, 1, 2, 5, 4, 1, 1, 2, 1, 2, 2, 5, 2, 5, 2, 2, 1, 4, 1, 5, 1, 1, 2, 2, 2, 2, 2, 2, 1, 4, 2, 1, 5, 2, 5, 1, 1, 5, 5, 5, 1, 2, 5, 1, 2, 2, 2, 5, 1, 1, 4, 1, 2, 1, 2, 2, 1, 1, 1, 2, 2, 2, 2, 2, 2, 1, 3, 2, 2, 2, 2, 1, 2, 1, 1, 1, 2, 2, 0, 1, 1, 1, 5, 1, 0, 5, 2, 2, 1, 1, 2, 2, 1, 5, 2, 1, 2, 2, 2, 1, 4, 1, 1, 1, 4, 2, 1, 1, 4, 1, 5, 5, 1, 1, 2, 1, 1, 1, 2, 1, 2, 2, 2, 2, 2, 1, 1, 1, 0, 1, 2, 1, 1, 2, 2, 2, 2, 5, 1, 1, 1, 3, 3, 4, 1, 2, 2, 2, 2, 2, 2, 2, 2, 2, 2, 2, 2, 2, 2, 2, 1, 2, 1, 2, 2, 2, 2, 2, 1, 2, 5, 5, 1, 5, 1, 1, 5, 1, 5, 5, 1, 1, 5, 2, 1, 1, 5, 2, 2, 4, 0, 1, 1, 2, 2, 1, 1, 2, 2, 2, 5, 2, 4, 1, 2, 1, 1, 1, 1, 5, 2, 4, 5, 2, 2, 2, 1, 1, 1, 1, 1, 1, 5, 1, 1, 2, 2, 2, 2, 1, 1, 1, 1, 5, 2, 1, 2, 1, 5, 2, 1, 2, 1, 2, 1, 1, 5, 1, 1, 1, 2, 1, 1, 1, 2, 5, 2, 0, 1, 1, 1, 1, 4, 1, 2, 1, 1, 1, 1, 2, 2, 2, 2, 2, 2, 4, 1, 5, 1, 5, 2, 2, 2, 2, 1, 1, 1, 5, 1, 4, 1, 2, 1, 2, 1, 1, 2, 1, 1, 5, 1, 1, 0, 1, 5, 1, 2, 2, 4, 1, 1, 5, 2, 2, 1, 2, 2, 2, 2, 2, 2, 2, 1, 2, 2, 2, 2, 2, 2, 2, 3, 1, 1, 1, 1, 5, 4, 2, 2, 2, 2, 1, 2, 2, 1, 1, 2, 2, 3, 1, 1, 5, 5, 1, 1, 5, 2, 5, 5, 1, 2, 2, 1, 1, 2, 1, 2, 2, 1, 2, 2, 1, 5, 2, 2, 2, 2, 4, 1, 1, 0, 5, 2, 5, 1, 5, 2, 2, 2, 2, 1, 2, 1, 5, 1, 2, 2, 1, 2, 1, 2, 5, 1, 1, 1, 1, 2, 4, 2, 1, 2, 2, 2, 1, 1, 2, 1, 1, 2, 1, 5, 1, 1, 4, 1, 0, 1, 0, 5, 2, 2, 1, 2, 2, 2, 5, 5, 2, 2, 2, 1, 1, 1, 1, 2, 1, 2, 2, 2, 1, 5, 2, 1, 1, 1, 2, 1, 2, 2, 1, 1, 1, 2, 1, 1, 1, 1, 2, 1, 2, 1, 1, 1, 0, 5, 2, 0, 2, 2, 2, 2, 2, 1, 1, 2, 1, 2, 2, 2, 0, 0, 1, 1, 1, 1, 5, 2, 2, 2, 2, 1, 2, 2, 2, 4, 1, 2, 1, 1, 2, 1, 2, 1, 1, 2, 0, 2, 1, 2, 1, 1, 5, 1, 1, 5, 1, 1, 1, 2, 2, 2, 1, 2, 1, 5, 2, 1, 1, 1, 2, 1, 1, 3, 1, 1, 1, 2, 2, 1, 2, 4, 2, 2, 1, 2, 5, 1, 1, 2, 2, 2, 1, 4, 1, 2, 2, 1, 1, 1, 2, 4, 1, 1, 2, 2, 1, 1, 2, 2, 2, 1, 1, 1, 2, 2, 2, 2, 2, 1, 2, 2, 1, 1, 5, 2, 3, 1, 2, 5, 1, 4, 1, 5, 1, 4, 2, 1, 1, 2, 2, 1, 1, 1, 1, 1, 2, 2, 2, 5, 1, 1, 1, 1, 1, 1, 1, 2, 2, 2, 1, 1, 5, 2, 2, 2, 2, 2, 1, 1, 1, 1, 1, 2, 5, 2, 2, 2, 1, 1, 1, 2, 2, 2, 2, 2, 2, 2, 2, 1, 5, 2, 1, 1, 1, 1, 1, 2, 0, 1, 1, 2, 1, 1, 5, 2, 2, 2, 1, 2, 2, 1, 2, 2, 1, 4, 1, 1, 1, 1, 1, 1, 2, 1, 5, 2, 2, 1, 1, 2, 4, 1, 1, 2, 1, 1, 2, 1, 1, 1, 1, 2, 1, 1, 2, 2, 1, 5, 2, 2, 2, 3, 2, 2, 2, 1, 2, 1, 1, 1, 1, 2, 1, 1, 2, 1, 5, 1, 1, 5, 1, 1, 1, 2, 1, 5, 4, 1, 5, 2, 1, 2, 1, 2, 2, 5, 5, 2, 2, 2, 1, 1, 2, 2, 2, 1, 5, 2, 1, 1, 2, 4, 0, 1, 1, 1, 2, 2, 1, 1, 2, 1, 2, 2, 2, 2, 2, 2, 2, 2, 1, 4, 2, 2, 2, 2, 1, 5, 1, 1, 2, 2, 2, 2, 2, 1, 4, 2, 2, 0, 1, 1, 4, 4, 2, 2, 2, 1, 5, 2, 2, 2, 1, 5, 3, 2, 1, 1, 2, 2, 2, 2, 2, 2, 1, 1, 2, 2, 2, 1, 5, 2, 1, 2, 5, 1, 1, 5, 5, 1, 1, 5, 2, 2, 2, 2, 5, 1, 1, 2, 1, 2, 1, 5, 5, 2, 2, 2, 1, 1, 2, 2, 2, 1, 1, 4, 1, 1, 2, 1, 5, 1, 1, 5, 2, 1, 1, 1, 2, 2, 2, 1, 1, 1, 1, 1, 0, 2, 1, 2, 2, 1, 0, 1, 2, 2, 2, 1, 1, 1, 1, 1, 1, 2, 1, 5, 2, 2, 2, 1, 2, 1, 5, 2, 2, 3, 1, 1, 2, 2, 1, 2, 2, 1, 5, 2, 1, 1, 2, 2, 0, 1, 5, 1, 1, 2, 1, 5, 2, 2, 1, 2, 0, 1, 5, 2, 2, 2, 2, 2, 2, 1, 0, 1, 1, 2, 5, 2, 1, 1, 1, 1, 1, 3, 1, 2, 1, 5, 1, 1, 1, 1, 4, 2, 1, 4, 1, 2, 2, 2, 2, 2, 1, 2, 2, 1, 2, 1, 1, 2, 1, 2, 1, 2, 2, 2, 1, 1, 1, 4, 2, 1, 1, 1, 5, 1, 1, 2, 2, 2, 1, 1, 1, 2, 2, 2, 1, 2, 2, 2, 0, 4, 1, 2, 2, 2, 5, 1, 1, 2, 2, 2, 1, 2, 1, 2, 1, 1, 1, 2, 1, 1, 5, 1, 1, 1, 2, 1, 1, 5, 5, 1, 0, 1, 1, 2, 2, 1, 2, 2, 1, 2, 1, 1, 1, 4, 1, 1, 1, 1, 2, 1, 1, 2, 1, 1, 2, 1, 2, 2, 2, 2, 1, 2, 2, 2, 2, 1, 1, 2, 2, 2, 2, 5, 2, 2, 5, 1, 1, 2, 2, 2, 1, 1, 1, 2, 2, 2, 2, 1, 5, 1, 2, 1, 1, 1, 2, 2, 2, 1, 2, 2, 5, 0, 2, 2, 2, 2, 2, 1, 2, 2, 1, 5, 4, 1, 2, 2, 1, 1, 2, 2, 1, 5, 1, 1, 5, 2, 0, 2, 2, 1, 1, 2, 2, 2, 1, 5, 1, 5, 2, 1, 2, 3, 0, 1, 1, 1, 1, 2, 1, 1, 1, 1, 2, 1, 0, 1, 2, 5, 1, 5, 0, 1, 1, 1, 1, 0, 5, 5, 2, 1, 1, 0, 1, 2, 1, 1, 1, 1, 1, 5, 2, 2, 2, 4, 1, 1, 2, 2, 2, 2, 1, 2, 2, 1, 2, 2, 2, 2, 1, 1, 2, 2, 1, 1, 1, 2, 2, 1, 1, 1, 2, 2, 2, 2, 1, 1, 2, 2, 1, 2, 1, 2, 1, 2, 5, 1, 1, 2, 1, 1, 1, 1, 1, 0, 2, 2, 2, 2, 5, 1, 5, 1, 1, 2, 2, 1, 1, 5, 3, 1, 2, 1, 1, 1, 4, 1, 2, 2, 1, 2, 2, 2, 1, 1, 2, 1, 2, 1, 1, 3, 1, 5, 2, 0, 5, 5, 2, 2, 1, 5, 1, 1, 1, 1, 1, 2, 5, 2, 2, 2, 2, 2, 2, 1, 1, 1, 5, 2, 1, 5, 2, 5, 1, 2, 1, 1, 1, 2, 1, 5, 1, 1, 5, 5, 2, 1, 1, 1, 2, 5, 2, 1, 1, 2, 1, 3, 1, 4, 1, 1, 2, 4, 1, 1, 0, 1, 5, 2, 1, 3, 2, 1, 1, 2, 1, 5, 1, 1, 2, 2, 2, 2, 2, 2, 5, 2, 2, 2, 1, 5, 1, 1, 2, 1, 2, 1, 5, 0, 1, 1, 1, 3, 1, 2, 0, 5, 2, 2, 0, 5, 2, 1, 4, 5, 1, 2, 1, 4, 5, 1, 0, 5, 2, 2, 2, 2, 2, 2, 5, 1, 1, 1, 1, 2, 1, 1, 3, 1, 1, 1, 1, 1, 2, 5, 2, 2, 2, 2, 2, 2, 1, 1, 1, 1, 1, 2, 1, 1, 1, 1, 1, 2, 1, 1, 5, 1, 1, 2, 1, 1, 1, 1, 1, 1, 2, 2, 2, 2, 2, 1, 5, 0, 1, 0, 1, 2, 2, 0, 1, 1, 0, 2, 2, 2, 4, 2, 2, 1, 5, 1, 5, 2, 5, 0, 5, 2, 2, 1, 1, 1, 1, 1, 2, 1, 1, 1, 5, 4, 1, 1, 4, 1, 1, 1, 1, 2, 2, 1, 2, 1, 2, 2, 1, 0, 1, 1, 2, 1, 0, 1, 5, 5, 1, 2, 2, 1, 5, 1, 1, 2, 1, 0, 1, 1, 2, 2, 2, 1, 5, 2, 1, 1, 2, 2, 5, 1, 2, 2, 0, 2, 1, 1, 1, 2, 1, 1, 2, 1, 1, 2, 2, 1, 1, 1, 2, 1, 1, 1, 2, 2, 5, 1, 2, 1, 2, 1, 1, 1, 1, 1, 1, 1, 1, 1, 1, 1, 1, 1, 1, 2, 5, 1, 5, 1, 1, 1, 2, 2, 2, 1, 0, 1, 2, 1, 5, 1, 1, 1, 4, 1, 1, 2, 1, 1, 1, 2, 1, 2, 4, 5, 1, 1, 2, 1, 4, 1, 2, 1, 1, 2, 2, 2, 1, 2, 2, 1, 1, 1, 1, 1, 2, 2, 1, 1, 1, 1, 2, 5, 2, 2, 2, 1, 2, 1, 1, 2, 2, 1, 5, 0, 1, 2, 5, 2, 2, 0, 1, 1, 1, 1, 5, 1, 1, 5, 1, 2, 2, 1, 1, 1, 5, 2, 2, 1, 1, 1, 1, 1, 1, 2, 1, 1, 2, 2, 5, 1, 1, 5, 1, 4, 2, 1, 1, 2, 1, 0, 1, 2, 0, 1, 1, 1, 2, 1, 1, 2, 5, 5, 0, 0, 1, 1, 1, 1, 1, 4, 1, 1, 2, 1, 1, 5, 0, 1, 5, 1, 1, 2, 2, 2, 1, 1, 1, 5, 1, 1, 1, 5, 1, 3, 3, 2, 2, 4, 5, 1, 1, 4, 1, 1, 4, 1, 2, 2, 1, 2, 1, 1, 1, 5, 2, 1, 2, 0, 5, 1, 2, 2, 4, 1, 5, 2, 1, 2, 1, 2, 2, 2, 2, 2, 2, 2, 1, 1, 2, 1, 1, 5, 1, 1, 1, 1, 5, 2, 1, 5, 1, 1, 2, 2, 2, 1, 1, 1, 2, 1, 5, 2, 2, 2, 1, 2, 4, 1, 2, 2, 1, 5, 2, 2, 2, 3, 3, 2, 3, 1, 2, 2, 2, 2, 2, 2, 2, 2, 2, 1, 1, 5, 2, 2, 1, 1, 1, 5, 1, 1, 0, 2, 1, 1, 1, 1, 1, 2, 2, 2, 2, 1, 1, 1, 1, 1]\n",
            "[0.9926249361649252, 0.9958406789038262, 0.9978426793459413, 0.9974676556995576, 0.9977847755666038, 0.9965605421352176, 0.9975556356838109, 0.9979714526012678, 0.9967287287039013, 0.996101656086866, 0.9846478239920411, 0.9938944838986568, 0.9978426793459413, 0.9829228158182758, 0.9843782158413669, 0.996101656086866, 0.983119779482455, 0.9930360794554064, 0.9848186035980376, 0.9982823275284147, 0.996101656086866, 0.986568555434106, 0.9804835762258632, 0.9818802642322358, 0.9961771759099548, 0.9915423988743443, 0.9941325410777101, 0.991626434427697, 0.9956900987497256, 0.9936927018440508, 0.9846418970686464, 0.9974676556995576, 0.9900077207008362, 0.9871646881900152, 0.9950432547921189, 0.9840432445274883, 0.9927701942535254, 0.9956729667249747, 0.9880575675457344, 0.9923169907061654, 0.9848737243629688, 0.9824718417906158, 0.9833349349686007, 0.9866142651279887, 0.9978426793459413, 0.9826873023350596, 0.9967287287039013, 0.9814648911298633, 0.9846126812516767, 0.9820248472667228, 0.9980930380446779, 0.9883359742093494, 0.987763317451614, 0.9980408653681865, 0.991737510778181, 0.9874830432740557, 0.9977847755666038, 0.9982505482044342, 0.9806879762799666, 0.9807574092277913, 0.9893712990116227, 0.9900135621196063, 0.9853084910320349, 0.9907684631795137, 0.9848184045615758, 0.9963094351440902, 0.9865236699791616, 0.9853400293142627, 0.9921126825146911, 0.9886059911010726, 0.9892745253925387, 0.9918430435736395, 0.9840980989993581, 0.9977288963223944, 0.9844342318184186, 0.9977847755666038, 0.9872851835034582, 0.9964953071325986, 0.995939013979336, 0.982628510328459, 0.9924568526470047, 0.9964953071325986, 0.9968666760197393, 0.9802316905062317, 0.9982823275284147, 0.9978426793459413, 0.9810629895568144, 0.9854027961506318, 0.9975051419867558, 0.9867476400202418, 0.9982505482044342, 0.9982823275284147, 0.9896461016006243, 0.9982823275284147, 0.9930892370757503, 0.9816594448979831, 0.9943856933275262, 0.9957973589837537, 0.9976230999937589, 0.9977418560983458, 0.9931523473980104, 0.9937146779445432, 0.9806724088433705, 0.9978426793459413, 0.9982823275284147, 0.986204415214982, 0.9935240875394873, 0.9894862138298485, 0.9895800494421677, 0.9981701031416463, 0.9804114688217367, 0.9912744103351756, 0.9826239013515672, 0.9977847755666038, 0.991722908817453, 0.9805525157019351, 0.9940001332425374, 0.982089704665208, 0.994261733285013, 0.984636587381025, 0.9982505482044342, 0.996209650810569, 0.9955025061643864, 0.981223189490496, 0.9853093434351089, 0.9895945359441626, 0.9982505482044342, 0.9982840152684218, 0.9822116642025098, 0.9978426793459413, 0.982635221594936, 0.9821183999295412, 0.9944420169835556, 0.9863200571766262, 0.9975560842505953, 0.9830077087499276, 0.9847798887315363, 0.9812599378167607, 0.9836445598557795, 0.9926503750154654, 0.9977847755666038, 0.9861376108865594, 0.9977847755666038, 0.993417795470476, 0.998391423085453, 0.9853363149570498, 0.9917564046986745, 0.9807060520450898, 0.9853932973881233, 0.9956229057442241, 0.9824312866902981, 0.9977847755666038, 0.9938900436689091, 0.9967287287039013, 0.9847285310439567, 0.987518083740268, 0.9851586706235076, 0.9982505482044342, 0.9982505482044342, 0.9864997484548127, 0.9977847755666038, 0.9811461291411817, 0.99290064928024, 0.9842825850883802, 0.9848769908225808, 0.9966566772046038, 0.9817683549278964, 0.9966872605491703, 0.9910474512935565, 0.9848693788877436, 0.9974722719676732, 0.9882828075686778, 0.9915458279712354, 0.985526439372623, 0.995393289336418, 0.9804654659492784, 0.9813868121630192, 0.9977847755666038, 0.9918544270402767, 0.9872699893679152, 0.9958450682192967, 0.9869611829844325, 0.9893133813361991, 0.9838000904571449, 0.982637263505021, 0.9831586901787247, 0.988558212735723, 0.9931183371984753, 0.9977847755666038, 0.9977847755666038, 0.9976379746986992, 0.9982505482044342, 0.9879457360743822, 0.9826522585584058, 0.9811868612102023, 0.9952277739593197, 0.9809185794843034, 0.9982121223427299, 0.996101656086866, 0.9977847755666038, 0.9838544326603762, 0.9939123660117535, 0.9883696529671734, 0.9874338252502369, 0.9982505482044342, 0.984465871313955, 0.9977847755666038, 0.9907820305784159, 0.9982505482044342, 0.9982193618214662, 0.9977847755666038, 0.9963094351440902, 0.9842332351394469, 0.9980930380446779, 0.9871924661373611, 0.9940988008271352, 0.9941946652424845, 0.9836453744760826, 0.9953156066988079, 0.9802984488316845, 0.9982823275284147, 0.9920967319231146, 0.9911505420039186, 0.9908551698970799, 0.9844457802858265, 0.9872344042799955, 0.9859784709324518, 0.9915609547055495, 0.9967059489457182, 0.9920269744590122, 0.9990632437477565, 0.9906905439700237, 0.9867216519885754, 0.9887502398408365, 0.9977213162941633, 0.9925075407433057, 0.984733915187543, 0.9964865909696748, 0.997453832321519, 0.9963094351440902, 0.9811115013749807, 0.9917585928538093, 0.9982703469092273, 0.9955025061643864, 0.991755104766503, 0.9919165985107581, 0.9833145023329024, 0.9822521886663127, 0.9978426793459413, 0.9982823275284147, 0.9915423988743443, 0.9949509988895929, 0.9892543587697994, 0.9928434717467869, 0.988755334986904, 0.9851801867661039, 0.9809451739909475, 0.988960439225128, 0.9847575784367408, 0.9845035227342381, 0.989772019567338, 0.9975877840677545, 0.9808134389674109, 0.9957973589837537, 0.9884608365079101, 0.9982823275284147, 0.9982505482044342, 0.9895182147855763, 0.9967287287039013, 0.9961641643091916, 0.9898751376593304, 0.9944420169835556, 0.9977847755666038, 0.9819834882039362, 0.99127381247847, 0.9866778739016342, 0.981845451525803, 0.9978304953880937, 0.9982823275284147, 0.9911985508240367, 0.9941935687240675, 0.984114127170892, 0.9875683100820474, 0.9887480537076424, 0.9883671024882352, 0.9874817418903716, 0.9982823275284147, 0.9982840152684218, 0.9897016719978532, 0.9930565038979913, 0.9848184045615758, 0.9811271558514884, 0.9966587667100044, 0.9963094351440902, 0.996101656086866, 0.9899723905186426, 0.9982505482044342, 0.9891292330144982, 0.9977847755666038, 0.9967105150871286, 0.9963094351440902, 0.9982505482044342, 0.9977847755666038, 0.9966917092366705, 0.9962712032950185, 0.9960151088113955, 0.9814698335838186, 0.9804644317845376, 0.9978436612833185, 0.9962982461623234, 0.9912802810586581, 0.997453832321519, 0.9972595587704008, 0.9984241317161382, 0.9854117564875926, 0.9922162839940732, 0.9970918409019796, 0.9893447844408366, 0.9959673169532879, 0.9811791831998543, 0.9977847755666038, 0.989060607676204, 0.9858993793027613, 0.9963762149960071, 0.9967287287039013, 0.9981489908269467, 0.9857979915292343, 0.9978426793459413, 0.997892233995745, 0.9874817418903716, 0.9980930380446779, 0.9913340440627637, 0.9982505482044342, 0.9954491087421937, 0.9966597737461839, 0.9963746620635462, 0.9878292080783689, 0.9864965842284489, 0.9885298615038488, 0.9977847755666038, 0.9847575784367408, 0.9930319030741438, 0.989067746351966, 0.9812276351129158, 0.9899708686757889, 0.9977847755666038, 0.9883588544811691, 0.9964953071325986, 0.9977847755666038, 0.9879343907112165, 0.993603138926825, 0.9978616872463284, 0.9977847755666038, 0.9828199495381531, 0.9852109285655769, 0.9848127740071178, 0.9982505482044342, 0.9871642153439094, 0.986262562945406, 0.9835196613768336, 0.9893640648984541, 0.9961771759099548, 0.9878683405120029, 0.9813755334478266, 0.9963094351440902, 0.9842821182066216, 0.9822643975563494, 0.9891841158192446, 0.9982823275284147, 0.9977847755666038, 0.9852637502265106, 0.9982193618214662, 0.9919788355257548, 0.9977847755666038, 0.9806928143967616, 0.9963094351440902, 0.996101656086866, 0.9848184045615758, 0.9857081619810467, 0.9968666760197393, 0.9806013887982862, 0.9807994734540527, 0.9977847755666038, 0.9829988916195231, 0.9968666760197393, 0.9977847755666038, 0.9892617547544904, 0.9808372055994282, 0.9869493061321838, 0.9805892663956439, 0.9900522422496837, 0.9980548478034957, 0.981266957811453, 0.9967287287039013, 0.9936479202583838, 0.9864497193867855, 0.9982823275284147, 0.9975868447909356, 0.9806380056702806, 0.9803134694059222, 0.9835420973037813, 0.996101656086866, 0.9954225631965624, 0.9828105515818747, 0.9974722719676732, 0.9955025061643864, 0.9978426793459413, 0.9963094351440902, 0.9836967569337476, 0.9839494591604107, 0.994164553871478, 0.9812718584808885, 0.9840849718865287, 0.9823832811013251, 0.9883902853868928, 0.9891107569708765, 0.981608203595995, 0.98525548304159, 0.980582137386759, 0.9861922289041906, 0.9845503163690644, 0.9836269904627896, 0.9982823275284147, 0.9977847755666038, 0.9982096495574613, 0.9869281989162454, 0.9904555015868456, 0.9834841973201729, 0.9982505482044342, 0.9848184045615758, 0.9978426793459413, 0.9974676556995576, 0.9982823275284147, 0.9821183999295412, 0.9977847755666038, 0.9977847755666038, 0.997453832321519, 0.9883668514890592, 0.989793758695657, 0.9970191366621028, 0.9825884370144633, 0.982278108744997, 0.9803251403474873, 0.9975560842505953, 0.9967287287039013, 0.9982505482044342, 0.9955025061643864, 0.9891107569708765, 0.9879325213232563, 0.9830687819608649, 0.9935401637370967, 0.994977442023932, 0.9848293705908939, 0.9954799900970669, 0.9846952588663406, 0.9905071363406203, 0.9980548478034957, 0.986204415214982, 0.9941829408741082, 0.997453832321519, 0.984472276275847, 0.9975704653629833, 0.9829962738160941, 0.9978426793459413, 0.9918403427063543, 0.9906312016291173, 0.9982823275284147, 0.981314080668468, 0.9954491087421937, 0.9904262811845602, 0.9826985192096288, 0.9982823275284147, 0.982635221594936, 0.9822352064974909, 0.9860861968553433, 0.997950307628806, 0.998391423085453, 0.9834269931740556, 0.983313134342237, 0.9825940906961225, 0.9938320395307396, 0.9816668060228256, 0.9835202582633029, 0.9852178562929966, 0.9953856957377402, 0.9982505482044342, 0.9968666760197393, 0.9831177076254253, 0.9828703419623477, 0.9982840152684218, 0.9858271698813668, 0.9856391425712736, 0.9910420389110878, 0.9841863515480851, 0.9944208458372887, 0.9863510571386815, 0.9817339965197825, 0.9873294441470334, 0.995603155452061, 0.9877904755568766, 0.9807060520450898, 0.9810242656645384, 0.9982823275284147, 0.9940573513702795, 0.9838559813181521, 0.9976288474001067, 0.996101656086866, 0.9943649639580863, 0.9808976617729431, 0.9811964153526598, 0.9982823275284147, 0.9963094351440902, 0.9963094351440902, 0.9941935687240675, 0.980967252296703, 0.9827158130399761, 0.9934414771720151, 0.9982505482044342, 0.9839237405649951, 0.9980152724702119, 0.9977847755666038, 0.9810452323041808, 0.9955025061643864, 0.9851806462959701, 0.9855607667371963, 0.9928190692490853, 0.996101656086866, 0.994486009952567, 0.9835695112422445, 0.9977847755666038, 0.9982505482044342, 0.9833152456212576, 0.9821367837495006, 0.9890270278420853, 0.9829230189997767, 0.9806520551450861, 0.9825474903699647, 0.9809448048532684, 0.9836789924839615, 0.985122588424884, 0.9811607527046771, 0.9895875268927058, 0.9975560842505953, 0.9831569663385414, 0.980222579810195, 0.9908364348103276, 0.9977847755666038, 0.9851806462959701, 0.9876722423680242, 0.9831633641482606, 0.9815821342130641, 0.9842031046080947, 0.9975424429344004, 0.9975996294386252, 0.9815814486438804, 0.9808449153329453, 0.9897438991055583, 0.983697343579654, 0.9850952465037929, 0.9915474663893169, 0.9869778388715028, 0.9893640648984541, 0.9967287287039013, 0.9969226649671349, 0.9955025061643864, 0.9935185757577006, 0.9927453261150235, 0.982704915094548, 0.9895095653889817, 0.9874817418903716, 0.9978426793459413, 0.9871681366579554, 0.9841502230791224, 0.9957394487132369, 0.9977847755666038, 0.9954491087421937, 0.9887561033504525, 0.9977847755666038, 0.9852679165543078, 0.9819221291908199, 0.9803320101190323, 0.9845025725243097, 0.9887002470755037, 0.9840426366063222, 0.9853711887496932, 0.9978426793459413, 0.9978426793459413, 0.9982193618214662, 0.9894044378161744, 0.983404379639235, 0.9827628441595029, 0.9982193618214662, 0.9818183454057223, 0.985966413884474, 0.9941418062985588, 0.9823636793473427, 0.9847925635946948, 0.9942873532098603, 0.9868966107514878, 0.9905530868670055, 0.981266957811453, 0.9964865909696748, 0.9982505482044342, 0.9894211088074611, 0.993417795470476, 0.9977418560983458, 0.9979489960160146, 0.9860431489565996, 0.988755334986904, 0.981266957811453, 0.9837339938675924, 0.9967287287039013, 0.9930434116699306, 0.986464546582131, 0.9835687365903031, 0.9903600439955399, 0.9978426793459413, 0.987299681639261, 0.9819834882039362, 0.9963614322808082, 0.9975560842505953, 0.9801823534168511, 0.9877772012915199, 0.9977213162941633, 0.9835599569229881, 0.9879488132893726, 0.9832345624364985, 0.9847464557264557, 0.9975560842505953, 0.9883587498844665, 0.9978426793459413, 0.9918256948901596, 0.9802216843389752, 0.9809739413055375, 0.9982505482044342, 0.9982823275284147, 0.9963094351440902, 0.985082509915865, 0.9877490913952653, 0.9900360086560596, 0.993146649542089, 0.9915769375395077, 0.9849514085412886, 0.9982505482044342, 0.9809153448746059, 0.9962982461623234, 0.9884456020069486, 0.9854869801748684, 0.9885584533188501, 0.9977847755666038, 0.9976435684954471, 0.9982823275284147, 0.9975328589151637, 0.9875313737262605, 0.9982823275284147, 0.9852896439727048, 0.9977847755666038, 0.984486002667033, 0.9889603326275193, 0.9980548478034957, 0.9982505482044342, 0.9897795302930283, 0.9866196709745239, 0.9838333039708688, 0.9982193618214662, 0.9824250828135447, 0.9810258040451643, 0.9977847755666038, 0.9977847755666038, 0.9974676556995576, 0.9977847755666038, 0.9969519911746045, 0.9810992212957574, 0.9977847755666038, 0.9849568744525955, 0.9930110894646692, 0.9848184045615758, 0.9975560842505953, 0.996101656086866, 0.9885656069315758, 0.9944420169835556, 0.9822017814912273, 0.9802081476769693, 0.9941551512462338, 0.9802396533826558, 0.9831596985452389, 0.989146625219839, 0.9944420169835556, 0.9955025061643864, 0.9812752756253822, 0.9913181035271331, 0.9804122436853416, 0.9802579700011828, 0.9841729579074887, 0.9843789867442344, 0.9850506669171022, 0.9899723905186426, 0.9964865909696748, 0.9977847755666038, 0.9845002300833607, 0.9831812042291896, 0.9978426793459413, 0.9888157681496769, 0.9892945850200753, 0.9905383293822211, 0.9906463435500418, 0.980738969482169, 0.9967287287039013, 0.9870053171588778, 0.9900132887585286, 0.98856628658901, 0.9901877557496754, 0.9880286440619322, 0.9968666760197393, 0.9977847755666038, 0.9818134960623741, 0.9857047900909975, 0.9982505482044342, 0.9965396213848886, 0.9805392619725937, 0.9918459722749883, 0.9906879668497427, 0.9802216843389752, 0.9915859984685023, 0.990620268418202, 0.9948251908801998, 0.9882192655925117, 0.9977847755666038, 0.9888514827181544, 0.9849656674497115, 0.9835936936158626, 0.9879476396651347, 0.980286305535349, 0.981266957811453, 0.9935184451308108, 0.988223007277445, 0.9968666760197393, 0.9837550761652751, 0.988755334986904, 0.9903177420780336, 0.9929692431430404, 0.9815857750826789, 0.9880100395242266, 0.986204415214982, 0.9981639275359238, 0.9929223775090525, 0.988960439225128, 0.9838982653155245, 0.9988362964916786, 0.9937100439373278, 0.9864528047786374, 0.9975107156011309, 0.9873613928371444, 0.9890427588813601, 0.980402325714909, 0.985339768039409, 0.9863719752353558, 0.9857992332553213, 0.9911660055233438, 0.988085327272223, 0.9822764550675537, 0.9977847755666038, 0.9802579700011828, 0.9852057446316922, 0.9967287287039013, 0.9956028101386207, 0.9837792707802836, 0.9914161575312997, 0.9862831025683485, 0.9885788826958317, 0.9831954872571913, 0.9978426793459413, 0.9874684102906671, 0.9802585686700548, 0.9964953071325986, 0.993907902479261, 0.9809004237699674, 0.986088748106401, 0.9967287287039013, 0.9978426793459413, 0.9858436085317472, 0.9892745253925387, 0.986262562945406, 0.9906400429604445, 0.9881295209309309, 0.9918515331097827, 0.9967287287039013, 0.9830826322738109, 0.9823072420409193, 0.9933633618605617, 0.9869493061321838, 0.9982823275284147, 0.9974676556995576, 0.9942095368386782, 0.988755334986904, 0.9908342410176327, 0.9970278741647132, 0.9910973429034229, 0.9921411464723161, 0.9975560842505953, 0.988584874076943, 0.9937330181087093, 0.9935163952437859, 0.9897881400031986, 0.9873900346851765, 0.9821049469183799, 0.9829947428419503, 0.9933390360105263, 0.9964570472305365, 0.9868947888691556, 0.9807301608392615, 0.9872168047970866, 0.9833503140615738, 0.9912644849360436, 0.987130877302193, 0.9887251284466982, 0.9978426793459413, 0.9984129574756216, 0.9982193618214662, 0.9889662065057317, 0.9869939957222863, 0.9847575784367408, 0.9964441624662429, 0.9979784367699137, 0.9963094351440902, 0.983404439772253, 0.9949802193708125, 0.9944783007018481, 0.9836367065112528, 0.9875345044978417, 0.9948838914211232, 0.9953741097340804, 0.9975877840677545, 0.9829511570754442, 0.9820698665052819, 0.9833266943338644, 0.9885233062872709, 0.9807261814955914, 0.9982193618214662, 0.9812310864612862, 0.983061635267932, 0.9838654511492305, 0.9965378685284068, 0.9939622389557837, 0.9973388643778487, 0.9977847755666038, 0.9982121223427299, 0.9858365222633357, 0.985806324731122, 0.9974342362654521, 0.9982823275284147, 0.9886028924757752, 0.9968666760197393, 0.9910420389110878, 0.9886445428701052, 0.9821183999295412, 0.9977847755666038, 0.9921595397334813, 0.9978426793459413, 0.9895897448329751, 0.9964865909696748, 0.9891666453643879, 0.9974676556995576, 0.9861837623254414, 0.9843701328786582, 0.9884201904847395, 0.9867560749757687, 0.9829904973549863, 0.9864054072273429, 0.9944420169835556, 0.9973279696430585, 0.9847575784367408, 0.9916321155178444, 0.985637779272436, 0.9863896412270996, 0.9824745068382499, 0.989162644318262, 0.9955070103477365, 0.9869725704810042, 0.9881570325793019, 0.9920622757167084, 0.9980408653681865, 0.9975996294386252, 0.9882906928039128, 0.9854837807081315, 0.9854837807081315, 0.9801102037678355, 0.9975560842505953, 0.9911510748936664, 0.9934242432226631, 0.9842673323098576, 0.9845782523081488, 0.9948905509894008, 0.9931712509059746, 0.9841914304415007, 0.9903461397430547, 0.9836947243319878, 0.9849464234851275, 0.9805430182980637, 0.9861854221604324, 0.9929535937517927, 0.9906658182124928, 0.9808352528990745, 0.9915711727847716, 0.9853281686128247, 0.9852896439727048, 0.9865861601795751, 0.9923701315569158, 0.9857634712066483, 0.9823251798076709, 0.9816231903359227, 0.9977847755666038, 0.9852998696718002, 0.9834414213801125, 0.9878883108895573, 0.996101656086866, 0.9861835886392305, 0.9977847755666038, 0.996101656086866, 0.980583780753449, 0.984150950593166, 0.9918035208728841, 0.981378515699475, 0.9962982461623234, 0.9938373462919866, 0.9904262811845602, 0.9868675341890913, 0.9978426793459413, 0.998406174732333, 0.9806878720193639, 0.9808450136175038, 0.9895524490013018, 0.988088646107533, 0.995939013979336, 0.9967287287039013, 0.9975877840677545, 0.9827965765316251, 0.9865384554242409, 0.9977847755666038, 0.9969073578302895, 0.9883858841026295, 0.9875786178923219, 0.9843729542150582, 0.994321400751257, 0.9911827066546013, 0.9863317308397525, 0.9944420169835556, 0.9974134304412398, 0.994804843059964, 0.996935579636555, 0.9885313806662028, 0.9965120859684448, 0.9916876080782984, 0.981905803401782, 0.9815081145007313, 0.9867882448514882, 0.9816757164565717, 0.9952793974140208, 0.9908888229653061, 0.9953412962856683, 0.9923672326742968, 0.9823066504242293, 0.9963094351440902, 0.9982035207327216, 0.9977552265072859, 0.988960439225128, 0.9977847755666038, 0.9982505482044342, 0.9810725471957706, 0.9909186269575697, 0.9966499949123461, 0.9846497652013873, 0.9987529226146161, 0.9970364486411264, 0.9978448499533867, 0.9828982773389969, 0.9864096768721684, 0.9857286645754321, 0.9982505482044342, 0.984929667604947, 0.9985526994568538, 0.9893133813361991, 0.9944586887160826, 0.9957973589837537, 0.9833968222582287, 0.9838281759412475, 0.9884126679001299, 0.9963094351440902, 0.9876833057097043, 0.991245475449449, 0.9982823275284147, 0.9801067286992614, 0.9982505482044342, 0.9834318359399306, 0.9865057579656058, 0.9964579620260716, 0.9977847755666038, 0.9809747507471832, 0.9829626556578352, 0.9845855399571954, 0.9878834179951529, 0.9854117564875926, 0.9979489960160146, 0.9857104327464616, 0.9977847755666038, 0.981035175042768, 0.9964953071325986, 0.9800518992694712, 0.9975560842505953, 0.9977847755666038, 0.9982823275284147, 0.9923346785939372, 0.9908151162588172, 0.9837925735598595, 0.9892739677183765, 0.9969105037242261, 0.9837622620437032, 0.9845332724862315, 0.9863608633114356, 0.9986144360512035, 0.9875958742789568, 0.981077041185257, 0.9805168850603946, 0.9902338111229896, 0.9807898558303976, 0.9851482213080831, 0.9948006668972482, 0.997453832321519, 0.9954491087421937, 0.9965378685284068, 0.9901193433219276, 0.9963094351440902, 0.9840351847971953, 0.9972595587704008, 0.9953383930917628, 0.9982823275284147, 0.988313791574777, 0.9978426793459413, 0.9954955401223793, 0.9804199031539911, 0.9987529226146161, 0.9977847755666038, 0.9866428454855631, 0.98333546245148, 0.9985526994568538, 0.9851787405500364, 0.9963094351440902, 0.9922880213637328, 0.9994765615086872, 0.9801724375689688, 0.9872922863794337, 0.9896971273909069, 0.9977847755666038, 0.9967287287039013, 0.9835979462011711, 0.9820924324399334, 0.9825499050778288, 0.9959992436171744, 0.9803251403474873, 0.9918745453545782, 0.9881463798890504, 0.9891731362750601, 0.9825474903699647, 0.9902914784603613, 0.9824691662502433, 0.9853507983966706, 0.9954001145265191, 0.9827161423542033, 0.9924243523978898, 0.9895257782223075, 0.9956185911518458, 0.9861341710966793, 0.9861708128864786, 0.980077273300065, 0.9970133017957655, 0.9949460917176464, 0.9980548478034957, 0.9926215402462907, 0.9820564731160132, 0.9851087194241478, 0.982236444348606, 0.9832916619870506, 0.9813562875385448, 0.9942152081695252, 0.9963098831954815, 0.9918860612871335, 0.989345708561679, 0.9961771759099548, 0.993518641886119, 0.9904027619433906, 0.9833659890584896, 0.9807193929027891, 0.9968666760197393, 0.9963746620635462, 0.9902609932987227, 0.9893133813361991, 0.9980548478034957, 0.9975560842505953, 0.988960439225128, 0.9889301279806111, 0.9916360791863916, 0.9902298459652615, 0.9977847755666038, 0.9813579906058876, 0.9831042522329484, 0.9965862606069072, 0.9982823275284147, 0.9920450582285705, 0.9851806462959701, 0.9843010936897002, 0.9867419262601257, 0.9977847755666038, 0.992962937253765, 0.9824784547630598, 0.9982505482044342, 0.9893133813361991, 0.996131658862343, 0.9870639442421569, 0.9952093705794216, 0.9841997506295752, 0.990658055232735, 0.997453832321519, 0.9977439883640332, 0.9814178826913802, 0.9811265779665129, 0.9830896456596392, 0.9820805921450673, 0.9963094351440902, 0.9877533065961582, 0.9847490352343341, 0.9866577057357249, 0.9871179584608707, 0.9821059281718815, 0.9831222134061797, 0.9868036243274444, 0.9941230832124677, 0.986262562945406, 0.9977847755666038, 0.987491700175899, 0.9954406185379064, 0.9830913543763303, 0.9937269239300812, 0.9980152724702119, 0.9877201395127856, 0.9843361400904318, 0.9981866870663555, 0.9955109729651225, 0.9977847755666038, 0.9975877840677545, 0.9932659978019595, 0.990658055232735, 0.980150762660706, 0.9963094351440902, 0.9872847068910647, 0.9946467110405278, 0.9847710641136862, 0.9977439883640332, 0.9804116255526432, 0.9801052937363331, 0.9952410134729692, 0.9979085688295757, 0.9958243393024051, 0.9980930380446779, 0.9916876080782984, 0.9979142985576654, 0.9977847755666038, 0.9958698397479318, 0.9977037706008901, 0.9913568040424589, 0.9906507474015716, 0.9865757060022989, 0.9818711288537555, 0.9898206806643177, 0.9887878840878537, 0.9828142486044373, 0.9861731780862896, 0.9874606649032873, 0.9923391188156123, 0.9910420389110878, 0.9895888638305919, 0.9868122423342219, 0.9860308954495643, 0.9815826753058464, 0.9978426793459413, 0.9810634867280437, 0.9977847755666038, 0.9823066504242293, 0.9840778030861687, 0.988085327272223, 0.983443081704964, 0.9803251403474873, 0.9912161556618991, 0.9982505482044342, 0.989793758695657, 0.9841609019611411, 0.9982823275284147, 0.9977847755666038, 0.9977418560983458, 0.9818176309861989, 0.9980263762281476, 0.9852145616127581, 0.9816286522428256, 0.9954355868982198, 0.9977847755666038, 0.9976830157199578, 0.9875407393630623, 0.9977090574510743, 0.9951929417394955, 0.9971158304476503, 0.9978426793459413, 0.985511343815182, 0.9984241317161382, 0.9815713416780415, 0.9978616872463284, 0.9973124744948515, 0.988755334986904, 0.9874817418903716, 0.9828017445486027, 0.982576762898657, 0.997950307628806, 0.9815787412758393, 0.9896054774545071, 0.9875175757096086, 0.9895931099465402, 0.9850405865118091, 0.9982823275284147, 0.9884056118540316, 0.98577257604614, 0.9971306670645335, 0.9814231258316464, 0.9966051294810142, 0.9905316048249335, 0.9847575784367408, 0.9932814870749009, 0.99781527618858, 0.9977847755666038, 0.9943028552491981, 0.98622037938718, 0.9890487389512456, 0.9841546801097251, 0.9813694432946735, 0.9947064852387597, 0.993526168723461, 0.9967287287039013, 0.9827622217292895, 0.9846130769878108, 0.9943644340444154, 0.9876451031383234, 0.9982505482044342, 0.9800620220121389, 0.996101656086866, 0.9975560842505953, 0.9808255894608343, 0.9977847755666038, 0.9955230867687763, 0.9916148625031561, 0.997453832321519, 0.9951230946874284, 0.99433858607236, 0.9934582578320592, 0.9978426793459413, 0.9931609658928092, 0.9914095861682258, 0.9980408653681865, 0.9942120991804294, 0.9947785624802106, 0.9984241317161382, 0.9892617547544904, 0.9857734899705243, 0.9974676556995576, 0.9967287287039013, 0.981721395263755, 0.9905745198667653, 0.9876725607694012, 0.9981866870663555, 0.9815600138130911, 0.9975560842505953, 0.9895875268927058, 0.9912332304979905, 0.9978426793459413, 0.9977847755666038, 0.9967287287039013, 0.9921637580478151, 0.9977847755666038, 0.9982823275284147, 0.9822192392785172, 0.9977847755666038, 0.9977847755666038, 0.9964953071325986, 0.986612153124333, 0.9952629439535187, 0.9977847755666038, 0.9808728652207119, 0.9916673366563742, 0.9942167684359068, 0.9848235196628622, 0.9974722719676732, 0.9849236611840996, 0.9809448048532684, 0.9982823275284147, 0.9977847755666038, 0.981017435202147, 0.9836941032018189, 0.9812451366719238, 0.9851806462959701, 0.9829305966064011, 0.9977847755666038, 0.9870988226564439, 0.9819805006895312, 0.9982505482044342, 0.996101656086866, 0.9977847755666038, 0.9897936692730671, 0.9919859547382593, 0.9936179961573611, 0.9976339822833897, 0.9881530647023806, 0.9941355309754382, 0.9898942577067168, 0.9887620657784306, 0.9826431727827547, 0.9815157741693538, 0.9856411209387488, 0.9982505482044342, 0.9968666760197393, 0.9975877840677545, 0.981185443706122, 0.9957716146871625, 0.9894557441192835, 0.9813671420944781, 0.9811901862500092, 0.9823098838213088, 0.9882135350302138, 0.9804122338954666, 0.9980408653681865, 0.9964953071325986, 0.9898611972596721, 0.9829988334370194, 0.98020512556694, 0.9962981419902538, 0.9908328432152157, 0.9900522422496837, 0.9977847755666038, 0.9919985498468683, 0.9982505482044342, 0.9880448832006797, 0.9978426793459413, 0.9900812554253217, 0.9855888059989546, 0.9980339753122531, 0.9978616872463284, 0.9894915070608381, 0.9848582873420474, 0.9963094351440902, 0.9982823275284147, 0.9982505482044342, 0.9882640613549196, 0.9939314934642044, 0.9881037817491867, 0.983369453994089, 0.9859301838434067, 0.9897016719978532, 0.9978426793459413, 0.9923346785939372, 0.9810215506364981, 0.9938900436689091, 0.9978426793459413, 0.995315211276425, 0.9922473895448211, 0.9809161538999176, 0.9822532021756221, 0.9886924477391025, 0.9909884500580158, 0.9978426793459413, 0.9893133813361991, 0.9916836330411127, 0.9845756673931771, 0.9826038965049901, 0.9849382688373525, 0.98114268321681, 0.9975560842505953, 0.991722908817453, 0.9975560842505953, 0.9981532496456427, 0.9975560842505953, 0.9827945204799118, 0.9805799753566901, 0.9800138319793277, 0.9839261744909906, 0.9811541741935168, 0.9840626288975914, 0.9977847755666038, 0.9961257257632188, 0.9878472721947553, 0.9833954310256731, 0.9906604692380594, 0.9829474112714104, 0.9814520256240492, 0.9884400231208321, 0.9808139302874292, 0.9820121665016046, 0.9947785624802106, 0.9890953752348197, 0.9960014151743032, 0.9964953071325986, 0.9977847755666038, 0.9939023848870403, 0.989067746351966, 0.9962684529671111, 0.9813190455168558, 0.9877499408963135, 0.9964953071325986, 0.9946441428587677, 0.980033926744536, 0.9976729350470861, 0.9977847755666038, 0.9893896296373641, 0.990600384634338, 0.982609481687306, 0.9896495881666013, 0.9821590943903031, 0.9819600331343523, 0.9802740143588745, 0.9937100439373278, 0.9882437439855037, 0.9869171822167433, 0.9978426793459413, 0.9859329923302024, 0.9977847755666038, 0.998391423085453, 0.9975560842505953, 0.9978426793459413, 0.9876482200690263, 0.9811791831998543, 0.9902116012461778, 0.9889951156359643, 0.9852109285655769, 0.9934292546375156, 0.9877552890562988, 0.9900282587219922, 0.9980548478034957, 0.9866268434627696, 0.993398148104084, 0.996960919380401, 0.9923346785939372, 0.9946277877716583, 0.9830913543763303, 0.9855583165599527, 0.9904269071027098, 0.9964953071325986, 0.9951705546297194, 0.9982823275284147, 0.9810435325586696, 0.9836787036175337, 0.9981812554766459, 0.9977847755666038, 0.9801975923460202, 0.9866639245672, 0.9875718741990304, 0.9932754271690986, 0.9851881487450919, 0.9925421288757964, 0.9837416395465256, 0.9812130402323203, 0.9922850678453962, 0.9813106543778701, 0.9867058489007882, 0.9923145874279278, 0.9848365003265074, 0.9975877840677545, 0.997641163280719, 0.9811791831998543, 0.9862717651388, 0.9926438151513409, 0.9964953071325986, 0.996101656086866, 0.9937912219210807, 0.9977847755666038, 0.9834205658698457, 0.9900522198867289, 0.996101656086866, 0.986262562945406, 0.9980152724702119, 0.9964953071325986, 0.9977847755666038, 0.9834113561229815, 0.9935782315567729, 0.9815206561714663, 0.9925773485529488, 0.997350508460133, 0.9919513384523898, 0.9865810470478595, 0.9982193618214662, 0.9909080621631491, 0.9964953071325986, 0.9950485197691199, 0.9804715370702066, 0.9853444103664836, 0.9802579700011828, 0.981735340329555, 0.9800323171340402, 0.9918227768384573, 0.9982840152684218, 0.9969799310356271, 0.987404672797238, 0.9815914022319382, 0.9855121351848889, 0.9978426793459413, 0.9846005020080669, 0.9848912603346425, 0.9892033220154741, 0.9970107235213829, 0.9865478533625057, 0.9809139704904059, 0.9853215710728133, 0.9982505482044342, 0.9977847755666038, 0.9977847755666038, 0.9890964585910331, 0.9802844756933545, 0.9974722719676732, 0.9968666760197393, 0.9852379027809675, 0.9963094351440902, 0.9884774211377043, 0.9935591177366947, 0.984255472941851, 0.9826515433354709, 0.9954802014388004, 0.9836563678862279, 0.9888097380386283, 0.9881811652633495, 0.9974676556995576, 0.9887564455553306, 0.9802856289657222, 0.9905442409325522, 0.994618168465679, 0.9857142473880838, 0.9980408653681865, 0.9893133813361991, 0.9970107235213829, 0.9971029013821171, 0.9821046000540377, 0.9831429986415924, 0.9912450710927104, 0.9938212558023979, 0.9938212558023979, 0.9977847755666038, 0.987322745274135, 0.9937938796502331, 0.9933196644028937, 0.9826239013515672, 0.9978426793459413, 0.9968666760197393, 0.9820379498566968, 0.9886509235502159, 0.9920434108516731, 0.9839261790345234, 0.9897522634942736, 0.9974676556995576, 0.9890721800630655, 0.9841314496352239, 0.9851725638423213, 0.9910295028330497, 0.994261733285013, 0.9865148861507774, 0.9811964153526598, 0.9898488441958385, 0.9964570472305365, 0.9963094351440902, 0.9862667899587977, 0.9829714531751569, 0.9886873125050689, 0.9887884408159109, 0.981938099383849, 0.9818094884805242, 0.9980408653681865, 0.9977847755666038, 0.9893837245535219, 0.9885363785367435, 0.9946600381208135, 0.9976379746986992, 0.9893133813361991, 0.9830871776716233, 0.9977847755666038, 0.9813272232704074, 0.9878029812535684, 0.9974342362654521, 0.9852365762805068, 0.9893572800943049, 0.99130120743206, 0.9859907280585782, 0.9979489960160146, 0.9902298459652615, 0.9807236072001191, 0.9926917283003526, 0.9814738141615656, 0.9852631582771665, 0.9916876080782984, 0.9977847755666038, 0.9971162529880272, 0.9827192800268074, 0.9984241317161382, 0.9824939197229711, 0.9978426793459413, 0.9803291590117407, 0.9824250828135447, 0.9816007027493594, 0.982138033823758, 0.9880248070507544, 0.9980930380446779, 0.9974722719676732, 0.9887073135745503, 0.987986245824674, 0.9874215947028745, 0.9978426793459413, 0.9982823275284147, 0.985488131861062, 0.9980408653681865, 0.9965378685284068, 0.9889824373265644, 0.9977847755666038, 0.9919513384523898, 0.9962925101283572, 0.9977991998300954, 0.9829865306528689, 0.9831443637299024, 0.9977847755666038, 0.9963094351440902, 0.9977847755666038, 0.9970920589622969, 0.9930005880909211, 0.9827076490576083, 0.9978426793459413, 0.9968666760197393, 0.9982193618214662, 0.9952215847051389, 0.9977847755666038, 0.9944772772136264, 0.9829810368699067, 0.9944420169835556, 0.9878517529499571, 0.986228859655332, 0.9982193618214662, 0.9881810687563325, 0.9972394470530149, 0.9875604149488288, 0.9817379224228633, 0.9827781392966364, 0.9972754176101688, 0.9965238189078292, 0.9974676556995576, 0.9977847755666038, 0.9941935687240675, 0.9982823275284147, 0.9885337846082505, 0.998391423085453, 0.9923155675038167, 0.9840630858282772, 0.9815358086236199, 0.9854638823177676, 0.9977847755666038, 0.9944478624491752, 0.983375695439758, 0.9916876080782984, 0.9927966018806065, 0.9888139644562282, 0.9825201526076325, 0.9982193618214662, 0.9931244355390555, 0.982794773505583, 0.9803696092038784, 0.9978426793459413, 0.9819561473106753, 0.9903889514256383, 0.9982193618214662, 0.9900937100892245, 0.9801483268206523, 0.9968666760197393, 0.9977847755666038, 0.9802535320268344, 0.9887257301080052, 0.9826338780307642, 0.9968666760197393, 0.988960439225128, 0.9985526994568538, 0.9977991998300954, 0.9852045600024152, 0.9974722719676732, 0.9871235847039099, 0.9921140603763547, 0.982133388066376, 0.9967287287039013, 0.9818507962025176, 0.9891306584470069, 0.9968666760197393, 0.9869493061321838, 0.9839645881797922, 0.9963366771210634, 0.9910558731621963, 0.9925640369352586, 0.9918014349505077, 0.9941009193378246, 0.9819781819627367, 0.982110878279431, 0.9835433519889015, 0.9955025061643864, 0.9951249850440088, 0.9896333794131522, 0.99374694541618, 0.996101656086866, 0.9967287287039013, 0.9980263762281476, 0.9980408653681865, 0.9982193618214662, 0.9802974200152974, 0.9982823275284147, 0.9820333729395877, 0.9982823275284147, 0.9829620469547207, 0.988755334986904, 0.9965378685284068, 0.9944420169835556, 0.9975877840677545, 0.9805233278330664, 0.9831155823610945, 0.9977847755666038, 0.9876080386502145, 0.9953168571493799, 0.9927457565490253, 0.9873373904054145, 0.982995513676709, 0.9866901207193961, 0.9863470541899295, 0.9959673169532879, 0.9872108449528849, 0.9880055004486652, 0.9977847755666038, 0.980946681951607, 0.9848204013148071, 0.9982505482044342, 0.9861762324003813, 0.9977847755666038, 0.9935697064141364, 0.98622037938718, 0.9809103468544246, 0.9950869331890583, 0.983927837900438, 0.9842559472931149, 0.9982505482044342, 0.9957973589837537, 0.9856106578326509, 0.98057549444077, 0.997453832321519, 0.9939142680658388, 0.9977847755666038, 0.9802579700011828, 0.9982505482044342, 0.9881717806586804, 0.9817220259991626, 0.9879534578602198, 0.9957333974627074, 0.9978426793459413, 0.9975560842505953, 0.9921345177476201, 0.9947237044989357, 0.9930087898069676, 0.9810431213715834, 0.9959093874449171, 0.9932355314571586, 0.981671053633541, 0.981713951442264, 0.9951896846665527, 0.9863180826631008, 0.991722908817453, 0.9905424245658375, 0.9945588663751955, 0.9906354289941938, 0.9814578202049846, 0.9982823275284147, 0.9982823275284147, 0.9874055115373712, 0.9962338857354117, 0.9869308484302928, 0.9963094351440902, 0.9880572586544482, 0.9977847755666038, 0.9812235240641397, 0.9980408653681865, 0.9955025061643864, 0.9978426793459413, 0.9811502894212931, 0.9960708085237635, 0.996102903897779, 0.9871235847039099, 0.9978426793459413, 0.9880046719119369, 0.9963094351440902, 0.9822304847922139, 0.998391423085453, 0.9982505482044342, 0.9802579700011828, 0.9802579700011828, 0.9937657331157548, 0.995514269973994, 0.997453832321519, 0.9975877840677545, 0.9945714790714636, 0.9921697955262806, 0.9978426793459413, 0.9859143059594572, 0.9893146527645231, 0.9852377055249038, 0.9863073024350727, 0.9977847755666038, 0.9978426793459413, 0.9926686962969943, 0.9848736984354299, 0.9981474740260338, 0.9977847755666038, 0.9982505482044342, 0.9982840152684218, 0.9805737306595237, 0.9884738697014728, 0.9974676556995576, 0.98405149090217, 0.9877901489374553, 0.9955025061643864, 0.9901499452845337, 0.9935782315567729, 0.9909405218546407, 0.9955986659634701, 0.9909538222685623, 0.9867798254245583, 0.9980408653681865, 0.9838880292027544, 0.9838679361383371, 0.9892909512419948, 0.9827550732432724, 0.9967287287039013, 0.9893342716664195, 0.9871732224554837, 0.9839594720864085, 0.9850324828103701, 0.9936357190969289, 0.9848184045615758, 0.9844176179229855, 0.987022681084176, 0.9871289944139252, 0.998016588445175, 0.9975996294386252, 0.9852746876039012, 0.98201542571297, 0.9919544455999315, 0.9982505482044342, 0.996101656086866, 0.9977418560983458, 0.992258139195708, 0.9926036309218617, 0.9887150553206415, 0.9879705207074209, 0.9916321155178444, 0.9949968275272563, 0.9968666760197393, 0.9801896845156753, 0.9963094351440902, 0.9982840152684218, 0.9943860581359895, 0.988071553666844, 0.9802399342810939, 0.9875284641981155, 0.9977847755666038, 0.9822147149730523, 0.9804651101349362, 0.9895688928069313, 0.9944783007018481, 0.9917036886432349, 0.9908413653045486, 0.9842414698999962, 0.9894457182849765, 0.9946525161239523, 0.9969284889621275, 0.9890195608337508, 0.9895152296464469, 0.9982193618214662, 0.9888243005855746, 0.9892828535248448, 0.9977847755666038, 0.9870285734384837, 0.9837836678620481, 0.9977847755666038, 0.9983135178459193, 0.9924583433160794, 0.9894807897987253, 0.9965862606069072, 0.9885045767910757, 0.9961849553277548, 0.9977847755666038, 0.9841255471110727, 0.9925389308510568, 0.995939013979336, 0.9831991441194471, 0.9836059707788892, 0.996209650810569, 0.998391423085453, 0.9959164634836251, 0.9926154931620287, 0.9937185913527423, 0.9982505482044342, 0.9863205705576569, 0.9982193618214662, 0.9839861578450797, 0.9800491252767313, 0.9968666760197393, 0.9818042878099593, 0.982455383085122, 0.9847575784367408, 0.9935782315567729, 0.9982823275284147, 0.9964570472305365, 0.9982505482044342, 0.9810177502539076, 0.9848693788877436, 0.9982505482044342, 0.9836567660470941, 0.9982505482044342, 0.9875418905720794, 0.9978426793459413, 0.994377002087279, 0.9975051419867558, 0.9839124430248197, 0.9880381131685884, 0.9957777612844956, 0.9868382643312503, 0.9826239013515672, 0.9980930380446779, 0.9856847167918547, 0.9965120859684448, 0.9882906928039128, 0.9847575784367408, 0.9832708598319077, 0.9889952427334645, 0.9806480447687562, 0.9967287287039013, 0.9894677747307993, 0.9874817418903716, 0.9975877840677545, 0.9802249546005847, 0.9809366163219337, 0.9801104967432076, 0.9977847755666038, 0.98965846041619, 0.9896268829272107, 0.9815528920782949, 0.9916617227219793, 0.9818748759411494, 0.9937597111015491, 0.9956977202899974, 0.9975877840677545, 0.9982823275284147, 0.9807521441695143, 0.9876319896178203, 0.9916193005772601, 0.9809249360173756, 0.9974676556995576, 0.9851403582988268, 0.9826810075443955, 0.9986308388888452, 0.983103526008366, 0.9902988371340331, 0.9910596938590852, 0.9802695015017114, 0.9904423036217905, 0.9955025061643864, 0.9806899875520428, 0.9804235092042272, 0.9851806462959701, 0.9978616872463284, 0.9977915660936778, 0.9943589381126272, 0.9873808154000733, 0.9980548478034957, 0.9982505482044342, 0.9817080026219649, 0.9806551596678988, 0.9840733722150137, 0.98245714461427, 0.9845169373289172, 0.9977847755666038, 0.9975740556503975, 0.9831437502320989, 0.9827438906153684, 0.9852473763223069, 0.980850694392805, 0.9969284889621275, 0.9825438473920893, 0.9965378685284068, 0.9839159406179318, 0.991245475449449, 0.995206287248505, 0.9919932854833019, 0.9907941210281563, 0.9956299824829182, 0.9986417970902283, 0.9977991998300954, 0.9841252045694784, 0.996101656086866, 0.9874817418903716, 0.989171679519857, 0.9800211380374461, 0.9942653372199203, 0.9842670145867272, 0.9897016719978532, 0.9977847755666038, 0.9910420389110878, 0.9975877840677545, 0.9982823275284147, 0.9893278783659227, 0.9828201225749669, 0.9967287287039013, 0.996101656086866, 0.9893133813361991, 0.9801311976321019, 0.9982505482044342, 0.9884977195455397, 0.9971202374220643, 0.9950818224796248, 0.9980548478034957, 0.9854941388498593, 0.9909605759944842, 0.9931149187983203, 0.9926064163044729, 0.9953742755957029, 0.9890095783979297, 0.9907741129945701, 0.995942173253141, 0.9978426793459413, 0.9964985586984787, 0.9800928124696249, 0.9977847755666038, 0.9830136964061631, 0.9833201388675176, 0.9978426793459413, 0.9849608317501631, 0.9982505482044342, 0.990312130079082, 0.9852788222469216, 0.9951896846665527, 0.9928548248753097, 0.9883929468856285, 0.9859543534759357, 0.9897583506208216, 0.9963094351440902, 0.9829545923997225, 0.9977847755666038, 0.9977847755666038, 0.9821183999295412, 0.9984241317161382, 0.9977847755666038, 0.9827775411564944, 0.9899759941105324, 0.9906863334344699, 0.9858010246159301, 0.9887739561331406, 0.9883908576085559, 0.987873438106938, 0.9810417913374877, 0.9982505482044342, 0.9818834053491292, 0.9980152724702119, 0.99021010200804, 0.9806378574109049, 0.9964953071325986, 0.9884084665329239, 0.9802637522242715, 0.993122980932688, 0.998391423085453, 0.9855244949716557, 0.9969284889621275, 0.9978426793459413, 0.9965378685284068, 0.9895883023972956, 0.9968666760197393, 0.9819306828254337, 0.9967287287039013, 0.9983073186677934, 0.9871289944139252, 0.9916876080782984, 0.9907717805603324, 0.9980408653681865, 0.9804672663547953, 0.9977847755666038, 0.9858562700147947, 0.9888643889588172, 0.9843149992609037, 0.9980408653681865, 0.9977847755666038, 0.9863869208398958, 0.9964865909696748, 0.9855538403124733, 0.9969284889621275, 0.9843766242153108, 0.988755334986904, 0.9977847755666038, 0.9850605517580389, 0.9928503291347969, 0.9872182377828305, 0.9941551512462338, 0.997950307628806, 0.9982823275284147, 0.9836354855444732, 0.9923493232422559, 0.997453832321519, 0.9811964153526598, 0.9816308461518388, 0.9982193618214662, 0.9886054584502243, 0.9968877413997291, 0.9982505482044342, 0.9882337607571512, 0.9982505482044342, 0.9985526994568538, 0.9912664672546776, 0.989367818583976, 0.9852770816350611, 0.9905878912728865, 0.9943594859357601, 0.9838701174774892, 0.9919513384523898, 0.9963887848226889, 0.9831604107398527, 0.9855297656014104, 0.9964865909696748, 0.9905470570024693, 0.987108821221758, 0.9970918409019796, 0.998455717292239, 0.9940466834393463, 0.9806656051989624, 0.9963094351440902, 0.9823522537185257, 0.9951896846665527, 0.9941551512462338, 0.9969833836959596, 0.987270815070378, 0.9857951556993885, 0.9949834900396082, 0.9826609091224151, 0.9853700903993636, 0.9890515301369792, 0.9804742477567155, 0.9867300580973825, 0.9828403725050205, 0.98946512949755, 0.995042534583213, 0.9947898726506995, 0.9844109774307404, 0.9882193056760531, 0.996101656086866, 0.9825963275281444, 0.997223744206437, 0.9860468508669287, 0.9919534302981668, 0.988085327272223, 0.994772399533121, 0.9893525064442511, 0.9902041112162964, 0.9820257308013698, 0.9840646170192172, 0.9929654636537516, 0.9820336422466809, 0.9929716538360792, 0.9838941891839766, 0.9863156797137259, 0.996101656086866, 0.9975877840677545, 0.9985808990640653, 0.9877247198657123, 0.9960950565284703, 0.9982505482044342, 0.9813482917207272, 0.9974342362654521, 0.9871152984436977, 0.9977847755666038, 0.9862573953947332, 0.9820511379060026, 0.9843822381534197, 0.9817159864995003, 0.9851805659948306, 0.9830353430633834, 0.992611097588095, 0.9817206672769745, 0.9895557394207753, 0.9854023752271116, 0.9963094351440902, 0.9884738697014728, 0.9890683319279611, 0.9977847755666038, 0.9984241317161382, 0.9870251532763151, 0.9981489908269467, 0.9982505482044342, 0.989487971526164, 0.9930505267484829, 0.9964953071325986, 0.9884931960015839, 0.9977847755666038, 0.996101656086866, 0.9827760108359628, 0.9975877840677545, 0.995894893160086, 0.9816266283772912, 0.9810634867280437, 0.9889407487742279, 0.9852365762805068, 0.9964570472305365, 0.9982505482044342, 0.9963094351440902, 0.9862102491215055, 0.9967062582183747, 0.9808354579845844, 0.9808217068432037, 0.9801089999141163, 0.9978830473837855, 0.9823661126943798, 0.9854461442474198, 0.9977847755666038, 0.9944898150548016, 0.9985808990640653, 0.9976544309465462, 0.9901453052765369, 0.9878834179951529, 0.9978426793459413, 0.9977847755666038, 0.9942648012136892, 0.9965075338929759, 0.9820521076801304, 0.9854259989453724, 0.9909015914123054, 0.9867867509036348, 0.9809741870029974, 0.9867639184724147, 0.9949697172327125, 0.987130877302193, 0.9928548248753097, 0.9807121518637546, 0.9889089400222811, 0.9901048200259792, 0.994879002656998, 0.9918598473176431, 0.9836137803244873, 0.9968666760197393, 0.9964570472305365, 0.9854091009065599, 0.9982505482044342, 0.991722908817453, 0.986220762004541, 0.9986728332711332, 0.9975877840677545, 0.995644719579429, 0.9869493061321838, 0.9846316240048418, 0.9955025061643864, 0.9979784367699137, 0.9811179232533614, 0.987130877302193, 0.9964865909696748, 0.9879979776209767, 0.9975560842505953, 0.9859278156170546, 0.9934780735679124, 0.9908683629794379, 0.9924539279210156, 0.9970136615650117, 0.984248192895229, 0.9832322177504651, 0.9937499743573429, 0.9938830284122158, 0.9978426793459413, 0.9977847755666038, 0.9864430558326726, 0.9895997123765214, 0.9964775846526851, 0.9975996294386252, 0.9877904755568766, 0.9943623788434801, 0.9978426793459413, 0.9940846407614803, 0.9949818223827351, 0.9935185757577006, 0.9872141371514773, 0.9955025061643864, 0.9845921450400106, 0.991462444518249, 0.9882319858250923, 0.9882237001677253, 0.9974676556995576, 0.9963094351440902, 0.9914306558156821, 0.9810742198339317, 0.9800261622087592, 0.9977037706008901, 0.980583780753449, 0.993410924812674, 0.9977847755666038, 0.9982193618214662, 0.9860726865724972, 0.9849141452750908, 0.9869733668449453, 0.9963094351440902, 0.9809887041349109, 0.9833221309776956, 0.981457516411778, 0.9900744885842365, 0.9864341035063129, 0.9985265262656734, 0.9955025061643864, 0.9814036799364422, 0.9977847755666038, 0.9915516086064432, 0.9802412599342427, 0.9982121223427299, 0.9958665715989203, 0.9914429538512861, 0.9811600368093425, 0.992676096871631, 0.9943936462940244, 0.9982505482044342, 0.9802857621792541, 0.9967287287039013, 0.9850277232032509, 0.9969284889621275, 0.9924829483230587, 0.9948721479302013, 0.988563611688157, 0.9974676556995576, 0.9894999375219219, 0.9906948736919547, 0.9941309800185081, 0.9977847755666038, 0.98656081134036, 0.9963094351440902, 0.9919380134580666, 0.9982823275284147, 0.9982840152684218, 0.9982193618214662, 0.9982814019021051, 0.9923346785939372, 0.9937100439373278, 0.9992187648438542, 0.9963094351440902, 0.9939964410969019, 0.9982505482044342, 0.9808380455910134, 0.9893981575021089, 0.9965378685284068, 0.9838825565144699, 0.9982823275284147, 0.9965378685284068, 0.9977847755666038, 0.9807475944603934, 0.9877626201075426, 0.9867078942472928, 0.9982823275284147, 0.9930341801433415, 0.9937100439373278, 0.9924503542565675, 0.997453832321519, 0.986204415214982, 0.9981812554766459, 0.9976379746986992, 0.9982823275284147, 0.9833888263332038, 0.9978426793459413, 0.9947785624802106, 0.9802365196370205, 0.9982505482044342, 0.9955025061643864, 0.9830788208260256, 0.9833153394445208, 0.9957973589837537, 0.9940508534176647, 0.9872030180346345, 0.9888382663700236, 0.9950059758077823, 0.9971805770718196, 0.9895043639923251, 0.9975491930365016, 0.9889019363166076, 0.9923346785939372, 0.9803533147255955, 0.9975569572553579, 0.9975877840677545, 0.9862183072496163, 0.9805486500443227, 0.9827254622740951, 0.9852896439727048, 0.9853958946148936, 0.9811267601127276, 0.9849108029392991, 0.9963420745636311, 0.9980408653681865, 0.9854117564875926, 0.9980930380446779, 0.9839228978354111, 0.9905807063730262, 0.9984386794363764, 0.9977847755666038, 0.9982193618214662, 0.9964953071325986, 0.9826345583720244, 0.9841255471110727, 0.9907075999983121, 0.980024967612939, 0.9809099234051168, 0.9925385738324108, 0.989972149832591, 0.9972595587704008, 0.9978426793459413, 0.9814447714391927, 0.9851488318850234, 0.988085327272223, 0.9893133813361991, 0.9874817418903716, 0.9972508065506415, 0.9829085910427712, 0.9853587341125564, 0.9948841679223205, 0.989173641573826, 0.9800379562937322, 0.9973670303873632, 0.9975569572553579, 0.9955025061643864, 0.9977847755666038, 0.9871289944139252, 0.997453832321519, 0.9937100439373278, 0.993122980932688, 0.9937100439373278, 0.9850218087818998, 0.986325485930667, 0.9974676556995576, 0.9957557081946081, 0.996101656086866, 0.9895329026895492, 0.9821388800845776, 0.9814602551515047, 0.9975560842505953, 0.9944556520381587, 0.9944420169835556, 0.9836227511835676, 0.9908714376136236, 0.9980408653681865, 0.984454940911496, 0.9955025061643864, 0.9963094351440902, 0.9956301724640562, 0.9814107536389958, 0.9893133813361991, 0.9965238189078292, 0.983375695439758, 0.9885834766523185, 0.996101656086866, 0.9841456558434895, 0.9846871244233601, 0.9977847755666038, 0.9884738697014728, 0.9857621987532221, 0.9848693788877436, 0.9830142898291124, 0.9873537619578834, 0.9832625698586154, 0.984796677520306, 0.9977847755666038, 0.9935782315567729, 0.9967287287039013, 0.9866475993043626, 0.9884738697014728, 0.9830913543763303, 0.983070321527098, 0.9896574024618474, 0.9892083431515041, 0.9927744530257078, 0.995939013979336, 0.9924359650725173, 0.9963094351440902, 0.9968666760197393, 0.9982505482044342, 0.9977847755666038, 0.987891630114678, 0.9870197721606484, 0.9977004408914878, 0.9945966979489539, 0.9977847755666038, 0.991722908817453, 0.9901193433219276, 0.9874817418903716, 0.9978426793459413, 0.986262562945406, 0.9928245607562318, 0.9898881848703824, 0.9847678075293985, 0.9899756561487699, 0.9804738988513062, 0.9975560842505953, 0.9965988366662122, 0.9982193618214662, 0.9918035208728841, 0.9968666760197393, 0.996101656086866, 0.9976756247186088, 0.9861102397705773, 0.9852896439727048, 0.9833821037240231, 0.9814474760053927, 0.9940638925150592, 0.9879294336516646, 0.9853084910320349, 0.9848184045615758, 0.9936828265964378, 0.9886955564816403, 0.9833618358692429, 0.9978426793459413, 0.9982505482044342, 0.9915709675120628, 0.9983821760587885, 0.9934149810756009, 0.9842622654784391, 0.9969523399206534, 0.9826541670304356, 0.9887190036332665, 0.9933175314998649, 0.9977847755666038, 0.9919721405159109, 0.9914875539834629, 0.9923907932940536, 0.9904516544378499, 0.9879282453537027, 0.99017738982617, 0.9937100439373278, 0.9867200480313925, 0.9806538140665703, 0.9841543050547907, 0.982162492081204, 0.9916876080782984, 0.9808637223292584, 0.9975877840677545, 0.9825913046082537, 0.9982505482044342, 0.9874901376710505, 0.9940144218333183, 0.9835459818719472, 0.9895165914786502, 0.9887479732887485, 0.992261445170978, 0.9907066519770547, 0.9930474841954587, 0.9817947412244994, 0.9833528742878834, 0.9984241317161382, 0.9877183554415685, 0.9863205705576569, 0.9982823275284147, 0.9916459373435924, 0.9966139780503948, 0.9968666760197393, 0.9941829408741082, 0.9885836972936516, 0.9977037706008901, 0.9802579700011828, 0.9982823275284147, 0.996101656086866, 0.9873169107361669, 0.9929792329697037, 0.9839687198930666, 0.980487832755247, 0.9977847755666038, 0.9815445149974036, 0.9829560540727088, 0.994261733285013, 0.9893133813361991, 0.9894798976535872, 0.9849029456648779, 0.9945369441374704, 0.9978426793459413, 0.9849648523128561, 0.9956989167863128, 0.9967287287039013, 0.995715828109942, 0.9802254392307026, 0.9975560842505953, 0.988563611688157, 0.994896418476255, 0.9863964339975492, 0.982354971583289, 0.9832335788983453, 0.980077273300065, 0.9815633839583053, 0.9811964153526598, 0.9982505482044342, 0.9896761367096276, 0.9845428483521419, 0.9825172881605574, 0.9891084392716069, 0.9875853874645556, 0.9928476320938726, 0.9846310600316694, 0.9872789051913677, 0.9959984974816578, 0.9937100439373278, 0.9978426793459413, 0.9802579700011828, 0.9945126240338112, 0.9930461972431375, 0.9980930380446779, 0.9931197832316019, 0.9978426793459413, 0.9885748271420899, 0.9864226686201832, 0.9982840152684218, 0.9982703469092273, 0.9928954190324834, 0.9977847755666038, 0.9980548478034957, 0.9859229570468274, 0.9974676556995576, 0.9985119915713482, 0.9908673191592015, 0.989303530621609, 0.9922977621282989, 0.9829402691350543, 0.9978426793459413, 0.9981489908269467, 0.9969755968871211, 0.9964865909696748, 0.9975452672366206]\n",
            "[0, 25, 39, 89, 108, 119, 173, 215, 280, 320, 325, 429, 467, 502, 524, 530, 567, 604, 665, 695, 717, 797, 807, 808, 854, 877, 901, 920, 922, 1078, 1112, 1128, 1148, 1154, 1157, 1169, 1174, 1183, 1185, 1186, 1197, 1215, 1219, 1239, 1255, 1293, 1350, 1375, 1376, 1415, 1584, 1616, 1621, 1639, 1687, 1694, 1715, 1757, 1769, 1786, 1788, 1789, 1794, 1803, 1821, 1829, 1869, 1872, 1900, 1902, 1974, 2016, 2080, 2184, 2233, 2237, 2300, 2327, 2388, 2398, 2399, 2426, 2446, 2475, 2502, 2529, 2617, 2621, 2646, 2719, 2796, 2859, 2887, 2931, 2938, 2958, 3007, 3016, 3083, 3090, 3146, 3148, 3170, 3175, 3204, 3205, 3207, 3270, 3271, 3281, 3284, 3309, 3311, 3339, 3357, 3402, 3406, 3436, 3454, 3520, 3554, 3570, 3598, 3649, 3657, 3695, 3709, 3795, 3816, 3936, 3960, 3999, 4058, 4087, 4118, 4133, 4140, 4179, 4193, 4297, 4320, 4345, 4358, 4363, 4437, 4440, 4483, 4496, 4509, 4544, 4633, 4677, 4708, 4719, 4743, 4752, 4765, 4800, 4834, 5003, 5029, 5057, 5058, 5059, 5060, 5070, 5127, 5150, 5179, 5194, 5262, 5365, 5386, 5401, 5408, 5410, 5414, 5468, 5496, 5629, 5689, 5708, 5715, 5804, 5816, 5865, 5872, 5894, 5900, 5944, 6024, 6103, 6152, 6170, 6244, 6327, 6338, 6361, 6366, 6396, 6402, 6460, 6531, 6540, 6565, 6709, 6739, 6882, 6916, 6962, 6987, 7002, 7058, 7063, 7115, 7137, 7149, 7188, 7198, 7224, 7250, 7297, 7299, 7334, 7337, 7339, 7391, 7401, 7420, 7506, 7736, 7806, 7902, 7911, 7973, 8157, 8194, 8238, 8260, 8331, 8355, 8379, 8494, 8545, 8568, 8590, 8694, 8698, 8728, 8777, 8826, 8895, 8929, 8972, 8998, 9016, 9024, 9042, 9093, 9095, 9142, 9272, 9287, 9366, 9370, 9461, 9475, 9492, 9496, 9600, 9605, 9708, 9726, 9770, 9804, 9805, 9806, 9819, 9852, 9859, 9889, 9916, 10058, 10096, 10119, 10122, 10214, 10291, 10299, 10316, 10357, 10364, 10429, 10436, 10459, 10472, 10499, 10518, 10729, 10809, 10822, 10886, 10933, 10987, 11008, 11013, 11019, 11060, 11102, 11135, 11152, 11169, 11207, 11228, 11300, 11315, 11433, 11469, 12069, 12121, 12151, 12216, 12238, 12241, 12255, 12273, 12277, 12295, 12383, 12462, 12472, 12479, 12507, 12534, 12559, 12591, 12643, 12652, 12709, 12728, 12766, 12832, 12847, 12875, 12903, 12956, 12971, 12992, 13034, 13098, 13139, 13151, 13301, 13411, 13438, 13453, 13466, 13537, 13592, 13619, 13644, 13663, 13721, 13763, 13783, 13797, 13860, 13911, 14020, 14121, 14172, 14226, 14365, 14389, 14394, 14444, 14494, 14496, 14512, 14524, 14550, 14579, 14609, 14616, 14674, 14722, 14731, 14737, 14764, 14765, 14789, 14814, 14836, 14837, 14857, 14858, 14971, 14985, 15007, 15010, 15018, 15068, 15209, 15219, 15286, 15326, 15333, 15366, 15398, 15401, 15404, 15461, 15486, 15659, 15671, 15687, 15689, 15691, 15697, 15765, 15805, 15808, 15843, 15893, 15918, 16003, 16005, 16071, 16094, 16102, 16175, 16252, 16272, 16353, 16388, 16497, 16525, 16569, 16592, 16693, 16773, 16815, 16817, 16828, 16880, 16904, 16918, 16945, 16957, 16972, 16991, 17007, 17079, 17085, 17086, 17091, 17114, 17168, 17250, 17265, 17343, 17391, 17412, 17423, 17464, 17522, 17557, 17619, 17758, 17764, 17765, 17904, 17923, 17934, 17955, 17960, 18029, 18130, 18266, 18304, 18311, 18336, 18368, 18550, 18562, 18591, 18666, 18679, 18687, 18706, 18717, 18750, 18762, 18808, 18837, 18919, 18920, 19004, 19135, 19146, 19155, 19206, 19277, 19339, 19400, 19434, 19476, 19495, 19590, 19625, 19781, 19798, 19808, 19811, 19866, 19872, 19901, 19936, 19939, 19945, 19979, 19998, 20041, 20140, 20151, 20169, 20193, 20229, 20230, 20250, 20284, 20322, 20394, 20406, 20469, 20474, 20479, 20524, 20546, 20552, 20565, 20577, 20691, 20710, 20712, 20770, 20784, 20988, 20989, 21000, 21007, 21034, 21035, 21187, 21222, 21238, 21239, 21261, 21267, 21348, 21384, 21418, 21535, 21558, 21632, 21929, 22006, 22016, 22064, 22129, 22130, 22133, 22142, 22181, 22216, 22242, 22295, 22337, 22352, 22353, 22379, 22407, 22432, 22438, 22440, 22446, 22585, 22624, 22627, 22628, 22670, 22755, 22805, 22809, 22822, 22832, 22962, 22963, 22966, 22970, 22985, 22993, 23252, 23259, 23273, 23298, 23331, 23446, 23459, 23501, 23507, 23566, 23663, 23667, 23676, 23710, 23713, 23717, 23730, 23781, 23848, 23853, 23854, 23879, 23881, 23887, 23925, 23931, 23944, 23948, 23982, 24109, 24149, 24257, 24272, 24288, 24296, 24297, 24298, 24301, 24305, 24306, 24323, 24368, 24648, 24678, 24683, 24689, 24699, 24701, 24730, 24743, 24872, 24880, 24899, 24930, 24934, 25009, 25123, 25147, 25170, 25178, 25200, 25250, 25274, 25290, 25350, 25386, 25407, 25463, 25563, 25570, 25605, 25743, 25787, 25801, 25879, 25981, 25991, 26072, 26135, 26137, 26156, 26261, 26277, 26278, 26279, 26297, 26378, 26383, 26388, 26404, 26450, 26457, 26458, 26479, 26592, 26648, 26709, 26715, 26725, 26726, 26740, 26817, 26851, 26853, 26878, 26883, 26940, 27005, 27020, 27023, 27065, 27091, 27205, 27249, 27279, 27325, 27448, 27476, 27481, 27490, 27535, 27540, 27541, 27571, 27583, 27604, 27607, 27643, 27645, 27646, 27647, 27705, 27707, 27736, 27758, 27857, 27908, 27926, 27937, 27941, 28016, 28067, 28202, 28256, 28281, 28340, 28470, 28485, 28537, 28542, 28547, 28561, 28581, 28585, 28594, 28598, 28608, 28639, 28641, 28784, 28846, 28905, 28951, 28965, 28980, 28982, 29027, 29029, 29032, 29089, 29090, 29115, 29130, 29156, 29157, 29304, 29339, 29441, 29456, 29493, 29536, 29588, 29591, 29646, 29673, 29756, 29763, 29805, 29832, 29856, 29883, 29931, 29936, 29946, 29949, 29980, 30019, 30025, 30091, 30108, 30136, 30180, 30201, 30202, 30203, 30204, 30224, 30271, 30291, 30292, 30293, 30312, 30327, 30329, 30336, 30355, 30389, 30429, 30470, 30490, 30552, 30579, 30586, 30654, 30696, 30738, 30771, 30778, 30780, 30894, 30932, 30943, 30948, 30955, 31025, 31028, 31098, 31133, 31136, 31169, 31178, 31179, 31211, 31313, 31331, 31397, 31402, 31424, 31469, 31570, 31603, 31604, 31634, 31795, 31808, 31816, 31829, 31838, 31927, 31949, 32022, 32045, 32065, 32069, 32078, 32133, 32189, 32208, 32224, 32293, 32297, 32306, 32324, 32347, 32478, 32482, 32492, 32493, 32500, 32538, 32562, 32640, 32663, 32667, 32675, 32710, 32715, 32718, 32719, 32731, 32732, 32781, 32788, 32823, 32862, 32871, 32893, 32898, 32905, 32909, 32923, 32952, 32971, 32998, 33051, 33074, 33133, 33137, 33154, 33155, 33171, 33392, 33394, 33426, 33465, 33495, 33527, 33544, 33599, 33601, 33609, 33620, 33687, 33689, 33698, 33741, 33752, 33768, 33771, 33772, 33774, 33781, 33829, 33847, 33922, 33977, 33993, 34016, 34034, 34045, 34051, 34069, 34075, 34134, 34285, 34291, 34301, 34354, 34388, 34436, 34447, 34455, 34487, 34577, 34578, 34595, 34607, 34667, 34708, 34721, 34730, 34782, 34792, 34888, 34904, 35101, 35132, 35134, 35323, 35368, 35403, 35436, 35446, 35480, 35481, 35490, 35502, 35523, 35544, 35550, 35557, 35642, 35663, 35673, 35717, 35722, 35773, 35774, 35807, 35878, 35937, 35955, 35963, 36025, 36093, 36144, 36199, 36206, 36208, 36218, 36223, 36240, 36291, 36303, 36340, 36372, 36416, 36468, 36517, 36550, 36555, 36569, 36729, 36766, 36778, 36798, 36846, 36855, 36886, 36896, 36912, 36931, 36972, 36984, 36995, 37026, 37045, 37088, 37101, 37140, 37141, 37185, 37197, 37213, 37217, 37226, 37273, 37297, 37310, 37329, 37338, 37440, 37473, 37525, 37528, 37556, 37626, 37656, 37694, 37733, 37803, 37980, 37985, 38014, 38034, 38114, 38138, 38142, 38164, 38166, 38172, 38190, 38194, 38214, 38231, 38238, 38253, 38257, 38278, 38291, 38297, 38328, 38416, 38504, 38512, 38538, 38540, 38666, 38890, 38905, 39007, 39024, 39048, 39072, 39128, 39142, 39159, 39166, 39172, 39215, 39264, 39331, 39338, 39487, 39677, 39716, 39899, 39901, 39930, 39944, 40018, 40090, 40121, 40192, 40276, 40453, 40534, 40621, 40630, 40663, 40677, 40712, 40756, 40803, 40816, 40852, 40863, 41373, 41384, 41406, 41425, 41453, 41458, 41499, 41505, 41508, 41535, 41540, 41593, 41651, 41652, 41669, 41695, 41710, 41713, 41736, 41745, 41758, 41806, 41878, 41894, 41924, 41948, 41989, 42121, 42150, 42215, 42225, 42264, 42285, 42303, 42377, 42393, 42402, 42419, 42443, 42458, 42492, 42629, 42661, 42673, 42674, 42687, 42757, 42766, 42780, 42823, 42824, 42827, 42848, 42851, 42878, 42911, 42937, 42972, 42974, 43036, 43150, 43168, 43198, 43209, 43218, 43225, 43245, 43257, 43288, 43315, 43368, 43371, 43387, 43405, 43407, 43414, 43424, 43489, 43499, 43515, 43522, 43553, 43559, 43703, 43785, 43804, 43922, 43944, 43990, 43996, 44041, 44077, 44091, 44119, 44127, 44192, 44337, 44343, 44347, 44362, 44372, 44400, 44413, 44427, 44489, 44550, 44602, 44635, 44649, 44726, 44753, 44766, 44767, 44773, 44861, 44900, 45069, 45101, 45107, 45111, 45171, 45179, 45181, 45184, 45221, 45233, 45241, 45246, 45256, 45277, 45297, 45335, 45364, 45373, 45383, 45388, 45406, 45431, 45466, 45481, 45505, 45513, 45517, 45604, 45677, 45681, 45684, 45708, 45727, 45762, 45823, 45838, 45866, 45873, 45875, 45898, 45910, 46002, 46057, 46109, 46165, 46209, 46251, 46268, 46269, 46323, 46339, 46487, 46522, 46536, 46541, 46557, 46581, 46605, 46631, 46661, 46671, 46680, 46755, 46780, 46810, 46840, 46865, 46894, 46900, 46926, 46946, 46961, 46974, 47019, 47139, 47491, 47517, 47608, 47732, 47784, 47799, 47901, 47929, 48069, 48117, 48120, 48121, 48123, 48132, 48159, 48212, 48261, 48262, 48271, 48296, 48305, 48310, 48320, 48327, 48355, 48383, 48416, 48425, 48436, 48462, 48569, 48799, 48829, 48841, 48845, 48846, 48875, 48876, 48903, 48939, 48956, 48963, 48964, 48981, 49055, 49061, 49094, 49150, 49211, 49252, 49282, 49350, 49468, 49506, 49577, 49646, 49695, 49726, 49808, 49830, 49831, 49838, 49857, 49874, 49906, 49915, 49918, 49932, 49979, 50014, 50253, 50273, 50302, 50361, 50442, 50540, 50559, 50579, 50592, 50606, 50664, 50761, 50776, 50880, 50885, 50890, 50892, 50915, 50916, 50917, 50924, 51004, 51134, 51255, 51286, 51311, 51395, 51461, 51502, 51527, 51534, 51553, 51632, 51653, 51660, 51757, 51788, 51991, 52001, 52013, 52054, 52059, 52092, 52101, 52302, 52343, 52489, 52498, 52538, 52585, 52703, 52714, 52767, 52865, 52897, 52902, 53052, 53079, 53097, 53150, 53184, 53217, 53222, 53256, 53272, 53288, 53312, 53331, 53371, 53646, 53824, 53870, 53924, 53939, 53973, 53979, 54006, 54032, 54038, 54039, 54064, 54065, 54090, 54226, 54365, 54411, 54428, 54495, 54514, 54525, 54549, 54694, 54763, 54782, 54800, 54832, 54893, 54909, 54919, 55144, 55216, 55234, 55261, 55321, 55424, 55449, 55470, 55513, 55616, 55653, 55656, 55662, 55723, 55842, 55854, 55862, 55863, 55886, 55902, 55913, 55921, 56000, 56021, 56133, 56161, 56162, 56176, 56207, 56576, 56589, 56630, 56658, 56668, 56680, 56683, 56722, 56728, 56879, 56917, 56918, 56926, 56955, 56961, 56974, 56988, 56989, 56991, 56995, 57078, 57136, 57209, 57242, 57258, 57261, 57279, 57281, 57283, 57287, 57321, 57341, 57372, 57531, 57542, 57555, 57556, 57599, 57611, 57626, 57627, 57645, 57646, 57657, 57673, 57686, 57709, 57718, 57856, 57858, 58005, 58050, 58074, 58191, 58208, 58233, 58240, 58248, 58271, 58306, 58370, 58390, 58393, 58485, 58556, 58582, 58603, 58644, 58646, 58658, 58743, 58744, 58746, 58785, 58787, 58788, 58814, 58911, 58940, 58950, 59001, 59067, 59077, 59147, 59164, 59229, 59234, 59235, 59269, 59291, 59349, 59783, 59796, 59862, 59879, 59894, 59932, 59980, 60080, 60084, 60113, 60117, 60131, 60179, 60236, 60249, 60289, 60307, 60344, 60394, 60428, 60550, 60554, 60574, 60580, 60630, 60644, 60727, 60751, 60755, 60838, 60855, 60889, 60890, 60891, 60895, 60946, 61012, 61050, 61086, 61174, 61234, 61279, 61294, 61308, 61321, 61381, 61483, 61658, 61687, 61689, 61704, 61726, 61749, 61772, 61813, 61888, 61941, 61998, 62033, 62072, 62075, 62096, 62176, 62190, 62214, 62237, 62274, 62276, 62294, 62342, 62371, 62380, 62389, 62394, 62460, 62507, 62624, 62690, 62770, 62808, 62819, 62828, 62879, 62889, 62892, 62896, 62928, 62967, 62977, 63015, 63017, 63074, 63105, 63120, 63141, 63149, 63202, 63221, 63235, 63238, 63248, 63267, 63289, 63358, 63446, 63468, 63489, 63526, 63743, 63751, 63754, 63800, 63815, 63835, 63937, 63962, 64041, 64071, 64090, 64111, 64166, 64188, 64203, 64239, 64273, 64275, 64279, 64310, 64438, 64489, 64499, 64503, 64507, 64536, 64538, 64593, 64661, 64665, 64743, 64795, 64805, 64867, 64870, 64920, 64925, 64932, 64970, 64980, 64984, 65048, 65104, 65173, 65176, 65231, 65250, 65309, 65374, 65376, 65396, 65422, 65462, 65464, 65496, 65514, 65522, 65535, 65574, 65575, 65582, 65624, 65632, 65634, 65661, 65687, 65705, 65787, 65792, 65794, 65795, 65876, 65889, 65914, 65982, 65983, 65990, 66032, 66044, 66148, 66167, 66179, 66258, 66289, 66301, 66363, 66423, 66426, 66463, 66500, 66530, 66549, 66560, 66578, 66580, 66673, 66748, 66792, 66796, 66828, 66871, 66882, 66945, 67056, 67126, 67191, 67202, 67258, 67292, 67351, 67366, 67472, 67504, 67623, 67699, 67780, 67822, 67848, 67860, 67909, 67973, 67979, 67994, 68044, 68046, 68047, 68087, 68097, 68128, 68193, 68336, 68372, 68509, 68534, 68552, 68557, 68592, 68598, 68653, 68765, 68784, 68955, 69139, 69162, 69221, 69224, 69229, 69327, 69343, 69371, 69443, 69498, 69501, 69551, 69587, 69678, 69739, 69784, 69811, 69851, 69884, 69903, 69905, 69916, 70036, 70039, 70042, 70176, 70224, 70276, 70345, 70349, 70351, 70359, 70366, 70383, 70387, 70459, 70461, 70479, 70493, 70504, 70516, 70590, 70641, 70657, 70658, 70691, 70696, 70736, 70790, 70983, 70993, 70999, 71010, 71014, 71040, 71129, 71151, 71154, 71229, 71239, 71240, 71368, 71386, 71389, 71431, 71448, 71457, 71519, 71529, 71559, 71632, 71698, 71700, 71716, 71731, 71775, 71783, 71837, 71890, 71912, 71954, 72033, 72071, 72101, 72103, 72113, 72123, 72131, 72136, 72169, 72176, 72202, 72223, 72330, 72335, 72401, 72448, 72480, 72497, 72646, 72657, 72737, 72787, 72871, 72872, 72887, 72888, 72894, 72910, 72965, 72979, 73004, 73011, 73014, 73080, 73094, 73119, 73120, 73420, 73428, 73431, 73434, 73476, 73525, 73575, 73598, 73667, 73668, 73699, 73715, 73765, 73786, 73803, 73842, 73961, 73963, 73992, 73993, 73994, 73997, 74031, 74162, 74170, 74198, 74205, 74311, 74369, 74461, 74509, 74524, 74570, 74747, 74768, 74872, 74897, 74926, 74971, 75012, 75045, 75063, 75066, 75071, 75075, 75135, 75182, 75188, 75268, 75305, 75312, 75317, 75335, 75351, 75355, 75413, 75421, 75451, 75515, 75553, 75561, 75607, 75687, 75797, 75809, 75818, 75825, 75828, 75837, 75880, 75898, 75967, 75987, 76026, 76046, 76104, 76127, 76200, 76255, 76270, 76317, 76361, 76415, 76419, 76526, 76534, 76566, 76664, 76699, 76802, 76819, 76834, 76866, 76873, 76874, 76877, 76881, 76990, 77022, 77026, 77063, 77465, 77780, 77787, 77790, 77808, 77847, 77848, 77943, 77973, 78022, 78047, 78077, 78091, 78150, 78156, 78182, 78217, 78298, 78301, 78349, 78390, 78414, 78462, 78489, 78501, 78552, 78795, 78807, 78820, 78836, 78876, 78895, 78958, 79014, 79017, 79028, 79076, 79180, 79187, 79256, 79278, 79339, 79382, 79383, 79415, 79440, 79461, 79492, 79493, 79520, 79532, 79567, 79681, 79736, 79875, 79879, 79886, 79887, 79892, 79899, 79921, 79928, 79930, 79946, 80009, 80018, 80061, 80129, 80166, 80221, 80237, 80296, 80553, 80571, 80595, 80631, 80669, 80677, 80734, 80748, 80769, 80787, 80797, 80872, 80875, 80889, 80894, 80912, 81062, 81071, 81097, 81105, 81134, 81151, 81273, 81339, 81390, 81401, 81478, 81480, 81481, 81507, 81541, 81581, 81611, 81658, 81683, 81721, 81748, 81790, 81798, 81852, 81870, 81919, 81949, 82000, 82058, 82080, 82087, 82158, 82168, 82172, 82203, 82204, 82206, 82217, 82237, 82257, 82270, 82300, 82346, 82384, 82476, 82505, 82630, 82712, 82736, 82761, 82769, 82815, 82817, 82904, 82950, 82980, 83054, 83194, 83297, 83307, 83450, 83455, 83486, 83487, 83655, 83661, 83667, 83703, 83812, 83820, 83859, 83879, 84018, 84021, 84023, 84032, 84065, 84137, 84155, 84221, 84245, 84256, 84295, 84325, 84466, 84560, 84562, 84645, 84646, 84676, 84689, 84711, 84718, 84775, 84776, 84823, 84838, 84848, 84867, 84886, 84996, 85060, 85129, 85191, 85207, 85275, 85290, 85327, 85405, 85446, 85469, 85508, 85554, 85579, 85593, 85603, 85617, 85667, 85689, 85693, 85729, 85748, 85757, 85773, 85790, 85828, 85839, 85855, 85878, 85880, 86014, 86235, 86254, 86285, 86290, 86295, 86311, 86376, 86391, 86445, 86498, 86522, 86588, 86594, 86595, 86605, 86721, 86736, 86802, 87015, 87183, 87448, 87578, 87609, 87616, 87624, 87664, 87670, 87717, 87775, 87863, 87992, 88030, 88063, 88118, 88147, 88184, 88209, 88226, 88274, 88333, 88416, 88429, 88435, 88462, 88487, 88491, 88505, 88551, 88574, 88586, 88612, 88686, 88689, 88729, 88742, 88811, 88886, 88979, 89051, 89098, 89171, 89195, 89233, 89390, 89407, 89440, 89446, 89460, 89487, 89538, 89585, 89659, 89697, 89785, 89807, 89824, 89837, 89845, 89929, 89961, 89986, 89987, 90027, 90050, 90104, 90132, 90135, 90148, 90163, 90180, 90189, 90280, 90314, 90393, 90431, 90434, 90454, 90462, 90484, 90490, 90509, 90526, 90554, 90566, 90605, 90644, 90717, 90751, 90766, 90790, 90863, 90864, 90894, 90936, 91007, 91052, 91054, 91081, 91083, 91311, 91323, 91348, 91369, 91401, 91533, 91578, 91586, 91593, 91601, 91632, 91642, 91683, 91806, 91807, 91811, 91864, 91882, 91898, 91976, 92004, 92019, 92032, 92099, 92107, 92171, 92225, 92251, 92289, 92306, 92424, 92444, 92529, 92567, 92585, 92661, 92731, 92748, 92750, 92791, 92793, 92832, 92844, 92936, 93005, 93066, 93159, 93275, 93303, 93306, 93314, 93315, 93337, 93398, 93461, 93526, 93994, 94013, 94060, 94101, 94197, 94216, 94221, 94229, 94255, 94291, 94381, 94382, 94414, 94460, 94568, 94571, 94595, 94625, 94637, 94690, 94701, 94722, 94734, 94775, 94815, 94841, 94901, 94904, 94991, 95034, 95038, 95062, 95084, 95090, 95138, 95151, 95152, 95223, 95315, 95349, 95353, 95434, 95468, 95536, 95585, 95625, 95662, 95795, 95817, 95818, 95832, 95873, 95878, 95927, 95936, 96011, 96059, 96102, 96155, 96180, 96193, 96255, 96309, 96310, 96318, 96324, 96446, 96562, 96640, 96676, 96746, 96771, 96807, 96821, 96896, 96962, 97005, 97032, 97043, 97073, 97116, 97181, 97183, 97193, 97231, 97241, 97266, 97303, 97322, 97331, 97333, 97338, 97340, 97359, 97501, 97519, 97538, 97539, 97587, 97596, 97613, 97653, 97666, 97680, 97697, 97739, 97828, 97909, 97945, 97952, 98021, 98071, 98077, 98086, 98117, 98137, 98228, 98450, 98451, 98516, 98522, 98524, 98608, 98626, 98640, 98674, 98681, 98703, 98744, 98777, 98796, 98838, 98844, 98919, 98920, 98972, 98982, 99019, 99028, 99029, 99030, 99031, 99043, 99047, 99049, 99070, 99093, 99159, 99205, 99256, 99305, 99306, 99318, 99360, 99408, 99445, 99487, 99526, 99533, 99557, 99582, 99637, 99660, 99670, 99717, 99722, 99768, 99776, 99778, 99794, 99809, 99835, 99861, 99930]\n",
            "<class 'list'>\n",
            "2636\n",
            "2636\n",
            "2636\n"
          ],
          "name": "stdout"
        }
      ]
    },
    {
      "cell_type": "code",
      "metadata": {
        "colab": {
          "base_uri": "https://localhost:8080/",
          "height": 223
        },
        "id": "KDxAqv3YCYzy",
        "outputId": "a08bc88c-bd5f-4bf3-e3fe-4ffcd50b17f9"
      },
      "source": [
        "unlabel_2 = unlabel_2.loc[pos,:]\n",
        "print(len(unlabel_2))\n",
        "unlabel_2.head()"
      ],
      "execution_count": 70,
      "outputs": [
        {
          "output_type": "stream",
          "text": [
            "2636\n"
          ],
          "name": "stdout"
        },
        {
          "output_type": "execute_result",
          "data": {
            "text/html": [
              "<div>\n",
              "<style scoped>\n",
              "    .dataframe tbody tr th:only-of-type {\n",
              "        vertical-align: middle;\n",
              "    }\n",
              "\n",
              "    .dataframe tbody tr th {\n",
              "        vertical-align: top;\n",
              "    }\n",
              "\n",
              "    .dataframe thead th {\n",
              "        text-align: right;\n",
              "    }\n",
              "</style>\n",
              "<table border=\"1\" class=\"dataframe\">\n",
              "  <thead>\n",
              "    <tr style=\"text-align: right;\">\n",
              "      <th></th>\n",
              "      <th>text</th>\n",
              "    </tr>\n",
              "  </thead>\n",
              "  <tbody>\n",
              "    <tr>\n",
              "      <th>0</th>\n",
              "      <td>responding conclusion regarding evidence annou...</td>\n",
              "    </tr>\n",
              "    <tr>\n",
              "      <th>25</th>\n",
              "      <td>established without question injured party sus...</td>\n",
              "    </tr>\n",
              "    <tr>\n",
              "      <th>39</th>\n",
              "      <td>finding reversible error judgment trial court ...</td>\n",
              "    </tr>\n",
              "    <tr>\n",
              "      <th>89</th>\n",
              "      <td>finding reversible error record judgment affirmed</td>\n",
              "    </tr>\n",
              "    <tr>\n",
              "      <th>108</th>\n",
              "      <td>finding error record judgment affirmed</td>\n",
              "    </tr>\n",
              "  </tbody>\n",
              "</table>\n",
              "</div>"
            ],
            "text/plain": [
              "                                                  text\n",
              "0    responding conclusion regarding evidence annou...\n",
              "25   established without question injured party sus...\n",
              "39   finding reversible error judgment trial court ...\n",
              "89   finding reversible error record judgment affirmed\n",
              "108             finding error record judgment affirmed"
            ]
          },
          "metadata": {
            "tags": []
          },
          "execution_count": 70
        }
      ]
    },
    {
      "cell_type": "code",
      "metadata": {
        "id": "OX8L6__RC1Bj"
      },
      "source": [
        "class_x_un2 = tfidf_vect.transform(unlabel_2['text'])"
      ],
      "execution_count": 71,
      "outputs": []
    },
    {
      "cell_type": "code",
      "metadata": {
        "colab": {
          "base_uri": "https://localhost:8080/"
        },
        "id": "6O2NyGzTC6aX",
        "outputId": "855ee226-f349-4aa2-b93b-3e5808b0aa3d"
      },
      "source": [
        "class_x_un1.shape"
      ],
      "execution_count": 72,
      "outputs": [
        {
          "output_type": "execute_result",
          "data": {
            "text/plain": [
              "(1866, 7374)"
            ]
          },
          "metadata": {
            "tags": []
          },
          "execution_count": 72
        }
      ]
    },
    {
      "cell_type": "code",
      "metadata": {
        "colab": {
          "base_uri": "https://localhost:8080/"
        },
        "id": "iw4ROFmeC_Tf",
        "outputId": "6a11410e-a985-4530-efae-71baa5b2b986"
      },
      "source": [
        "class_pred_unlabel_2 = classifier_1.predict(class_x_un2)\n",
        "class_pred_unlabel_2"
      ],
      "execution_count": 73,
      "outputs": [
        {
          "output_type": "execute_result",
          "data": {
            "text/plain": [
              "array(['Conclusion', 'Facts', 'Conclusion', ..., 'Conclusion',\n",
              "       'Conclusion', 'Conclusion'], dtype=object)"
            ]
          },
          "metadata": {
            "tags": []
          },
          "execution_count": 73
        }
      ]
    },
    {
      "cell_type": "code",
      "metadata": {
        "colab": {
          "base_uri": "https://localhost:8080/"
        },
        "id": "-c4pzr8-DGip",
        "outputId": "ad66bfad-41af-4e5d-8633-c9791b64800c"
      },
      "source": [
        "print(len(class_pred_unlabel_2))"
      ],
      "execution_count": 74,
      "outputs": [
        {
          "output_type": "stream",
          "text": [
            "2636\n"
          ],
          "name": "stdout"
        }
      ]
    },
    {
      "cell_type": "code",
      "metadata": {
        "colab": {
          "base_uri": "https://localhost:8080/",
          "height": 205
        },
        "id": "cwnBPztaDK6e",
        "outputId": "26718705-302d-4c75-c128-152dcfcfb500"
      },
      "source": [
        "unlabel_2['Target']=class_pred_unlabel_2\n",
        "unlabel_2.head()"
      ],
      "execution_count": 75,
      "outputs": [
        {
          "output_type": "execute_result",
          "data": {
            "text/html": [
              "<div>\n",
              "<style scoped>\n",
              "    .dataframe tbody tr th:only-of-type {\n",
              "        vertical-align: middle;\n",
              "    }\n",
              "\n",
              "    .dataframe tbody tr th {\n",
              "        vertical-align: top;\n",
              "    }\n",
              "\n",
              "    .dataframe thead th {\n",
              "        text-align: right;\n",
              "    }\n",
              "</style>\n",
              "<table border=\"1\" class=\"dataframe\">\n",
              "  <thead>\n",
              "    <tr style=\"text-align: right;\">\n",
              "      <th></th>\n",
              "      <th>text</th>\n",
              "      <th>Target</th>\n",
              "    </tr>\n",
              "  </thead>\n",
              "  <tbody>\n",
              "    <tr>\n",
              "      <th>0</th>\n",
              "      <td>responding conclusion regarding evidence annou...</td>\n",
              "      <td>Conclusion</td>\n",
              "    </tr>\n",
              "    <tr>\n",
              "      <th>25</th>\n",
              "      <td>established without question injured party sus...</td>\n",
              "      <td>Facts</td>\n",
              "    </tr>\n",
              "    <tr>\n",
              "      <th>39</th>\n",
              "      <td>finding reversible error judgment trial court ...</td>\n",
              "      <td>Conclusion</td>\n",
              "    </tr>\n",
              "    <tr>\n",
              "      <th>89</th>\n",
              "      <td>finding reversible error record judgment affirmed</td>\n",
              "      <td>Conclusion</td>\n",
              "    </tr>\n",
              "    <tr>\n",
              "      <th>108</th>\n",
              "      <td>finding error record judgment affirmed</td>\n",
              "      <td>Conclusion</td>\n",
              "    </tr>\n",
              "  </tbody>\n",
              "</table>\n",
              "</div>"
            ],
            "text/plain": [
              "                                                  text      Target\n",
              "0    responding conclusion regarding evidence annou...  Conclusion\n",
              "25   established without question injured party sus...       Facts\n",
              "39   finding reversible error judgment trial court ...  Conclusion\n",
              "89   finding reversible error record judgment affirmed  Conclusion\n",
              "108             finding error record judgment affirmed  Conclusion"
            ]
          },
          "metadata": {
            "tags": []
          },
          "execution_count": 75
        }
      ]
    },
    {
      "cell_type": "code",
      "metadata": {
        "colab": {
          "base_uri": "https://localhost:8080/",
          "height": 205
        },
        "id": "RLOEKUSkDbK9",
        "outputId": "2c959d5b-beb3-4277-821f-f5cf2eac1a4a"
      },
      "source": [
        "train_1.head()"
      ],
      "execution_count": 76,
      "outputs": [
        {
          "output_type": "execute_result",
          "data": {
            "text/html": [
              "<div>\n",
              "<style scoped>\n",
              "    .dataframe tbody tr th:only-of-type {\n",
              "        vertical-align: middle;\n",
              "    }\n",
              "\n",
              "    .dataframe tbody tr th {\n",
              "        vertical-align: top;\n",
              "    }\n",
              "\n",
              "    .dataframe thead th {\n",
              "        text-align: right;\n",
              "    }\n",
              "</style>\n",
              "<table border=\"1\" class=\"dataframe\">\n",
              "  <thead>\n",
              "    <tr style=\"text-align: right;\">\n",
              "      <th></th>\n",
              "      <th>Unnamed: 0</th>\n",
              "      <th>text</th>\n",
              "      <th>Target</th>\n",
              "    </tr>\n",
              "  </thead>\n",
              "  <tbody>\n",
              "    <tr>\n",
              "      <th>1364</th>\n",
              "      <td>239.0</td>\n",
              "      <td>\"(I)n the First Amendment area 'government may...</td>\n",
              "      <td>Invalid</td>\n",
              "    </tr>\n",
              "    <tr>\n",
              "      <th>1833</th>\n",
              "      <td>185.0</td>\n",
              "      <td>\"... that nowhere in the statute was it stated...</td>\n",
              "      <td>Invalid</td>\n",
              "    </tr>\n",
              "    <tr>\n",
              "      <th>2431</th>\n",
              "      <td>415.0</td>\n",
              "      <td>\"Although a statute may be neither vague, over...</td>\n",
              "      <td>Rule/Law/Holding</td>\n",
              "    </tr>\n",
              "    <tr>\n",
              "      <th>2245</th>\n",
              "      <td>416.0</td>\n",
              "      <td>\"For even when pursuing a legitimate interest,...</td>\n",
              "      <td>Rule/Law/Holding</td>\n",
              "    </tr>\n",
              "    <tr>\n",
              "      <th>1561</th>\n",
              "      <td>25.0</td>\n",
              "      <td>\"If an indictment has been found or accusation...</td>\n",
              "      <td>Facts</td>\n",
              "    </tr>\n",
              "  </tbody>\n",
              "</table>\n",
              "</div>"
            ],
            "text/plain": [
              "      Unnamed: 0  ...            Target\n",
              "1364       239.0  ...           Invalid\n",
              "1833       185.0  ...           Invalid\n",
              "2431       415.0  ...  Rule/Law/Holding\n",
              "2245       416.0  ...  Rule/Law/Holding\n",
              "1561        25.0  ...             Facts\n",
              "\n",
              "[5 rows x 3 columns]"
            ]
          },
          "metadata": {
            "tags": []
          },
          "execution_count": 76
        }
      ]
    },
    {
      "cell_type": "code",
      "metadata": {
        "colab": {
          "base_uri": "https://localhost:8080/"
        },
        "id": "wLHnOPItD0fP",
        "outputId": "5ebdd09c-23ae-4f09-edba-f32c5ecfbb68"
      },
      "source": [
        "frame_2 = [train_1,unlabel_2]\n",
        "train_2 = pd.concat(frame_2)\n",
        "print(len(train_1))\n",
        "print(len(unlabel_2))\n",
        "print(len(train_2))"
      ],
      "execution_count": 77,
      "outputs": [
        {
          "output_type": "stream",
          "text": [
            "5273\n",
            "2636\n",
            "7909\n"
          ],
          "name": "stdout"
        }
      ]
    },
    {
      "cell_type": "code",
      "metadata": {
        "id": "GN8z6oOZTGvs",
        "colab": {
          "base_uri": "https://localhost:8080/"
        },
        "outputId": "6ae81103-10f7-4e40-cf77-79a4ea74c13f"
      },
      "source": [
        "train_2.sort_values(\"text\", inplace = True)\n",
        "train_2 = train_2.drop_duplicates(subset =\"text\")\n",
        "print(len(train_2))\n"
      ],
      "execution_count": 78,
      "outputs": [
        {
          "output_type": "stream",
          "text": [
            "7030\n"
          ],
          "name": "stdout"
        }
      ]
    },
    {
      "cell_type": "code",
      "metadata": {
        "colab": {
          "base_uri": "https://localhost:8080/",
          "height": 425
        },
        "id": "3RQ4AGRvTHCC",
        "outputId": "dc2b1520-e36f-49b5-be82-26c28b3566f0"
      },
      "source": [
        "from imblearn.over_sampling import SMOTE\n",
        "from collections import Counter\n",
        "from matplotlib import pyplot\n",
        "from sklearn.preprocessing import LabelEncoder\n",
        "data = train_2.values\n",
        "\n",
        "\n",
        "# split into input and output elements\n",
        "X, y = data[:, :-1], data[:, -1]\n",
        "# label encode the target variable\n",
        "y = LabelEncoder().fit_transform(y)\n",
        "print(y)\n",
        "# summarize distribution\n",
        "counter = Counter(y)\n",
        "print(y)\n",
        "total =0\n",
        "for k,v in counter.items():\n",
        "  total = total+v\n",
        "  per = v / len(y) * 100\n",
        "  print('Class=%s, n=%d (%.3f%%)' % (k, v, per))\n",
        "\n",
        "pyplot.bar(counter.keys(), counter.values())\n",
        "print(\"total\",total)\n",
        "pyplot.show()"
      ],
      "execution_count": 79,
      "outputs": [
        {
          "output_type": "stream",
          "text": [
            "[3 3 5 ... 2 3 2]\n",
            "[3 3 5 ... 2 3 2]\n",
            "Class=3, n=717 (10.199%)\n",
            "Class=5, n=543 (7.724%)\n",
            "Class=2, n=3820 (54.339%)\n",
            "Class=0, n=746 (10.612%)\n",
            "Class=1, n=814 (11.579%)\n",
            "Class=4, n=390 (5.548%)\n",
            "total 7030\n"
          ],
          "name": "stdout"
        },
        {
          "output_type": "display_data",
          "data": {
            "image/png": "[encoded data removed]",
            "text/plain": [
              "<Figure size 432x288 with 1 Axes>"
            ]
          },
          "metadata": {
            "tags": [],
            "needs_background": "light"
          }
        }
      ]
    },
    {
      "cell_type": "code",
      "metadata": {
        "colab": {
          "base_uri": "https://localhost:8080/"
        },
        "id": "2lc_VLSITHCE",
        "outputId": "c2754a23-5af6-4738-eb72-c977eb159e4f"
      },
      "source": [
        "\n",
        "\n",
        "from sklearn.feature_extraction.text import TfidfVectorizer\n",
        "\n",
        "tfidf_vect = TfidfVectorizer(analyzer = clean_text)\n",
        "X_tfidf = tfidf_vect.fit_transform(train_2['text'])\n",
        "print(X_tfidf.shape)"
      ],
      "execution_count": 80,
      "outputs": [
        {
          "output_type": "stream",
          "text": [
            "(7030, 9649)\n"
          ],
          "name": "stdout"
        }
      ]
    },
    {
      "cell_type": "code",
      "metadata": {
        "colab": {
          "base_uri": "https://localhost:8080/",
          "height": 255
        },
        "id": "YpNkWmFvTHCE",
        "outputId": "d5965169-65f6-4727-ff5c-357349ad7a73"
      },
      "source": [
        "X_tfidf_df=pd.DataFrame(X_tfidf.toarray())\n",
        "X_tfidf_df.columns=tfidf_vect.get_feature_names()\n",
        "X_tfidf_df.head()"
      ],
      "execution_count": 81,
      "outputs": [
        {
          "output_type": "execute_result",
          "data": {
            "text/html": [
              "<div>\n",
              "<style scoped>\n",
              "    .dataframe tbody tr th:only-of-type {\n",
              "        vertical-align: middle;\n",
              "    }\n",
              "\n",
              "    .dataframe tbody tr th {\n",
              "        vertical-align: top;\n",
              "    }\n",
              "\n",
              "    .dataframe thead th {\n",
              "        text-align: right;\n",
              "    }\n",
              "</style>\n",
              "<table border=\"1\" class=\"dataframe\">\n",
              "  <thead>\n",
              "    <tr style=\"text-align: right;\">\n",
              "      <th></th>\n",
              "      <th></th>\n",
              "      <th>015</th>\n",
              "      <th>02</th>\n",
              "      <th>1</th>\n",
              "      <th>10</th>\n",
              "      <th>100</th>\n",
              "      <th>1000</th>\n",
              "      <th>10000</th>\n",
              "      <th>100000</th>\n",
              "      <th>10000000</th>\n",
              "      <th>10000â</th>\n",
              "      <th>1000x22</th>\n",
              "      <th>1006</th>\n",
              "      <th>1008</th>\n",
              "      <th>1008a</th>\n",
              "      <th>100x22</th>\n",
              "      <th>101</th>\n",
              "      <th>1013</th>\n",
              "      <th>1015</th>\n",
              "      <th>102</th>\n",
              "      <th>1020</th>\n",
              "      <th>1026</th>\n",
              "      <th>1030</th>\n",
              "      <th>104</th>\n",
              "      <th>1042</th>\n",
              "      <th>1044</th>\n",
              "      <th>105</th>\n",
              "      <th>10511</th>\n",
              "      <th>1056</th>\n",
              "      <th>1065</th>\n",
              "      <th>107</th>\n",
              "      <th>107c</th>\n",
              "      <th>1081</th>\n",
              "      <th>1084</th>\n",
              "      <th>1097</th>\n",
              "      <th>1099</th>\n",
              "      <th>10a</th>\n",
              "      <th>10acre</th>\n",
              "      <th>10th</th>\n",
              "      <th>11</th>\n",
              "      <th>...</th>\n",
              "      <th>œthick</th>\n",
              "      <th>œthis</th>\n",
              "      <th>œthumbusterâ</th>\n",
              "      <th>œto</th>\n",
              "      <th>œtommy</th>\n",
              "      <th>œtoo</th>\n",
              "      <th>œtwo</th>\n",
              "      <th>œtwoâ</th>\n",
              "      <th>œunlawfully</th>\n",
              "      <th>œunlawfullyâ</th>\n",
              "      <th>œunless</th>\n",
              "      <th>œupon</th>\n",
              "      <th>œvagrancyâ</th>\n",
              "      <th>œvalue</th>\n",
              "      <th>œvery</th>\n",
              "      <th>œvisited</th>\n",
              "      <th>œwaived</th>\n",
              "      <th>œwalked</th>\n",
              "      <th>œwas</th>\n",
              "      <th>œwater</th>\n",
              "      <th>œwe</th>\n",
              "      <th>œweaving</th>\n",
              "      <th>œwell</th>\n",
              "      <th>œwhat</th>\n",
              "      <th>œwhen</th>\n",
              "      <th>œwhere</th>\n",
              "      <th>œwhether</th>\n",
              "      <th>œwhile</th>\n",
              "      <th>œwhipped</th>\n",
              "      <th>œwhisky</th>\n",
              "      <th>œwhoever</th>\n",
              "      <th>œwhy</th>\n",
              "      <th>œwilfullyâ</th>\n",
              "      <th>œwillfullyâ</th>\n",
              "      <th>œwobblyâ</th>\n",
              "      <th>œyes</th>\n",
              "      <th>œyesâ</th>\n",
              "      <th>œyou</th>\n",
              "      <th>œyour</th>\n",
              "      <th>œyâ</th>\n",
              "    </tr>\n",
              "  </thead>\n",
              "  <tbody>\n",
              "    <tr>\n",
              "      <th>0</th>\n",
              "      <td>0.000000</td>\n",
              "      <td>0.0</td>\n",
              "      <td>0.0</td>\n",
              "      <td>0.0</td>\n",
              "      <td>0.0</td>\n",
              "      <td>0.0</td>\n",
              "      <td>0.0</td>\n",
              "      <td>0.0</td>\n",
              "      <td>0.0</td>\n",
              "      <td>0.0</td>\n",
              "      <td>0.0</td>\n",
              "      <td>0.0</td>\n",
              "      <td>0.0</td>\n",
              "      <td>0.0</td>\n",
              "      <td>0.0</td>\n",
              "      <td>0.0</td>\n",
              "      <td>0.0</td>\n",
              "      <td>0.0</td>\n",
              "      <td>0.0</td>\n",
              "      <td>0.0</td>\n",
              "      <td>0.0</td>\n",
              "      <td>0.0</td>\n",
              "      <td>0.0</td>\n",
              "      <td>0.0</td>\n",
              "      <td>0.0</td>\n",
              "      <td>0.0</td>\n",
              "      <td>0.0</td>\n",
              "      <td>0.0</td>\n",
              "      <td>0.0</td>\n",
              "      <td>0.0</td>\n",
              "      <td>0.0</td>\n",
              "      <td>0.0</td>\n",
              "      <td>0.0</td>\n",
              "      <td>0.0</td>\n",
              "      <td>0.0</td>\n",
              "      <td>0.0</td>\n",
              "      <td>0.0</td>\n",
              "      <td>0.0</td>\n",
              "      <td>0.0</td>\n",
              "      <td>0.0</td>\n",
              "      <td>...</td>\n",
              "      <td>0.0</td>\n",
              "      <td>0.0</td>\n",
              "      <td>0.0</td>\n",
              "      <td>0.0</td>\n",
              "      <td>0.0</td>\n",
              "      <td>0.0</td>\n",
              "      <td>0.0</td>\n",
              "      <td>0.0</td>\n",
              "      <td>0.0</td>\n",
              "      <td>0.0</td>\n",
              "      <td>0.0</td>\n",
              "      <td>0.0</td>\n",
              "      <td>0.0</td>\n",
              "      <td>0.0</td>\n",
              "      <td>0.0</td>\n",
              "      <td>0.0</td>\n",
              "      <td>0.0</td>\n",
              "      <td>0.0</td>\n",
              "      <td>0.0</td>\n",
              "      <td>0.0</td>\n",
              "      <td>0.0</td>\n",
              "      <td>0.0</td>\n",
              "      <td>0.0</td>\n",
              "      <td>0.0</td>\n",
              "      <td>0.0</td>\n",
              "      <td>0.0</td>\n",
              "      <td>0.0</td>\n",
              "      <td>0.0</td>\n",
              "      <td>0.0</td>\n",
              "      <td>0.0</td>\n",
              "      <td>0.0</td>\n",
              "      <td>0.0</td>\n",
              "      <td>0.0</td>\n",
              "      <td>0.0</td>\n",
              "      <td>0.0</td>\n",
              "      <td>0.0</td>\n",
              "      <td>0.0</td>\n",
              "      <td>0.0</td>\n",
              "      <td>0.0</td>\n",
              "      <td>0.0</td>\n",
              "    </tr>\n",
              "    <tr>\n",
              "      <th>1</th>\n",
              "      <td>0.120107</td>\n",
              "      <td>0.0</td>\n",
              "      <td>0.0</td>\n",
              "      <td>0.0</td>\n",
              "      <td>0.0</td>\n",
              "      <td>0.0</td>\n",
              "      <td>0.0</td>\n",
              "      <td>0.0</td>\n",
              "      <td>0.0</td>\n",
              "      <td>0.0</td>\n",
              "      <td>0.0</td>\n",
              "      <td>0.0</td>\n",
              "      <td>0.0</td>\n",
              "      <td>0.0</td>\n",
              "      <td>0.0</td>\n",
              "      <td>0.0</td>\n",
              "      <td>0.0</td>\n",
              "      <td>0.0</td>\n",
              "      <td>0.0</td>\n",
              "      <td>0.0</td>\n",
              "      <td>0.0</td>\n",
              "      <td>0.0</td>\n",
              "      <td>0.0</td>\n",
              "      <td>0.0</td>\n",
              "      <td>0.0</td>\n",
              "      <td>0.0</td>\n",
              "      <td>0.0</td>\n",
              "      <td>0.0</td>\n",
              "      <td>0.0</td>\n",
              "      <td>0.0</td>\n",
              "      <td>0.0</td>\n",
              "      <td>0.0</td>\n",
              "      <td>0.0</td>\n",
              "      <td>0.0</td>\n",
              "      <td>0.0</td>\n",
              "      <td>0.0</td>\n",
              "      <td>0.0</td>\n",
              "      <td>0.0</td>\n",
              "      <td>0.0</td>\n",
              "      <td>0.0</td>\n",
              "      <td>...</td>\n",
              "      <td>0.0</td>\n",
              "      <td>0.0</td>\n",
              "      <td>0.0</td>\n",
              "      <td>0.0</td>\n",
              "      <td>0.0</td>\n",
              "      <td>0.0</td>\n",
              "      <td>0.0</td>\n",
              "      <td>0.0</td>\n",
              "      <td>0.0</td>\n",
              "      <td>0.0</td>\n",
              "      <td>0.0</td>\n",
              "      <td>0.0</td>\n",
              "      <td>0.0</td>\n",
              "      <td>0.0</td>\n",
              "      <td>0.0</td>\n",
              "      <td>0.0</td>\n",
              "      <td>0.0</td>\n",
              "      <td>0.0</td>\n",
              "      <td>0.0</td>\n",
              "      <td>0.0</td>\n",
              "      <td>0.0</td>\n",
              "      <td>0.0</td>\n",
              "      <td>0.0</td>\n",
              "      <td>0.0</td>\n",
              "      <td>0.0</td>\n",
              "      <td>0.0</td>\n",
              "      <td>0.0</td>\n",
              "      <td>0.0</td>\n",
              "      <td>0.0</td>\n",
              "      <td>0.0</td>\n",
              "      <td>0.0</td>\n",
              "      <td>0.0</td>\n",
              "      <td>0.0</td>\n",
              "      <td>0.0</td>\n",
              "      <td>0.0</td>\n",
              "      <td>0.0</td>\n",
              "      <td>0.0</td>\n",
              "      <td>0.0</td>\n",
              "      <td>0.0</td>\n",
              "      <td>0.0</td>\n",
              "    </tr>\n",
              "    <tr>\n",
              "      <th>2</th>\n",
              "      <td>0.000000</td>\n",
              "      <td>0.0</td>\n",
              "      <td>0.0</td>\n",
              "      <td>0.0</td>\n",
              "      <td>0.0</td>\n",
              "      <td>0.0</td>\n",
              "      <td>0.0</td>\n",
              "      <td>0.0</td>\n",
              "      <td>0.0</td>\n",
              "      <td>0.0</td>\n",
              "      <td>0.0</td>\n",
              "      <td>0.0</td>\n",
              "      <td>0.0</td>\n",
              "      <td>0.0</td>\n",
              "      <td>0.0</td>\n",
              "      <td>0.0</td>\n",
              "      <td>0.0</td>\n",
              "      <td>0.0</td>\n",
              "      <td>0.0</td>\n",
              "      <td>0.0</td>\n",
              "      <td>0.0</td>\n",
              "      <td>0.0</td>\n",
              "      <td>0.0</td>\n",
              "      <td>0.0</td>\n",
              "      <td>0.0</td>\n",
              "      <td>0.0</td>\n",
              "      <td>0.0</td>\n",
              "      <td>0.0</td>\n",
              "      <td>0.0</td>\n",
              "      <td>0.0</td>\n",
              "      <td>0.0</td>\n",
              "      <td>0.0</td>\n",
              "      <td>0.0</td>\n",
              "      <td>0.0</td>\n",
              "      <td>0.0</td>\n",
              "      <td>0.0</td>\n",
              "      <td>0.0</td>\n",
              "      <td>0.0</td>\n",
              "      <td>0.0</td>\n",
              "      <td>0.0</td>\n",
              "      <td>...</td>\n",
              "      <td>0.0</td>\n",
              "      <td>0.0</td>\n",
              "      <td>0.0</td>\n",
              "      <td>0.0</td>\n",
              "      <td>0.0</td>\n",
              "      <td>0.0</td>\n",
              "      <td>0.0</td>\n",
              "      <td>0.0</td>\n",
              "      <td>0.0</td>\n",
              "      <td>0.0</td>\n",
              "      <td>0.0</td>\n",
              "      <td>0.0</td>\n",
              "      <td>0.0</td>\n",
              "      <td>0.0</td>\n",
              "      <td>0.0</td>\n",
              "      <td>0.0</td>\n",
              "      <td>0.0</td>\n",
              "      <td>0.0</td>\n",
              "      <td>0.0</td>\n",
              "      <td>0.0</td>\n",
              "      <td>0.0</td>\n",
              "      <td>0.0</td>\n",
              "      <td>0.0</td>\n",
              "      <td>0.0</td>\n",
              "      <td>0.0</td>\n",
              "      <td>0.0</td>\n",
              "      <td>0.0</td>\n",
              "      <td>0.0</td>\n",
              "      <td>0.0</td>\n",
              "      <td>0.0</td>\n",
              "      <td>0.0</td>\n",
              "      <td>0.0</td>\n",
              "      <td>0.0</td>\n",
              "      <td>0.0</td>\n",
              "      <td>0.0</td>\n",
              "      <td>0.0</td>\n",
              "      <td>0.0</td>\n",
              "      <td>0.0</td>\n",
              "      <td>0.0</td>\n",
              "      <td>0.0</td>\n",
              "    </tr>\n",
              "    <tr>\n",
              "      <th>3</th>\n",
              "      <td>0.000000</td>\n",
              "      <td>0.0</td>\n",
              "      <td>0.0</td>\n",
              "      <td>0.0</td>\n",
              "      <td>0.0</td>\n",
              "      <td>0.0</td>\n",
              "      <td>0.0</td>\n",
              "      <td>0.0</td>\n",
              "      <td>0.0</td>\n",
              "      <td>0.0</td>\n",
              "      <td>0.0</td>\n",
              "      <td>0.0</td>\n",
              "      <td>0.0</td>\n",
              "      <td>0.0</td>\n",
              "      <td>0.0</td>\n",
              "      <td>0.0</td>\n",
              "      <td>0.0</td>\n",
              "      <td>0.0</td>\n",
              "      <td>0.0</td>\n",
              "      <td>0.0</td>\n",
              "      <td>0.0</td>\n",
              "      <td>0.0</td>\n",
              "      <td>0.0</td>\n",
              "      <td>0.0</td>\n",
              "      <td>0.0</td>\n",
              "      <td>0.0</td>\n",
              "      <td>0.0</td>\n",
              "      <td>0.0</td>\n",
              "      <td>0.0</td>\n",
              "      <td>0.0</td>\n",
              "      <td>0.0</td>\n",
              "      <td>0.0</td>\n",
              "      <td>0.0</td>\n",
              "      <td>0.0</td>\n",
              "      <td>0.0</td>\n",
              "      <td>0.0</td>\n",
              "      <td>0.0</td>\n",
              "      <td>0.0</td>\n",
              "      <td>0.0</td>\n",
              "      <td>0.0</td>\n",
              "      <td>...</td>\n",
              "      <td>0.0</td>\n",
              "      <td>0.0</td>\n",
              "      <td>0.0</td>\n",
              "      <td>0.0</td>\n",
              "      <td>0.0</td>\n",
              "      <td>0.0</td>\n",
              "      <td>0.0</td>\n",
              "      <td>0.0</td>\n",
              "      <td>0.0</td>\n",
              "      <td>0.0</td>\n",
              "      <td>0.0</td>\n",
              "      <td>0.0</td>\n",
              "      <td>0.0</td>\n",
              "      <td>0.0</td>\n",
              "      <td>0.0</td>\n",
              "      <td>0.0</td>\n",
              "      <td>0.0</td>\n",
              "      <td>0.0</td>\n",
              "      <td>0.0</td>\n",
              "      <td>0.0</td>\n",
              "      <td>0.0</td>\n",
              "      <td>0.0</td>\n",
              "      <td>0.0</td>\n",
              "      <td>0.0</td>\n",
              "      <td>0.0</td>\n",
              "      <td>0.0</td>\n",
              "      <td>0.0</td>\n",
              "      <td>0.0</td>\n",
              "      <td>0.0</td>\n",
              "      <td>0.0</td>\n",
              "      <td>0.0</td>\n",
              "      <td>0.0</td>\n",
              "      <td>0.0</td>\n",
              "      <td>0.0</td>\n",
              "      <td>0.0</td>\n",
              "      <td>0.0</td>\n",
              "      <td>0.0</td>\n",
              "      <td>0.0</td>\n",
              "      <td>0.0</td>\n",
              "      <td>0.0</td>\n",
              "    </tr>\n",
              "    <tr>\n",
              "      <th>4</th>\n",
              "      <td>0.000000</td>\n",
              "      <td>0.0</td>\n",
              "      <td>0.0</td>\n",
              "      <td>0.0</td>\n",
              "      <td>0.0</td>\n",
              "      <td>0.0</td>\n",
              "      <td>0.0</td>\n",
              "      <td>0.0</td>\n",
              "      <td>0.0</td>\n",
              "      <td>0.0</td>\n",
              "      <td>0.0</td>\n",
              "      <td>0.0</td>\n",
              "      <td>0.0</td>\n",
              "      <td>0.0</td>\n",
              "      <td>0.0</td>\n",
              "      <td>0.0</td>\n",
              "      <td>0.0</td>\n",
              "      <td>0.0</td>\n",
              "      <td>0.0</td>\n",
              "      <td>0.0</td>\n",
              "      <td>0.0</td>\n",
              "      <td>0.0</td>\n",
              "      <td>0.0</td>\n",
              "      <td>0.0</td>\n",
              "      <td>0.0</td>\n",
              "      <td>0.0</td>\n",
              "      <td>0.0</td>\n",
              "      <td>0.0</td>\n",
              "      <td>0.0</td>\n",
              "      <td>0.0</td>\n",
              "      <td>0.0</td>\n",
              "      <td>0.0</td>\n",
              "      <td>0.0</td>\n",
              "      <td>0.0</td>\n",
              "      <td>0.0</td>\n",
              "      <td>0.0</td>\n",
              "      <td>0.0</td>\n",
              "      <td>0.0</td>\n",
              "      <td>0.0</td>\n",
              "      <td>0.0</td>\n",
              "      <td>...</td>\n",
              "      <td>0.0</td>\n",
              "      <td>0.0</td>\n",
              "      <td>0.0</td>\n",
              "      <td>0.0</td>\n",
              "      <td>0.0</td>\n",
              "      <td>0.0</td>\n",
              "      <td>0.0</td>\n",
              "      <td>0.0</td>\n",
              "      <td>0.0</td>\n",
              "      <td>0.0</td>\n",
              "      <td>0.0</td>\n",
              "      <td>0.0</td>\n",
              "      <td>0.0</td>\n",
              "      <td>0.0</td>\n",
              "      <td>0.0</td>\n",
              "      <td>0.0</td>\n",
              "      <td>0.0</td>\n",
              "      <td>0.0</td>\n",
              "      <td>0.0</td>\n",
              "      <td>0.0</td>\n",
              "      <td>0.0</td>\n",
              "      <td>0.0</td>\n",
              "      <td>0.0</td>\n",
              "      <td>0.0</td>\n",
              "      <td>0.0</td>\n",
              "      <td>0.0</td>\n",
              "      <td>0.0</td>\n",
              "      <td>0.0</td>\n",
              "      <td>0.0</td>\n",
              "      <td>0.0</td>\n",
              "      <td>0.0</td>\n",
              "      <td>0.0</td>\n",
              "      <td>0.0</td>\n",
              "      <td>0.0</td>\n",
              "      <td>0.0</td>\n",
              "      <td>0.0</td>\n",
              "      <td>0.0</td>\n",
              "      <td>0.0</td>\n",
              "      <td>0.0</td>\n",
              "      <td>0.0</td>\n",
              "    </tr>\n",
              "  </tbody>\n",
              "</table>\n",
              "<p>5 rows × 9649 columns</p>\n",
              "</div>"
            ],
            "text/plain": [
              "             015   02    1   10  100  ...  œwobblyâ  œyes  œyesâ  œyou  œyour  œyâ\n",
              "0  0.000000  0.0  0.0  0.0  0.0  0.0  ...       0.0   0.0    0.0   0.0    0.0  0.0\n",
              "1  0.120107  0.0  0.0  0.0  0.0  0.0  ...       0.0   0.0    0.0   0.0    0.0  0.0\n",
              "2  0.000000  0.0  0.0  0.0  0.0  0.0  ...       0.0   0.0    0.0   0.0    0.0  0.0\n",
              "3  0.000000  0.0  0.0  0.0  0.0  0.0  ...       0.0   0.0    0.0   0.0    0.0  0.0\n",
              "4  0.000000  0.0  0.0  0.0  0.0  0.0  ...       0.0   0.0    0.0   0.0    0.0  0.0\n",
              "\n",
              "[5 rows x 9649 columns]"
            ]
          },
          "metadata": {
            "tags": []
          },
          "execution_count": 81
        }
      ]
    },
    {
      "cell_type": "code",
      "metadata": {
        "colab": {
          "base_uri": "https://localhost:8080/",
          "height": 565
        },
        "id": "9ZSHeubCTHCF",
        "outputId": "259d0fe7-89a4-426e-f6b9-66f20ba769e9"
      },
      "source": [
        "from imblearn.over_sampling import SMOTE\n",
        "oversample = SMOTE(random_state=42,k_neighbors=5)\n",
        "X, y = oversample.fit_resample(X_tfidf_df, train_2['Target'])\n",
        "# summarize distribution\n",
        "counter = Counter(y)\n",
        "for k,v in counter.items():\n",
        "\tper = v / len(y) * 100\n",
        "\tprint('Class=%s, n=%d (%.3f%%)' % (k, v, per))\n",
        "# plot the distribution\n",
        "pyplot.bar(counter.keys(), counter.values())\n",
        "pyplot.show()"
      ],
      "execution_count": 82,
      "outputs": [
        {
          "output_type": "stream",
          "text": [
            "/usr/local/lib/python3.7/dist-packages/sklearn/utils/deprecation.py:87: FutureWarning: Function safe_indexing is deprecated; safe_indexing is deprecated in version 0.22 and will be removed in version 0.24.\n",
            "  warnings.warn(msg, category=FutureWarning)\n",
            "/usr/local/lib/python3.7/dist-packages/sklearn/utils/deprecation.py:87: FutureWarning: Function safe_indexing is deprecated; safe_indexing is deprecated in version 0.22 and will be removed in version 0.24.\n",
            "  warnings.warn(msg, category=FutureWarning)\n",
            "/usr/local/lib/python3.7/dist-packages/sklearn/utils/deprecation.py:87: FutureWarning: Function safe_indexing is deprecated; safe_indexing is deprecated in version 0.22 and will be removed in version 0.24.\n",
            "  warnings.warn(msg, category=FutureWarning)\n",
            "/usr/local/lib/python3.7/dist-packages/sklearn/utils/deprecation.py:87: FutureWarning: Function safe_indexing is deprecated; safe_indexing is deprecated in version 0.22 and will be removed in version 0.24.\n",
            "  warnings.warn(msg, category=FutureWarning)\n",
            "/usr/local/lib/python3.7/dist-packages/sklearn/utils/deprecation.py:87: FutureWarning: Function safe_indexing is deprecated; safe_indexing is deprecated in version 0.22 and will be removed in version 0.24.\n",
            "  warnings.warn(msg, category=FutureWarning)\n"
          ],
          "name": "stderr"
        },
        {
          "output_type": "stream",
          "text": [
            "Class=Invalid, n=3820 (16.667%)\n",
            "Class=Rule/Law/Holding, n=3820 (16.667%)\n",
            "Class=Facts, n=3820 (16.667%)\n",
            "Class=Analysis, n=3820 (16.667%)\n",
            "Class=Conclusion, n=3820 (16.667%)\n",
            "Class=Issue, n=3820 (16.667%)\n"
          ],
          "name": "stdout"
        },
        {
          "output_type": "display_data",
          "data": {
            "image/png": "[encoded data removed]",
            "text/plain": [
              "<Figure size 432x288 with 1 Axes>"
            ]
          },
          "metadata": {
            "tags": [],
            "needs_background": "light"
          }
        }
      ]
    },
    {
      "cell_type": "code",
      "metadata": {
        "id": "QQiLMHoIUfLJ"
      },
      "source": [
        "t_p = tfidf_vect.transform(test['Sentence'])"
      ],
      "execution_count": 83,
      "outputs": []
    },
    {
      "cell_type": "code",
      "metadata": {
        "colab": {
          "base_uri": "https://localhost:8080/"
        },
        "id": "VGBbMV6IUThz",
        "outputId": "8a0c4505-ccba-441d-b282-48b701a3b205"
      },
      "source": [
        "from sklearn.metrics import classification_report\n",
        "x_train_2 = tfidf_vect.transform(train_2['text'])\n",
        "x_train_2.shape\n",
        "X_train, x_val, Y_train, y_val = train_test_split(x_train_2,train_2['Target'],test_size=0.25,random_state=2)\n",
        "classifier_2 = lgb.LGBMClassifier()\n",
        "classifier_2.fit(X_train, Y_train)\n",
        "y_pred = classifier_2.predict(x_val)\n",
        "print(np.unique(y_pred))\n",
        "print(type(y_pred))\n",
        "\n",
        "\n",
        "Accuracy_score = accuracy_score(y_pred,y_val)\n",
        "\n",
        "print('Validation ------- Accuracy_score: %f' % Accuracy_score)\n",
        "\n",
        "test_pred = classifier_2.predict(t_p)\n",
        "acc_test = accuracy_score(test_pred,test['Target'])\n",
        "print('Test ------Accuracy score ', acc_test)\n",
        "matrix = confusion_matrix(y_pred, y_val)\n",
        "print(matrix)\n",
        "print(\"---------validation--------------\")\n",
        "print(classification_report(y_val,y_pred))\n",
        "print(\"----------test---------------------\")\n",
        "print(classification_report(test['Target'],test_pred))"
      ],
      "execution_count": 84,
      "outputs": [
        {
          "output_type": "stream",
          "text": [
            "['Analysis' 'Conclusion' 'Facts' 'Invalid' 'Issue' 'Rule/Law/Holding']\n",
            "<class 'numpy.ndarray'>\n",
            "Validation ------- Accuracy_score: 0.765074\n",
            "Test ------Accuracy score  0.6161228406909789\n",
            "[[ 78   9  22  10  12  12]\n",
            " [  7 160   3   3   1   2]\n",
            " [ 79  25 913  78  26  22]\n",
            " [ 18   6  25  71   3   7]\n",
            " [  2   0   3   2  47   3]\n",
            " [ 12   1   6  10   4  76]]\n",
            "---------validation--------------\n",
            "                  precision    recall  f1-score   support\n",
            "\n",
            "        Analysis       0.55      0.40      0.46       196\n",
            "      Conclusion       0.91      0.80      0.85       201\n",
            "           Facts       0.80      0.94      0.86       972\n",
            "         Invalid       0.55      0.41      0.47       174\n",
            "           Issue       0.82      0.51      0.63        93\n",
            "Rule/Law/Holding       0.70      0.62      0.66       122\n",
            "\n",
            "        accuracy                           0.77      1758\n",
            "       macro avg       0.72      0.61      0.65      1758\n",
            "    weighted avg       0.75      0.77      0.75      1758\n",
            "\n",
            "----------test---------------------\n",
            "                  precision    recall  f1-score   support\n",
            "\n",
            "        Analysis       0.45      0.30      0.36        77\n",
            "      Conclusion       0.65      0.58      0.61        26\n",
            "           Facts       0.67      0.85      0.75       267\n",
            "         Invalid       0.45      0.35      0.39        83\n",
            "           Issue       0.73      0.32      0.45        34\n",
            "Rule/Law/Holding       0.57      0.50      0.53        34\n",
            "\n",
            "        accuracy                           0.62       521\n",
            "       macro avg       0.59      0.48      0.52       521\n",
            "    weighted avg       0.60      0.62      0.59       521\n",
            "\n"
          ],
          "name": "stdout"
        }
      ]
    },
    {
      "cell_type": "code",
      "metadata": {
        "id": "uUKg8x8jUgPI"
      },
      "source": [
        ""
      ],
      "execution_count": 84,
      "outputs": []
    },
    {
      "cell_type": "code",
      "metadata": {
        "id": "harCGxx3IBZI"
      },
      "source": [
        "x_un3 = tfidf_vect.transform(unlabel_3['text'])\n"
      ],
      "execution_count": 85,
      "outputs": []
    },
    {
      "cell_type": "code",
      "metadata": {
        "colab": {
          "base_uri": "https://localhost:8080/"
        },
        "id": "SrGPc31TIBmq",
        "outputId": "23c8f5fa-9614-46f1-fd56-ec8370917189"
      },
      "source": [
        "\n",
        "pred_unlabel_3 = classifier_2.predict_proba(x_un3)\n",
        "pred_unlabel_3"
      ],
      "execution_count": 86,
      "outputs": [
        {
          "output_type": "execute_result",
          "data": {
            "text/plain": [
              "array([[0.03859839, 0.00970191, 0.64458769, 0.271038  , 0.00796272,\n",
              "        0.02811129],\n",
              "       [0.01646243, 0.00213283, 0.93933942, 0.03208083, 0.00443445,\n",
              "        0.00555005],\n",
              "       [0.03916988, 0.00657426, 0.88118724, 0.0513258 , 0.01843588,\n",
              "        0.00330694],\n",
              "       ...,\n",
              "       [0.02387453, 0.03375996, 0.48279003, 0.03905465, 0.06120599,\n",
              "        0.35931485],\n",
              "       [0.02339565, 0.00785506, 0.89210627, 0.06423823, 0.00558231,\n",
              "        0.00682248],\n",
              "       [0.02680836, 0.01025365, 0.43951926, 0.45578619, 0.01086394,\n",
              "        0.05676859]])"
            ]
          },
          "metadata": {
            "tags": []
          },
          "execution_count": 86
        }
      ]
    },
    {
      "cell_type": "code",
      "metadata": {
        "colab": {
          "base_uri": "https://localhost:8080/"
        },
        "id": "JJ9aIZNSI1TV",
        "outputId": "5dd9c473-2c96-42df-98dd-c192d4d733af"
      },
      "source": [
        "print(len(pred_unlabel_2))\n",
        "print(np.unique(pred_unlabel_2))"
      ],
      "execution_count": 87,
      "outputs": [
        {
          "output_type": "stream",
          "text": [
            "100000\n",
            "[3.19964044e-05 3.42999224e-05 3.48702605e-05 ... 9.99063244e-01\n",
            " 9.99218765e-01 9.99476562e-01]\n"
          ],
          "name": "stdout"
        }
      ]
    },
    {
      "cell_type": "code",
      "metadata": {
        "colab": {
          "base_uri": "https://localhost:8080/"
        },
        "id": "J5HqbTZLI7iO",
        "outputId": "1a336350-5c03-4dbc-ab66-10072fd52bdc"
      },
      "source": [
        "import numpy as np\n",
        "pos=[]\n",
        "large=[]\n",
        "ind = []\n",
        "i=0\n",
        "for j in pred_unlabel_3:\n",
        "  if max(j)> Threshold:\n",
        "    ind.append(np.argmax(j))\n",
        "    large.append(max(j))\n",
        "    pos.append(i)\n",
        "  i+=1\n",
        "\n",
        "\n",
        "print(ind)\n",
        "print(large)\n",
        "print(pos)\n",
        "print(type(pos))\n",
        "print(len(ind))\n",
        "print(len(large))\n",
        "print(len(pos))"
      ],
      "execution_count": 88,
      "outputs": [
        {
          "output_type": "stream",
          "text": [
            "[2, 2, 1, 1, 1, 4, 2, 2, 2, 1, 2, 2, 2, 2, 1, 1, 2, 1, 3, 2, 2, 5, 5, 2, 2, 2, 2, 2, 2, 2, 2, 2, 2, 2, 2, 2, 1, 2, 2, 1, 3, 2, 1, 2, 2, 2, 2, 2, 2, 2, 2, 2, 2, 2, 2, 2, 2, 3, 2, 2, 1, 2, 2, 3, 2, 1, 5, 2, 2, 2, 1, 2, 1, 1, 2, 2, 2, 2, 2, 2, 2, 2, 2, 2, 1, 2, 2, 2, 3, 2, 2, 1, 5, 1, 2, 2, 1, 2, 2, 2, 2, 2, 2, 2, 2, 2, 1, 1, 5, 2, 5, 1, 2, 2, 2, 2, 2, 2, 2, 2, 2, 2, 2, 1, 5, 2, 2, 2, 2, 2, 2, 1, 1, 1, 2, 1, 2, 2, 1, 4, 2, 2, 2, 1, 2, 1, 3, 3, 2, 2, 2, 1, 2, 2, 2, 2, 2, 2, 1, 2, 1, 1, 1, 4, 5, 2, 2, 2, 2, 2, 2, 1, 5, 2, 2, 2, 1, 2, 2, 2, 1, 2, 2, 2, 2, 2, 2, 2, 2, 1, 2, 2, 2, 1, 5, 2, 1, 1, 1, 2, 2, 2, 2, 2, 2, 2, 1, 2, 2, 2, 1, 2, 2, 2, 2, 2, 2, 2, 2, 2, 2, 2, 2, 2, 2, 2, 2, 2, 2, 2, 5, 3, 2, 2, 2, 1, 1, 1, 3, 2, 2, 2, 1, 2, 2, 2, 2, 1, 1, 5, 2, 2, 2, 2, 2, 2, 2, 2, 2, 2, 2, 2, 2, 2, 2, 2, 2, 2, 1, 5, 2, 2, 1, 2, 1, 2, 2, 2, 2, 1, 2, 1, 2, 2, 2, 3, 2, 2, 2, 5, 2, 2, 2, 2, 2, 0, 5, 2, 2, 1, 2, 2, 2, 2, 1, 2, 1, 1, 2, 2, 1, 1, 1, 2, 1, 0, 5, 2, 2, 2, 2, 2, 1, 5, 2, 2, 2, 1, 2, 1, 2, 2, 5, 2, 2, 2, 2, 2, 1, 3, 5, 2, 1, 2, 0, 1, 3, 2, 2, 2, 1, 5, 1, 2, 2, 1, 2, 1, 1, 0, 2, 2, 2, 2, 2, 2, 2, 2, 4, 2, 2, 4, 2, 2, 4, 1, 5, 2, 2, 2, 2, 2, 1, 1, 2, 2, 2, 2, 2, 2, 2, 2, 2, 1, 3, 3, 2, 2, 2, 2, 2, 2, 2, 2, 1, 2, 2, 2, 2, 1, 2, 2, 2, 2, 2, 2, 2, 1, 1, 5, 2, 1, 3, 2, 2, 2, 2, 1, 5, 4, 2, 2, 1, 2, 2, 2, 2, 2, 1, 5, 1, 2, 1, 1, 2, 1, 1, 2, 2, 1, 2, 2, 1, 2, 2, 2, 2, 5, 2, 2, 2, 5, 2, 2, 2, 1, 2, 2, 2, 2, 2, 2, 2, 1, 1, 2, 2, 1, 2, 2, 2, 1, 4, 2, 2, 2, 1, 1, 5, 1, 2, 1, 2, 2, 2, 1, 2, 1, 2, 5, 2, 1, 1, 1, 3, 2, 2, 2, 2, 3, 4, 4, 4, 5, 2, 2, 2, 2, 1, 2, 2, 2, 2, 2, 2, 2, 2, 2, 2, 2, 2, 1, 2, 2, 2, 2, 2, 2, 4, 2, 2, 4, 1, 4, 2, 2, 2, 2, 2, 2, 2, 5, 2, 2, 2, 2, 2, 2, 2, 2, 3, 1, 2, 1, 1, 1, 2, 2, 2, 2, 2, 1, 1, 2, 2, 2, 2, 2, 2, 2, 2, 2, 0, 1, 2, 2, 2, 2, 1, 2, 2, 2, 2, 2, 2, 2, 2, 2, 1, 1, 1, 3, 3, 1, 2, 2, 2, 2, 1, 2, 1, 1, 3, 2, 2, 1, 2, 2, 2, 2, 2, 1, 4, 2, 4, 2, 1, 1, 2, 2, 5, 2, 1, 1, 2, 1, 3, 2, 1, 2, 2, 2, 2, 2, 1, 2, 2, 2, 2, 3, 2, 5, 2, 2, 2, 2, 2, 0, 1, 1, 1, 2, 1, 1, 1, 2, 2, 2, 1, 5, 2, 2, 2, 2, 1, 2, 2, 2, 2, 2, 1, 1, 1, 2, 2, 2, 2, 2, 1, 2, 1, 1, 2, 2, 1, 1, 2, 2, 2, 4, 1, 5, 1, 3, 5, 2, 1, 1, 3, 2, 1, 1, 1, 1, 2, 2, 1, 2, 1, 2, 2, 1, 2, 2, 4, 2, 2, 2, 2, 2, 2, 1, 2, 2, 2, 2, 2, 2, 2, 2, 4, 2, 1, 3, 2, 2, 4, 1, 4, 2, 1, 2, 4, 1, 1, 2, 2, 2, 2, 4, 1, 5, 2, 2, 2, 2, 2, 2, 2, 1, 5, 2, 1, 2, 2, 1, 4, 2, 4, 2, 1, 2, 2, 2, 2, 2, 2, 2, 1, 5, 5, 1, 5, 2, 2, 2, 2, 2, 0, 2, 2, 2, 1, 2, 1, 1, 3, 1, 3, 1, 2, 2, 2, 1, 1, 2, 2, 2, 2, 2, 2, 2, 2, 2, 2, 2, 2, 2, 2, 2, 1, 1, 4, 2, 2, 1, 5, 4, 0, 2, 2, 2, 2, 2, 1, 2, 2, 1, 1, 1, 4, 2, 5, 2, 2, 2, 1, 2, 2, 2, 2, 1, 5, 1, 2, 5, 1, 2, 1, 5, 2, 2, 2, 2, 2, 2, 2, 2, 1, 3, 5, 1, 2, 2, 2, 5, 1, 1, 4, 2, 2, 1, 1, 2, 2, 2, 4, 1, 4, 5, 2, 1, 1, 1, 2, 5, 1, 2, 2, 2, 2, 2, 2, 2, 2, 1, 2, 2, 2, 2, 4, 5, 2, 2, 2, 2, 2, 2, 2, 1, 2, 5, 2, 2, 2, 2, 2, 1, 1, 2, 2, 1, 1, 1, 2, 1, 2, 1, 1, 5, 4, 1, 2, 1, 1, 5, 4, 2, 2, 2, 2, 2, 2, 2, 2, 2, 2, 2, 1, 2, 2, 2, 1, 1, 1, 2, 2, 4, 2, 5, 5, 1, 2, 2, 2, 3, 1, 5, 2, 2, 0, 2, 0, 2, 2, 3, 1, 2, 1, 1, 2, 1, 2, 1, 2, 2, 2, 2, 2, 5, 1, 2, 2, 2, 2, 2, 2, 2, 2, 2, 2, 2, 1, 1, 1, 2, 2, 2, 2, 2, 2, 2, 2, 1, 2, 2, 1, 5, 2, 5, 2, 2, 2, 2, 2, 1, 2, 2, 2, 1, 5, 4, 3, 5, 1, 1, 5, 2, 2, 2, 2, 2, 2, 2, 2, 1, 2, 2, 2, 2, 2, 2, 2, 2, 2, 0, 1, 1, 4, 5, 5, 2, 0, 2, 2, 2, 2, 2, 2, 2, 1, 2, 1, 2, 2, 2, 1, 1, 3, 1, 5, 2, 2, 2, 2, 2, 2, 2, 5, 2, 2, 2, 2, 1, 2, 4, 2, 1, 5, 4, 1, 1, 2, 2, 2, 2, 2, 2, 1, 1, 1, 2, 2, 2, 2, 2, 2, 2, 2, 1, 2, 2, 4, 2, 4, 1, 3, 2, 2, 1, 2, 1, 5, 2, 1, 1, 2, 2, 2, 2, 2, 2, 1, 1, 5, 2, 2, 1, 2, 2, 2, 2, 2, 2, 2, 2, 2, 2, 2, 5, 1, 5, 2, 2, 2, 2, 2, 2, 2, 2, 2, 1, 5, 2, 2, 2, 2, 2, 2, 2, 2, 2, 2, 1, 2, 2, 2, 2, 2, 2, 2, 2, 2, 1, 2, 2, 2, 2, 5, 2, 2, 1, 2, 2, 2, 2, 1, 4, 2, 5, 2, 2, 2, 2, 2, 2, 1, 3, 1, 2, 2, 1, 5, 5, 2, 2, 2, 1, 3, 1, 2, 2, 2, 1, 5, 4, 2, 2, 1, 2, 2, 2, 1, 4, 1, 2, 2, 1, 2, 1, 5, 2, 2, 2, 1, 5, 2, 2, 2, 1, 1, 5, 2, 2, 2, 1, 2, 2, 1, 1, 2, 2, 2, 2, 1, 2, 2, 2, 2, 2, 2, 2, 5, 4, 4, 2, 4, 1, 4, 2, 1, 3, 2, 2, 2, 2, 2, 2, 3, 1, 2, 2, 1, 5, 1, 1, 1, 1, 2, 2, 1, 2, 1, 1, 5, 1, 1, 2, 2, 2, 1, 2, 2, 1, 3, 2, 1, 1, 2, 2, 1, 1, 1, 2, 2, 2, 2, 2, 2, 2, 1, 2, 2, 2, 2, 2, 2, 1, 2, 2, 2, 2, 2, 2, 1, 2, 2, 2, 2, 2, 1, 2, 2, 1, 3, 2, 2, 2, 2, 2, 2, 1, 5, 1, 2, 2, 2, 4, 2, 2, 5, 2, 1, 1, 1, 1, 1, 1, 2, 2, 1, 1, 2, 4, 2, 2, 4, 4, 1, 4, 2, 2, 2, 2, 1, 1, 1, 2, 1, 5, 2, 2, 2, 2, 2, 2, 2, 2, 2, 2, 2, 2, 2, 2, 2, 1, 2, 1, 5, 2, 2, 2, 1, 2, 2, 2, 2, 2, 2, 2, 2, 1, 2, 2, 2, 1, 1, 1, 2, 2, 1, 3, 3, 2, 2, 2, 2, 2, 2, 2, 2, 2, 2, 2, 2, 2, 2, 2, 2, 2, 2, 5, 2, 2, 1, 2, 2, 2, 2, 1, 2, 4, 2, 2, 2, 2, 2, 1, 2, 2, 2, 2, 1, 5, 2, 2, 1, 5, 5, 2, 2, 1, 1, 2, 1, 1, 5, 2, 4, 1, 1, 1, 3, 2, 2, 2, 2, 1, 4, 2, 2, 2, 2, 1, 4, 5, 2, 2, 1, 1, 2, 1, 1, 1, 2, 2, 2, 1, 2, 2, 2, 2, 2, 2, 1, 2, 2, 1, 5, 2, 1, 2, 2, 2, 1, 2, 1, 2, 2, 1, 1, 2, 2, 1, 4, 3, 1, 5, 2, 2, 1, 1, 1, 2, 2, 2, 2, 2, 2, 2, 2, 2, 2, 1, 1, 2, 2, 1, 5, 2, 2, 2, 1, 2, 2, 2, 2, 3, 2, 1, 1, 1, 2, 2, 2, 2, 2, 2, 2, 2, 1, 1, 2, 2, 2, 1, 0, 1, 5, 5, 5, 2, 2, 2, 2, 2, 2, 2, 2, 2, 1, 1, 1, 2, 2, 2, 2, 2, 2, 4, 1, 2, 2, 1, 2, 2, 2, 1, 1, 2, 1, 5, 2, 2, 2, 1, 2, 1, 2, 1, 2, 2, 2, 1, 2, 2, 2, 2, 2, 2, 1, 3, 5, 1, 2, 4, 2, 2, 2, 2, 2, 2, 2, 1, 2, 2, 1, 1, 2, 2, 2, 1, 2, 1, 2, 2, 1, 2, 2, 2, 2, 1, 5, 2, 2, 2, 1, 2, 5, 4, 2, 1, 1, 2, 2, 2, 0, 1, 2, 2, 2, 2, 2, 2, 2, 2, 2, 2, 2, 2, 2, 2, 2, 4, 1, 2, 2, 1, 1, 1, 5, 1, 2, 2, 2, 4, 2, 2, 2, 2, 2, 1, 2, 2, 2, 2, 2, 1, 2, 4, 3, 1, 1, 1, 2, 2, 2, 1, 2, 1, 2, 2, 1, 1, 2, 2, 4, 4, 4, 5, 2, 2, 2, 2, 1, 5, 1, 2, 2, 1, 1, 1, 1, 1, 2, 2, 2, 2, 2, 2, 2, 1, 2, 5, 2, 1, 1, 2, 2, 2, 1, 5, 2, 2, 2, 2, 2, 2, 2, 2, 2, 1, 2, 1, 3, 3, 2, 1, 1, 2, 1, 1, 1, 5, 2, 2, 1, 2, 2, 2, 4, 4, 2, 4, 2, 2, 2, 1, 5, 2, 5, 2, 2, 2, 4, 2, 2, 1, 1, 2, 1, 2, 2, 2, 2, 2, 2, 4, 5, 2, 2, 1, 1, 2, 5, 2, 2, 2, 1, 4, 1, 2, 2, 2, 3, 1, 2, 1, 2, 1, 2, 2, 2, 3, 1, 4, 1, 2, 2, 2, 1, 2, 2, 2, 1, 1, 2, 2, 1, 2, 1, 2, 2, 1, 1, 4, 1, 2, 2, 4, 2, 1, 2, 1, 1, 5, 2, 2, 2, 2, 2, 2, 2, 2, 2, 2, 2, 1, 2, 2, 1, 5, 3, 2, 4, 2, 2, 5, 4, 2, 1, 1, 2, 2, 2, 2, 2, 2, 2, 2, 2, 1, 1, 2, 1, 2, 3, 3, 2, 4, 2, 2, 2, 5, 2, 2, 1, 1, 2, 2, 2, 2, 4, 1, 4, 1, 1, 2, 2, 1, 1, 5, 2, 0, 2, 1, 1, 2, 2, 2, 2, 2, 2, 1, 0, 2, 2, 2, 1, 5, 2, 1, 2, 2, 2, 1, 1, 2, 2, 2, 2, 2, 2, 2, 2, 3, 5, 3, 1, 2, 1, 1, 2, 2, 2, 2, 2, 1, 2, 2, 1, 2, 1, 1, 2, 2, 2, 2, 2, 2, 2, 2, 2, 2, 4, 1, 1, 2, 2, 2, 2, 1, 2, 2, 2, 0, 1, 2, 1, 2, 2, 2, 2, 2, 2, 1, 1, 2, 5, 2, 2, 1, 1, 4, 4, 1, 5, 2, 2, 1, 2, 1, 2, 2, 2, 2, 2, 2, 2, 2, 1, 1, 1, 3, 3, 2, 2, 2, 2, 2, 2, 2, 2, 2, 3, 2, 2, 2, 2, 2, 2, 2, 2, 2, 2, 1, 2, 5, 1, 2, 2, 1, 2, 2, 2, 2, 2, 2, 2, 2, 2, 2, 1, 1, 1, 2, 2, 2, 2, 2, 1, 2, 2, 1, 1, 1, 2, 2, 2, 1, 2, 4, 1, 5, 2, 1, 0, 1, 2, 2, 2, 2, 1, 5, 2, 1, 2, 2, 1, 5, 2, 2, 1, 4, 2, 1, 5, 2, 2, 1, 4, 2, 1, 5, 2, 2, 4, 1, 2, 2, 2, 2, 2, 1, 1, 2, 2, 2, 4, 1, 1, 2, 4, 0, 1, 1, 4, 5, 1, 2, 3, 2, 2, 2, 3, 1, 1, 2, 2, 2, 2, 1, 3, 5, 2, 2, 2, 0, 2, 1, 3, 2, 2, 2, 2, 2, 1, 2, 2, 2, 2, 2, 2, 2, 2, 2, 2, 2, 2, 5, 1, 5, 4, 2, 1, 2, 2, 2, 2, 4, 2, 2, 2, 2, 2, 2, 2, 2, 2, 2, 2, 2, 2, 2, 2, 5, 2, 2, 2, 2, 2, 2, 2, 2, 4, 4, 2, 2, 2, 2, 2, 2, 2, 2, 2, 2, 2, 2, 0, 1, 2, 1, 1, 4, 1, 2, 1, 5, 2, 2, 2, 2, 1, 1, 5, 1, 2, 2, 2, 3, 5, 2, 2, 2, 2, 1, 4, 1, 2, 1, 2, 2, 2, 2, 1, 2, 2, 2, 2, 2, 2, 1, 2, 2, 2, 2, 2, 2, 2, 2, 1, 1, 2, 2, 2, 2, 2, 2, 2, 2, 1, 2, 2, 4, 3, 3, 2, 1, 2, 2, 2, 2, 2, 2, 1, 5, 2, 2, 1, 1, 2, 2, 1, 2, 2, 2, 2, 1, 3, 1, 1, 2, 2, 2, 2, 2, 2, 1, 2, 2, 2, 2, 2, 2, 2, 2, 5, 1, 1, 1, 1, 2, 1, 2, 2, 2, 2, 1, 1, 1, 2, 2, 2, 1, 4, 2, 2, 2, 2, 2, 2, 1, 5, 2, 2, 2, 1, 2, 2, 1, 2, 2, 5, 3, 2, 1, 2, 1, 2, 2, 2, 1, 2, 2, 2, 2, 2, 2, 2, 5, 2, 2, 2, 2, 2, 2, 2, 1, 2, 2, 2, 1, 1, 1, 1, 2, 5, 2, 2, 2, 1, 2, 2, 1, 4, 1, 2, 1, 4, 2, 1, 2, 0, 1, 2, 2, 2, 2, 2, 2, 4, 2, 2, 2, 2, 2, 2, 2, 2, 2, 1, 2, 2, 1, 1, 2, 2, 4, 5, 2, 1, 4, 2, 2, 2, 1, 1, 1, 1, 4, 2, 1, 2, 2, 2, 2, 5, 1, 2, 1, 1, 1, 1, 3, 2, 2, 2, 5, 2, 1, 2, 2, 4, 1, 1, 5, 2, 2, 1, 2, 2, 2, 4, 4, 4, 2, 2, 1, 2, 2, 2, 2, 4, 4, 2, 2, 5, 3, 2, 2, 2, 1, 2, 1, 1, 2, 4, 2, 2, 2, 2, 2, 1, 5, 2, 2, 1, 4, 1, 1, 2, 1, 1, 1, 2, 1, 1, 2, 2, 2, 1, 1, 1, 2, 1, 1, 1, 2, 2, 1, 1, 2, 2, 2, 2, 2, 1, 2, 2, 2, 2, 2, 2, 2, 2, 1, 2, 1, 3, 1, 2, 1, 1, 1, 3, 1, 0, 2, 2, 2, 1, 2, 2, 2, 2, 2, 2, 2, 2, 2, 2, 1, 0, 2, 1, 3, 2, 1, 1, 1, 1, 1, 2, 2, 1, 2, 1, 5, 2, 2, 1, 5, 1, 2, 2, 2, 2, 2, 1, 2, 2, 2, 2, 2, 2, 2, 2, 4, 2, 1, 1, 1, 4, 4, 2, 1, 1, 2, 2, 2, 2, 1, 5, 4, 2, 2, 2, 2, 2, 2, 2, 2, 2, 2, 2, 2, 2, 2, 2, 2, 2, 2, 2, 2, 2, 1, 5, 2, 3, 1, 1, 2, 1, 2, 1, 2, 1, 2, 1, 1, 5, 2, 2, 2, 1, 1, 1, 0, 1, 5, 2, 0, 2, 2, 2, 2, 2, 1, 2, 1, 5, 2, 1, 4, 2, 2, 1, 2, 2, 1, 2, 1, 1, 2, 2, 2, 2, 2, 3, 3, 2, 2, 2, 2, 2, 4, 2, 1, 2, 2, 1, 2, 2, 2, 4, 1, 1, 2, 2, 1, 5, 2, 2, 0, 1, 5, 2, 2, 1, 5, 2, 1, 2, 2, 2, 2, 2, 4, 2, 2, 2, 2, 2, 1, 1, 2, 2, 1, 2, 1, 2, 2, 1, 4, 2, 2, 2, 1, 1, 5, 2, 2, 2, 2, 2, 1, 2, 2, 2, 2, 4, 2, 4, 2, 1, 2, 1, 2, 2, 5, 2, 1, 1, 5, 1, 2, 4, 2, 2, 1, 1, 1, 2, 1, 2, 2, 1, 5, 2, 1, 1, 5, 2, 2, 1, 2, 1, 3, 2, 2, 2, 1, 2, 2, 1, 1, 1, 2, 2, 2, 2, 2, 2, 1, 1, 4, 4, 1, 1, 5, 2, 2, 1, 2, 2, 2, 2, 4, 2, 1, 5, 5, 1, 2, 2, 2, 2, 2, 1, 2, 2, 2, 2, 2, 2, 1, 2, 3, 5, 2, 2, 2, 2, 5, 2, 1, 2, 2, 1, 2, 2, 2, 4, 5, 1, 2, 2, 2, 1, 1, 1, 2, 2, 1, 2, 2, 1, 2, 2, 2, 2, 1, 2, 2, 1, 2, 2, 3, 1, 2, 4, 5, 1, 2, 1, 5, 2, 2, 2, 4, 4, 2, 2, 2, 2, 2, 2, 2, 2, 2, 2, 2, 2, 2, 2, 4, 1, 2, 2, 2, 2, 2, 2, 1, 2, 2, 0, 1, 1, 0, 2, 2, 2, 2, 1, 2, 2, 2, 2, 2, 2, 1, 5, 2, 1, 2, 2, 2, 2, 2, 2, 2, 2, 2, 2, 2, 4, 1, 2, 2, 1, 2, 2, 2, 2, 2, 1, 3, 5, 2, 2, 2, 2, 1, 2, 1, 2, 2, 2, 2, 2, 2, 2, 2, 2, 2, 2, 1, 2, 1, 1, 1, 4, 2, 2, 2, 2, 2, 1, 1, 4, 1, 5, 2, 2, 2, 2, 2, 2, 1, 2, 1, 1, 1, 1, 3, 1, 2, 2, 2, 2, 2, 1, 2, 2, 2, 4, 1, 1, 2, 2, 2, 2, 2, 2, 2, 2, 2, 2, 2, 2, 2, 2, 1, 3, 2, 2, 5, 2, 2, 2, 2, 2, 1, 2, 2, 2, 2, 2, 2, 2, 2, 2, 2, 2, 2, 2, 1, 1, 1, 1, 2, 2, 2, 2, 3, 2, 2, 2, 2, 2, 2, 2, 2, 2, 2, 2, 2, 3, 2, 2, 2, 1, 1, 2, 2, 2, 2, 4, 2, 2, 1, 4, 2, 2, 2, 2, 2, 4, 2, 2, 2, 1, 1, 5, 2, 1, 2, 1, 2, 2, 3, 1, 2, 2, 1, 1, 2, 2, 5, 2, 2, 2, 2, 2, 2, 1, 1, 2, 2, 4, 1, 2, 1, 1, 1, 2, 2, 2, 2, 1, 5, 1, 0, 2, 0, 1, 1, 2, 2, 2, 1, 1, 1, 4, 1, 1, 2, 1, 4, 1, 4, 1, 2, 2, 2, 2, 2, 1, 4, 2, 0, 1, 1, 1, 3, 5, 5, 1, 4, 1, 1, 4, 2, 2, 4, 2, 2, 2, 2, 2, 1, 1, 2, 2, 2, 2, 4, 2, 2, 1, 2, 2, 2, 2, 2, 2, 2, 2, 1, 2, 2, 2, 2, 2, 2, 2, 2, 2, 1, 4, 2, 2, 2, 2, 1, 5, 1, 4, 2, 2, 2, 2, 2, 2, 1, 2, 2, 2, 2, 4, 4, 2, 2, 2, 1, 2, 1, 2, 0, 4, 1, 4, 1, 2, 2, 2, 2, 2, 2, 1, 2, 2, 2, 2, 2, 2, 2, 2, 2, 2, 2, 2, 2, 1, 5, 2, 5, 2, 2, 1, 5, 2, 2, 2, 2, 2, 2, 4, 2, 2, 2, 1, 2, 2, 1, 2, 1, 1, 4, 3, 1, 1, 1, 2, 1, 2, 2, 2, 1, 2, 2, 2, 2, 2, 2, 1, 2, 1, 5, 4, 5, 2, 2, 0, 5, 1, 3, 3, 2, 2, 2, 2, 2, 2, 2, 2, 2, 2, 2, 2, 2, 2, 2, 2, 2, 2, 2, 2, 1, 1, 1, 2, 2, 1, 1, 2, 2, 1, 2, 1, 1, 1, 5, 1, 5, 2, 1, 1, 4, 5, 2, 2, 2, 2, 2, 1, 2, 2, 1, 2, 1, 1, 4, 1, 1, 1, 2, 2, 2, 2, 1, 2, 2, 1, 2, 1, 2, 2, 2, 2, 2, 2, 2, 2, 2, 2, 2, 0, 2, 2, 2, 2, 5, 2, 2, 2, 2, 2, 2, 2, 1, 2, 2, 2, 2, 5, 2, 2, 2, 2, 2, 1, 2, 2, 2, 2, 4, 2, 3, 4, 1, 1, 4, 1, 1, 1, 1, 2, 5, 2, 2, 2, 2, 2, 2, 5, 1, 5, 5, 1, 2, 2, 1, 2, 1, 2, 1, 4, 2, 2, 2, 2, 2, 1, 4, 2, 1, 2, 2, 5, 2, 2, 2, 2, 1, 2, 1, 2, 0, 2, 2, 1, 2, 2, 4, 2, 2, 4, 1, 2, 2, 1, 3, 4, 4, 2, 2, 2, 2, 1, 0, 2, 2, 5, 2, 2, 2, 1, 2, 2, 2, 2, 0, 1, 2, 3, 2, 3, 3, 2, 2, 2, 2, 2, 0, 1, 5, 2, 2, 2, 2, 2, 1, 1, 2, 5, 1, 2, 2, 2, 2, 1, 2, 2, 2, 2, 2, 2, 2, 2, 1, 1, 1, 2, 1, 4, 1, 1, 1, 4, 2, 1, 3, 2, 2, 2, 2, 2, 2, 1, 2, 1, 1, 2, 2, 2, 2, 2, 2, 2, 2, 1, 5, 2, 2, 2, 2, 2, 2, 2, 1, 1, 2, 1, 5, 2, 5, 1, 1, 1, 1, 1, 1, 2, 4, 2, 2, 2, 2, 3, 1, 4, 3, 2, 2, 1, 5, 1, 5, 1, 1, 2, 2, 2, 2, 2, 1, 1, 1, 2, 2, 2, 2, 1, 1, 3, 2, 2, 2, 1, 5, 2, 4, 1, 1, 2, 2, 1, 5, 2, 2, 2, 2, 2, 2, 2, 2, 2, 1, 2, 2, 2, 2, 2, 1, 1, 4, 2, 2, 2, 2, 2, 1, 2, 1, 1, 2, 1, 1, 2, 5, 2, 5, 1, 1, 1, 2, 5, 3, 4, 5, 0, 2, 2, 2, 1, 5, 2, 1, 1, 2, 1, 5, 2, 2, 2, 2, 4, 4, 2, 2, 2, 2, 2, 2, 2, 2, 1, 4, 2, 2, 4, 1, 2, 1, 2, 4, 2, 2, 1, 4, 3, 2, 2, 2, 2, 5, 3, 2, 2, 5, 5, 2, 2, 2, 1, 1, 2, 2, 2, 1, 2, 1, 2, 2, 2, 2, 2, 2, 2, 2, 1, 2, 1, 5, 2, 2, 4, 2, 2, 2, 2, 4, 2, 1, 2, 2, 2, 1, 2, 1, 2, 1, 1, 2, 1, 2, 2, 1, 1, 2, 2, 2, 1, 3, 2, 2, 1, 4, 5, 2, 2, 2, 2, 2, 2, 2, 1, 2, 2, 2, 2, 2, 1, 2, 2, 0, 2, 1, 1, 2, 2, 2, 1, 2, 4, 5, 2, 2, 4, 4, 0, 1, 2, 2, 1, 2, 2, 1, 2, 2, 2, 2, 2, 2, 2, 2, 2, 2, 1, 1, 2, 2, 1, 4, 2, 2, 2, 2, 2, 2, 2, 2, 5, 2, 2, 2, 2, 2, 2, 2, 2, 2, 1, 1, 2, 1, 3, 2, 2, 2, 2, 2, 1, 2, 2, 1, 2, 5, 2, 2, 2, 0, 1, 4, 2, 1, 2, 1, 1, 2, 1, 4, 2, 2, 3, 2, 1, 5, 2, 2, 2, 2, 1, 1, 1, 3, 2, 1, 2, 2, 1, 1, 5, 2, 5, 1, 1, 5, 1, 1, 2, 5, 2, 2, 3, 2, 1, 2, 2, 2, 2, 2, 1, 2, 2, 2, 2, 2, 2, 4, 2, 2, 1, 4, 4, 1, 1, 2, 2, 2, 2, 1, 1, 4, 3, 2, 1, 2, 1, 1, 5, 1, 2, 2, 2, 2, 2, 2, 2, 2, 1, 5, 2, 2, 1, 1, 4, 2, 1, 2, 2, 2, 2, 1, 2, 4, 1, 3, 2, 2, 2, 5, 2, 2, 5, 2, 2, 2, 2, 2, 1, 2, 2, 2, 2, 2, 2, 2, 4, 2, 2, 1, 2, 1, 1, 2, 4, 2, 2, 2, 2, 2, 1, 1, 3, 2, 1, 2, 2, 2, 2, 2, 1, 4, 2, 2, 1, 2, 4, 2, 2, 2, 1, 2, 2, 2, 2, 4, 1, 1, 2, 2, 2, 1, 1, 2, 2, 2, 2, 1, 2, 2, 2, 2, 2, 2, 2, 3, 2, 2, 2, 4, 4, 1, 2, 1, 4, 4, 1, 2, 2, 5, 2, 2, 2, 2, 4, 2, 2, 2, 2, 5, 2, 1, 2, 2, 5, 2, 2, 2, 1, 1, 1, 2, 1, 1, 2, 2, 1, 2, 2, 2, 2, 1, 2, 2, 1, 2, 2, 2, 1, 2, 1, 4, 3, 2, 2, 2, 2, 1, 1, 1, 5, 1, 2, 2, 2, 2, 2, 2, 5, 2, 2, 2, 2, 5, 2, 2, 2, 2, 4, 0, 2, 2, 1, 2, 1, 2, 2, 2, 2, 2, 2, 1, 1, 2, 2, 2, 1, 2, 2, 2, 2, 2, 2, 1, 5, 0, 3, 2, 2, 2, 1, 1, 1, 1, 2, 1, 2, 2, 2, 2, 2, 2, 1, 2, 2, 2, 2, 1, 2, 2, 2, 2, 2, 2, 2, 4, 3, 2, 2, 2, 2, 1, 5, 2, 2, 1, 2, 0, 1, 2, 2, 2, 2, 2, 2, 2, 2, 1, 2, 2, 2, 2, 5, 5, 5, 4, 2, 2, 2, 1, 2, 2, 2, 2, 1, 4, 5, 4, 2, 0, 2, 2, 2, 2, 2, 0, 4, 5, 2, 2, 2, 2, 1, 1, 2, 2, 2, 1, 2, 2, 2, 2, 1, 2, 1, 2, 1, 2, 2, 2, 1, 1, 4, 1, 2, 2, 1, 2, 2, 2, 2, 2, 2, 2, 2, 2, 2, 1, 2, 2, 2, 2, 1, 1, 2, 2, 2, 1, 2, 1, 2, 2, 1, 1, 2, 2, 2, 2, 1, 1, 2, 2, 2, 2, 2, 2, 2, 2, 2, 2, 2, 2, 2, 2, 2, 2, 2, 1, 2, 2, 2, 2, 2, 2, 2, 2, 2, 2, 1, 2, 1, 2, 2, 2, 4, 4, 1, 5, 1, 1, 1, 5, 1, 1, 4, 1, 5, 4, 2, 2, 2, 1, 2, 2, 2, 2, 2, 2, 2, 2, 2, 2, 2, 2, 2, 2, 2, 2, 4, 0, 2, 1, 0, 2, 2, 1, 2, 2, 2, 2, 1, 2, 2, 1, 1, 5, 2, 1, 2, 1, 2, 2, 2, 1, 1, 0, 4, 2, 1, 1, 1, 1, 5, 2, 2, 2, 2, 2, 1, 2, 2, 2, 2, 2, 1, 2, 1, 2, 1, 1, 1, 2, 2, 2, 2, 4, 1, 2, 2, 1, 2, 2, 1, 2, 2, 1, 5, 2, 2, 2, 2, 2, 2, 5, 0, 0, 3, 4, 1, 3, 2, 2, 2, 1, 3, 1, 2, 2, 1, 2, 1, 2, 1, 3, 1, 2, 3, 2, 2, 2, 2, 2, 2, 2, 2, 2, 2, 4, 2, 2, 2, 2, 2, 2, 1, 2, 4, 1, 1, 1, 4, 2, 2, 2, 2, 2, 2, 1, 2, 2, 2, 5, 2, 2, 2, 2, 2, 2, 2, 5, 2, 1, 2, 2, 2, 2, 2, 2, 1, 2, 2, 2, 2, 1, 2, 1, 3, 3, 1, 2, 2, 2, 2, 4, 2, 2, 4, 4, 2, 2, 2, 2, 2, 2, 4, 2, 4, 1, 1, 1, 5, 2, 4, 2, 2, 2, 2, 2, 2, 2, 2, 2, 2, 2, 1, 2, 2, 2, 2, 2, 2, 1, 5, 3, 5, 1, 2, 2, 2, 1, 2, 2, 1, 5, 2, 2, 2, 2, 2, 2, 2, 1, 4, 1, 1, 1, 5, 5, 1, 2, 2, 2, 2, 2, 2, 2, 2, 2, 2, 1, 4, 1, 2, 1, 1, 2, 2, 1, 1, 2, 1, 2, 1, 4, 3, 1, 2, 1, 1, 2, 2, 5, 2, 2, 2, 1, 1, 2, 2, 2, 2, 2, 1, 2, 2, 1, 2, 5, 1, 2, 2, 2, 1, 2, 2, 2, 2, 2, 2, 2, 2, 3, 2, 5, 2, 2, 2, 2, 4, 2, 4, 2, 2, 1, 5, 2, 2, 2, 2, 4, 2, 2, 2, 2, 4, 1, 2, 2, 1, 5, 1, 2, 1, 2, 0, 1, 2, 1, 1, 2, 2, 1, 2, 2, 2, 2, 2, 2, 2, 2, 5, 4, 4, 1, 2, 2, 1, 1, 4, 2, 2, 1, 1, 1, 2, 2, 2, 2, 2, 2, 3, 2, 2, 1, 2, 1, 2, 2, 2, 2, 1, 5, 2, 1, 2, 1, 2, 1, 2, 1, 1, 1, 2, 2, 2, 2, 2, 2, 2, 2, 2, 4, 2, 2, 4, 1, 2, 1, 2, 2, 2, 2, 2, 2, 1, 1, 2, 1, 2, 2, 2, 1, 5, 2, 2, 2, 2, 2, 4, 2, 1, 1, 5, 2, 2, 2, 2, 1, 5, 4, 2, 2, 2, 2, 1, 5, 2, 2, 2, 1, 5, 2, 2, 2, 2, 2, 2, 1, 1, 2, 1, 2, 1, 2, 2, 2, 1, 1, 2, 2, 2, 1, 1, 2, 3, 3, 2, 2, 2, 2, 2, 1, 1, 1, 1, 2, 2, 1, 1, 3, 3, 2, 2, 2, 2, 2, 2, 2, 2, 4, 1, 2, 1, 1, 0, 1, 1, 2, 2, 2, 2, 2, 2, 2, 2, 2, 2, 2, 2, 2, 1, 5, 1, 2, 2, 2, 4, 5, 2, 2, 5, 2, 2, 2, 2, 2, 2, 2, 2, 2, 1, 3, 0, 1, 2, 2, 2, 1, 1, 4, 1, 1, 2, 2, 2, 2, 2, 2, 2, 2, 2, 2, 2, 4, 4, 2, 2, 2, 1, 2, 2, 2, 2, 2, 2, 2, 1, 4, 2, 5, 2, 2, 1, 2, 2, 2, 2, 2, 2, 1, 2, 2, 2, 2, 1, 2, 2, 2, 1, 4, 4, 4, 2, 2, 2, 2, 2, 2, 2, 5, 2, 2, 2, 2, 3, 2, 4, 1, 4, 1, 1, 5, 2, 2, 2, 1, 2, 2, 2, 2, 1, 1, 1, 5, 1, 2, 1, 5, 2, 1, 2, 1, 2, 2, 2, 2, 1, 2, 2, 2, 1, 1, 2, 3, 1, 2, 2, 1, 2, 2, 2, 1, 2, 2, 2, 2, 2, 2, 5, 2, 1, 2, 2, 1, 3, 2, 1, 2, 2, 2, 2, 2, 1, 2, 2, 5, 2, 2, 2, 2, 2, 1, 0, 1, 1, 2, 2, 2, 2, 2, 2, 2, 2, 3, 1, 1, 3, 4, 2, 2, 2, 1, 2, 2, 4, 2, 2, 2, 1, 1, 1, 4, 3, 2, 1, 2, 2, 2, 2, 1, 1, 1, 1, 1, 2, 2, 2, 2, 2, 2, 2, 4, 5, 2, 2, 2, 2, 1, 5, 2, 2, 2, 2, 1, 2, 2, 2, 1, 2, 2, 2, 2, 4, 0, 2, 2, 2, 2, 1, 1, 1, 5, 2, 1, 2, 2, 4, 1, 2, 2, 2, 1, 4, 4, 1, 2, 2, 2, 2, 1, 2, 2, 4, 2, 5, 1, 1, 2, 2, 2, 1, 1, 1, 5, 2, 2, 2, 2, 2, 2, 2, 2, 2, 2, 2, 2, 1, 4, 1, 2, 2, 2, 2, 2, 1, 1, 4, 1, 2, 0, 1, 2, 2, 1, 2, 2, 2, 2, 2, 1, 3, 2, 2, 2, 2, 2, 1, 2, 2, 2, 1, 2, 1, 0, 2, 2, 1, 1, 1, 2, 1, 2, 2, 2, 2, 2, 2, 2, 2, 2, 4, 2, 1, 1, 1, 5, 2, 2, 2, 2, 2, 2, 2, 2, 2, 2, 2, 2, 2, 1, 2, 2, 2, 2, 2, 2, 2, 2, 2, 3, 1, 2, 3, 2, 2, 2, 1, 2, 2, 1, 2, 2, 2, 2, 2, 2, 2, 2, 2, 2, 2, 2, 4, 1, 2, 2, 1, 2, 2, 2, 1, 2, 1, 2, 2, 1, 2, 2, 3, 1, 2, 2, 2, 1, 1, 1, 2, 0, 1, 2, 2, 2, 2, 2, 2, 2, 5, 1, 2, 1, 2, 1, 3, 4, 4, 2, 5, 1, 0, 1, 1, 2, 2, 1, 1, 2, 2, 1, 2, 2, 1, 1, 4, 2, 2, 1, 2, 2, 2, 1, 5, 3, 4, 2, 2, 2, 2, 2, 2, 2, 2, 2, 2, 1, 2, 2, 2, 2, 2, 2, 2, 2, 2, 2, 2, 2, 1, 4, 1, 5, 1, 2, 2, 2, 1, 2, 2, 2, 1, 5, 2, 2, 4, 5, 2, 1, 1, 2, 2, 1, 2, 1, 4, 3, 4, 1, 2, 3, 4, 2, 2, 1, 1, 5, 2, 2, 1, 2, 2, 2, 1, 1, 1, 2, 2, 2, 1, 1, 1, 2, 1, 1, 5, 5, 4, 4, 1, 2, 2, 1, 4, 2, 2, 2, 2, 2, 1, 0, 2, 1, 5, 2, 2, 2, 2, 2, 2, 2, 2, 2, 1, 1, 1, 2, 2, 2, 2, 2, 1, 2, 2, 1, 3, 2, 4, 2, 2, 2, 2, 2, 2, 2, 2, 1, 1, 1, 2, 2, 3, 1, 2, 2, 2, 2, 2, 4, 1, 2, 2, 2, 2, 2, 1, 1, 1, 2, 2, 2, 1, 2, 1, 1, 2, 3, 1, 1, 5, 2, 2, 0, 1, 2, 2, 2, 4, 1, 1, 2, 1, 2, 2, 2, 1, 2, 2, 4, 1, 1, 2, 2, 2, 2, 1, 5, 1, 2, 1, 2, 5, 2, 2, 2, 2, 1, 5, 2, 1, 5, 1, 1, 1, 1, 1, 3, 5, 2, 1, 2, 1, 1, 2, 2, 1, 2, 2, 5, 2, 1, 5, 0, 1, 4, 2, 2, 2, 2, 2, 1, 1, 2, 2, 1, 2, 2, 5, 2, 2, 2, 2, 2, 2, 4, 1, 2, 2, 2, 2, 1, 2, 2, 2, 2, 2, 2, 2, 0, 1, 2, 2, 2, 1, 2, 2, 2, 2, 1, 5, 1, 2, 2, 2, 1, 1, 2, 2, 1, 1, 3, 1, 1, 1, 2, 2, 2, 2, 2, 2, 2, 2, 2, 2, 2, 2, 2, 2, 2, 1, 2, 2, 1, 2, 1, 2, 4, 1, 1, 2, 2, 2, 2, 5, 1, 2, 2, 2, 2, 2, 2, 4, 4, 4, 4, 4, 1, 2, 2, 2, 2, 1, 2, 2, 1, 2, 2, 1, 2, 2, 1, 2, 2, 2, 2, 2, 2, 1, 2, 1, 5, 1, 2, 2, 2, 2, 2, 2, 2, 2, 2, 1, 1, 1, 5, 1, 2, 2, 2, 1, 1, 2, 2, 2, 1, 2, 2, 2, 2, 2, 2, 2, 4, 1, 1, 1, 2, 2, 5, 1, 3, 2, 2, 2, 1, 1, 1, 1, 5, 2, 2, 2, 2, 2, 2, 2, 2, 1, 1, 5, 2, 2, 1, 4, 2, 2, 2, 5, 2, 2, 2, 2, 2, 2, 2, 2, 2, 2, 2, 2, 2, 2, 2, 0, 2, 2, 2, 1, 2, 2, 2, 2, 2, 2, 2, 2, 2, 2, 2, 2, 2, 5, 5, 3, 2, 2, 2, 2, 2, 2, 2, 1, 1, 1, 2, 2, 1, 4, 4, 1, 2, 2, 2, 2, 2, 2, 2, 2, 2, 2, 2, 2, 2, 2, 2, 2, 1, 1, 5, 2, 5, 2, 2, 2, 2, 2, 1, 2, 2, 5, 2, 2, 1, 3, 2, 2, 2, 2, 3, 2, 1, 4, 1, 2, 2, 1, 1, 1, 2, 2, 1, 1, 5, 5, 1, 2, 2, 1, 1, 1, 3, 2, 2, 2, 2, 2, 2, 2, 4, 2, 2, 4, 5, 2, 2, 1, 2, 1, 2, 2, 2, 2, 2, 2, 2, 2, 4, 4, 2, 2, 1, 2, 2, 2, 0, 2, 1, 2, 2, 2, 2, 1, 4, 5, 1, 1, 2, 1, 2, 2, 2, 2, 1, 2, 2, 2, 1, 5, 2, 2, 2, 4, 0, 1, 2, 2, 1, 1, 5, 0, 2, 1, 3, 2, 1, 1, 2, 2, 2, 2, 1, 2, 1, 1, 2, 2, 2, 2, 2, 1, 1, 2, 2, 1, 2, 1, 2, 1, 2, 2, 2, 2, 2, 2, 1, 5, 5, 2, 1, 1, 1, 2, 2, 2, 2, 2, 2, 2, 1, 2, 1, 2, 2, 1, 2, 2, 1, 2, 2, 1, 5, 2, 1, 5, 1, 2, 2, 2, 1, 2, 2, 2, 2, 2, 2, 2, 5, 2, 2, 5, 2, 2, 2, 2, 2, 2, 2, 1, 2, 2, 1, 2, 2, 4, 2, 2, 5, 1, 1, 4, 1, 5, 2, 2, 2, 2, 2, 2, 2, 1, 4, 2, 5, 2, 2, 1, 1, 2, 2, 2, 2, 2, 2, 1, 2, 2, 2, 2, 2, 2, 2, 2, 2, 2, 2, 5, 1, 2, 2, 2, 1, 1, 1, 2, 2, 2, 1, 2, 2, 2, 2, 1, 5, 2, 4, 1, 5, 2, 2, 4, 3, 2, 2, 2, 1, 2, 3, 2, 2, 2, 2, 2, 2, 1, 4, 2, 4, 2, 2, 2, 2, 2, 2, 2, 2, 1, 2, 1, 1, 2, 2, 1, 2, 1, 4, 4, 2, 3, 1, 5, 1, 1, 2, 1, 2, 2, 1, 5, 2, 2, 2, 2, 2, 4, 1, 1, 1, 2, 2, 4, 2, 1, 2, 2, 1, 2, 2, 2, 2, 2, 2, 2, 2, 2, 2, 2, 2, 1, 2, 2, 2, 2, 2, 2, 2, 2, 2, 5, 2, 2, 2, 2, 2, 2, 2, 2, 2, 2, 2, 5, 1, 1, 1, 2, 2, 2, 2, 2, 2, 2, 2, 2, 2, 2, 2, 2, 2, 2, 2, 2, 2, 2, 2, 5, 2, 2, 2, 2, 5, 5, 2, 2, 2, 2, 2, 2, 2, 4, 2, 1, 2, 1, 2, 2, 3, 2, 1, 2, 1, 5, 1, 5, 2, 2, 2, 2, 2, 4, 4, 2, 2, 2, 1, 2, 1, 2, 2, 2, 2, 2, 1, 1, 4, 1, 2, 2, 1, 2, 1, 1, 1, 3, 2, 2, 2, 1, 5, 2, 2, 2, 2, 2, 2, 2, 2, 2, 2, 2, 2, 2, 3, 2, 2, 2, 1, 1, 1, 2, 1, 1, 2, 2, 2, 2, 2, 2, 2, 2, 2, 2, 2, 1, 2, 2, 2, 2, 2, 2, 2, 2, 1, 1, 2, 2, 2, 2, 2, 2, 2, 2, 1, 1, 1, 5, 1, 5, 2, 2, 2, 2, 2, 2, 2, 2, 2, 2, 1, 2, 2, 2, 2, 2, 2, 2, 2, 2, 2, 2, 2, 2, 2, 2, 2, 1, 2, 1, 4, 2, 2, 2, 2, 1, 2, 2, 1, 4, 1, 1, 2, 2, 2, 1, 3, 2, 1, 2, 3, 2, 2, 4, 2, 1, 2, 2, 2, 1, 2, 2, 2, 2, 4, 2, 2, 2, 2, 2, 2, 1, 2, 2, 2, 2, 1, 2, 2, 2, 2, 2, 1, 2, 4, 1, 4, 2, 2, 2, 1, 2, 5, 3, 4, 2, 4, 1, 2, 2, 2, 2, 2, 2, 1, 2, 2, 2, 2, 1, 2, 2, 1, 1, 2, 2, 1, 2, 1, 2, 2, 2, 1, 2, 2, 2, 3, 2, 2, 2, 2, 2, 2, 2, 2, 2, 2, 2, 2, 2, 2, 2, 1, 2, 2, 2, 2, 1, 5, 2, 2, 1, 2, 2, 2, 2, 1, 2, 2, 1, 2, 2, 2, 2, 1, 1, 1, 0, 2, 2, 2, 1, 1, 1]\n",
            "[0.9811850537113056, 0.9868632945626337, 0.9978384113063252, 0.9971127436562404, 0.9842968895152565, 0.9862175176412235, 0.9824305352641662, 0.9823595677358087, 0.9976195457840494, 0.9990881471257413, 0.9960683689140171, 0.983556914630477, 0.9876799956158229, 0.9824104348505279, 0.9971412993757485, 0.9977497722028064, 0.9970781200928415, 0.9819913027083258, 0.9816925989452343, 0.9917791157076468, 0.9949356671492863, 0.9964690528980361, 0.981390839935574, 0.9968133628146579, 0.9815437620925831, 0.981551725762705, 0.9852153305539098, 0.9951827719429744, 0.9974569643795093, 0.9872692521680658, 0.9929408599038879, 0.9985748938026844, 0.9953280279287189, 0.9898679793977884, 0.986369588921647, 0.9867314401618126, 0.9972922539696988, 0.9914556015847926, 0.992605113462354, 0.9876541488503336, 0.9841420355013258, 0.9822067398843646, 0.9985212564926454, 0.9871587774851467, 0.9916665120445434, 0.9823242692881887, 0.9970206241025631, 0.9915957326964486, 0.9961389557855637, 0.9890822542413223, 0.9870289367337285, 0.9800853547810038, 0.982456349840698, 0.984964955398127, 0.9969289385480313, 0.9886100869422386, 0.9862349774350677, 0.9855470966627077, 0.9819999524877407, 0.9821212780799178, 0.9971412993757485, 0.9939305026737527, 0.9976281976880108, 0.9894766625108389, 0.994072054105955, 0.9971127436562404, 0.9872971281995297, 0.9809546279306535, 0.9903879274402358, 0.9923998906054786, 0.9918953824150931, 0.9821134556809098, 0.9940148257288388, 0.99742311407818, 0.9951138493731758, 0.9871454223147388, 0.998095668349256, 0.9829784484475845, 0.992701399100959, 0.9943039537599585, 0.994692224424437, 0.9800320423438302, 0.9942160922216486, 0.9861817679095706, 0.9986421219618846, 0.992855773536593, 0.9903087497250747, 0.9879930518549842, 0.9805306652275319, 0.9931967249871518, 0.9878498914231585, 0.9913425054919779, 0.9925069363024474, 0.998713717864941, 0.9850138214309876, 0.9942484685962595, 0.9987340022706112, 0.9979794732481777, 0.9932334471104378, 0.9962772970112981, 0.9985779327396069, 0.9961394259180777, 0.9856440652603953, 0.9858572443813666, 0.9893209110550547, 0.9835122367632865, 0.998779279164791, 0.9971127436562404, 0.9972177702292703, 0.9972143618107304, 0.9959188277371065, 0.990266324849603, 0.9806099816900491, 0.9947666128472449, 0.9814967345475487, 0.9837548335738755, 0.9816542251228603, 0.9862062992943356, 0.9919068229150316, 0.9887371576771653, 0.9800922809220716, 0.9853814003525424, 0.9842797255486413, 0.9982812769748275, 0.9942029362611963, 0.9959418628761186, 0.9914455419864339, 0.9950873729657186, 0.9967372021610906, 0.993574324544372, 0.990403085280029, 0.9948616008801437, 0.9950916738848735, 0.9969688283883845, 0.9818905715564955, 0.9931587199357826, 0.9944689431337949, 0.9890119557797703, 0.9975088130398173, 0.9882117211834176, 0.9822031217170474, 0.9845921946419732, 0.9821566843630847, 0.9842968895152565, 0.9980191853307313, 0.9969688283883845, 0.9834769576154497, 0.9834769576154497, 0.9893585366182182, 0.9978164211903076, 0.993442097108049, 0.9895577323500743, 0.9938037177785117, 0.9896641280933622, 0.982869187906478, 0.9898035855024223, 0.9887991409975229, 0.9837414572046261, 0.997516883385038, 0.9939249330786414, 0.999055157788997, 0.9980071527644269, 0.9954341278230163, 0.9928379229825036, 0.9878088977934449, 0.9977734672101611, 0.9957908130344574, 0.9969608113552235, 0.9886409881019678, 0.9929715739977711, 0.9926259393111716, 0.9948545662013515, 0.9878088977934449, 0.9932958414233206, 0.9839436202829908, 0.9941103993753639, 0.9985212564926454, 0.9964073474187506, 0.9919810548881853, 0.9958038090155236, 0.9975163807282691, 0.9877162524752726, 0.987390144176387, 0.9970109671240395, 0.9832589482881098, 0.9981366744498248, 0.9936714284115609, 0.983099779459484, 0.9839749781015994, 0.9975163807282691, 0.9981372951340857, 0.9822230776863111, 0.997372685835806, 0.9931601325608436, 0.9885973940614741, 0.9895159227774176, 0.997642469498404, 0.9994968429858707, 0.9969688283883845, 0.9891363688869349, 0.9809076380698187, 0.9910786427894831, 0.9946207297435162, 0.9928173116045628, 0.9820454839845523, 0.9980714895329335, 0.9804061095651629, 0.984824282458413, 0.9824694442327466, 0.9839593973215328, 0.9957343092763076, 0.9981202999161023, 0.9942414183685082, 0.9822125814422639, 0.9916407841752045, 0.9979454716025046, 0.9824553398814948, 0.991754831700705, 0.985924633699246, 0.9813633844314216, 0.9833738291362867, 0.9934682364609544, 0.9917755439456851, 0.9863564044961363, 0.9909156170310968, 0.9887659344268831, 0.9919580655965538, 0.9963660343088199, 0.9914651619331885, 0.9976694811723051, 0.9905331476877541, 0.9811032515190986, 0.9983546100631566, 0.982105464298812, 0.9869674074281538, 0.9924513739535074, 0.9959052431679892, 0.9967875412003878, 0.9815267505473303, 0.9905647358518316, 0.9881544830085143, 0.9908001756161997, 0.9982289238551376, 0.9832468391835842, 0.9970927637721704, 0.9840054222054229, 0.9840663982835166, 0.997536128478776, 0.9924513739535074, 0.9961789067513969, 0.9965058848044176, 0.9855899512140011, 0.9802901429116975, 0.9906553605129739, 0.990522191578609, 0.9923932500313769, 0.9807807948964615, 0.995345302262845, 0.9981516053218725, 0.9989057019981565, 0.9837852581786379, 0.993570535577325, 0.9805951398550742, 0.9887049986891252, 0.9820456838091711, 0.9953768065596547, 0.984696230128036, 0.9953257885181706, 0.996125645630163, 0.9859118518021586, 0.9802974585697145, 0.9890720308557456, 0.9944008558088595, 0.9966735386964172, 0.9969688283883845, 0.9950877430845892, 0.9935444841495941, 0.9923892557551374, 0.9896282284445713, 0.9987404617994816, 0.9947961732424709, 0.9842968895152565, 0.9883921937298382, 0.994869607327455, 0.9809951155429035, 0.985530769649239, 0.991143306108335, 0.9874739309132882, 0.9925769134663674, 0.9936196991121182, 0.9863585463642104, 0.989784246956408, 0.9835001003254998, 0.9818450895719377, 0.9881175240901794, 0.9969279389234749, 0.9965033705750491, 0.996098414435094, 0.9871209876777262, 0.9969688283883845, 0.9920614539927574, 0.9956369410148103, 0.9892763727241495, 0.991779017615068, 0.9963551319030692, 0.9956837981459528, 0.9976719542211598, 0.9985212564926454, 0.9927152883974028, 0.9832231260561385, 0.997735372344799, 0.9975088130398173, 0.9923694848296811, 0.9868527595671082, 0.9982812769748275, 0.9925345919418942, 0.995745493047554, 0.9905147302616644, 0.993035681298655, 0.995510690880402, 0.9939670474518985, 0.9941947573043325, 0.9969688283883845, 0.992834824385952, 0.9849354162115866, 0.9892517516187272, 0.991350626206829, 0.9987404617994816, 0.9848394170736989, 0.9965878730195065, 0.9837847814119299, 0.9976857870867506, 0.9980759758009105, 0.9955704907361608, 0.991429225518068, 0.9801280309645144, 0.9894103808463963, 0.9860856803235206, 0.9852515005824312, 0.9812142294944047, 0.9966201390318, 0.995551889764595, 0.9969688283883845, 0.9822578560409952, 0.9928816325983228, 0.9842968895152565, 0.9805547672773882, 0.9974626210315938, 0.9911685775760196, 0.9837458946178723, 0.9971127436562404, 0.9942248464298851, 0.9976719542211598, 0.9876247501458953, 0.9984225882928601, 0.9842968895152565, 0.9967756585627873, 0.9978384113063252, 0.9969688283883845, 0.9946767612278383, 0.9926423292834413, 0.9823034731937584, 0.9875961633658342, 0.9942359869280731, 0.9879439676411408, 0.9895954739475509, 0.9943612867018331, 0.9874129438820605, 0.9951041836234565, 0.9808534450816115, 0.9866165454731526, 0.9943117547984532, 0.9894427331659329, 0.9879550982123104, 0.9898466566926388, 0.9996553009680548, 0.9823402460175318, 0.9976225826427173, 0.987033849480142, 0.9908415473923616, 0.9919910072035504, 0.9934209835615022, 0.9985212564926454, 0.9915082647920407, 0.9885688547669694, 0.9976779279574205, 0.9804654642892177, 0.9933168599218544, 0.9873159554031703, 0.9913984801544197, 0.9847121279990647, 0.9930541373148465, 0.9928217944741591, 0.9969688283883845, 0.9810016120087772, 0.9875187473178847, 0.9822712100467212, 0.980645692491296, 0.9806306141104622, 0.9907279982956776, 0.9925116822491302, 0.9989519865729155, 0.9856872380212285, 0.9916453987741537, 0.9816950155993506, 0.9950013352075274, 0.9983424429758019, 0.9961434427467512, 0.9884277162128656, 0.9842968895152565, 0.9963002542719234, 0.9947863683313989, 0.9991712862201326, 0.9967113069717318, 0.9983629717384014, 0.9884934834207059, 0.9903721224444276, 0.9979495405610546, 0.9842968895152565, 0.994406125227657, 0.998738756638546, 0.9979429995896465, 0.9834769576154497, 0.9887207306233414, 0.9911553208870131, 0.998044627610253, 0.9953810421934378, 0.9969688283883845, 0.9961789067513969, 0.9891066280345915, 0.9919791565780729, 0.9943303395414722, 0.9805235176957036, 0.9806782743054918, 0.9903575490613609, 0.9927972796574096, 0.9901909853000782, 0.9853124996869866, 0.9966886920554523, 0.9933137500690954, 0.9944338432413801, 0.9916072002902171, 0.998172036191296, 0.9986931731219816, 0.9912788947926253, 0.9851274053710469, 0.9963689653086752, 0.9831476149612968, 0.9916241360512216, 0.998172036191296, 0.9944231582762375, 0.9839669291690003, 0.9982365049259058, 0.9852554779284375, 0.98907594160331, 0.9973513069894513, 0.9964917209060253, 0.9925069363024474, 0.9967303538569898, 0.9941323824649871, 0.9823810086991472, 0.9845328105619074, 0.9839195533370537, 0.9820434550808064, 0.9830484945238426, 0.9987882884778924, 0.9897129411114234, 0.9922135065648363, 0.9974551572880415, 0.9902271515549872, 0.9978017514026983, 0.9854738393013274, 0.9839252649957606, 0.9969688283883845, 0.9964110665267274, 0.9908046098525009, 0.9866842940149251, 0.9825879557648431, 0.9835577496034562, 0.9844011783330727, 0.9917106433778041, 0.9946864219970798, 0.9917401778096643, 0.9868387844842357, 0.9941248972163091, 0.9817197288969475, 0.9988114680206585, 0.9873476666529581, 0.991143936143519, 0.9842968895152565, 0.9833213432327718, 0.9971127436562404, 0.989900671285066, 0.9962095076079733, 0.9854081978800623, 0.9976719542211598, 0.9856767861563628, 0.9929692589922353, 0.986586001229221, 0.9965823084460351, 0.9976912082301103, 0.9969688283883845, 0.990093242803875, 0.9990567971375015, 0.9875597934941422, 0.9976649282984096, 0.990871734263234, 0.9921541951800246, 0.9967542668916967, 0.9830478924091732, 0.9950064435272367, 0.9852518606621747, 0.9976532207797592, 0.9966013716830178, 0.9929856569546504, 0.9933193255319143, 0.9966745241301197, 0.9872046871761919, 0.9952888101433124, 0.9873291914212184, 0.9802894580610422, 0.9889251995193505, 0.9986940362652365, 0.9933553228491, 0.9827877266859358, 0.9934717685055316, 0.9922113369507611, 0.9912551187913694, 0.9969573324551984, 0.9978939176200186, 0.9907933810811955, 0.9970845125773429, 0.9880988758068561, 0.985621052358984, 0.986230906581609, 0.9872413491749316, 0.9818776275881967, 0.9808985703623155, 0.9926520750863951, 0.9828249185230712, 0.9811071538084132, 0.9846867818412858, 0.9969688283883845, 0.994292749565054, 0.9856236989360341, 0.9857353299060548, 0.991017182173684, 0.9853678330428877, 0.9952697963414483, 0.9942834074523299, 0.9962970076391845, 0.9878088977934449, 0.9945538035576199, 0.9955676628687717, 0.9888421381263885, 0.997112684426866, 0.9980522044942954, 0.9912293011806634, 0.9962804326268416, 0.9937123903604242, 0.9840930034345857, 0.990093242803875, 0.9847589152958919, 0.9819913027083258, 0.9983897180161906, 0.9932020453464044, 0.9955988797432037, 0.9958375241384446, 0.9879681170265293, 0.9811267173272354, 0.9864388616235253, 0.9985212564926454, 0.9972059511333855, 0.9819512091449327, 0.9879438682374067, 0.9962012324072042, 0.986050221198561, 0.9965119110721993, 0.9971492866770882, 0.9978506287920275, 0.9956161668652925, 0.9866774686002996, 0.9962263698750915, 0.9971142122187221, 0.9949749731772034, 0.9916827865326251, 0.9941433264828049, 0.9935952807579459, 0.9969688283883845, 0.9853295770388752, 0.9877488112593178, 0.9883664757520841, 0.9959800912579948, 0.9989977864923711, 0.9971792071548217, 0.9985998359706777, 0.9899542218815142, 0.995291368320042, 0.9862212116755988, 0.9954581811969637, 0.9970845125773429, 0.9815267505473303, 0.986145189788784, 0.9990279748194554, 0.997755298937453, 0.9865759939444205, 0.9857253419788543, 0.9969980275137834, 0.9969688283883845, 0.9803000247268978, 0.9967657842756188, 0.9893372224926174, 0.9831899597747923, 0.9817173759135414, 0.9955308075053837, 0.9969688283883845, 0.9812065945764328, 0.9826225464902072, 0.9880741430628487, 0.9924175081003508, 0.9943581292893329, 0.9969688283883845, 0.9966026307234254, 0.9941948749574383, 0.9838822413573203, 0.9862321045809106, 0.9960751891938715, 0.9912332008069713, 0.9985464588407423, 0.9897585961092485, 0.9901638848868677, 0.9913029323548657, 0.9912874822711818, 0.9953610066559528, 0.9826559272307398, 0.9979956243433435, 0.9835329724674627, 0.9917506047153507, 0.9945619668424167, 0.9943571908303356, 0.9983378331995783, 0.9957490626735449, 0.9922283998859128, 0.981529171404715, 0.9931601325608436, 0.9962922591922567, 0.9858914489458523, 0.988313834006242, 0.99354775366239, 0.9801006969278245, 0.9945973994250379, 0.9961963660826755, 0.994840186145393, 0.9963542160981985, 0.9966323698910411, 0.9955690175817637, 0.9954396997233784, 0.9976186620515549, 0.9924513739535074, 0.9985212564926454, 0.9980999101931143, 0.9824551011690003, 0.9806552631444854, 0.99685576389408, 0.9969688283883845, 0.9848915479077893, 0.993448910760564, 0.9988224489981853, 0.9967143260706804, 0.998095335279377, 0.9959192144405946, 0.9981240602835972, 0.993800616452082, 0.9886514608531282, 0.9854954394665908, 0.9913988880589455, 0.9825900945388746, 0.9854150868874281, 0.9885966314643716, 0.981891393526705, 0.9816958130778289, 0.9845127327759293, 0.9969688283883845, 0.9845717536464652, 0.9943940894525422, 0.9965380710209143, 0.9909155677412006, 0.9949776438906359, 0.990093242803875, 0.9842076683968608, 0.9842968895152565, 0.9982844413245863, 0.9916387198778246, 0.9827494605609033, 0.9947705233390709, 0.9973891567461287, 0.9982758382259586, 0.9858509159156766, 0.9803523589983252, 0.9918902389609232, 0.9978384113063252, 0.9964499168237472, 0.9819913027083258, 0.980454685919251, 0.993470170617461, 0.9952631137003574, 0.99742311407818, 0.9975801051719451, 0.9863041218300367, 0.9950281590093709, 0.9842968895152565, 0.9978384113063252, 0.9970051374560126, 0.9975088130398173, 0.9938342247561597, 0.9986395639194605, 0.990093242803875, 0.9974019442428281, 0.9982812769748275, 0.9837483127270641, 0.987500676467844, 0.998746727542672, 0.9928997904661601, 0.9869174690774485, 0.9823515453667692, 0.9952011744709336, 0.9895621440429914, 0.9849870195114028, 0.9855153601531841, 0.9890769107383708, 0.9840949744396619, 0.997536128478776, 0.9955461504685987, 0.9876520298861124, 0.9859580743352993, 0.9821776258447993, 0.9975371811860707, 0.989744594355177, 0.9880876526171006, 0.980731096088819, 0.9925012116034501, 0.9953141190598731, 0.9819913027083258, 0.9849982667124214, 0.9903944370770382, 0.997630118095363, 0.990508813188392, 0.9969688283883845, 0.9908134364195623, 0.9856109759495041, 0.9972488539897064, 0.9951333226254443, 0.9927092151444213, 0.9822316448991921, 0.9978384113063252, 0.9969453138760174, 0.9856179233461884, 0.9832528566273503, 0.9889738330256073, 0.9901394712667503, 0.9970481623928362, 0.9931817791683349, 0.9900148446683358, 0.9930345092110725, 0.9958459788694526, 0.9880293476515621, 0.9942780896882761, 0.9918498960460211, 0.9837462821623197, 0.9969688283883845, 0.9968207753209786, 0.9898971063148354, 0.991392438105461, 0.9963235947777103, 0.9876974383177499, 0.9982289238551376, 0.9866398937677537, 0.9867208058355111, 0.9906143380265562, 0.991495459041443, 0.9971127436562404, 0.9814529807611858, 0.9837038604170598, 0.9870793596369302, 0.998496541309085, 0.9841940460400919, 0.9844600777503643, 0.9931101901495276, 0.99742311407818, 0.9856218110201828, 0.9964690528980361, 0.9970481623928362, 0.9936196991121182, 0.9971596419494813, 0.9961066005220819, 0.9847151976020941, 0.9848698722673489, 0.9901312345613691, 0.9966898540811496, 0.9860555254143777, 0.9829714703975104, 0.99054898989903, 0.9982812769748275, 0.9922099521082709, 0.998172036191296, 0.9970582165348777, 0.9930732067429378, 0.9842968895152565, 0.9815267505473303, 0.9901640457447832, 0.993267181347541, 0.9808918455066377, 0.9980847108916905, 0.9973826450986464, 0.9927880313248132, 0.9957850150182177, 0.9978938081814279, 0.9946972720581214, 0.9973831290199734, 0.994400222207611, 0.9809594768844536, 0.9947087627387614, 0.9843287414838279, 0.9971987211421514, 0.9971513710002006, 0.9862560188016503, 0.9927461580922595, 0.9985937741660376, 0.9835367129608265, 0.9870742679091647, 0.997536128478776, 0.9842968895152565, 0.9905139184748626, 0.9872943280036527, 0.9978690710658981, 0.9969688283883845, 0.9925069363024474, 0.9805210900615967, 0.9966898540811496, 0.9983589963136604, 0.9976670211571753, 0.9903098557192501, 0.9987414115680893, 0.9949580235280006, 0.9969688283883845, 0.9859492950161426, 0.9836063081595969, 0.9973253291176072, 0.9964954001041261, 0.9975163807282691, 0.9892210098143173, 0.990305854771595, 0.9919378799927425, 0.9943932859137826, 0.9952073270065228, 0.9825456980720467, 0.9966886920554523, 0.9986088297626238, 0.9965094745480346, 0.981993410422156, 0.9874305793327293, 0.9976719542211598, 0.9876185023626681, 0.9985212564926454, 0.9832210451687162, 0.9856218110201828, 0.9979429995896465, 0.9857140042506924, 0.9975088130398173, 0.9931817791683349, 0.9828007611130167, 0.9864679781578913, 0.9934198222659805, 0.9989039038787666, 0.9946487889894062, 0.99200568280492, 0.9979927619410575, 0.9875138367959954, 0.9989528596328278, 0.9825476710809558, 0.9905762965006787, 0.9985212564926454, 0.9815423594441054, 0.9929005070097253, 0.9818523913237064, 0.9901916722760897, 0.9982747931712761, 0.9931780642621545, 0.9946457338934213, 0.9958697604886759, 0.9960231215969592, 0.9963551319030692, 0.9982659428255406, 0.995383076373566, 0.9930144179992753, 0.9847136797098555, 0.9863300732929527, 0.9842968895152565, 0.995322879701365, 0.9961846439704846, 0.9949151215659864, 0.9805235176957036, 0.998172036191296, 0.9978708245504192, 0.998769057409906, 0.994406125227657, 0.9978384113063252, 0.9820475511121156, 0.985347417686788, 0.9942899996560174, 0.993072100697387, 0.9954343899543552, 0.9805263321559596, 0.9852086711105889, 0.9900008406826555, 0.997536128478776, 0.9839621018447734, 0.9807758675432537, 0.9894016853935115, 0.9801412481409878, 0.9912410369465144, 0.9954534293671286, 0.9982871492225068, 0.9980368618538485, 0.9979679338558122, 0.9959552070219593, 0.9930830619609338, 0.9900946712153545, 0.9982871861507105, 0.9912841430941692, 0.9896632076571938, 0.9931817791683349, 0.9937866571180777, 0.9983146772777133, 0.9874529225749624, 0.9925189897037066, 0.9976869329243472, 0.9985212564926454, 0.9977545145976203, 0.9912419867743335, 0.9803310962048207, 0.9963551319030692, 0.9852024955954973, 0.9821195487459462, 0.9823696906135477, 0.9934964651319507, 0.9883296069263414, 0.9965878730195065, 0.9963551319030692, 0.9964176840708219, 0.9901503348896487, 0.9805235176957036, 0.994858197149589, 0.9964639436318917, 0.9995515606312525, 0.9881923168661985, 0.9889259212955828, 0.9899015357957979, 0.9982197436986999, 0.9945906684004968, 0.9982144049123132, 0.9981831323509094, 0.9959957811145835, 0.9963827062498845, 0.9950372640067233, 0.9928388066837689, 0.9946138713785224, 0.9984386529944201, 0.9984540512778604, 0.9855508624306667, 0.9839596776600652, 0.9812602880571615, 0.9969688283883845, 0.9842968895152565, 0.9975088130398173, 0.9955450234926614, 0.9893042274020074, 0.995832983769035, 0.9894154561826901, 0.992310276069366, 0.9943988030564658, 0.9970481623928362, 0.9927919177332332, 0.9878382973227867, 0.9962660902556655, 0.9804817574332134, 0.9965851704243948, 0.9932214564626252, 0.9878142769688156, 0.9830622612677887, 0.9969279389234749, 0.9943527771113994, 0.993856686572059, 0.9943794086507212, 0.9821405590167299, 0.985661472818742, 0.9882491656093919, 0.9951557568707543, 0.9973934135233976, 0.9980117068564711, 0.9805412405834878, 0.9932958303197291, 0.9800818902942259, 0.9960786981256365, 0.9966880699846453, 0.9857034637723207, 0.9899015357957979, 0.9907828218008629, 0.9841765172436944, 0.9952875357094885, 0.9930217841733276, 0.9934734692332541, 0.9988448478223377, 0.9809192558555685, 0.9900647184939358, 0.9890342776056081, 0.9849835268049082, 0.987312263115223, 0.9828736779124088, 0.9961366365968007, 0.9953160959661573, 0.989354475480177, 0.9857193147869818, 0.9924513739535074, 0.9978384113063252, 0.9909647772892999, 0.9837057025941034, 0.9894716452314521, 0.9874401661140844, 0.9829433827854338, 0.9935987823206125, 0.9831166417760947, 0.9879593972271804, 0.9969688283883845, 0.9903010665980717, 0.9858484594792534, 0.9986421219618846, 0.9965911118918872, 0.9964318080473366, 0.990631668453496, 0.9858243213005591, 0.9846881941580201, 0.9870030620193821, 0.9872106915624136, 0.9915426483281868, 0.997516883385038, 0.9972068594530568, 0.985920744609181, 0.9834143402805707, 0.9897304570950185, 0.9974650497104375, 0.9923837627566686, 0.9802587427521835, 0.9863731644491643, 0.9979429995896465, 0.998172036191296, 0.9907695172214972, 0.9842125827598545, 0.9915354288285386, 0.9923089313350275, 0.9964786876442168, 0.9854864632970688, 0.993612462775998, 0.9966525024907817, 0.9917538674950591, 0.9973759390717992, 0.9863798426164874, 0.9849588339335876, 0.985218369385152, 0.984999027319473, 0.9969202650134814, 0.995524804711722, 0.9955095258886183, 0.9852687028847329, 0.9819305406062236, 0.9942112604385253, 0.9821256473743876, 0.9977403098570864, 0.9847889369823105, 0.9882747194753129, 0.9931817791683349, 0.9905240302820592, 0.994268970580648, 0.9946883933028481, 0.988890715012774, 0.9829616106021949, 0.9985707508024634, 0.995543806395877, 0.9906860112234642, 0.9954269543203804, 0.9982812769748275, 0.9922822179421633, 0.9847524368984216, 0.9832367858376907, 0.9923085586389054, 0.9923314730216646, 0.9933857263306076, 0.9847524368984216, 0.9813746483498431, 0.9846509533204418, 0.9937653777895288, 0.989955900058319, 0.9817335970456025, 0.9932402484548148, 0.9926848156985092, 0.9926848156985092, 0.9874489401083, 0.994611267153368, 0.9898253141559579, 0.9935558737267742, 0.997716761116265, 0.9972699109587022, 0.9873881834680397, 0.9971412993757485, 0.9861658576217228, 0.9896554626595403, 0.9846869127223438, 0.9975163807282691, 0.9948980232417783, 0.9919081902416347, 0.9986928880866998, 0.9985212564926454, 0.9926791378453951, 0.9811743265226688, 0.9845069267285278, 0.9845681018937005, 0.9970371986259488, 0.9923357304231823, 0.998036034915572, 0.998172036191296, 0.9975088130398173, 0.9961607926467894, 0.9880981845765642, 0.9910136890400874, 0.9884077641524114, 0.9897599329241651, 0.9834783257522335, 0.994243109981266, 0.9882469573352929, 0.9957442297993041, 0.9836049980868704, 0.9909487668086414, 0.986811447471613, 0.9941397188607171, 0.9943375261843161, 0.998502051809073, 0.9815267505473303, 0.9865177719108372, 0.9866894979752813, 0.9963551319030692, 0.980595924472764, 0.9842968895152565, 0.9960849848056268, 0.9967906534724222, 0.9842968895152565, 0.9963551319030692, 0.9844675038525864, 0.9968592634283504, 0.9837392121178008, 0.988024614017141, 0.9803643165296406, 0.9977517302354014, 0.998172036191296, 0.9971811424392277, 0.9931817791683349, 0.9826637065620136, 0.9967756585627873, 0.9985212564926454, 0.9858470448555118, 0.9863462302431144, 0.996192487975618, 0.9847699839279879, 0.996722871380149, 0.9827872075702706, 0.9945842249576728, 0.9946703251850793, 0.9969907492108634, 0.9956986244367824, 0.9956460214280731, 0.9941935806499557, 0.9857604955326442, 0.9956995307394246, 0.9927860564001635, 0.9943729470694695, 0.998680126130485, 0.9866528275289651, 0.9956109593650564, 0.9926276696159932, 0.988117167896987, 0.9875333869027362, 0.9941393890008666, 0.997536128478776, 0.9933951578691302, 0.9943190601545056, 0.9969782056154834, 0.9904374029115854, 0.9886545854734193, 0.9886134343411314, 0.9983153940186873, 0.983322178736184, 0.9986075427027649, 0.9873840315189056, 0.9806072184977526, 0.9982812769748275, 0.9932563959993645, 0.9871937831318466, 0.9978936857950429, 0.9973627850296052, 0.999093180753564, 0.9926703114370732, 0.9886133758704753, 0.9893269355858489, 0.9927177095595584, 0.9964394803976506, 0.9934686374500529, 0.9901050182254623, 0.9832881119257282, 0.9940585691768775, 0.9925069363024474, 0.9959447909881542, 0.9824063619910404, 0.9973253291176072, 0.9932236498360887, 0.9951921576554789, 0.9815597552639008, 0.9874406520025875, 0.9904184079325403, 0.9900437253152856, 0.9938547398368613, 0.9964895841673553, 0.9831797716182663, 0.9985953600530947, 0.9917345771645928, 0.9988428500775893, 0.9966456389929397, 0.9917504581077334, 0.9819913027083258, 0.9849982667124214, 0.9978384113063252, 0.988358741462848, 0.9923820627338029, 0.9967256106550436, 0.9890756923128489, 0.9956039720690488, 0.9897771473683885, 0.9803877466755294, 0.9851115492680828, 0.9969688283883845, 0.9815267505473303, 0.9963551319030692, 0.9961119897538475, 0.9896934165340378, 0.9903433634119012, 0.997536128478776, 0.9873609285921496, 0.9823873128579944, 0.9922226519951419, 0.9905751796010507, 0.99742311407818, 0.9855625939002187, 0.9968770144827851, 0.9879766764649777, 0.9982289238551376, 0.992103351642059, 0.9958495752748955, 0.9906622471665195, 0.9873777837566317, 0.998172036191296, 0.989494964807359, 0.997536128478776, 0.9959321743967573, 0.9837436636528366, 0.9933541215630565, 0.992014943755154, 0.9979429995896465, 0.9872971281995297, 0.9800464403880546, 0.9913810021638881, 0.9840585746411181, 0.9861346199405505, 0.9947705233390709, 0.9971599773479175, 0.9916317727331287, 0.9965702753193667, 0.9882967669489995, 0.9982812769748275, 0.9829746049828131, 0.9927570168004356, 0.9969688283883845, 0.993073189108267, 0.9943907735456681, 0.9938022151070635, 0.9891936437498556, 0.9808695182118818, 0.9969688283883845, 0.9949559965800605, 0.9893730522220743, 0.9868219305061394, 0.9834887184471552, 0.9958458935743855, 0.9959314945410346, 0.996096195628904, 0.9940541295903668, 0.9950739886357065, 0.9952231343932652, 0.9893893568261539, 0.9881868679688596, 0.9959905379374753, 0.9943848256607983, 0.9921537426120286, 0.9903133313278584, 0.9873519004495316, 0.9984677115965928, 0.9919986704024333, 0.9943613114315845, 0.9974158996985337, 0.9975636931398806, 0.996097057559271, 0.9834769576154497, 0.9959224071018307, 0.9844467343791092, 0.9932584498802078, 0.9982289238551376, 0.9872971281995297, 0.9974925892731452, 0.9954341278230163, 0.9979429995896465, 0.9969688283883845, 0.9942194635867411, 0.9817140290328734, 0.9982812769748275, 0.9834318838476197, 0.9982812769748275, 0.9969688283883845, 0.9964176840708219, 0.9969688283883845, 0.9842968895152565, 0.9836536474524187, 0.9957707287337848, 0.9957987502784915, 0.9808786030050829, 0.9932013616112225, 0.9907182679190863, 0.9820940183936865, 0.9849982667124214, 0.9868258705464615, 0.9967256106550436, 0.9985212564926454, 0.9918325197454785, 0.9862717925335545, 0.998713717864941, 0.9982812769748275, 0.9862221833344655, 0.995935352302259, 0.9858298253820864, 0.9954704769486012, 0.9971536080118261, 0.9902520964489847, 0.9806490448298162, 0.9808119379275436, 0.9969688283883845, 0.9901529188081243, 0.9894470654533418, 0.990164545608993, 0.9962346280960828, 0.9868040132624073, 0.9895614499545756, 0.995856676734927, 0.9950958061330266, 0.9800154651898247, 0.9907737894267356, 0.9935190221959498, 0.9814975684466426, 0.9820352749993385, 0.9982812769748275, 0.99315748319343, 0.9870658176196545, 0.9922320491154913, 0.9891691453126974, 0.9869225785879975, 0.9841019854842951, 0.986740607225984, 0.9826829478161265, 0.9982812769748275, 0.9832773184206729, 0.9931351010013036, 0.9848836841747896, 0.982957737101283, 0.9913641578112511, 0.9812408902252573, 0.9915002746322715, 0.9976719542211598, 0.99236558566542, 0.9976719542211598, 0.9901996936446312, 0.9920864626703566, 0.9847842821681307, 0.9914406357411155, 0.9819629836938618, 0.9913537278430976, 0.9938628043241494, 0.9833937994062876, 0.9805235176957036, 0.9943813202406281, 0.9981605323080509, 0.9982365049259058, 0.9972192899347818, 0.9987404617994816, 0.9841648148418093, 0.9824296329965473, 0.9921150195904601, 0.9949746712202214, 0.9804160039072257, 0.9922511975983244, 0.992622062071473, 0.9830073070325103, 0.9966432527225746, 0.9869763280859897, 0.9978384113063252, 0.9863626129653561, 0.9941559200065063, 0.9924348632411085, 0.9824043383878475, 0.9909523680804591, 0.9842081617982826, 0.9978868645364154, 0.9842968895152565, 0.9965247904535275, 0.9983457580399254, 0.9895931040168277, 0.9836892287007843, 0.9869582609752843, 0.9958751417808951, 0.9967914730636613, 0.9800365668240115, 0.9869464477074688, 0.9973352803624882, 0.9858149519010514, 0.9852363094708454, 0.995204650108442, 0.9982376621704209, 0.9852310720879092, 0.9907069810648224, 0.9886844800235944, 0.9883945331032462, 0.9978331528441541, 0.9916965377072364, 0.9842968895152565, 0.9963162211986326, 0.9898925406492133, 0.9879359233373275, 0.9966794465238688, 0.9943315429427396, 0.9955313308567403, 0.9895276435085709, 0.9921501476730336, 0.9956354432610324, 0.9867239116199173, 0.9831713614062841, 0.996173566559831, 0.9843516729839926, 0.9991690805737363, 0.9869447315797937, 0.9898247796829323, 0.9846272130189851, 0.9969688283883845, 0.9860214144723667, 0.9857604955326442, 0.9916089248723804, 0.9915134594807615, 0.9983388944652124, 0.9810870737548919, 0.9820419877709128, 0.998072722207887, 0.9991914632719827, 0.9983023718249926, 0.9861657833644507, 0.9876867875893365, 0.9813935578825572, 0.990308101839597, 0.9913222777057472, 0.9971473482519233, 0.9906181467495376, 0.9856095375781204, 0.9925409578972464, 0.9956433692059683, 0.9954832336737518, 0.9905096027396871, 0.9816541384516894, 0.9891140956778566, 0.9803071027955284, 0.9931817791683349, 0.9962419037097842, 0.9926158144333304, 0.9942888687113619, 0.980815136890663, 0.9835323745699275, 0.9904838652510696, 0.9964359642416387, 0.9976500654968969, 0.9835315673965608, 0.9924709770856528, 0.9816329995229074, 0.9926563971521728, 0.9935829422391644, 0.995155951021249, 0.9893603640935247, 0.9835742467752453, 0.9850092970311418, 0.9939491604289713, 0.9896873934029428, 0.9943410570713088, 0.9966065416325606, 0.9972691945421585, 0.9872028407644482, 0.9872643840158811, 0.9930441580746132, 0.9820570656866056, 0.9855004062894019, 0.9829272970819471, 0.9979709012725123, 0.9985212564926454, 0.9963551319030692, 0.9912118968901703, 0.9987882884778924, 0.9974328650401286, 0.9965911118918872, 0.9980513369217994, 0.993150150041916, 0.997516883385038, 0.9887426143520139, 0.9963178897236854, 0.9815267505473303, 0.9815713551840815, 0.9895683309384011, 0.9873155422023416, 0.9894561473531304, 0.9982812769748275, 0.9932361411978503, 0.9851554612803315, 0.9911956397644336, 0.9963454561458333, 0.9821894649461718, 0.9987534259408648, 0.9805210900615967, 0.991104699240779, 0.996861316027373, 0.9971019160906869, 0.9862559365532481, 0.9968299189842967, 0.9926190329588688, 0.9979950439267722, 0.9969688283883845, 0.9842968895152565, 0.9890956994490194, 0.9890747437002917, 0.9956977840687739, 0.9909721744442805, 0.9901178246220558, 0.9845936808220903, 0.9937752389959335, 0.997121608898653, 0.9942900994878787, 0.9985900027430428, 0.9863295642941775, 0.995926027914309, 0.9951926436365447, 0.9910010111920797, 0.998029146701098, 0.9881780891436356, 0.996442961477286, 0.9934708924320403, 0.9855114319274951, 0.9978631761675624, 0.9943813202406281, 0.9987850122151206, 0.994561283952916, 0.9808300040893677, 0.9866552020523243, 0.9932958303197291, 0.9969974234268163, 0.996770193971929, 0.991124804644968, 0.998713717864941, 0.9957590143080187, 0.9804633337765702, 0.9901208329916609, 0.9966069822836991, 0.9951500346377719, 0.9962436295958267, 0.9979429995896465, 0.9955654960347621, 0.9982289238551376, 0.9879005634220495, 0.9880753934728262, 0.9830667552028702, 0.9965299626948833, 0.9871958116041074, 0.9974179621494701, 0.9976182833179316, 0.9934371765904055, 0.9802609816611851, 0.981877016213342, 0.9982812769748275, 0.9924513739535074, 0.9974375153262691, 0.9966840509030542, 0.9914510321964688, 0.9969454442321121, 0.9911871330600697, 0.997958185581956, 0.9814268975997963, 0.9979429995896465, 0.9923475571375312, 0.9872598253013678, 0.9961661238240288, 0.9870940726224834, 0.9827100984210593, 0.9910411840021387, 0.997516883385038, 0.9970481623928362, 0.998172036191296, 0.9946799841118067, 0.9939189919147717, 0.9889668223803378, 0.9951958356593259, 0.9972013505333859, 0.9931096323548081, 0.9949761867339686, 0.9954211910899696, 0.9956163158071895, 0.9842102144339169, 0.9818195581110855, 0.9875322318234574, 0.9936372039927412, 0.9904983171107603, 0.9976186620515549, 0.9947973645641656, 0.9930063379120334, 0.9899717669284301, 0.9890155268133609, 0.9912932272476997, 0.9913307641842382, 0.9936324844856187, 0.9902971987938215, 0.9852127128236429, 0.9875577320741931, 0.9951172008585357, 0.9906017765361693, 0.995806453873739, 0.9955519620139661, 0.9966105854474332, 0.9976112164391828, 0.991305695898558, 0.9988743883429745, 0.9919666249726701, 0.987821198001587, 0.9821824437559121, 0.9865682892622998, 0.9921052723352177, 0.9968299189842967, 0.9919180379788055, 0.9970410283628263, 0.9964205943147522, 0.9912008183870195, 0.9824733585884045, 0.9904384944590917, 0.9963551319030692, 0.9987404617994816, 0.9825303599063933, 0.9951800715263583, 0.9935724264423459, 0.987971682030686, 0.9868342544423315, 0.9820483330222112, 0.9913959729374479, 0.9819813337524693, 0.9970481623928362, 0.9836141514526309, 0.9819913027083258, 0.9857335209531591, 0.9970970627100113, 0.9952000529482408, 0.998172036191296, 0.9859447075523323, 0.9860776705715746, 0.9869309864287673, 0.9905767834736946, 0.9931577169403347, 0.9835915852082588, 0.9819913027083258, 0.9815267505473303, 0.9880200976416021, 0.9966202284205936, 0.991614141845875, 0.9865290089665876, 0.9889509645679696, 0.9921847848940105, 0.9945721000402921, 0.9910888628130012, 0.995013919614604, 0.995445716639689, 0.9864178061347874, 0.9967170443816356, 0.9838220276312742, 0.997506243776883, 0.9947705233390709, 0.9979429995896465, 0.9942688833744455, 0.9871348978392457, 0.9847284005101501, 0.9965878730195065, 0.9906088659652452, 0.9982626319007636, 0.9874220133122563, 0.989216650131752, 0.9970481623928362, 0.9840994153409443, 0.9877007367492004, 0.9971448270608662, 0.9921462247507832, 0.9832231061361303, 0.994406125227657, 0.9846874829469655, 0.9894151823728057, 0.9923976859983112, 0.9955654960347621, 0.98158599713089, 0.9981113129066778, 0.9907470540563964, 0.9883249552920307, 0.9879368342018339, 0.9940365742216228, 0.9829417153637505, 0.9916592079169725, 0.996028943670198, 0.9914709896458533, 0.9967875412003878, 0.98196483428041, 0.9830278164784483, 0.9850579612049994, 0.9899940226614036, 0.9859128375189427, 0.9914120475946662, 0.9812291857144376, 0.9918851581253366, 0.9872517966096289, 0.988585494705872, 0.9876097363555284, 0.9956037066090936, 0.9960978539689184, 0.9902818593924412, 0.9898309144007498, 0.9965230041359295, 0.9979429995896465, 0.9870877095518269, 0.9886952188504758, 0.9982812769748275, 0.9970481623928362, 0.9918953824150931, 0.9964255717144395, 0.9842968895152565, 0.98983803532262, 0.9943892907778905, 0.9853102591559045, 0.9943731924793499, 0.9886663213225988, 0.9903564253070455, 0.9838568154196602, 0.9959931710602863, 0.9868902552692689, 0.9975088130398173, 0.9979808822831232, 0.9820918224603826, 0.9821803727072816, 0.9834314273831649, 0.9963293121064812, 0.9923694848296811, 0.9916749245184191, 0.990164897590972, 0.9811313439448613, 0.9946922954085288, 0.9842968895152565, 0.9969688283883845, 0.9907757179635741, 0.9947148164932674, 0.9878633834454583, 0.9970481623928362, 0.9961927895998323, 0.9969688283883845, 0.9843421084693894, 0.9958860909431557, 0.9959282502522045, 0.9938772985343357, 0.9956942908452878, 0.9908291802289415, 0.9907392556071964, 0.9938328261680058, 0.9926797564737336, 0.9965060049482701, 0.9874807267031597, 0.9941043264459436, 0.9946428585068705, 0.9906274898737648, 0.9924513739535074, 0.9944415072489241, 0.9982812769748275, 0.9946231438930806, 0.9873084954576669, 0.9914510321964688, 0.9944300233557367, 0.9969688283883845, 0.9969688283883845, 0.9978778280359455, 0.9960551952573757, 0.9920832680442668, 0.9948626697547567, 0.9888731016852284, 0.999186985460542, 0.9864580690410616, 0.982862989159428, 0.9969688283883845, 0.9871988263959821, 0.9880992128268762, 0.9959077208367579, 0.9963551319030692, 0.9819913027083258, 0.992684076073713, 0.9865657444989971, 0.992002036135037, 0.9866014115898027, 0.9961963660826755, 0.9933004498184165, 0.9941156317877214, 0.9800522047703123, 0.9950416227907383, 0.9853581834443456, 0.9922068490030671, 0.9909037326673443, 0.9930843590052493, 0.982963548157482, 0.99742311407818, 0.9840710640018318, 0.989750707713883, 0.9855438680829656, 0.9855438680829656, 0.9897426243372819, 0.9969688283883845, 0.9996789484397985, 0.997512766761649, 0.9842968895152565, 0.997536128478776, 0.9968969202211089, 0.9907695172214972, 0.99546435782159, 0.988020803560272, 0.9975088130398173, 0.9941417395161637, 0.9830905201431412, 0.9918457350532498, 0.983115604242885, 0.9836190894289059, 0.9829973999603695, 0.9811944384247464, 0.9916265005777537, 0.9970166035793053, 0.9851965693189352, 0.9831471540100165, 0.9971599773479175, 0.9914281183111712, 0.9878088977934449, 0.9871476567965344, 0.9818125592361395, 0.9871969018928839, 0.9903971812149827, 0.9896079719437995, 0.9946431752557221, 0.997516883385038, 0.981362058453869, 0.9865279552849898, 0.995218966349448, 0.9942549048590663, 0.9879202697162626, 0.9901111385254188, 0.996884762181851, 0.9819925729005373, 0.98513309857583, 0.9874929949521222, 0.9933137500690954, 0.9820979187136686, 0.9858271654658017, 0.9981403543348712, 0.9842968895152565, 0.9806686131477264, 0.9929680651133258, 0.9965675186639941, 0.9981689375921545, 0.9884496439626931, 0.9842968895152565, 0.9939103169831731, 0.9924513739535074, 0.9952079650455117, 0.9930259475900449, 0.9819226973284422, 0.9837793285507558, 0.9891030945298706, 0.9966777338848616, 0.9982365049259058, 0.9983733776534213, 0.9995526498953597, 0.9899182321774339, 0.9906492624752057, 0.9860986609873614, 0.9877800520757921, 0.998172036191296, 0.984541499740004, 0.9989528596328278, 0.9864571937766311, 0.9895725110543897, 0.9878716444357449, 0.9990881471257413, 0.9925763500166171, 0.9962143289724528, 0.9931037229552966, 0.9963551319030692, 0.9899000604752721, 0.9946999083313386, 0.988902453843657, 0.9932020453464044, 0.986429699527762, 0.9985212564926454, 0.9872530636765563, 0.9878413510150996, 0.9969688283883845, 0.9842968895152565, 0.9876008057176117, 0.998172036191296, 0.9912453435781675, 0.9938276442641625, 0.9888686285705262, 0.9864905400130464, 0.9982812769748275, 0.9984818832045321, 0.9949746712202214, 0.9992123591143703, 0.9933137500690954, 0.9928984472951942, 0.9964578909789825, 0.9970053223346087, 0.9957872362495366, 0.9947074822620909, 0.9837176090016208, 0.9941891588611531, 0.9937742849877743, 0.986843616915949, 0.9983478901089073, 0.9886437769672541, 0.9971127436562404, 0.9953162646970671, 0.9892807464348814, 0.9910399912564875, 0.9963211351909484, 0.9815267505473303, 0.981756235155225, 0.9957867633467984, 0.9873112244922344, 0.9923026172640108, 0.9931817791683349, 0.9923154903510175, 0.9983040326905691, 0.997536128478776, 0.9842968895152565, 0.9829499402775149, 0.9893455153348889, 0.9808848837722045, 0.9896244768038441, 0.9954583552608373, 0.9950253317336103, 0.9951227581475139, 0.9913702659821321, 0.9968533277584033, 0.9969688283883845, 0.9939913422895837, 0.9806660893022721, 0.9969688283883845, 0.9828615642723462, 0.9816925989452343, 0.9810016120087772, 0.9958618891063437, 0.9956467373225328, 0.9939760212020209, 0.9829855791999832, 0.9950307029530695, 0.9907695172214972, 0.9871800374788331, 0.9921183583710106, 0.9850770313897095, 0.9979429995896465, 0.989118703325358, 0.9929777881852723, 0.9895749966978103, 0.9832579342557226, 0.9915492656226977, 0.9842968895152565, 0.9969073098645843, 0.9963007732345859, 0.9990149025810242, 0.9819774171624348, 0.9832996650332593, 0.9962854502328087, 0.9969688283883845, 0.9907695172214972, 0.9897137647595229, 0.9966898540811496, 0.9869845876894053, 0.9944338432413801, 0.9924513739535074, 0.9865186671243332, 0.9955471969930257, 0.9942363620495235, 0.9952535727816133, 0.9920623010906555, 0.9886290788937022, 0.9960949218953035, 0.9963893036074941, 0.989894910031214, 0.9910870818103108, 0.9982064165361939, 0.9986007709862305, 0.9859118518021586, 0.9931882473200512, 0.9856219649152405, 0.9823013355957164, 0.9958026435573534, 0.9959845565864727, 0.9982812769748275, 0.998713717864941, 0.9813739348895609, 0.9850215602292094, 0.9912686600748805, 0.9837387185431476, 0.9816786474606424, 0.9973297814595649, 0.9936810209185254, 0.9949823074793547, 0.9803241487060709, 0.9963395114264045, 0.9833618064323634, 0.9982289238551376, 0.9894487033918498, 0.9974509589453836, 0.9952952557726065, 0.9941808421040517, 0.987376941397921, 0.9825769294417815, 0.9888557463979628, 0.9823191595351182, 0.9961484925673479, 0.9872805917711482, 0.9873442428354496, 0.9976719542211598, 0.9932006303113285, 0.9842968895152565, 0.9969688283883845, 0.9958414929610635, 0.9914433982252392, 0.9822599186258858, 0.9866723522858498, 0.9862608484912496, 0.9968411141586577, 0.9914778265726848, 0.9909516608878979, 0.9938396245253831, 0.9950302855016441, 0.9933713207705969, 0.9951003705443053, 0.9976719542211598, 0.9915082636126127, 0.9981665096317636, 0.9944664313830563, 0.9876761335743137, 0.9995853028412937, 0.9987762909818181, 0.9903018888432924, 0.995921186474332, 0.991868661962239, 0.9982812769748275, 0.9927330988841616, 0.9982289238551376, 0.9940650568354278, 0.9925958483630251, 0.987538926079573, 0.9934742503569407, 0.9862127000236585, 0.9950955860650063, 0.986445031498701, 0.9971127436562404, 0.9828230822034986, 0.9834457662978162, 0.9857338835896258, 0.9920330250247329, 0.9947705233390709, 0.9919177196034372, 0.9841116210983482, 0.9958408970512723, 0.9978384113063252, 0.9847775789481578, 0.9829934921005505, 0.9817438793140543, 0.9970481623928362, 0.9926302903160609, 0.99742311407818, 0.9964749477228877, 0.9905489458974412, 0.9895824473894758, 0.9839310068991032, 0.986303892205637, 0.9943347919888776, 0.9965078405308231, 0.997550721119431, 0.9971127436562404, 0.9963551319030692, 0.9969688283883845, 0.981645619160644, 0.9816925989452343, 0.9888625652593358, 0.9971181862293479, 0.9968942435696502, 0.9932096026432814, 0.9949143388413557, 0.9912825675565051, 0.9976193483960596, 0.9827142854065934, 0.9875100882597183, 0.9816964708109577, 0.9950618110073701, 0.9953216595268589, 0.9939496585292702, 0.9873289292899058, 0.9882365880325705, 0.989834773308702, 0.9905634519754444, 0.9942407115872234, 0.9973034619144977, 0.9912257713024539, 0.9993822074028466, 0.9835466994859146, 0.9971295274623351, 0.9913954557349914, 0.9921926361962167, 0.9972660414292189, 0.9944242501795616, 0.9921353414038555, 0.9972636140067338, 0.9956362367198679, 0.9952983852239029, 0.988353366315406, 0.9951883017737958, 0.9932103804083728, 0.9977300896949793, 0.9964375549731433, 0.989114145160492, 0.9969688283883845, 0.9988045017841284, 0.9842968895152565, 0.9936867139508878, 0.9910490621540767, 0.9924772913835993, 0.9818063330899178, 0.9866779211493668, 0.985355076062843, 0.9949682323747078, 0.9935716911029502, 0.9978384113063252, 0.9947705233390709, 0.9894193955242658, 0.9847964802589753, 0.9843796677752171, 0.9855448901993056, 0.9963352371690155, 0.9819784315343196, 0.9917487485108818, 0.9954957461782469, 0.9925069363024474, 0.9947622431930917, 0.9960537834465264, 0.9847233441033716, 0.9904446039704815, 0.9897265327813926, 0.9854732484917803, 0.9908079653376722, 0.9873616127739392, 0.9983837394107659, 0.9930098304172188, 0.9937239042129946, 0.9970481623928362, 0.9928908902817691, 0.9903075847228704, 0.9974279760224158, 0.9938930368857348, 0.9924753056959735, 0.9813602046891972, 0.9844235533564313, 0.9911658623868511, 0.9888666749698958, 0.9976719542211598, 0.998095335279377, 0.9947693420947348, 0.9895770507963937, 0.9979429995896465, 0.9919706191454072, 0.9895234613020276, 0.9975088130398173, 0.9933388875752841, 0.9910311442121068, 0.9978930710807592, 0.9932094432600085, 0.9846935989805458, 0.9971223059572626, 0.9968359038461364, 0.9944106789557949, 0.995253785051365, 0.9963721073519199, 0.9896320948926528, 0.9894768681111463, 0.9952808070008714, 0.9986761470605628, 0.9979398466310819, 0.9957800397004897, 0.9842968895152565, 0.9963551319030692, 0.9907677541960549, 0.987992470905338, 0.987850401174895, 0.9971166702660712, 0.9957153892736154, 0.9961041180479319, 0.9925069363024474, 0.9987882884778924, 0.9909139267511996, 0.9820419877709128, 0.9904820049251208, 0.9944721859099124, 0.9850618679680764, 0.9847825362608614, 0.9987429525743482, 0.9988045017841284, 0.9832230740487325, 0.9841323841406378, 0.9945186372435905, 0.9819427026324214, 0.9963551319030692, 0.9811506192419724, 0.9928160424454588, 0.9875842939491855, 0.9953711887142468, 0.9893593438398404, 0.9914709896458533, 0.9903904836427202, 0.9982812769748275, 0.9834769576154497, 0.9915560886905118, 0.9897193440406448, 0.9896956982035634, 0.9964249800469738, 0.9826504505738409, 0.9982812769748275, 0.9873666688242807, 0.9945843587445187, 0.9971776650243471, 0.9960203639628127, 0.9961831511898849, 0.9962094223046262, 0.9990629884788929, 0.982729261699165, 0.9956036908399979, 0.9850934070191332, 0.989951002919195, 0.9980187910129655, 0.9916519625112024, 0.9986036890928041, 0.9922881160918989, 0.990693891742579, 0.995759145272681, 0.9955654960347621, 0.9840128485840528, 0.985434182055895, 0.9919227685955136, 0.9822799430458244, 0.9912155697656275, 0.9814137008553636, 0.991620365178519, 0.9809779799276704, 0.9918295737233516, 0.9910870290407197, 0.9816939531029693, 0.9833026217897736, 0.9969146986959498, 0.9810330048185656, 0.9889605230429356, 0.9803464147817034, 0.9852075981522029, 0.9835931730887699, 0.9876348851678409, 0.9832376842211533, 0.9926481748129338, 0.9984454349455063, 0.9977874836471853, 0.9904281865273158, 0.987676643482852, 0.9957270143219266, 0.9972777957359638, 0.984947031999041, 0.9984002934982953, 0.9934469071306116, 0.9920851809163821, 0.9821340097052456, 0.9840656597786399, 0.9853278273538219, 0.9904649690254047, 0.988652594503365, 0.9972266511981371, 0.9834181879047064, 0.981146092381968, 0.9827485058449654, 0.9972490166712195, 0.9812702415533922, 0.9924298635957006, 0.9914709896458533, 0.9982812769748275, 0.9932316605684349, 0.9978384113063252, 0.9975163807282691, 0.9905018851638876, 0.9970481623928362, 0.9977585899626495, 0.9968299189842967, 0.9925069363024474, 0.9936178404095805, 0.988373984374906, 0.997376939720207, 0.9889765725258938, 0.9882491656093919, 0.9965522966271599, 0.9814670266451473, 0.9985212564926454, 0.9816578657095725, 0.9961057891068353, 0.9867947073925593, 0.9832178637767262, 0.9933137500690954, 0.9910339129389251, 0.9953918889108887, 0.9808722449461241, 0.9944929343063382, 0.9952160169685013, 0.9931072124837281, 0.9975088130398173, 0.9881616643687126, 0.9982731670580854, 0.9949396330930953, 0.9967199448494836, 0.9823596504372407, 0.9824473203389459, 0.9978075151069747, 0.9927699768532277, 0.9817747283241395, 0.988069614132744, 0.9877347447304509, 0.9869008912630871, 0.9836228782917161, 0.9982641161207603, 0.9891712516013258, 0.9953751843564177, 0.98657624654678, 0.9809154548881728, 0.9979579459382047, 0.9964929109990893, 0.9972406272073282, 0.9874921943906733, 0.9844049208910949, 0.996125645630163, 0.9953258500737557, 0.9902898721648773, 0.9845278409556077, 0.9888567116759708, 0.9837455874726964, 0.9806020697114394, 0.990878581580044, 0.9865243916128896, 0.9982812769748275, 0.9845169201976519, 0.9947910204837647, 0.9951055408466717, 0.9856255320670319, 0.9855438680829656, 0.994103205689807, 0.9931900701794477, 0.9977082828348242, 0.9842426873740475, 0.9903600803121683, 0.9901308704231553, 0.9858045508607488, 0.9842599830749437, 0.9982812769748275, 0.9971599773479175, 0.9931406951565172, 0.9853673222316726, 0.9978384113063252, 0.9957215584807029, 0.9883439136761607, 0.9842422230626999, 0.9825482621162581, 0.9813084636903852, 0.9918780764892998, 0.9820812678339096, 0.9881962410800371, 0.9827627708753197, 0.9809158790616828, 0.9940532208504517, 0.9969886546260006, 0.9943363857027565, 0.9813652211231457, 0.9956707955730433, 0.9969385348522091, 0.9920202866727487, 0.9959959630259552, 0.9969688283883845, 0.9980135335087016, 0.9960353247859552, 0.980635990025684, 0.9983152452286145, 0.9883219291225277, 0.9955007752477301, 0.995647638438709, 0.9908567974636346, 0.9907106145259331, 0.9944973573850198, 0.9974876910345107, 0.982161392877916, 0.9985212564926454, 0.9967742689993945, 0.9982812769748275, 0.9885254766692769, 0.9817526228550043, 0.9893588570816069, 0.9903048840498726, 0.9882828827832909, 0.9878765564702237, 0.9978249310571048, 0.9920776157077928, 0.9855184720047845, 0.9894352477338386, 0.9971464073631672, 0.9950795853117353, 0.9880444176723208, 0.9948362757832824, 0.996088189776924, 0.9955304835150531, 0.9974521614567139, 0.9886824889233753, 0.9869670812370187, 0.9852942692496623, 0.9931366217072471, 0.9846955945888519, 0.9911187610144377, 0.9812980116662727, 0.9947278488224904, 0.9813788819506722, 0.9971127436562404, 0.9920832680442668, 0.99658499250349, 0.9876185023626681, 0.982668473367465, 0.9848753472291856, 0.9929673556989624, 0.9861431230355465, 0.9991512037287977, 0.9836339064235988, 0.9916178423953323, 0.9825993779443355, 0.9971127436562404, 0.9955048339396841, 0.99756603800759, 0.9979113073115096, 0.9912862676865934, 0.9876226477161437, 0.9986520790609553, 0.9832779004632561, 0.9887795439563012, 0.9962740799049296, 0.9955456079192854, 0.9974667419065213, 0.980766456155332, 0.9861748087230691, 0.989634590904073, 0.9974835151264633, 0.9911501383558191, 0.9988674077812026, 0.9901381276740437, 0.9841502444867487, 0.9977587382054418, 0.9972192899347818, 0.9926357459066081, 0.9958688054544945, 0.9873356826316838, 0.9937584140774777, 0.995703735097814, 0.9918907451025131, 0.9920780374962428, 0.9943691164161506, 0.9944176540040354, 0.9908595288243176, 0.9926644909443748, 0.9933952944779586, 0.9954967723336378, 0.9833416923716607, 0.9881301903292646, 0.9877836784666378, 0.9846576330184561, 0.9969688283883845, 0.9802522150984341, 0.9800389905437936, 0.9963551319030692, 0.9822578494475238, 0.9835941710913824, 0.9906283236680848, 0.9815706326115744, 0.9898433258342166, 0.982048714064855, 0.9879898911875529, 0.9877621749984006, 0.9853638317874398, 0.9912972832263971, 0.9873070565329078, 0.9899503417406987, 0.99023856357415, 0.9926301670902875, 0.9889410481290081, 0.9916327111100667, 0.9957789127335948, 0.9973709672003208, 0.9831364748374167, 0.9978384113063252, 0.9857604955326442, 0.98785491849479, 0.9970260489827915, 0.9916591714124908, 0.9969454442321121, 0.9959680835403599, 0.9983708602775327, 0.9888224504344172, 0.9964430949578891, 0.9824486201760686, 0.982646907784331, 0.998057810497217, 0.9980117068564711, 0.9963880061719413, 0.9960038032416687, 0.9913035757960912, 0.9913626115159181, 0.9964892953098917, 0.9838648380296249, 0.9911512016133962, 0.9825896313617072, 0.9889188040378271, 0.9925069363024474, 0.9947705233390709, 0.9863935657843512, 0.9981491109954547, 0.9873201758505361, 0.9852024955954973, 0.9928214507889572, 0.9855470966627077, 0.9967959915167267, 0.9950097922390398, 0.995654803651981, 0.9925069363024474, 0.993428714518211, 0.9805235176957036, 0.9966509626725921, 0.9806557483435557, 0.986101063020921, 0.9849438015225769, 0.9842968895152565, 0.9942348855269402, 0.982494277706936, 0.9981048612416603, 0.9840552874336381, 0.9817599020610641, 0.9805097842016745, 0.9841967716206586, 0.9941564184068348, 0.99704167022873, 0.9942436892409421, 0.9807200463121628, 0.9950264841123898, 0.9982812769748275, 0.9965548610815411, 0.9984757647466844, 0.9958636629936926, 0.9965785766277236, 0.9959956794386898, 0.9867128088299594, 0.9965592250757569, 0.9824112271065405, 0.9976628068459397, 0.9839167879245214, 0.9877764088305883, 0.9960059163832797, 0.9886949214968046, 0.998172036191296, 0.9942188300246138, 0.9842968895152565, 0.9966886920554523, 0.9854670082693564, 0.9921010969260803, 0.9966621365389238, 0.9803341814765171, 0.9937026958842822, 0.9826383680599898, 0.9935857627730821, 0.9965862914458179, 0.9859118518021586, 0.9963942846999261, 0.9840981359683958, 0.9934446100404158, 0.9931520428209364, 0.9959182996175786, 0.9949731289782394, 0.9939991411415219, 0.9842968895152565, 0.9978338885560852, 0.9985212564926454, 0.9905770199287349, 0.9859648301961232, 0.9872440487189982, 0.9853606340166448, 0.9957650888996589, 0.982924093516761, 0.9924513739535074, 0.9970481623928362, 0.9985877066449859, 0.9926341404887437, 0.9954341278230163, 0.9884695518395167, 0.9842968895152565, 0.9872771269698463, 0.9942037365224489, 0.9819913027083258, 0.9965253408889089, 0.9838406976992697, 0.9802851699149449, 0.9921881496615523, 0.9945758255456493, 0.9831246561048098, 0.9947705233390709, 0.9810377708181848, 0.9828218314969006, 0.9946942878919977, 0.9980784430631733, 0.9832866987098735, 0.9802270901617182, 0.9886751852647996, 0.9803215315603617, 0.9899459571757767, 0.9933104440457123, 0.9965943899146305, 0.9827011889542182, 0.9973797583828271, 0.9912494123946614, 0.9967494179406562, 0.997536128478776, 0.9948775228096998, 0.980501368228982, 0.998298515395823, 0.9915605675200448, 0.9975946824023878, 0.99685968373899, 0.9914455419864339, 0.9996045546938568, 0.9955924470553773, 0.9869588011918566, 0.9967758626582427, 0.9943904774031198, 0.9965049385207349, 0.992068953528468, 0.9824589389366155, 0.9969110108038105, 0.9977856541172698, 0.9875166525365714, 0.9813181246993926, 0.9939744960221147, 0.9900067046030059, 0.9982812769748275, 0.9878606656832376, 0.9894297280658831, 0.997536128478776, 0.9982172567985871, 0.9978384113063252, 0.9994455628592521, 0.9976703435463924, 0.9819477482339474, 0.98321561512117, 0.9900250235248781, 0.9988462735553336, 0.9973826450986464, 0.9942348855269402, 0.9899878959810013, 0.9847238920615511, 0.9819913027083258, 0.9943618986401268, 0.9930576148727461, 0.994851773813806, 0.9961542736168274, 0.9885605560663385, 0.9808903409102745, 0.9848868403914287, 0.9967741010172666, 0.9820356912685908, 0.9866686760897325, 0.9930549948564964, 0.9824055767960667, 0.9953365653535423, 0.9888064869525329, 0.9922721961593763, 0.9824855014498269, 0.9934984589781193, 0.9974583704432652, 0.9902561064935587, 0.9987882884778924, 0.9970481623928362, 0.9937154554096364, 0.9932931666914412, 0.9925755446454165, 0.9954341278230163, 0.9845851405154988, 0.991027856323509, 0.9898039563009328, 0.9935120073642615, 0.9883816755482516, 0.9984376792929965, 0.9907695172214972, 0.9866992200983461, 0.9861137053624476, 0.9873951237003236, 0.9905589818908697, 0.9888249364712548, 0.9934837828622481, 0.9876003800563695, 0.9977916351847345, 0.9947722196381481, 0.9978703695194149, 0.9958222226000041, 0.9908061990427459, 0.9947113977636233, 0.9892771250988855, 0.9805281647934487, 0.9975744711285541, 0.9930545615242439, 0.9826467147823089, 0.9900242927638029, 0.9891631763023514, 0.9870081837217367, 0.9863928111014808, 0.9973162880878991, 0.9872971281995297, 0.9951378214730167, 0.9815501536859975, 0.9880472059388006, 0.9987679423159571, 0.9923829921508062, 0.9985212564926454, 0.9848134953594853, 0.9963551319030692, 0.9823266398160131, 0.9943450927404988, 0.9812317323109936, 0.9985212564926454, 0.9985054126366433, 0.9925069363024474, 0.9869356767911766, 0.9880701174409737, 0.9906086352515581, 0.9985212564926454, 0.9989433275581163, 0.9924513739535074, 0.9823448620694567, 0.9969688283883845, 0.9962601501395134, 0.9912916751269176, 0.9959474038987054, 0.995098576437282, 0.9867112233713097, 0.9907378364712298, 0.9821872974176458, 0.9902995888183994, 0.9985212564926454, 0.9969806590439839, 0.9948318532834532, 0.9978298611106995, 0.9860935152229293, 0.9842968895152565, 0.9804021182425566, 0.997414223077854, 0.9893813099859394, 0.9982812769748275, 0.9900596480549435, 0.9945834734317902, 0.9982812769748275, 0.9865329756102333, 0.9948548763134306, 0.9916531507106748, 0.9822737875450557, 0.9850583367517441, 0.9826088811500968, 0.9944786166342465, 0.9922364521432224, 0.9815558377468365, 0.9834769576154497, 0.9859268423049427, 0.989888023314542, 0.9931643470381727, 0.9851343700949031, 0.9973897407051923, 0.9952434843263662, 0.9881588653990726, 0.9952282339531745, 0.9916955733606034, 0.990223822541925, 0.9842968895152565, 0.9927448334756419, 0.9842229623964147, 0.993270191369096, 0.9934890232026254, 0.9975903457344778, 0.9932020453464044, 0.9879397773940658, 0.9938249025275611, 0.9982289238551376, 0.9914340827242717, 0.9957773037745514, 0.9948474507528225, 0.9951422374264141, 0.9967875412003878, 0.9966734825909714, 0.9904993261237965, 0.9952594301358587, 0.998172036191296, 0.9964511617649492, 0.9947544553922902, 0.9976719542211598, 0.9977191702639024, 0.9931827593957805, 0.9931655307933817, 0.9858535590931792, 0.9924453457200365, 0.9807297489713123, 0.9934808451959033, 0.9939308177438191, 0.9925257857950105, 0.9914837964999901, 0.9956030397683622, 0.9968299189842967, 0.9886474841719521, 0.9858064439324056, 0.9885589021248607, 0.9918953824150931, 0.995522909513695, 0.9975163807282691, 0.9858097424690263, 0.9907747232925153, 0.9971412993757485, 0.9891877619860482, 0.9877815999331515, 0.9949877027360026, 0.9892183202127515, 0.9978384113063252, 0.9868060776989951, 0.9955066883448543, 0.9894607659619014, 0.9896307715766498, 0.9802566266534669, 0.9861425808378393, 0.9885086562864889, 0.9967256106550436, 0.9833792073648673, 0.9830006727240349, 0.9936151649722762, 0.9942784736531406, 0.9836141579171479, 0.9848139682299709, 0.9922809594436623, 0.9885306885995607, 0.9913605014485375, 0.9851008349985269, 0.9813262970943893, 0.991252125876552, 0.9889559379372402, 0.9871871879793631, 0.99302586916599, 0.9924513739535074, 0.9982812769748275, 0.9930554371082433, 0.9842968895152565, 0.9810780763595741, 0.9888186308740262, 0.9929342092897251, 0.9954012258509862, 0.9819913027083258, 0.9982812769748275, 0.9851808500099289, 0.9861142753105222, 0.9962362173676728, 0.9922303519044148, 0.9820596049866006, 0.9982812769748275, 0.9936196991121182, 0.9890721675477759, 0.9985212564926454, 0.9971127436562404, 0.9960918167374628, 0.9864601923251346, 0.9961098101070672, 0.9982289238551376, 0.9861662926799188, 0.9893348846255261, 0.9815267505473303, 0.9938860007002575, 0.9956252934316748, 0.9938552340747207, 0.9846620053192364, 0.9882533293323879, 0.9859630572593622, 0.9971127436562404, 0.9982317157921067, 0.9985212564926454, 0.9812591528455725, 0.9893974053583011, 0.9959517080207474, 0.9924397252529121, 0.9971384848561964, 0.9801838305570374, 0.9971127436562404, 0.9810659643154263, 0.9900095600911779, 0.9926356349922528, 0.9976112164391828, 0.9963551319030692, 0.9859118518021586, 0.9915000437214874, 0.9957664841996441, 0.9969688283883845, 0.9884533609249718, 0.9915934563303824, 0.9865100165393564, 0.9965465758913841, 0.9908102270723735, 0.9857142158117893, 0.9974507261095056, 0.9856218110201828, 0.9856218110201828, 0.995875713885989, 0.9942160922216486, 0.9982526437789072, 0.991705645970174, 0.9885189069762323, 0.9833927982388928, 0.9842968895152565, 0.9916205527147325, 0.98577519570056, 0.9818091454824982, 0.9857583261674228, 0.9858784960539173, 0.9922919999885631, 0.994589102534514, 0.9802396355848412, 0.9811471047835563, 0.995745493047554, 0.992980267562652, 0.9973712687950176, 0.9973328510980606, 0.9955627335411983, 0.9901398931316923, 0.9822238611193361, 0.985355076062843, 0.9849276653112262, 0.9969998091624535, 0.9949503542021352, 0.9819961524697743, 0.990702324548761, 0.9838560841643837, 0.9815791131340905, 0.995706485549596, 0.997779242828879, 0.9888528580555328, 0.9892436997607877, 0.9988170936438664, 0.991392438105461, 0.9969688283883845, 0.9952431296876656, 0.9868788912404478, 0.9898436219452798, 0.9930071247506592, 0.9961551770809945, 0.9961100402248968, 0.9990881471257413, 0.9890985787368977, 0.989624622984124, 0.9828775652794529, 0.9957416952002169, 0.9986166369893938, 0.9924353624013246, 0.9946705530461389, 0.9979429995896465, 0.9807706164850393, 0.9976819334429073, 0.9805233900269993, 0.998172036191296, 0.9928387661037318, 0.9931421039917591, 0.9932008907175061, 0.9952057710664522, 0.9841442475499789, 0.9980117068564711, 0.9907106145259331, 0.9955934439305718, 0.9869157538126702, 0.996990156492347, 0.993453248515141, 0.9876993836786185, 0.9957927211816465, 0.9982914124771847, 0.9911265904062634, 0.9955163110258732, 0.9987381978464518, 0.9865270498952579, 0.9890851090663116, 0.9898354874831978, 0.9804950144285091, 0.9850756105780937, 0.9879012497360714, 0.9862772763855276, 0.9920412555770507, 0.9917337851246957, 0.9947173435245484, 0.9923694848296811, 0.9809842051011448, 0.9805944391727957, 0.9801023609395737, 0.9909126007461104, 0.9807453207868924, 0.9872393203791705, 0.9978384113063252, 0.9935174005811064, 0.9899669871456314, 0.9945141658006347, 0.9901357675932031, 0.9930776362335578, 0.9953515279646779, 0.9951672022459254, 0.9910801167863745, 0.986663858034677, 0.9815005894638388, 0.9971127436562404, 0.9888873487586559, 0.9882891086334484, 0.9978766496993874, 0.988055766547222, 0.9831437250706874, 0.9934621453042394, 0.9985212564926454, 0.993958140199748, 0.9980837740469531, 0.9982812769748275, 0.9937477797522835, 0.9848450092964751, 0.9887690782417364, 0.990919429242983, 0.9934915765096392, 0.9847433623368747, 0.9982298551523013, 0.9975026319702993, 0.9973619516801756, 0.996971839044891, 0.9863975623896849, 0.9825762893795242, 0.9969688283883845, 0.9906970647357357, 0.9897392522138421, 0.995875713885989, 0.9962421054813253, 0.9977269493079065, 0.9969023747495876, 0.998561629912534, 0.9848305827296732, 0.9842968895152565, 0.9816925989452343, 0.9920932106046085, 0.9938662384813829, 0.9928826708832478, 0.9900034762106702, 0.9884644437685524, 0.998172036191296, 0.9903594677917198, 0.9978384113063252, 0.9977002788161725, 0.9958062515444357, 0.9935417914398054, 0.9894289935182936, 0.9823299976860147, 0.9801420528398931, 0.9822537031571397, 0.9979038233520863, 0.9978510652703017, 0.9878128898148216, 0.9829878203801212, 0.9969688283883845, 0.9873560496217735, 0.9842968895152565, 0.9924513739535074, 0.9835449742027572, 0.9923178137165143, 0.9946515095552337, 0.9968178506718719, 0.9869830244708164, 0.9951066314405232, 0.984951961736019, 0.9970481623928362, 0.9924513739535074, 0.994378268114008, 0.990094979316688, 0.9872971281995297, 0.9808806184902005, 0.9903533223278201, 0.9925328451562553, 0.9869747943415027, 0.9886370581539611, 0.9910161829851072, 0.9826558066657878, 0.9948192071400862, 0.9965878730195065, 0.9840918922897505, 0.9802945021105601, 0.9934550444814934, 0.9815267505473303, 0.990093242803875, 0.9954515301838346, 0.9937659875549151, 0.9874696534257684, 0.9982652939329879, 0.9846054768601047, 0.983766901289774, 0.9823324144892774, 0.9906803537295216, 0.9955074572749933, 0.9922530597776934, 0.9828827104869652, 0.9887991575380574, 0.9943237548538254, 0.9906538361100292, 0.9947866595227295, 0.9874428810182405, 0.9912509230714271, 0.9893103178335713, 0.9868382854343898, 0.9812697639768793, 0.9868050086119297, 0.98829994109551, 0.9822395845793562, 0.9866718468325513, 0.9901512184519706, 0.994781098883723, 0.9990443610443379, 0.9806338599663729, 0.9862762234584905, 0.9933769425681693, 0.9933137500690954, 0.9884308490045431, 0.9874593237142252, 0.9937059187829315, 0.9826767752956135, 0.9838265836889835, 0.9982812769748275, 0.995774702983114, 0.9865823679758821, 0.9896883523463257, 0.9853940885892324, 0.9826876738139175, 0.9890731974455313, 0.980933604652966, 0.9916637795549019, 0.99271218287395, 0.9807362176669956, 0.9918651502216046, 0.9882095443491395, 0.9836154872705981, 0.9983457580399254, 0.9823882502819596, 0.990093242803875, 0.9880729713779113, 0.9833226596162358, 0.9885430893017988, 0.9987608525944282, 0.9941321780729595, 0.9877405312801162, 0.9964980555923472, 0.9888455890092818, 0.9874367616244788, 0.997374999433243, 0.992984673598445, 0.9802069894549699, 0.9906188459601993, 0.9948861920862859, 0.9945655577956277, 0.9957875632894101, 0.9951694316868036, 0.99423304847421, 0.9834769576154497, 0.9967025055988358, 0.9902345340745188, 0.9809638480039413, 0.9982812769748275, 0.9969688283883845, 0.9885013931359583, 0.9806788460499302, 0.9823875333912175, 0.9952181258315342, 0.9865025278573385, 0.9909827509439673, 0.9901143207694179, 0.9938472018391243, 0.9940225786931325, 0.9800497823810881, 0.9845889986064916, 0.9863943263671642, 0.9944861219188509, 0.9819813565273786, 0.9900114553443728, 0.9948644930023713, 0.992982374883583, 0.9868392290328674, 0.9919139844817565, 0.9971522408260931, 0.9938628043241494, 0.9900539635572428, 0.9965904123480692, 0.9928976705913257, 0.998172036191296, 0.9866536905372351, 0.9902833342206524, 0.9890316348634328, 0.9969688283883845, 0.9945125137561521, 0.9917345260518464, 0.996125645630163, 0.9965878730195065, 0.9888752318939674, 0.9885287239679759, 0.9805583385298109, 0.9931541104339751, 0.9918906392266893, 0.9967190548693107, 0.9916119165998597, 0.9976903331823422, 0.9895262377056855, 0.9991597388244894, 0.9980411404943141, 0.9828124157463376, 0.9885330368204082, 0.994761176586058, 0.9978384113063252, 0.9958475929008318, 0.9947705233390709, 0.9988357379895972, 0.9913555226154208, 0.9872698293336859, 0.9945414410149396, 0.9927258506973514, 0.981838504876463, 0.987755568622435, 0.9927560659539326, 0.9985212564926454, 0.983267656046601, 0.9947230066287505, 0.9962876876329828, 0.9969688283883845, 0.9963007732345859, 0.9906158706160227, 0.9894856448843699, 0.9917298692893928, 0.9924513739535074, 0.9942489123377565, 0.9969688283883845, 0.9876821098766093, 0.9952586277045947, 0.9937220467187193, 0.9828353698717877, 0.9937256619949327, 0.9890760032470544, 0.991818559220904, 0.9883427068011114, 0.997536128478776, 0.9839366847784206, 0.9964062264236291, 0.99313003794983, 0.9847424723853956, 0.9895103994706177, 0.9974507261095056, 0.9958590420380331, 0.9908905239240741, 0.9928816325983228, 0.9963551319030692, 0.9883548679286641, 0.9924513739535074, 0.9849982667124214, 0.9947882493541093, 0.9945887848923588, 0.9978384113063252, 0.9946451655154931, 0.9959364530006191, 0.9924513739535074, 0.9858632102688628, 0.9923870906255623, 0.9891101576408512, 0.9887207014538193, 0.991198726750808, 0.995155644842302, 0.9958662441488323, 0.989934159242837, 0.9816562595662284, 0.998194334244745, 0.9857134114511016, 0.9884812277011286, 0.9820626161859405, 0.9932215248421564, 0.9873543913904016, 0.9926402721500599, 0.9973284269990449, 0.9833194058660552, 0.9981605323080509, 0.9980270848201294, 0.9980395292304582, 0.9962834154604293, 0.9971292497218103, 0.9920892777142657, 0.9862873760806937, 0.9859784692970833, 0.983355122747223, 0.9842968895152565, 0.9962645108644523, 0.9953102638774897, 0.9826088811500968, 0.9947420644372342, 0.9943553815471299, 0.9990626352411424, 0.9977464552290037, 0.9837584998743069, 0.9939315001768304, 0.9819728458207355, 0.9906474282063452, 0.9962784451791702, 0.9942669334302435, 0.9822856638557025, 0.9852647900883721, 0.9975880503637918, 0.9937653777895288, 0.9905984598338312, 0.981345858360846, 0.9869973254153247, 0.9968141439158599, 0.9892502936613077, 0.9977347244250506, 0.9984561311551046, 0.9975358902164086, 0.9987404617994816, 0.9965194411078733, 0.9919599527452104, 0.9806785138909725, 0.9882338385885088, 0.9921454969688694, 0.9902938027369714, 0.9858712105673837, 0.9925091663383269, 0.9893605658537696, 0.9975088130398173, 0.9834118005481203, 0.9971166702660712, 0.997472970649262, 0.991868661962239, 0.9877883891751066, 0.997516883385038, 0.9886960728318622, 0.9924513739535074, 0.9986349943698827, 0.984769198798375, 0.989561234773521, 0.9953465189268028, 0.9898811042366341, 0.9901366400151655, 0.99742311407818, 0.9884673296050943, 0.9954672249825726, 0.9827047373754394, 0.9879194211422108, 0.9864958086120473, 0.9807872708293012, 0.9928071727269973, 0.994620019662399, 0.9963686962975593, 0.9985257542180099, 0.9944089049944557, 0.9982568370615329, 0.9929634859322903, 0.9969688283883845, 0.9934860219085129, 0.9843520007623372, 0.9899404653615403, 0.985696291119936, 0.985176979804192, 0.9978384113063252, 0.9878088977934449, 0.9972832689841887, 0.9971456729480485, 0.9848376880301191, 0.9802138328859089, 0.982815418689123, 0.9902711420872092, 0.9957304372304884, 0.9940384107243803, 0.9980506614011012, 0.9969186851466463, 0.987683836188856, 0.9961330771663514, 0.9884259145853016, 0.9821871689388392, 0.990255491202407, 0.9986645073749406, 0.9982289238551376, 0.9929492710739835, 0.9875187473178847, 0.9976273108354959, 0.9982812769748275, 0.9961459333070699, 0.9841109928526962, 0.999162787532454, 0.9957624399312983, 0.9887332335993597, 0.9966926416071438, 0.9971127436562404, 0.9816827276390802, 0.9943103209031158, 0.9965610519789863, 0.9919174273962373, 0.9809934794620082, 0.9817632866423261, 0.9982289238551376, 0.9973869502959452, 0.9978384113063252, 0.9909735874179806, 0.9946888473756216, 0.9943621907925073, 0.9866794991711245, 0.9952220157715777, 0.9966898540811496, 0.9882044738932466, 0.9985212564926454, 0.9863922622569361, 0.9831204676071211, 0.9960832707219157, 0.9936818935886456, 0.9898797832797775, 0.9850465846676668, 0.997156510855284, 0.9950336990800803, 0.9969613126462613, 0.9978630733820478, 0.9865672458483734, 0.9923000940547944, 0.9918384228936621, 0.9940738124710896, 0.9908971515281387, 0.9986245868692571, 0.9903123440904977, 0.9948416512318443, 0.9949544966109296, 0.9859337908080412, 0.9984386182603496, 0.9844105017799517, 0.9969688283883845, 0.9870734063506189, 0.9969688283883845, 0.9996300435578173, 0.9843229991473085, 0.9982289238551376, 0.9982812769748275, 0.9940695732553932, 0.98561737917196, 0.9946434942332099, 0.9921485357049886, 0.9983315988643111, 0.996125645630163, 0.9842968895152565, 0.9943464755624688, 0.9805235176957036, 0.9965320982999314, 0.9843123458466702, 0.9809069817915996, 0.9871222286306627, 0.9903763772094755, 0.9933137500690954, 0.9990500542255986, 0.9935354640484911, 0.9911375568778645, 0.9857337380688173, 0.993190056850496, 0.9985212564926454, 0.9992792868384214, 0.9928976572983561, 0.9978384113063252, 0.995587917999179, 0.998172036191296, 0.9969688283883845, 0.9935422971401847, 0.9978384113063252, 0.9979429995896465, 0.994361894472607, 0.9883423216396907, 0.9918850234636989, 0.9943142795388488, 0.9944489278432245, 0.9928999583611607, 0.9816184085572613, 0.9884901964257484, 0.9969688283883845, 0.9821058299855697, 0.998172036191296, 0.9968497410699788, 0.9888909568468076, 0.9806035827655736, 0.9906829742756369, 0.997368887563772, 0.9867588466215342, 0.9953159109846939, 0.9956303889285973, 0.9946808646385872, 0.9865307238881564, 0.9895643452677513, 0.9955661029571189, 0.9883976524804279, 0.9812093802301922, 0.9866487692269694, 0.9931820499140328, 0.9936196991121182, 0.9982485412397396, 0.9965294765330683, 0.9910689650647524, 0.9907758418263212, 0.9974326365721793, 0.9970221852928841, 0.9936580276068382, 0.9985212564926454, 0.9945170682246129, 0.9954018864764661, 0.9977413688123854, 0.9964481099013944, 0.9961221338084351, 0.9947690505205936, 0.9923871239422138, 0.9825089254576855, 0.9951870929582322, 0.9956601272368708, 0.9918879257584698, 0.9984581132805452, 0.9901525920943881, 0.996054386450696, 0.9921874119031668, 0.9966760138361542, 0.9859724498397086, 0.9803827035624255, 0.9883293475993831, 0.9972618956164067, 0.9842968895152565, 0.9957044411466266, 0.994330465306547, 0.9916124010010999, 0.9952019487342691, 0.9976349133956878, 0.9932780914813806, 0.9878088977934449, 0.9933136424269835, 0.9879752506347445, 0.9976971242005669, 0.991821467703475, 0.9935501800282344, 0.9963277001343879, 0.9891564299950294, 0.9963551319030692, 0.9944415072489241, 0.9964176840708219, 0.9924513739535074, 0.986885405277562, 0.9909491703161035, 0.9975163807282691, 0.9844923694383766, 0.9835826501108511, 0.994314395375257, 0.9827134301400793, 0.9803843545982364, 0.9966550301560082, 0.9822753183088091, 0.9852854296009109, 0.9847429915977873, 0.9935782716666622, 0.9967256106550436, 0.9958150060874913, 0.9804847495247337, 0.9969688283883845, 0.9880533922582729, 0.983598209834829, 0.9969555256548441, 0.9965928490970503, 0.9961835870679332, 0.992590584771682, 0.996306031952006, 0.9960830049677469, 0.9955974187054353, 0.9969688283883845, 0.9852225877612965, 0.9966898540811496, 0.9972076461322097, 0.9820742010705352, 0.9969688283883845, 0.9888537395167275, 0.9848167226852925, 0.9968105388395444, 0.9906626796057342, 0.9958984832720774, 0.9801541426363706, 0.9982812769748275, 0.9974254082693874, 0.9943632780285993, 0.995283634533799, 0.9834769576154497, 0.9927169769491268, 0.9957217401048006, 0.9951764016549169, 0.9828360745611638, 0.9938395401203027, 0.9968635560010888, 0.9947705233390709, 0.9967915568899662, 0.993988675666711, 0.990523966457267, 0.9919759011166737, 0.9985931708685446, 0.9977586073667564, 0.989149807340285, 0.9923694848296811, 0.9954343122860456, 0.9901548737687477, 0.9836101730274401, 0.9945992065247615, 0.9946767612278383, 0.9985212564926454, 0.9914688840576702, 0.9894766625108389, 0.9817131305425382, 0.983612200904003, 0.9802871667184233, 0.9910232046516119, 0.9892305315206061, 0.9894260877500103, 0.9965637562947248, 0.9925642587332347, 0.9956599583305406, 0.9966959808324667, 0.9940658057780876, 0.9817482201713488, 0.9803815377600571, 0.9946809494940612, 0.9900075287656281, 0.9836255026998216, 0.9819913027083258, 0.9838281668764524, 0.9834350693181801, 0.9941542669672212, 0.9924513739535074, 0.98878741757298, 0.9932552203726394, 0.9966846624959502, 0.9957158553869668, 0.997516883385038, 0.9835204962459613, 0.9840569158366413, 0.9821947146071878, 0.9909341685391306, 0.9866286056226297, 0.9966649070961362, 0.9969325754683531, 0.9985072397420476, 0.9842968895152565, 0.9963386615012126, 0.9953405273019731, 0.9887244496463344, 0.9963551319030692, 0.9907966169039332, 0.9970704552030297, 0.9995605831842111, 0.9907950051047435, 0.9962602485261499, 0.994507009721277, 0.9978384113063252, 0.9811313439448613, 0.989186953647666, 0.9970461533729501, 0.9810856972182652, 0.9983680706912428, 0.9961035034355064, 0.9809679945937522, 0.989785087993575, 0.9959568181089058, 0.995719920612354, 0.9842968895152565, 0.9823805702468407, 0.9953281369052401, 0.9860408554638235, 0.985897738954746, 0.9940556218877085, 0.9849911246849634, 0.9954721132563868, 0.9825120851632482, 0.9970481623928362, 0.9933951578691302, 0.9855669023219509, 0.9949759611665117, 0.9944786913118957, 0.99748434936568, 0.9948996068367105, 0.9928501156744975, 0.9971079382423081, 0.9967256106550436, 0.9867785849088436, 0.993597842793927, 0.9970481623928362, 0.9964651940513276, 0.9897192620279978, 0.9880799438287532, 0.9882491656093919, 0.9970233903040875, 0.995644137894357, 0.9970481623928362, 0.9969688283883845, 0.9969688283883845, 0.9828355874618879, 0.9879266036054174, 0.9943750873690612, 0.9907834076932747, 0.9810842446740651, 0.9883741920399375, 0.9816187964240557, 0.9969688283883845, 0.9892264130375135, 0.9833079932875988, 0.989938874205048, 0.9951342003397756, 0.9927575329338535, 0.9876185023626681, 0.9838559706856096, 0.9934407034204825, 0.9985212564926454, 0.9885080007586206, 0.9916525963551149, 0.9878527709970297, 0.9906974808371167, 0.9984254665856649, 0.992178923857624, 0.9947705233390709, 0.998172036191296, 0.9842968895152565, 0.9865691653773117, 0.9962126553001842, 0.9872003682300515, 0.9845615776736097, 0.9842968895152565, 0.9967256106550436, 0.9900613890036152, 0.9967254254488529, 0.9962023658952146, 0.9961242722712288, 0.995640404117591, 0.9962183404862295, 0.9806894888637699, 0.9906058739603983, 0.9970481623928362, 0.9992677205326839, 0.9829981692149066, 0.9893462601988967, 0.9964394843607637, 0.9907695172214972, 0.9817748521642183, 0.9822683396408691, 0.994330967403935, 0.984585400392535, 0.9859824174088131, 0.9946841213010098, 0.9929356089078344, 0.991753868347552, 0.983119372375245, 0.9974654125521611, 0.9832348889825524, 0.9923081022295644, 0.9972004106731444, 0.980074447526695, 0.9920075145148439, 0.9972906156108525, 0.9976112164391828, 0.995525159479044, 0.9933245430801003, 0.9900630490326577, 0.997538928565433, 0.9976858100209416, 0.9930401394954896, 0.9970790824170881, 0.9894568657779562, 0.9966453651097733, 0.9842968895152565, 0.995532687517603, 0.9987164144300003, 0.9980450060293558, 0.9823040178313175, 0.9958673059937454, 0.9849001739361816, 0.9931817791683349, 0.9987346295559562, 0.9985212564926454, 0.9983137789297345, 0.9814988727128278, 0.9930098304172188, 0.9815267505473303, 0.983804058997482, 0.9963211351909484, 0.9941088348573837, 0.9864376662808396, 0.9966978960491331, 0.9838018679699001, 0.9987404617994816, 0.9960474150996338, 0.9816757061858731, 0.9979429995896465, 0.9857750822834676, 0.9819126834641253, 0.9971127436562404, 0.9872971281995297, 0.9827083372650678, 0.9831187192729987, 0.9808300665178056, 0.991439057504182, 0.9847403958724632, 0.994063328722164, 0.9853594796788564, 0.9950729686470131, 0.9832062580349349, 0.9858396392105678, 0.98037376849305, 0.993270803171175, 0.9924034860952724, 0.9938268092187948, 0.9916645226694949, 0.9886106012072351, 0.9870158863072529, 0.997997336042273, 0.9888355391510241, 0.9842968895152565, 0.9981629488261567, 0.9986100508402728, 0.9934502143447328, 0.9938359087453554, 0.9844771433928565, 0.9876804068946583, 0.997536128478776, 0.9936102272978936, 0.9827326796314413, 0.9897438658425006, 0.9982881375657188, 0.9934962404221347, 0.9950947778274178, 0.991471652034863, 0.9805772539112221, 0.9822599186258858, 0.9814436189856629, 0.9936196991121182, 0.9949376990259433, 0.996335147647089, 0.9943213777675808, 0.9820616544988604, 0.9966132962168274, 0.9936296867587073, 0.9942481266289892, 0.9891297617683623, 0.990457455519745, 0.9882531420285934, 0.9813723179257215, 0.9894591196793217, 0.9945252610947878, 0.9937444669005066, 0.9806096008494194, 0.9965758359544761, 0.9939002440388437, 0.9908417117213458, 0.9831696659162534, 0.9905390281695248, 0.9976112164391828, 0.9953714016477119, 0.9982812769748275, 0.994406125227657, 0.9932035649554701, 0.9897425993736586, 0.9915532099825531, 0.9907798964724197, 0.9886860837185804, 0.9951833481032748, 0.9906685953173409, 0.994912449281632, 0.9935322664787758, 0.9980561770732764, 0.9817225956260269, 0.9950019981606272, 0.9920832680442668, 0.9981491109954547, 0.9883208052202335, 0.9987882884778924, 0.9927106845539478, 0.9967447951635743, 0.9924513739535074, 0.9931324278217221, 0.9969688283883845, 0.9963406258519691, 0.9908717264788373, 0.9987346295559562, 0.9925226706628761, 0.9807402133943143, 0.9908594121272949, 0.9809890866758065, 0.9835298967127376, 0.9886772689929374, 0.9811684558699296, 0.9819090028258343, 0.9960318118296432, 0.9913450327309472, 0.9963211351909484, 0.9979467192151718, 0.9966055196684362, 0.9983279133235277, 0.9941861133310452, 0.9940564099983502, 0.9971441777973641, 0.98601448914373, 0.9978384113063252, 0.9975827120627265, 0.9921998673917798, 0.9842547247744804, 0.9879335397210119, 0.9857504370209402, 0.9958723240343796, 0.9868626469101459, 0.9986512105320541, 0.9977160953345702, 0.9852053567985182, 0.9969688283883845, 0.9975088130398173, 0.9847085746782956, 0.987154467361688, 0.9878510886262168, 0.9974878764841558, 0.9937381971585436, 0.9804886616213873, 0.9819265692533198, 0.980564683834944, 0.9914072436939254, 0.9890075152188942, 0.9933211631490587, 0.9928816325983228, 0.9971166702660712, 0.9828913248933149, 0.992621592844281, 0.9969688283883845, 0.9932347359781266, 0.9968535436062613, 0.9816056603918423, 0.9864449552521601, 0.9806698135131989, 0.9825076685161042, 0.9868043955106666, 0.9933556146013713, 0.9919290438107846, 0.9864155545578143, 0.9898766765072523, 0.991648205950444, 0.9851468505919451, 0.9953405273019731, 0.9955138539226437, 0.9959288127324838, 0.9942172406414502, 0.999582303324863, 0.9894102229184187, 0.9973954806756682, 0.9881406609619992, 0.9847148807249645, 0.9833634251330855, 0.9928166404241978, 0.9953885621720835, 0.99815848217166, 0.997975937135307, 0.9970337320509332, 0.9849418684198971, 0.9865060330999587, 0.993346895476266, 0.9980874437975319, 0.9918929576909357, 0.9963919321420488, 0.9949292679648185, 0.995402963832899, 0.9897288330969108, 0.9842968895152565, 0.9980841296883449, 0.9965683658800245, 0.9849609523470996, 0.9847833877995814, 0.9926398557356965, 0.981973937093779, 0.9842558858629613, 0.9879891709464675, 0.9935676186336477, 0.9979429995896465, 0.9991500923213589, 0.9876625893089448, 0.9971412993757485, 0.990728547298675, 0.9872971281995297, 0.9829826950494729, 0.9935218332750658, 0.9875292955497429, 0.991868661962239, 0.9982812769748275, 0.9888920227901608, 0.9956726613770006, 0.9985212564926454, 0.9879969352262358, 0.9978511434965177, 0.9952039490107614, 0.9819739279648614, 0.983499338092051, 0.9856303819105984, 0.9833102639104202, 0.9812640076284757, 0.9840467051222874, 0.9860604505042059, 0.9962071348127765, 0.9864004762953673, 0.9918322223251614, 0.9984185850998515, 0.9823140026452385, 0.9967963383292144, 0.9965878730195065, 0.9842968895152565, 0.9924513739535074, 0.9815267505473303, 0.994941007441986, 0.9953672903987228, 0.9942369379262859, 0.9884198304872743, 0.9903677624064269, 0.9983311099203248, 0.9964895841673553, 0.981822492202387, 0.9910369554174523, 0.9968299189842967, 0.997516883385038, 0.9801669452073505, 0.9963551319030692, 0.9982812769748275, 0.9917361688210875, 0.992817729412688, 0.9881511625085442, 0.9861272010953582, 0.9804073224890821, 0.9976254861411972, 0.9964317437920487, 0.9808736295463126, 0.9846761466696237, 0.9912703665259899, 0.9957414549888169, 0.9816386598559793, 0.9886513518280867, 0.9842327424519374, 0.9877385349727407, 0.9927743102443203, 0.989716732756366, 0.9853498493243366, 0.9845734314136059, 0.9945125807015933, 0.9904941295564501, 0.9961390783894521, 0.99102527101746, 0.9963317351802681, 0.9851299189997613, 0.9886627198476721, 0.9988312232166385, 0.9945026162900185, 0.9820553518971813, 0.9854708713111964, 0.9806838803688508, 0.9986100508402728, 0.9982812769748275, 0.9880191705800576, 0.9817576609925321, 0.981569244017684, 0.9835931239264535, 0.990867822883346, 0.998172036191296, 0.9987882884778924, 0.9952063247126484, 0.9960830049677469, 0.9858635924198808, 0.9971493944824423, 0.9907739052029779, 0.9882801167035498, 0.9975729132793022, 0.9957420145804827, 0.9922546369980632, 0.9844151173797153, 0.9968724916342745, 0.9974650497104375, 0.9936446196877615, 0.9844103736775937, 0.9976349133956878, 0.9960530900956777, 0.9816470192925058, 0.9819296957511092, 0.9941231244628962, 0.9837089843581875, 0.9873919942856129, 0.9872606856807729, 0.9960000357065449, 0.9978384113063252, 0.9968103718761621, 0.991771862658652, 0.9970481623928362, 0.9834769576154497, 0.9946954568457579, 0.9927132724941546, 0.9806317439902907, 0.984494622400824, 0.9858462151823938, 0.9878320439939299, 0.9963211351909484, 0.9945965153180525, 0.9944568184259767, 0.9882758212195699, 0.9832342878282797, 0.9892904464685419, 0.9959893424121367, 0.9922388319442323, 0.9945496522916273, 0.9947184962968473, 0.9861637853166246, 0.9968729634197894, 0.988836672177815, 0.9942137385355008, 0.9911578005730078, 0.9946026316031811, 0.9898897603093391, 0.9972005834817691, 0.9929600132567508, 0.9978384113063252, 0.9968082440597412, 0.9916865791562686, 0.9916000058039808, 0.9965116731410365, 0.9854009799022393, 0.9857730936824964, 0.9952798733615771, 0.987922457157874, 0.9978384113063252, 0.9973038134984392, 0.9850973793355325, 0.9853259526110075, 0.9937082412761887, 0.9844528098407669, 0.9861955112776116, 0.9954858066747064, 0.9802121370069934, 0.9866616472559704, 0.9969688283883845, 0.9846296723501967, 0.9946970673843906, 0.99670785126237, 0.9969688283883845, 0.9821776370526022, 0.9915625986366694, 0.9944741536892278, 0.996915713332595, 0.9866495865989893, 0.9978384113063252, 0.9809180677868619, 0.9898456283204451, 0.9829733151561084, 0.9953386816145587, 0.9936381651082544, 0.9955654960347621, 0.999380760983404, 0.9972896579775398, 0.99928148393229, 0.9971274529947138, 0.9978384113063252, 0.9922475374193922, 0.995327259226257, 0.9976163402961644, 0.9883556157045497, 0.9924635100588899, 0.9952257565462367, 0.9925126046226187, 0.9922410363233949, 0.9923422683754549, 0.9812808154696455, 0.9928395125129051, 0.996104699189658, 0.9853084667357069, 0.985100990697724, 0.9911310025283556, 0.9950397961779551, 0.9981262121384581, 0.9900813047797383, 0.9847398210668119, 0.9985212564926454, 0.9826142477817135, 0.995606565167308, 0.9910252991745757, 0.9917594628453351, 0.9955654960347621, 0.9865869474205441, 0.982045445739504, 0.9926054269617769, 0.9976907905184504, 0.9901853298358643, 0.9896564198186409, 0.9939562491425803, 0.9865269481541242, 0.9823996976658578, 0.9917131389355038, 0.9951473524791286, 0.9859914417272001, 0.9971163092484734, 0.9958681645192433, 0.9967366775027536, 0.9800010200142855, 0.9874720328659952, 0.9964499168237472, 0.9832429662709784, 0.9834288533732647, 0.9868990254441024, 0.9965566886788119, 0.9987404617994816, 0.9870158013887199, 0.9870374786935704, 0.990592019175201, 0.9970481623928362, 0.9877732397818288, 0.9974324872386068, 0.9947705233390709, 0.9954980529008455, 0.991901450697204, 0.9966945481457208, 0.9893050358757537, 0.9970501011532908, 0.9827978458111245, 0.9804959226697678, 0.9985877066449859, 0.9818665301662531, 0.9819778648134424, 0.9903847871266612, 0.9985877066449859, 0.9948634157757394, 0.9969688283883845, 0.9843482486881985, 0.9875280057902807, 0.9939958598175659, 0.9968980617768354, 0.9917310157052364, 0.992648287526098, 0.9953756330396746, 0.9970481623928362, 0.9985212564926454, 0.9931932493780237, 0.9924513739535074, 0.9825673658426544, 0.9955639929305404, 0.9974689532323128, 0.9800607877626311, 0.981334358906583, 0.9865212803058323, 0.995745493047554, 0.9934526804235627, 0.9935269025941853, 0.9948091123598192, 0.9986012802988466, 0.9907082354832382, 0.9918247841636895, 0.9924799531670134, 0.9806073991015304, 0.9917462300810768, 0.9919207806789795, 0.9816738444747926, 0.9983211131859828, 0.9946819347217377, 0.9978384113063252, 0.9983304195267403, 0.9908312212200738, 0.9847694155804877, 0.9952374241517812, 0.9866090606205753, 0.9919162807057804, 0.9950236474387995, 0.9843516601947772, 0.9985212564926454, 0.9978384113063252, 0.9984308768493502, 0.9861726999464315, 0.9808796428451173, 0.9987404617994816, 0.9963187046061069, 0.9955977123364684, 0.9837432585796207, 0.9958837634944872, 0.9919226631084503, 0.9911832455994763, 0.9806200203221191, 0.9918321326427444, 0.9966898540811496, 0.9879903230577491, 0.983594271881906, 0.9881789635597816, 0.9940315509678718, 0.9860991394336908, 0.9853847158649036, 0.9985212564926454, 0.9924513739535074, 0.9880895628405386, 0.99742311407818, 0.9976354110531112, 0.9815823148832171, 0.9920543414558315, 0.9869160017897787, 0.9853558633077171, 0.988891777553438, 0.9842968895152565, 0.9928788476826003, 0.9860328728896436, 0.9980884546298242, 0.9904014795830356, 0.9887926975485024, 0.9842544347275968, 0.9815993349025339, 0.9921052516457697, 0.9838742566658408, 0.9871367472693904, 0.9860910225187433, 0.9860949772137731, 0.982382556662912, 0.9815267505473303, 0.9816483194093819, 0.9859799522489096, 0.98728089660604, 0.994019372866355, 0.9982812769748275, 0.9946570614309995, 0.98394116903418, 0.9856885739111696, 0.9965106512691625, 0.9808010124135543, 0.9931358444577328, 0.9982812769748275, 0.9827666722576401, 0.9896623438068802, 0.9914008638236498, 0.9960644091309615, 0.9925074955362662, 0.9959757145612919, 0.9972696964947468, 0.9964725463648916, 0.9982812769748275, 0.9885008330557745, 0.9915071660121353, 0.9818992899065343, 0.9843688894791688, 0.9926445692609982, 0.9971976043229146, 0.9847633212461532, 0.9955764053304191, 0.98005861484916, 0.9912986993385854, 0.9801222450024136, 0.9971127436562404, 0.9912335927193585, 0.9944622924742748, 0.9904167029229196, 0.9899607829216625, 0.9969688283883845, 0.9955058640496075, 0.991471652034863, 0.9934731979076038, 0.9802146924406473, 0.9966898540811496, 0.9807186918247279, 0.9860612340595883, 0.9842799361481117, 0.9801516172489463, 0.9936637208566301, 0.9928816325983228, 0.9843434225825032, 0.9829912811982284, 0.984446147059256, 0.9867520182436188, 0.9915977509320655, 0.9886139016207097, 0.9910032209002947, 0.9979429995896465, 0.980704297442133, 0.9968465748617626, 0.9810151531690438, 0.9879985985970002, 0.996312116488049, 0.9957641686755473, 0.9889882879374609, 0.9826687242558878, 0.9969688283883845, 0.9887019812071479, 0.9962402019133192, 0.997457832369414, 0.9968299189842967, 0.9958149048365259, 0.9965626080168604, 0.9953150506937284, 0.997536128478776, 0.982708391932738, 0.9905669119969055, 0.9951769600146193, 0.9926063650713217, 0.9881014165413482, 0.9908312212200738, 0.9820756566051728, 0.9948332314161461, 0.9953764764336532, 0.9973806284577509, 0.9939519718685086, 0.9874281576103642, 0.9832268647277622, 0.9978837395835725, 0.9908495021100319, 0.9954025286403868, 0.9947705233390709, 0.9945467400923282, 0.9911266405246493, 0.9948328996504733, 0.9884951963916877, 0.9978384113063252, 0.992380187117928, 0.9977924401578987, 0.9946022926261842, 0.9864917739260124, 0.998713717864941, 0.9924410480764266, 0.9960530900956777, 0.9828792310496898, 0.9932719857513184, 0.9910488846987596, 0.9857604955326442, 0.9968748203247934, 0.9845806398726813, 0.9960509013271481, 0.9819887524011984, 0.9976719542211598, 0.9839592177110922, 0.9825499179174716, 0.9900695270859623, 0.9863500287856556, 0.9912680683077109, 0.9827867359798733, 0.9834422617311724, 0.9862968011874665, 0.9847792648117032, 0.9812823638905552, 0.9883215420538828, 0.9905140405107797, 0.9901462486943987, 0.9816543713411474, 0.9929495016784631, 0.9860901917343788, 0.985756511490471, 0.9806068067622016, 0.9923830809171756, 0.990006551482731, 0.9907657137254393, 0.9972734394132533, 0.9897388444838745, 0.9976532593358914, 0.9868545264992485, 0.9937487881512195, 0.9861147056313037, 0.9887944544552537, 0.9807365424113378, 0.9839592177110922, 0.9861408352346741, 0.999582303324863, 0.9824894501517896, 0.9957582683622769, 0.9929008027585048, 0.9852645655282651, 0.9946359329886294, 0.9970481623928362, 0.9933746687626773, 0.9899408738457323, 0.9838896620785428, 0.9985212564926454, 0.99576843256632, 0.9924513739535074, 0.9879538719008711, 0.9806025397612992, 0.9996789484397985, 0.9937653777895288, 0.9947403340131497, 0.9914353291499344, 0.9970128576626323, 0.9820169596954273, 0.9852515005824312, 0.9937558607681404, 0.9808601189310863, 0.993527137991583, 0.983178644351144, 0.9868427593246513, 0.9928747232395748, 0.9832210676351567, 0.9923614449387012, 0.990861545499494, 0.981524989379377, 0.9970614561689279, 0.988790575972784, 0.9943008842594211, 0.9964420933158075, 0.9889962236719222, 0.9908764749150725, 0.9967498735873245, 0.994268970580648, 0.9849519666740174, 0.9948318532834532, 0.9918652914237426, 0.9876232248477075, 0.9855969791740173, 0.9865489375592016, 0.998552468047407, 0.997286248698193, 0.9882926932636301, 0.9929146611083607, 0.9972611827437293, 0.9870487829857565, 0.9925690356148641, 0.99742311407818, 0.9914187876581857, 0.9859118518021586, 0.9962855646291452, 0.9891974306217166, 0.993541268481546, 0.9924513739535074, 0.9934389019592607, 0.9870625709290615, 0.9941565050070935, 0.9828831633633726, 0.9842968895152565, 0.9925345919418942, 0.9973332244206804, 0.9949797722302344, 0.9989685699286948, 0.9978384113063252, 0.9934166656287025, 0.9963551319030692, 0.9934841410603111, 0.9878327176340002, 0.9868760889362436, 0.9817169454913661, 0.9845642064614143, 0.9886393336702135, 0.9875467241269743, 0.9981356388593675, 0.9990437956202385, 0.9987384391560519, 0.9937964211214229, 0.9845115414854073, 0.9961761605119477, 0.9804307376744125, 0.9903392240603899, 0.9804307376744125, 0.9960533529877631, 0.9815115929354344, 0.9983457580399254, 0.998431271122468, 0.9922354197425727, 0.9846253565216354, 0.9881894454037289, 0.9889736068537668, 0.9967366775027536, 0.9893907346592694, 0.9839628740394435, 0.9985212564926454, 0.9946115960247515, 0.9935269041155613, 0.9978830566128294, 0.9946305064595329, 0.9984154314956243, 0.9965878730195065, 0.9912555076261963, 0.989073366676893, 0.9802870298453672, 0.991020085372151, 0.9814648204351825, 0.9942018336940183, 0.9915483202728215, 0.9965911118918872, 0.9928816325983228, 0.9966898540811496, 0.9815267505473303, 0.9910807318260082, 0.9891328275005815, 0.9834769576154497, 0.9960720544302606, 0.9806391918023012, 0.9921399544208023, 0.995257282622591, 0.9897341370401403, 0.9982812769748275, 0.9867001130422485, 0.9952213794689371, 0.9969688283883845, 0.9898548992466337, 0.9963551319030692, 0.9920262605070078, 0.9842968895152565, 0.9815267505473303, 0.9982237875617016, 0.9811514305674319, 0.9816433228918049, 0.9830243198942591, 0.9865481993166783, 0.9984245307163374, 0.9927255808239527, 0.98735776912487, 0.9878850853722693, 0.9893333999279298, 0.9845239971174667, 0.9839167964938024, 0.999011321758283, 0.9949169495049618, 0.9899296063283188, 0.995978350331477, 0.9915052515850942, 0.9824935363032733, 0.9815891745262527, 0.9808922330694216, 0.9982438848222159, 0.9821007185318906, 0.9942608674694797, 0.9994455628592521, 0.9924513739535074, 0.9982812769748275, 0.9933238941378533, 0.9833242228355419, 0.9852451474061016, 0.9831121611730107, 0.9840573105986414, 0.9925715943889737, 0.9841203491519995, 0.9969688283883845, 0.9843416326539066, 0.9908257622794363, 0.9936493699552391, 0.9933386586955139, 0.9972866298517609, 0.981407532645972, 0.984066021668383, 0.9845159742540212, 0.9891692497995928, 0.9963340920022882, 0.9970152635661673, 0.99576843256632, 0.9886815618803343, 0.9979429995896465, 0.9839965740359882, 0.9803157642974298, 0.9980003871982229, 0.992436123810282, 0.9877802038923968, 0.9955097222931968, 0.9982289238551376, 0.9938379580235931, 0.9968886882110316, 0.983128495748051, 0.9841897509983399, 0.9963551319030692, 0.9908863020951115, 0.9969688283883845, 0.9815267505473303, 0.9810710390611035, 0.9978384113063252, 0.9967346401086798, 0.9807006613814984, 0.980624667066738, 0.989347509172776, 0.9917400739844515, 0.9869006837999349, 0.9853953953538295, 0.9888538058305933, 0.9910525077582872, 0.994149141192885, 0.986172278891855, 0.984056649701966, 0.991408167833563, 0.9925246897557658, 0.9954632443301439, 0.9933769214627449, 0.9972479300540816, 0.9952688476272158, 0.9924513739535074, 0.9842968895152565, 0.9973931948213444, 0.9978675386586096, 0.988177117400964, 0.994813559374168, 0.987984014159362, 0.9971958209362896, 0.9984659672282541, 0.9985551997281947, 0.9969823112558165, 0.9936393154636234, 0.9924120165498597, 0.9886603357725011, 0.988272438188783, 0.9868815611403586, 0.9856198171849669, 0.9972397628692408, 0.9839451642544409, 0.9977899451322436, 0.9979111678482868, 0.992198212273433, 0.9957661031339292, 0.9939029082491032, 0.99742311407818, 0.9806471443681627, 0.9848150147441889, 0.9966668142826197, 0.9936522231693471, 0.9801389394090588, 0.9905812200712719, 0.9966250536110794, 0.9969688283883845, 0.9802295829225388, 0.989202675306022, 0.9926662374899973, 0.9940881012385041, 0.9903777580856145, 0.9802518687760083, 0.9886384605927829, 0.9849625529592666, 0.980671992538861, 0.9949516251055364, 0.9885189842933737, 0.9982438848222159, 0.9865641330236449, 0.9924513739535074, 0.998057810497217, 0.9990379443472066, 0.9953937929338035, 0.9944920976305727, 0.9979429995896465, 0.9946948173520875, 0.9835356527939779, 0.9938048870103796, 0.9890016774267543, 0.9883437855732817, 0.9898372156097789, 0.9817227610812185, 0.9941445470439392, 0.9891152176983266, 0.9940565517854145, 0.9965878730195065, 0.9890640985112804, 0.9944338432413801, 0.9885448386506389, 0.9973987293487385, 0.9956665704401674, 0.980202248501016, 0.9817410563808885, 0.9979391382067012, 0.9969477339247321, 0.991021602936479, 0.9990512958900977, 0.9843767823515297, 0.9975088130398173, 0.9946188671636361, 0.9876886796708884, 0.9985212564926454, 0.9838100260077708, 0.992334303132101, 0.9930576148727461, 0.9874839017424828, 0.9903923876785781, 0.9965911118918872, 0.9849001233061564, 0.994347320774717, 0.9891938396621465, 0.9983054017005895, 0.9969688283883845, 0.9906401927353299, 0.9954227175919855, 0.9923722158055605, 0.9902680136107687, 0.9932064613059395, 0.9842968895152565, 0.984555231521646, 0.9932120961674444, 0.9969688283883845, 0.9923975743498871, 0.990691186660063, 0.9978338885560852, 0.9841722228017187, 0.9905454685071557, 0.9828420601642567, 0.994725306508603, 0.989035834461892, 0.9922507616835722, 0.9897240351495815, 0.9908272083789766, 0.9909713063806319, 0.9871726247569821, 0.981997408500913, 0.9940929964834021, 0.9830481136450577, 0.9980959360631777, 0.9930142394317744, 0.9835807725814074, 0.9902086899374668, 0.9906207899569949, 0.9809605884327285, 0.9927033772681846, 0.9841278472758108, 0.9878199231495172, 0.9902428178012544, 0.9923039648931967, 0.9859678002540421, 0.9971477845518577, 0.9958330271008825, 0.9942979216034334, 0.9865240981785003, 0.9883989287853613, 0.9825378424570816, 0.991684791564063, 0.984163369958318, 0.9887576424160154, 0.993696992026219, 0.9893104066253414, 0.9856555778793162, 0.9966162414582724, 0.9889937072980487, 0.9971127436562404, 0.9956039720690488, 0.9953489620243893, 0.985193487444908, 0.9971142122187221, 0.9809564400814512, 0.9966898540811496, 0.9963932415064187, 0.9872023191068774, 0.9842968895152565, 0.9846935989805458, 0.9949308403894499, 0.9899465083561808, 0.9969688283883845, 0.9909258517673529, 0.9896094655648813, 0.9915913374922336, 0.9933525534948923, 0.9956215148014046, 0.9907316260133786, 0.9869114815821844, 0.9921480634910248, 0.99297878382619, 0.991780620018681, 0.993800782876609, 0.9964422947561532, 0.9899944571445844, 0.987292560957256, 0.9987404617994816, 0.9970481623928362, 0.9902389898371686, 0.9840162915305375, 0.9829074344049281, 0.9969688283883845, 0.9895443807708957, 0.9986931731219816, 0.9979305803607826, 0.9824932874195669, 0.9906522661240581, 0.989116177472513, 0.9934430291049061, 0.9955871722495604, 0.990000019091379, 0.9866729234923842, 0.9914775682849347, 0.9906024155491011, 0.9878927840813632, 0.996125645630163, 0.9946248422629866, 0.9902191481060962, 0.9895681093391332, 0.9971221677693952, 0.9929873219107938, 0.9861720186737075, 0.9815938538511679, 0.9987462251565573, 0.9853522809454581, 0.9971412993757485, 0.9929187318522474, 0.9963551319030692, 0.987158315655069, 0.9975163807282691, 0.9969688283883845, 0.9947705233390709, 0.9875978506599458, 0.9977359207846535, 0.9819763068792737, 0.9893153429809761, 0.9923643121200125, 0.9912274253887697, 0.9965320807268956, 0.9871535960078704, 0.9847200019856066, 0.9965159790323592, 0.9869027009696003, 0.993451123050876, 0.9894565473212003, 0.9930576148727461, 0.9847918567095648, 0.9963231554948234, 0.9919462646271806, 0.9926788139656776, 0.9901385773283657, 0.998221079750402, 0.9838327221958074, 0.9884284860054219, 0.9941597566938832, 0.988544106188733, 0.9879269608838527, 0.9969688283883845, 0.9968291149827292, 0.9809231223624377, 0.9820968037771446, 0.9986100508402728, 0.9871070093653384, 0.9940030286451194, 0.9941724278987291, 0.9968526645049702, 0.9883167717504366, 0.9908324546575923, 0.9971927924775885, 0.9923477206212524, 0.996125645630163, 0.997649548417158, 0.9949376990259433, 0.992775706833938, 0.9952688166667759, 0.9916298773027803, 0.9819524610144149, 0.9912002872318934, 0.9920932374944129, 0.9936241574690955, 0.9835234754744919, 0.9856043516641716, 0.9935291072029229, 0.9883705050605738, 0.9970289869963256, 0.9953417497893504, 0.9917935843419378, 0.9914173381763163, 0.9801826372414353, 0.9975088130398173, 0.9884865830474652, 0.9955773388412616, 0.9929337125972278, 0.9905027828945825, 0.9924557079433182, 0.9818108600277866, 0.9941546280808431, 0.9842968895152565, 0.9969688283883845, 0.9965138113996614, 0.9986421219618846, 0.9891125637140656, 0.9982812769748275, 0.9890069535260662, 0.9869082392102533, 0.9862923694930644, 0.9868095233672486, 0.9905868269666347, 0.991439249618013, 0.9825721294639826, 0.9909202136445675, 0.9982812769748275, 0.9958160725780238, 0.9880920750530698, 0.9815267505473303, 0.982483057626473, 0.9848417120981463, 0.9951871911033816, 0.9942227037913552, 0.9902732771846282, 0.9930704385002768, 0.9863828514277451, 0.9967256106550436, 0.9981325627273376, 0.997536128478776, 0.9921938050007518, 0.9860355109790757, 0.9987882884778924, 0.9986645073749406, 0.9822906657670909, 0.9881688305610655, 0.9959095904206754, 0.9867865012652528, 0.9850191010145735, 0.9964244799634014, 0.9977239034366527, 0.9915696420990721, 0.9924135481267214, 0.9965504476566219, 0.9930435568885375, 0.9978384113063252, 0.9919112577993744, 0.9989528596328278, 0.9924009228864764, 0.9930439168085365, 0.9969688283883845, 0.9987404617994816, 0.9850319207316737, 0.9889841923676331, 0.9971182808089257, 0.9920918022982179, 0.9910727393543778, 0.9892236927082526, 0.987571599829121, 0.9824374811545017, 0.9886352457426034, 0.9853144016616028, 0.9974124011438035, 0.993006246045138, 0.9941958721600915, 0.997536128478776, 0.9899127722095885, 0.9849438015225769, 0.985636252126544, 0.9951401071422783, 0.9829325322828841, 0.9919600361081873, 0.9983245695132917, 0.9908952938937678, 0.9951865923990278, 0.9982729040366219, 0.9819027184102121, 0.9867761951654825, 0.9839408228232651, 0.9850890289981523, 0.9873584445356242, 0.9874705332425247, 0.9971392422592644, 0.9846397725897269, 0.9932621815705617, 0.9969688283883845, 0.9841122517743363, 0.9958083110230991, 0.9969688283883845, 0.9862833482495286, 0.9914431468130634, 0.9961134923328435, 0.9913657509416784, 0.9971127436562404, 0.9951533339429129, 0.9857887090876021, 0.9984939276839542, 0.9947819807216289, 0.994313359129456, 0.9966908143629123, 0.996826660188572, 0.9874109388763416, 0.9958414951284233, 0.9868003130272767, 0.9872495371898078, 0.9983368597476303, 0.9963981344735785, 0.9803527393500561, 0.9974201620290521, 0.9830227106540167, 0.9968883030721397, 0.9967808405953965, 0.9913323138909238, 0.9987109560890208, 0.9829989757329335, 0.9965148000840732, 0.9905406688863241, 0.9872478531345917, 0.9811562091105218, 0.9988536786186201, 0.9818907726670488, 0.9981491109954547, 0.9914057376247105, 0.9887768223514934, 0.9931862960741534, 0.9952187214407667, 0.98990848182868, 0.9972005834817691, 0.9850242116690878, 0.9964035802672739, 0.9805092962975153, 0.9846072555577549, 0.9808641223614124, 0.9926673120196519, 0.9950080517384735, 0.985303960874969, 0.9947778946773477, 0.9855669928296293, 0.9935272662176161, 0.9831847615204399, 0.9944289897867103, 0.9956599590175573, 0.9983079083893026, 0.9971127436562404, 0.990835959713115, 0.990654265709411, 0.9871463647667574, 0.9967900127674041, 0.9963401260836405, 0.9942941036283358, 0.9930055207249195, 0.9984094446233864, 0.9808390021411226, 0.9834751543982632, 0.993654182740411, 0.9829689579276855, 0.9977144794585995, 0.9905483660345404, 0.9966806341572153, 0.9836273357809708, 0.989678501664651, 0.9917033245146324, 0.9963551319030692, 0.982382556662912, 0.9979429995896465, 0.9964584442165411, 0.9934628576852168, 0.9848012813021321, 0.9823360873405784, 0.9866435613625596, 0.9973797583828271, 0.9808327119023124, 0.9942728831274542, 0.9876145678856608, 0.9884595433809493, 0.9967256106550436, 0.9846935989805458, 0.9947705233390709, 0.9804587197005283, 0.9924513739535074, 0.9864685092846714, 0.9978384113063252, 0.9878088977934449, 0.9925069439975092, 0.9969688283883845, 0.9963999596411318, 0.9982812769748275, 0.9934796281311756, 0.9907533027474016, 0.9928267618852373, 0.9931840316286384, 0.9949207618215191, 0.9945089597747757, 0.9860953216199122, 0.9851019394619976, 0.9978384113063252, 0.9990443610443379, 0.9979543241498388, 0.9884301148745916, 0.9975088130398173, 0.9919451752059151, 0.9883153686446934, 0.9954341278230163, 0.9812782690158722, 0.9910943237268679, 0.9950832468901893, 0.998507026909244, 0.9882956923454491, 0.9897123374873665, 0.9846868563031443, 0.9859073181867397, 0.9847994364266742, 0.9918476298100425, 0.9961448348800572, 0.9934823153690311, 0.9805235176957036, 0.9847117693330635, 0.9845620980647259, 0.9842968895152565, 0.9834769576154497, 0.9828866181994282, 0.9981982132635915, 0.9863397278202373, 0.9953506981745032, 0.9841975376500065, 0.9979454695396943, 0.9905818773060261, 0.9805235176957036, 0.9897697437782422, 0.9920777658083042, 0.9937724233237051, 0.997355497638016, 0.9952157447581581, 0.9962629849162613, 0.9823381239669776, 0.9890347851132526, 0.9969688283883845, 0.996530565880895, 0.997536128478776, 0.985355076062843, 0.9963095625783602, 0.983053704889868, 0.9942322321773985, 0.9955944460027819, 0.9935718770103699, 0.9824411536219734, 0.985202585218144, 0.9913047755089244, 0.9835604841613867, 0.9960594798669601, 0.9842968895152565, 0.984224238902955, 0.9933524730741173, 0.9825072115117853, 0.9986991432516127, 0.9885765829514519, 0.9969688283883845, 0.9926556690579763, 0.9871154141316498, 0.9962320334071373, 0.9981902463720284, 0.9941852650921681, 0.9979686113784557, 0.9955802112141213, 0.9969688283883845, 0.9970481623928362, 0.9867817772728517, 0.9815267505473303, 0.9945274909612503, 0.9991324282995672, 0.9957652877140651, 0.9964525875625635, 0.9977985974928153, 0.9825153488140647, 0.9975163807282691, 0.9967256106550436, 0.9819913027083258, 0.9985212564926454, 0.9982812769748275, 0.9868587197736439, 0.9882964091890231, 0.9894107385048205, 0.992463346228214, 0.9840777222629837, 0.9819375368375037, 0.9815036809634338, 0.9945200705126165, 0.9960217203216221, 0.9917648710926621, 0.9929378706788402, 0.9907443361480257, 0.9897674841275, 0.997536128478776, 0.9907106145259331, 0.9975731127966028, 0.9920010199874578, 0.9966087646896056, 0.9964458801307522, 0.9947705233390709, 0.9856970783304035, 0.9926573810425027, 0.9845363798931428, 0.9971127436562404, 0.9979306520410474, 0.9835556849157584, 0.998179386081947, 0.9881641844886503, 0.9944642759537952, 0.9966898540811496, 0.9986979307346002, 0.9974414993907491, 0.9906739815907322, 0.9812926305103682, 0.9812072947695063, 0.9979336442962908, 0.9846935989805458, 0.9942348855269402, 0.9824825311302064, 0.9972005834817691, 0.9987696315676107, 0.982685158087678, 0.9910019603453921, 0.9982812769748275, 0.9961277593279043, 0.989119590141286, 0.9813140256577257, 0.9842968895152565, 0.9825475211384894, 0.987796736610064, 0.9968299189842967, 0.9905208810999689, 0.9927548693508913, 0.9826073628148416, 0.9848713677156905, 0.9923338023199678, 0.990196388449745, 0.9875037158567582, 0.9875899186455398, 0.9814080391034408, 0.993203062839838, 0.9987404617994816, 0.9842968895152565, 0.9944659230138504, 0.9967654453115122, 0.9840244826329855, 0.9982289238551376, 0.9924513739535074, 0.997536128478776, 0.9872971281995297, 0.9828827898142711, 0.9890321729491142, 0.9854193604366371, 0.9922163467458669, 0.9927065395479604, 0.9868607856402536, 0.9819342849650755, 0.9853612231516072, 0.9803127246354614, 0.9894804154462068, 0.9913280637892041, 0.9925994379178759, 0.9982812769748275, 0.9907460025550004, 0.9905310475164667, 0.9818056175456421, 0.987309384020597, 0.9934390217265044, 0.9917759709769225, 0.9822269813939857, 0.9976719542211598, 0.9990443610443379, 0.9837788150005349, 0.9969688283883845, 0.9863287930346726, 0.9939744960221147, 0.9982812769748275, 0.9978729680967817, 0.9823850957349056, 0.9985212564926454, 0.9877274479846777, 0.9818594126353755, 0.9920891954777356, 0.994876034190902, 0.993980210465389, 0.9819913027083258, 0.9842019575368651, 0.9969974418305874, 0.9855696205866336, 0.9986338246729934, 0.9833811041335508, 0.9846450313114491, 0.987918094446039, 0.9891174212405611, 0.9923528181480277, 0.9829418871763501, 0.997516883385038, 0.994340670919613, 0.9988777784427986, 0.9818108061004229, 0.9944550833794518, 0.9828985505239145, 0.9971127436562404, 0.9801114701415632, 0.9924513739535074, 0.9958292618657392, 0.9842968895152565, 0.9981720848347125, 0.994972017578008, 0.9830031854286627, 0.9846983466014948, 0.9835751475462852, 0.9917491256395577, 0.9872925656815109, 0.9819367752372242, 0.9888513297420046, 0.986890752012789, 0.9800857600343914, 0.9976719542211598, 0.9953654929418575, 0.9982289238551376, 0.9942348855269402, 0.9937297961670553, 0.9837735133788572, 0.9917011888760626, 0.9839235953909459, 0.9885307106175476, 0.9817970297729879, 0.9941089409992124, 0.9992373069437412, 0.9939317729700052, 0.9934636484309819, 0.9972057541463981, 0.9975572814774969, 0.9854603292750432, 0.9982812769748275, 0.9953904563030519, 0.9821311348419689, 0.9962656973289414, 0.9873866158353084, 0.9910965933370547, 0.988261728875278, 0.9982658472068776, 0.9959512344420242, 0.9944568640443356, 0.9811313439448613, 0.9968299189842967, 0.9857030015989353, 0.9848101291948781, 0.9953943544745278, 0.9881022379396913, 0.9943786161602479, 0.9985212564926454, 0.9949416574109944, 0.9836152242678219, 0.9881679550927797, 0.9942196024047862, 0.9912999126240277, 0.9800603472606794, 0.9948339765351847, 0.996973892122904, 0.9807465281845831, 0.9816974657737243, 0.9944373795436098, 0.9956433629641357, 0.9955176139248896, 0.9822881888552819, 0.9901280611123321, 0.9937053355565622, 0.9957771286553201, 0.9885633970832746, 0.989450309965027, 0.9913859784072727, 0.9959988914087665, 0.9950806574700721, 0.9948321975750084, 0.9842968895152565, 0.9905083899936045, 0.9880346471209839, 0.9895081963091515, 0.9875428913192421, 0.991392438105461, 0.981048250641575, 0.9967179982987739, 0.9894766625108389, 0.9873737557838744, 0.9960907196963611, 0.9856686168987565, 0.9925557552885238, 0.9842968895152565, 0.9924513739535074, 0.9819913027083258, 0.9943657553718717, 0.991868661962239, 0.9919177196034372, 0.9916116160859668, 0.980863372001958, 0.9960828470552061, 0.9942298876238149, 0.9976692349549421, 0.9885861427784144, 0.9946852224305186, 0.9853090617975989, 0.9976112164391828, 0.9839033189554585, 0.9981491109954547, 0.9806425079420501, 0.9987882884778924, 0.9864075440465839, 0.9831020561265766, 0.9941214589864013, 0.9874488484811109, 0.9928529296923417, 0.9908586765671689, 0.9969279389234749, 0.9842968895152565, 0.9947705233390709, 0.9866207134066182, 0.99289203077518, 0.9969688283883845, 0.9842968895152565, 0.98075139906824, 0.9801721057926168, 0.9967170443816356, 0.9883381449927069, 0.9867981357879263, 0.9852024955954973, 0.9924513739535074, 0.9842026815423391, 0.9932770566365476, 0.9814355906430249, 0.9984436352887819, 0.9884222048624973, 0.9960746229523213, 0.9928857814432707, 0.9982812769748275, 0.9975203951265282, 0.986234541475806, 0.9825559581939336, 0.9915392734899927, 0.9834292593566973, 0.9829305110739709, 0.9906940626382017, 0.9868585595894962, 0.9972383708505165, 0.9850551163186196, 0.9980177093338162, 0.9882058433170535, 0.9846229224699995, 0.9894291545299922, 0.9972610999109369, 0.9883507458504883, 0.9916916012997301, 0.9921911235916352, 0.9952589229610863, 0.9927959425317116, 0.989948204755262, 0.994347808179031, 0.9937376758485148, 0.9917564018748829, 0.9887471647816243, 0.9895142202897238, 0.9976719542211598, 0.9847236687476794, 0.9982289238551376, 0.9958891684343759, 0.9985212564926454, 0.99651051934247, 0.9977630855725387, 0.983369217723413, 0.9982812769748275, 0.9914230150338524, 0.9936564697711008, 0.9908564479902049, 0.9973887488838226, 0.9907106145259331, 0.9944175086155479, 0.9895969898798641, 0.9918181598965107, 0.992810844399114, 0.9860481160667126, 0.9985212564926454, 0.9974878764841558, 0.9911117242719594, 0.9939414624619, 0.9914510321964688, 0.9922878452421909, 0.9976719542211598, 0.9899752104919921, 0.9834769576154497, 0.9907084320025044, 0.9969688283883845, 0.9956037406852869, 0.9815267505473303, 0.9909803658969976, 0.9828336831054101, 0.9890512693114081, 0.9969688283883845, 0.9964508512027108, 0.9947560777103203, 0.9967792577875569, 0.9844338627669951, 0.9978384113063252, 0.9823380712781223, 0.9817962786014098, 0.9852601632812402, 0.9990147310448904, 0.984479528567734, 0.9968035722649553, 0.9816620606468575, 0.9917241058709989, 0.9964748856666803, 0.9969688283883845, 0.9969688283883845, 0.9983708484138785, 0.9852937710420934, 0.9982812769748275, 0.9855727704211424, 0.9958736310016558, 0.9919232718386699, 0.9815524698445857, 0.996100595146777, 0.9935447624235114, 0.9857256047146795, 0.9886987490520794, 0.9943813202406281, 0.9875098322400407, 0.9935947847813807, 0.9967026657568153, 0.9946047825759401, 0.9900910739968249, 0.9953418543266358, 0.9842968895152565, 0.9973271356154848, 0.9932438176933753, 0.9987404617994816, 0.9962601501395134, 0.9829370603866908, 0.9947357703060353, 0.9957027750587889, 0.9983334742568399, 0.9979185388894003, 0.9868841244774709, 0.9906742093939032, 0.9966120880515952, 0.9912946310092149, 0.9972176575641138, 0.9814990254266749, 0.9899708660649181, 0.9815828952587248, 0.9920178356068776, 0.9934700072853881, 0.9883689398594457, 0.9844614894712375, 0.9969688283883845, 0.9988143752541694, 0.987005495909828, 0.9939118455942649, 0.981760390052569, 0.991223999972423, 0.99558917275943, 0.9925998123129208, 0.9937539859104919, 0.9904862217369003, 0.9814398430095652, 0.9802324639236567, 0.997178826918553, 0.9901463201873343, 0.9919780400752858, 0.9947705233390709, 0.9883904663941869, 0.9900135303000515, 0.9883330017171037, 0.9916969447335158, 0.9800410936689768, 0.9963551319030692, 0.9970527588874057, 0.9830247615658685, 0.9859671757226115, 0.9974251467963252, 0.9907311970176632, 0.9944997878639633, 0.9842968895152565, 0.9913865117560204, 0.9965456750533798, 0.9954406253379834, 0.9877977164800689, 0.9942787673768256, 0.998057810497217, 0.9880808371510049, 0.9893302657787804, 0.9935977479923577, 0.996389796015518, 0.9940465484948128, 0.9857301482064199, 0.9882259150734828, 0.9963551319030692, 0.9954341278230163, 0.9815228891630078, 0.9826296006654145, 0.9987404617994816, 0.9995719585162989, 0.9929529865203385, 0.9952657064902857, 0.9898846876054321, 0.9966898540811496, 0.9947705233390709, 0.9813582092148339, 0.9912945203828145, 0.9940633517196547, 0.982756221139315, 0.99742311407818, 0.9963551319030692, 0.9949946039728059, 0.9989369805287454, 0.990196492435304, 0.9807103020364031, 0.9852491428468878, 0.998057810497217, 0.9827541264292919, 0.9970473710764816, 0.9909328165308746, 0.9985212564926454, 0.9970481623928362, 0.9871860707383032, 0.9939186521258325, 0.9913542271272887, 0.9963646231949667, 0.9856047257110278, 0.9947944070152202, 0.9945562866927344, 0.9835202892356212, 0.9976217424929311, 0.9821013250773611, 0.9953714840996006, 0.9868396112811357, 0.9921001419064935, 0.9849562414401483, 0.9910277787518731, 0.9969688283883845, 0.9949106072190608, 0.9908765407329577, 0.9987346295559562, 0.99576843256632, 0.9985212564926454, 0.9975088130398173, 0.9886474841719521, 0.9970481623928362, 0.9958614007684294, 0.9802866747547676, 0.9856218110201828, 0.9869706518871593, 0.9968299189842967, 0.9828672649385631, 0.9930576148727461, 0.9953089734519247, 0.9978483702722875, 0.9900832613687549, 0.9869518848266863, 0.9807799233733393, 0.9911967120615361, 0.9904186694553448, 0.9898477398030177, 0.9805235176957036, 0.9940658057780876, 0.9966898540811496, 0.9952057710664522, 0.9923254766028076, 0.9903782530607055, 0.9940355075894661, 0.9899553277426923, 0.9931878994634226, 0.9933246730654659, 0.9975163807282691, 0.9978708245504192, 0.9942688305757146, 0.9814498626507758, 0.9952282339531745, 0.9888200720865619, 0.9801924048708173, 0.9975038038920588, 0.996501245795633, 0.9921479239167835, 0.9993490603941279, 0.981875481709009, 0.9848974920018461, 0.9869830224209738, 0.9962056515014118, 0.9951769600146193, 0.9969052858048408, 0.9952499621059345, 0.9882970845662372, 0.9965659902260398, 0.9882008909316302, 0.9969391892240964, 0.9938916278003872, 0.9848926847209272, 0.9838921908786956, 0.9878982563909243, 0.9834537979485112, 0.9967371824499389, 0.9921811562333375, 0.9947596536772979, 0.9969082378287675, 0.9951618222429619, 0.9873931318063821, 0.996125645630163, 0.9944021993476232, 0.9825181577665516, 0.9940588299446508, 0.9908921214265872, 0.9875316859115806, 0.9925069363024474, 0.9849438015225769, 0.9942979479847743, 0.9921827803738477, 0.9858766957291639, 0.9969688283883845, 0.9987404617994816, 0.9905696147015116, 0.9822471642143219, 0.9978384113063252, 0.9985877066449859, 0.9856255320670319, 0.9984655245537293, 0.9821581333060375, 0.9952282339531745, 0.9821339294359258, 0.9867190464546871, 0.9872981051078086, 0.9863314866537175, 0.9979673636264085, 0.9972573763589587, 0.984861779234809, 0.9890961450008426, 0.9809830588132442, 0.9832323273127164, 0.9886795472588252, 0.9945401033589613, 0.9857146763805622, 0.9973513464376281, 0.9900650032717593, 0.9960830049677469, 0.9803315083491225, 0.9901512030246984, 0.9858814055037625, 0.9904728174444543, 0.9842968895152565, 0.9980956845813669, 0.9928818321585147, 0.9968363538290537, 0.9947705233390709, 0.983000926025488, 0.9853338571288649, 0.985585745867643, 0.9837169969540259, 0.9930098304172188, 0.9972488539897064, 0.9956273211134198, 0.9938025271143454, 0.9828773089632753, 0.9813428844926574, 0.9801993996458038, 0.9881441853951323, 0.9938214922771934, 0.9884317456994516, 0.9967541482146665, 0.996760480287028, 0.9902095927893768, 0.9985212564926454, 0.981022257499686, 0.998544153925732, 0.9961142584902295, 0.9960709763419678, 0.9969688283883845, 0.990730810140519, 0.9802703322964169, 0.9943141995332061, 0.9952184471337249, 0.9850131707334661, 0.9987164144300003, 0.995834068868672, 0.9816336190898749, 0.9911742766827604, 0.992981063027096, 0.9987990229896495, 0.9908774761026374, 0.9837289959491828, 0.9923131463847692, 0.9828880971295895, 0.9982812769748275, 0.985185814354117, 0.9844312659626787, 0.9925069363024474, 0.9963551319030692, 0.9876582782377785, 0.9905952521512448, 0.9808169585927434, 0.9914119123412857, 0.994526031676188, 0.9879433080837958, 0.985918597997084, 0.9962260612058329, 0.9884296396092442, 0.9982812769748275, 0.9975163807282691, 0.9958516769426113, 0.99446009444261, 0.9980117068564711, 0.99388938827912, 0.9804266845784181, 0.9815687440240279, 0.9932020453464044, 0.996105221985541, 0.9831262490456326, 0.9859096154503374, 0.9904654660429675, 0.9976496796693426, 0.995088438484762, 0.9907022241296477, 0.9855467901148484, 0.9946624090782695, 0.9983977621471093, 0.9960806251570672, 0.9960647055480643, 0.9942498844941744, 0.9805235176957036, 0.9982289238551376, 0.9944338432413801, 0.9944986791338345, 0.989299803705578, 0.9909175208328898, 0.9985212564926454, 0.9856255320670319, 0.9895167075161829, 0.9876318958420542, 0.9802888618801682, 0.9976719542211598, 0.9982812769748275, 0.9969688283883845, 0.9984896272073382, 0.9927265239405172, 0.9829779010308484, 0.9872619813685685, 0.9812490194190843, 0.9827813828204247, 0.9850879877299694, 0.9809304395441225, 0.9947138839859377, 0.9831456907531635, 0.998172036191296, 0.9915681844444282, 0.992810844399114, 0.9911605192972233, 0.9900923705100305, 0.9962307342135063, 0.9889580017465465, 0.9872037602293727, 0.986419154775631, 0.9887360389762585, 0.9896183084408143, 0.9974325531750463, 0.9983225428514049, 0.9845162334390022, 0.9926896120342577, 0.9915393570563704, 0.990243971697155, 0.9928423879553729, 0.9933755662793875, 0.9958231351901703, 0.9964961131749629, 0.9949163960702223, 0.9896600936904015, 0.9926176037448137, 0.9807590052348628, 0.9873412846344238, 0.9958138514122515, 0.9870434983268459, 0.9901688316601658, 0.9943025896081299, 0.9842968895152565, 0.9842894974374523, 0.9961174990044103, 0.9984014108227974, 0.9961400511631684, 0.9849681489967882, 0.9932444737486495, 0.994040168511121, 0.9924946533066294, 0.9873344773915437, 0.9878511610736003, 0.9981854621057564, 0.9889456184511444, 0.9834757188428762, 0.991938634835879, 0.9915853510750111, 0.9801711896269256, 0.9812394391916626, 0.9899149926030317, 0.9946426794851241, 0.9883612381444092, 0.989239510190345, 0.9839520061072496, 0.9900007786906478, 0.9946864219970798, 0.9932958303197291, 0.9984420620651916, 0.9952371066292557, 0.9891785202900227, 0.9948548763134306, 0.9849071235369165, 0.9911999042058396, 0.9978384113063252, 0.9851323301174145, 0.9935805801780395, 0.9933721722476556, 0.9992586621874865, 0.9923954167481638, 0.9878699759032797, 0.9831476029905414, 0.9868587127193551, 0.9955944134057897, 0.9888922665759584, 0.9938962595240618, 0.9961960636889703, 0.993481159831803, 0.9921243309731745, 0.9908147739152966, 0.9943172515419564, 0.9969688283883845, 0.9842968895152565, 0.994317684044604, 0.9861515225758734, 0.9897850030423632, 0.981288337924583, 0.9932830045699442, 0.9828787480491246, 0.9861703450018133, 0.9917528454633857, 0.9819913027083258, 0.9987559692457751, 0.9935959479357, 0.9954534293671286, 0.9973190309032466, 0.9870821536023446, 0.9842968895152565, 0.9812142294944047, 0.9942297047384225, 0.986487303052779, 0.9971456680512362, 0.9820791458916309, 0.9838875584704304, 0.9971734950619032, 0.9969688283883845, 0.9874433841953625, 0.998713717864941, 0.9863483018207683, 0.9860703733361719, 0.9955905752534436, 0.9971127436562404, 0.9969688283883845, 0.994790750314686, 0.9937134459154792, 0.9965878730195065, 0.9935652190149291, 0.9923631740500175, 0.9949779960809145, 0.985355076062843, 0.9893234932336163, 0.9957228021457747, 0.997536128478776, 0.9924513739535074, 0.9969688283883845, 0.9834769576154497, 0.9897037577076927, 0.9921338732541224, 0.9917353073496391, 0.985543632190892, 0.9964681912942084, 0.9929555420978857, 0.9895583056930833, 0.9888224504344172, 0.9974530167669899, 0.9889675797358533, 0.9868172794593358, 0.9876185023626681, 0.9893162214777798, 0.9970297584874651, 0.9985212564926454, 0.9932876818639711, 0.9985212564926454, 0.9850421956086038, 0.9833364760029375, 0.9891502176536049, 0.9917797615674768, 0.9852889826897139, 0.9869802581466889, 0.9976344098959274, 0.9882543699881571, 0.9928443925038298, 0.9870177393288113, 0.9958232932518577, 0.9964403581269276, 0.998172036191296, 0.9959577106061928, 0.9983672097586627, 0.9962620871301457, 0.9892583787185684, 0.9929368393511941, 0.9886768898972998, 0.9980947876668038, 0.9934252126150782, 0.9933763220810767, 0.981545675107579, 0.9918953824150931, 0.9941053793519302, 0.9942201315187141, 0.9905761879918878, 0.9979429995896465, 0.9872388826676488, 0.9969688283883845, 0.9938371463213761, 0.9984884125898466, 0.9882422108155329, 0.9913652338551188, 0.9982812769748275, 0.9953025352888535, 0.9840624654520597, 0.9811853353978517, 0.9969688283883845, 0.9960445860693266, 0.9894618464372729, 0.9890592161781934, 0.9947462341518412, 0.9970577833350907, 0.9953515279646779, 0.990027248796343, 0.9929188918556568, 0.9963374547579189, 0.9971127436562404, 0.994707244771423, 0.9931817791683349, 0.9966898540811496, 0.9825911636045037, 0.9805235176957036, 0.9849982667124214, 0.9896327483210842, 0.9819913027083258, 0.99742311407818, 0.9918622891410492, 0.9898595935823314, 0.9939351545949618, 0.990439507270784, 0.9961197709912317, 0.9865231557341447, 0.9972488539897064, 0.990093242803875, 0.9927409088896, 0.9806781564947883, 0.9867813036671232, 0.9819936553667641, 0.9889436280485849, 0.9973266726662652, 0.9969401419422255, 0.9963529395355613, 0.9943369218851724, 0.997536128478776, 0.9935524060519014, 0.9985212564926454, 0.9899897738856288, 0.9976719542211598, 0.9967114489661567, 0.9812821925831138, 0.9952043501011022, 0.9984759075255184, 0.9952959381782817, 0.9976114190521418, 0.9970481623928362, 0.990602102810469, 0.9964895841673553, 0.9930194011059684, 0.9921040795253792, 0.9969165635525581, 0.9986397792666414, 0.9805593119247503, 0.9816705449790825, 0.9949550373159565, 0.9868292640433874, 0.9916756553920424, 0.9903416282077294, 0.9948156809630152, 0.9975088130398173, 0.9816286944368979, 0.9978708245504192, 0.985423680491803, 0.9841791009999469, 0.9863878602918551, 0.991006416440662, 0.9837807573358508, 0.9965878730195065, 0.9976075727458906, 0.9941045653210953, 0.9969688283883845, 0.998095335279377, 0.9920905191006919, 0.9969688283883845, 0.9885663195016265, 0.9979429995896465, 0.9910463572830229, 0.9892550279972558, 0.9965566929175459, 0.9969688283883845, 0.9930875618590005, 0.9871200927330073, 0.991749991353354, 0.9982473031100737, 0.9835625227685553, 0.9834834932726628, 0.9944795219447078, 0.9862812004654212, 0.9951132233066512, 0.9861272101042143, 0.9965911118918872, 0.9845206295990965, 0.9958600575434782, 0.9867033867736792, 0.9918384599025004, 0.9958355423354895, 0.9891315889522995, 0.9873449154010868, 0.9824532943544105, 0.9826028346520559, 0.9947920476039933, 0.9969688283883845, 0.9817977118219171, 0.9842701863106644, 0.988575435816306, 0.9973069027265368, 0.9867792823540465, 0.9867173029113282, 0.9913405513777427, 0.9982289238551376, 0.9849935844519558, 0.9969688283883845, 0.9931817791683349, 0.9822150536255272, 0.9842959564713347, 0.9961375070109451, 0.9879974071469436, 0.9891975698629045, 0.9827430635975947, 0.9828628544129605, 0.9969688283883845, 0.9910169720412315, 0.9805266324674695, 0.9938737290272522, 0.997967028595842, 0.9829321237814325, 0.9979429995896465, 0.9990149644557297, 0.9834949757178567, 0.9938430754758129, 0.9867971124377589, 0.9976067481558619, 0.9832800278985683, 0.9837966542148416, 0.997536128478776, 0.9943995678728531, 0.9916588650710844, 0.9878415769240994, 0.9801604125090614, 0.9966792733465285, 0.9966527265732633, 0.9894256137633416, 0.9898711394602672, 0.990190340164357, 0.9916134682713444, 0.9910867004704366, 0.993215712360733, 0.9969688283883845, 0.9874770959275552, 0.9859082565591188, 0.9835972907746298, 0.988021503160769, 0.998172036191296, 0.9976719542211598, 0.9939537111484329, 0.9801832337316122, 0.9912004609278198, 0.995324275532595, 0.9866365744503898, 0.9870388486031905, 0.9945855474748664, 0.9824548157713089, 0.9985212564926454, 0.9878088977934449, 0.9887318064561562, 0.9948970209455841, 0.9819913027083258, 0.9944415072489241, 0.9885099674986979, 0.9970759637535666, 0.9956424856795337, 0.9849982667124214, 0.9980240935580273, 0.9854321309875076, 0.989953755276534, 0.998172036191296, 0.9882548075634277, 0.9890585219051217, 0.9953843705869413, 0.9803351550630388, 0.9868606911606135, 0.9829261407599102, 0.9803550385913725, 0.9842043227466152, 0.9967641639748218, 0.9958946119642468, 0.9925305250603554, 0.9884649230637725, 0.9955920961530954, 0.9958320202730755, 0.9852519918916648, 0.9905266375506874, 0.9862851811698109, 0.993454452864899, 0.9880417253438541, 0.9850807169472179, 0.9980387654075543, 0.9853607957489984, 0.9875242668668635, 0.9881553338151815, 0.9863478421335378, 0.9933597756917343, 0.9975088130398173, 0.9854825460196451, 0.99742311407818, 0.9956380752605819, 0.9953287796992741, 0.9827198701173013, 0.9820435082292034, 0.9986950522177762, 0.9944138268750231, 0.9978384113063252, 0.9985212564926454, 0.9910303209482739, 0.9939540717815465, 0.9819770770891262, 0.9829580743947515, 0.9819913027083258, 0.980017694955103, 0.9842489017505397, 0.9841522925806786, 0.9894945800712511, 0.9811158844237823, 0.986177073425063, 0.9912098604360012, 0.9978384113063252, 0.9969688283883845, 0.9982812769748275, 0.9833320467234093, 0.9980654175043894, 0.9807771952508975, 0.9865969654016394, 0.9842968895152565, 0.9973929695427938, 0.9965890290166454, 0.9985212564926454, 0.9808053783619881, 0.9921515404627488, 0.9846893317932409, 0.9973595766565113, 0.9846633522623199, 0.9885899739980419, 0.9874668165025433, 0.9807240525320734, 0.9843040659781803, 0.9822768301298446, 0.9946256491941279, 0.9897694725170065, 0.9974971144667928, 0.9932002555032976, 0.9943377564456848, 0.9980515847533693, 0.9854652025182832, 0.9836807116902617, 0.983862383331462, 0.993884071374437, 0.983183567611925, 0.9871205772214792, 0.9958019085734277, 0.9820527654487786, 0.9891379706003998, 0.9928319799773158, 0.9824516469484538, 0.9902107451462374, 0.9829999529772039, 0.9976335139159477, 0.9826246278196267, 0.9873821078028941, 0.9918457049918402, 0.9910594717447619, 0.9876185023626681, 0.9863330451208742, 0.9842968895152565, 0.9987882884778924, 0.9944612468475073, 0.9898261729505949, 0.9958768838394284, 0.9936297630786206, 0.9837525778378108, 0.9894964561715496, 0.9947860265609099, 0.9931430986854909, 0.988208930467372, 0.9941479071444748, 0.9948739352459213, 0.9919057829376663, 0.9800051222417621, 0.998597889621474, 0.993411348578507, 0.9849758771287551, 0.9875265087632689, 0.9854285846063503, 0.980869457498813, 0.9962781581188228, 0.993507724937958, 0.9871155372930565, 0.9953086048455227, 0.9833121514134934, 0.9925386392011217, 0.9963211351909484, 0.9954534293671286, 0.9930682818643798, 0.9923990054729593, 0.982781960514192, 0.982911349502101, 0.9887330544742082, 0.9879297731325024, 0.981921830139591, 0.9905783063317516, 0.9910790278760415, 0.9920400155203353, 0.9851116170561064, 0.9849438015225769, 0.9857352477228615, 0.9926858885420067, 0.9825781750342302, 0.981981317897028, 0.9968363538290537, 0.9977093368248248, 0.9986100508402728, 0.9931817791683349, 0.9842968895152565, 0.9928160424454588, 0.9979623190682678, 0.9802610920743947, 0.9905667664320528, 0.9926307190305489, 0.9950828861495614, 0.9956311680966045, 0.9911416346582361, 0.9914385307900104, 0.9856092158842888, 0.982253467198247, 0.9801039862240021, 0.984873026189017, 0.9902935278080878, 0.9865858626803695, 0.9847204058342881, 0.9915243128932625, 0.9812925270756857, 0.9881036889311363, 0.9925611987234838, 0.9969688283883845, 0.9929631286829224, 0.9851054229097871, 0.986300158639756, 0.9806269127378477, 0.9967741010172666, 0.9875402486071223, 0.997536128478776, 0.9970736248942196, 0.9960038032416687, 0.985530769649239, 0.9959105396912212, 0.9810364244884348, 0.9974061770021498, 0.9982812769748275, 0.9959099544688536, 0.9934903007774062, 0.988347950764845, 0.9969425737707344, 0.9956164741765556, 0.9801035709891551, 0.9983034904490297, 0.9896179606483377, 0.9952986091839559, 0.9933246899726221, 0.9895196311945912, 0.9984611635157177, 0.9953336257062617, 0.9897524125504084, 0.9854541403880444, 0.9841704037239367, 0.9903749387378623, 0.9935041019226719, 0.9979320347223023, 0.9984938960215364, 0.9994996438750963, 0.9945649180555098, 0.9988901412602675, 0.9963551319030692, 0.9922048356216561, 0.9811815318318914, 0.9900802385342068, 0.983538700310047, 0.9971782780207633, 0.9808873666639579, 0.9849117747800751, 0.9879265953993247, 0.9948778268532323, 0.99092888593836, 0.9858746007661967, 0.9975163807282691, 0.9914593131537153, 0.9871082854283597, 0.9885387573332659, 0.9895733396059444, 0.9864201249477429, 0.9835733625602362, 0.9902473846803639, 0.9933346299414547, 0.9985212564926454, 0.9981491109954547, 0.9816335796217955, 0.9942411147136235, 0.9889180487274288, 0.9831432110984482, 0.9964151746523906, 0.9976128902104006, 0.9822391045821411, 0.9958898070406993, 0.9970845125773429, 0.999582303324863, 0.997536128478776, 0.995560484892105, 0.9976776520836855, 0.9976482289047041, 0.9940226519903909, 0.9924855524498255, 0.9985960998330773, 0.9970158929854164, 0.9881312870142254, 0.9848634005104169, 0.9911160022768432, 0.9929867149657736, 0.9844858604370111, 0.9853624645105523, 0.9979623958447448, 0.9967501332965171, 0.9958850044380078, 0.9922461689630416, 0.9806496669909383, 0.9927107239090572, 0.9809179797840055, 0.9899728241011825, 0.9946937604984525, 0.9954539900157765, 0.9979258509647408, 0.990081956348869, 0.9937865715468124, 0.9882415217880454, 0.988062339870815, 0.9958876334796816, 0.9975484040051961, 0.9842968895152565, 0.9956062352006285, 0.9969688283883845, 0.9859851558279773, 0.9884502811723861, 0.9962485582817558, 0.9957231939120551, 0.9865513807428357, 0.9996060855581962, 0.9801546070194852, 0.9956131491553345, 0.9914510321964688, 0.9892543306576603, 0.995279717882052, 0.9842968895152565, 0.9925726013154663, 0.9977402307801218, 0.9946303993761393, 0.9993779721636861, 0.9816925989452343, 0.9988807206620834, 0.9944463976390773, 0.9883653424752216, 0.980283661648849, 0.9936973493272122, 0.9983869110791788, 0.9911289423485253, 0.9878179959940029, 0.9970481623928362, 0.9953140825833099, 0.9883752957047302, 0.9937611703157062, 0.9979429995896465, 0.9909705115514954, 0.9971730229810389, 0.9835410230117915, 0.9916992315273739, 0.9921389142361564, 0.9984619423746426, 0.9974581072728381, 0.9940648670864995, 0.9850839808416885, 0.9977010137369778, 0.985312584297698, 0.9969688283883845, 0.9969658402641962, 0.9833173636408958, 0.99514479440602, 0.9906149098515448, 0.9842968895152565, 0.9968351765688255, 0.9890859934229845, 0.982785261954037, 0.9936199092773648, 0.9802655277282956, 0.9857748479610274, 0.9802227790178878, 0.9889332767723678, 0.9944957377833742, 0.9810610486936558, 0.9941299816817734, 0.9880398324664854, 0.9941733188198019, 0.9932020453464044, 0.985201913681645, 0.9925069363024474, 0.9821855870852, 0.9895760415970009, 0.9932449835261653, 0.9947038035626112, 0.9985212564926454, 0.9843542898666426, 0.9921448394883732, 0.997926559090452, 0.995371150266561, 0.9977616845080619, 0.9942338192166212, 0.9842968895152565, 0.9889168091100794, 0.992420949155784, 0.988315871931791, 0.9939344364306383, 0.9978384113063252, 0.9801104406390648, 0.9960759724531306, 0.998172036191296, 0.996125645630163, 0.9932073134837616, 0.9802349524102565, 0.9933431313414869, 0.9943073124795443, 0.9960166771450023, 0.9968224336737318, 0.984458509725265, 0.9988216746273162, 0.9923694848296811, 0.9835645203852594, 0.9938184159588604, 0.9802905243583928, 0.9836083548707363, 0.9814130298164413, 0.9968079494919431, 0.9878172919837351, 0.9987085298803552, 0.9906014851257546, 0.991678649283897, 0.981825585677641, 0.9902324880235449, 0.988113825723619, 0.9953651204704997, 0.9953080924690596, 0.9857581279493118, 0.983384455960217, 0.9924375027219258, 0.9963715910970672, 0.9969688283883845, 0.99744779766976, 0.9969058577569947, 0.987846361990361, 0.9966857420767083, 0.9982812769748275, 0.9931817791683349, 0.9834695520303579, 0.9850038962093237, 0.998172036191296, 0.9925168289971542, 0.9861074800659556, 0.9958973363351593, 0.9804883916175581, 0.9978384113063252, 0.9826513524780399, 0.9922968426503631, 0.9837757271182884, 0.9878755077341157, 0.9953347736638898, 0.996681855473479, 0.9932588086705947, 0.996737837908687, 0.9969688283883845, 0.9924513739535074, 0.9967915568899662, 0.9813692285294682, 0.9817680437264489, 0.9964366722852521, 0.9931601325608436, 0.9931339146859798, 0.9969688283883845]\n",
            "[10, 12, 51, 60, 100, 113, 117, 123, 140, 168, 176, 191, 192, 193, 197, 219, 222, 227, 230, 235, 236, 294, 296, 301, 308, 323, 370, 375, 378, 379, 380, 389, 393, 421, 430, 449, 491, 499, 509, 530, 547, 567, 571, 575, 578, 586, 587, 588, 589, 638, 727, 728, 752, 791, 820, 821, 822, 832, 858, 861, 865, 877, 884, 886, 893, 911, 912, 922, 926, 927, 1014, 1063, 1086, 1103, 1123, 1134, 1138, 1176, 1180, 1186, 1192, 1194, 1211, 1215, 1234, 1249, 1251, 1295, 1315, 1333, 1341, 1347, 1349, 1382, 1387, 1389, 1392, 1394, 1398, 1401, 1403, 1410, 1413, 1433, 1461, 1463, 1506, 1567, 1571, 1589, 1616, 1662, 1676, 1678, 1722, 1723, 1726, 1727, 1734, 1740, 1744, 1745, 1759, 1771, 1829, 1831, 1832, 1833, 1838, 1853, 1922, 1932, 1967, 1982, 1984, 2043, 2056, 2059, 2066, 2088, 2114, 2118, 2170, 2195, 2207, 2226, 2251, 2253, 2262, 2272, 2276, 2279, 2295, 2296, 2298, 2299, 2301, 2305, 2323, 2332, 2349, 2353, 2439, 2451, 2469, 2473, 2474, 2475, 2476, 2479, 2483, 2581, 2582, 2587, 2589, 2590, 2642, 2680, 2681, 2688, 2695, 2698, 2699, 2708, 2711, 2712, 2713, 2715, 2718, 2728, 2734, 2736, 2738, 2765, 2766, 2773, 2780, 2796, 2811, 2830, 2831, 2832, 2833, 2836, 2845, 2854, 2875, 2879, 2881, 2900, 2909, 2920, 2923, 2927, 2970, 2972, 2973, 2974, 2977, 2980, 2981, 2985, 2989, 3011, 3014, 3015, 3016, 3017, 3018, 3023, 3030, 3063, 3073, 3075, 3086, 3113, 3158, 3171, 3173, 3180, 3213, 3214, 3233, 3236, 3251, 3257, 3258, 3273, 3306, 3308, 3314, 3354, 3355, 3357, 3361, 3364, 3368, 3373, 3376, 3379, 3381, 3399, 3401, 3407, 3457, 3459, 3462, 3468, 3473, 3474, 3479, 3481, 3491, 3522, 3527, 3554, 3556, 3557, 3560, 3570, 3578, 3599, 3601, 3602, 3605, 3613, 3632, 3712, 3735, 3738, 3745, 3747, 3748, 3752, 3762, 3776, 3784, 3788, 3792, 3810, 3839, 3840, 3843, 3846, 3852, 3854, 3873, 3908, 3912, 3913, 3937, 3960, 3996, 4016, 4025, 4067, 4069, 4094, 4096, 4141, 4142, 4143, 4151, 4154, 4159, 4163, 4165, 4178, 4188, 4212, 4215, 4216, 4222, 4226, 4228, 4238, 4252, 4255, 4281, 4283, 4285, 4287, 4318, 4345, 4349, 4350, 4364, 4367, 4370, 4378, 4396, 4397, 4457, 4500, 4502, 4508, 4517, 4534, 4555, 4648, 4654, 4720, 4732, 4733, 4742, 4746, 4755, 4810, 4815, 4823, 4840, 4895, 4902, 4905, 4913, 4934, 4941, 4986, 4987, 4988, 4989, 4991, 5044, 5074, 5078, 5079, 5119, 5121, 5122, 5123, 5126, 5127, 5128, 5134, 5142, 5200, 5209, 5212, 5218, 5225, 5226, 5228, 5229, 5242, 5302, 5322, 5324, 5325, 5326, 5332, 5358, 5359, 5361, 5364, 5366, 5367, 5368, 5407, 5431, 5434, 5435, 5459, 5475, 5489, 5491, 5513, 5542, 5555, 5556, 5557, 5569, 5571, 5624, 5630, 5640, 5651, 5652, 5656, 5663, 5664, 5681, 5689, 5696, 5714, 5723, 5730, 5755, 5758, 5767, 5783, 5790, 5793, 5800, 5807, 5839, 5841, 5843, 5860, 5861, 5862, 5869, 5892, 5910, 5927, 5958, 5964, 5970, 5992, 6002, 6003, 6011, 6021, 6028, 6038, 6076, 6098, 6100, 6103, 6131, 6150, 6196, 6241, 6267, 6268, 6298, 6301, 6348, 6365, 6372, 6394, 6448, 6453, 6455, 6456, 6458, 6491, 6530, 6532, 6547, 6556, 6591, 6624, 6625, 6643, 6654, 6674, 6729, 6757, 6768, 6831, 6836, 6840, 6845, 6872, 6877, 6878, 6883, 6886, 6921, 6937, 6952, 6953, 6957, 6958, 6959, 6960, 6962, 6963, 6964, 6966, 6968, 6999, 7008, 7009, 7010, 7016, 7028, 7029, 7039, 7054, 7099, 7130, 7157, 7158, 7198, 7200, 7212, 7223, 7226, 7229, 7233, 7245, 7248, 7252, 7254, 7257, 7258, 7261, 7273, 7274, 7308, 7345, 7361, 7365, 7375, 7396, 7400, 7402, 7403, 7405, 7408, 7409, 7421, 7451, 7453, 7454, 7474, 7536, 7540, 7541, 7542, 7546, 7568, 7590, 7645, 7685, 7692, 7699, 7705, 7716, 7717, 7720, 7723, 7724, 7726, 7730, 7732, 7773, 7799, 7870, 7907, 7910, 8008, 8012, 8020, 8034, 8040, 8041, 8077, 8086, 8139, 8156, 8186, 8190, 8197, 8215, 8251, 8252, 8253, 8256, 8269, 8270, 8271, 8273, 8309, 8317, 8352, 8356, 8368, 8394, 8425, 8432, 8468, 8512, 8546, 8547, 8559, 8577, 8599, 8600, 8638, 8639, 8640, 8643, 8665, 8691, 8699, 8701, 8702, 8710, 8719, 8728, 8730, 8732, 8733, 8735, 8738, 8745, 8760, 8786, 8798, 8802, 8819, 8833, 8854, 8868, 8869, 8870, 8889, 8891, 8892, 8895, 8902, 8903, 8936, 8953, 8958, 8962, 8963, 8968, 8979, 8991, 9064, 9079, 9204, 9207, 9208, 9209, 9232, 9268, 9293, 9321, 9328, 9329, 9335, 9358, 9367, 9369, 9377, 9386, 9399, 9448, 9482, 9489, 9496, 9497, 9523, 9601, 9602, 9618, 9623, 9630, 9641, 9671, 9692, 9710, 9718, 9751, 9772, 9808, 9844, 9861, 9895, 9909, 9918, 9921, 9939, 9940, 9968, 9982, 9985, 10008, 10023, 10024, 10074, 10075, 10077, 10078, 10080, 10082, 10088, 10100, 10198, 10202, 10212, 10213, 10218, 10255, 10275, 10289, 10296, 10304, 10338, 10354, 10366, 10382, 10396, 10397, 10398, 10412, 10424, 10444, 10584, 10587, 10588, 10597, 10598, 10599, 10600, 10621, 10623, 10644, 10678, 10717, 10718, 10720, 10722, 10745, 10789, 10834, 10842, 10855, 10859, 10869, 10918, 10923, 10939, 10948, 10960, 10983, 10986, 11005, 11025, 11029, 11030, 11031, 11037, 11039, 11040, 11049, 11054, 11055, 11070, 11093, 11095, 11106, 11124, 11144, 11148, 11186, 11199, 11200, 11205, 11216, 11224, 11227, 11228, 11229, 11232, 11235, 11236, 11237, 11243, 11244, 11247, 11248, 11249, 11250, 11253, 11254, 11274, 11292, 11294, 11329, 11336, 11342, 11358, 11363, 11413, 11418, 11420, 11421, 11425, 11427, 11437, 11448, 11462, 11484, 11546, 11587, 11590, 11661, 11666, 11707, 11735, 11747, 11752, 11768, 11771, 11774, 11782, 11817, 11819, 11859, 11872, 11875, 11898, 11940, 11978, 12056, 12059, 12063, 12064, 12073, 12074, 12076, 12079, 12083, 12087, 12134, 12180, 12187, 12201, 12210, 12213, 12320, 12365, 12391, 12396, 12410, 12412, 12416, 12444, 12448, 12453, 12457, 12476, 12500, 12504, 12539, 12540, 12572, 12613, 12624, 12640, 12654, 12687, 12690, 12692, 12706, 12713, 12714, 12718, 12721, 12737, 12794, 12798, 12801, 12802, 12803, 12808, 12814, 12817, 12832, 12833, 12834, 12838, 12841, 12852, 12863, 12881, 12893, 12897, 12898, 12899, 12900, 12903, 12926, 12932, 12944, 12950, 12962, 12970, 12977, 13042, 13064, 13120, 13138, 13150, 13199, 13214, 13230, 13268, 13360, 13367, 13379, 13386, 13389, 13395, 13396, 13397, 13400, 13401, 13404, 13408, 13409, 13413, 13446, 13465, 13494, 13527, 13528, 13553, 13609, 13621, 13695, 13697, 13700, 13731, 13734, 13743, 13757, 13779, 13796, 13799, 13802, 13807, 13810, 13852, 13868, 13894, 13917, 13922, 13953, 13954, 13962, 13971, 13982, 13988, 14082, 14104, 14111, 14124, 14140, 14141, 14142, 14143, 14144, 14206, 14208, 14235, 14236, 14237, 14253, 14289, 14311, 14374, 14375, 14387, 14390, 14391, 14394, 14482, 14498, 14518, 14524, 14536, 14580, 14588, 14595, 14609, 14614, 14615, 14655, 14664, 14669, 14677, 14680, 14705, 14707, 14708, 14823, 14824, 14825, 14843, 14992, 15012, 15023, 15039, 15097, 15123, 15134, 15215, 15216, 15275, 15319, 15347, 15350, 15390, 15391, 15392, 15396, 15400, 15402, 15410, 15418, 15437, 15439, 15440, 15449, 15463, 15465, 15466, 15472, 15487, 15498, 15499, 15511, 15519, 15544, 15581, 15582, 15588, 15592, 15633, 15684, 15685, 15704, 15705, 15712, 15718, 15772, 15776, 15790, 15804, 15807, 15828, 15831, 15834, 15841, 15842, 15845, 15898, 15923, 15943, 15946, 15949, 15950, 16017, 16022, 16023, 16024, 16031, 16061, 16072, 16084, 16121, 16124, 16193, 16200, 16217, 16240, 16249, 16250, 16251, 16256, 16291, 16292, 16373, 16406, 16434, 16436, 16442, 16452, 16473, 16474, 16476, 16481, 16482, 16485, 16490, 16491, 16504, 16536, 16571, 16574, 16587, 16590, 16594, 16631, 16656, 16665, 16666, 16668, 16686, 16715, 16758, 16761, 16762, 16764, 16765, 16767, 16778, 16865, 16868, 16873, 16874, 16909, 16968, 16972, 16974, 16975, 16976, 16977, 16978, 16979, 16986, 16987, 16988, 17015, 17016, 17022, 17051, 17071, 17092, 17097, 17120, 17121, 17124, 17125, 17129, 17137, 17143, 17147, 17164, 17166, 17167, 17168, 17174, 17190, 17191, 17193, 17196, 17251, 17253, 17256, 17261, 17262, 17264, 17265, 17267, 17268, 17271, 17283, 17288, 17289, 17305, 17307, 17326, 17333, 17341, 17381, 17395, 17396, 17408, 17413, 17426, 17433, 17442, 17444, 17446, 17449, 17451, 17455, 17456, 17471, 17493, 17527, 17544, 17554, 17556, 17566, 17612, 17625, 17628, 17631, 17634, 17656, 17716, 17749, 17753, 17756, 17762, 17781, 17783, 17805, 17817, 17819, 17839, 17851, 17853, 17931, 17946, 17954, 17960, 18034, 18036, 18047, 18064, 18068, 18073, 18074, 18086, 18090, 18104, 18112, 18121, 18123, 18211, 18230, 18260, 18262, 18263, 18300, 18308, 18320, 18366, 18367, 18403, 18453, 18475, 18476, 18477, 18479, 18486, 18518, 18535, 18577, 18578, 18607, 18623, 18629, 18632, 18645, 18652, 18655, 18667, 18679, 18681, 18694, 18735, 18771, 18785, 18788, 18793, 18795, 18796, 18798, 18816, 18850, 18854, 18861, 18889, 18903, 18927, 18954, 18990, 19010, 19015, 19018, 19036, 19039, 19047, 19059, 19060, 19077, 19100, 19161, 19183, 19207, 19212, 19224, 19236, 19238, 19240, 19258, 19261, 19320, 19357, 19380, 19455, 19528, 19645, 19662, 19674, 19677, 19678, 19679, 19695, 19696, 19713, 19722, 19726, 19727, 19732, 19735, 19738, 19747, 19750, 19751, 19752, 19753, 19767, 19772, 19778, 19829, 19843, 19850, 19855, 19860, 19877, 19963, 19966, 19995, 20013, 20030, 20048, 20055, 20058, 20060, 20070, 20088, 20110, 20131, 20133, 20134, 20137, 20140, 20169, 20173, 20227, 20235, 20247, 20269, 20283, 20328, 20363, 20376, 20399, 20420, 20446, 20462, 20471, 20501, 20508, 20517, 20543, 20545, 20563, 20570, 20584, 20586, 20595, 20596, 20608, 20622, 20627, 20637, 20653, 20665, 20667, 20699, 20701, 20720, 20721, 20750, 20779, 20793, 20819, 20822, 20824, 20830, 20835, 20841, 20884, 20907, 20924, 20947, 20950, 20978, 20981, 20983, 21014, 21019, 21028, 21044, 21045, 21047, 21048, 21073, 21092, 21147, 21155, 21156, 21157, 21171, 21179, 21186, 21195, 21196, 21209, 21211, 21215, 21228, 21237, 21238, 21240, 21242, 21245, 21248, 21254, 21255, 21257, 21266, 21269, 21271, 21284, 21288, 21289, 21327, 21329, 21391, 21439, 21447, 21469, 21472, 21485, 21486, 21490, 21580, 21642, 21643, 21645, 21652, 21665, 21678, 21699, 21763, 21766, 21768, 21769, 21770, 21793, 21797, 21843, 21846, 21864, 21870, 21877, 21923, 21935, 21968, 22009, 22017, 22031, 22059, 22062, 22073, 22077, 22090, 22111, 22189, 22194, 22215, 22220, 22273, 22277, 22302, 22346, 22351, 22352, 22353, 22376, 22427, 22431, 22454, 22460, 22461, 22471, 22497, 22525, 22533, 22565, 22570, 22594, 22605, 22737, 22759, 22777, 22778, 22793, 22795, 22796, 22803, 22811, 22834, 22872, 22897, 22908, 22917, 22933, 22954, 22956, 22961, 22992, 22996, 23007, 23025, 23054, 23076, 23087, 23120, 23122, 23136, 23149, 23163, 23209, 23213, 23215, 23216, 23227, 23243, 23253, 23262, 23263, 23264, 23270, 23311, 23315, 23319, 23320, 23322, 23323, 23341, 23402, 23421, 23425, 23440, 23444, 23453, 23456, 23463, 23467, 23484, 23485, 23487, 23493, 23499, 23505, 23520, 23536, 23554, 23560, 23561, 23562, 23563, 23564, 23565, 23566, 23568, 23572, 23598, 23615, 23617, 23631, 23639, 23643, 23687, 23690, 23699, 23721, 23729, 23731, 23740, 23741, 23745, 23756, 23757, 23759, 23761, 23773, 23786, 23813, 23827, 23829, 23834, 23839, 23851, 23854, 23878, 23881, 23884, 23885, 23899, 23938, 23939, 23987, 23992, 24022, 24044, 24046, 24047, 24057, 24061, 24062, 24138, 24144, 24238, 24247, 24270, 24271, 24273, 24290, 24297, 24322, 24323, 24336, 24339, 24355, 24359, 24373, 24375, 24376, 24449, 24474, 24480, 24511, 24536, 24538, 24542, 24547, 24557, 24584, 24616, 24638, 24641, 24678, 24716, 24720, 24721, 24725, 24747, 24759, 24784, 24808, 24836, 24896, 24912, 24916, 24925, 24926, 25001, 25010, 25029, 25036, 25068, 25089, 25091, 25104, 25123, 25135, 25157, 25166, 25187, 25194, 25198, 25225, 25238, 25243, 25244, 25245, 25251, 25252, 25254, 25304, 25315, 25316, 25317, 25318, 25322, 25329, 25342, 25349, 25354, 25372, 25412, 25413, 25428, 25438, 25480, 25493, 25513, 25548, 25554, 25558, 25560, 25564, 25565, 25566, 25569, 25571, 25600, 25606, 25608, 25622, 25629, 25638, 25643, 25648, 25652, 25672, 25702, 25721, 25736, 25775, 25782, 25788, 25798, 25804, 25845, 25847, 25863, 25868, 25872, 25882, 25886, 25894, 25935, 25945, 25965, 25966, 25967, 25968, 25969, 26010, 26071, 26087, 26102, 26104, 26119, 26160, 26174, 26220, 26230, 26235, 26269, 26298, 26302, 26303, 26306, 26309, 26348, 26436, 26441, 26463, 26476, 26497, 26567, 26572, 26577, 26609, 26610, 26680, 26729, 26734, 26735, 26737, 26741, 26760, 26854, 26857, 26861, 26901, 26917, 26919, 26921, 26928, 26954, 26977, 27001, 27048, 27065, 27075, 27078, 27081, 27103, 27156, 27160, 27161, 27164, 27168, 27175, 27180, 27183, 27198, 27199, 27203, 27216, 27217, 27218, 27255, 27268, 27269, 27277, 27285, 27289, 27308, 27341, 27382, 27395, 27422, 27427, 27428, 27429, 27478, 27481, 27511, 27521, 27545, 27548, 27550, 27594, 27653, 28159, 28172, 28186, 28189, 28194, 28233, 28241, 28315, 28329, 28330, 28339, 28355, 28370, 28380, 28389, 28394, 28406, 28420, 28427, 28437, 28450, 28457, 28471, 28486, 28509, 28512, 28514, 28519, 28522, 28528, 28536, 28539, 28581, 28587, 28598, 28663, 28666, 28681, 28689, 28690, 28721, 28733, 28734, 28764, 28766, 28772, 28815, 28832, 28885, 28890, 28908, 28938, 28940, 28944, 28946, 28948, 28951, 28959, 29025, 29044, 29046, 29061, 29103, 29108, 29127, 29131, 29132, 29154, 29156, 29169, 29241, 29247, 29257, 29260, 29264, 29275, 29316, 29345, 29390, 29450, 29478, 29611, 29682, 29683, 29685, 29686, 29687, 29688, 29703, 29730, 29761, 29778, 29805, 29828, 29830, 29871, 29895, 29896, 29898, 29901, 29923, 29958, 29961, 29978, 29988, 29992, 30009, 30020, 30048, 30057, 30101, 30116, 30144, 30152, 30154, 30155, 30170, 30212, 30239, 30241, 30243, 30258, 30266, 30274, 30277, 30318, 30327, 30328, 30343, 30365, 30374, 30393, 30407, 30410, 30411, 30420, 30433, 30434, 30465, 30486, 30488, 30489, 30505, 30525, 30542, 30548, 30549, 30555, 30557, 30563, 30565, 30568, 30581, 30606, 30622, 30647, 30659, 30683, 30685, 30697, 30702, 30703, 30706, 30707, 30713, 30724, 30743, 30783, 30788, 30858, 30929, 30937, 30982, 30984, 30985, 30987, 31008, 31010, 31015, 31058, 31059, 31078, 31098, 31135, 31146, 31178, 31182, 31184, 31194, 31224, 31225, 31227, 31232, 31233, 31236, 31259, 31278, 31281, 31282, 31283, 31286, 31295, 31303, 31348, 31355, 31368, 31407, 31410, 31411, 31416, 31419, 31452, 31471, 31472, 31474, 31478, 31491, 31495, 31508, 31514, 31522, 31529, 31534, 31537, 31538, 31541, 31598, 31624, 31655, 31665, 31693, 31697, 31703, 31710, 31711, 31714, 31716, 31717, 31722, 31744, 31757, 31775, 31787, 31836, 31838, 31848, 31862, 31929, 31930, 31937, 31948, 31951, 32002, 32010, 32063, 32123, 32127, 32139, 32141, 32143, 32147, 32148, 32150, 32151, 32183, 32185, 32202, 32203, 32204, 32206, 32229, 32246, 32261, 32272, 32281, 32296, 32347, 32355, 32383, 32385, 32388, 32432, 32502, 32530, 32534, 32535, 32545, 32571, 32581, 32587, 32588, 32625, 32647, 32654, 32656, 32663, 32682, 32686, 32687, 32698, 32700, 32714, 32734, 32786, 32793, 32816, 32819, 32824, 32825, 32881, 32909, 32947, 32948, 32963, 32965, 32967, 32975, 32981, 33045, 33070, 33072, 33083, 33087, 33090, 33119, 33123, 33125, 33126, 33127, 33128, 33172, 33202, 33222, 33265, 33266, 33268, 33274, 33284, 33311, 33323, 33342, 33345, 33368, 33369, 33400, 33461, 33491, 33506, 33511, 33512, 33514, 33525, 33543, 33583, 33589, 33590, 33591, 33614, 33632, 33634, 33656, 33685, 33710, 33711, 33714, 33718, 33726, 33738, 33771, 33772, 33774, 33784, 33785, 33792, 33794, 33833, 33834, 33836, 33837, 33839, 33840, 33842, 33844, 33859, 33878, 33893, 33908, 34088, 34115, 34137, 34142, 34155, 34172, 34176, 34192, 34196, 34203, 34222, 34223, 34224, 34231, 34260, 34269, 34278, 34335, 34336, 34337, 34338, 34339, 34341, 34342, 34346, 34354, 34356, 34357, 34358, 34359, 34360, 34361, 34362, 34368, 34372, 34375, 34392, 34404, 34406, 34413, 34415, 34419, 34428, 34429, 34432, 34433, 34439, 34442, 34450, 34451, 34488, 34516, 34558, 34618, 34637, 34669, 34674, 34676, 34678, 34688, 34689, 34692, 34717, 34743, 34745, 34773, 34791, 34792, 34795, 34804, 34816, 34820, 34834, 34837, 34846, 34863, 34870, 34895, 34908, 34944, 34956, 34958, 34959, 34965, 34968, 34990, 35008, 35009, 35010, 35051, 35052, 35065, 35069, 35071, 35072, 35073, 35074, 35075, 35076, 35078, 35097, 35107, 35109, 35112, 35114, 35115, 35116, 35120, 35126, 35128, 35155, 35159, 35165, 35172, 35187, 35189, 35209, 35210, 35233, 35234, 35235, 35236, 35237, 35248, 35255, 35256, 35267, 35269, 35284, 35292, 35299, 35303, 35315, 35338, 35343, 35345, 35347, 35370, 35378, 35381, 35387, 35421, 35424, 35426, 35428, 35431, 35432, 35466, 35493, 35494, 35495, 35496, 35497, 35512, 35514, 35526, 35535, 35578, 35586, 35609, 35635, 35673, 35680, 35683, 35730, 35751, 35757, 35783, 35831, 35838, 35843, 35863, 35870, 35888, 35890, 35908, 35909, 35910, 35912, 35914, 35916, 35939, 35950, 35969, 35977, 35978, 35986, 35999, 36002, 36017, 36028, 36037, 36039, 36060, 36063, 36120, 36143, 36149, 36156, 36158, 36168, 36264, 36268, 36273, 36287, 36292, 36293, 36294, 36295, 36324, 36325, 36328, 36330, 36334, 36339, 36340, 36347, 36386, 36398, 36399, 36413, 36449, 36471, 36491, 36510, 36518, 36564, 36566, 36573, 36574, 36584, 36596, 36599, 36607, 36659, 36664, 36667, 36697, 36733, 36741, 36761, 36772, 36799, 36816, 36838, 36860, 36862, 36907, 36912, 36917, 36946, 36960, 36962, 36963, 36965, 36968, 36969, 36972, 36975, 36982, 36997, 37034, 37037, 37043, 37086, 37093, 37094, 37112, 37145, 37152, 37167, 37173, 37180, 37181, 37186, 37192, 37200, 37207, 37227, 37228, 37235, 37249, 37269, 37270, 37274, 37279, 37319, 37349, 37359, 37396, 37417, 37421, 37439, 37497, 37529, 37536, 37543, 37636, 37637, 37676, 37682, 37700, 37709, 37721, 37733, 37737, 37744, 37747, 37749, 37840, 37878, 37888, 37890, 37892, 37897, 37920, 37931, 37940, 37953, 37983, 37993, 37998, 38007, 38008, 38018, 38066, 38077, 38115, 38120, 38121, 38126, 38145, 38183, 38194, 38253, 38281, 38297, 38300, 38301, 38321, 38325, 38342, 38345, 38362, 38377, 38390, 38394, 38434, 38460, 38473, 38507, 38521, 38534, 38565, 38578, 38585, 38588, 38599, 38602, 38604, 38635, 38645, 38662, 38684, 38725, 38753, 38766, 38786, 38788, 38804, 38851, 38875, 38889, 38906, 38920, 38922, 38935, 38941, 38942, 38950, 38964, 38969, 39009, 39073, 39130, 39235, 39250, 39269, 39278, 39306, 39332, 39353, 39383, 39405, 39411, 39428, 39432, 39465, 39475, 39476, 39489, 39504, 39507, 39508, 39534, 39538, 39545, 39551, 39558, 39561, 39567, 39587, 39609, 39634, 39635, 39670, 39739, 39744, 39765, 39778, 39787, 39794, 39813, 39836, 39844, 39857, 39877, 39903, 39925, 39927, 39938, 39957, 39980, 40002, 40014, 40017, 40024, 40025, 40034, 40044, 40056, 40091, 40156, 40160, 40175, 40229, 40231, 40235, 40247, 40304, 40324, 40383, 40457, 40483, 40492, 40509, 40515, 40559, 40560, 40579, 40580, 40595, 40597, 40609, 40631, 40678, 40680, 40719, 40721, 40723, 40727, 40728, 40729, 40730, 40738, 40745, 40768, 40771, 40779, 40782, 40808, 40812, 40814, 40815, 40821, 40869, 40870, 40872, 40986, 40988, 40991, 40994, 41026, 41028, 41055, 41090, 41102, 41108, 41121, 41125, 41126, 41135, 41138, 41146, 41157, 41212, 41225, 41247, 41249, 41250, 41252, 41253, 41255, 41258, 41262, 41276, 41313, 41329, 41335, 41354, 41356, 41358, 41406, 41455, 41475, 41476, 41493, 41506, 41508, 41514, 41533, 41546, 41567, 41593, 41608, 41609, 41611, 41612, 41624, 41625, 41630, 41632, 41635, 41642, 41645, 41652, 41664, 41674, 41683, 41687, 41718, 41727, 41729, 41736, 41753, 41804, 41826, 41839, 41843, 41851, 41852, 41853, 41855, 41866, 41894, 41938, 41961, 41976, 41999, 42012, 42034, 42147, 42152, 42156, 42159, 42162, 42163, 42169, 42219, 42249, 42276, 42277, 42280, 42296, 42303, 42312, 42313, 42316, 42352, 42376, 42390, 42400, 42404, 42406, 42412, 42436, 42443, 42480, 42530, 42579, 42606, 42615, 42681, 42715, 42719, 42741, 42760, 42836, 42838, 42857, 42888, 42904, 42928, 42961, 42963, 42975, 42995, 43027, 43050, 43063, 43087, 43102, 43110, 43141, 43167, 43169, 43175, 43317, 43318, 43331, 43349, 43378, 43483, 43532, 43541, 43545, 43552, 43554, 43557, 43576, 43600, 43618, 43633, 43636, 43708, 43734, 43765, 43769, 43780, 43826, 43827, 43872, 43880, 43895, 43926, 43932, 43949, 43957, 43960, 43962, 43963, 43965, 43986, 43994, 44014, 44031, 44032, 44048, 44073, 44087, 44095, 44097, 44178, 44190, 44191, 44192, 44193, 44234, 44238, 44257, 44263, 44271, 44327, 44348, 44357, 44360, 44362, 44367, 44388, 44397, 44399, 44403, 44405, 44408, 44461, 44476, 44483, 44501, 44508, 44529, 44531, 44540, 44541, 44558, 44569, 44601, 44630, 44631, 44663, 44679, 44720, 44724, 44749, 44765, 44805, 44812, 44814, 44829, 44905, 44994, 45006, 45026, 45029, 45091, 45100, 45101, 45114, 45157, 45224, 45226, 45237, 45249, 45279, 45285, 45303, 45321, 45345, 45354, 45366, 45382, 45389, 45423, 45433, 45440, 45452, 45453, 45478, 45480, 45481, 45491, 45496, 45509, 45510, 45519, 45524, 45525, 45526, 45529, 45530, 45531, 45533, 45534, 45549, 45551, 45559, 45587, 45627, 45633, 45645, 45657, 45717, 45741, 45753, 45756, 45762, 45763, 45777, 45789, 45819, 45827, 45855, 45860, 45861, 45863, 45872, 45915, 45917, 45918, 45942, 45943, 45945, 45971, 45990, 45992, 46007, 46012, 46013, 46015, 46053, 46054, 46055, 46056, 46060, 46061, 46063, 46064, 46066, 46084, 46102, 46104, 46111, 46169, 46172, 46198, 46201, 46207, 46231, 46235, 46262, 46264, 46287, 46303, 46305, 46312, 46325, 46356, 46364, 46370, 46371, 46372, 46375, 46381, 46383, 46385, 46388, 46389, 46397, 46453, 46467, 46497, 46510, 46511, 46517, 46533, 46534, 46535, 46539, 46540, 46550, 46614, 46638, 46669, 46671, 46675, 46694, 46699, 46703, 46709, 46711, 46721, 46749, 46757, 46783, 46793, 46920, 46922, 46955, 46986, 46987, 46989, 46990, 47000, 47006, 47013, 47023, 47028, 47035, 47052, 47067, 47077, 47078, 47079, 47083, 47086, 47087, 47088, 47089, 47090, 47092, 47094, 47108, 47112, 47117, 47121, 47152, 47350, 47352, 47390, 47401, 47418, 47421, 47422, 47424, 47471, 47512, 47514, 47541, 47557, 47563, 47564, 47566, 47583, 47584, 47585, 47595, 47597, 47599, 47618, 47645, 47646, 47651, 47653, 47656, 47657, 47660, 47667, 47948, 47951, 47952, 47954, 47957, 47959, 47960, 47962, 47963, 48027, 48044, 48059, 48129, 48211, 48297, 48298, 48302, 48337, 48359, 48367, 48369, 48370, 48413, 48435, 48438, 48465, 48478, 48482, 48492, 48525, 48530, 48537, 48543, 48632, 48635, 48637, 48646, 48665, 48666, 48713, 48726, 48743, 48750, 48754, 48756, 48850, 48859, 48863, 48867, 48875, 48906, 48974, 48976, 48981, 49110, 49112, 49114, 49143, 49144, 49145, 49153, 49228, 49230, 49232, 49279, 49294, 49303, 49324, 49537, 49571, 49592, 49631, 49633, 49634, 49635, 49638, 49662, 49677, 49679, 49717, 49718, 49776, 49787, 49799, 49800, 49802, 49821, 49846, 49885, 49912, 49928, 49937, 49940, 49954, 49981, 50029, 50045, 50058, 50079, 50080, 50082, 50085, 50096, 50097, 50105, 50120, 50133, 50157, 50181, 50183, 50184, 50196, 50220, 50238, 50281, 50314, 50317, 50319, 50324, 50327, 50385, 50395, 50397, 50415, 50509, 50514, 50517, 50522, 50524, 50531, 50534, 50547, 50549, 50575, 50585, 50592, 50596, 50597, 50599, 50602, 50624, 50626, 50640, 50650, 50695, 50701, 50704, 50706, 50721, 50723, 50769, 50773, 50775, 50793, 50795, 50797, 50799, 50805, 50837, 50846, 50847, 50871, 50873, 50881, 50882, 50883, 50886, 50888, 50890, 50902, 50923, 50929, 50934, 50938, 50949, 50960, 50973, 50976, 50978, 50996, 51013, 51022, 51044, 51047, 51048, 51059, 51144, 51148, 51179, 51192, 51211, 51218, 51219, 51224, 51234, 51246, 51247, 51378, 51379, 51381, 51382, 51446, 51447, 51448, 51452, 51453, 51458, 51479, 51523, 51568, 51593, 51611, 51618, 51627, 51645, 51658, 51663, 51665, 51666, 51667, 51668, 51670, 51673, 51675, 51688, 51738, 51748, 51773, 51776, 51785, 51809, 51823, 51859, 51861, 51862, 51886, 51963, 52007, 52022, 52039, 52045, 52050, 52056, 52543, 52564, 52565, 52566, 52567, 52568, 52571, 52583, 52585, 52592, 52593, 52595, 52610, 52624, 52628, 52631, 52637, 52703, 52723, 52724, 52738, 52741, 52742, 52744, 52745, 52748, 52750, 52757, 52758, 52760, 52765, 52766, 52769, 52772, 52779, 52785, 52799, 52836, 52840, 52882, 52914, 52955, 52973, 52986, 52990, 53006, 53063, 53119, 53123, 53161, 53187, 53198, 53208, 53230, 53238, 53265, 53275, 53321, 53322, 53323, 53324, 53356, 53373, 53379, 53391, 53400, 53436, 53469, 53471, 53472, 53492, 53497, 53504, 53582, 53611, 53626, 53646, 53652, 53680, 53682, 53709, 53714, 53743, 53773, 53777, 53796, 53871, 53874, 53879, 53881, 53888, 53890, 53891, 53892, 53893, 53894, 53921, 53923, 53927, 53937, 53971, 53972, 53995, 54006, 54017, 54019, 54020, 54022, 54023, 54026, 54028, 54031, 54044, 54050, 54053, 54056, 54057, 54131, 54136, 54202, 54203, 54205, 54214, 54216, 54223, 54247, 54252, 54255, 54293, 54313, 54334, 54347, 54349, 54377, 54383, 54395, 54425, 54475, 54524, 54557, 54563, 54568, 54570, 54571, 54572, 54579, 54580, 54619, 54627, 54647, 54662, 54668, 54674, 54678, 54719, 54773, 54813, 54907, 54915, 54924, 54927, 54928, 54934, 54935, 54936, 54952, 54955, 54963, 54982, 54987, 54989, 54997, 55001, 55004, 55016, 55023, 55033, 55052, 55056, 55113, 55149, 55151, 55154, 55169, 55185, 55187, 55202, 55218, 55222, 55225, 55227, 55254, 55255, 55270, 55276, 55287, 55289, 55336, 55337, 55339, 55397, 55403, 55410, 55442, 55451, 55513, 55549, 55550, 55566, 55573, 55587, 55604, 55610, 55613, 55618, 55646, 55651, 55656, 55667, 55672, 55674, 55677, 55682, 55683, 55692, 55693, 55711, 55797, 55812, 55823, 55824, 55825, 55850, 55858, 55864, 55907, 55924, 55955, 55957, 55958, 55966, 55969, 55971, 55978, 55991, 55992, 56004, 56005, 56006, 56007, 56019, 56023, 56031, 56081, 56100, 56105, 56160, 56177, 56189, 56199, 56252, 56254, 56266, 56285, 56369, 56402, 56454, 56475, 56479, 56481, 56522, 56530, 56536, 56556, 56598, 56602, 56607, 56619, 56620, 56621, 56626, 56627, 56632, 56662, 56684, 56689, 56691, 56692, 56702, 56703, 56705, 56706, 56793, 56794, 56802, 56831, 56872, 56873, 56924, 56944, 56963, 56990, 56998, 57013, 57035, 57053, 57055, 57062, 57066, 57121, 57162, 57167, 57268, 57283, 57298, 57325, 57328, 57359, 57363, 57390, 57403, 57416, 57419, 57471, 57475, 57481, 57482, 57500, 57514, 57523, 57529, 57535, 57536, 57590, 57598, 57621, 57640, 57645, 57662, 57674, 57675, 57720, 57722, 57739, 57751, 57769, 57781, 57795, 57800, 57823, 57851, 57859, 57861, 57867, 57930, 57934, 57937, 57949, 57951, 57954, 58015, 58039, 58040, 58041, 58043, 58045, 58066, 58073, 58078, 58093, 58103, 58104, 58105, 58106, 58146, 58161, 58172, 58195, 58223, 58232, 58286, 58287, 58358, 58362, 58398, 58419, 58446, 58453, 58483, 58512, 58527, 58590, 58597, 58646, 58721, 58749, 58751, 58813, 58814, 58818, 58826, 58848, 58856, 58872, 58879, 58882, 58890, 58893, 58894, 58895, 58905, 58945, 58947, 58975, 58977, 58979, 58980, 58989, 58990, 59016, 59039, 59062, 59066, 59079, 59087, 59111, 59144, 59184, 59196, 59203, 59211, 59225, 59227, 59266, 59273, 59278, 59282, 59287, 59311, 59315, 59326, 59338, 59342, 59350, 59351, 59355, 59358, 59381, 59409, 59414, 59430, 59449, 59469, 59490, 59494, 59500, 59501, 59503, 59504, 59505, 59507, 59509, 59511, 59527, 59553, 59558, 59559, 59569, 59570, 59602, 59605, 59622, 59623, 59626, 59641, 59677, 59682, 59702, 59708, 59717, 59720, 59726, 59750, 59776, 59791, 59794, 59865, 59869, 59871, 59875, 59914, 59932, 60036, 60041, 60044, 60046, 60058, 60100, 60121, 60158, 60166, 60180, 60183, 60184, 60186, 60187, 60188, 60193, 60197, 60201, 60238, 60239, 60241, 60242, 60243, 60250, 60266, 60267, 60300, 60301, 60306, 60356, 60365, 60366, 60367, 60451, 60483, 60487, 60496, 60498, 60499, 60505, 60510, 60518, 60597, 60614, 60615, 60628, 60633, 60634, 60646, 60649, 60652, 60653, 60655, 60659, 60660, 60665, 60668, 60699, 60701, 60759, 60774, 60777, 60778, 60795, 60796, 60835, 60844, 60850, 60855, 60863, 60866, 60869, 60872, 60914, 60929, 60930, 60931, 60932, 60935, 60958, 60961, 60963, 60964, 60975, 61037, 61073, 61103, 61105, 61137, 61143, 61145, 61155, 61173, 61177, 61179, 61183, 61216, 61262, 61289, 61293, 61303, 61306, 61310, 61312, 61319, 61332, 61359, 61367, 61379, 61385, 61420, 61429, 61449, 61456, 61479, 61500, 61516, 61524, 61526, 61571, 61572, 61578, 61583, 61589, 61596, 61612, 61614, 61642, 61648, 61660, 61671, 61673, 61700, 61701, 61705, 61732, 61753, 61775, 61777, 61780, 61818, 61950, 61990, 61992, 62027, 62051, 62061, 62076, 62107, 62113, 62135, 62140, 62145, 62164, 62174, 62178, 62180, 62181, 62184, 62202, 62204, 62208, 62209, 62211, 62217, 62219, 62229, 62241, 62247, 62266, 62382, 62475, 62504, 62519, 62568, 62581, 62597, 62628, 62639, 62672, 62692, 62694, 62714, 62728, 62729, 62731, 62734, 62735, 62738, 62741, 62745, 62803, 62806, 62808, 62830, 62856, 62863, 62887, 62892, 62961, 62984, 62989, 62996, 62997, 63015, 63021, 63024, 63030, 63033, 63036, 63057, 63058, 63085, 63113, 63121, 63201, 63203, 63205, 63212, 63257, 63271, 63289, 63295, 63303, 63360, 63364, 63420, 63448, 63455, 63473, 63504, 63506, 63523, 63535, 63536, 63557, 63573, 63577, 63592, 63594, 63595, 63597, 63600, 63608, 63624, 63642, 63662, 63672, 63718, 63719, 63721, 63723, 63734, 63755, 63756, 63781, 63782, 63784, 63802, 63807, 63818, 63825, 63826, 63876, 63878, 63880, 63882, 63946, 63963, 63975, 64015, 64021, 64023, 64024, 64072, 64135, 64141, 64142, 64160, 64164, 64168, 64175, 64186, 64190, 64225, 64242, 64246, 64249, 64270, 64288, 64313, 64314, 64318, 64359, 64360, 64377, 64389, 64392, 64397, 64403, 64429, 64436, 64469, 64472, 64487, 64490, 64524, 64537, 64562, 64610, 64612, 64630, 64672, 64686, 64694, 64702, 64711, 64716, 64729, 64750, 64752, 64794, 64807, 64835, 64851, 64853, 64884, 64969, 64988, 65004, 65008, 65012, 65044, 65046, 65069, 65077, 65081, 65099, 65134, 65144, 65145, 65185, 65205, 65207, 65208, 65213, 65218, 65220, 65221, 65222, 65228, 65251, 65269, 65272, 65300, 65319, 65325, 65327, 65331, 65332, 65345, 65361, 65365, 65373, 65378, 65383, 65393, 65399, 65402, 65405, 65410, 65429, 65431, 65447, 65448, 65490, 65555, 65612, 65657, 65660, 65665, 65667, 65676, 65683, 65700, 65712, 65748, 65750, 65763, 65775, 65805, 65815, 65816, 65817, 65819, 65852, 65875, 65957, 65967, 65973, 65977, 65978, 66065, 66076, 66089, 66100, 66108, 66119, 66128, 66177, 66195, 66201, 66202, 66218, 66221, 66235, 66237, 66246, 66250, 66254, 66266, 66289, 66291, 66316, 66348, 66351, 66356, 66358, 66370, 66374, 66383, 66385, 66387, 66390, 66398, 66422, 66423, 66429, 66481, 66507, 66508, 66530, 66543, 66656, 66658, 66677, 66678, 66679, 66680, 66683, 66695, 66697, 66698, 66700, 66701, 66714, 66720, 66744, 66777, 66786, 66787, 66798, 66808, 66846, 66849, 66852, 66854, 66877, 66879, 66884, 66886, 66905, 66913, 66915, 66920, 66924, 66926, 66944, 66948, 66972, 67041, 67066, 67068, 67069, 67073, 67082, 67095, 67102, 67105, 67108, 67124, 67152, 67154, 67155, 67156, 67164, 67171, 67212, 67222, 67242, 67285, 67287, 67294, 67295, 67308, 67319, 67446, 67456, 67467, 67474, 67479, 67540, 67541, 67543, 67545, 67547, 67548, 67552, 67562, 67563, 67570, 67603, 67604, 67607, 67608, 67626, 67639, 67647, 67649, 67651, 67659, 67699, 67713, 67733, 67740, 67744, 67746, 67748, 67772, 67817, 67872, 67889, 67890, 67894, 67901, 67904, 67905, 67907, 67933, 67952, 67957, 67959, 67970, 67975, 67979, 67980, 67981, 67982, 67983, 67999, 68012, 68020, 68056, 68057, 68060, 68061, 68062, 68064, 68068, 68069, 68085, 68091, 68095, 68098, 68116, 68126, 68149, 68195, 68198, 68201, 68203, 68205, 68231, 68236, 68258, 68289, 68302, 68335, 68352, 68353, 68377, 68403, 68405, 68407, 68420, 68429, 68432, 68444, 68488, 68514, 68520, 68531, 68537, 68538, 68545, 68548, 68550, 68565, 68585, 68593, 68605, 68609, 68623, 68633, 68649, 68661, 68665, 68668, 68684, 68687, 68689, 68690, 68691, 68700, 68721, 68722, 68739, 68748, 68761, 68766, 68789, 68805, 68828, 68843, 68849, 68851, 68910, 68919, 68927, 68930, 68938, 68956, 69001, 69017, 69033, 69034, 69036, 69052, 69055, 69060, 69113, 69118, 69138, 69141, 69142, 69144, 69185, 69190, 69204, 69213, 69219, 69231, 69246, 69268, 69277, 69278, 69280, 69282, 69283, 69293, 69299, 69313, 69325, 69340, 69341, 69352, 69355, 69356, 69375, 69383, 69395, 69396, 69407, 69408, 69410, 69411, 69425, 69426, 69449, 69456, 69532, 69536, 69538, 69555, 69559, 69582, 69606, 69624, 69647, 69654, 69660, 69664, 69669, 69677, 69682, 69689, 69695, 69718, 69723, 69750, 69762, 69807, 69812, 69826, 69836, 69840, 69843, 69845, 69846, 69850, 69865, 69902, 69904, 69907, 69910, 69923, 69952, 69979, 69986, 70005, 70006, 70023, 70041, 70050, 70085, 70086, 70087, 70185, 70186, 70201, 70209, 70215, 70219, 70244, 70260, 70318, 70328, 70357, 70368, 70383, 70384, 70385, 70391, 70403, 70406, 70410, 70441, 70526, 70554, 70558, 70571, 70597, 70605, 70606, 70639, 70699, 70735, 70745, 70758, 70785, 70789, 70804, 70809, 70814, 70822, 70824, 70910, 70934, 70974, 70978, 70980, 70998, 70999, 71002, 71005, 71006, 71018, 71021, 71023, 71031, 71072, 71108, 71126, 71128, 71175, 71203, 71238, 71240, 71241, 71243, 71244, 71247, 71248, 71265, 71268, 71283, 71287, 71300, 71307, 71308, 71314, 71321, 71331, 71332, 71334, 71348, 71365, 71366, 71419, 71427, 71447, 71448, 71451, 71469, 71496, 71506, 71509, 71514, 71521, 71524, 71554, 71568, 71573, 71574, 71580, 71584, 71592, 71638, 71676, 71707, 71712, 71719, 71783, 71784, 71799, 71800, 71833, 71840, 71845, 71846, 71847, 71848, 71920, 71922, 71930, 71933, 71953, 71977, 71979, 71980, 71989, 71996, 72005, 72014, 72048, 72050, 72095, 72138, 72160, 72167, 72180, 72207, 72232, 72234, 72242, 72253, 72311, 72316, 72319, 72340, 72358, 72383, 72386, 72388, 72394, 72396, 72401, 72402, 72455, 72466, 72507, 72526, 72563, 72594, 72608, 72629, 72646, 72647, 72649, 72650, 72654, 72657, 72660, 72719, 72730, 72733, 72743, 72748, 72750, 72753, 72761, 72766, 72775, 72801, 72804, 72807, 72818, 72820, 72851, 72856, 72880, 72890, 72960, 72966, 72970, 73034, 73036, 73110, 73121, 73130, 73138, 73142, 73144, 73160, 73166, 73174, 73177, 73190, 73198, 73208, 73216, 73219, 73250, 73259, 73292, 73303, 73304, 73306, 73307, 73323, 73324, 73325, 73326, 73339, 73367, 73368, 73370, 73386, 73387, 73408, 73424, 73427, 73517, 73521, 73529, 73548, 73550, 73556, 73559, 73560, 73561, 73562, 73563, 73576, 73584, 73585, 73596, 73638, 73642, 73646, 73649, 73650, 73654, 73667, 73680, 73688, 73707, 73728, 73774, 73796, 73811, 73832, 73838, 73854, 73870, 73871, 73874, 73875, 73876, 73879, 73880, 73884, 73885, 73886, 73898, 73907, 73910, 73925, 73964, 73983, 74000, 74003, 74007, 74021, 74025, 74026, 74030, 74089, 74116, 74176, 74187, 74190, 74191, 74197, 74211, 74213, 74225, 74226, 74227, 74229, 74230, 74231, 74322, 74330, 74347, 74364, 74394, 74405, 74410, 74414, 74418, 74420, 74476, 74543, 74555, 74558, 74575, 74585, 74587, 74639, 74677, 74678, 74741, 74771, 74772, 74773, 74775, 74776, 74778, 74782, 74796, 74820, 74842, 74880, 74885, 74900, 74928, 74931, 74934, 74944, 74957, 74960, 74965, 74966, 74971, 74989, 74999, 75025, 75027, 75046, 75047, 75056, 75066, 75089, 75091, 75157, 75170, 75194, 75236, 75272, 75276, 75295, 75301, 75302, 75304, 75306, 75307, 75308, 75311, 75320, 75332, 75337, 75372, 75378, 75399, 75409, 75425, 75429, 75442, 75465, 75539, 75545, 75548, 75556, 75557, 75558, 75564, 75569, 75572, 75584, 75600, 75627, 75714, 75729, 75736, 75748, 75763, 75779, 75788, 75796, 75806, 75807, 75811, 75839, 75843, 75845, 75855, 75856, 75857, 75859, 75864, 75867, 75869, 75884, 75887, 75904, 75906, 75910, 75911, 75919, 75924, 75961, 76049, 76092, 76114, 76132, 76135, 76144, 76161, 76178, 76182, 76212, 76213, 76217, 76218, 76219, 76248, 76249, 76254, 76257, 76259, 76266, 76318, 76324, 76331, 76332, 76338, 76355, 76407, 76446, 76448, 76472, 76501, 76530, 76544, 76549, 76551, 76552, 76559, 76576, 76581, 76582, 76631, 76635, 76639, 76640, 76641, 76651, 76665, 76674, 76678, 76693, 76712, 76718, 76721, 76723, 76726, 76733, 76736, 76752, 76801, 76804, 76807, 76815, 76821, 76824, 76826, 76913, 76932, 76940, 76943, 76972, 77002, 77048, 77049, 77063, 77065, 77067, 77087, 77240, 77242, 77247, 77248, 77304, 77343, 77386, 77388, 77416, 77421, 77438, 77440, 77451, 77499, 77539, 77567, 77578, 77585, 77593, 77594, 77606, 77624, 77625, 77627, 77675, 77686, 77697, 77711, 77712, 77724, 77739, 77756, 77760, 77775, 77776, 77787, 77793, 77795, 77801, 77802, 77803, 77807, 77808, 77811, 77840, 77877, 77897, 77908, 77917, 77937, 77942, 77951, 77972, 77994, 78010, 78027, 78030, 78048, 78049, 78062, 78070, 78074, 78079, 78126, 78141, 78144, 78178, 78199, 78234, 78246, 78247, 78249, 78251, 78253, 78254, 78262, 78263, 78292, 78295, 78300, 78399, 78400, 78405, 78418, 78419, 78427, 78430, 78446, 78460, 78479, 78484, 78487, 78489, 78502, 78521, 78534, 78552, 78569, 78578, 78587, 78588, 78595, 78606, 78619, 78630, 78651, 78669, 78691, 78703, 78739, 78753, 78769, 78774, 78776, 78794, 78806, 78814, 78816, 78817, 78818, 78819, 78830, 78832, 78835, 78838, 78843, 78845, 78847, 78886, 78904, 78920, 78930, 78934, 78936, 78938, 78940, 79002, 79024, 79028, 79033, 79070, 79079, 79099, 79105, 79111, 79120, 79144, 79214, 79219, 79255, 79260, 79269, 79292, 79296, 79326, 79348, 79355, 79376, 79388, 79391, 79392, 79419, 79435, 79442, 79456, 79470, 79481, 79491, 79542, 79569, 79612, 79626, 79629, 79630, 79633, 79648, 79668, 79671, 79674, 79679, 79682, 79683, 79684, 79685, 79686, 79687, 79690, 79726, 79732, 79742, 79765, 79768, 79785, 79793, 79794, 79795, 79806, 79807, 79829, 79840, 79899, 79916, 79966, 79969, 79981, 80015, 80018, 80046, 80060, 80064, 80069, 80075, 80079, 80095, 80102, 80145, 80146, 80148, 80150, 80152, 80190, 80207, 80209, 80210, 80237, 80312, 80368, 80370, 80402, 80404, 80409, 80423, 80453, 80465, 80497, 80520, 80523, 80524, 80525, 80528, 80529, 80536, 80544, 80552, 80556, 80598, 80605, 80635, 80678, 80696, 80708, 80728, 80731, 80842, 80851, 80853, 80855, 80856, 80857, 80858, 80861, 80865, 80871, 80878, 80886, 80893, 80895, 80896, 80902, 80906, 80913, 80914, 80916, 80926, 80979, 80986, 81005, 81012, 81014, 81032, 81102, 81109, 81111, 81118, 81161, 81164, 81165, 81166, 81168, 81190, 81217, 81228, 81229, 81231, 81233, 81236, 81295, 81309, 81359, 81373, 81385, 81434, 81435, 81436, 81454, 81459, 81512, 81541, 81556, 81565, 81566, 81589, 81660, 81697, 81708, 81717, 81722, 81740, 81767, 81779, 81803, 81805, 81807, 81886, 81887, 81890, 81898, 81900, 81902, 81903, 81907, 81924, 81949, 81961, 81972, 81973, 82007, 82016, 82035, 82036, 82045, 82049, 82076, 82130, 82140, 82143, 82147, 82181, 82196, 82214, 82216, 82258, 82280, 82282, 82287, 82315, 82321, 82341, 82344, 82353, 82357, 82363, 82368, 82382, 82388, 82411, 82418, 82423, 82427, 82430, 82434, 82446, 82462, 82465, 82466, 82479, 82481, 82499, 82567, 82570, 82573, 82575, 82576, 82580, 82624, 82649, 82650, 82709, 82711, 82715, 82726, 82768, 82836, 82847, 82854, 82858, 82860, 82861, 82876, 82920, 82922, 82926, 82942, 82970, 82979, 82983, 83000, 83013, 83014, 83049, 83057, 83066, 83068, 83072, 83086, 83132, 83154, 83158, 83161, 83177, 83248, 83256, 83339, 83383, 83392, 83413, 83420, 83443, 83450, 83451, 83508, 83521, 83523, 83528, 83559, 83575, 83591, 83595, 83597, 83599, 83609, 83633, 83657, 83659, 83739, 83791, 83799, 83810, 83829, 83863, 83878, 83881, 83891, 83907, 83931, 83948, 83949, 83950, 83960, 83970, 83987, 83989, 83999, 84013, 84015, 84031, 84062, 84063, 84064, 84065, 84066, 84067, 84068, 84069, 84091, 84126, 84134, 84166, 84167, 84189, 84199, 84209, 84362, 84372, 84373, 84398, 84408, 84413, 84438, 84442, 84452, 84454, 84455, 84456, 84468, 84470, 84471, 84482, 84484, 84490, 84504, 84505, 84520, 84569, 84594, 84595, 84597, 84602, 84603, 84633, 84669, 84699, 84707, 84708, 84748, 84749, 84762, 84763, 84771, 84773, 84778, 84779, 84795, 84800, 84809, 84818, 84838, 84868, 84898, 84909, 84912, 84914, 84917, 84922, 84940, 84941, 84942, 84947, 84952, 84961, 84967, 84972, 84979, 85050, 85052, 85113, 85129, 85164, 85218, 85228, 85232, 85252, 85282, 85299, 85313, 85340, 85347, 85365, 85369, 85372, 85391, 85421, 85436, 85451, 85462, 85463, 85476, 85493, 85498, 85517, 85554, 85555, 85576, 85583, 85600, 85639, 85666, 85717, 85813, 85832, 85841, 85845, 85860, 85864, 85869, 85904, 85912, 85927, 85956, 86075, 86080, 86093, 86137, 86142, 86148, 86218, 86227, 86242, 86244, 86247, 86248, 86257, 86321, 86326, 86341, 86352, 86365, 86366, 86380, 86408, 86409, 86412, 86416, 86417, 86421, 86432, 86447, 86449, 86459, 86461, 86463, 86472, 86530, 86532, 86535, 86548, 86549, 86551, 86553, 86610, 86611, 86622, 86624, 86629, 86643, 86649, 86682, 86693, 86699, 86702, 86703, 86748, 86765, 86769, 86772, 86788, 86813, 86820, 86834, 86874, 86920, 86934, 86961, 86977, 86997, 87002, 87050, 87053, 87054, 87056, 87057, 87059, 87082, 87102, 87104, 87109, 87115, 87116, 87135, 87136, 87146, 87153, 87155, 87166, 87173, 87235, 87305, 87309, 87324, 87338, 87367, 87368, 87369, 87375, 87392, 87448, 87457, 87459, 87464, 87466, 87470, 87473, 87512, 87514, 87529, 87540, 87542, 87544, 87550, 87555, 87558, 87560, 87567, 87584, 87585, 87640, 87648, 87663, 87686, 87705, 87724, 87760, 87762, 87763, 87769, 87771, 87772, 87796, 87824, 87841, 87879, 87914, 87957, 87970, 87972, 87977, 87993, 87994, 87995, 87999, 88000, 88005, 88052, 88073, 88086, 88088, 88114, 88115, 88116, 88132, 88176, 88192, 88204, 88205, 88220, 88254, 88257, 88268, 88269, 88274, 88275, 88276, 88283, 88299, 88323, 88346, 88353, 88361, 88378, 88417, 88442, 88452, 88464, 88465, 88466, 88484, 88498, 88548, 88563, 88564, 88567, 88568, 88581, 88586, 88587, 88598, 88608, 88609, 88657, 88775, 88802, 88814, 88827, 88850, 88852, 88853, 88854, 88857, 88884, 88888, 88889, 88891, 88892, 88893, 88908, 88928, 88929, 88930, 88934, 88935, 88938, 88952, 88953, 88954, 88958, 88980, 89006, 89022, 89024, 89064, 89066, 89070, 89076, 89077, 89078, 89080, 89086, 89088, 89093, 89110, 89112, 89162, 89175, 89176, 89196, 89207, 89209, 89212, 89213, 89214, 89220, 89227, 89235, 89256, 89262, 89279, 89324, 89368, 89372, 89387, 89395, 89401, 89403, 89423, 89466, 89471, 89472, 89518, 89519, 89520, 89523, 89528, 89529, 89530, 89532, 89537, 89551, 89589, 89598, 89600, 89615, 89632, 89772, 89775, 89776, 89778, 89779, 89786, 89789, 89790, 89837, 89838, 89839, 89865, 89867, 89896, 89910, 89927, 89929, 89949, 89954, 89974, 89975, 90044, 90056, 90060, 90074, 90111, 90150, 90162, 90163, 90231, 90247, 90250, 90256, 90268, 90271, 90272, 90280, 90306, 90317, 90355, 90469, 90473, 90515, 90548, 90556, 90557, 90564, 90601, 90604, 90606, 90622, 90629, 90634, 90642, 90645, 90657, 90671, 90698, 90702, 90703, 90706, 90715, 90732, 90743, 90747, 90840, 90844, 90878, 90880, 90896, 90912, 90913, 90919, 90920, 90950, 90964, 90968, 90969, 90971, 90972, 91010, 91012, 91019, 91040, 91077, 91111, 91117, 91119, 91122, 91125, 91135, 91141, 91202, 91205, 91242, 91243, 91244, 91248, 91249, 91251, 91256, 91274, 91305, 91308, 91309, 91352, 91361, 91383, 91391, 91392, 91398, 91402, 91467, 91487, 91492, 91496, 91509, 91515, 91523, 91541, 91561, 91589, 91614, 91640, 91644, 91645, 91672, 91705, 91708, 91738, 91743, 91748, 91765, 91816, 91821, 91907, 91922, 91933, 91940, 91955, 91968, 91984, 91995, 92001, 92009, 92022, 92025, 92048, 92078, 92085, 92089, 92092, 92095, 92097, 92135, 92137, 92139, 92143, 92153, 92206, 92210, 92213, 92222, 92245, 92250, 92281, 92292, 92296, 92314, 92344, 92345, 92355, 92366, 92387, 92439, 92442, 92446, 92452, 92459, 92472, 92503, 92513, 92514, 92546, 92550, 92577, 92581, 92586, 92611, 92637, 92650, 92654, 92670, 92738, 92740, 92807, 92809, 92820, 92830, 92836, 92843, 92871, 92876, 92886, 92888, 92908, 92917, 92937, 92986, 92993, 93013, 93044, 93080, 93093, 93120, 93122, 93125, 93145, 93173, 93200, 93223, 93252, 93253, 93256, 93283, 93284, 93289, 93332, 93354, 93357, 93359, 93360, 93373, 93388, 93391, 93393, 93396, 93401, 93403, 93404, 93407, 93408, 93414, 93417, 93490, 93492, 93537, 93575, 93576, 93581, 93637, 93645, 93660, 93663, 93665, 93680, 93686, 93689, 93726, 93729, 93737, 93738, 93816, 93847, 93875, 93877, 93899, 93900, 93906, 93911, 93915, 93916, 93927, 93938, 93947, 93956, 94041, 94052, 94078, 94080, 94113, 94151, 94157, 94166, 94175, 94191, 94200, 94202, 94215, 94221, 94231, 94232, 94240, 94244, 94248, 94257, 94329, 94362, 94376, 94386, 94395, 94422, 94468, 94470, 94472, 94475, 94495, 94501, 94502, 94596, 94630, 94655, 94688, 94721, 94732, 94774, 94788, 94822, 94876, 94885, 94895, 94896, 94906, 94910, 94924, 94952, 94968, 94970, 94980, 95015, 95059, 95117, 95119, 95150, 95172, 95181, 95185, 95188, 95193, 95196, 95198, 95202, 95217, 95236, 95238, 95251, 95275, 95286, 95290, 95292, 95295, 95301, 95303, 95304, 95309, 95319, 95331, 95336, 95339, 95351, 95354, 95356, 95362, 95400, 95404, 95416, 95417, 95421, 95436, 95467, 95498, 95561, 95587, 95590, 95598, 95599, 95604, 95605, 95607, 95608, 95609, 95610, 95611, 95612, 95614, 95621, 95626, 95642, 95648, 95654, 95656, 95662, 95671, 95681, 95682, 95721, 95722, 95733, 95747, 95748, 95750, 95751, 95757, 95770, 95788, 95790, 95806, 95815, 95822, 95869, 95899, 95906, 95919, 95933, 95993, 96041, 96051, 96059, 96061, 96066, 96068, 96098, 96099, 96103, 96107, 96115, 96125, 96150, 96176, 96183, 96184, 96208, 96239, 96262, 96269, 96270, 96272, 96274, 96280, 96297, 96315, 96316, 96353, 96356, 96361, 96366, 96380, 96391, 96401, 96423, 96428, 96448, 96498, 96507, 96509, 96523, 96560, 96589, 96600, 96612, 96615, 96620, 96622, 96623, 96624, 96628, 96629, 96644, 96676, 96680, 96699, 96707, 96752, 96772, 96796, 96829, 96835, 96852, 96856, 96909, 96920, 96952, 97031, 97032, 97048, 97050, 97051, 97052, 97053, 97060, 97086, 97090, 97129, 97144, 97171, 97176, 97182, 97208, 97270, 97317, 97338, 97361, 97363, 97385, 97391, 97434, 97436, 97438, 97456, 97464, 97481, 97526, 97542, 97551, 97553, 97558, 97592, 97595, 97612, 97622, 97669, 97673, 97682, 97685, 97687, 97692, 97700, 97714, 97715, 97720, 97721, 97738, 97741, 97753, 97755, 97756, 97757, 97764, 97765, 97793, 97806, 97831, 97864, 97878, 97888, 97889, 97957, 97960, 97964, 97969, 97981, 97989, 97991, 98016, 98030, 98048, 98082, 98102, 98112, 98123, 98130, 98145, 98158, 98204, 98213, 98235, 98287, 98297, 98325, 98329, 98338, 98353, 98355, 98356, 98361, 98370, 98372, 98379, 98387, 98392, 98399, 98404, 98427, 98429, 98433, 98457, 98506, 98510, 98539, 98555, 98567, 98575, 98589, 98590, 98609, 98640, 98642, 98657, 98674, 98688, 98699, 98726, 98774, 98780, 98782, 98799, 98803, 98812, 98847, 98853, 98859, 98869, 98880, 98903, 98913, 98965, 98968, 98969, 98972, 98989, 98997, 99020, 99054, 99055, 99073, 99076, 99099, 99112, 99123, 99144, 99150, 99155, 99162, 99166, 99170, 99175, 99176, 99181, 99185, 99194, 99195, 99202, 99205, 99213, 99242, 99252, 99264, 99265, 99269, 99277, 99300, 99324, 99327, 99335, 99357, 99363, 99373, 99388, 99408, 99412, 99423, 99425, 99478, 99527, 99539, 99551, 99600, 99603, 99605, 99607, 99631, 99635, 99642, 99652, 99679, 99688, 99693, 99740, 99743, 99775, 99791, 99841, 99898, 99908, 99916, 99927, 99935, 99952, 99962]\n",
            "<class 'list'>\n",
            "6721\n",
            "6721\n",
            "6721\n"
          ],
          "name": "stdout"
        }
      ]
    },
    {
      "cell_type": "code",
      "metadata": {
        "colab": {
          "base_uri": "https://localhost:8080/",
          "height": 223
        },
        "id": "UTyzdiCSJFfg",
        "outputId": "e08e3812-78cb-4c4c-c181-7f761a25fca6"
      },
      "source": [
        "unlabel_3 = unlabel_3.loc[pos,:]\n",
        "print(len(unlabel_3))\n",
        "unlabel_3.head()"
      ],
      "execution_count": 89,
      "outputs": [
        {
          "output_type": "stream",
          "text": [
            "6721\n"
          ],
          "name": "stdout"
        },
        {
          "output_type": "execute_result",
          "data": {
            "text/html": [
              "<div>\n",
              "<style scoped>\n",
              "    .dataframe tbody tr th:only-of-type {\n",
              "        vertical-align: middle;\n",
              "    }\n",
              "\n",
              "    .dataframe tbody tr th {\n",
              "        vertical-align: top;\n",
              "    }\n",
              "\n",
              "    .dataframe thead th {\n",
              "        text-align: right;\n",
              "    }\n",
              "</style>\n",
              "<table border=\"1\" class=\"dataframe\">\n",
              "  <thead>\n",
              "    <tr style=\"text-align: right;\">\n",
              "      <th></th>\n",
              "      <th>text</th>\n",
              "    </tr>\n",
              "  </thead>\n",
              "  <tbody>\n",
              "    <tr>\n",
              "      <th>10</th>\n",
              "      <td>crossexamination captain johnson testified wen...</td>\n",
              "    </tr>\n",
              "    <tr>\n",
              "      <th>12</th>\n",
              "      <td>trial court properly overruled appellant reque...</td>\n",
              "    </tr>\n",
              "    <tr>\n",
              "      <th>51</th>\n",
              "      <td>error pointed judgment reversed cause remanded</td>\n",
              "    </tr>\n",
              "    <tr>\n",
              "      <th>60</th>\n",
              "      <td>reason indicated judgment reversed cause remanded</td>\n",
              "    </tr>\n",
              "    <tr>\n",
              "      <th>100</th>\n",
              "      <td>judgment trial court affirmed</td>\n",
              "    </tr>\n",
              "  </tbody>\n",
              "</table>\n",
              "</div>"
            ],
            "text/plain": [
              "                                                  text\n",
              "10   crossexamination captain johnson testified wen...\n",
              "12   trial court properly overruled appellant reque...\n",
              "51      error pointed judgment reversed cause remanded\n",
              "60   reason indicated judgment reversed cause remanded\n",
              "100                      judgment trial court affirmed"
            ]
          },
          "metadata": {
            "tags": []
          },
          "execution_count": 89
        }
      ]
    },
    {
      "cell_type": "code",
      "metadata": {
        "id": "MzcZdKmeJSAI"
      },
      "source": [
        "class_x_un3 = tfidf_vect.transform(unlabel_3['text'])"
      ],
      "execution_count": 90,
      "outputs": []
    },
    {
      "cell_type": "code",
      "metadata": {
        "colab": {
          "base_uri": "https://localhost:8080/"
        },
        "id": "g9BIum9SJgQB",
        "outputId": "ab2cbae0-6e13-47cf-fa75-720c9e4b5a7b"
      },
      "source": [
        "class_x_un3.shape"
      ],
      "execution_count": 91,
      "outputs": [
        {
          "output_type": "execute_result",
          "data": {
            "text/plain": [
              "(6721, 9649)"
            ]
          },
          "metadata": {
            "tags": []
          },
          "execution_count": 91
        }
      ]
    },
    {
      "cell_type": "code",
      "metadata": {
        "colab": {
          "base_uri": "https://localhost:8080/"
        },
        "id": "-m0pFOuoJlQa",
        "outputId": "e533aac8-bdc8-4ea8-d046-3e49db290b9a"
      },
      "source": [
        "class_pred_unlabel_3 = classifier_2.predict(class_x_un3)\n",
        "class_pred_unlabel_3"
      ],
      "execution_count": 92,
      "outputs": [
        {
          "output_type": "execute_result",
          "data": {
            "text/plain": [
              "array(['Facts', 'Facts', 'Conclusion', ..., 'Conclusion', 'Conclusion',\n",
              "       'Conclusion'], dtype=object)"
            ]
          },
          "metadata": {
            "tags": []
          },
          "execution_count": 92
        }
      ]
    },
    {
      "cell_type": "code",
      "metadata": {
        "colab": {
          "base_uri": "https://localhost:8080/"
        },
        "id": "AvEMKQC1Jq-T",
        "outputId": "88092550-1d65-4bb4-f677-5da09fdaac22"
      },
      "source": [
        "print(len(class_pred_unlabel_3))"
      ],
      "execution_count": 93,
      "outputs": [
        {
          "output_type": "stream",
          "text": [
            "6721\n"
          ],
          "name": "stdout"
        }
      ]
    },
    {
      "cell_type": "code",
      "metadata": {
        "colab": {
          "base_uri": "https://localhost:8080/",
          "height": 205
        },
        "id": "s0PNx7IUJyC3",
        "outputId": "7d39e0be-f721-4f4e-cd4c-ff9b0532cec7"
      },
      "source": [
        "unlabel_3['Target']=class_pred_unlabel_3\n",
        "unlabel_3.head()"
      ],
      "execution_count": 94,
      "outputs": [
        {
          "output_type": "execute_result",
          "data": {
            "text/html": [
              "<div>\n",
              "<style scoped>\n",
              "    .dataframe tbody tr th:only-of-type {\n",
              "        vertical-align: middle;\n",
              "    }\n",
              "\n",
              "    .dataframe tbody tr th {\n",
              "        vertical-align: top;\n",
              "    }\n",
              "\n",
              "    .dataframe thead th {\n",
              "        text-align: right;\n",
              "    }\n",
              "</style>\n",
              "<table border=\"1\" class=\"dataframe\">\n",
              "  <thead>\n",
              "    <tr style=\"text-align: right;\">\n",
              "      <th></th>\n",
              "      <th>text</th>\n",
              "      <th>Target</th>\n",
              "    </tr>\n",
              "  </thead>\n",
              "  <tbody>\n",
              "    <tr>\n",
              "      <th>10</th>\n",
              "      <td>crossexamination captain johnson testified wen...</td>\n",
              "      <td>Facts</td>\n",
              "    </tr>\n",
              "    <tr>\n",
              "      <th>12</th>\n",
              "      <td>trial court properly overruled appellant reque...</td>\n",
              "      <td>Facts</td>\n",
              "    </tr>\n",
              "    <tr>\n",
              "      <th>51</th>\n",
              "      <td>error pointed judgment reversed cause remanded</td>\n",
              "      <td>Conclusion</td>\n",
              "    </tr>\n",
              "    <tr>\n",
              "      <th>60</th>\n",
              "      <td>reason indicated judgment reversed cause remanded</td>\n",
              "      <td>Conclusion</td>\n",
              "    </tr>\n",
              "    <tr>\n",
              "      <th>100</th>\n",
              "      <td>judgment trial court affirmed</td>\n",
              "      <td>Conclusion</td>\n",
              "    </tr>\n",
              "  </tbody>\n",
              "</table>\n",
              "</div>"
            ],
            "text/plain": [
              "                                                  text      Target\n",
              "10   crossexamination captain johnson testified wen...       Facts\n",
              "12   trial court properly overruled appellant reque...       Facts\n",
              "51      error pointed judgment reversed cause remanded  Conclusion\n",
              "60   reason indicated judgment reversed cause remanded  Conclusion\n",
              "100                      judgment trial court affirmed  Conclusion"
            ]
          },
          "metadata": {
            "tags": []
          },
          "execution_count": 94
        }
      ]
    },
    {
      "cell_type": "code",
      "metadata": {
        "colab": {
          "base_uri": "https://localhost:8080/",
          "height": 205
        },
        "id": "mJvzcgHbJ6Fu",
        "outputId": "6d865c24-be52-4a5d-d6b7-631bed270ffd"
      },
      "source": [
        "train_2.head()"
      ],
      "execution_count": 95,
      "outputs": [
        {
          "output_type": "execute_result",
          "data": {
            "text/html": [
              "<div>\n",
              "<style scoped>\n",
              "    .dataframe tbody tr th:only-of-type {\n",
              "        vertical-align: middle;\n",
              "    }\n",
              "\n",
              "    .dataframe tbody tr th {\n",
              "        vertical-align: top;\n",
              "    }\n",
              "\n",
              "    .dataframe thead th {\n",
              "        text-align: right;\n",
              "    }\n",
              "</style>\n",
              "<table border=\"1\" class=\"dataframe\">\n",
              "  <thead>\n",
              "    <tr style=\"text-align: right;\">\n",
              "      <th></th>\n",
              "      <th>Unnamed: 0</th>\n",
              "      <th>text</th>\n",
              "      <th>Target</th>\n",
              "    </tr>\n",
              "  </thead>\n",
              "  <tbody>\n",
              "    <tr>\n",
              "      <th>1364</th>\n",
              "      <td>239.0</td>\n",
              "      <td>\"(I)n the First Amendment area 'government may...</td>\n",
              "      <td>Invalid</td>\n",
              "    </tr>\n",
              "    <tr>\n",
              "      <th>1833</th>\n",
              "      <td>185.0</td>\n",
              "      <td>\"... that nowhere in the statute was it stated...</td>\n",
              "      <td>Invalid</td>\n",
              "    </tr>\n",
              "    <tr>\n",
              "      <th>2431</th>\n",
              "      <td>415.0</td>\n",
              "      <td>\"Although a statute may be neither vague, over...</td>\n",
              "      <td>Rule/Law/Holding</td>\n",
              "    </tr>\n",
              "    <tr>\n",
              "      <th>2245</th>\n",
              "      <td>416.0</td>\n",
              "      <td>\"For even when pursuing a legitimate interest,...</td>\n",
              "      <td>Rule/Law/Holding</td>\n",
              "    </tr>\n",
              "    <tr>\n",
              "      <th>1561</th>\n",
              "      <td>25.0</td>\n",
              "      <td>\"If an indictment has been found or accusation...</td>\n",
              "      <td>Facts</td>\n",
              "    </tr>\n",
              "  </tbody>\n",
              "</table>\n",
              "</div>"
            ],
            "text/plain": [
              "      Unnamed: 0  ...            Target\n",
              "1364       239.0  ...           Invalid\n",
              "1833       185.0  ...           Invalid\n",
              "2431       415.0  ...  Rule/Law/Holding\n",
              "2245       416.0  ...  Rule/Law/Holding\n",
              "1561        25.0  ...             Facts\n",
              "\n",
              "[5 rows x 3 columns]"
            ]
          },
          "metadata": {
            "tags": []
          },
          "execution_count": 95
        }
      ]
    },
    {
      "cell_type": "code",
      "metadata": {
        "colab": {
          "base_uri": "https://localhost:8080/"
        },
        "id": "f9Ah9m82J-ky",
        "outputId": "46cb0802-ba97-4711-d2f6-43fc91b19ef4"
      },
      "source": [
        "frame_3 = [train_2,unlabel_3]\n",
        "train_3 = pd.concat(frame_3)\n",
        "print(len(train_2))\n",
        "print(len(unlabel_3))\n",
        "print(len(train_3))"
      ],
      "execution_count": 96,
      "outputs": [
        {
          "output_type": "stream",
          "text": [
            "7030\n",
            "6721\n",
            "13751\n"
          ],
          "name": "stdout"
        }
      ]
    },
    {
      "cell_type": "code",
      "metadata": {
        "id": "sOi6P6W1VG03",
        "colab": {
          "base_uri": "https://localhost:8080/"
        },
        "outputId": "d835eac9-8ee7-40ae-dd5b-388da2e4cb0e"
      },
      "source": [
        "train_3.sort_values(\"text\", inplace = True)\n",
        "train_3 = train_3.drop_duplicates(subset =\"text\")\n",
        "print(len(train_3))\n"
      ],
      "execution_count": 97,
      "outputs": [
        {
          "output_type": "stream",
          "text": [
            "12584\n"
          ],
          "name": "stdout"
        }
      ]
    },
    {
      "cell_type": "code",
      "metadata": {
        "colab": {
          "base_uri": "https://localhost:8080/",
          "height": 420
        },
        "id": "vt7Nzk0jVQSv",
        "outputId": "022f7f09-b322-4a16-eb71-fc50692fd69c"
      },
      "source": [
        "from imblearn.over_sampling import SMOTE\n",
        "from collections import Counter\n",
        "from matplotlib import pyplot\n",
        "from sklearn.preprocessing import LabelEncoder\n",
        "data = train_3.values\n",
        "\n",
        "\n",
        "# split into input and output elements\n",
        "X, y = data[:, :-1], data[:, -1]\n",
        "# label encode the target variable\n",
        "y = LabelEncoder().fit_transform(y)\n",
        "print(y)\n",
        "# summarize distribution\n",
        "counter = Counter(y)\n",
        "print(y)\n",
        "total =0\n",
        "for k,v in counter.items():\n",
        "  total = total+v\n",
        "  per = v / len(y) * 100\n",
        "  print('Class=%s, n=%d (%.3f%%)' % (k, v, per))\n",
        "\n",
        "pyplot.bar(counter.keys(), counter.values())\n",
        "print(\"total\",total)\n",
        "pyplot.show()"
      ],
      "execution_count": 98,
      "outputs": [
        {
          "output_type": "stream",
          "text": [
            "[3 3 5 ... 2 3 2]\n",
            "[3 3 5 ... 2 3 2]\n",
            "Class=3, n=881 (7.001%)\n",
            "Class=5, n=755 (6.000%)\n",
            "Class=2, n=8040 (63.891%)\n",
            "Class=0, n=778 (6.182%)\n",
            "Class=4, n=710 (5.642%)\n",
            "Class=1, n=1420 (11.284%)\n",
            "total 12584\n"
          ],
          "name": "stdout"
        },
        {
          "output_type": "display_data",
          "data": {
            "image/png": "[encoded data removed]",
            "text/plain": [
              "<Figure size 432x288 with 1 Axes>"
            ]
          },
          "metadata": {
            "tags": [],
            "needs_background": "light"
          }
        }
      ]
    },
    {
      "cell_type": "code",
      "metadata": {
        "colab": {
          "base_uri": "https://localhost:8080/"
        },
        "id": "uXJw40e_VQSx",
        "outputId": "0f08a22a-02c7-4cff-d25c-2ab6c3a00868"
      },
      "source": [
        "\n",
        "\n",
        "from sklearn.feature_extraction.text import TfidfVectorizer\n",
        "\n",
        "tfidf_vect = TfidfVectorizer(analyzer = clean_text)\n",
        "X_tfidf = tfidf_vect.fit_transform(train_3['text'])\n",
        "print(X_tfidf.shape)"
      ],
      "execution_count": 99,
      "outputs": [
        {
          "output_type": "stream",
          "text": [
            "(12584, 13177)\n"
          ],
          "name": "stdout"
        }
      ]
    },
    {
      "cell_type": "code",
      "metadata": {
        "colab": {
          "base_uri": "https://localhost:8080/",
          "height": 255
        },
        "id": "7L5kPae7VQSx",
        "outputId": "cc7a9a4c-0fb1-4d97-9b0f-b8f7241d63cb"
      },
      "source": [
        "X_tfidf_df=pd.DataFrame(X_tfidf.toarray())\n",
        "X_tfidf_df.columns=tfidf_vect.get_feature_names()\n",
        "X_tfidf_df.head()"
      ],
      "execution_count": 100,
      "outputs": [
        {
          "output_type": "execute_result",
          "data": {
            "text/html": [
              "<div>\n",
              "<style scoped>\n",
              "    .dataframe tbody tr th:only-of-type {\n",
              "        vertical-align: middle;\n",
              "    }\n",
              "\n",
              "    .dataframe tbody tr th {\n",
              "        vertical-align: top;\n",
              "    }\n",
              "\n",
              "    .dataframe thead th {\n",
              "        text-align: right;\n",
              "    }\n",
              "</style>\n",
              "<table border=\"1\" class=\"dataframe\">\n",
              "  <thead>\n",
              "    <tr style=\"text-align: right;\">\n",
              "      <th></th>\n",
              "      <th></th>\n",
              "      <th>00100</th>\n",
              "      <th>015</th>\n",
              "      <th>02</th>\n",
              "      <th>1</th>\n",
              "      <th>10</th>\n",
              "      <th>100</th>\n",
              "      <th>1000</th>\n",
              "      <th>10000</th>\n",
              "      <th>100000</th>\n",
              "      <th>1000000</th>\n",
              "      <th>10000000</th>\n",
              "      <th>10000â</th>\n",
              "      <th>1000x22</th>\n",
              "      <th>1005</th>\n",
              "      <th>1006</th>\n",
              "      <th>1008</th>\n",
              "      <th>1008a</th>\n",
              "      <th>100x22</th>\n",
              "      <th>101</th>\n",
              "      <th>1010</th>\n",
              "      <th>1013</th>\n",
              "      <th>1015</th>\n",
              "      <th>102</th>\n",
              "      <th>1020</th>\n",
              "      <th>1026</th>\n",
              "      <th>1030</th>\n",
              "      <th>104</th>\n",
              "      <th>1042</th>\n",
              "      <th>1044</th>\n",
              "      <th>104545</th>\n",
              "      <th>105</th>\n",
              "      <th>1050</th>\n",
              "      <th>10511</th>\n",
              "      <th>1056</th>\n",
              "      <th>1065</th>\n",
              "      <th>107</th>\n",
              "      <th>107c</th>\n",
              "      <th>1081</th>\n",
              "      <th>1084</th>\n",
              "      <th>...</th>\n",
              "      <th>œthick</th>\n",
              "      <th>œthis</th>\n",
              "      <th>œthumbusterâ</th>\n",
              "      <th>œto</th>\n",
              "      <th>œtommy</th>\n",
              "      <th>œtoo</th>\n",
              "      <th>œtwo</th>\n",
              "      <th>œtwoâ</th>\n",
              "      <th>œunlawfully</th>\n",
              "      <th>œunlawfullyâ</th>\n",
              "      <th>œunless</th>\n",
              "      <th>œupon</th>\n",
              "      <th>œvagrancyâ</th>\n",
              "      <th>œvalue</th>\n",
              "      <th>œvery</th>\n",
              "      <th>œvisited</th>\n",
              "      <th>œwaived</th>\n",
              "      <th>œwalked</th>\n",
              "      <th>œwas</th>\n",
              "      <th>œwater</th>\n",
              "      <th>œwe</th>\n",
              "      <th>œweaving</th>\n",
              "      <th>œwell</th>\n",
              "      <th>œwhat</th>\n",
              "      <th>œwhen</th>\n",
              "      <th>œwhere</th>\n",
              "      <th>œwhether</th>\n",
              "      <th>œwhile</th>\n",
              "      <th>œwhipped</th>\n",
              "      <th>œwhisky</th>\n",
              "      <th>œwhoever</th>\n",
              "      <th>œwhy</th>\n",
              "      <th>œwilfullyâ</th>\n",
              "      <th>œwillfullyâ</th>\n",
              "      <th>œwobblyâ</th>\n",
              "      <th>œyes</th>\n",
              "      <th>œyesâ</th>\n",
              "      <th>œyou</th>\n",
              "      <th>œyour</th>\n",
              "      <th>œyâ</th>\n",
              "    </tr>\n",
              "  </thead>\n",
              "  <tbody>\n",
              "    <tr>\n",
              "      <th>0</th>\n",
              "      <td>0.000000</td>\n",
              "      <td>0.0</td>\n",
              "      <td>0.0</td>\n",
              "      <td>0.0</td>\n",
              "      <td>0.0</td>\n",
              "      <td>0.0</td>\n",
              "      <td>0.0</td>\n",
              "      <td>0.0</td>\n",
              "      <td>0.0</td>\n",
              "      <td>0.0</td>\n",
              "      <td>0.0</td>\n",
              "      <td>0.0</td>\n",
              "      <td>0.0</td>\n",
              "      <td>0.0</td>\n",
              "      <td>0.0</td>\n",
              "      <td>0.0</td>\n",
              "      <td>0.0</td>\n",
              "      <td>0.0</td>\n",
              "      <td>0.0</td>\n",
              "      <td>0.0</td>\n",
              "      <td>0.0</td>\n",
              "      <td>0.0</td>\n",
              "      <td>0.0</td>\n",
              "      <td>0.0</td>\n",
              "      <td>0.0</td>\n",
              "      <td>0.0</td>\n",
              "      <td>0.0</td>\n",
              "      <td>0.0</td>\n",
              "      <td>0.0</td>\n",
              "      <td>0.0</td>\n",
              "      <td>0.0</td>\n",
              "      <td>0.0</td>\n",
              "      <td>0.0</td>\n",
              "      <td>0.0</td>\n",
              "      <td>0.0</td>\n",
              "      <td>0.0</td>\n",
              "      <td>0.0</td>\n",
              "      <td>0.0</td>\n",
              "      <td>0.0</td>\n",
              "      <td>0.0</td>\n",
              "      <td>...</td>\n",
              "      <td>0.0</td>\n",
              "      <td>0.0</td>\n",
              "      <td>0.0</td>\n",
              "      <td>0.0</td>\n",
              "      <td>0.0</td>\n",
              "      <td>0.0</td>\n",
              "      <td>0.0</td>\n",
              "      <td>0.0</td>\n",
              "      <td>0.0</td>\n",
              "      <td>0.0</td>\n",
              "      <td>0.0</td>\n",
              "      <td>0.0</td>\n",
              "      <td>0.0</td>\n",
              "      <td>0.0</td>\n",
              "      <td>0.0</td>\n",
              "      <td>0.0</td>\n",
              "      <td>0.0</td>\n",
              "      <td>0.0</td>\n",
              "      <td>0.0</td>\n",
              "      <td>0.0</td>\n",
              "      <td>0.0</td>\n",
              "      <td>0.0</td>\n",
              "      <td>0.0</td>\n",
              "      <td>0.0</td>\n",
              "      <td>0.0</td>\n",
              "      <td>0.0</td>\n",
              "      <td>0.0</td>\n",
              "      <td>0.0</td>\n",
              "      <td>0.0</td>\n",
              "      <td>0.0</td>\n",
              "      <td>0.0</td>\n",
              "      <td>0.0</td>\n",
              "      <td>0.0</td>\n",
              "      <td>0.0</td>\n",
              "      <td>0.0</td>\n",
              "      <td>0.0</td>\n",
              "      <td>0.0</td>\n",
              "      <td>0.0</td>\n",
              "      <td>0.0</td>\n",
              "      <td>0.0</td>\n",
              "    </tr>\n",
              "    <tr>\n",
              "      <th>1</th>\n",
              "      <td>0.133841</td>\n",
              "      <td>0.0</td>\n",
              "      <td>0.0</td>\n",
              "      <td>0.0</td>\n",
              "      <td>0.0</td>\n",
              "      <td>0.0</td>\n",
              "      <td>0.0</td>\n",
              "      <td>0.0</td>\n",
              "      <td>0.0</td>\n",
              "      <td>0.0</td>\n",
              "      <td>0.0</td>\n",
              "      <td>0.0</td>\n",
              "      <td>0.0</td>\n",
              "      <td>0.0</td>\n",
              "      <td>0.0</td>\n",
              "      <td>0.0</td>\n",
              "      <td>0.0</td>\n",
              "      <td>0.0</td>\n",
              "      <td>0.0</td>\n",
              "      <td>0.0</td>\n",
              "      <td>0.0</td>\n",
              "      <td>0.0</td>\n",
              "      <td>0.0</td>\n",
              "      <td>0.0</td>\n",
              "      <td>0.0</td>\n",
              "      <td>0.0</td>\n",
              "      <td>0.0</td>\n",
              "      <td>0.0</td>\n",
              "      <td>0.0</td>\n",
              "      <td>0.0</td>\n",
              "      <td>0.0</td>\n",
              "      <td>0.0</td>\n",
              "      <td>0.0</td>\n",
              "      <td>0.0</td>\n",
              "      <td>0.0</td>\n",
              "      <td>0.0</td>\n",
              "      <td>0.0</td>\n",
              "      <td>0.0</td>\n",
              "      <td>0.0</td>\n",
              "      <td>0.0</td>\n",
              "      <td>...</td>\n",
              "      <td>0.0</td>\n",
              "      <td>0.0</td>\n",
              "      <td>0.0</td>\n",
              "      <td>0.0</td>\n",
              "      <td>0.0</td>\n",
              "      <td>0.0</td>\n",
              "      <td>0.0</td>\n",
              "      <td>0.0</td>\n",
              "      <td>0.0</td>\n",
              "      <td>0.0</td>\n",
              "      <td>0.0</td>\n",
              "      <td>0.0</td>\n",
              "      <td>0.0</td>\n",
              "      <td>0.0</td>\n",
              "      <td>0.0</td>\n",
              "      <td>0.0</td>\n",
              "      <td>0.0</td>\n",
              "      <td>0.0</td>\n",
              "      <td>0.0</td>\n",
              "      <td>0.0</td>\n",
              "      <td>0.0</td>\n",
              "      <td>0.0</td>\n",
              "      <td>0.0</td>\n",
              "      <td>0.0</td>\n",
              "      <td>0.0</td>\n",
              "      <td>0.0</td>\n",
              "      <td>0.0</td>\n",
              "      <td>0.0</td>\n",
              "      <td>0.0</td>\n",
              "      <td>0.0</td>\n",
              "      <td>0.0</td>\n",
              "      <td>0.0</td>\n",
              "      <td>0.0</td>\n",
              "      <td>0.0</td>\n",
              "      <td>0.0</td>\n",
              "      <td>0.0</td>\n",
              "      <td>0.0</td>\n",
              "      <td>0.0</td>\n",
              "      <td>0.0</td>\n",
              "      <td>0.0</td>\n",
              "    </tr>\n",
              "    <tr>\n",
              "      <th>2</th>\n",
              "      <td>0.000000</td>\n",
              "      <td>0.0</td>\n",
              "      <td>0.0</td>\n",
              "      <td>0.0</td>\n",
              "      <td>0.0</td>\n",
              "      <td>0.0</td>\n",
              "      <td>0.0</td>\n",
              "      <td>0.0</td>\n",
              "      <td>0.0</td>\n",
              "      <td>0.0</td>\n",
              "      <td>0.0</td>\n",
              "      <td>0.0</td>\n",
              "      <td>0.0</td>\n",
              "      <td>0.0</td>\n",
              "      <td>0.0</td>\n",
              "      <td>0.0</td>\n",
              "      <td>0.0</td>\n",
              "      <td>0.0</td>\n",
              "      <td>0.0</td>\n",
              "      <td>0.0</td>\n",
              "      <td>0.0</td>\n",
              "      <td>0.0</td>\n",
              "      <td>0.0</td>\n",
              "      <td>0.0</td>\n",
              "      <td>0.0</td>\n",
              "      <td>0.0</td>\n",
              "      <td>0.0</td>\n",
              "      <td>0.0</td>\n",
              "      <td>0.0</td>\n",
              "      <td>0.0</td>\n",
              "      <td>0.0</td>\n",
              "      <td>0.0</td>\n",
              "      <td>0.0</td>\n",
              "      <td>0.0</td>\n",
              "      <td>0.0</td>\n",
              "      <td>0.0</td>\n",
              "      <td>0.0</td>\n",
              "      <td>0.0</td>\n",
              "      <td>0.0</td>\n",
              "      <td>0.0</td>\n",
              "      <td>...</td>\n",
              "      <td>0.0</td>\n",
              "      <td>0.0</td>\n",
              "      <td>0.0</td>\n",
              "      <td>0.0</td>\n",
              "      <td>0.0</td>\n",
              "      <td>0.0</td>\n",
              "      <td>0.0</td>\n",
              "      <td>0.0</td>\n",
              "      <td>0.0</td>\n",
              "      <td>0.0</td>\n",
              "      <td>0.0</td>\n",
              "      <td>0.0</td>\n",
              "      <td>0.0</td>\n",
              "      <td>0.0</td>\n",
              "      <td>0.0</td>\n",
              "      <td>0.0</td>\n",
              "      <td>0.0</td>\n",
              "      <td>0.0</td>\n",
              "      <td>0.0</td>\n",
              "      <td>0.0</td>\n",
              "      <td>0.0</td>\n",
              "      <td>0.0</td>\n",
              "      <td>0.0</td>\n",
              "      <td>0.0</td>\n",
              "      <td>0.0</td>\n",
              "      <td>0.0</td>\n",
              "      <td>0.0</td>\n",
              "      <td>0.0</td>\n",
              "      <td>0.0</td>\n",
              "      <td>0.0</td>\n",
              "      <td>0.0</td>\n",
              "      <td>0.0</td>\n",
              "      <td>0.0</td>\n",
              "      <td>0.0</td>\n",
              "      <td>0.0</td>\n",
              "      <td>0.0</td>\n",
              "      <td>0.0</td>\n",
              "      <td>0.0</td>\n",
              "      <td>0.0</td>\n",
              "      <td>0.0</td>\n",
              "    </tr>\n",
              "    <tr>\n",
              "      <th>3</th>\n",
              "      <td>0.000000</td>\n",
              "      <td>0.0</td>\n",
              "      <td>0.0</td>\n",
              "      <td>0.0</td>\n",
              "      <td>0.0</td>\n",
              "      <td>0.0</td>\n",
              "      <td>0.0</td>\n",
              "      <td>0.0</td>\n",
              "      <td>0.0</td>\n",
              "      <td>0.0</td>\n",
              "      <td>0.0</td>\n",
              "      <td>0.0</td>\n",
              "      <td>0.0</td>\n",
              "      <td>0.0</td>\n",
              "      <td>0.0</td>\n",
              "      <td>0.0</td>\n",
              "      <td>0.0</td>\n",
              "      <td>0.0</td>\n",
              "      <td>0.0</td>\n",
              "      <td>0.0</td>\n",
              "      <td>0.0</td>\n",
              "      <td>0.0</td>\n",
              "      <td>0.0</td>\n",
              "      <td>0.0</td>\n",
              "      <td>0.0</td>\n",
              "      <td>0.0</td>\n",
              "      <td>0.0</td>\n",
              "      <td>0.0</td>\n",
              "      <td>0.0</td>\n",
              "      <td>0.0</td>\n",
              "      <td>0.0</td>\n",
              "      <td>0.0</td>\n",
              "      <td>0.0</td>\n",
              "      <td>0.0</td>\n",
              "      <td>0.0</td>\n",
              "      <td>0.0</td>\n",
              "      <td>0.0</td>\n",
              "      <td>0.0</td>\n",
              "      <td>0.0</td>\n",
              "      <td>0.0</td>\n",
              "      <td>...</td>\n",
              "      <td>0.0</td>\n",
              "      <td>0.0</td>\n",
              "      <td>0.0</td>\n",
              "      <td>0.0</td>\n",
              "      <td>0.0</td>\n",
              "      <td>0.0</td>\n",
              "      <td>0.0</td>\n",
              "      <td>0.0</td>\n",
              "      <td>0.0</td>\n",
              "      <td>0.0</td>\n",
              "      <td>0.0</td>\n",
              "      <td>0.0</td>\n",
              "      <td>0.0</td>\n",
              "      <td>0.0</td>\n",
              "      <td>0.0</td>\n",
              "      <td>0.0</td>\n",
              "      <td>0.0</td>\n",
              "      <td>0.0</td>\n",
              "      <td>0.0</td>\n",
              "      <td>0.0</td>\n",
              "      <td>0.0</td>\n",
              "      <td>0.0</td>\n",
              "      <td>0.0</td>\n",
              "      <td>0.0</td>\n",
              "      <td>0.0</td>\n",
              "      <td>0.0</td>\n",
              "      <td>0.0</td>\n",
              "      <td>0.0</td>\n",
              "      <td>0.0</td>\n",
              "      <td>0.0</td>\n",
              "      <td>0.0</td>\n",
              "      <td>0.0</td>\n",
              "      <td>0.0</td>\n",
              "      <td>0.0</td>\n",
              "      <td>0.0</td>\n",
              "      <td>0.0</td>\n",
              "      <td>0.0</td>\n",
              "      <td>0.0</td>\n",
              "      <td>0.0</td>\n",
              "      <td>0.0</td>\n",
              "    </tr>\n",
              "    <tr>\n",
              "      <th>4</th>\n",
              "      <td>0.000000</td>\n",
              "      <td>0.0</td>\n",
              "      <td>0.0</td>\n",
              "      <td>0.0</td>\n",
              "      <td>0.0</td>\n",
              "      <td>0.0</td>\n",
              "      <td>0.0</td>\n",
              "      <td>0.0</td>\n",
              "      <td>0.0</td>\n",
              "      <td>0.0</td>\n",
              "      <td>0.0</td>\n",
              "      <td>0.0</td>\n",
              "      <td>0.0</td>\n",
              "      <td>0.0</td>\n",
              "      <td>0.0</td>\n",
              "      <td>0.0</td>\n",
              "      <td>0.0</td>\n",
              "      <td>0.0</td>\n",
              "      <td>0.0</td>\n",
              "      <td>0.0</td>\n",
              "      <td>0.0</td>\n",
              "      <td>0.0</td>\n",
              "      <td>0.0</td>\n",
              "      <td>0.0</td>\n",
              "      <td>0.0</td>\n",
              "      <td>0.0</td>\n",
              "      <td>0.0</td>\n",
              "      <td>0.0</td>\n",
              "      <td>0.0</td>\n",
              "      <td>0.0</td>\n",
              "      <td>0.0</td>\n",
              "      <td>0.0</td>\n",
              "      <td>0.0</td>\n",
              "      <td>0.0</td>\n",
              "      <td>0.0</td>\n",
              "      <td>0.0</td>\n",
              "      <td>0.0</td>\n",
              "      <td>0.0</td>\n",
              "      <td>0.0</td>\n",
              "      <td>0.0</td>\n",
              "      <td>...</td>\n",
              "      <td>0.0</td>\n",
              "      <td>0.0</td>\n",
              "      <td>0.0</td>\n",
              "      <td>0.0</td>\n",
              "      <td>0.0</td>\n",
              "      <td>0.0</td>\n",
              "      <td>0.0</td>\n",
              "      <td>0.0</td>\n",
              "      <td>0.0</td>\n",
              "      <td>0.0</td>\n",
              "      <td>0.0</td>\n",
              "      <td>0.0</td>\n",
              "      <td>0.0</td>\n",
              "      <td>0.0</td>\n",
              "      <td>0.0</td>\n",
              "      <td>0.0</td>\n",
              "      <td>0.0</td>\n",
              "      <td>0.0</td>\n",
              "      <td>0.0</td>\n",
              "      <td>0.0</td>\n",
              "      <td>0.0</td>\n",
              "      <td>0.0</td>\n",
              "      <td>0.0</td>\n",
              "      <td>0.0</td>\n",
              "      <td>0.0</td>\n",
              "      <td>0.0</td>\n",
              "      <td>0.0</td>\n",
              "      <td>0.0</td>\n",
              "      <td>0.0</td>\n",
              "      <td>0.0</td>\n",
              "      <td>0.0</td>\n",
              "      <td>0.0</td>\n",
              "      <td>0.0</td>\n",
              "      <td>0.0</td>\n",
              "      <td>0.0</td>\n",
              "      <td>0.0</td>\n",
              "      <td>0.0</td>\n",
              "      <td>0.0</td>\n",
              "      <td>0.0</td>\n",
              "      <td>0.0</td>\n",
              "    </tr>\n",
              "  </tbody>\n",
              "</table>\n",
              "<p>5 rows × 13177 columns</p>\n",
              "</div>"
            ],
            "text/plain": [
              "             00100  015   02    1   10  ...  œwobblyâ  œyes  œyesâ  œyou  œyour  œyâ\n",
              "0  0.000000    0.0  0.0  0.0  0.0  0.0  ...       0.0   0.0    0.0   0.0    0.0  0.0\n",
              "1  0.133841    0.0  0.0  0.0  0.0  0.0  ...       0.0   0.0    0.0   0.0    0.0  0.0\n",
              "2  0.000000    0.0  0.0  0.0  0.0  0.0  ...       0.0   0.0    0.0   0.0    0.0  0.0\n",
              "3  0.000000    0.0  0.0  0.0  0.0  0.0  ...       0.0   0.0    0.0   0.0    0.0  0.0\n",
              "4  0.000000    0.0  0.0  0.0  0.0  0.0  ...       0.0   0.0    0.0   0.0    0.0  0.0\n",
              "\n",
              "[5 rows x 13177 columns]"
            ]
          },
          "metadata": {
            "tags": []
          },
          "execution_count": 100
        }
      ]
    },
    {
      "cell_type": "code",
      "metadata": {
        "colab": {
          "base_uri": "https://localhost:8080/"
        },
        "id": "MECOndYbVQSx",
        "outputId": "4cf8a438-8adf-4a49-c9f6-e372a1c6f4f7"
      },
      "source": [
        "from imblearn.over_sampling import SMOTE\n",
        "oversample = SMOTE(random_state=42,k_neighbors=5)\n",
        "X, y = oversample.fit_resample(X_tfidf_df, train_3['Target'])\n",
        "# summarize distribution\n",
        "counter = Counter(y)\n",
        "for k,v in counter.items():\n",
        "\tper = v / len(y) * 100\n",
        "\tprint('Class=%s, n=%d (%.3f%%)' % (k, v, per))\n",
        "# plot the distribution\n",
        "pyplot.bar(counter.keys(), counter.values())\n",
        "pyplot.show()"
      ],
      "execution_count": null,
      "outputs": [
        {
          "output_type": "stream",
          "text": [
            "/usr/local/lib/python3.7/dist-packages/sklearn/utils/deprecation.py:87: FutureWarning: Function safe_indexing is deprecated; safe_indexing is deprecated in version 0.22 and will be removed in version 0.24.\n",
            "  warnings.warn(msg, category=FutureWarning)\n",
            "/usr/local/lib/python3.7/dist-packages/sklearn/utils/deprecation.py:87: FutureWarning: Function safe_indexing is deprecated; safe_indexing is deprecated in version 0.22 and will be removed in version 0.24.\n",
            "  warnings.warn(msg, category=FutureWarning)\n",
            "/usr/local/lib/python3.7/dist-packages/sklearn/utils/deprecation.py:87: FutureWarning: Function safe_indexing is deprecated; safe_indexing is deprecated in version 0.22 and will be removed in version 0.24.\n",
            "  warnings.warn(msg, category=FutureWarning)\n",
            "/usr/local/lib/python3.7/dist-packages/sklearn/utils/deprecation.py:87: FutureWarning: Function safe_indexing is deprecated; safe_indexing is deprecated in version 0.22 and will be removed in version 0.24.\n",
            "  warnings.warn(msg, category=FutureWarning)\n",
            "/usr/local/lib/python3.7/dist-packages/sklearn/utils/deprecation.py:87: FutureWarning: Function safe_indexing is deprecated; safe_indexing is deprecated in version 0.22 and will be removed in version 0.24.\n",
            "  warnings.warn(msg, category=FutureWarning)\n"
          ],
          "name": "stderr"
        }
      ]
    },
    {
      "cell_type": "code",
      "metadata": {
        "id": "B8PT--pjVQSy"
      },
      "source": [
        "t_p = tfidf_vect.transform(test['Sentence'])"
      ],
      "execution_count": null,
      "outputs": []
    },
    {
      "cell_type": "code",
      "metadata": {
        "id": "IooZAvCMWecO"
      },
      "source": [
        "from sklearn.metrics import classification_report\n",
        "x_train_3 = tfidf_vect.transform(train_3['text'])\n",
        "x_train_3.shape\n",
        "X_train, x_val, Y_train, y_val = train_test_split(x_train_3,train_3['Target'],test_size=0.25,random_state=2)\n",
        "classifier_3 = lgb.LGBMClassifier()\n",
        "classifier_3.fit(X_train, Y_train)\n",
        "y_pred = classifier_3.predict(x_val)\n",
        "print(np.unique(y_pred))\n",
        "print(type(y_pred))\n",
        "\n",
        "Accuracy_score = accuracy_score(y_pred,y_val)\n",
        "\n",
        "print('Validation ------- Accuracy_score: %f' % Accuracy_score)\n",
        "\n",
        "test_pred = classifier_3.predict(t_p)\n",
        "acc_test = accuracy_score(test_pred,test['Target'])\n",
        "print('Test ------Accuracy score ', acc_test)\n",
        "matrix = confusion_matrix(y_pred, y_val)\n",
        "print(matrix)\n",
        "print(\"---------validation--------------\")\n",
        "print(classification_report(y_val,y_pred))\n",
        "print(\"----------test---------------------\")\n",
        "print(classification_report(test['Target'],test_pred))"
      ],
      "execution_count": null,
      "outputs": []
    },
    {
      "cell_type": "code",
      "metadata": {
        "id": "G1Ia6afdXHU6"
      },
      "source": [
        ""
      ],
      "execution_count": null,
      "outputs": []
    },
    {
      "cell_type": "code",
      "metadata": {
        "id": "B929PxVuNzOK"
      },
      "source": [
        "x_un4 = tfidf_vect.transform(unlabel_4['text'])\n"
      ],
      "execution_count": null,
      "outputs": []
    },
    {
      "cell_type": "code",
      "metadata": {
        "id": "H5LcJGGEN_28"
      },
      "source": [
        "\n",
        "pred_unlabel_4 = classifier_3.predict_proba(x_un4)\n",
        "pred_unlabel_4"
      ],
      "execution_count": null,
      "outputs": []
    },
    {
      "cell_type": "code",
      "metadata": {
        "id": "KL-MuDs0OHS_"
      },
      "source": [
        "print(len(pred_unlabel_2))\n",
        "print(np.unique(pred_unlabel_2))"
      ],
      "execution_count": null,
      "outputs": []
    },
    {
      "cell_type": "code",
      "metadata": {
        "id": "E2hJRNIwOJtD"
      },
      "source": [
        "import numpy as np\n",
        "pos=[]\n",
        "large=[]\n",
        "ind = []\n",
        "i=0\n",
        "for j in pred_unlabel_4:\n",
        "  if max(j)> Threshold:\n",
        "    ind.append(np.argmax(j))\n",
        "    large.append(max(j))\n",
        "    pos.append(i)\n",
        "  i+=1\n",
        "\n",
        "\n",
        "print(ind)\n",
        "print(large)\n",
        "print(pos)\n",
        "print(type(pos))\n",
        "print(len(ind))\n",
        "print(len(large))\n",
        "print(len(pos))"
      ],
      "execution_count": null,
      "outputs": []
    },
    {
      "cell_type": "code",
      "metadata": {
        "id": "-d37gPPxOKYe"
      },
      "source": [
        "unlabel_4 = unlabel_4.loc[pos,:]\n",
        "print(len(unlabel_4))\n",
        "unlabel_4.head()"
      ],
      "execution_count": null,
      "outputs": []
    },
    {
      "cell_type": "code",
      "metadata": {
        "id": "W63mA-YSOjwr"
      },
      "source": [
        "class_x_un4 = tfidf_vect.transform(unlabel_4['text'])"
      ],
      "execution_count": null,
      "outputs": []
    },
    {
      "cell_type": "code",
      "metadata": {
        "id": "R1XhrcyLOzB1"
      },
      "source": [
        "class_x_un4.shape"
      ],
      "execution_count": null,
      "outputs": []
    },
    {
      "cell_type": "code",
      "metadata": {
        "id": "pgdtvQtgO3IA"
      },
      "source": [
        "class_pred_unlabel_4 = classifier_3.predict(class_x_un4)\n",
        "class_pred_unlabel_4"
      ],
      "execution_count": null,
      "outputs": []
    },
    {
      "cell_type": "code",
      "metadata": {
        "id": "stJ1tS-GPCH1"
      },
      "source": [
        "print(len(class_pred_unlabel_4))"
      ],
      "execution_count": null,
      "outputs": []
    },
    {
      "cell_type": "code",
      "metadata": {
        "id": "_i8lEcN8PGkH"
      },
      "source": [
        "unlabel_4['Target']=class_pred_unlabel_4\n",
        "unlabel_4.head()"
      ],
      "execution_count": null,
      "outputs": []
    },
    {
      "cell_type": "code",
      "metadata": {
        "id": "Xkr3T0FPPNVa"
      },
      "source": [
        "train_3.head()"
      ],
      "execution_count": null,
      "outputs": []
    },
    {
      "cell_type": "code",
      "metadata": {
        "id": "ElMqP9aFPT1n"
      },
      "source": [
        "frame_4 = [train_3,unlabel_4]\n",
        "train_4 = pd.concat(frame_4)\n",
        "print(len(train_3))\n",
        "print(len(unlabel_4))\n",
        "print(len(train_4))\n",
        "train_4"
      ],
      "execution_count": null,
      "outputs": []
    },
    {
      "cell_type": "code",
      "metadata": {
        "id": "-1gnydv9L9dy"
      },
      "source": [
        "train_4.sort_values(\"text\", inplace = True)\n",
        "train_4 = train_4.drop_duplicates(subset =\"text\")\n",
        "print(len(train_4))\n"
      ],
      "execution_count": null,
      "outputs": []
    },
    {
      "cell_type": "code",
      "metadata": {
        "id": "2zQZG_-3MRe9"
      },
      "source": [
        "from imblearn.over_sampling import SMOTE\n",
        "from collections import Counter\n",
        "from matplotlib import pyplot\n",
        "from sklearn.preprocessing import LabelEncoder\n",
        "data = train_4.values\n",
        "\n",
        "\n",
        "# split into input and output elements\n",
        "X, y = data[:, :-1], data[:, -1]\n",
        "# label encode the target variable\n",
        "y = LabelEncoder().fit_transform(y)\n",
        "print(y)\n",
        "# summarize distribution\n",
        "counter = Counter(y)\n",
        "print(y)\n",
        "total =0\n",
        "for k,v in counter.items():\n",
        "  total = total+v\n",
        "  per = v / len(y) * 100\n",
        "  print('Class=%s, n=%d (%.3f%%)' % (k, v, per))\n",
        "\n",
        "pyplot.bar(counter.keys(), counter.values())\n",
        "print(\"total\",total)\n",
        "pyplot.show()"
      ],
      "execution_count": null,
      "outputs": []
    },
    {
      "cell_type": "code",
      "metadata": {
        "id": "7qBGTRbWMRfB"
      },
      "source": [
        "\n",
        "\n",
        "from sklearn.feature_extraction.text import TfidfVectorizer\n",
        "\n",
        "tfidf_vect = TfidfVectorizer(analyzer = clean_text)\n",
        "X_tfidf = tfidf_vect.fit_transform(train_4['text'])\n",
        "print(X_tfidf.shape)"
      ],
      "execution_count": null,
      "outputs": []
    },
    {
      "cell_type": "code",
      "metadata": {
        "id": "6ksP3QS5MRfB"
      },
      "source": [
        "X_tfidf_df=pd.DataFrame(X_tfidf.toarray())\n",
        "X_tfidf_df.columns=tfidf_vect.get_feature_names()\n",
        "X_tfidf_df.head()"
      ],
      "execution_count": null,
      "outputs": []
    },
    {
      "cell_type": "code",
      "metadata": {
        "id": "r9_5sqjHMRfC"
      },
      "source": [
        "from imblearn.over_sampling import SMOTE\n",
        "oversample = SMOTE(random_state=42,k_neighbors=5)\n",
        "X, y = oversample.fit_resample(X_tfidf_df, train_4['Target'])\n",
        "# summarize distribution\n",
        "counter = Counter(y)\n",
        "for k,v in counter.items():\n",
        "\tper = v / len(y) * 100\n",
        "\tprint('Class=%s, n=%d (%.3f%%)' % (k, v, per))\n",
        "# plot the distribution\n",
        "pyplot.bar(counter.keys(), counter.values())\n",
        "pyplot.show()"
      ],
      "execution_count": null,
      "outputs": []
    },
    {
      "cell_type": "code",
      "metadata": {
        "id": "gkiNsFESMRfC"
      },
      "source": [
        "t_p = tfidf_vect.transform(test['Sentence'])"
      ],
      "execution_count": null,
      "outputs": []
    },
    {
      "cell_type": "code",
      "metadata": {
        "id": "opXW8V76MV8O"
      },
      "source": [
        "from sklearn.metrics import classification_report\n",
        "x_train_4 = tfidf_vect.transform(train_4['text'])\n",
        "x_train_4.shape\n",
        "X_train, x_val, Y_train, y_val = train_test_split(x_train_4,train_4['Target'],test_size=0.25,random_state=2)\n",
        "classifier_4 = lgb.LGBMClassifier()\n",
        "classifier_4.fit(X_train, Y_train)\n",
        "y_pred = classifier_4.predict(x_val)\n",
        "print(np.unique(y_pred))\n",
        "print(type(y_pred))\n",
        "\n",
        "\n",
        "Accuracy_score = accuracy_score(y_pred,y_val)\n",
        "\n",
        "print('Validation ------- Accuracy_score: %f' % Accuracy_score)\n",
        "\n",
        "test_pred = classifier_4.predict(t_p)\n",
        "acc_test = accuracy_score(test_pred,test['Target'])\n",
        "print('Test ------Accuracy score ', acc_test)\n",
        "matrix = confusion_matrix(y_pred, y_val)\n",
        "print(matrix)\n",
        "print(\"---------validation--------------\")\n",
        "print(classification_report(y_val,y_pred))\n",
        "print(\"----------test---------------------\")\n",
        "print(classification_report(test['Target'],test_pred))"
      ],
      "execution_count": null,
      "outputs": []
    },
    {
      "cell_type": "code",
      "metadata": {
        "id": "T6lsnsYwOdBA"
      },
      "source": [
        ""
      ],
      "execution_count": null,
      "outputs": []
    },
    {
      "cell_type": "code",
      "metadata": {
        "id": "YvKHLPZhPus4"
      },
      "source": [
        "x_un5 = tfidf_vect.transform(unlabel_5['text'])\n"
      ],
      "execution_count": null,
      "outputs": []
    },
    {
      "cell_type": "code",
      "metadata": {
        "id": "KNbi0iTUj6pW"
      },
      "source": [
        "x_un5.shape"
      ],
      "execution_count": null,
      "outputs": []
    },
    {
      "cell_type": "code",
      "metadata": {
        "id": "CwzWU83UPULD"
      },
      "source": [
        "pred_unlabel_5 = classifier_4.predict_proba(x_un5)\n",
        "pred_unlabel_5"
      ],
      "execution_count": null,
      "outputs": []
    },
    {
      "cell_type": "code",
      "metadata": {
        "id": "vrO9kRe9j1hn"
      },
      "source": [
        "print(len(pred_unlabel_5))\n",
        "print(np.unique(pred_unlabel_5)) "
      ],
      "execution_count": null,
      "outputs": []
    },
    {
      "cell_type": "code",
      "metadata": {
        "id": "_2Y4iBy1kczY"
      },
      "source": [
        "import numpy as np\n",
        "pos=[]\n",
        "large=[]\n",
        "ind = []\n",
        "i=0\n",
        "for j in pred_unlabel_5:\n",
        "  if max(j)> Threshold:\n",
        "    ind.append(np.argmax(j))\n",
        "    large.append(max(j))\n",
        "    pos.append(i)\n",
        "  i+=1\n",
        "\n",
        "\n",
        "print(ind)\n",
        "print(large)\n",
        "print(pos)\n",
        "print(type(pos))\n",
        "print(len(ind))\n",
        "print(len(large))\n",
        "print(len(pos))"
      ],
      "execution_count": null,
      "outputs": []
    },
    {
      "cell_type": "code",
      "metadata": {
        "id": "zu7tVTsBkmPI"
      },
      "source": [
        "unlabel_5 = unlabel_5.loc[pos,:]\n",
        "print(len(unlabel_5))\n",
        "unlabel_5.head()"
      ],
      "execution_count": null,
      "outputs": []
    },
    {
      "cell_type": "code",
      "metadata": {
        "id": "jiX4GHpzkszc"
      },
      "source": [
        "class_x_un5 = tfidf_vect.transform(unlabel_5['text'])"
      ],
      "execution_count": null,
      "outputs": []
    },
    {
      "cell_type": "code",
      "metadata": {
        "id": "IxpKllGDlAXX"
      },
      "source": [
        "class_x_un5.shape"
      ],
      "execution_count": null,
      "outputs": []
    },
    {
      "cell_type": "code",
      "metadata": {
        "id": "44BEVr86lGWd"
      },
      "source": [
        "class_pred_unlabel_5 = classifier_4.predict(class_x_un5)\n",
        "class_pred_unlabel_5"
      ],
      "execution_count": null,
      "outputs": []
    },
    {
      "cell_type": "code",
      "metadata": {
        "id": "jf4e449JlhnN"
      },
      "source": [
        "print(len(class_pred_unlabel_5))"
      ],
      "execution_count": null,
      "outputs": []
    },
    {
      "cell_type": "code",
      "metadata": {
        "id": "ZGHjNdp-lj7v"
      },
      "source": [
        "unlabel_5['Target']=class_pred_unlabel_5\n",
        "unlabel_5.head()"
      ],
      "execution_count": null,
      "outputs": []
    },
    {
      "cell_type": "code",
      "metadata": {
        "id": "RDX3yezWlzze"
      },
      "source": [
        "train_4.head()\n"
      ],
      "execution_count": null,
      "outputs": []
    },
    {
      "cell_type": "code",
      "metadata": {
        "id": "gkeH0CbOmJYe"
      },
      "source": [
        "print(len(train_4))"
      ],
      "execution_count": null,
      "outputs": []
    },
    {
      "cell_type": "code",
      "metadata": {
        "id": "1Fz4_ozxmKEB"
      },
      "source": [
        "frame_5 = [train_4,unlabel_5]\n",
        "train_5 = pd.concat(frame_5)\n",
        "print(len(train_4))\n",
        "print(len(unlabel_5))\n",
        "print(len(train_5))"
      ],
      "execution_count": null,
      "outputs": []
    },
    {
      "cell_type": "code",
      "metadata": {
        "id": "Difbq4X6OpV4"
      },
      "source": [
        "train_5.sort_values(\"text\", inplace = True)\n",
        "train_5 = train_5.drop_duplicates(subset =\"text\")\n",
        "print(len(train_5))"
      ],
      "execution_count": null,
      "outputs": []
    },
    {
      "cell_type": "code",
      "metadata": {
        "id": "gXsONzYaOppJ"
      },
      "source": [
        "from imblearn.over_sampling import SMOTE\n",
        "from collections import Counter\n",
        "from matplotlib import pyplot\n",
        "from sklearn.preprocessing import LabelEncoder\n",
        "data = train_5.values\n",
        "\n",
        "\n",
        "# split into input and output elements\n",
        "X, y = data[:, :-1], data[:, -1]\n",
        "# label encode the target variable\n",
        "y = LabelEncoder().fit_transform(y)\n",
        "print(y)\n",
        "# summarize distribution\n",
        "counter = Counter(y)\n",
        "print(y)\n",
        "total =0\n",
        "for k,v in counter.items():\n",
        "  total = total+v\n",
        "  per = v / len(y) * 100\n",
        "  print('Class=%s, n=%d (%.3f%%)' % (k, v, per))\n",
        "\n",
        "pyplot.bar(counter.keys(), counter.values())\n",
        "print(\"total\",total)\n",
        "pyplot.show()"
      ],
      "execution_count": null,
      "outputs": []
    },
    {
      "cell_type": "code",
      "metadata": {
        "id": "MJ9svMjuOppJ"
      },
      "source": [
        "\n",
        "\n",
        "from sklearn.feature_extraction.text import TfidfVectorizer\n",
        "\n",
        "tfidf_vect = TfidfVectorizer(analyzer = clean_text)\n",
        "X_tfidf = tfidf_vect.fit_transform(train_5['text'])\n",
        "print(X_tfidf.shape)"
      ],
      "execution_count": null,
      "outputs": []
    },
    {
      "cell_type": "code",
      "metadata": {
        "id": "9ATuSRIoOppK"
      },
      "source": [
        "X_tfidf_df=pd.DataFrame(X_tfidf.toarray())\n",
        "X_tfidf_df.columns=tfidf_vect.get_feature_names()\n",
        "X_tfidf_df.head()"
      ],
      "execution_count": null,
      "outputs": []
    },
    {
      "cell_type": "code",
      "metadata": {
        "id": "HNB70G5IOppL"
      },
      "source": [
        "from imblearn.over_sampling import SMOTE\n",
        "oversample = SMOTE(random_state=42,k_neighbors=5)\n",
        "X, y = oversample.fit_resample(X_tfidf_df, train_5['Target'])\n",
        "# summarize distribution\n",
        "counter = Counter(y)\n",
        "for k,v in counter.items():\n",
        "\tper = v / len(y) * 100\n",
        "\tprint('Class=%s, n=%d (%.3f%%)' % (k, v, per))\n",
        "# plot the distribution\n",
        "pyplot.bar(counter.keys(), counter.values())\n",
        "pyplot.show()"
      ],
      "execution_count": null,
      "outputs": []
    },
    {
      "cell_type": "code",
      "metadata": {
        "id": "kXc6aBqCOppL"
      },
      "source": [
        "t_p = tfidf_vect.transform(test['Sentence'])"
      ],
      "execution_count": null,
      "outputs": []
    },
    {
      "cell_type": "code",
      "metadata": {
        "id": "JE_MTXEZOw8O"
      },
      "source": [
        "from sklearn.metrics import classification_report\n",
        "x_train_5 = tfidf_vect.transform(train_5['text'])\n",
        "x_train_5.shape\n",
        "X_train, x_val, Y_train, y_val = train_test_split(x_train_5,train_5['Target'],test_size=0.25,random_state=2)\n",
        "classifier_5 = lgb.LGBMClassifier()\n",
        "classifier_5.fit(X_train, Y_train)\n",
        "y_pred = classifier_5.predict(x_val)\n",
        "print(np.unique(y_pred))\n",
        "print(type(y_pred))\n",
        "\n",
        "\n",
        "Accuracy_score = accuracy_score(y_pred,y_val)\n",
        "\n",
        "print('Validation ------- Accuracy_score: %f' % Accuracy_score)\n",
        "\n",
        "test_pred = classifier_5.predict(t_p)\n",
        "acc_test = accuracy_score(test_pred,test['Target'])\n",
        "print('Test ------Accuracy score ', acc_test)\n",
        "matrix = confusion_matrix(y_pred, y_val)\n",
        "print(matrix)\n",
        "print(\"---------validation--------------\")\n",
        "print(classification_report(y_val,y_pred))\n",
        "print(\"----------test---------------------\")\n",
        "print(classification_report(test['Target'],test_pred))"
      ],
      "execution_count": null,
      "outputs": []
    }
  ]
}