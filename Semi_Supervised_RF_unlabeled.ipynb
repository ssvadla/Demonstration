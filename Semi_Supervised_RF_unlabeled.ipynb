{
  "nbformat": 4,
  "nbformat_minor": 0,
  "metadata": {
    "colab": {
      "name": "Semi_Supervised_RF_unlabeled.ipynb",
      "provenance": [],
      "collapsed_sections": [],
      "authorship_tag": "ABX9TyN/3Wrgd8iycg6btfRZ57u/",
      "include_colab_link": true
    },
    "kernelspec": {
      "name": "python3",
      "display_name": "Python 3"
    },
    "language_info": {
      "name": "python"
    }
  },
  "cells": [
    {
      "cell_type": "markdown",
      "metadata": {
        "id": "view-in-github",
        "colab_type": "text"
      },
      "source": [
        "<a href=\"https://colab.research.google.com/github/ssvadla/Demonstration/blob/main/Semi_Supervised_RF_unlabeled.ipynb\" target=\"_parent\"><img src=\"https://colab.research.google.com/assets/colab-badge.svg\" alt=\"Open In Colab\"/></a>"
      ]
    },
    {
      "cell_type": "code",
      "metadata": {
        "colab": {
          "base_uri": "https://localhost:8080/",
          "height": 223
        },
        "id": "8bgrGV7vh2Cz",
        "outputId": "e56f1d1b-72d4-4f7b-ae00-745bdf2b8fb4"
      },
      "source": [
        "import pandas as pd\n",
        "from google.colab import drive\n",
        "\n",
        "drive.mount('/content/drive')\n",
        "\n",
        "train1 = pd.read_csv('/content/drive/My Drive/Research/train_data1.csv')\n",
        "train2 = pd.read_csv('/content/drive/My Drive/Research/train_data2.csv')\n",
        "train3 = pd.read_csv('/content/drive/My Drive/Research/train_data3.csv')\n",
        "train4 = pd.read_csv('/content/drive/My Drive/Research/train_data4.csv')\n",
        "train5 = pd.read_csv('/content/drive/My Drive/Research/train_data5.csv')\n",
        "train6 = pd.read_csv('/content/drive/My Drive/Research/train_data6.csv')\n",
        "train7 = pd.read_csv('/content/drive/My Drive/Research/train_data7.csv')\n",
        "train8 = pd.read_csv('/content/drive/My Drive/Research/train_data8.csv')\n",
        "train9 = pd.read_csv('/content/drive/My Drive/Research/train_data9.csv')\n",
        "train10 = pd.read_csv('/content/drive/My Drive/Research/train_data10.csv')\n",
        "train_highKappa = pd.read_csv('/content/drive/My Drive/Research/train_data_highkappa.csv')\n",
        "train1.head()"
      ],
      "execution_count": 1,
      "outputs": [
        {
          "output_type": "stream",
          "text": [
            "Drive already mounted at /content/drive; to attempt to forcibly remount, call drive.mount(\"/content/drive\", force_remount=True).\n"
          ],
          "name": "stdout"
        },
        {
          "output_type": "execute_result",
          "data": {
            "text/html": [
              "<div>\n",
              "<style scoped>\n",
              "    .dataframe tbody tr th:only-of-type {\n",
              "        vertical-align: middle;\n",
              "    }\n",
              "\n",
              "    .dataframe tbody tr th {\n",
              "        vertical-align: top;\n",
              "    }\n",
              "\n",
              "    .dataframe thead th {\n",
              "        text-align: right;\n",
              "    }\n",
              "</style>\n",
              "<table border=\"1\" class=\"dataframe\">\n",
              "  <thead>\n",
              "    <tr style=\"text-align: right;\">\n",
              "      <th></th>\n",
              "      <th>Unnamed: 0</th>\n",
              "      <th>Sentence</th>\n",
              "      <th>Target</th>\n",
              "    </tr>\n",
              "  </thead>\n",
              "  <tbody>\n",
              "    <tr>\n",
              "      <th>0</th>\n",
              "      <td>659</td>\n",
              "      <td>Appellant had stated to the officers that she ...</td>\n",
              "      <td>Invalid</td>\n",
              "    </tr>\n",
              "    <tr>\n",
              "      <th>1</th>\n",
              "      <td>3456</td>\n",
              "      <td>We shall discuss the facts more fully in conne...</td>\n",
              "      <td>Others</td>\n",
              "    </tr>\n",
              "    <tr>\n",
              "      <th>2</th>\n",
              "      <td>2043</td>\n",
              "      <td>â€œPerjury is a false statement, either writte...</td>\n",
              "      <td>Invalid</td>\n",
              "    </tr>\n",
              "    <tr>\n",
              "      <th>3</th>\n",
              "      <td>3344</td>\n",
              "      <td>The offense is felony theft by false pretext; ...</td>\n",
              "      <td>Issue</td>\n",
              "    </tr>\n",
              "    <tr>\n",
              "      <th>4</th>\n",
              "      <td>3231</td>\n",
              "      <td>Numerous contentions urging the commission of ...</td>\n",
              "      <td>Issue</td>\n",
              "    </tr>\n",
              "  </tbody>\n",
              "</table>\n",
              "</div>"
            ],
            "text/plain": [
              "   Unnamed: 0                                           Sentence   Target\n",
              "0         659  Appellant had stated to the officers that she ...  Invalid\n",
              "1        3456  We shall discuss the facts more fully in conne...   Others\n",
              "2        2043  â€œPerjury is a false statement, either writte...  Invalid\n",
              "3        3344  The offense is felony theft by false pretext; ...    Issue\n",
              "4        3231  Numerous contentions urging the commission of ...    Issue"
            ]
          },
          "metadata": {
            "tags": []
          },
          "execution_count": 1
        }
      ]
    },
    {
      "cell_type": "code",
      "metadata": {
        "id": "oYl2kHPJ6g_L"
      },
      "source": [
        "unlabel_size = 5000\n",
        "Threshold= 0.90"
      ],
      "execution_count": 2,
      "outputs": []
    },
    {
      "cell_type": "code",
      "metadata": {
        "id": "Y9YfocBgXyXB",
        "colab": {
          "base_uri": "https://localhost:8080/"
        },
        "outputId": "6964ef35-b8b8-4b73-b092-4f3fed0b08fa"
      },
      "source": [
        "train = train1\n",
        "train_list = [train2,train3,train4,train5,train6,train7,train8,train9,train10,train_highKappa]\n",
        "for i in train_list:\n",
        "  print(i)\n",
        "  train = train.append(i)"
      ],
      "execution_count": 3,
      "outputs": [
        {
          "output_type": "stream",
          "text": [
            "      Unnamed: 0                                           Sentence    Target\n",
            "0            659  Appellant had stated to the officers that she ...   Invalid\n",
            "1           3456  We shall discuss the facts more fully in conne...    Others\n",
            "2           2043  â€œPerjury is a false statement, either writte...   Invalid\n",
            "3           3344  The offense is felony theft by false pretext; ...     Issue\n",
            "4           3231  Numerous contentions urging the commission of ...     Issue\n",
            "...          ...                                                ...       ...\n",
            "3471        1561  Therefore, the deletion of reference to the Cl...  Analysis\n",
            "3472         327  A paraffin test, which was made on the appella...  Analysis\n",
            "3473        1462  The sole question presented is the sufficiency...     Facts\n",
            "3474        1169  The answer was in response to the question ask...     Facts\n",
            "3475        1470  The Stateâ€™s evidence shows that in the sprin...   Invalid\n",
            "\n",
            "[3476 rows x 3 columns]\n",
            "      Unnamed: 0                                           Sentence    Target\n",
            "0            659  Appellant had stated to the officers that she ...   Invalid\n",
            "1           3456  We shall discuss the facts more fully in conne...    Others\n",
            "2           2043  â€œPerjury is a false statement, either writte...   Invalid\n",
            "3           3344  The offense is felony theft by false pretext; ...     Issue\n",
            "4           3231  Numerous contentions urging the commission of ...     Issue\n",
            "...          ...                                                ...       ...\n",
            "3471         621  Claims against the Commercial Port, and the Pu...     Facts\n",
            "3472         520  Appellantâ€™s first four claims for reversal r...     Issue\n",
            "3473         182  State, 52 N.Y.S.2d 894 (1945); 45 Cal.Jur.2d, ...    Others\n",
            "3474         841  In the case at bar the stateâ€™s witness did e...  Analysis\n",
            "3475         833  In rebuttal, the State called witnesses who te...     Facts\n",
            "\n",
            "[3476 rows x 3 columns]\n",
            "      Unnamed: 0                                           Sentence    Target\n",
            "0            659  Appellant had stated to the officers that she ...   Invalid\n",
            "1           3456  We shall discuss the facts more fully in conne...    Others\n",
            "2           2043  â€œPerjury is a false statement, either writte...   Invalid\n",
            "3           3344  The offense is felony theft by false pretext; ...     Issue\n",
            "4           3231  Numerous contentions urging the commission of ...     Issue\n",
            "...          ...                                                ...       ...\n",
            "3471         288  120, 157 S.W. 2d 648, where it was held that t...   Invalid\n",
            "3472          99           Handing v. United States, supra at 2904.    Others\n",
            "3473        1665  We find no error in the admission of the testi...  Analysis\n",
            "3474         181                   Smith v. United States, 97 S.Ct.   Invalid\n",
            "3475         916  It was further stipulated and agreed that had ...     Facts\n",
            "\n",
            "[3476 rows x 3 columns]\n",
            "      Unnamed: 0  ...            Target\n",
            "0            659  ...           Invalid\n",
            "1           3456  ...            Others\n",
            "2           2043  ...           Invalid\n",
            "3           3344  ...             Issue\n",
            "4           3231  ...             Issue\n",
            "...          ...  ...               ...\n",
            "3471         999  ...             Facts\n",
            "3472        1652  ...             Facts\n",
            "3473         422  ...             Facts\n",
            "3474         718  ...  Rule/Law/Holding\n",
            "3475        1608  ...             Facts\n",
            "\n",
            "[3476 rows x 3 columns]\n",
            "      Unnamed: 0  ...            Target\n",
            "0            659  ...           Invalid\n",
            "1           3456  ...            Others\n",
            "2           2043  ...           Invalid\n",
            "3           3344  ...             Issue\n",
            "4           3231  ...             Issue\n",
            "...          ...  ...               ...\n",
            "3471        1473  ...             Facts\n",
            "3472        1431  ...             Facts\n",
            "3473        1139  ...             Facts\n",
            "3474        1269  ...             Facts\n",
            "3475         274  ...  Rule/Law/Holding\n",
            "\n",
            "[3476 rows x 3 columns]\n",
            "      Unnamed: 0  ...            Target\n",
            "0            659  ...           Invalid\n",
            "1           3456  ...            Others\n",
            "2           2043  ...           Invalid\n",
            "3           3344  ...             Issue\n",
            "4           3231  ...             Issue\n",
            "...          ...  ...               ...\n",
            "3471        1020  ...             Facts\n",
            "3472         391  ...          Analysis\n",
            "3473        1522  ...             Facts\n",
            "3474         933  ...             Facts\n",
            "3475         909  ...  Rule/Law/Holding\n",
            "\n",
            "[3476 rows x 3 columns]\n",
            "      Unnamed: 0                                           Sentence   Target\n",
            "0            659  Appellant had stated to the officers that she ...  Invalid\n",
            "1           3456  We shall discuss the facts more fully in conne...   Others\n",
            "2           2043  â€œPerjury is a false statement, either writte...  Invalid\n",
            "3           3344  The offense is felony theft by false pretext; ...    Issue\n",
            "4           3231  Numerous contentions urging the commission of ...    Issue\n",
            "...          ...                                                ...      ...\n",
            "3471         738                      He just kept going like that.    Facts\n",
            "3472        1099  She further testified that she told the office...    Facts\n",
            "3473         613  Cecil Ray testified that Mrs. Stockard and app...    Facts\n",
            "3474        1690  We overrule appellantâ€™s remaining contention...    Facts\n",
            "3475        1210  The claim is for \"all injuries proximately cau...    Issue\n",
            "\n",
            "[3476 rows x 3 columns]\n",
            "      Unnamed: 0  ...            Target\n",
            "0            659  ...           Invalid\n",
            "1           3456  ...            Others\n",
            "2           2043  ...           Invalid\n",
            "3           3344  ...             Issue\n",
            "4           3231  ...             Issue\n",
            "...          ...  ...               ...\n",
            "3471         180  ...           Invalid\n",
            "3472         909  ...  Rule/Law/Holding\n",
            "3473         905  ...  Rule/Law/Holding\n",
            "3474        1360  ...          Analysis\n",
            "3475        1264  ...             Facts\n",
            "\n",
            "[3476 rows x 3 columns]\n",
            "      Unnamed: 0                                           Sentence    Target\n",
            "0            659  Appellant had stated to the officers that she ...   Invalid\n",
            "1           3456  We shall discuss the facts more fully in conne...    Others\n",
            "2           2043  â€œPerjury is a false statement, either writte...   Invalid\n",
            "3           3344  The offense is felony theft by false pretext; ...     Issue\n",
            "4           3231  Numerous contentions urging the commission of ...     Issue\n",
            "...          ...                                                ...       ...\n",
            "3471        1283  The evidence is sufficient to support the conv...  Analysis\n",
            "3472        1477  The stateâ€™s proof further shows that after a...   Invalid\n",
            "3473         780  Honyea testified that he obtained the pistol a...     Facts\n",
            "3474         628                Continuing, the Government asserts:    Others\n",
            "3475        1306  The first cause of action sounds in negligence...     Facts\n",
            "\n",
            "[3476 rows x 3 columns]\n",
            "      Unnamed: 0                                           Sentence    Target\n",
            "0            659  Appellant had stated to the officers that she ...   Invalid\n",
            "1           3456  We shall discuss the facts more fully in conne...    Others\n",
            "2           2043  â€œPerjury is a false statement, either writte...   Invalid\n",
            "3           3344  The offense is felony theft by false pretext; ...     Issue\n",
            "4           3231  Numerous contentions urging the commission of ...     Issue\n",
            "...          ...                                                ...       ...\n",
            "2946         677  Appellant presents as error an informal bill o...     Issue\n",
            "2947        3442  We are cited no authority, and know of none, w...  Analysis\n",
            "2948        3009  “I asked her to have intercourse with me and s...     Facts\n",
            "2949        1989  and Art. 82 P.C. which provide, in effect, tha...   Invalid\n",
            "2950        3006  “Appellant takes issue with our statement in t...   Invalid\n",
            "\n",
            "[2951 rows x 3 columns]\n"
          ],
          "name": "stdout"
        }
      ]
    },
    {
      "cell_type": "code",
      "metadata": {
        "colab": {
          "base_uri": "https://localhost:8080/"
        },
        "id": "BT1-45zqYHcc",
        "outputId": "d9266fb5-728b-46f9-acdc-c0d8964a8b6d"
      },
      "source": [
        "train.sort_values(\"Sentence\", inplace = True)\n",
        "print(len(train))"
      ],
      "execution_count": 4,
      "outputs": [
        {
          "output_type": "stream",
          "text": [
            "37711\n"
          ],
          "name": "stdout"
        }
      ]
    },
    {
      "cell_type": "code",
      "metadata": {
        "id": "wbd0K5GrYIJM"
      },
      "source": [
        " train = train.drop_duplicates(subset =\"Sentence\")"
      ],
      "execution_count": 5,
      "outputs": []
    },
    {
      "cell_type": "code",
      "metadata": {
        "colab": {
          "base_uri": "https://localhost:8080/"
        },
        "id": "M-JnWo4IYSXk",
        "outputId": "308e6d08-bc84-4db0-e9c4-bad45eb8c1b5"
      },
      "source": [
        "train['Target'].unique()\n"
      ],
      "execution_count": 6,
      "outputs": [
        {
          "output_type": "execute_result",
          "data": {
            "text/plain": [
              "array(['Invalid', 'Rule/Law/Holding', 'Facts', 'Analysis', 'Others',\n",
              "       'Conclusion', 'Issue'], dtype=object)"
            ]
          },
          "metadata": {
            "tags": []
          },
          "execution_count": 6
        }
      ]
    },
    {
      "cell_type": "code",
      "metadata": {
        "colab": {
          "base_uri": "https://localhost:8080/"
        },
        "id": "M7K7OlxlYSx3",
        "outputId": "42b23f93-5520-4849-efb3-cf5b12a7b22d"
      },
      "source": [
        "train['Target']=train['Target'].replace(['Others'],'Invalid')\n",
        "train['Target'].unique()"
      ],
      "execution_count": 7,
      "outputs": [
        {
          "output_type": "execute_result",
          "data": {
            "text/plain": [
              "array(['Invalid', 'Rule/Law/Holding', 'Facts', 'Analysis', 'Conclusion',\n",
              "       'Issue'], dtype=object)"
            ]
          },
          "metadata": {
            "tags": []
          },
          "execution_count": 7
        }
      ]
    },
    {
      "cell_type": "code",
      "metadata": {
        "id": "-UgWiWj8h5aq"
      },
      "source": [
        ""
      ],
      "execution_count": 7,
      "outputs": []
    },
    {
      "cell_type": "code",
      "metadata": {
        "colab": {
          "base_uri": "https://localhost:8080/"
        },
        "id": "pLlfzOR-h-OA",
        "outputId": "8aaf64fc-a5db-40f4-b486-beb390ddaae9"
      },
      "source": [
        "#cleaning\n",
        "import nltk\n",
        "import re\n",
        "import string\n",
        "nltk.download('stopwords')\n",
        "nltk.download('wordnet')\n",
        "stopword=nltk.corpus.stopwords.words('english')\n",
        "from nltk.stem import WordNetLemmatizer\n",
        "wl= WordNetLemmatizer()\n",
        "\n",
        "def clean_text(text):\n",
        "  text=\"\".join([word.lower() for word in text if word not in string.punctuation])\n",
        "  tokens = re.split('\\W+',text)\n",
        "  text = [wl.lemmatize(word) for word in tokens if word not in stopword]\n",
        "  return text"
      ],
      "execution_count": 8,
      "outputs": [
        {
          "output_type": "stream",
          "text": [
            "[nltk_data] Downloading package stopwords to /root/nltk_data...\n",
            "[nltk_data]   Package stopwords is already up-to-date!\n",
            "[nltk_data] Downloading package wordnet to /root/nltk_data...\n",
            "[nltk_data]   Package wordnet is already up-to-date!\n"
          ],
          "name": "stdout"
        }
      ]
    },
    {
      "cell_type": "code",
      "metadata": {
        "colab": {
          "base_uri": "https://localhost:8080/"
        },
        "id": "wGB7XoKWiBJ8",
        "outputId": "95f912d6-012f-4318-b199-707e41b8cde5"
      },
      "source": [
        "from sklearn.feature_extraction.text import TfidfVectorizer\n",
        "\n",
        "tfidf_vect = TfidfVectorizer(analyzer = clean_text)\n",
        "X_tfidf = tfidf_vect.fit_transform(train['Sentence'])\n",
        "print(X_tfidf.shape)"
      ],
      "execution_count": 9,
      "outputs": [
        {
          "output_type": "stream",
          "text": [
            "(4416, 7374)\n"
          ],
          "name": "stdout"
        }
      ]
    },
    {
      "cell_type": "code",
      "metadata": {
        "id": "8SF0ONg3iDt-"
      },
      "source": [
        "test = pd.read_csv(r'/content/drive/My Drive/Research/test_data.csv')\n",
        "test['Target']=test['Target'].replace(['Others'],'Invalid')\n",
        "test['Sentence'] = test['Sentence'].apply(lambda x: \" \".join(x.lower() for x in str(x).split()))\n",
        "test['Sentence'] = test['Sentence'].str.replace('[^\\w\\s]','')\n",
        "from nltk.corpus import stopwords\n",
        "words = stopwords.words('english')\n",
        "test['Sentence'] = test['Sentence'].apply(lambda x: \" \".join(x for x in x.split() if x not in words))\n",
        "t_p = tfidf_vect.transform(test['Sentence'])"
      ],
      "execution_count": 10,
      "outputs": []
    },
    {
      "cell_type": "code",
      "metadata": {
        "colab": {
          "base_uri": "https://localhost:8080/"
        },
        "id": "IavJ4r0CiGjK",
        "outputId": "98a22e28-a442-4c97-9781-517595fef2af"
      },
      "source": [
        "import numpy as np\n",
        "from sklearn.datasets import make_classification\n",
        "from sklearn.ensemble import RandomForestClassifier\n",
        "from sklearn.pipeline import make_pipeline\n",
        "from sklearn.model_selection import train_test_split\n",
        "from sklearn.metrics import confusion_matrix\n",
        "from sklearn.base import BaseEstimator, ClassifierMixin\n",
        "from sklearn.metrics import accuracy_score\n",
        "from sklearn.metrics import average_precision_score\n",
        "from sklearn.metrics import precision_score\n",
        "from sklearn.metrics import recall_score\n",
        "from sklearn.metrics import f1_score\n",
        "from sklearn.metrics import cohen_kappa_score\n",
        "from sklearn.metrics import roc_auc_score\n",
        "from sklearn.metrics import confusion_matrix\n",
        "from sklearn.metrics import classification_report\n",
        "\n",
        "\n",
        "\n",
        "X, y = make_classification(random_state=1)\n",
        "\n",
        "X_train, x_val, Y_train, y_val = train_test_split(X_tfidf,train['Target'],test_size=0.26,random_state=42)\n",
        "\n",
        "classifier = RandomForestClassifier(n_estimators = 350, criterion = 'gini', max_features = 'auto', random_state = 42)\n",
        "classifier.fit(X_train, Y_train)\n",
        "y_pred = classifier.predict(x_val)\n",
        "#print(np.unique(y_pred))\n",
        "#print(type(y_pred))\n",
        "\n",
        "Accuracy_score = accuracy_score(y_pred,y_val)\n",
        "\n",
        "print('Validation Accuracy_score: %f' % Accuracy_score)\n",
        "test_pred = classifier.predict(t_p)\n",
        "acc_test = accuracy_score(test_pred,test['Target'])\n",
        "print('Accuracy test data', acc_test)\n",
        "classification_report_supervised = classification_report(test_pred,test['Target'], digits = 4)\n",
        "\n",
        "print(classification_report_supervised)\n",
        "matrix = confusion_matrix(y_pred, y_val)\n",
        "print(matrix)\n"
      ],
      "execution_count": 11,
      "outputs": [
        {
          "output_type": "stream",
          "text": [
            "Validation Accuracy_score: 0.632724\n",
            "Accuracy test data 0.6142034548944337\n",
            "                  precision    recall  f1-score   support\n",
            "\n",
            "        Analysis     0.1948    0.4839    0.2778        31\n",
            "      Conclusion     0.5385    0.7778    0.6364        18\n",
            "           Facts     0.8577    0.6580    0.7447       348\n",
            "         Invalid     0.5301    0.4632    0.4944        95\n",
            "           Issue     0.1765    0.7500    0.2857         8\n",
            "Rule/Law/Holding     0.3529    0.5714    0.4364        21\n",
            "\n",
            "        accuracy                         0.6142       521\n",
            "       macro avg     0.4417    0.6174    0.4792       521\n",
            "    weighted avg     0.7167    0.6142    0.6481       521\n",
            "\n",
            "[[ 45  14  16   6   6   6]\n",
            " [  3  19   3   3   1   2]\n",
            " [113  17 526  67  35  38]\n",
            " [ 14   8  35  87   4  13]\n",
            " [  1   2   0   0  21   1]\n",
            " [  2   2   4   1   5  29]]\n"
          ],
          "name": "stdout"
        }
      ]
    },
    {
      "cell_type": "code",
      "metadata": {
        "id": "SDIzJEfFjp13",
        "colab": {
          "base_uri": "https://localhost:8080/",
          "height": 205
        },
        "outputId": "c3b147f2-4ad0-48c4-bbb1-fd5f37443227"
      },
      "source": [
        "unlabel = pd.read_csv(r'/content/drive/My Drive/Research/Unlabeled_data.csv')\n",
        "unlabel.head()"
      ],
      "execution_count": 12,
      "outputs": [
        {
          "output_type": "execute_result",
          "data": {
            "text/html": [
              "<div>\n",
              "<style scoped>\n",
              "    .dataframe tbody tr th:only-of-type {\n",
              "        vertical-align: middle;\n",
              "    }\n",
              "\n",
              "    .dataframe tbody tr th {\n",
              "        vertical-align: top;\n",
              "    }\n",
              "\n",
              "    .dataframe thead th {\n",
              "        text-align: right;\n",
              "    }\n",
              "</style>\n",
              "<table border=\"1\" class=\"dataframe\">\n",
              "  <thead>\n",
              "    <tr style=\"text-align: right;\">\n",
              "      <th></th>\n",
              "      <th>Unnamed: 0</th>\n",
              "      <th>text</th>\n",
              "      <th>Complete</th>\n",
              "    </tr>\n",
              "  </thead>\n",
              "  <tbody>\n",
              "    <tr>\n",
              "      <th>0</th>\n",
              "      <td>0</td>\n",
              "      <td>No motion for rehearing filed.</td>\n",
              "      <td>1</td>\n",
              "    </tr>\n",
              "    <tr>\n",
              "      <th>1</th>\n",
              "      <td>1</td>\n",
              "      <td>— Relator is under accusation of killing her h...</td>\n",
              "      <td>1</td>\n",
              "    </tr>\n",
              "    <tr>\n",
              "      <th>2</th>\n",
              "      <td>2</td>\n",
              "      <td>From an order of the District Judge of the 39t...</td>\n",
              "      <td>1</td>\n",
              "    </tr>\n",
              "    <tr>\n",
              "      <th>3</th>\n",
              "      <td>3</td>\n",
              "      <td>Relator and her husband had been married for a...</td>\n",
              "      <td>1</td>\n",
              "    </tr>\n",
              "    <tr>\n",
              "      <th>4</th>\n",
              "      <td>4</td>\n",
              "      <td>The evidence indicates that their family relat...</td>\n",
              "      <td>1</td>\n",
              "    </tr>\n",
              "  </tbody>\n",
              "</table>\n",
              "</div>"
            ],
            "text/plain": [
              "   Unnamed: 0                                               text  Complete\n",
              "0           0                     No motion for rehearing filed.         1\n",
              "1           1  — Relator is under accusation of killing her h...         1\n",
              "2           2  From an order of the District Judge of the 39t...         1\n",
              "3           3  Relator and her husband had been married for a...         1\n",
              "4           4  The evidence indicates that their family relat...         1"
            ]
          },
          "metadata": {
            "tags": []
          },
          "execution_count": 12
        }
      ]
    },
    {
      "cell_type": "code",
      "metadata": {
        "id": "l0rtoL9ompvc"
      },
      "source": [
        "del unlabel['Complete']\n",
        "del unlabel['Unnamed: 0']"
      ],
      "execution_count": 13,
      "outputs": []
    },
    {
      "cell_type": "code",
      "metadata": {
        "id": "Tk6rkrdemsj1"
      },
      "source": [
        "unlabel['text'] = unlabel['text'].apply(lambda x: \" \".join(x.lower() for x in str(x).split()))\n",
        "unlabel['text'] = unlabel['text'].str.replace('[^\\w\\s]','')\n",
        "from nltk.corpus import stopwords\n",
        "words = stopwords.words('english')\n",
        "unlabel['text'] = unlabel['text'].apply(lambda x: \" \".join(x for x in x.split() if x not in words))\n"
      ],
      "execution_count": 14,
      "outputs": []
    },
    {
      "cell_type": "code",
      "metadata": {
        "id": "-h8wkpm2mv1O",
        "colab": {
          "base_uri": "https://localhost:8080/"
        },
        "outputId": "cf8129c2-418c-4ac1-d3a3-7934d04450d2"
      },
      "source": [
        "from textblob import TextBlob\n",
        "from textblob import Word\n",
        "nltk.download('wordnet')\n",
        "nltk.download('punkt')\n",
        "unlabel['text'] = unlabel['text'].apply(lambda x: TextBlob(x).words)\n",
        "unlabel['text'] = unlabel['text'].apply(lambda x: \" \".join([Word(word).lemmatize() for word in x]))"
      ],
      "execution_count": 15,
      "outputs": [
        {
          "output_type": "stream",
          "text": [
            "[nltk_data] Downloading package wordnet to /root/nltk_data...\n",
            "[nltk_data]   Package wordnet is already up-to-date!\n",
            "[nltk_data] Downloading package punkt to /root/nltk_data...\n",
            "[nltk_data]   Package punkt is already up-to-date!\n"
          ],
          "name": "stdout"
        }
      ]
    },
    {
      "cell_type": "code",
      "metadata": {
        "id": "rIjd4bsBnEJ2"
      },
      "source": [
        "unlabel_1 = unlabel.loc[:unlabel_size]"
      ],
      "execution_count": 16,
      "outputs": []
    },
    {
      "cell_type": "code",
      "metadata": {
        "id": "sLe73vtonE93"
      },
      "source": [
        "def index_reset(unlabel_2):\n",
        "  unlabel_2.reset_index(inplace=True)\n",
        "  del unlabel_2['index']\n",
        "  print(unlabel_2.head())\n",
        "  return unlabel_2"
      ],
      "execution_count": 17,
      "outputs": []
    },
    {
      "cell_type": "code",
      "metadata": {
        "id": "4n2lH1pbnJMp",
        "colab": {
          "base_uri": "https://localhost:8080/"
        },
        "outputId": "2fd6e694-1eeb-43df-c9f9-026b1e887c22"
      },
      "source": [
        "unlabel_1 = index_reset(unlabel_1)"
      ],
      "execution_count": 18,
      "outputs": [
        {
          "output_type": "stream",
          "text": [
            "                                                text\n",
            "0                             motion rehearing filed\n",
            "1    relator accusation killing husband virgil clark\n",
            "2  order district judge 39th judicial district re...\n",
            "3                relator husband married number year\n",
            "4  evidence indicates family relation always plea...\n"
          ],
          "name": "stdout"
        }
      ]
    },
    {
      "cell_type": "code",
      "metadata": {
        "id": "7hmh0ZChoSg0"
      },
      "source": [
        "x_un1 = tfidf_vect.transform(unlabel_1['text'])"
      ],
      "execution_count": 19,
      "outputs": []
    },
    {
      "cell_type": "code",
      "metadata": {
        "colab": {
          "base_uri": "https://localhost:8080/"
        },
        "id": "Tsl3LprbpoXw",
        "outputId": "31abc27c-92fa-4875-8df0-a1f412b4aea0"
      },
      "source": [
        "x_un1.shape\n",
        "pred_unlabel_1 = classifier.predict_proba(x_un1)\n",
        "pred_unlabel_1\n",
        "\n"
      ],
      "execution_count": 20,
      "outputs": [
        {
          "output_type": "execute_result",
          "data": {
            "text/plain": [
              "array([[0.05379252, 0.26285714, 0.33672109, 0.33805782, 0.00285714,\n",
              "        0.00571429],\n",
              "       [0.        , 0.00571429, 0.32857143, 0.62571429, 0.03428571,\n",
              "        0.00571429],\n",
              "       [0.08285714, 0.02285714, 0.52      , 0.26857143, 0.03714286,\n",
              "        0.06857143],\n",
              "       ...,\n",
              "       [0.1       , 0.        , 0.85428571, 0.02571429, 0.01428571,\n",
              "        0.00571429],\n",
              "       [0.02857143, 0.00857143, 0.88571429, 0.05428571, 0.01142857,\n",
              "        0.01142857],\n",
              "       [0.15714286, 0.04857143, 0.48      , 0.30285714, 0.        ,\n",
              "        0.01142857]])"
            ]
          },
          "metadata": {
            "tags": []
          },
          "execution_count": 20
        }
      ]
    },
    {
      "cell_type": "code",
      "metadata": {
        "id": "VhSYNIMhzAcT"
      },
      "source": [
        "\n"
      ],
      "execution_count": 20,
      "outputs": []
    },
    {
      "cell_type": "code",
      "metadata": {
        "colab": {
          "base_uri": "https://localhost:8080/"
        },
        "id": "6uu1LcV41W2F",
        "outputId": "80b9c393-06fc-4d59-ebc2-4852cbc579b7"
      },
      "source": [
        "x_un1.shape"
      ],
      "execution_count": 21,
      "outputs": [
        {
          "output_type": "execute_result",
          "data": {
            "text/plain": [
              "(5001, 7374)"
            ]
          },
          "metadata": {
            "tags": []
          },
          "execution_count": 21
        }
      ]
    },
    {
      "cell_type": "code",
      "metadata": {
        "id": "QW8ovrVt055h"
      },
      "source": [
        ""
      ],
      "execution_count": 21,
      "outputs": []
    },
    {
      "cell_type": "code",
      "metadata": {
        "id": "PD_C1T1O0koo"
      },
      "source": [
        ""
      ],
      "execution_count": 21,
      "outputs": []
    },
    {
      "cell_type": "code",
      "metadata": {
        "id": "1J9Jhpu6p32V"
      },
      "source": [
        ""
      ],
      "execution_count": 21,
      "outputs": []
    },
    {
      "cell_type": "code",
      "metadata": {
        "colab": {
          "base_uri": "https://localhost:8080/"
        },
        "id": "bgghB_vVp7BT",
        "outputId": "d417ca61-6308-41c7-cf94-d36e4a3cf4fe"
      },
      "source": [
        "import numpy as np\n",
        "pos=[]\n",
        "large=[]\n",
        "ind = []\n",
        "i=0\n",
        "for j in pred_unlabel_1:\n",
        "  if max(j)> Threshold:\n",
        "    ind.append(np.argmax(j))\n",
        "    large.append(max(j))\n",
        "    pos.append(i)\n",
        "  i+=1\n",
        "\n",
        "\n",
        "print(ind)\n",
        "print(large)\n",
        "print(pos)\n",
        "print(type(pos))\n",
        "print(len(ind))\n",
        "print(len(large))\n",
        "print(len(pos))"
      ],
      "execution_count": 22,
      "outputs": [
        {
          "output_type": "stream",
          "text": [
            "[2, 2, 1, 1, 2, 2, 1, 1, 3, 1, 2, 3, 2, 2, 2, 2, 2, 2, 1, 3, 1, 3, 3, 2, 2, 2, 2, 2, 2, 2, 2, 2, 2, 2, 2, 2, 2, 2, 2, 2, 2, 2, 2, 1, 2, 3, 1, 2, 3, 1, 2, 2, 1, 3, 2, 2, 1, 2, 2, 2, 2, 2, 2, 2, 1, 2, 2, 2, 1, 2, 3, 3, 2, 2, 2, 3, 1, 1, 2, 2, 2, 2, 3, 3, 3, 1, 2, 3, 2, 3, 3, 2, 2, 2, 2, 3, 2, 2, 2, 2, 2, 2, 1, 1, 2, 3, 2, 2, 2, 2, 2, 1, 2, 2, 2, 2, 2, 2, 2, 2, 2, 2, 2, 2, 2, 2, 2, 2, 2, 2, 3, 2, 2, 2, 2, 2, 2, 2, 2, 2, 2, 2, 2, 2, 2, 3, 3, 3, 1, 1, 2, 2, 2, 2, 2, 2, 2, 2, 2, 2, 2, 2, 2, 2, 2, 2, 1, 1, 1, 2, 2, 2, 2, 3, 2, 3, 2, 2, 2, 2, 3, 2, 2, 2, 2, 2, 2, 3, 2, 2, 2, 3, 3, 2, 2, 2, 1, 2, 2, 2, 2, 1, 2, 1, 1, 2, 2, 2, 2, 2, 2, 2, 2, 2, 1, 2, 1, 2, 1, 2, 1, 2, 3, 3, 3, 3, 3, 2, 2, 2, 3, 3, 2, 2, 2, 1, 2, 2, 1, 1, 2]\n",
            "[0.9428571428571428, 0.9142857142857143, 0.905, 0.9744897959183673, 0.9285714285714286, 0.9142857142857143, 0.9107142857142856, 0.9792857142857143, 0.9514285714285714, 0.9307142857142856, 0.9342857142857143, 0.9428571428571428, 0.9114285714285715, 0.9285714285714286, 0.9257142857142857, 0.9228571428571428, 0.9085714285714286, 0.9285714285714286, 0.9037687074829931, 0.9657142857142857, 0.94, 0.9371428571428572, 0.9028571428571428, 0.9171428571428571, 0.9135714285714286, 0.9542857142857143, 0.9028571428571428, 0.9285714285714286, 0.9457142857142857, 0.9028571428571428, 0.9057142857142857, 0.9028571428571428, 0.9085714285714286, 0.9228571428571428, 0.9285714285714286, 0.92, 0.9171428571428571, 0.9285714285714286, 0.9085714285714286, 0.9114285714285715, 0.9371428571428572, 0.9142857142857143, 0.9371428571428572, 0.9514285714285714, 0.9057142857142857, 0.9028571428571428, 0.9685714285714285, 0.9371428571428572, 0.9742857142857143, 0.9452380952380952, 0.9314285714285714, 0.9285714285714286, 0.931142857142857, 0.96, 0.9142857142857143, 0.9028571428571428, 0.9042857142857142, 0.9457142857142857, 0.9457142857142857, 0.9142857142857143, 0.9142857142857143, 0.9028571428571428, 0.9085714285714286, 0.9485714285714286, 0.9914285714285714, 0.9285714285714286, 0.9285714285714286, 0.9542857142857143, 0.9914285714285714, 0.9571428571428572, 0.9142857142857143, 0.96, 0.9571428571428572, 0.9114285714285715, 0.9057142857142857, 0.9485714285714286, 0.905, 0.9404761904761904, 0.9171428571428571, 0.9314285714285714, 0.9542857142857143, 0.9028571428571428, 0.9257142857142857, 0.9257142857142857, 0.9457142857142857, 0.94, 0.9142857142857143, 0.96, 0.9485714285714286, 0.9142857142857143, 0.92, 0.9628571428571429, 0.9514285714285714, 0.92, 0.9314285714285714, 0.9428571428571428, 0.9314285714285714, 0.9114285714285715, 0.9628571428571429, 0.9371428571428572, 0.96, 0.96, 0.9037687074829931, 0.9971428571428571, 0.9028571428571428, 0.9114285714285715, 0.96, 0.9142857142857143, 0.9171428571428571, 0.9428571428571428, 0.9428571428571428, 0.9390476190476189, 0.9628571428571429, 0.9371428571428572, 0.9028571428571428, 0.9228571428571428, 0.9114285714285715, 0.9171428571428571, 0.9057142857142857, 0.94, 0.9142857142857143, 0.9371428571428572, 0.9142857142857143, 0.9342857142857143, 0.9342857142857143, 0.9257142857142857, 0.9171428571428571, 0.9142857142857143, 0.9485714285714286, 0.9514285714285714, 0.9657142857142857, 0.9314285714285714, 0.9257142857142857, 0.9228571428571428, 0.9342857142857143, 0.9485714285714286, 0.9228571428571428, 0.9171428571428571, 0.9342857142857143, 0.9542857142857143, 0.92, 0.9428571428571428, 0.9142857142857143, 0.9457142857142857, 0.9028571428571428, 0.9428571428571428, 0.9257142857142857, 0.9742857142857143, 0.94, 0.9792857142857143, 0.9142857142857143, 0.9085714285714286, 0.9114285714285715, 0.9485714285714286, 0.9028571428571428, 0.9628571428571429, 0.9685714285714285, 0.9085714285714286, 0.94, 0.9171428571428571, 0.9114285714285715, 0.9485714285714286, 0.9285714285714286, 0.9428571428571428, 0.9257142857142857, 0.9171428571428571, 0.9685714285714285, 0.905, 0.9037687074829931, 0.9057142857142857, 0.9085714285714286, 0.9342857142857143, 0.9228571428571428, 0.9628571428571429, 0.92, 0.9542857142857143, 0.9171428571428571, 0.9171428571428571, 0.9314285714285714, 0.9228571428571428, 0.9085714285714286, 0.9142857142857143, 0.9028571428571428, 0.9257142857142857, 0.9285714285714286, 0.9371428571428572, 0.9371428571428572, 0.9571428571428572, 0.9085714285714286, 0.96, 0.9571428571428572, 0.9457142857142857, 0.9771428571428571, 0.9057142857142857, 0.9657142857142857, 0.9457142857142857, 0.9556802721088434, 0.9085714285714286, 0.9028571428571428, 0.92, 0.9171428571428571, 0.9269047619047618, 0.9085714285714286, 0.9792857142857143, 0.9556802721088434, 0.9342857142857143, 0.9142857142857143, 0.9028571428571428, 0.9457142857142857, 0.9114285714285715, 0.9257142857142857, 0.9057142857142857, 0.9514285714285714, 0.94, 0.9057142857142857, 0.9457142857142857, 0.9452380952380952, 0.9342857142857143, 0.9452380952380952, 0.9428571428571428, 0.9514285714285714, 0.9142857142857143, 0.9771428571428571, 0.9771428571428571, 0.9314285714285714, 0.9771428571428571, 0.9514285714285714, 0.9285714285714286, 0.9171428571428571, 0.9171428571428571, 0.92, 0.9142857142857143, 0.9028571428571428, 0.9057142857142857, 0.9085714285714286, 0.9744897959183673, 0.9257142857142857, 0.9085714285714286, 0.9914285714285714, 0.9037687074829931, 0.9485714285714286]\n",
            "[6, 7, 10, 63, 69, 88, 137, 208, 209, 225, 273, 288, 289, 293, 315, 317, 324, 329, 356, 372, 389, 441, 483, 514, 544, 576, 584, 589, 594, 652, 657, 667, 776, 786, 788, 789, 829, 831, 832, 833, 836, 864, 867, 888, 952, 973, 987, 1016, 1038, 1089, 1159, 1226, 1336, 1402, 1404, 1414, 1442, 1457, 1458, 1459, 1463, 1464, 1466, 1467, 1480, 1526, 1536, 1537, 1545, 1574, 1580, 1589, 1608, 1609, 1788, 1796, 1927, 1984, 2011, 2021, 2022, 2083, 2094, 2099, 2101, 2127, 2144, 2212, 2247, 2308, 2309, 2372, 2441, 2462, 2463, 2471, 2485, 2490, 2491, 2493, 2494, 2553, 2566, 2584, 2602, 2612, 2635, 2675, 2676, 2677, 2682, 2685, 2690, 2693, 2695, 2711, 2714, 2715, 2724, 2725, 2744, 2769, 2803, 2854, 2860, 2902, 2922, 2953, 2986, 2989, 3020, 3063, 3064, 3066, 3096, 3098, 3100, 3104, 3105, 3109, 3113, 3119, 3120, 3121, 3125, 3135, 3206, 3216, 3282, 3308, 3362, 3369, 3374, 3425, 3427, 3429, 3437, 3439, 3440, 3441, 3442, 3446, 3447, 3458, 3573, 3594, 3610, 3642, 3653, 3669, 3698, 3746, 3748, 3757, 3782, 3783, 3790, 3845, 3850, 3851, 3856, 3864, 3887, 3888, 3931, 3942, 3947, 3948, 3951, 3953, 3956, 3960, 3965, 3966, 4064, 4067, 4079, 4099, 4132, 4133, 4135, 4192, 4218, 4231, 4256, 4261, 4292, 4336, 4373, 4394, 4428, 4429, 4433, 4434, 4449, 4451, 4466, 4475, 4489, 4493, 4516, 4519, 4567, 4568, 4675, 4676, 4699, 4713, 4764, 4804, 4827, 4851, 4867, 4868, 4871, 4908, 4913, 4932, 4941, 4956, 4994]\n",
            "<class 'list'>\n",
            "241\n",
            "241\n",
            "241\n"
          ],
          "name": "stdout"
        }
      ]
    },
    {
      "cell_type": "code",
      "metadata": {
        "colab": {
          "base_uri": "https://localhost:8080/",
          "height": 223
        },
        "id": "TBoADjcrp9oK",
        "outputId": "84f60ed1-eb6a-471b-aa50-38b15d6bb4c4"
      },
      "source": [
        "unlabel_1 = unlabel_1.loc[pos,:]\n",
        "train_data_size = len(unlabel_1)\n",
        "print(len(unlabel_1))\n",
        "unlabel_1.head()"
      ],
      "execution_count": 23,
      "outputs": [
        {
          "output_type": "stream",
          "text": [
            "241\n"
          ],
          "name": "stdout"
        },
        {
          "output_type": "execute_result",
          "data": {
            "text/html": [
              "<div>\n",
              "<style scoped>\n",
              "    .dataframe tbody tr th:only-of-type {\n",
              "        vertical-align: middle;\n",
              "    }\n",
              "\n",
              "    .dataframe tbody tr th {\n",
              "        vertical-align: top;\n",
              "    }\n",
              "\n",
              "    .dataframe thead th {\n",
              "        text-align: right;\n",
              "    }\n",
              "</style>\n",
              "<table border=\"1\" class=\"dataframe\">\n",
              "  <thead>\n",
              "    <tr style=\"text-align: right;\">\n",
              "      <th></th>\n",
              "      <th>text</th>\n",
              "    </tr>\n",
              "  </thead>\n",
              "  <tbody>\n",
              "    <tr>\n",
              "      <th>6</th>\n",
              "      <td>brown slept one bed deceased daughter went bed...</td>\n",
              "    </tr>\n",
              "    <tr>\n",
              "      <th>7</th>\n",
              "      <td>short time retired child left deceased bed got...</td>\n",
              "    </tr>\n",
              "    <tr>\n",
              "      <th>10</th>\n",
              "      <td>judgment therefore affirmed</td>\n",
              "    </tr>\n",
              "    <tr>\n",
              "      <th>63</th>\n",
              "      <td>reason stated judgment reversed cause remanded</td>\n",
              "    </tr>\n",
              "    <tr>\n",
              "      <th>69</th>\n",
              "      <td>three people house homicide occurred deceased ...</td>\n",
              "    </tr>\n",
              "  </tbody>\n",
              "</table>\n",
              "</div>"
            ],
            "text/plain": [
              "                                                 text\n",
              "6   brown slept one bed deceased daughter went bed...\n",
              "7   short time retired child left deceased bed got...\n",
              "10                        judgment therefore affirmed\n",
              "63     reason stated judgment reversed cause remanded\n",
              "69  three people house homicide occurred deceased ..."
            ]
          },
          "metadata": {
            "tags": []
          },
          "execution_count": 23
        }
      ]
    },
    {
      "cell_type": "code",
      "metadata": {
        "id": "bFxiAjI5qFbG"
      },
      "source": [
        "class_x_un1 = tfidf_vect.transform(unlabel_1['text'])"
      ],
      "execution_count": 24,
      "outputs": []
    },
    {
      "cell_type": "code",
      "metadata": {
        "colab": {
          "base_uri": "https://localhost:8080/"
        },
        "id": "eYaQliJ5qQCx",
        "outputId": "4c99b132-9cb8-4c11-c7db-95428d499360"
      },
      "source": [
        "class_x_un1.shape"
      ],
      "execution_count": 25,
      "outputs": [
        {
          "output_type": "execute_result",
          "data": {
            "text/plain": [
              "(241, 7374)"
            ]
          },
          "metadata": {
            "tags": []
          },
          "execution_count": 25
        }
      ]
    },
    {
      "cell_type": "code",
      "metadata": {
        "colab": {
          "base_uri": "https://localhost:8080/"
        },
        "id": "q621acQ2qRkp",
        "outputId": "c3a4fdf3-53b6-4ccc-ec52-d9ac95707a48"
      },
      "source": [
        "\n",
        "class_pred_unlabel_1 = classifier.predict(class_x_un1)\n",
        "class_pred_unlabel_1\n"
      ],
      "execution_count": 26,
      "outputs": [
        {
          "output_type": "execute_result",
          "data": {
            "text/plain": [
              "array(['Facts', 'Facts', 'Conclusion', 'Conclusion', 'Facts', 'Facts',\n",
              "       'Conclusion', 'Conclusion', 'Invalid', 'Conclusion', 'Facts',\n",
              "       'Invalid', 'Facts', 'Facts', 'Facts', 'Facts', 'Facts', 'Facts',\n",
              "       'Conclusion', 'Invalid', 'Conclusion', 'Invalid', 'Invalid',\n",
              "       'Facts', 'Facts', 'Facts', 'Facts', 'Facts', 'Facts', 'Facts',\n",
              "       'Facts', 'Facts', 'Facts', 'Facts', 'Facts', 'Facts', 'Facts',\n",
              "       'Facts', 'Facts', 'Facts', 'Facts', 'Facts', 'Facts', 'Conclusion',\n",
              "       'Facts', 'Invalid', 'Conclusion', 'Facts', 'Invalid', 'Conclusion',\n",
              "       'Facts', 'Facts', 'Conclusion', 'Invalid', 'Facts', 'Facts',\n",
              "       'Conclusion', 'Facts', 'Facts', 'Facts', 'Facts', 'Facts', 'Facts',\n",
              "       'Facts', 'Conclusion', 'Facts', 'Facts', 'Facts', 'Conclusion',\n",
              "       'Facts', 'Invalid', 'Invalid', 'Facts', 'Facts', 'Facts',\n",
              "       'Invalid', 'Conclusion', 'Conclusion', 'Facts', 'Facts', 'Facts',\n",
              "       'Facts', 'Invalid', 'Invalid', 'Invalid', 'Conclusion', 'Facts',\n",
              "       'Invalid', 'Facts', 'Invalid', 'Invalid', 'Facts', 'Facts',\n",
              "       'Facts', 'Facts', 'Invalid', 'Facts', 'Facts', 'Facts', 'Facts',\n",
              "       'Facts', 'Facts', 'Conclusion', 'Conclusion', 'Facts', 'Invalid',\n",
              "       'Facts', 'Facts', 'Facts', 'Facts', 'Facts', 'Conclusion', 'Facts',\n",
              "       'Facts', 'Facts', 'Facts', 'Facts', 'Facts', 'Facts', 'Facts',\n",
              "       'Facts', 'Facts', 'Facts', 'Facts', 'Facts', 'Facts', 'Facts',\n",
              "       'Facts', 'Facts', 'Facts', 'Invalid', 'Facts', 'Facts', 'Facts',\n",
              "       'Facts', 'Facts', 'Facts', 'Facts', 'Facts', 'Facts', 'Facts',\n",
              "       'Facts', 'Facts', 'Facts', 'Facts', 'Invalid', 'Invalid',\n",
              "       'Invalid', 'Conclusion', 'Conclusion', 'Facts', 'Facts', 'Facts',\n",
              "       'Facts', 'Facts', 'Facts', 'Facts', 'Facts', 'Facts', 'Facts',\n",
              "       'Facts', 'Facts', 'Facts', 'Facts', 'Facts', 'Facts', 'Conclusion',\n",
              "       'Conclusion', 'Conclusion', 'Facts', 'Facts', 'Facts', 'Facts',\n",
              "       'Invalid', 'Facts', 'Invalid', 'Facts', 'Facts', 'Facts', 'Facts',\n",
              "       'Invalid', 'Facts', 'Facts', 'Facts', 'Facts', 'Facts', 'Facts',\n",
              "       'Invalid', 'Facts', 'Facts', 'Facts', 'Invalid', 'Invalid',\n",
              "       'Facts', 'Facts', 'Facts', 'Conclusion', 'Facts', 'Facts', 'Facts',\n",
              "       'Facts', 'Conclusion', 'Facts', 'Conclusion', 'Conclusion',\n",
              "       'Facts', 'Facts', 'Facts', 'Facts', 'Facts', 'Facts', 'Facts',\n",
              "       'Facts', 'Facts', 'Conclusion', 'Facts', 'Conclusion', 'Facts',\n",
              "       'Conclusion', 'Facts', 'Conclusion', 'Facts', 'Invalid', 'Invalid',\n",
              "       'Invalid', 'Invalid', 'Invalid', 'Facts', 'Facts', 'Facts',\n",
              "       'Invalid', 'Invalid', 'Facts', 'Facts', 'Facts', 'Conclusion',\n",
              "       'Facts', 'Facts', 'Conclusion', 'Conclusion', 'Facts'],\n",
              "      dtype=object)"
            ]
          },
          "metadata": {
            "tags": []
          },
          "execution_count": 26
        }
      ]
    },
    {
      "cell_type": "code",
      "metadata": {
        "colab": {
          "base_uri": "https://localhost:8080/",
          "height": 205
        },
        "id": "oALikOYxqUdr",
        "outputId": "c9758e9f-b74b-4df7-ca45-404349e472be"
      },
      "source": [
        "unlabel_1['Target']=class_pred_unlabel_1\n",
        "unlabel_1.head()"
      ],
      "execution_count": 27,
      "outputs": [
        {
          "output_type": "execute_result",
          "data": {
            "text/html": [
              "<div>\n",
              "<style scoped>\n",
              "    .dataframe tbody tr th:only-of-type {\n",
              "        vertical-align: middle;\n",
              "    }\n",
              "\n",
              "    .dataframe tbody tr th {\n",
              "        vertical-align: top;\n",
              "    }\n",
              "\n",
              "    .dataframe thead th {\n",
              "        text-align: right;\n",
              "    }\n",
              "</style>\n",
              "<table border=\"1\" class=\"dataframe\">\n",
              "  <thead>\n",
              "    <tr style=\"text-align: right;\">\n",
              "      <th></th>\n",
              "      <th>text</th>\n",
              "      <th>Target</th>\n",
              "    </tr>\n",
              "  </thead>\n",
              "  <tbody>\n",
              "    <tr>\n",
              "      <th>6</th>\n",
              "      <td>brown slept one bed deceased daughter went bed...</td>\n",
              "      <td>Facts</td>\n",
              "    </tr>\n",
              "    <tr>\n",
              "      <th>7</th>\n",
              "      <td>short time retired child left deceased bed got...</td>\n",
              "      <td>Facts</td>\n",
              "    </tr>\n",
              "    <tr>\n",
              "      <th>10</th>\n",
              "      <td>judgment therefore affirmed</td>\n",
              "      <td>Conclusion</td>\n",
              "    </tr>\n",
              "    <tr>\n",
              "      <th>63</th>\n",
              "      <td>reason stated judgment reversed cause remanded</td>\n",
              "      <td>Conclusion</td>\n",
              "    </tr>\n",
              "    <tr>\n",
              "      <th>69</th>\n",
              "      <td>three people house homicide occurred deceased ...</td>\n",
              "      <td>Facts</td>\n",
              "    </tr>\n",
              "  </tbody>\n",
              "</table>\n",
              "</div>"
            ],
            "text/plain": [
              "                                                 text      Target\n",
              "6   brown slept one bed deceased daughter went bed...       Facts\n",
              "7   short time retired child left deceased bed got...       Facts\n",
              "10                        judgment therefore affirmed  Conclusion\n",
              "63     reason stated judgment reversed cause remanded  Conclusion\n",
              "69  three people house homicide occurred deceased ...       Facts"
            ]
          },
          "metadata": {
            "tags": []
          },
          "execution_count": 27
        }
      ]
    },
    {
      "cell_type": "code",
      "metadata": {
        "id": "X0PUHV-BxT-S"
      },
      "source": [
        ""
      ],
      "execution_count": 27,
      "outputs": []
    },
    {
      "cell_type": "code",
      "metadata": {
        "colab": {
          "base_uri": "https://localhost:8080/"
        },
        "id": "-XMqT4s8qbEu",
        "outputId": "62d8c112-51e8-4625-b0cd-f9443ce73b25"
      },
      "source": [
        "from sklearn.metrics import classification_report\n",
        "from sklearn import svm\n",
        "\n",
        "x_train_1 = tfidf_vect.transform(unlabel_1['text'])\n",
        "x_train_1.shape\n",
        "X_train, x_val, Y_train, y_val = train_test_split(x_train_1,unlabel_1['Target'],test_size=0.25,random_state=2)\n",
        "classifier_1 = RandomForestClassifier(n_estimators = 350, criterion = 'gini', max_features = 'auto', random_state = 42)\n",
        "classifier_1.fit(X_train, Y_train)\n",
        "y_pred = classifier_1.predict(x_val)\n",
        "Accuracy_score = accuracy_score(y_pred,y_val)\n",
        "\n",
        "print('Validation ------- Accuracy_score: %f' % Accuracy_score)\n",
        "\n",
        "test_pred = classifier_1.predict(t_p)\n",
        "acc_test = accuracy_score(test_pred,test['Target'])\n",
        "print('Test ------Accuracy score ', acc_test)\n",
        "matrix = confusion_matrix(y_pred, y_val)\n",
        "print(matrix)\n",
        "print(\"---------validation--------------\")\n",
        "print(classification_report(y_val,y_pred,digits=4))\n",
        "print(\"----------test---------------------\")\n",
        "classification_report_semi_supervised = classification_report(test['Target'],test_pred, digits=4)\n",
        "print(classification_report_semi_supervised)"
      ],
      "execution_count": 28,
      "outputs": [
        {
          "output_type": "stream",
          "text": [
            "Validation ------- Accuracy_score: 0.983607\n",
            "Test ------Accuracy score  0.418426103646833\n",
            "[[ 8  0  0]\n",
            " [ 0 46  0]\n",
            " [ 0  1  6]]\n",
            "---------validation--------------\n",
            "              precision    recall  f1-score   support\n",
            "\n",
            "  Conclusion     1.0000    1.0000    1.0000         8\n",
            "       Facts     1.0000    0.9787    0.9892        47\n",
            "     Invalid     0.8571    1.0000    0.9231         6\n",
            "\n",
            "    accuracy                         0.9836        61\n",
            "   macro avg     0.9524    0.9929    0.9708        61\n",
            "weighted avg     0.9859    0.9836    0.9841        61\n",
            "\n",
            "----------test---------------------\n",
            "                  precision    recall  f1-score   support\n",
            "\n",
            "        Analysis     0.0000    0.0000    0.0000        77\n",
            "      Conclusion     0.6250    0.3846    0.4762        26\n",
            "           Facts     0.6604    0.5243    0.5846       267\n",
            "         Invalid     0.2321    0.8193    0.3617        83\n",
            "           Issue     0.0000    0.0000    0.0000        34\n",
            "Rule/Law/Holding     0.0000    0.0000    0.0000        34\n",
            "\n",
            "        accuracy                         0.4184       521\n",
            "       macro avg     0.2529    0.2880    0.2371       521\n",
            "    weighted avg     0.4066    0.4184    0.3810       521\n",
            "\n"
          ],
          "name": "stdout"
        },
        {
          "output_type": "stream",
          "text": [
            "/usr/local/lib/python3.7/dist-packages/sklearn/metrics/_classification.py:1272: UndefinedMetricWarning: Precision and F-score are ill-defined and being set to 0.0 in labels with no predicted samples. Use `zero_division` parameter to control this behavior.\n",
            "  _warn_prf(average, modifier, msg_start, len(result))\n"
          ],
          "name": "stderr"
        }
      ]
    },
    {
      "cell_type": "code",
      "metadata": {
        "id": "aT8dxqygtLbO"
      },
      "source": [
        "\n",
        "# Write line to file\n",
        "\n",
        "with open('/content/drive/My Drive/Research/Results/Example2.txt', 'a') as writefile:\n",
        "  writefile.write(\"\\n\")\n",
        "  writefile.write(\" RF \")\n",
        "  writefile.write(\"\\n\")\n",
        "  writefile.write(\"Threshold = \")\n",
        "  writefile.write(str(Threshold))\n",
        "  writefile.write(\"\\n\")\n",
        "  writefile.write(\"unlabel size  = \")\n",
        "  writefile.write(str(unlabel_size))\n",
        "  writefile.write(\"\\n\")\n",
        "  writefile.write(\"train data size  = \")\n",
        "  writefile.write(str(train_data_size))\n",
        "  writefile.write(\"\\n\")\n",
        "  writefile.write(\"Supervised Resutls on Test Data\")\n",
        "  writefile.write(\"\\n\")\n",
        "  writefile.write(classification_report_supervised)\n",
        "  writefile.write(\"\\n\")\n",
        "  writefile.write(\"Semi Supervised Resutls on Test Data\")\n",
        "  writefile.write(\"\\n\")\n",
        "  writefile.write(classification_report_semi_supervised)"
      ],
      "execution_count": 29,
      "outputs": []
    }
  ]
}